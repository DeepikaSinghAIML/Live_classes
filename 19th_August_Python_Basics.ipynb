{
 "cells": [
  {
   "cell_type": "markdown",
   "id": "fbacc580",
   "metadata": {},
   "source": [
    "# Python Basics Variable"
   ]
  },
  {
   "cell_type": "markdown",
   "id": "1bb741e0",
   "metadata": {},
   "source": [
    "**Q1**: Declare two variables, `x` and `y`, and assign them integer values.\n",
    "Swap the values of these variables without using any temporary\n",
    "variable."
   ]
  },
  {
   "cell_type": "code",
   "execution_count": 1,
   "id": "5027c460",
   "metadata": {},
   "outputs": [],
   "source": [
    "x=24\n",
    "y=32 "
   ]
  },
  {
   "cell_type": "code",
   "execution_count": 2,
   "id": "40ae3abd",
   "metadata": {},
   "outputs": [],
   "source": [
    "x=x+y   #x=24+32 i.e. x=56\n",
    "y=x-y   #y=56-32 i.e. y=24\n",
    "x=x-y   #x=56-24 i.e. y=32"
   ]
  },
  {
   "cell_type": "code",
   "execution_count": 3,
   "id": "c471fe66",
   "metadata": {},
   "outputs": [
    {
     "name": "stdout",
     "output_type": "stream",
     "text": [
      "value of x is  32\n",
      "value of y is  24\n"
     ]
    }
   ],
   "source": [
    "print(\"value of x is \",x)\n",
    "print(\"value of y is \",y)"
   ]
  },
  {
   "cell_type": "markdown",
   "id": "ed3c1c5a",
   "metadata": {},
   "source": [
    "**Q2**: Create a program that calculates the area of a rectangle. Take the\n",
    "length and width as inputs from the user and store them in variables.\n",
    "Calculate and display the area."
   ]
  },
  {
   "cell_type": "code",
   "execution_count": 8,
   "id": "4374eae5",
   "metadata": {},
   "outputs": [
    {
     "name": "stdout",
     "output_type": "stream",
     "text": [
      "Enter length:56\n",
      "Enter Width:89\n",
      "Area of rectangle is  4984.0\n"
     ]
    }
   ],
   "source": [
    "l=float(input(\"Enter length:\"))\n",
    "w=float(input(\"Enter Width:\"))\n",
    "a=l*w\n",
    "print(\"Area of rectangle is \",a)"
   ]
  },
  {
   "cell_type": "markdown",
   "id": "03beb4fd",
   "metadata": {},
   "source": [
    "**Q3**: Write a Python program that converts temperature from Celsius to\n",
    "Fahrenheit. Take the temperature in Celsius as input, store it in a\n",
    "variable, convert it to Fahrenheit, and display the result."
   ]
  },
  {
   "cell_type": "code",
   "execution_count": 9,
   "id": "5240578a",
   "metadata": {},
   "outputs": [
    {
     "name": "stdout",
     "output_type": "stream",
     "text": [
      "Enter the temperature in Celcius:37\n",
      "Temperature in Fahrenheit is  98.60000000000001\n"
     ]
    }
   ],
   "source": [
    "c=float(input(\"Enter the temperature in Celcius:\"))\n",
    "f=(1.8*c)+32\n",
    "print(\"Temperature in Fahrenheit is \",f)"
   ]
  },
  {
   "cell_type": "markdown",
   "id": "b1ef6b44",
   "metadata": {},
   "source": [
    "# String Based Questions"
   ]
  },
  {
   "cell_type": "markdown",
   "id": "ae5e4ebe",
   "metadata": {},
   "source": [
    "**Q1**: Write a Python program that takes a string as input and prints the\n",
    "length of the string."
   ]
  },
  {
   "cell_type": "code",
   "execution_count": 10,
   "id": "9a62891b",
   "metadata": {},
   "outputs": [
    {
     "name": "stdout",
     "output_type": "stream",
     "text": [
      "Enter a String:Deepika\n",
      "The length of String is 7\n"
     ]
    }
   ],
   "source": [
    "s=input(\"Enter a String:\")\n",
    "l=len(s)\n",
    "print(\"The length of String is\",l)"
   ]
  },
  {
   "cell_type": "markdown",
   "id": "44948c31",
   "metadata": {},
   "source": [
    "**Q2**: Create a program that takes a sentence from the user and counts the\n",
    "number of vowels (a, e, i, o, u) in the string."
   ]
  },
  {
   "cell_type": "code",
   "execution_count": 14,
   "id": "0b45ff80",
   "metadata": {},
   "outputs": [
    {
     "name": "stdout",
     "output_type": "stream",
     "text": [
      "Enter a sentence:My name is Deepika Singh\n",
      "No. of vowels in the sentence are 8\n"
     ]
    }
   ],
   "source": [
    "s1=input(\"Enter a sentence:\")\n",
    "def vowel_count(s):\n",
    "    vowels='aeiouAEIOU'\n",
    "    c=0\n",
    "    for i in s:\n",
    "        if i in vowels:\n",
    "            c=c+1\n",
    "    return c\n",
    "num_vowels=vowel_count(s1)\n",
    "print(f\"No. of vowels in the sentence are {num_vowels}\")"
   ]
  },
  {
   "cell_type": "markdown",
   "id": "4ae9c31f",
   "metadata": {},
   "source": [
    "**Q3**: Given a string, reverse the order of characters using string slicing and\n",
    "print the reversed string."
   ]
  },
  {
   "cell_type": "code",
   "execution_count": 16,
   "id": "2be097e2",
   "metadata": {},
   "outputs": [
    {
     "name": "stdout",
     "output_type": "stream",
     "text": [
      "Enter a String:Deepika Singh\n",
      "The reversed string is hgniS akipeeD\n"
     ]
    }
   ],
   "source": [
    "s2=input(\"Enter a String:\")\n",
    "rev=s2[::-1]\n",
    "print(\"The reversed string is\",rev)"
   ]
  },
  {
   "cell_type": "markdown",
   "id": "f79098a9",
   "metadata": {},
   "source": [
    "**Q4**: Write a program that takes a string as input and checks if it is a\n",
    "palindrome (reads the same forwards and backwards)."
   ]
  },
  {
   "cell_type": "code",
   "execution_count": 26,
   "id": "d9046965",
   "metadata": {},
   "outputs": [
    {
     "name": "stdout",
     "output_type": "stream",
     "text": [
      "Enter the String:Madam\n",
      "String is pallindrome\n"
     ]
    }
   ],
   "source": [
    "s3=input(\"Enter the String:\")\n",
    "cln_str=s3.lower()\n",
    "rev=cln_str[::-1]\n",
    "if rev==cln_str:\n",
    "    print(\"String is pallindrome\")\n",
    "else:\n",
    "    print(\"String is not pallindrome\")"
   ]
  },
  {
   "cell_type": "markdown",
   "id": "fcd8ae00",
   "metadata": {},
   "source": [
    "**Q5**: Create a program that takes a string as input and removes all the\n",
    "spaces from it. Print the modified string without spaces."
   ]
  },
  {
   "cell_type": "code",
   "execution_count": 29,
   "id": "631e932e",
   "metadata": {},
   "outputs": [
    {
     "name": "stdout",
     "output_type": "stream",
     "text": [
      "Enter the String:it is raining outside\n",
      "The modified string is  itisrainingoutside\n"
     ]
    }
   ],
   "source": [
    "s4=input(\"Enter the String:\")\n",
    "modified_str=s4.replace(\" \",\"\")\n",
    "print(\"The modified string is \",modified_str)"
   ]
  },
  {
   "cell_type": "code",
   "execution_count": null,
   "id": "60888469",
   "metadata": {},
   "outputs": [],
   "source": []
  }
 ],
 "metadata": {
  "kernelspec": {
   "display_name": "Python 3 (ipykernel)",
   "language": "python",
   "name": "python3"
  },
  "language_info": {
   "codemirror_mode": {
    "name": "ipython",
    "version": 3
   },
   "file_extension": ".py",
   "mimetype": "text/x-python",
   "name": "python",
   "nbconvert_exporter": "python",
   "pygments_lexer": "ipython3",
   "version": "3.10.4"
  }
 },
 "nbformat": 4,
 "nbformat_minor": 5
}
