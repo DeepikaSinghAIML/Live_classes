{
 "cells": [
  {
   "cell_type": "markdown",
   "id": "e8dae4ac-0f7c-4bad-aecf-0659a1ff5a69",
   "metadata": {},
   "source": [
    "**Q1: Given an array of n numbers, give an algorithm which gives the element appearing maximum\n",
    "number of times?**"
   ]
  },
  {
   "cell_type": "code",
   "execution_count": 3,
   "id": "bafc5906-a3b3-4e1e-938b-aaf0ce98e39a",
   "metadata": {},
   "outputs": [
    {
     "name": "stdout",
     "output_type": "stream",
     "text": [
      "6\n"
     ]
    }
   ],
   "source": [
    "def get_max(arr):\n",
    "    if not arr:\n",
    "        return None\n",
    "    element_count={}\n",
    "    for i in arr:\n",
    "        if i in element_count:\n",
    "            element_count[i]+=1\n",
    "        else:\n",
    "            element_count[i]=1\n",
    "\n",
    "    max_count=0\n",
    "    max_frequency_ele=None\n",
    "\n",
    "    for element,count in element_count.items():\n",
    "        if count>max_count:\n",
    "            max_count=count\n",
    "            max_frequency_ele=element\n",
    "    return max_frequency_ele\n",
    "\n",
    "arr=[2,4,6,6,2,6,3]\n",
    "result=get_max(arr)\n",
    "print(result)\n",
    "\n",
    "        "
   ]
  },
  {
   "cell_type": "markdown",
   "id": "982f8360-f499-4734-9765-b81901da2596",
   "metadata": {},
   "source": [
    "**Q2: We are given a list of n-1 integers and these integers are in the range of 1 to n . There are no\n",
    "duplicates in the list. One of the integers is missing in the list. Give an algorithm to find that element Ex:\n",
    "[1,2,4,6,3,7,8] 5 is the missing num.**"
   ]
  },
  {
   "cell_type": "code",
   "execution_count": 3,
   "id": "89e3b24d-7f21-41c4-8864-37a144b35a34",
   "metadata": {},
   "outputs": [
    {
     "name": "stdout",
     "output_type": "stream",
     "text": [
      "5\n"
     ]
    }
   ],
   "source": [
    "#this is not effecient as it has O(n2) complexity\n",
    "def find_missing(l, n):\n",
    "    for i in range(1,n):\n",
    "        if i not in l:\n",
    "            return i\n",
    "\n",
    "l=[1,2,4,6,3,7,8]\n",
    "missed=find_missing(l,8)\n",
    "print(missed)"
   ]
  },
  {
   "cell_type": "code",
   "execution_count": 6,
   "id": "d183e0fd-8a57-4784-89b1-4eddb4f6874e",
   "metadata": {},
   "outputs": [
    {
     "name": "stdout",
     "output_type": "stream",
     "text": [
      "5\n"
     ]
    }
   ],
   "source": [
    "#this is effecient as it has O(n) complexity\n",
    "\n",
    "def missing(l1):\n",
    "    n=len(l1)+1\n",
    "    expected_sum=n*(n+1)//2\n",
    "    actual_summ=sum(l1)\n",
    "    missing_num=expected_sum-actual_summ\n",
    "    return missing_num\n",
    "\n",
    "l1=[1,2,4,6,3,7,8]\n",
    "print(missing(l1))"
   ]
  },
  {
   "cell_type": "markdown",
   "id": "97076c0a-7696-44aa-b3d7-9ff6d660f471",
   "metadata": {},
   "source": [
    "**Q3: Given an array of n positive numbers. All numbers occurs even number of times except 1 which\n",
    "occurs odd number of times. Find that number in O(n) time and O(1) space. Ex: [1,2,3,2,3,1,3]. 3 is repeats odd\n",
    "times.**"
   ]
  },
  {
   "cell_type": "code",
   "execution_count": 19,
   "id": "9ba0433f-58b5-4ac8-85a8-fbb20bdfa7df",
   "metadata": {},
   "outputs": [
    {
     "name": "stdout",
     "output_type": "stream",
     "text": [
      "3\n"
     ]
    }
   ],
   "source": [
    "#here time complexity is O(n) but space complexity is also O(n) because we are using dictionary to store element count\n",
    "def find_odd_occ(arr1):\n",
    "    ele_count={}\n",
    "    for i in arr1:\n",
    "        if i in ele_count:\n",
    "            ele_count[i]+=1\n",
    "        else:\n",
    "            ele_count[i]=1\n",
    "\n",
    "    odd_occur=None\n",
    "    for element, count in ele_count.items():\n",
    "        if count%2!=0:\n",
    "            odd_occur=element\n",
    "    return odd_occur\n",
    "\n",
    "arr1=[1,2,3,2,3,1,3]\n",
    "print(find_odd_occ(arr1))"
   ]
  },
  {
   "cell_type": "code",
   "execution_count": 23,
   "id": "aa26aadc-e715-4da1-b157-0d3818d42d32",
   "metadata": {},
   "outputs": [
    {
     "name": "stdout",
     "output_type": "stream",
     "text": [
      "3\n"
     ]
    }
   ],
   "source": [
    "def find_odd_occ(arr):\n",
    "    result = 0\n",
    "    for number in arr:\n",
    "        result ^= number\n",
    "    return result\n",
    "\n",
    "# Example usage\n",
    "arr = [1, 2, 3, 2, 3, 1, 3]\n",
    "print(find_odd_occ(arr))  # Output: 3\n"
   ]
  },
  {
   "cell_type": "markdown",
   "id": "b327a636-b52b-433e-8921-c5a5ab7ed01a",
   "metadata": {},
   "source": [
    "**Q4: Given an array of n elements. Find two elements in the array such that their sum is equal to given\n",
    "element K.**"
   ]
  },
  {
   "cell_type": "code",
   "execution_count": 2,
   "id": "9e92bbf1-4ad2-4dca-9543-a742b1801f68",
   "metadata": {},
   "outputs": [
    {
     "name": "stdout",
     "output_type": "stream",
     "text": [
      "Pair found:(6, 10)\n"
     ]
    }
   ],
   "source": [
    "def find_pair(arr, k):\n",
    "    seen_elements=set()\n",
    "    for i in arr:\n",
    "        complement=k-i\n",
    "        if complement in seen_elements:\n",
    "            return (complement, i)\n",
    "        seen_elements.add(i)\n",
    "    return None\n",
    "\n",
    "arr=[1,4,45,6,10,-8]\n",
    "k=16\n",
    "result=find_pair(arr, k)\n",
    "if result:\n",
    "    print(f\"Pair found:{result}\")\n",
    "else:\n",
    "    print(\"Pair not found\")\n",
    "        "
   ]
  },
  {
   "cell_type": "markdown",
   "id": "ad57af2c-ceb7-4453-b72c-32823881e7d6",
   "metadata": {},
   "source": [
    "**Q5: Given an array of both positive and negative numbers, find two numbers such that their sum is\n",
    "closest to 0. Ex: [ 1 ,60 ,-10, 70, -80,85]. Ans : -80,85.**"
   ]
  },
  {
   "cell_type": "code",
   "execution_count": 4,
   "id": "26dfd5ef-3841-4b1c-983e-4d927ff2055a",
   "metadata": {},
   "outputs": [
    {
     "name": "stdout",
     "output_type": "stream",
     "text": [
      "(-80, 85)\n"
     ]
    }
   ],
   "source": [
    "def close_pair(arr):\n",
    "    arr.sort()\n",
    "    left=0\n",
    "    right=len(arr)-1\n",
    "    min_sum=float('inf')\n",
    "    closest_pair=(None, None)\n",
    "\n",
    "    while(left<right):\n",
    "        current_sum=arr[left]+arr[right]\n",
    "        if abs(current_sum)<abs(min_sum):\n",
    "            min_sum=current_sum\n",
    "            closest_pair=(arr[left],arr[right])\n",
    "\n",
    "        if current_sum<0:\n",
    "            left+=1\n",
    "        else:\n",
    "            right-=1\n",
    "    return closest_pair\n",
    "\n",
    "arr=[1 ,60 ,-10, 70, -80,85]\n",
    "print(close_pair(arr))"
   ]
  },
  {
   "cell_type": "markdown",
   "id": "f11775e3-b789-41ea-86b5-4922e19f1d82",
   "metadata": {},
   "source": [
    "**Q6: Given an array of n elements . Find three elements such that their sum is equal to the given\n",
    "number.**"
   ]
  },
  {
   "cell_type": "code",
   "execution_count": 5,
   "id": "7f2553f2-c3bf-4cfd-ad01-8d3af955bf82",
   "metadata": {},
   "outputs": [
    {
     "name": "stdout",
     "output_type": "stream",
     "text": [
      "Triplet found: (4, 8, 10)\n"
     ]
    }
   ],
   "source": [
    "def find_three_elements(arr, k):\n",
    "    arr.sort()\n",
    "    n=len(arr)\n",
    "\n",
    "    for i in range(n-2):\n",
    "        left=i+1\n",
    "        right=n-1\n",
    "\n",
    "        while left<right:\n",
    "            current_sum=arr[i]+arr[left]+arr[right]\n",
    "            if current_sum==k:\n",
    "                return (arr[i], arr[left], arr[right])\n",
    "            elif current_sum<k:\n",
    "                left+=1\n",
    "            else:\n",
    "                right-=1\n",
    "\n",
    "    return None\n",
    "\n",
    "arr = [1, 4, 45, 6, 10, 8]\n",
    "k=22\n",
    "result1 = find_three_elements(arr, k)\n",
    "if result1:\n",
    "    print(\"Triplet found:\", result1)\n",
    "else:\n",
    "    print(\"No triplet found\")"
   ]
  },
  {
   "cell_type": "markdown",
   "id": "a92b17d2-3b66-4dfc-8c7d-e8f7f5754e7f",
   "metadata": {},
   "source": [
    "**Q7: Given an array of n elements . Find three elements i, j, k in the array such that\n",
    "i * i + j * j = k*k.**"
   ]
  },
  {
   "cell_type": "code",
   "execution_count": 6,
   "id": "5f200f29-d8da-4e53-88e3-34147cf7961f",
   "metadata": {},
   "outputs": [
    {
     "name": "stdout",
     "output_type": "stream",
     "text": [
      "Triplets found: (3, 4, 5)\n"
     ]
    }
   ],
   "source": [
    "def find_triplets(arr):\n",
    "    arr.sort()\n",
    "    n=len(arr)\n",
    "\n",
    "    square={x*x for x in arr}\n",
    "    for i in range(n):\n",
    "        for j in range(i+1,n):\n",
    "            sum_of_squares=arr[i]*arr[i]+arr[j]*arr[j]\n",
    "            if sum_of_squares in square:\n",
    "                k=int(sum_of_squares**0.5)\n",
    "                if k in arr:\n",
    "                    return (arr[i], arr[j],k)\n",
    "    return None\n",
    "\n",
    "arr=[3,1,4,6,5]\n",
    "result2=find_triplets(arr)\n",
    "if result2:\n",
    "    print(\"Triplets found:\", result2)\n",
    "else:\n",
    "    print(\"No triplets found\")"
   ]
  },
  {
   "cell_type": "markdown",
   "id": "08c464ea-9e7b-47a6-9da6-17f0d62b3c5a",
   "metadata": {},
   "source": [
    "**Q8: An element is a majority if it appears more than n/2 times. Give an algorithm takes an array of n\n",
    "element as argument and identifies a majority (if it exists).**"
   ]
  },
  {
   "cell_type": "code",
   "execution_count": 10,
   "id": "54092b31-2fc9-4f69-a9f3-355c8aeb0fc0",
   "metadata": {},
   "outputs": [
    {
     "name": "stdout",
     "output_type": "stream",
     "text": [
      "majority element: 2\n"
     ]
    }
   ],
   "source": [
    "def majority(arr):\n",
    "    candidate=None\n",
    "    count=0\n",
    "\n",
    "    for element in arr:\n",
    "        if count==0:\n",
    "            candidate=element\n",
    "        count+=1 if element==candidate else -1\n",
    "\n",
    "    count=sum(1 for element in arr if element==candidate)\n",
    "    if count>len(arr)//2:\n",
    "        return candidate\n",
    "    else:\n",
    "        return None\n",
    "\n",
    "arr = [2, 2, 1, 1, 2, 2, 2]\n",
    "majority_element=majority(arr)\n",
    "\n",
    "if majority_element is not None:\n",
    "    print(\"majority element:\", majority_element)\n",
    "else:\n",
    "    print(\"no majority element found\")"
   ]
  },
  {
   "cell_type": "markdown",
   "id": "956dfbb7-c869-423f-9bc1-de5567a91c5a",
   "metadata": {},
   "source": [
    "**Q9: Given n × n matrix, and in each row all 1’s are followed by 0’s. Find the row with the maximum\n",
    "number of 0’s.**"
   ]
  },
  {
   "cell_type": "code",
   "execution_count": 2,
   "id": "633fe88a-c4f4-4e02-bae9-e9d6e6c3e52d",
   "metadata": {},
   "outputs": [
    {
     "name": "stdout",
     "output_type": "stream",
     "text": [
      "The row with the maximum number of zeros is: 3\n"
     ]
    }
   ],
   "source": [
    "def find_row(matrix):\n",
    "    n=len(matrix)\n",
    "    max_row_index=0\n",
    "    max_zero=0\n",
    "\n",
    "    row=0\n",
    "    col=n-1\n",
    "\n",
    "    while row<n and col>=0:\n",
    "        \n",
    "        if matrix[row][col]==0:\n",
    "            col-=1\n",
    "            max_row_index=row\n",
    "            max_zero=n-col-1\n",
    "        else:\n",
    "            row+=1\n",
    "\n",
    "    return max_row_index\n",
    "\n",
    "matrix=[\n",
    "    [1,1,1,0],\n",
    "    [1,1,0,0],\n",
    "    [1,0,0,0],\n",
    "    [0,0,0,0]\n",
    "]\n",
    "\n",
    "row_with_max_zeros = find_row(matrix)\n",
    "print(f\"The row with the maximum number of zeros is: {row_with_max_zeros}\")"
   ]
  },
  {
   "cell_type": "markdown",
   "id": "1aa77406-92bc-4676-b2af-6f17a16a0204",
   "metadata": {},
   "source": [
    "**Q10: Sort an array of 0’s, 1’s and 2’s [or R’s, G’s and B’s]: Given an array A[] consisting of 0’s, 1’s and\n",
    "2’s, give an algorithm for sorting A[].The algorithm should put all 0’s first, then all 1’s and finally all 2’s at the\n",
    "end. Example Input = {0,1,1,0,1,2,1,2,0,0,0,1}, Output = {0,0,0,0,0,1,1,1,1,1,2,2}**"
   ]
  },
  {
   "cell_type": "code",
   "execution_count": 3,
   "id": "849d82ba-2f09-4aa8-bcd7-7a57c3c01caf",
   "metadata": {},
   "outputs": [
    {
     "name": "stdout",
     "output_type": "stream",
     "text": [
      "[0, 0, 0, 0, 0, 1, 1, 1, 1, 1, 2, 2]\n"
     ]
    }
   ],
   "source": [
    "def sort_colors(arr):\n",
    "    low=0\n",
    "    mid=0\n",
    "    high=len(arr)-1\n",
    "\n",
    "    while mid<=high:\n",
    "        if arr[mid]==0:\n",
    "            arr[low], arr[mid]= arr[mid], arr[low]\n",
    "            low+=1\n",
    "            mid+=1\n",
    "\n",
    "        elif arr[mid]==1:\n",
    "            mid+=1\n",
    "        else:\n",
    "            arr[mid], arr[high]=arr[high], arr[mid]\n",
    "            high-=1\n",
    "\n",
    "arr = [0, 1, 1, 0, 1, 2, 1, 2, 0, 0, 0, 1]\n",
    "sort_colors(arr)\n",
    "print(arr)"
   ]
  },
  {
   "cell_type": "code",
   "execution_count": null,
   "id": "3fe670be-dcea-43ba-b7ea-3ca7c4c5a844",
   "metadata": {},
   "outputs": [],
   "source": []
  }
 ],
 "metadata": {
  "kernelspec": {
   "display_name": "Python 3 (ipykernel)",
   "language": "python",
   "name": "python3"
  },
  "language_info": {
   "codemirror_mode": {
    "name": "ipython",
    "version": 3
   },
   "file_extension": ".py",
   "mimetype": "text/x-python",
   "name": "python",
   "nbconvert_exporter": "python",
   "pygments_lexer": "ipython3",
   "version": "3.10.13"
  }
 },
 "nbformat": 4,
 "nbformat_minor": 5
}
