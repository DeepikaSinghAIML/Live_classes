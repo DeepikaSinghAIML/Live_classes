{
 "cells": [
  {
   "cell_type": "markdown",
   "id": "cb8e7b41-8ec7-493f-b50d-71b7df111d1e",
   "metadata": {},
   "source": [
    "# Basic If-else"
   ]
  },
  {
   "cell_type": "markdown",
   "id": "81325f7e-f039-4d76-a6b6-0ac20716e697",
   "metadata": {},
   "source": [
    "**Q1: Write a Python program to check if a given number is positive or negative.**"
   ]
  },
  {
   "cell_type": "code",
   "execution_count": 12,
   "id": "bf63112f-c84a-4e2f-a9a4-fc0cce7c3951",
   "metadata": {},
   "outputs": [
    {
     "name": "stdout",
     "output_type": "stream",
     "text": [
      "Number is zero\n"
     ]
    }
   ],
   "source": [
    "def checkPositive(n):\n",
    "    if n<0:\n",
    "        print(\"Number is negative\")\n",
    "    elif n>0:\n",
    "        print(\"Number is positive\")\n",
    "    else:\n",
    "        print(\"Number is zero\")\n",
    "\n",
    "n=0\n",
    "checkPositive(n)"
   ]
  },
  {
   "cell_type": "markdown",
   "id": "a301944b-732f-4a06-95fb-efd7662709a3",
   "metadata": {},
   "source": [
    "**Q2: Create a program that determines if a person is eligible to vote based on their age.**"
   ]
  },
  {
   "cell_type": "code",
   "execution_count": 15,
   "id": "30413e37-167b-4590-ba62-2aea69d85c1a",
   "metadata": {},
   "outputs": [
    {
     "name": "stdin",
     "output_type": "stream",
     "text": [
      "Enter age 3\n"
     ]
    },
    {
     "name": "stdout",
     "output_type": "stream",
     "text": [
      "wait until you turn 18\n"
     ]
    }
   ],
   "source": [
    "age=int(input(\"Enter age\"))\n",
    "if age>=18:\n",
    "    print(\"eligible to vote\")\n",
    "else:\n",
    "    print(\"wait until you turn 18\")"
   ]
  },
  {
   "cell_type": "markdown",
   "id": "47baf95d-e233-4c11-a138-b18ca7c7bae9",
   "metadata": {},
   "source": [
    "**Q3: Develop a program to find the maximum of two numbers using if-else statements.**"
   ]
  },
  {
   "cell_type": "code",
   "execution_count": 22,
   "id": "38979b4f-99f0-48aa-92bc-858d87896a97",
   "metadata": {},
   "outputs": [
    {
     "name": "stdin",
     "output_type": "stream",
     "text": [
      "Enter first number 5\n",
      "Enter second number 9\n"
     ]
    },
    {
     "name": "stdout",
     "output_type": "stream",
     "text": [
      "9 is max\n"
     ]
    }
   ],
   "source": [
    "a=int(input(\"Enter first number\"))\n",
    "b=int(input(\"Enter second number\"))\n",
    "if a>b:\n",
    "    print(f\"{a} is max\")\n",
    "else:\n",
    "    print(f\"{b} is max\")"
   ]
  },
  {
   "cell_type": "markdown",
   "id": "1f6c8f94-b5e4-4317-aaa9-3f57287ea983",
   "metadata": {},
   "source": [
    "**Q4: Write a Python script to classify a given year as a leap year or not.**"
   ]
  },
  {
   "cell_type": "code",
   "execution_count": 52,
   "id": "b408f543-cee0-4b7c-a305-220530c18778",
   "metadata": {},
   "outputs": [
    {
     "name": "stdin",
     "output_type": "stream",
     "text": [
      "Enter the year 2000\n"
     ]
    },
    {
     "name": "stdout",
     "output_type": "stream",
     "text": [
      "it is a leap year\n"
     ]
    }
   ],
   "source": [
    "y=int(input(\"Enter the year\"))\n",
    "if ((y%4==0 and y%100!=0) or y%400==0):\n",
    "    print(\"it is a leap year\")\n",
    "else:\n",
    "    print(\"not a leap year\")"
   ]
  },
  {
   "cell_type": "markdown",
   "id": "28134b4e-e014-43d9-88de-e06200518c3a",
   "metadata": {},
   "source": [
    "**Q5: Create a program that checks whether a character is a vowel or a consonant.**"
   ]
  },
  {
   "cell_type": "code",
   "execution_count": 26,
   "id": "e834fcd8-1743-4f39-b4bf-c892f1f96bec",
   "metadata": {},
   "outputs": [
    {
     "name": "stdin",
     "output_type": "stream",
     "text": [
      "Enter the character u\n"
     ]
    },
    {
     "name": "stdout",
     "output_type": "stream",
     "text": [
      "u is a vowel\n"
     ]
    }
   ],
   "source": [
    "c=input(\"Enter the character\")\n",
    "vowels=\"aeiouAEIOU\"\n",
    "if c in vowels:\n",
    "    print(f\"{c} is a vowel\")\n",
    "else:\n",
    "    print(f\"{c} is a consonant\")"
   ]
  },
  {
   "cell_type": "markdown",
   "id": "4b46682a-d7ab-4a4b-8616-a882f659add1",
   "metadata": {},
   "source": [
    "**Q6: Implement a program to determine whether a given number is even or odd.**"
   ]
  },
  {
   "cell_type": "code",
   "execution_count": 27,
   "id": "e70a7891-113d-45b2-b919-c1b52cedc576",
   "metadata": {},
   "outputs": [
    {
     "name": "stdin",
     "output_type": "stream",
     "text": [
      "Enter a number 6\n"
     ]
    },
    {
     "name": "stdout",
     "output_type": "stream",
     "text": [
      "number is even\n"
     ]
    }
   ],
   "source": [
    "n2=int(input(\"Enter a number\"))\n",
    "if n2%2==0:\n",
    "    print(\"number is even\")\n",
    "else:\n",
    "    print(\"number is odd\")"
   ]
  },
  {
   "cell_type": "markdown",
   "id": "0de1c244-71d3-4815-9fc0-d26496ca46c1",
   "metadata": {},
   "source": [
    "**Q7: Write a Python function to calculate the absolute value of a number without using the `abs()` function.**"
   ]
  },
  {
   "cell_type": "code",
   "execution_count": 37,
   "id": "fd547e84-c09c-4734-ae84-78dc1c29a3f9",
   "metadata": {},
   "outputs": [
    {
     "name": "stdin",
     "output_type": "stream",
     "text": [
      "Enter the number -8\n"
     ]
    },
    {
     "name": "stdout",
     "output_type": "stream",
     "text": [
      "8\n"
     ]
    }
   ],
   "source": [
    "n3=int(input(\"Enter the number\"))\n",
    "if n3>=0:\n",
    "    print(n3)\n",
    "else:\n",
    "    print(-n3)"
   ]
  },
  {
   "cell_type": "markdown",
   "id": "40b929ca-1cb2-4b5f-9973-45252c6b9111",
   "metadata": {},
   "source": [
    "**Q8: Develop a program that determines the largest of three given numbers using if-else statements.**"
   ]
  },
  {
   "cell_type": "code",
   "execution_count": 39,
   "id": "ba7f8d7e-ecfc-4707-889f-6e62f3b212c6",
   "metadata": {},
   "outputs": [
    {
     "name": "stdin",
     "output_type": "stream",
     "text": [
      "Enter the first number 8\n",
      "Enter the second number 7\n",
      "Enter the third number 0\n"
     ]
    },
    {
     "name": "stdout",
     "output_type": "stream",
     "text": [
      "8 is the largest\n"
     ]
    }
   ],
   "source": [
    "a=int(input(\"Enter the first number\"))\n",
    "b=int(input(\"Enter the second number\"))\n",
    "c=int(input(\"Enter the third number\"))\n",
    "if a>b and a>c:\n",
    "    print(f\"{a} is the largest\")\n",
    "elif b>a and b>c:\n",
    "    print(f\"{b} is the largest\")\n",
    "else:\n",
    "    print(f\"{c} is the largest\")"
   ]
  },
  {
   "cell_type": "markdown",
   "id": "bb2bb11f-fc35-4cd1-811e-1d1da9f7a671",
   "metadata": {},
   "source": [
    "**Q9: Create a program that checks if a given string is a palindrome.**"
   ]
  },
  {
   "cell_type": "code",
   "execution_count": 43,
   "id": "d3c5d286-3a1e-439a-995e-a85561a38448",
   "metadata": {},
   "outputs": [
    {
     "name": "stdin",
     "output_type": "stream",
     "text": [
      "enter the string Madam\n"
     ]
    },
    {
     "name": "stdout",
     "output_type": "stream",
     "text": [
      "string is a pallindrome\n"
     ]
    }
   ],
   "source": [
    "s=input(\"enter the string\").lower()\n",
    "if s==s[::-1]:\n",
    "    print(\"string is a pallindrome\")\n",
    "else:\n",
    "    print(\"string is not a pallindrome\")"
   ]
  },
  {
   "cell_type": "markdown",
   "id": "0381da07-6633-4803-8262-ac3dc3f21c90",
   "metadata": {},
   "source": [
    "**Q10: Write a Python program to calculate the grade based on a student's score.**"
   ]
  },
  {
   "cell_type": "code",
   "execution_count": 46,
   "id": "73adec21-3fc8-4bea-8473-3ff2b185019a",
   "metadata": {},
   "outputs": [
    {
     "name": "stdin",
     "output_type": "stream",
     "text": [
      "Enter the score 90\n"
     ]
    },
    {
     "name": "stdout",
     "output_type": "stream",
     "text": [
      "A+\n"
     ]
    }
   ],
   "source": [
    "score=int(input(\"Enter the score\"))\n",
    "if 90<=score<=100:\n",
    "    print(\"A+\")\n",
    "elif 80<=score<=89:\n",
    "    print(\"A\")\n",
    "elif 70<=score<=79:\n",
    "    print(\"B+\")\n",
    "elif 60<=score<=69:\n",
    "    print(\"B\")\n",
    "elif 50<=score<=59:\n",
    "    print(\"C\")\n",
    "elif 40<=score<=49:\n",
    "    print(\"D\")\n",
    "elif 30<=score<=39:\n",
    "    print(\"E\")\n",
    "else:\n",
    "    print(\"F\")"
   ]
  },
  {
   "cell_type": "markdown",
   "id": "b7deb35a-5590-446f-b319-d6cbb08f13c4",
   "metadata": {},
   "source": [
    "# Nested If-Else"
   ]
  },
  {
   "cell_type": "markdown",
   "id": "da12a54c-3e4a-4c2a-9114-f01b686749e1",
   "metadata": {},
   "source": [
    "**Q11: Write a program to find the largest among three numbers using nested if-else statements.**"
   ]
  },
  {
   "cell_type": "code",
   "execution_count": 47,
   "id": "d813c3b3-c2b8-4b07-8018-5f3e0a34db59",
   "metadata": {},
   "outputs": [
    {
     "name": "stdin",
     "output_type": "stream",
     "text": [
      "Enter the first number 6\n",
      "Enter the second number 8\n",
      "Enter the third number 7\n"
     ]
    },
    {
     "name": "stdout",
     "output_type": "stream",
     "text": [
      "8.0 is the largest\n"
     ]
    }
   ],
   "source": [
    "n4=float(input(\"Enter the first number\"))\n",
    "n5=float(input(\"Enter the second number\"))\n",
    "n6=float(input(\"Enter the third number\"))\n",
    "if n4>=n5:\n",
    "    if n4>=n6:\n",
    "        print(f\"{n4} is the largest\")\n",
    "    else:\n",
    "        print(f\"{n6} is the largest\")\n",
    "else:\n",
    "    if n5>=n6:\n",
    "        print(f\"{n5} is the largest\")\n",
    "    else:\n",
    "        print(f\"{n6} is the largest\")"
   ]
  },
  {
   "cell_type": "markdown",
   "id": "b8de4d28-ff4d-4f4f-af14-382b624b201f",
   "metadata": {},
   "source": [
    "**Q12: Implement a program to determine if a triangle is equilateral, isosceles, or scalene.**"
   ]
  },
  {
   "cell_type": "code",
   "execution_count": 51,
   "id": "cb01c91d-7d5b-4fc3-8142-22132fc16acf",
   "metadata": {},
   "outputs": [
    {
     "name": "stdin",
     "output_type": "stream",
     "text": [
      "Enter the length of one side 9\n",
      "Enter the length of second side 7\n",
      "Enter the length of third side 6\n"
     ]
    },
    {
     "name": "stdout",
     "output_type": "stream",
     "text": [
      "triangle is scalene\n"
     ]
    }
   ],
   "source": [
    "s1=float(input(\"Enter the length of one side\"))\n",
    "s2=float(input(\"Enter the length of second side\"))\n",
    "s3=float(input(\"Enter the length of third side\"))\n",
    "if s1==s2:\n",
    "    if s1==s3:\n",
    "        print(\"triangle is equilateral\")\n",
    "    else:\n",
    "        print(\"triangle is isosceles\")\n",
    "else:\n",
    "    if s2==s3:\n",
    "        print(\"triangle is isosceles\")\n",
    "    else:\n",
    "        print(\"triangle is scalene\")\n"
   ]
  },
  {
   "cell_type": "markdown",
   "id": "8b2ba9b9-62b1-4253-97e5-f16b2e431918",
   "metadata": {},
   "source": [
    "**Q13: Develop a program that checks if a year is a leap year and also if it is a century year.**"
   ]
  },
  {
   "cell_type": "code",
   "execution_count": 56,
   "id": "64be9a0d-830f-491f-8033-a5510b1bf782",
   "metadata": {},
   "outputs": [
    {
     "name": "stdin",
     "output_type": "stream",
     "text": [
      "Enter the year 2019\n"
     ]
    },
    {
     "name": "stdout",
     "output_type": "stream",
     "text": [
      "2019 is neither a leap year nor a century year\n"
     ]
    }
   ],
   "source": [
    "y1=int(input(\"Enter the year\"))\n",
    "if y1%100==0:\n",
    "    if y1%400==0:\n",
    "        print(f\"{y1} is a leap year and a century year\")\n",
    "    else:\n",
    "        print(f\"{y1} is century year and not a leap year\")\n",
    "else:\n",
    "    if y1%4==0:\n",
    "        print(f\"{y1} is a leap year and not a century year\")\n",
    "    else:\n",
    "        print(f\"{y1} is neither a leap year nor a century year\")"
   ]
  },
  {
   "cell_type": "markdown",
   "id": "d016e9ef-7f79-4661-b986-5efb15210f6c",
   "metadata": {},
   "source": [
    "**Q14: Write a Python script to determine if a number is positive, negative, or zero.**"
   ]
  },
  {
   "cell_type": "code",
   "execution_count": 61,
   "id": "3b7226e7-7c76-4b21-b9c8-b99e4038d845",
   "metadata": {},
   "outputs": [
    {
     "name": "stdin",
     "output_type": "stream",
     "text": [
      "Enter the number -9\n"
     ]
    },
    {
     "name": "stdout",
     "output_type": "stream",
     "text": [
      "number is negative\n"
     ]
    }
   ],
   "source": [
    "n7=float(input(\"Enter the number\"))\n",
    "if n7>=0:\n",
    "    if n7==0:\n",
    "        print(\"number is zero\")\n",
    "    else:\n",
    "        print(\"number is positive\")\n",
    "else:\n",
    "    print(\"number is negative\")"
   ]
  },
  {
   "cell_type": "markdown",
   "id": "c6b17642-5540-4256-931f-e3d3ebec2ede",
   "metadata": {},
   "source": [
    "**Q15: Create a program to check if a person is a teenager (between 13 and 19 years old).**"
   ]
  },
  {
   "cell_type": "code",
   "execution_count": 64,
   "id": "ddbc4b4f-02ff-4c1f-bd37-3ed72b44a5d5",
   "metadata": {},
   "outputs": [
    {
     "name": "stdin",
     "output_type": "stream",
     "text": [
      "Enter the age 45\n"
     ]
    },
    {
     "name": "stdout",
     "output_type": "stream",
     "text": [
      "not a teenager\n"
     ]
    }
   ],
   "source": [
    "age2=int(input(\"Enter the age\"))\n",
    "if age2>=13:\n",
    "    if age2<=19:\n",
    "        print(\"person is a teenager\")\n",
    "    else:\n",
    "        print(\"not a teenager\")\n",
    "else:\n",
    "    print(\"not a teenager\")"
   ]
  },
  {
   "cell_type": "markdown",
   "id": "9427170c-5f60-48b6-b01e-a3fef1895da5",
   "metadata": {},
   "source": [
    "**Q16: Develop a program that determines the type of angle based on its measure (acute, obtuse, or right).**"
   ]
  },
  {
   "cell_type": "code",
   "execution_count": 72,
   "id": "28b778ca-90b4-4aa0-a77d-49a9c6fe8697",
   "metadata": {},
   "outputs": [
    {
     "name": "stdin",
     "output_type": "stream",
     "text": [
      "Enter the angle 90\n"
     ]
    },
    {
     "name": "stdout",
     "output_type": "stream",
     "text": [
      "right angle\n"
     ]
    }
   ],
   "source": [
    "angle=float(input(\"Enter the angle\"))\n",
    "if angle>0:\n",
    "    if angle<90:\n",
    "        print(\"acute angle\")\n",
    "    elif angle==90:\n",
    "        print(\"right angle\")\n",
    "    else:\n",
    "        if angle<180:\n",
    "            print(\"obtuse angle\")\n",
    "        else:\n",
    "            print(\"invalid angle\")\n",
    "else:\n",
    "    print(\"invalid angle\")\n",
    "        "
   ]
  },
  {
   "cell_type": "markdown",
   "id": "4a08876a-3642-4bc1-bc74-ce7500b3334f",
   "metadata": {},
   "source": [
    "**Q17: Write a Python program to calculate the roots of a quadratic equation.**"
   ]
  },
  {
   "cell_type": "code",
   "execution_count": 74,
   "id": "1b9aeab6-03b2-47ad-8aa1-fe3b925a1d32",
   "metadata": {},
   "outputs": [
    {
     "name": "stdin",
     "output_type": "stream",
     "text": [
      "Enter coefficient a: 1\n",
      "Enter coefficient b: -3\n",
      "Enter coefficient c: 2\n"
     ]
    },
    {
     "name": "stdout",
     "output_type": "stream",
     "text": [
      "the roots are (2+0j) and (1+0j)\n"
     ]
    }
   ],
   "source": [
    "import cmath\n",
    "\n",
    "a=float(input(\"Enter coefficient a:\"))\n",
    "b=float(input(\"Enter coefficient b:\"))\n",
    "c=float(input(\"Enter coefficient c:\"))\n",
    "\n",
    "discriminant=b**2-4*a*c\n",
    "\n",
    "root1=(-b+cmath.sqrt(discriminant))/(2*a)\n",
    "root2=(-b-cmath.sqrt(discriminant))/(2*a)\n",
    "\n",
    "print(f\"the roots are {root1} and {root2}\")"
   ]
  },
  {
   "cell_type": "markdown",
   "id": "45ed2f0b-46a2-4ae4-8986-e8e0e00cb38c",
   "metadata": {},
   "source": [
    "**Q18: Implement a program to determine the day of the week based on a user-provided number (1 for Monday, 2\n",
    "for Tuesday, etc.).**"
   ]
  },
  {
   "cell_type": "code",
   "execution_count": 75,
   "id": "a0d1b3bb-cff9-4382-8df3-bafc2920925d",
   "metadata": {},
   "outputs": [
    {
     "name": "stdin",
     "output_type": "stream",
     "text": [
      "Enter the number to determine the day of the week 5\n"
     ]
    },
    {
     "name": "stdout",
     "output_type": "stream",
     "text": [
      "Friday\n"
     ]
    }
   ],
   "source": [
    "day_number= int(input(\"Enter the number to determine the day of the week\"))\n",
    "if day_number==1:\n",
    "    print(\"Monday\")\n",
    "elif day_number==2:\n",
    "    print(\"Tuesday\")\n",
    "elif day_number==3:\n",
    "    print(\"Wednesday\")\n",
    "elif day_number==4:\n",
    "    print(\"Thursday\")\n",
    "elif day_number==5:\n",
    "    print(\"Friday\")\n",
    "elif day_number==6:\n",
    "    print(\"Saturday\")\n",
    "elif day_number==7:\n",
    "    print(\"Sunday\")\n",
    "else:\n",
    "    print(\"Invalid Input\")"
   ]
  },
  {
   "cell_type": "markdown",
   "id": "80af70ec-0ccc-4af1-8924-5736d98d13d3",
   "metadata": {},
   "source": [
    "**Q19: Create a program that determines if a year is a leap year and also if it is evenly divisible by 400.**"
   ]
  },
  {
   "cell_type": "code",
   "execution_count": 76,
   "id": "a9293e3b-20bb-4bac-ac81-d25ec556c5a2",
   "metadata": {},
   "outputs": [
    {
     "name": "stdin",
     "output_type": "stream",
     "text": [
      "Enter a year:  2000\n"
     ]
    },
    {
     "name": "stdout",
     "output_type": "stream",
     "text": [
      "2000 is a leap year and is evenly divisible by 400.\n"
     ]
    }
   ],
   "source": [
    "y3 = int(input(\"Enter a year: \"))\n",
    "if y3 % 4 == 0:\n",
    "    if y3 % 100 == 0:\n",
    "        if y3 % 400 == 0:\n",
    "            print(f\"{y3} is a leap year and is evenly divisible by 400.\")\n",
    "        else:\n",
    "            print(f\"{y3} is not a leap year because it is divisible by 100 but not by 400.\")\n",
    "    else:\n",
    "        print(f\"{y3} is a leap year.\")\n",
    "else:\n",
    "    print(f\"{y3} is not a leap year.\")\n"
   ]
  },
  {
   "cell_type": "markdown",
   "id": "535dd2ba-d683-4819-b066-29128345729c",
   "metadata": {},
   "source": [
    "**Q20: Develop a program that checks if a given number is prime or not using nested if-else statements.**"
   ]
  },
  {
   "cell_type": "code",
   "execution_count": 78,
   "id": "d76cebe8-d63d-4530-9687-dbe83fef5c95",
   "metadata": {},
   "outputs": [
    {
     "name": "stdin",
     "output_type": "stream",
     "text": [
      "Enter the number 7\n"
     ]
    },
    {
     "name": "stdout",
     "output_type": "stream",
     "text": [
      "7 is a prime number\n"
     ]
    }
   ],
   "source": [
    "n8=int(input(\"Enter the number\"))\n",
    "if n8>1:\n",
    "    is_prime= True\n",
    "    for i in range(2, int(n8**0.5)+1):\n",
    "        if n8%i==0:\n",
    "            is_prime= False\n",
    "            break\n",
    "    if is_prime:\n",
    "        print(f\"{n8} is a prime number\")\n",
    "    else:\n",
    "        print(f\"{n8} is not a prime number\")\n",
    "else:\n",
    "    print(f\"{n8} is  not a prime number\")\n",
    "        "
   ]
  },
  {
   "cell_type": "markdown",
   "id": "b42c33c6-9a40-480c-b76f-36cc2298b88a",
   "metadata": {},
   "source": [
    "# Elif"
   ]
  },
  {
   "cell_type": "markdown",
   "id": "9ec0f404-d0eb-42f1-8306-cb9cf8a0034c",
   "metadata": {},
   "source": [
    "**Q21: Write a Python program to assign grades based on different ranges of scores using elif statements.**"
   ]
  },
  {
   "cell_type": "code",
   "execution_count": 1,
   "id": "13c3da4c-d6d1-470d-a80c-bbe8dedb342c",
   "metadata": {},
   "outputs": [
    {
     "name": "stdin",
     "output_type": "stream",
     "text": [
      "Enter the score 67\n"
     ]
    },
    {
     "name": "stdout",
     "output_type": "stream",
     "text": [
      "B\n"
     ]
    }
   ],
   "source": [
    "score1=int(input(\"Enter the score\"))\n",
    "if 90<=score1<=100:\n",
    "    print(\"A+\")\n",
    "elif 80<=score1<=89:\n",
    "    print(\"A\")\n",
    "elif 70<=score1<=79:\n",
    "    print(\"B+\")\n",
    "elif 60<=score1<=69:\n",
    "    print(\"B\")\n",
    "elif 50<=score1<=59:\n",
    "    print(\"C\")\n",
    "elif 40<=score1<=49:\n",
    "    print(\"D\")\n",
    "elif 30<=score1<=39:\n",
    "    print(\"E\")\n",
    "else:\n",
    "    print(\"F\")"
   ]
  },
  {
   "cell_type": "markdown",
   "id": "8abf886e-aba0-4e2b-9a91-b5b8d96879d9",
   "metadata": {},
   "source": [
    "**Q22: Implement a program to determine the type of a triangle based on its angles.**"
   ]
  },
  {
   "cell_type": "code",
   "execution_count": 2,
   "id": "1d50ee22-a34f-4a62-baa5-9a4a9de9c616",
   "metadata": {},
   "outputs": [
    {
     "name": "stdin",
     "output_type": "stream",
     "text": [
      "Enter the angle 70\n"
     ]
    },
    {
     "name": "stdout",
     "output_type": "stream",
     "text": [
      "acute angle\n"
     ]
    }
   ],
   "source": [
    "angle=float(input(\"Enter the angle\"))\n",
    "if angle>0:\n",
    "    if angle<90:\n",
    "        print(\"acute angle\")\n",
    "    elif angle==90:\n",
    "        print(\"right angle\")\n",
    "    else:\n",
    "        if angle<180:\n",
    "            print(\"obtuse angle\")\n",
    "        else:\n",
    "            print(\"invalid angle\")\n",
    "else:\n",
    "    print(\"invalid angle\")"
   ]
  },
  {
   "cell_type": "markdown",
   "id": "680f3830-8bbf-428b-a78b-cd5c8f0823b1",
   "metadata": {},
   "source": [
    "**Q23: Develop a program to categorize a given person's BMI into underweight, normal, overweight, or obese using\n",
    "elif statements.**"
   ]
  },
  {
   "cell_type": "code",
   "execution_count": 4,
   "id": "e276aeac-bb6f-43a6-b40c-b93e1d6044a8",
   "metadata": {},
   "outputs": [
    {
     "name": "stdin",
     "output_type": "stream",
     "text": [
      "Enter weight in kg: 37\n",
      "Enter heigth in cm: 149\n"
     ]
    },
    {
     "name": "stdout",
     "output_type": "stream",
     "text": [
      "your bmi is 16.67 and it is considered underweight\n"
     ]
    }
   ],
   "source": [
    "def calculate_bmi(weight, height):\n",
    "    height_m=height/100\n",
    "    bmi=weight/(height_m**2)\n",
    "    return bmi\n",
    "\n",
    "def categorize_bmi(bmi):\n",
    "    if bmi<18.5:\n",
    "        return \"underweight\"\n",
    "    elif 18.5<=bmi<24.9:\n",
    "        return \"normal\"\n",
    "    elif 25<=bmi<29.9:\n",
    "        return \"overweight\"\n",
    "    else:\n",
    "        return \"obese\"\n",
    "\n",
    "weight= float(input(\"Enter weight in kg:\"))\n",
    "height= float(input(\"Enter heigth in cm:\"))\n",
    "\n",
    "bmi=calculate_bmi(weight, height)\n",
    "category= categorize_bmi(bmi)\n",
    "print(f\"your bmi is {bmi:.2f} and it is considered {category}\")"
   ]
  },
  {
   "cell_type": "markdown",
   "id": "23929540-d078-4ac7-a205-9d54f1a954a5",
   "metadata": {},
   "source": [
    "**Q24: Create a program that determines whether a given number is positive, negative, or zero using elif\n",
    "statements.**"
   ]
  },
  {
   "cell_type": "code",
   "execution_count": 8,
   "id": "c291f383-7bad-48da-a48e-f5a2684f5e09",
   "metadata": {},
   "outputs": [
    {
     "name": "stdin",
     "output_type": "stream",
     "text": [
      "Enter the number 89\n"
     ]
    },
    {
     "name": "stdout",
     "output_type": "stream",
     "text": [
      "positive\n"
     ]
    }
   ],
   "source": [
    "n9= int(input(\"Enter the number\"))\n",
    "if n9<0:\n",
    "    print(\"negative\")\n",
    "elif n9>0:\n",
    "    print(\"positive\")\n",
    "else:\n",
    "    print(\"zero\")"
   ]
  },
  {
   "cell_type": "markdown",
   "id": "c89ec906-f4b4-4800-8106-b203baeeddb1",
   "metadata": {},
   "source": [
    "**Q25: Write a Python script to determine the type of a character (uppercase, lowercase, or special) using elif\n",
    "statements.**"
   ]
  },
  {
   "cell_type": "code",
   "execution_count": 20,
   "id": "d53f942d-a40a-4160-a91a-74a716895fc0",
   "metadata": {},
   "outputs": [
    {
     "name": "stdin",
     "output_type": "stream",
     "text": [
      "enter character U\n"
     ]
    },
    {
     "name": "stdout",
     "output_type": "stream",
     "text": [
      "uppercase\n"
     ]
    }
   ],
   "source": [
    "chr=input(\"enter character\")\n",
    "if len(chr)!=1:\n",
    "    print(\"please print exactly one character\")\n",
    "else:\n",
    "    \n",
    "    if chr.isupper():\n",
    "        print(\"uppercase\")\n",
    "    elif chr.islower():\n",
    "        print(\"lowercase\")\n",
    "    elif chr.isdigit():\n",
    "         print(\"digit\")\n",
    "    else:\n",
    "        print(\"special\")"
   ]
  },
  {
   "cell_type": "markdown",
   "id": "9b6531e9-fe12-4ea8-a6fb-f9ba811a525b",
   "metadata": {},
   "source": [
    "**Q26: Implement a program to calculate the discounted price based on different purchase amounts using elif\n",
    "statements.**"
   ]
  },
  {
   "cell_type": "code",
   "execution_count": 22,
   "id": "a043db9e-fe3b-4217-af04-5431fce0d894",
   "metadata": {},
   "outputs": [
    {
     "name": "stdin",
     "output_type": "stream",
     "text": [
      "Enter the purchase amount 78\n"
     ]
    },
    {
     "name": "stdout",
     "output_type": "stream",
     "text": [
      "the discounted price is 70.20\n"
     ]
    }
   ],
   "source": [
    "purchase_amount=float(input(\"Enter the purchase amount\"))\n",
    "if purchase_amount<50:\n",
    "    discount=0\n",
    "elif 50<=purchase_amount<100:\n",
    "    discount=0.10\n",
    "elif 100<=purchase_amount<200:\n",
    "    discount=0.20\n",
    "else:\n",
    "    discount=0.30\n",
    "\n",
    "discounted_price=purchase_amount*(1-discount)\n",
    "print(f\"the discounted price is {discounted_price:.2f}\")"
   ]
  },
  {
   "cell_type": "markdown",
   "id": "c959b334-c1b4-4db7-86ff-3b030259b916",
   "metadata": {},
   "source": [
    "**Q27: Develop a program to calculate the electricity bill based on different consumption slabs using elif\n",
    "statements.**"
   ]
  },
  {
   "cell_type": "code",
   "execution_count": 23,
   "id": "a1d58c77-8550-4a14-85a9-82f3cb025843",
   "metadata": {},
   "outputs": [
    {
     "name": "stdin",
     "output_type": "stream",
     "text": [
      "Enter the units consumed 200\n"
     ]
    },
    {
     "name": "stdout",
     "output_type": "stream",
     "text": [
      "bill is 125.00\n"
     ]
    }
   ],
   "source": [
    "units=float(input(\"Enter the units consumed\"))\n",
    "if units<=100:\n",
    "    bill=units*0.50\n",
    "elif units<=200:\n",
    "    bill=100*0.50+(units-100)*0.75\n",
    "elif units<=300:\n",
    "    bill=100*0.50+100*0.75+(units-200)*1.20\n",
    "else:\n",
    "    bill=100*0.50+100*0.75+100*1.20+(units-300)*1.50\n",
    "\n",
    "print(f\"bill is {bill:.2f}\")"
   ]
  },
  {
   "cell_type": "markdown",
   "id": "c4e448eb-c0c4-408d-9207-5464f3d695a0",
   "metadata": {},
   "source": [
    "**Q28: Create a program to determine the type of quadrilateral based on its angles and sides using elif\n",
    "statements.**"
   ]
  },
  {
   "cell_type": "code",
   "execution_count": 7,
   "id": "3dd80e49-c05e-4aae-8244-b28781c7d783",
   "metadata": {},
   "outputs": [
    {
     "name": "stdin",
     "output_type": "stream",
     "text": [
      "Enter side 1 5\n",
      "Enter side 2 5\n",
      "Enter side 3 5\n",
      "Enter side 4 5\n",
      "Enter angle 1 120\n",
      "Enter angle 2 60\n",
      "Enter angle 3 120\n",
      "Enter angle 4 60\n"
     ]
    },
    {
     "name": "stdout",
     "output_type": "stream",
     "text": [
      "rhombus\n"
     ]
    }
   ],
   "source": [
    "side1=float(input(\"Enter side 1\"))\n",
    "side2=float(input(\"Enter side 2\"))\n",
    "side3=float(input(\"Enter side 3\"))\n",
    "side4=float(input(\"Enter side 4\"))\n",
    "angle1=float(input(\"Enter angle 1\"))\n",
    "angle2=float(input(\"Enter angle 2\"))\n",
    "angle3=float(input(\"Enter angle 3\"))\n",
    "angle4=float(input(\"Enter angle 4\"))\n",
    "if angle1+angle2+angle3+angle4!=360:\n",
    "    print(\"Invalid quadrilateral\")\n",
    "if angle1==angle2==angle3==angle4==90:\n",
    "    if side1==side2==side3==side4:\n",
    "        print(\"square\")\n",
    "    else:\n",
    "        print(\"rectangle\")\n",
    "elif side1==side2==side3==side4:\n",
    "    if angle1==angle3 and angle2==angle4:\n",
    "        print(\"rhombus\")\n",
    "    else:\n",
    "        print(\"general\")\n",
    "elif (side1==side3 and side2==side4):\n",
    "    if (angle1==angle3 and angle2==angle4):\n",
    "        print(\"parallelogram\")\n",
    "    else:\n",
    "        print(\"general\")\n",
    "    \n",
    "        \n",
    "        "
   ]
  },
  {
   "cell_type": "markdown",
   "id": "308015ef-b2e3-4a6c-b382-6972b3e51aaa",
   "metadata": {},
   "source": [
    "**Q29: Write a Python script to determine the season based on a user-provided month using elif statements.**"
   ]
  },
  {
   "cell_type": "code",
   "execution_count": 10,
   "id": "3bbd8341-6482-4acd-8543-119048d66e43",
   "metadata": {},
   "outputs": [
    {
     "name": "stdin",
     "output_type": "stream",
     "text": [
      "Enter the name of the month march\n"
     ]
    },
    {
     "name": "stdout",
     "output_type": "stream",
     "text": [
      "summer\n"
     ]
    }
   ],
   "source": [
    "month= input(\"Enter the name of the month\").lower()\n",
    "if month in (\"december\", \"january\", \"february\"):\n",
    "    print(\"winter\")\n",
    "elif month in (\"march\", \"april\", \"may\"):\n",
    "    print(\"summer\")\n",
    "elif month in (\"june\", \"july\", \"august\"):\n",
    "    print(\"rainy\")\n",
    "elif month in (\"september\", \"october\", \"november\"):\n",
    "    print(\"fall\")\n",
    "else:\n",
    "    print(\"invalid month\")"
   ]
  },
  {
   "cell_type": "markdown",
   "id": "3e8cd30b-8101-4661-9cb1-07d0e99a7072",
   "metadata": {},
   "source": [
    "**Q30: Implement a program to determine the type of a year (leap or common) and month (30 or 31 days) using\n",
    "elif statements.**"
   ]
  },
  {
   "cell_type": "code",
   "execution_count": 12,
   "id": "f01a04c8-1f12-4bd7-86df-2f96504c4b08",
   "metadata": {},
   "outputs": [
    {
     "name": "stdin",
     "output_type": "stream",
     "text": [
      "Enter the year: 2020\n",
      "Enter the month: february\n"
     ]
    },
    {
     "name": "stdout",
     "output_type": "stream",
     "text": [
      "The year 2020 is a leap year.\n",
      "The month of february has 29 days.\n"
     ]
    }
   ],
   "source": [
    "yearr=int(input(\"Enter the year:\"))\n",
    "month1=input(\"Enter the month:\").lower()\n",
    "if (yearr%4==0 and yearr%100!=0) or yearr%400==0:\n",
    "    year_type= \"leap year\"\n",
    "else:\n",
    "    year_type= \"common year\"\n",
    "\n",
    "if month1 in (\"january\",\"march\", \"may\", \"july\", \"august\", \"october\", \"december\"):\n",
    "    days_in_month=\"31 days\"\n",
    "elif month1 in (\"april\", \"june\", \"september\", \"november\"):\n",
    "    days_in_month=\"30 days\"\n",
    "elif month1==\"february\":\n",
    "    if year_type== \"leap year\":\n",
    "        days_in_month=\"29 days\"\n",
    "    else:\n",
    "        days_in_month=\"28 days\"\n",
    "else:\n",
    "    days_in_month=\"invalid month\"\n",
    "\n",
    "print(f\"The year {yearr} is a {year_type}.\")\n",
    "print(f\"The month of {month1} has {days_in_month}.\")\n",
    "\n",
    "        \n",
    "        \n",
    "    \n"
   ]
  },
  {
   "cell_type": "markdown",
   "id": "531b2299-14fd-4256-aedb-c4a679463196",
   "metadata": {},
   "source": [
    "# Basic Level"
   ]
  },
  {
   "cell_type": "markdown",
   "id": "a0110671-0d9c-4d41-9223-93c47b72c903",
   "metadata": {},
   "source": [
    "**Q1: Write a Python program that checks if a given number is positive, negative, or zero.**"
   ]
  },
  {
   "cell_type": "code",
   "execution_count": 1,
   "id": "0e8b5f8d-4529-4003-8123-77fa8c583d88",
   "metadata": {},
   "outputs": [
    {
     "name": "stdin",
     "output_type": "stream",
     "text": [
      "Enter the number 8\n"
     ]
    },
    {
     "name": "stdout",
     "output_type": "stream",
     "text": [
      "positive\n"
     ]
    }
   ],
   "source": [
    "n10= int(input(\"Enter the number\"))\n",
    "if n10<0:\n",
    "    print(\"negative\")\n",
    "elif n10>0:\n",
    "    print(\"positive\")\n",
    "else:\n",
    "    print(\"zero\")"
   ]
  },
  {
   "cell_type": "markdown",
   "id": "4517265b-dd19-4d81-aa99-d4ea362b6d9d",
   "metadata": {},
   "source": [
    "**Q2: Create a program to determine if a person is eligible to vote based on their age.**"
   ]
  },
  {
   "cell_type": "code",
   "execution_count": 2,
   "id": "3935785c-ddc3-4caa-865e-7a5fd8c2c6f3",
   "metadata": {},
   "outputs": [
    {
     "name": "stdin",
     "output_type": "stream",
     "text": [
      "Enter age 23\n"
     ]
    },
    {
     "name": "stdout",
     "output_type": "stream",
     "text": [
      "eligible to vote\n"
     ]
    }
   ],
   "source": [
    "age2=int(input(\"Enter age\"))\n",
    "if age2>=18:\n",
    "    print(\"eligible to vote\")\n",
    "else:\n",
    "    print(\"wait until you turn 18\")"
   ]
  },
  {
   "cell_type": "markdown",
   "id": "bb7a4c5f-bd8d-4784-9940-f7080b235d4b",
   "metadata": {},
   "source": [
    "**Q3: Write a program to find the maximum of two given numbers using conditional statements.**"
   ]
  },
  {
   "cell_type": "code",
   "execution_count": 6,
   "id": "f091b301-f710-43e2-9e97-bf664b42ca11",
   "metadata": {},
   "outputs": [
    {
     "name": "stdin",
     "output_type": "stream",
     "text": [
      "Enter the first number 78\n",
      "Enter the second number 90\n"
     ]
    },
    {
     "name": "stdout",
     "output_type": "stream",
     "text": [
      "90.0 is greater\n"
     ]
    }
   ],
   "source": [
    "n11=float(input(\"Enter the first number\"))\n",
    "n12=float(input(\"Enter the second number\"))\n",
    "if n11>n12:\n",
    "    print(f\"{n11} is greater\")\n",
    "elif n12>n11:\n",
    "    print(f\"{n12} is greater\")\n",
    "else:\n",
    "    print(\"both are equal\")"
   ]
  },
  {
   "cell_type": "markdown",
   "id": "84251a27-481c-4fe0-9d6d-048cfb0d8278",
   "metadata": {},
   "source": [
    "**Q4: Develop a program that calculates the grade of a student based on their exam score.**"
   ]
  },
  {
   "cell_type": "code",
   "execution_count": 7,
   "id": "1d6cc825-2598-42ea-899f-b6fc7928be58",
   "metadata": {},
   "outputs": [
    {
     "name": "stdin",
     "output_type": "stream",
     "text": [
      "Enter the score 56\n"
     ]
    },
    {
     "name": "stdout",
     "output_type": "stream",
     "text": [
      "C\n"
     ]
    }
   ],
   "source": [
    "score1=int(input(\"Enter the score\"))\n",
    "if 90<=score1<=100:\n",
    "    print(\"A+\")\n",
    "elif 80<=score1<=89:\n",
    "    print(\"A\")\n",
    "elif 70<=score1<=79:\n",
    "    print(\"B+\")\n",
    "elif 60<=score1<=69:\n",
    "    print(\"B\")\n",
    "elif 50<=score1<=59:\n",
    "    print(\"C\")\n",
    "elif 40<=score1<=49:\n",
    "    print(\"D\")\n",
    "elif 30<=score1<=39:\n",
    "    print(\"E\")\n",
    "else:\n",
    "    print(\"F\")"
   ]
  },
  {
   "cell_type": "markdown",
   "id": "099364fe-d824-4513-954a-2a90ab2a422c",
   "metadata": {},
   "source": [
    "**Q5: Create a program that checks if a year is a leap year or not.**"
   ]
  },
  {
   "cell_type": "code",
   "execution_count": 8,
   "id": "1bce4be3-d4c5-4cc1-98ad-effa046dc57d",
   "metadata": {},
   "outputs": [
    {
     "name": "stdin",
     "output_type": "stream",
     "text": [
      "Enter the year 2020\n"
     ]
    },
    {
     "name": "stdout",
     "output_type": "stream",
     "text": [
      "2020 is a leap year\n"
     ]
    }
   ],
   "source": [
    "year3=int(input(\"Enter the year\"))\n",
    "if (year3%4==0 and year3%100!=0) or year3%400==0:\n",
    "    print(f\"{year3} is a leap year\")\n",
    "else:\n",
    "    print(f\"{year3} is  not a leap year\")"
   ]
  },
  {
   "cell_type": "markdown",
   "id": "38fddc64-b81c-4926-a112-96b2e1b343d4",
   "metadata": {},
   "source": [
    "**Q6: Write a program to classify a triangle based on its sides' lengths.**"
   ]
  },
  {
   "cell_type": "code",
   "execution_count": 9,
   "id": "dcd717b8-80e5-4c6a-afdb-e68fa8ee9dab",
   "metadata": {},
   "outputs": [
    {
     "name": "stdin",
     "output_type": "stream",
     "text": [
      "Enter the length of one side 7\n",
      "Enter the length of second side 5\n",
      "Enter the length of third side 5\n"
     ]
    },
    {
     "name": "stdout",
     "output_type": "stream",
     "text": [
      "triangle is isosceles\n"
     ]
    }
   ],
   "source": [
    "s7=float(input(\"Enter the length of one side\"))\n",
    "s8=float(input(\"Enter the length of second side\"))\n",
    "s9=float(input(\"Enter the length of third side\"))\n",
    "if s7==s8:\n",
    "    if s7==s9:\n",
    "        print(\"triangle is equilateral\")\n",
    "    else:\n",
    "        print(\"triangle is isosceles\")\n",
    "else:\n",
    "    if s8==s9:\n",
    "        print(\"triangle is isosceles\")\n",
    "    else:\n",
    "        print(\"triangle is scalene\")"
   ]
  },
  {
   "cell_type": "markdown",
   "id": "b2b2084b-6d93-4770-a526-e566dcb66d4f",
   "metadata": {},
   "source": [
    "**Q7: Build a program that determines the largest of three given numbers.**"
   ]
  },
  {
   "cell_type": "code",
   "execution_count": 10,
   "id": "806f4363-5932-4bc7-b804-4e4d6063b9bc",
   "metadata": {},
   "outputs": [
    {
     "name": "stdin",
     "output_type": "stream",
     "text": [
      "Enter the first number 34\n",
      "Enter the second number 23\n",
      "Enter the third number 90\n"
     ]
    },
    {
     "name": "stdout",
     "output_type": "stream",
     "text": [
      "90 is the largest\n"
     ]
    }
   ],
   "source": [
    "p=int(input(\"Enter the first number\"))\n",
    "q=int(input(\"Enter the second number\"))\n",
    "r=int(input(\"Enter the third number\"))\n",
    "if p>q and p>r:\n",
    "    print(f\"{p} is the largest\")\n",
    "elif q>p and q>r:\n",
    "    print(f\"{q} is the largest\")\n",
    "else:\n",
    "    print(f\"{r} is the largest\")"
   ]
  },
  {
   "cell_type": "markdown",
   "id": "7ddff67f-9763-4e0c-80d0-346b7ed3961d",
   "metadata": {},
   "source": [
    "**Q8: Develop a program that checks whether a character is a vowel or a consonant.**"
   ]
  },
  {
   "cell_type": "code",
   "execution_count": 11,
   "id": "32041cfe-5102-42f6-8319-36b5f4989c48",
   "metadata": {},
   "outputs": [
    {
     "name": "stdin",
     "output_type": "stream",
     "text": [
      "Enter the character u\n"
     ]
    },
    {
     "name": "stdout",
     "output_type": "stream",
     "text": [
      "u is a vowel\n"
     ]
    }
   ],
   "source": [
    "s9=input(\"Enter the character\")\n",
    "vowels=\"aeiouAEIOU\"\n",
    "if s9 in vowels:\n",
    "    print(f\"{s9} is a vowel\")\n",
    "else:\n",
    "    print(f\"{s9} is a consonant\")"
   ]
  },
  {
   "cell_type": "markdown",
   "id": "81212121-1c03-405c-b798-faca66a04580",
   "metadata": {},
   "source": [
    "**Q9: Create a program to calculate the total cost of a shopping cart based on discounts.**"
   ]
  },
  {
   "cell_type": "code",
   "execution_count": 14,
   "id": "70d90398-8180-41dc-a3dc-2a6a803b233f",
   "metadata": {},
   "outputs": [
    {
     "name": "stdin",
     "output_type": "stream",
     "text": [
      "Enter the number of items in the cart 5\n",
      "Enter the cost of the item 1: 500\n",
      "Enter the cost of the item 2: 45\n",
      "Enter the cost of the item 3: 23\n",
      "Enter the cost of the item 4: 78\n",
      "Enter the cost of the item 5: 34\n"
     ]
    },
    {
     "name": "stdout",
     "output_type": "stream",
     "text": [
      "total cost without discount: Rs. 680.00\n",
      "discount applied: 20%\n",
      "total cost with discount: Rs. 544.00\n"
     ]
    }
   ],
   "source": [
    "try:\n",
    "    num_items=int(input(\"Enter the number of items in the cart\"))\n",
    "    items=[]\n",
    "\n",
    "    for i in range(num_items):\n",
    "        item_cost=float(input(f\"Enter the cost of the item {i+1}:\"))\n",
    "        items.append(item_cost)\n",
    "\n",
    "    total_cost_without_discount=sum(items)\n",
    "    if total_cost_without_discount>500:\n",
    "        discount=20\n",
    "    elif total_cost_without_discount>200:\n",
    "        discount=10\n",
    "    else:\n",
    "        discount=0\n",
    "\n",
    "    if total_cost_without_discount>0:\n",
    "        total_cost_with_discount=total_cost_without_discount-(total_cost_without_discount*(discount/100))\n",
    "    else:\n",
    "        total_cost_with_discount=total_cost_without_discount\n",
    "\n",
    "\n",
    "    print(f\"total cost without discount: Rs. {total_cost_without_discount:.2f}\")\n",
    "    print(f\"discount applied: {discount}%\")\n",
    "    print(f\"total cost with discount: Rs. {total_cost_with_discount:.2f}\")\n",
    "\n",
    "except ValueError:\n",
    "    print(\"Invalid input: Please enter numeric values for the number of items and their costs.\")\n",
    "    "
   ]
  },
  {
   "cell_type": "markdown",
   "id": "17e5a003-3837-4927-94bb-454612420d6d",
   "metadata": {},
   "source": [
    "**Q10: Write a program that checks if a given number is even or odd.**"
   ]
  },
  {
   "cell_type": "code",
   "execution_count": 12,
   "id": "f6ff4d8b-17f3-43e7-9ad3-cb1ff5534cb9",
   "metadata": {},
   "outputs": [
    {
     "name": "stdin",
     "output_type": "stream",
     "text": [
      "Enter a number 67\n"
     ]
    },
    {
     "name": "stdout",
     "output_type": "stream",
     "text": [
      "number is odd\n"
     ]
    }
   ],
   "source": [
    "n13=int(input(\"Enter a number\"))\n",
    "if n13%2==0:\n",
    "    print(\"number is even\")\n",
    "else:\n",
    "    print(\"number is odd\")"
   ]
  },
  {
   "cell_type": "markdown",
   "id": "0d51fa7b-b6c8-43fe-87ac-c652a0b18b82",
   "metadata": {},
   "source": [
    "# Intermediate Level"
   ]
  },
  {
   "cell_type": "markdown",
   "id": "b5244831-c73f-4393-9ee1-5a1b9b7f7c64",
   "metadata": {},
   "source": [
    "**Q11: Write a program that calculates the roots of a quadratic equation .**"
   ]
  },
  {
   "cell_type": "code",
   "execution_count": 2,
   "id": "7e2541e5-fb66-4ee9-9888-1b1827d8dd97",
   "metadata": {},
   "outputs": [
    {
     "name": "stdin",
     "output_type": "stream",
     "text": [
      "Enter coefficient a: 3\n",
      "Enter coefficient b: 5\n",
      "Enter coefficient c: 1\n"
     ]
    },
    {
     "name": "stdout",
     "output_type": "stream",
     "text": [
      "the roots are (-0.2324081207560018+0j) and (-1.434258545910665+0j)\n"
     ]
    }
   ],
   "source": [
    "import cmath\n",
    "\n",
    "a=float(input(\"Enter coefficient a:\"))\n",
    "b=float(input(\"Enter coefficient b:\"))\n",
    "c=float(input(\"Enter coefficient c:\"))\n",
    "\n",
    "discriminant=b**2-4*a*c\n",
    "\n",
    "root1=(-b+cmath.sqrt(discriminant))/(2*a)\n",
    "root2=(-b-cmath.sqrt(discriminant))/(2*a)\n",
    "\n",
    "print(f\"the roots are {root1} and {root2}\")"
   ]
  },
  {
   "cell_type": "markdown",
   "id": "c5042a4b-2ebf-4d27-9ae8-05b2f28eae44",
   "metadata": {},
   "source": [
    "**Q12: Create a program that determines the day of the week based on the day number (1-7).**"
   ]
  },
  {
   "cell_type": "code",
   "execution_count": 3,
   "id": "02204b12-16ab-408e-904d-fe71c996bc7c",
   "metadata": {},
   "outputs": [
    {
     "name": "stdin",
     "output_type": "stream",
     "text": [
      "Enter the number to determine the day of the week 5\n"
     ]
    },
    {
     "name": "stdout",
     "output_type": "stream",
     "text": [
      "Friday\n"
     ]
    }
   ],
   "source": [
    "day_number= int(input(\"Enter the number to determine the day of the week\"))\n",
    "if day_number==1:\n",
    "    print(\"Monday\")\n",
    "elif day_number==2:\n",
    "    print(\"Tuesday\")\n",
    "elif day_number==3:\n",
    "    print(\"Wednesday\")\n",
    "elif day_number==4:\n",
    "    print(\"Thursday\")\n",
    "elif day_number==5:\n",
    "    print(\"Friday\")\n",
    "elif day_number==6:\n",
    "    print(\"Saturday\")\n",
    "elif day_number==7:\n",
    "    print(\"Sunday\")\n",
    "else:\n",
    "    print(\"Invalid Input\")"
   ]
  },
  {
   "cell_type": "markdown",
   "id": "47df837e-0c9a-456b-be75-e534af408af9",
   "metadata": {},
   "source": [
    "**Q13: Develop a program that calculates the factorial of a given number using recursion.**"
   ]
  },
  {
   "cell_type": "code",
   "execution_count": 5,
   "id": "740e7cf0-f1f1-47e3-aa8b-1e74eac09508",
   "metadata": {},
   "outputs": [
    {
     "name": "stdout",
     "output_type": "stream",
     "text": [
      "120\n"
     ]
    }
   ],
   "source": [
    "def factorial(n14):\n",
    "    if n14==0 or n14==1:\n",
    "        return 1\n",
    "    else:\n",
    "        return n14*factorial(n14-1)\n",
    "\n",
    "print(factorial(5))"
   ]
  },
  {
   "cell_type": "markdown",
   "id": "de0fe2a3-e434-449e-9e48-c4a92bb18eca",
   "metadata": {},
   "source": [
    "**Q14: Write a program to find the largest among three numbers without using the `max()` function.**"
   ]
  },
  {
   "cell_type": "code",
   "execution_count": 6,
   "id": "4caa6e78-932f-4860-a899-14cf406c2c39",
   "metadata": {},
   "outputs": [
    {
     "name": "stdin",
     "output_type": "stream",
     "text": [
      "Enter the first number 12\n",
      "Enter the second number 56\n",
      "Enter the third number 23\n"
     ]
    },
    {
     "name": "stdout",
     "output_type": "stream",
     "text": [
      "maximum number is 56\n"
     ]
    }
   ],
   "source": [
    "n15=int(input(\"Enter the first number\"))\n",
    "n16=int(input(\"Enter the second number\"))\n",
    "n17=int(input(\"Enter the third number\"))\n",
    "\n",
    "max_number1=max(n15,n16,n17)\n",
    "print(f\"maximum number is {max_number1}\")"
   ]
  },
  {
   "cell_type": "markdown",
   "id": "5817e942-2784-419a-9985-2e677ab6b822",
   "metadata": {},
   "source": [
    "**Q15: Create a program that simulates a basic ATM transaction menu.**"
   ]
  },
  {
   "cell_type": "code",
   "execution_count": 1,
   "id": "cdc69bc8-ff5d-4202-9e80-8b50162a3bc2",
   "metadata": {},
   "outputs": [
    {
     "name": "stdin",
     "output_type": "stream",
     "text": [
      "Enter your pin 1234\n"
     ]
    },
    {
     "name": "stdout",
     "output_type": "stream",
     "text": [
      "\n",
      "ATM Transaction Menu\n",
      "1. Check Balance\n",
      "2. Deposit Money\n",
      "3. Withdraw Money\n",
      "4. Exit\n"
     ]
    },
    {
     "name": "stdin",
     "output_type": "stream",
     "text": [
      "Please choose an option (1-4): 2\n",
      "\n",
      "Enter the amount to deposit: Rs. 1000\n"
     ]
    },
    {
     "name": "stdout",
     "output_type": "stream",
     "text": [
      "Rs. 1000.00 added successfully. New balance Rs. 2000.00\n",
      "\n",
      "ATM Transaction Menu\n",
      "1. Check Balance\n",
      "2. Deposit Money\n",
      "3. Withdraw Money\n",
      "4. Exit\n"
     ]
    },
    {
     "name": "stdin",
     "output_type": "stream",
     "text": [
      "Please choose an option (1-4): 1\n"
     ]
    },
    {
     "name": "stdout",
     "output_type": "stream",
     "text": [
      "\n",
      "Your current balance is Rs.2000.00\n",
      "\n",
      "ATM Transaction Menu\n",
      "1. Check Balance\n",
      "2. Deposit Money\n",
      "3. Withdraw Money\n",
      "4. Exit\n"
     ]
    },
    {
     "name": "stdin",
     "output_type": "stream",
     "text": [
      "Please choose an option (1-4): 3\n",
      "\n",
      "Enter the amount to withdraw: Rs. 500\n"
     ]
    },
    {
     "name": "stdout",
     "output_type": "stream",
     "text": [
      "Rs. 500.00 withdrawn successfully. New balance Rs. 1500.00\n",
      "\n",
      "ATM Transaction Menu\n",
      "1. Check Balance\n",
      "2. Deposit Money\n",
      "3. Withdraw Money\n",
      "4. Exit\n"
     ]
    },
    {
     "name": "stdin",
     "output_type": "stream",
     "text": [
      "Please choose an option (1-4): 4\n"
     ]
    },
    {
     "name": "stdout",
     "output_type": "stream",
     "text": [
      "Thank you for using our ATM. Goodbye!\n"
     ]
    }
   ],
   "source": [
    "account_balance=1000.00\n",
    "correct_pin='1234'\n",
    "\n",
    "def display_menu():\n",
    "    print(\"\\nATM Transaction Menu\")\n",
    "    print(\"1. Check Balance\")\n",
    "    print(\"2. Deposit Money\")\n",
    "    print(\"3. Withdraw Money\")\n",
    "    print(\"4. Exit\")\n",
    "\n",
    "def check_balance():\n",
    "    print(f\"\\nYour current balance is Rs.{account_balance:.2f}\")\n",
    "\n",
    "def deposit_money():\n",
    "    global account_balance\n",
    "    try:\n",
    "        amount=float(input(\"\\nEnter the amount to deposit: Rs.\"))\n",
    "        if amount>0:\n",
    "            account_balance+=amount\n",
    "            print(f\"Rs. {amount:.2f} added successfully. New balance Rs. {account_balance:.2f}\")\n",
    "        else:\n",
    "            print(\"Invalid amount. Please enter a positive number\")\n",
    "    except ValueError:\n",
    "        print(\"Invalid input. Please enter a numeric value\")\n",
    "\n",
    "def withdraw_money():\n",
    "    global account_balance\n",
    "    try:\n",
    "        amount=float(input(\"\\nEnter the amount to withdraw: Rs.\"))\n",
    "        if amount>0:\n",
    "            if amount<=account_balance:\n",
    "                account_balance-=amount\n",
    "                print(f\"Rs. {amount:.2f} withdrawn successfully. New balance Rs. {account_balance:.2f}\")\n",
    "            else:\n",
    "                print(\"Insufficient funds\")\n",
    "        else:\n",
    "            print(\"Invalid amount. Please enter a positive number\")\n",
    "    except ValueError:\n",
    "        print(\"Invalid input. Please enter a numeric value\")\n",
    "\n",
    "def atm():\n",
    "    pin= input(\"Enter your pin\")\n",
    "    if pin==correct_pin:\n",
    "        while True:\n",
    "            display_menu()\n",
    "            choice=input(\"Please choose an option (1-4):\")\n",
    "\n",
    "            if choice=='1':\n",
    "                check_balance()\n",
    "            elif choice=='2':\n",
    "                deposit_money()\n",
    "            elif choice=='3':\n",
    "                withdraw_money()\n",
    "            elif choice=='4':\n",
    "                print(\"Thank you for using our ATM. Goodbye!\")\n",
    "                break\n",
    "            else:\n",
    "                print(\"Invalid choice. Please select a valid option\")\n",
    "    else:\n",
    "        print(\"Incorrect pin. Access denied.\")\n",
    "\n",
    "if __name__==\"__main__\":\n",
    "    atm()                "
   ]
  },
  {
   "cell_type": "markdown",
   "id": "7f808d23-d9a5-42e4-b171-0170c1e62f61",
   "metadata": {},
   "source": [
    "**Q16: Build a program that checks if a given string is a palindrome or not.**"
   ]
  },
  {
   "cell_type": "code",
   "execution_count": 5,
   "id": "b7c20a7b-c606-4f95-9ed8-b56cfe268900",
   "metadata": {},
   "outputs": [
    {
     "name": "stdin",
     "output_type": "stream",
     "text": [
      "Enter the string Madam\n"
     ]
    },
    {
     "name": "stdout",
     "output_type": "stream",
     "text": [
      "string is a pallindrome\n"
     ]
    }
   ],
   "source": [
    "s10=input(\"Enter the string\").lower()\n",
    "rev=s10[::-1]\n",
    "if rev==s10:\n",
    "    print(\"string is a pallindrome\")\n",
    "else:\n",
    "    print(\"string is not a pallindrome\")"
   ]
  },
  {
   "cell_type": "markdown",
   "id": "31ce7582-4c59-4d08-ad99-1b793068ee33",
   "metadata": {},
   "source": [
    "**Q17: Write a program that calculates the average of a list of numbers, excluding the smallest and largest values.**"
   ]
  },
  {
   "cell_type": "code",
   "execution_count": 7,
   "id": "6199fc8f-25e7-4c88-a67f-7212b7a2f490",
   "metadata": {},
   "outputs": [
    {
     "name": "stdin",
     "output_type": "stream",
     "text": [
      "enter the numbers separated by a comma 3,7,2,5,9,4\n"
     ]
    },
    {
     "name": "stdout",
     "output_type": "stream",
     "text": [
      "4.75\n"
     ]
    }
   ],
   "source": [
    "def calculate_average(numbers):\n",
    "    if len(numbers)<3:\n",
    "        return \"list must have 3 numbers\"\n",
    "    sorted_numbers=sorted(numbers)\n",
    "    trimmed_numbers=sorted_numbers[1:-1]\n",
    "    average=sum(trimmed_numbers)/len(trimmed_numbers)\n",
    "    return average\n",
    "\n",
    "numbers=[float(x) for x in input(\"enter the numbers separated by a comma\").split(',')]\n",
    "average=calculate_average(numbers)\n",
    "print(average)"
   ]
  },
  {
   "cell_type": "markdown",
   "id": "c977a160-9e2d-4a32-9bf7-df399f4bf198",
   "metadata": {},
   "source": [
    "**Q18: Develop a program that converts a given temperature from Celsius to Fahrenheit.**"
   ]
  },
  {
   "cell_type": "code",
   "execution_count": 9,
   "id": "c94175f2-b264-4033-b126-9552453a78ca",
   "metadata": {},
   "outputs": [
    {
     "name": "stdin",
     "output_type": "stream",
     "text": [
      "Enter temperature in celcius 32\n"
     ]
    },
    {
     "name": "stdout",
     "output_type": "stream",
     "text": [
      "89.6\n"
     ]
    }
   ],
   "source": [
    "temp_in_c=float(input(\"Enter temperature in celcius\"))\n",
    "temp_in_f=temp_in_c*(9/5) + 32\n",
    "print(temp_in_f)"
   ]
  },
  {
   "cell_type": "markdown",
   "id": "537bf983-0219-4d5f-b641-fc4a135c2d41",
   "metadata": {},
   "source": [
    "**Q19: Create a program that simulates a basic calculator for addition, subtraction, multiplication, and division.**"
   ]
  },
  {
   "cell_type": "code",
   "execution_count": 13,
   "id": "1262bcd6-427b-4d9a-afe1-96b6051f3ea5",
   "metadata": {},
   "outputs": [
    {
     "name": "stdin",
     "output_type": "stream",
     "text": [
      "Enter the first number 4\n",
      "Enter the second number 3\n",
      "enter the operator (+,-,*,/) +\n"
     ]
    },
    {
     "name": "stdout",
     "output_type": "stream",
     "text": [
      "4.0 + 3.0 = 7.0\n"
     ]
    },
    {
     "name": "stdin",
     "output_type": "stream",
     "text": [
      "Do you want to perform another calculation? (yes/no):  yes\n",
      "Enter the first number 7\n",
      "Enter the second number 7\n",
      "enter the operator (+,-,*,/) -\n"
     ]
    },
    {
     "name": "stdout",
     "output_type": "stream",
     "text": [
      "7.0 - 7.0 = 0.0\n"
     ]
    },
    {
     "name": "stdin",
     "output_type": "stream",
     "text": [
      "Do you want to perform another calculation? (yes/no):  yes\n",
      "Enter the first number 8\n",
      "Enter the second number 90\n",
      "enter the operator (+,-,*,/) *\n"
     ]
    },
    {
     "name": "stdout",
     "output_type": "stream",
     "text": [
      "8.0 * 90.0 = 720.0\n"
     ]
    },
    {
     "name": "stdin",
     "output_type": "stream",
     "text": [
      "Do you want to perform another calculation? (yes/no):  yes\n",
      "Enter the first number 5\n",
      "Enter the second number 0\n",
      "enter the operator (+,-,*,/) /\n"
     ]
    },
    {
     "name": "stdout",
     "output_type": "stream",
     "text": [
      "5.0 / 0.0 = Error: Division by zero\n"
     ]
    },
    {
     "name": "stdin",
     "output_type": "stream",
     "text": [
      "Do you want to perform another calculation? (yes/no):  no\n"
     ]
    },
    {
     "name": "stdout",
     "output_type": "stream",
     "text": [
      "Exiting the calculator. Goodbye!\n"
     ]
    }
   ],
   "source": [
    "def calculate(n18, n19, opr):\n",
    "    if opr=='+':\n",
    "        return n18+n19\n",
    "    elif opr=='-':\n",
    "        return n18-n19\n",
    "    elif opr=='*':\n",
    "        return n18*n19\n",
    "    elif opr=='/':\n",
    "        if n19!=0:\n",
    "            return n18/n19\n",
    "        else:\n",
    "            return \"Error: Division by zero\"\n",
    "    else:\n",
    "        return \"Error: Invalid operator\"\n",
    "\n",
    "while True:\n",
    "    try:\n",
    "        n18=float(input(\"Enter the first number\"))\n",
    "        n19=float(input(\"Enter the second number\"))\n",
    "        opr=input(\"enter the operator (+,-,*,/)\")\n",
    "\n",
    "        result=calculate(n18, n19, opr)\n",
    "        print(f\"{n18} {opr} {n19} = {result}\")\n",
    "\n",
    "    except ValueError:\n",
    "        print(\"Invalid input. enter numeric values\")\n",
    "    choice = input(\"Do you want to perform another calculation? (yes/no): \").lower()\n",
    "    if choice != 'yes':\n",
    "        print(\"Exiting the calculator. Goodbye!\")\n",
    "        break\n",
    "    "
   ]
  },
  {
   "cell_type": "markdown",
   "id": "6132cdd0-6d94-4413-a43e-e130430dbea0",
   "metadata": {},
   "source": [
    "**Q20: Write a program that determines the roots of a cubic equation using the Cardano formula.**"
   ]
  },
  {
   "cell_type": "code",
   "execution_count": 14,
   "id": "c879c458-38c7-428e-a816-a2eee328e1d8",
   "metadata": {},
   "outputs": [
    {
     "name": "stdin",
     "output_type": "stream",
     "text": [
      "Enter the coefficient a:  7\n",
      "Enter the coefficient b:  3\n",
      "Enter the coefficient c:  9\n",
      "Enter the coefficient d:  4\n"
     ]
    },
    {
     "name": "stdout",
     "output_type": "stream",
     "text": [
      "The roots of the cubic equation are: (0.7665570338497611-0.697961547252397j), (0.006888199574673792+0.25936654128870634j), and (-1.2020166619958634+0.43859500596369067j)\n"
     ]
    }
   ],
   "source": [
    "import cmath\n",
    "\n",
    "def cardano_roots(a, b, c, d):\n",
    "    if a == 0:\n",
    "        raise ValueError(\"The coefficient 'a' must not be zero for a cubic equation.\")\n",
    "    \n",
    "    # Normalize coefficients\n",
    "    p = (3*a*c - b**2) / (3*a**2)\n",
    "    q = (2*b**3 - 9*a*b*c + 27*a**2*d) / (27*a**3)\n",
    "    \n",
    "    # Calculate discriminant\n",
    "    discriminant = (q/2)**2 + (p/3)**3\n",
    "    \n",
    "    # Calculate roots\n",
    "    if discriminant > 0:\n",
    "        u = cmath.sqrt(discriminant) - q/2\n",
    "        v = -cmath.sqrt(discriminant) - q/2\n",
    "        u = u**(1/3)\n",
    "        v = v**(1/3)\n",
    "        root1 = u + v - b/(3*a)\n",
    "        root2 = -(u+v)/2 - b/(3*a) + cmath.sqrt(3)*(u-v)/2j\n",
    "        root3 = -(u+v)/2 - b/(3*a) - cmath.sqrt(3)*(u-v)/2j\n",
    "    elif discriminant == 0:\n",
    "        u = (3*q/p)**(1/3)\n",
    "        root1 = 2*u - b/(3*a)\n",
    "        root2 = -u - b/(3*a)\n",
    "        root3 = root2\n",
    "    else:\n",
    "        r = cmath.sqrt(-p/3)\n",
    "        phi = cmath.acos(3*q/(2*p) * r)\n",
    "        root1 = 2*r*cmath.cos(phi/3) - b/(3*a)\n",
    "        root2 = 2*r*cmath.cos((phi + 2*cmath.pi)/3) - b/(3*a)\n",
    "        root3 = 2*r*cmath.cos((phi + 4*cmath.pi)/3) - b/(3*a)\n",
    "    \n",
    "    return root1, root2, root3\n",
    "\n",
    "# Input coefficients\n",
    "a = float(input(\"Enter the coefficient a: \"))\n",
    "b = float(input(\"Enter the coefficient b: \"))\n",
    "c = float(input(\"Enter the coefficient c: \"))\n",
    "d = float(input(\"Enter the coefficient d: \"))\n",
    "\n",
    "# Calculate roots\n",
    "try:\n",
    "    roots = cardano_roots(a, b, c, d)\n",
    "    print(f\"The roots of the cubic equation are: {roots[0]}, {roots[1]}, and {roots[2]}\")\n",
    "except ValueError as e:\n",
    "    print(e)\n"
   ]
  },
  {
   "cell_type": "markdown",
   "id": "06e33e37-7aaa-44b2-b347-4d7081b66a09",
   "metadata": {},
   "source": [
    "# Advanced Level"
   ]
  },
  {
   "cell_type": "markdown",
   "id": "2dc9e957-59f1-4c67-aec5-924533ac4dc6",
   "metadata": {},
   "source": [
    "**Q21: Create a program that calculates the income tax based on the user's income and tax brackets.**"
   ]
  },
  {
   "cell_type": "code",
   "execution_count": 1,
   "id": "fcc63d63-0373-4c6e-8291-64066a7aaa92",
   "metadata": {},
   "outputs": [
    {
     "name": "stdin",
     "output_type": "stream",
     "text": [
      "Enter your annual income 500000\n"
     ]
    },
    {
     "name": "stdout",
     "output_type": "stream",
     "text": [
      "10000.0\n"
     ]
    }
   ],
   "source": [
    "def calculate_income_tax(income):\n",
    "    if income<=300000:\n",
    "        tax=0\n",
    "    elif income<=700000:\n",
    "        tax=(income-300000)*0.05\n",
    "    elif income<=1000000:\n",
    "        tax=(income-700000)*0.10+ 400000*0.05\n",
    "    elif income<=1200000:\n",
    "        tax=(income-1000000)*0.15+300000*0.10+400000*0.05\n",
    "    elif income<=1500000:\n",
    "        tax=(income-1200000)*0.20+200000*0.15+300000*0.10+400000*0.05\n",
    "    else:\n",
    "        tax=(income-1500000)*0.30+300000*0.20+200000*0.15+300000*0.10+400000*0.05\n",
    "    return tax\n",
    "\n",
    "try:\n",
    "    income=float(input(\"Enter your annual income\"))\n",
    "    if income<0:\n",
    "        raise ValueError(\"Income cannot be negative\")\n",
    "    tax=calculate_income_tax(income)\n",
    "    print(tax)\n",
    "except ValueError as e:\n",
    "    print(e)"
   ]
  },
  {
   "cell_type": "markdown",
   "id": "453defa1-94d6-4c5d-a86c-1528f415c061",
   "metadata": {},
   "source": [
    "**Q22: Write a program that simulates a rock-paper-scissors game against the computer.**"
   ]
  },
  {
   "cell_type": "code",
   "execution_count": 4,
   "id": "10f93247-8b0d-4308-b417-db32e6b6bb68",
   "metadata": {},
   "outputs": [
    {
     "name": "stdin",
     "output_type": "stream",
     "text": [
      "Enter your choice (rock, paper or scissors): rock\n"
     ]
    },
    {
     "name": "stdout",
     "output_type": "stream",
     "text": [
      "Computer chose: scissors\n",
      "You win!\n"
     ]
    },
    {
     "name": "stdin",
     "output_type": "stream",
     "text": [
      "Do you want to play again? (yes or no): yes\n",
      "Enter your choice (rock, paper or scissors): paper\n"
     ]
    },
    {
     "name": "stdout",
     "output_type": "stream",
     "text": [
      "Computer chose: scissors\n",
      "Computer wins!\n"
     ]
    },
    {
     "name": "stdin",
     "output_type": "stream",
     "text": [
      "Do you want to play again? (yes or no): no\n"
     ]
    }
   ],
   "source": [
    "import random\n",
    "def get_computer_choice():\n",
    "    choices=[\"rock\",\"paper\",\"scissors\"]\n",
    "    return random.choice(choices)\n",
    "\n",
    "def get_user_choice():\n",
    "    user_choice=input(\"Enter your choice (rock, paper or scissors):\").lower()\n",
    "    while user_choice not in [\"rock\", \"paper\", \"scissors\"]:\n",
    "        user_choice= input(\"Invalid choice. Please enter rock, paper or scissors:\").lower()\n",
    "    return user_choice\n",
    "\n",
    "def determine_winner(user_choice, computer_choice):\n",
    "    if user_choice==computer_choice:\n",
    "        return \"It's a tie!\"\n",
    "    elif (user_choice==\"rock\" and computer_choice==\"scissors\") or \\\n",
    "         (user_choice==\"scissors\" and computer_choice==\"paper\") or \\\n",
    "         (user_choice==\"paper\" and computer_choice==\"rock\"):\n",
    "        return \"You win!\"\n",
    "    else:\n",
    "        return \"Computer wins!\"\n",
    "\n",
    "def play_game():\n",
    "    while True:\n",
    "        user_choice= get_user_choice()\n",
    "        computer_choice= get_computer_choice()\n",
    "        print(f\"Computer chose: {computer_choice}\")\n",
    "        result=determine_winner(user_choice, computer_choice)\n",
    "        print(result)\n",
    "        play_again=input(\"Do you want to play again? (yes or no):\").lower()\n",
    "        if play_again!=\"yes\":\n",
    "            break\n",
    "\n",
    "play_game()\n",
    "    "
   ]
  },
  {
   "cell_type": "markdown",
   "id": "7c6703a6-4891-4f91-8eb3-7a250861db9c",
   "metadata": {},
   "source": [
    "**Q23: Develop a program that generates a random password based on user preferences (length, complexity).**"
   ]
  },
  {
   "cell_type": "code",
   "execution_count": 5,
   "id": "34cb830e-2500-4ae5-843d-760c36f9f8b5",
   "metadata": {},
   "outputs": [
    {
     "name": "stdin",
     "output_type": "stream",
     "text": [
      "Enter the desired password length 7\n"
     ]
    },
    {
     "name": "stdout",
     "output_type": "stream",
     "text": [
      "Select character types to include in the password\n"
     ]
    },
    {
     "name": "stdin",
     "output_type": "stream",
     "text": [
      "Include lowercase letters? (yes or no):  yes\n",
      "Include uppercase letters? (yes or no):  yes\n",
      "Include digits? (yes or no):  yes\n",
      "Include special characters? (yes or no):  yes\n"
     ]
    },
    {
     "name": "stdout",
     "output_type": "stream",
     "text": [
      "Generated password: g7O|B)V\n"
     ]
    }
   ],
   "source": [
    "import random\n",
    "import string\n",
    "\n",
    "def generate_password(length, use_lowercase, use_uppercase, use_digits, use_special):\n",
    "    characters= ''\n",
    "    if use_lowercase:\n",
    "        characters+=string.ascii_lowercase\n",
    "    if use_uppercase:\n",
    "        characters+=string.ascii_uppercase\n",
    "    if use_digits:\n",
    "        characters+=string.digits\n",
    "    if use_special:\n",
    "        characters+=string.punctuation\n",
    "\n",
    "    if not characters:\n",
    "        raise ValueError(\"At least one character type must be selected\")\n",
    "\n",
    "    password=''.join(random.choice(characters) for _ in range(length))\n",
    "    return password\n",
    "\n",
    "def get_user_preferences():\n",
    "    length=int(input(\"Enter the desired password length\"))\n",
    "    print(\"Select character types to include in the password\")\n",
    "    use_lowercase=input(\"Include lowercase letters? (yes or no): \").lower()==\"yes\"\n",
    "    use_uppercase=input(\"Include uppercase letters? (yes or no): \").lower()==\"yes\"\n",
    "    use_digits=input(\"Include digits? (yes or no): \").lower()==\"yes\"\n",
    "    use_special=input(\"Include special characters? (yes or no): \").lower()==\"yes\"\n",
    "\n",
    "    return length, use_lowercase, use_uppercase, use_digits, use_special\n",
    "\n",
    "def main():\n",
    "    try:\n",
    "        length, use_lowercase, use_uppercase, use_digits, use_special= get_user_preferences()\n",
    "        password=generate_password(length, use_lowercase, use_uppercase, use_digits, use_special)\n",
    "        print(f\"Generated password: {password}\")\n",
    "    except ValueError as e:\n",
    "        print(e)\n",
    "    except Exception as e:\n",
    "        print(f\"An error occured: {e}\")\n",
    "\n",
    "if __name__==\"__main__\":\n",
    "    main()"
   ]
  },
  {
   "cell_type": "markdown",
   "id": "eb59f9cc-a372-417d-a1c1-1c5b6a5a95f0",
   "metadata": {},
   "source": [
    "**Q24: Create a program that implements a simple text-based adventure game with branching scenarios.**"
   ]
  },
  {
   "cell_type": "code",
   "execution_count": 2,
   "id": "8fad73a9-1846-4101-ba8a-111bac81dc1b",
   "metadata": {},
   "outputs": [
    {
     "name": "stdout",
     "output_type": "stream",
     "text": [
      "Welcome to the adventure game!\n",
      "You find yourself in a dark forest. There are two paths in front of you\n",
      "Do you want to go left or right?\n"
     ]
    },
    {
     "name": "stdin",
     "output_type": "stream",
     "text": [
      "Enter 'left' or 'right': right\n"
     ]
    },
    {
     "name": "stdout",
     "output_type": "stream",
     "text": [
      "\n",
      "You chose the right path. You encountered a friendly dog.\n",
      "Do you want to pet the dog or ignore it?\n"
     ]
    },
    {
     "name": "stdin",
     "output_type": "stream",
     "text": [
      "Enter 'pet' or 'ignore': pet\n"
     ]
    },
    {
     "name": "stdout",
     "output_type": "stream",
     "text": [
      "\n",
      "You decided to pet the dog.\n",
      "The dog is happy and lead you to a hidden treasure.\n",
      "Congratulations! You win!\n"
     ]
    },
    {
     "name": "stdin",
     "output_type": "stream",
     "text": [
      "Do you want to play again? (yes or no): no\n"
     ]
    },
    {
     "name": "stdout",
     "output_type": "stream",
     "text": [
      "Thank you for playing.\n"
     ]
    }
   ],
   "source": [
    "def start_game():\n",
    "    print(\"Welcome to the adventure game!\")\n",
    "    print(\"You find yourself in a dark forest. There are two paths in front of you\")\n",
    "    print(\"Do you want to go left or right?\")\n",
    "\n",
    "    choice=input(\"Enter 'left' or 'right':\").lower()\n",
    "\n",
    "    if choice=='left':\n",
    "        left_path()\n",
    "    elif choice=='right':\n",
    "        right_path()\n",
    "    else:\n",
    "        print(\"Invalid choice. Please enter 'left' or 'right'.\")\n",
    "        start_game()\n",
    "\n",
    "def left_path():\n",
    "    print(\"\\nYou chose the left path. You walk for a while and find a river\")\n",
    "    print(\"Do you want to swim across or follow the river?\")\n",
    "\n",
    "    choice=input(\"Enter 'swim' or 'follow':\").lower()\n",
    "\n",
    "    if choice=='swim':\n",
    "        swim_river()\n",
    "    elif choice=='follow':\n",
    "        follow_river()\n",
    "    else:\n",
    "        print(\"Invalid choice. Please enter 'swim' or 'follow'.\")\n",
    "        left_path()\n",
    "\n",
    "def right_path():\n",
    "    print(\"\\nYou chose the right path. You encountered a friendly dog.\")\n",
    "    print(\"Do you want to pet the dog or ignore it?\")\n",
    "\n",
    "    choice=input(\"Enter 'pet' or 'ignore':\").lower()\n",
    "\n",
    "    if choice=='pet':\n",
    "        pet_dog()\n",
    "    elif choice=='ignore':\n",
    "        ignore_dog()\n",
    "    else:\n",
    "        print(\"Invalid choice. Please enter 'pet' or 'ignore'.\")\n",
    "        right_path()\n",
    "\n",
    "def swim_river():\n",
    "    print(\"\\nYou decided to swim across the river\")\n",
    "    print(\"Unfortunately, the current was too strong. You didn't make it\")\n",
    "    print(\"Game over\")\n",
    "    play_again()\n",
    "\n",
    "def follow_river():\n",
    "    print(\"\\nYou decided to follow the river.\")\n",
    "    print(\"After a long walk, you find a small village and are rescued.\")\n",
    "    print(\"Congratulations! You win!\")\n",
    "    play_again()\n",
    "\n",
    "def pet_dog():\n",
    "    print(\"\\nYou decided to pet the dog.\")\n",
    "    print(\"The dog is happy and lead you to a hidden treasure.\")\n",
    "    print(\"Congratulations! You win!\")\n",
    "    play_again()\n",
    "\n",
    "def ignore_dog():\n",
    "    print(\"\\nYou decided to ignore the dog.\")\n",
    "    print(\"You continue walking and get lost in the forest.\")\n",
    "    print(\"Game Over\")\n",
    "    play_again()\n",
    "\n",
    "def play_again():\n",
    "    choice=input(\"Do you want to play again? (yes or no):\").lower()\n",
    "    if choice=='yes':\n",
    "        start_game()\n",
    "    elif choice=='no':\n",
    "        print(\"Thank you for playing.\")\n",
    "    else:\n",
    "        print(\"Invalid choice. Please enter 'yes' or 'no'.\")\n",
    "        play_again()\n",
    "\n",
    "start_game()\n",
    "        \n",
    "    \n",
    "    "
   ]
  },
  {
   "cell_type": "markdown",
   "id": "285c6a06-7b88-418b-b924-2644727e20a9",
   "metadata": {},
   "source": [
    "**Q25: Build a program that solves a linear equation for x, considering different cases.**"
   ]
  },
  {
   "cell_type": "code",
   "execution_count": 3,
   "id": "e7ebe8f3-4071-42fc-9d83-26a76d5115aa",
   "metadata": {},
   "outputs": [
    {
     "name": "stdin",
     "output_type": "stream",
     "text": [
      "Enter the coefficient a:  3\n",
      "Enter the constant term b:  8\n"
     ]
    },
    {
     "name": "stdout",
     "output_type": "stream",
     "text": [
      "The solution is x = -2.6666666666666665\n"
     ]
    }
   ],
   "source": [
    "def solve_linear_equation(a, b):\n",
    "    if a != 0:\n",
    "        x = -b / a\n",
    "        return f\"The solution is x = {x}\"\n",
    "    else:\n",
    "        if b == 0:\n",
    "            return \"The equation has infinite solutions.\"\n",
    "        else:\n",
    "            return \"The equation has no solution.\"\n",
    "\n",
    "# Get user input for coefficients a and b\n",
    "try:\n",
    "    a = float(input(\"Enter the coefficient a: \"))\n",
    "    b = float(input(\"Enter the constant term b: \"))\n",
    "    \n",
    "    # Solve the linear equation\n",
    "    result = solve_linear_equation(a, b)\n",
    "    print(result)\n",
    "except ValueError:\n",
    "    print(\"Invalid input. Please enter numeric values for a and b.\")\n",
    "\n"
   ]
  },
  {
   "cell_type": "markdown",
   "id": "a19ee6bf-7b34-4bb7-a428-d1ebf847a2d6",
   "metadata": {},
   "source": [
    "**Q26: Write a program that simulates a basic quiz game with multiple-choice questions and scoring.**"
   ]
  },
  {
   "cell_type": "code",
   "execution_count": 6,
   "id": "c8dc6df4-8b8f-46d7-8ac6-b5e11b65163d",
   "metadata": {},
   "outputs": [
    {
     "name": "stdout",
     "output_type": "stream",
     "text": [
      "Welcome to the quiz game!\n",
      "\n",
      "What is the capital of France?\n",
      "1. Berlin\n",
      "2. Madrid\n",
      "3. Paris\n",
      "4. Lisbon\n"
     ]
    },
    {
     "name": "stdin",
     "output_type": "stream",
     "text": [
      "Enter the number of your choice: 3\n"
     ]
    },
    {
     "name": "stdout",
     "output_type": "stream",
     "text": [
      "Correct!\n",
      "\n",
      "Which planet is known as the Red Planet?\n",
      "1. Earth\n",
      "2. Mars\n",
      "3. Jupiter\n",
      "4. Saturn\n"
     ]
    },
    {
     "name": "stdin",
     "output_type": "stream",
     "text": [
      "Enter the number of your choice: 2\n"
     ]
    },
    {
     "name": "stdout",
     "output_type": "stream",
     "text": [
      "Correct!\n",
      "\n",
      "Who wrote 'Romeo and Juliet'?\n",
      "1. William Shakespeare\n",
      "2. Mark Twain\n",
      "3. Jane Austen\n",
      "4. Charles Dickens\n"
     ]
    },
    {
     "name": "stdin",
     "output_type": "stream",
     "text": [
      "Enter the number of your choice: 1\n"
     ]
    },
    {
     "name": "stdout",
     "output_type": "stream",
     "text": [
      "Correct!\n",
      "\n",
      "What is the largest ocean on Earth?\n",
      "1. Atlantic Ocean\n",
      "2. Indian Ocean\n",
      "3. Arctic Ocean\n",
      "4. Pacific Ocean\n"
     ]
    },
    {
     "name": "stdin",
     "output_type": "stream",
     "text": [
      "Enter the number of your choice: 4\n"
     ]
    },
    {
     "name": "stdout",
     "output_type": "stream",
     "text": [
      "Correct!\n",
      "\n",
      "Your final score is 4 out of 4.\n",
      "Thank you for playing!\n"
     ]
    }
   ],
   "source": [
    "def ask_question(question, options, correct_option):\n",
    "    print(\"\\n\" + question)\n",
    "    for i, option in enumerate(options, start=1):\n",
    "        print(f\"{i}. {option}\")\n",
    "\n",
    "    user_answer= input(\"Enter the number of your choice:\").strip()\n",
    "\n",
    "    try:\n",
    "        user_answer= int(user_answer)\n",
    "        if user_answer<1 or user_answer>len(options):\n",
    "            print(\"Invalid choice. PLease enter a number between 1 and 4.\")\n",
    "            return ask_question(question, options, correct_option)\n",
    "    except ValueError:\n",
    "        print(\"Invalid input. Please enter a number.\")\n",
    "        return ask_question(question, options, correct_option)\n",
    "\n",
    "    return user_answer==correct_option\n",
    "\n",
    "def quiz_game():\n",
    "    questions=[\n",
    "        {\n",
    "            \"question\":\"What is the capital of France?\",\n",
    "            \"options\":[\"Berlin\",\"Madrid\", \"Paris\", \"Lisbon\"],\n",
    "            \"correct_option\": 3\n",
    "        },\n",
    "         \n",
    "        {\n",
    "            \"question\": \"Which planet is known as the Red Planet?\",\n",
    "            \"options\": [\"Earth\", \"Mars\", \"Jupiter\", \"Saturn\"],\n",
    "            \"correct_option\": 2\n",
    "        },\n",
    "         \n",
    "        {\n",
    "            \"question\": \"Who wrote 'Romeo and Juliet'?\",\n",
    "            \"options\": [\"William Shakespeare\", \"Mark Twain\", \"Jane Austen\", \"Charles Dickens\"],\n",
    "            \"correct_option\": 1\n",
    "        },\n",
    "        {\n",
    "            \"question\": \"What is the largest ocean on Earth?\",\n",
    "            \"options\": [\"Atlantic Ocean\", \"Indian Ocean\", \"Arctic Ocean\", \"Pacific Ocean\"],\n",
    "            \"correct_option\": 4\n",
    "        }\n",
    "    ]\n",
    "\n",
    "    score=0\n",
    "\n",
    "    print(\"Welcome to the quiz game!\")\n",
    "\n",
    "    for question_data in questions:\n",
    "         if ask_question(question_data[\"question\"], question_data[\"options\"], question_data[\"correct_option\"]):\n",
    "            print(\"Correct!\")\n",
    "            score += 1\n",
    "         else:\n",
    "            print(\"Wrong answer.\")\n",
    "\n",
    "    print(f\"\\nYour final score is {score} out of {len(questions)}.\")\n",
    "    print(\"Thank you for playing!\")\n",
    "\n",
    "\n",
    "quiz_game()\n",
    "    \n",
    "    "
   ]
  },
  {
   "cell_type": "markdown",
   "id": "ba75013c-6615-4246-9e9b-9267aaeb0c59",
   "metadata": {},
   "source": [
    "**Q27: Develop a program that determines whether a given year is a prime number or not.**"
   ]
  },
  {
   "cell_type": "code",
   "execution_count": 8,
   "id": "6dce197e-2548-408b-bd45-5e87e6587f59",
   "metadata": {},
   "outputs": [
    {
     "name": "stdin",
     "output_type": "stream",
     "text": [
      "Enter a year: 2014\n"
     ]
    },
    {
     "name": "stdout",
     "output_type": "stream",
     "text": [
      "2014 is not a prime number\n"
     ]
    }
   ],
   "source": [
    "def is_prime(number):\n",
    "    if number<=1:\n",
    "        return False\n",
    "    if number==2:\n",
    "        return True\n",
    "    if number%2==0:\n",
    "        return False\n",
    "    for i in range(3, int(number**0.5), 2):\n",
    "        if number%i==0:\n",
    "            return False\n",
    "    return True\n",
    "\n",
    "try:\n",
    "    year=int(input(\"Enter a year:\"))\n",
    "    if year<0:\n",
    "             raise ValueError(\"Year cannot be negative\")\n",
    "    if is_prime(year):\n",
    "        print(f\"{year} is a prime number\")\n",
    "    else:\n",
    "        print(f\"{year} is not a prime number\")\n",
    "except ValueError as e:\n",
    "    print(e)"
   ]
  },
  {
   "cell_type": "markdown",
   "id": "df16878f-4807-491b-ac73-58d4f0e02575",
   "metadata": {},
   "source": [
    "**Q28: Create a program that sorts three numbers in ascending order using conditional statements.**"
   ]
  },
  {
   "cell_type": "code",
   "execution_count": 10,
   "id": "82eca652-06cf-4b75-8633-617391d5cb77",
   "metadata": {},
   "outputs": [
    {
     "name": "stdin",
     "output_type": "stream",
     "text": [
      "Enter the first number: 7\n",
      "Enter the second number: 9\n",
      "Enter the third number: 4\n"
     ]
    },
    {
     "name": "stdout",
     "output_type": "stream",
     "text": [
      "The numbers in ascending order are 4.0, 7.0, 9.0\n"
     ]
    }
   ],
   "source": [
    "num1=float(input(\"Enter the first number:\"))\n",
    "num2=float(input(\"Enter the second number:\"))\n",
    "num3=float(input(\"Enter the third number:\"))\n",
    "\n",
    "if num1<=num2<=num3:\n",
    "    smallest, middle, largest= num1, num2, num3\n",
    "elif num1<=num3<=num2:\n",
    "    smallest, middle, largest= num1, num3, num2\n",
    "elif num2<=num1<=num3:\n",
    "    smallest, middle, largest=num2, num1, num3\n",
    "elif num2<=num3<=num1:\n",
    "    smallest, middle, largest= num2, num3, num1\n",
    "elif num3<=num1<=num2:\n",
    "    smallest, middle, largest=num3, num1, num2\n",
    "else:\n",
    "    smallest, middle, largest=num3, num2, num1\n",
    "\n",
    "print(f\"The numbers in ascending order are {smallest}, {middle}, {largest}\")\n",
    "    \n",
    "    "
   ]
  },
  {
   "cell_type": "markdown",
   "id": "033e986c-cb1d-4cd2-a849-b1a14a8e847d",
   "metadata": {},
   "source": [
    "**Q29: Build a program that determines the roots of a quartic equation using numerical methods.**"
   ]
  },
  {
   "cell_type": "code",
   "execution_count": 11,
   "id": "5f39bc63-05ce-43a9-9f88-c4c0da69dc4a",
   "metadata": {},
   "outputs": [
    {
     "name": "stdout",
     "output_type": "stream",
     "text": [
      "Approximate roots of the quartic equation are: [1.0, 2.0, 3.0, 4.0]\n"
     ]
    }
   ],
   "source": [
    "import numpy as np\n",
    "\n",
    "def quartic_function(x, a, b, c, d, e):\n",
    "    return a * x**4 + b * x**3 + c * x**2 + d * x + e\n",
    "\n",
    "def quartic_derivative(x, a, b, c, d, e):\n",
    "    return 4 * a * x**3 + 3 * b * x**2 + 2 * c * x + d\n",
    "\n",
    "def newton_raphson(a, b, c, d, e, initial_guess, tolerance=1e-7, max_iterations=1000):\n",
    "    x = initial_guess\n",
    "    for i in range(max_iterations):\n",
    "        fx = quartic_function(x, a, b, c, d, e)\n",
    "        fpx = quartic_derivative(x, a, b, c, d, e)\n",
    "        if fpx == 0:\n",
    "            print(\"Zero derivative. No solution found.\")\n",
    "            return None\n",
    "        x_new = x - fx / fpx\n",
    "        if abs(x_new - x) < tolerance:\n",
    "            return x_new\n",
    "        x = x_new\n",
    "    print(\"Exceeded maximum iterations. No solution found.\")\n",
    "    return None\n",
    "\n",
    "def find_quartic_roots(a, b, c, d, e, initial_guesses):\n",
    "    roots = []\n",
    "    for guess in initial_guesses:\n",
    "        root = newton_raphson(a, b, c, d, e, guess)\n",
    "        if root is not None:\n",
    "            roots.append(root)\n",
    "    return roots\n",
    "\n",
    "# Coefficients of the quartic equation ax^4 + bx^3 + cx^2 + dx + e = 0\n",
    "a = 1\n",
    "b = -10\n",
    "c = 35\n",
    "d = -50\n",
    "e = 24\n",
    "\n",
    "# Initial guesses for the roots\n",
    "initial_guesses = [1, 2, 3, 4]\n",
    "\n",
    "roots = find_quartic_roots(a, b, c, d, e, initial_guesses)\n",
    "print(\"Approximate roots of the quartic equation are:\", roots)\n"
   ]
  },
  {
   "cell_type": "markdown",
   "id": "be5dbddc-66d2-4e8a-9cde-0ff49c730148",
   "metadata": {},
   "source": [
    "**Q30: Write a program that calculates the BMI (Body Mass Index) and provides health recommendations based\n",
    "on the user's input.**"
   ]
  },
  {
   "cell_type": "code",
   "execution_count": 12,
   "id": "0302ca7d-e93b-4af9-852a-d696dd3c7b32",
   "metadata": {},
   "outputs": [
    {
     "name": "stdin",
     "output_type": "stream",
     "text": [
      "Enter your weight in kilograms: 37\n",
      "Enter your height in meters: 1.49\n"
     ]
    },
    {
     "name": "stdout",
     "output_type": "stream",
     "text": [
      "\n",
      "Your bmi is: 16.67\n",
      "Underweight: It is recommended to gain weight by having a balanced diet rich in nutrients. Consult a healthcare provider for personalized advice.\n"
     ]
    }
   ],
   "source": [
    "def calculate_bmi(weight, height):\n",
    "    bmi=weight/(height**2)\n",
    "    return bmi\n",
    "\n",
    "def health_recommendations(bmi):\n",
    "    if bmi<18.5:\n",
    "        return \"Underweight: It is recommended to gain weight by having a balanced diet rich in nutrients. Consult a healthcare provider for personalized advice.\"\n",
    "    elif 18.5<=bmi<24.9:\n",
    "        return \"Normal weight: Maintain your weight by having a balanced diet and regular physical activity.\"\n",
    "    elif 25<=bmi<29.9:\n",
    "        return \"Overweight: It is recommended to lose weight through a balanced diet and regular physical activity. Consult a healthcare provider for personalized advice.\"\n",
    "    else:\n",
    "        return \"Obesity: It is recommended to lose weight through balanced diet, regular physical activity, and possibly medical intervention. Consult a healthcare provider for personalized advice.\"\n",
    "\n",
    "def main():\n",
    "    try:\n",
    "        weight=float(input(\"Enter your weight in kilograms:\"))\n",
    "        height=float(input(\"Enter your height in meters:\"))\n",
    "\n",
    "        if weight<=0 or height<=0:\n",
    "            raise ValueError(\"Weight and height must be positive values.\")\n",
    "\n",
    "        bmi=calculate_bmi(weight, height)\n",
    "        recommendations=health_recommendations(bmi)\n",
    "        print(f\"\\nYour bmi is: {bmi:.2f}\")\n",
    "        print(recommendations)\n",
    "    except ValueError as e:\n",
    "        print(f\"Invalid input: {e}\")\n",
    "\n",
    "if __name__==\"__main__\":\n",
    "    main()\n",
    "        "
   ]
  },
  {
   "cell_type": "markdown",
   "id": "6f66ee25-86e7-470d-9f66-e2da3aeba257",
   "metadata": {},
   "source": [
    "# Challenge Level"
   ]
  },
  {
   "cell_type": "markdown",
   "id": "0eb59e5d-8617-4c82-9f01-6c7ce90d1a12",
   "metadata": {},
   "source": [
    "**Q31: Create a program that validates a password based on complexity rules (length, characters, etc.).**"
   ]
  },
  {
   "cell_type": "code",
   "execution_count": 4,
   "id": "1975822e-0218-4a9a-aeec-40f2cb76284a",
   "metadata": {},
   "outputs": [
    {
     "name": "stdin",
     "output_type": "stream",
     "text": [
      "Enter a password to validate. rty56SOp@\n"
     ]
    },
    {
     "name": "stdout",
     "output_type": "stream",
     "text": [
      "Password is valid.\n"
     ]
    }
   ],
   "source": [
    "import string\n",
    "\n",
    "def validate_password(password):\n",
    "    min_length=8\n",
    "    require_uppercase=True\n",
    "    require_lowercase=True\n",
    "    require_digits=True\n",
    "    require_special=True\n",
    "\n",
    "    has_uppercase= False\n",
    "    has_lowercase= False\n",
    "    has_digits= False\n",
    "    has_special= False\n",
    "\n",
    "    if len(password)< min_length:\n",
    "        return False, f\"password must be {min_length} characters long\"\n",
    "\n",
    "    for char in password:\n",
    "        if char in string.ascii_uppercase:\n",
    "            has_uppercase=True\n",
    "        if char in string.ascii_lowercase:\n",
    "            has_lowercase=True\n",
    "        if char in string.digits:\n",
    "            has_digits=True\n",
    "        if char in string.punctuation:\n",
    "            has_special=True\n",
    "\n",
    "    if require_uppercase and not has_uppercase:\n",
    "        return False, \"Password must contain atleast one uppercase letter.\"\n",
    "    if require_lowercase and not has_lowercase:\n",
    "        return False, \"Password must contain atleast one lowercase letter.\"\n",
    "    if require_digits and not has_digits:\n",
    "        return False, \"Password must contain atleast one digit.\"\n",
    "    if require_special and not has_special:\n",
    "        return False, \"Password must contain atleast one special character.\"\n",
    "\n",
    "    return True, \"Password is valid.\"\n",
    "\n",
    "def main():\n",
    "    password=input(\"Enter a password to validate.\")\n",
    "    is_valid, message=validate_password(password)\n",
    "    if is_valid:\n",
    "        print(message)\n",
    "    else:\n",
    "        print(f\"Invalid password: {message}\")\n",
    "\n",
    "if __name__=='__main__':\n",
    "    main()"
   ]
  },
  {
   "cell_type": "markdown",
   "id": "701f71f0-bbd6-45ed-8816-04d0a8a2ac82",
   "metadata": {},
   "source": [
    "**Q32: Develop a program that performs matrix addition and subtraction based on user input.**"
   ]
  },
  {
   "cell_type": "code",
   "execution_count": 8,
   "id": "d2bc8974-adb7-4410-acc5-e32c089c35c2",
   "metadata": {},
   "outputs": [
    {
     "name": "stdin",
     "output_type": "stream",
     "text": [
      "Enter the no. of rows for the matrices. 3\n",
      "Enter the no. of columns for the matrices. 3\n"
     ]
    },
    {
     "name": "stdout",
     "output_type": "stream",
     "text": [
      "Enter the elements of the first matrix:\n",
      "Enter the elements of a 3x3 matrix row by row:\n"
     ]
    },
    {
     "name": "stdin",
     "output_type": "stream",
     "text": [
      " 3 4 5\n",
      " 1 2 3\n",
      " 3 1 4\n"
     ]
    },
    {
     "name": "stdout",
     "output_type": "stream",
     "text": [
      "Enter the elements of the second matrix:\n",
      "Enter the elements of a 3x3 matrix row by row:\n"
     ]
    },
    {
     "name": "stdin",
     "output_type": "stream",
     "text": [
      " 1 2 4\n",
      " 2 9 0\n",
      " 5 7 8\n",
      "Enter the operation (+ for addition, - for subtraction): +\n"
     ]
    },
    {
     "name": "stdout",
     "output_type": "stream",
     "text": [
      "The result of matrix is:\n",
      "4 6 9\n",
      "3 11 3\n",
      "8 8 12\n"
     ]
    }
   ],
   "source": [
    "def get_matrix_input(rows, cols):\n",
    "    matrix=[]\n",
    "    print(f\"Enter the elements of a {rows}x{cols} matrix row by row:\")\n",
    "    for i in range(rows):\n",
    "        row=list(map(int,input().split()))\n",
    "        if len(row)!=cols:\n",
    "            raise ValueError(f\"Each row must have exactly {cols} elements.\")\n",
    "        matrix.append(row)\n",
    "    return matrix\n",
    "\n",
    "def display_matrix(matrix):\n",
    "    for row in matrix:\n",
    "        print(\" \".join(map(str,row)))\n",
    "\n",
    "def add_matrices(matrix1, matrix2):\n",
    "    rows=len(matrix1)\n",
    "    cols=len(matrix1[0])\n",
    "    result=[[matrix1[i][j]+ matrix2[i][j] for j in range(cols)] for i in range(rows)]\n",
    "    return result\n",
    "\n",
    "def subtract_matrices(matrix1, matrix2):\n",
    "    rows=len(matrix1)\n",
    "    cols=len(matrix1[0])\n",
    "    result=[[matrix1[i][j]- matrix2[i][j] for j in range(cols)] for i in range(rows)]\n",
    "    return result\n",
    "\n",
    "def main():\n",
    "    try:\n",
    "        rows=int(input(\"Enter the no. of rows for the matrices.\"))\n",
    "        cols=int(input(\"Enter the no. of columns for the matrices.\"))\n",
    "        print(\"Enter the elements of the first matrix:\")\n",
    "        matrix1=get_matrix_input(rows, cols)\n",
    "\n",
    "        print(\"Enter the elements of the second matrix:\")\n",
    "        matrix2=get_matrix_input(rows,cols)\n",
    "\n",
    "        operation=input(\"Enter the operation (+ for addition, - for subtraction):\").strip()\n",
    "\n",
    "        if operation=='+':\n",
    "            result=add_matrices(matrix1, matrix2)\n",
    "            print(\"The result of matrix is:\")\n",
    "        elif operation=='-':\n",
    "            result=subtract_matrices(matrix1, matrix2)\n",
    "            print(\"The result of matrix is:\")\n",
    "        else:\n",
    "            raise ValueError(\"Invalid Operation. Please enter + for addition or - for subtraction.\")\n",
    "        display_matrix(result)\n",
    "    except ValueError as e:\n",
    "        print(f\"Error:{e}\")\n",
    "\n",
    "if __name__==\"__main__\":\n",
    "    main()\n",
    "        "
   ]
  },
  {
   "cell_type": "markdown",
   "id": "16051ad2-6aa3-4ec9-943f-01afb3dcd432",
   "metadata": {},
   "source": [
    "**Q33: Write a program that calculates the greatest common divisor (GCD) of two numbers using the Euclidean\n",
    "algorithm.**"
   ]
  },
  {
   "cell_type": "code",
   "execution_count": 9,
   "id": "83b24861-8040-4b12-9fba-49ba9147961b",
   "metadata": {},
   "outputs": [
    {
     "name": "stdin",
     "output_type": "stream",
     "text": [
      "Enter the first number:  5\n",
      "Enter the second number:  23\n"
     ]
    },
    {
     "name": "stdout",
     "output_type": "stream",
     "text": [
      "The GCD of 5 and 23 is 1.\n"
     ]
    }
   ],
   "source": [
    "def gcd(a, b):\n",
    "    while b != 0:\n",
    "        a, b = b, a % b\n",
    "    return a\n",
    "\n",
    "def main():\n",
    "    try:\n",
    "        num1 = int(input(\"Enter the first number: \"))\n",
    "        num2 = int(input(\"Enter the second number: \"))\n",
    "        \n",
    "        if num1 < 0 or num2 < 0:\n",
    "            raise ValueError(\"Numbers must be non-negative.\")\n",
    "        \n",
    "        result = gcd(num1, num2)\n",
    "        print(f\"The GCD of {num1} and {num2} is {result}.\")\n",
    "        \n",
    "    except ValueError as e:\n",
    "        print(f\"Invalid input: {e}\")\n",
    "\n",
    "if __name__ == \"__main__\":\n",
    "    main()\n"
   ]
  },
  {
   "cell_type": "markdown",
   "id": "f90d8b63-0cd7-415c-90da-f7a20b67e9ba",
   "metadata": {},
   "source": [
    "**Q34: Build a program that performs matrix multiplication using nested loops and conditional statements.**"
   ]
  },
  {
   "cell_type": "code",
   "execution_count": 12,
   "id": "8b6d5a6e-c661-4959-af73-03a7a37e454e",
   "metadata": {},
   "outputs": [
    {
     "name": "stdin",
     "output_type": "stream",
     "text": [
      "Enter the no. of rows for the first matrix: 2\n",
      "Enter the no. of columns for the first matrix: 3\n"
     ]
    },
    {
     "name": "stdout",
     "output_type": "stream",
     "text": [
      "Enter the elements of the first matrix:\n",
      "Enter the elements of a 2x3 matrix row by row:\n"
     ]
    },
    {
     "name": "stdin",
     "output_type": "stream",
     "text": [
      " 3 4 5\n",
      " 2 1 4\n",
      "Enter the number of rows for the second matrix:  3\n",
      "Enter the number of columns for the second matrix:  3\n"
     ]
    },
    {
     "name": "stdout",
     "output_type": "stream",
     "text": [
      "Enter the elements of the second matrix:\n",
      "Enter the elements of a 3x3 matrix row by row:\n"
     ]
    },
    {
     "name": "stdin",
     "output_type": "stream",
     "text": [
      " 2 5 7\n",
      " 1 3 5\n",
      " 2 6 7\n"
     ]
    },
    {
     "name": "stdout",
     "output_type": "stream",
     "text": [
      "The result of matrix multiplication is:\n",
      "20 57 76\n",
      "13 37 47\n"
     ]
    }
   ],
   "source": [
    "def get_matrix_inputt(rows, cols):\n",
    "    matrix=[]\n",
    "    print(f\"Enter the elements of a {rows}x{cols} matrix row by row:\")\n",
    "    for i in range(rows):\n",
    "        row=list(map(int,input().split()))\n",
    "        if len(row)!=cols:\n",
    "            raise ValueError(f\"Each row must have exactly {cols} elements.\")\n",
    "        matrix.append(row)\n",
    "    return matrix\n",
    "\n",
    "def display_matrixx(matrix):\n",
    "    for row in matrix:\n",
    "        print(\" \".join(map(str,row)))\n",
    "\n",
    "def multiply_matrices(matrix1, matrix2):\n",
    "    rows_matrix1=len(matrix1)\n",
    "    cols_matrix1=len(matrix1[0])\n",
    "    rows_matrix2=len(matrix2)\n",
    "    cols_matrix2=len(matrix2[0])\n",
    "\n",
    "    if cols_matrix1!=rows_matrix2:\n",
    "        raise ValueError(\"Number of columns in the first matrix must be equal to the number of rows in the second matrix.\")\n",
    "    result=[[0 for _ in range(cols_matrix2)] for _ in range(rows_matrix1)]\n",
    "    for i in range(rows_matrix1):\n",
    "        for j in range(cols_matrix2):\n",
    "            for k in range(cols_matrix1):\n",
    "                result[i][j]+=matrix1[i][k]*matrix2[k][j]\n",
    "    return result\n",
    "\n",
    "def main():\n",
    "    try:\n",
    "        rows_matrix1=int(input(\"Enter the no. of rows for the first matrix:\"))\n",
    "        cols_matrix1=int(input(\"Enter the no. of columns for the first matrix:\"))\n",
    "        print(\"Enter the elements of the first matrix:\")\n",
    "        matrix1=get_matrix_inputt(rows_matrix1, cols_matrix1)\n",
    "\n",
    "        rows_matrix2 = int(input(\"Enter the number of rows for the second matrix: \"))\n",
    "        cols_matrix2 = int(input(\"Enter the number of columns for the second matrix: \"))\n",
    "        print(\"Enter the elements of the second matrix:\")\n",
    "        matrix2 = get_matrix_input(rows_matrix2, cols_matrix2)\n",
    "\n",
    "        result = multiply_matrices(matrix1, matrix2)\n",
    "        print(\"The result of matrix multiplication is:\")\n",
    "        display_matrix(result)\n",
    "    except ValueError as e:\n",
    "        print(f\"Error: {e}\")\n",
    "\n",
    "if __name__ == \"__main__\":\n",
    "    main()"
   ]
  },
  {
   "cell_type": "markdown",
   "id": "ae6d99e8-5860-4005-9662-9a3f0314fc27",
   "metadata": {},
   "source": [
    "**Q35: Create a program that simulates a basic text-based tic-tac-toe game against the computer.**"
   ]
  },
  {
   "cell_type": "code",
   "execution_count": 13,
   "id": "f002a42e-e041-4117-9a01-d75cec6bf483",
   "metadata": {},
   "outputs": [
    {
     "name": "stdout",
     "output_type": "stream",
     "text": [
      "  |   |  \n",
      "-----\n",
      "  |   |  \n",
      "-----\n",
      "  |   |  \n",
      "-----\n"
     ]
    },
    {
     "name": "stdin",
     "output_type": "stream",
     "text": [
      "Enter your move (row and column separated by space, e.g., '0 1'):  0\n"
     ]
    },
    {
     "name": "stdout",
     "output_type": "stream",
     "text": [
      "Invalid input. Enter row and column as numbers between 0 and 2 separated by space.\n"
     ]
    },
    {
     "name": "stdin",
     "output_type": "stream",
     "text": [
      "Enter your move (row and column separated by space, e.g., '0 1'):  0 1\n"
     ]
    },
    {
     "name": "stdout",
     "output_type": "stream",
     "text": [
      "Computer chose: 2 0\n",
      "  | X |  \n",
      "-----\n",
      "  |   |  \n",
      "-----\n",
      "O |   |  \n",
      "-----\n"
     ]
    },
    {
     "name": "stdin",
     "output_type": "stream",
     "text": [
      "Enter your move (row and column separated by space, e.g., '0 1'):  2 1\n"
     ]
    },
    {
     "name": "stdout",
     "output_type": "stream",
     "text": [
      "Computer chose: 1 2\n",
      "  | X |  \n",
      "-----\n",
      "  |   | O\n",
      "-----\n",
      "O | X |  \n",
      "-----\n"
     ]
    },
    {
     "name": "stdin",
     "output_type": "stream",
     "text": [
      "Enter your move (row and column separated by space, e.g., '0 1'):  1 1\n"
     ]
    },
    {
     "name": "stdout",
     "output_type": "stream",
     "text": [
      "  | X |  \n",
      "-----\n",
      "  | X | O\n",
      "-----\n",
      "O | X |  \n",
      "-----\n",
      "Congratulations! You win!\n"
     ]
    }
   ],
   "source": [
    "import random\n",
    "\n",
    "def print_board(board):\n",
    "    \"\"\"Function to print the game board.\"\"\"\n",
    "    for row in board:\n",
    "        print(\" | \".join(row))\n",
    "        print(\"-\" * 5)\n",
    "\n",
    "def check_winner(board, player):\n",
    "    \"\"\"Function to check if there is a winner.\"\"\"\n",
    "    # Check rows, columns, and diagonals\n",
    "    for row in board:\n",
    "        if all([cell == player for cell in row]):\n",
    "            return True\n",
    "\n",
    "    for col in range(3):\n",
    "        if all([board[row][col] == player for row in range(3)]):\n",
    "            return True\n",
    "\n",
    "    if all([board[i][i] == player for i in range(3)]) or all([board[i][2-i] == player for i in range(3)]):\n",
    "        return True\n",
    "\n",
    "    return False\n",
    "\n",
    "def is_full(board):\n",
    "    \"\"\"Function to check if the board is full.\"\"\"\n",
    "    return all([cell != \" \" for row in board for cell in row])\n",
    "\n",
    "def get_computer_move(board):\n",
    "    \"\"\"Function to get a valid move for the computer.\"\"\"\n",
    "    while True:\n",
    "        row = random.randint(0, 2)\n",
    "        col = random.randint(0, 2)\n",
    "        if board[row][col] == \" \":\n",
    "            return row, col\n",
    "\n",
    "def main():\n",
    "    board = [[\" \" for _ in range(3)] for _ in range(3)]\n",
    "    player = \"X\"\n",
    "    computer = \"O\"\n",
    "    \n",
    "    while True:\n",
    "        print_board(board)\n",
    "        \n",
    "        # Player move\n",
    "        while True:\n",
    "            try:\n",
    "                move = input(\"Enter your move (row and column separated by space, e.g., '0 1'): \")\n",
    "                row, col = map(int, move.split())\n",
    "                if board[row][col] == \" \":\n",
    "                    board[row][col] = player\n",
    "                    break\n",
    "                else:\n",
    "                    print(\"This cell is already taken. Try again.\")\n",
    "            except (ValueError, IndexError):\n",
    "                print(\"Invalid input. Enter row and column as numbers between 0 and 2 separated by space.\")\n",
    "        \n",
    "        if check_winner(board, player):\n",
    "            print_board(board)\n",
    "            print(\"Congratulations! You win!\")\n",
    "            break\n",
    "        \n",
    "        if is_full(board):\n",
    "            print_board(board)\n",
    "            print(\"It's a tie!\")\n",
    "            break\n",
    "        \n",
    "        # Computer move\n",
    "        row, col = get_computer_move(board)\n",
    "        board[row][col] = computer\n",
    "        print(f\"Computer chose: {row} {col}\")\n",
    "        \n",
    "        if check_winner(board, computer):\n",
    "            print_board(board)\n",
    "            print(\"Computer wins! Better luck next time.\")\n",
    "            break\n",
    "        \n",
    "        if is_full(board):\n",
    "            print_board(board)\n",
    "            print(\"It's a tie!\")\n",
    "            break\n",
    "\n",
    "if __name__ == \"__main__\":\n",
    "    main()\n"
   ]
  },
  {
   "cell_type": "markdown",
   "id": "5ed539c3-e0a1-41d9-bf69-00a3ebf3be10",
   "metadata": {},
   "source": [
    "**Q36: Write a program that generates Fibonacci numbers up to a specified term using iterative methods.**"
   ]
  },
  {
   "cell_type": "code",
   "execution_count": 14,
   "id": "dee68aa1-a8fd-465f-ac7b-7c003a18fa5d",
   "metadata": {},
   "outputs": [
    {
     "name": "stdin",
     "output_type": "stream",
     "text": [
      "Enter the number of terms:  7\n"
     ]
    },
    {
     "name": "stdout",
     "output_type": "stream",
     "text": [
      "Fibonacci sequence up to 7 terms: [0, 1, 1, 2, 3, 5, 8]\n"
     ]
    }
   ],
   "source": [
    "def generate_fibonacci(n):\n",
    "    \"\"\"Function to generate Fibonacci numbers up to n terms.\"\"\"\n",
    "    if n <= 0:\n",
    "        return \"The number of terms must be a positive integer.\"\n",
    "    elif n == 1:\n",
    "        return [0]\n",
    "    elif n == 2:\n",
    "        return [0, 1]\n",
    "    \n",
    "    fibonacci_sequence = [0, 1]\n",
    "    for i in range(2, n):\n",
    "        next_term = fibonacci_sequence[i-1] + fibonacci_sequence[i-2]\n",
    "        fibonacci_sequence.append(next_term)\n",
    "    \n",
    "    return fibonacci_sequence\n",
    "\n",
    "# Get user input\n",
    "try:\n",
    "    n = int(input(\"Enter the number of terms: \"))\n",
    "    fibonacci_sequence = generate_fibonacci(n)\n",
    "    print(f\"Fibonacci sequence up to {n} terms: {fibonacci_sequence}\")\n",
    "except ValueError:\n",
    "    print(\"Please enter a valid integer.\")\n"
   ]
  },
  {
   "cell_type": "markdown",
   "id": "0c0d7fd8-b5fd-488e-975a-3975f4784639",
   "metadata": {},
   "source": [
    "**Q37: Develop a program that calculates the nth term of the Fibonacci sequence using memoization.**"
   ]
  },
  {
   "cell_type": "code",
   "execution_count": 15,
   "id": "cf182f83-7a96-47b3-ac23-df4e9622acd8",
   "metadata": {},
   "outputs": [
    {
     "name": "stdin",
     "output_type": "stream",
     "text": [
      "Enter the term number to find in the Fibonacci sequence:  7\n"
     ]
    },
    {
     "name": "stdout",
     "output_type": "stream",
     "text": [
      "The 7th term of the Fibonacci sequence is: 13\n"
     ]
    }
   ],
   "source": [
    "def fibonacci_memo(n, memo=None):\n",
    "    \"\"\"Function to calculate the nth term of the Fibonacci sequence using memoization.\"\"\"\n",
    "    if memo is None:\n",
    "        memo = {}\n",
    "    if n in memo:\n",
    "        return memo[n]\n",
    "    if n <= 1:\n",
    "        return n\n",
    "    memo[n] = fibonacci_memo(n-1, memo) + fibonacci_memo(n-2, memo)\n",
    "    return memo[n]\n",
    "\n",
    "# Get user input\n",
    "try:\n",
    "    n = int(input(\"Enter the term number to find in the Fibonacci sequence: \"))\n",
    "    if n < 0:\n",
    "        raise ValueError(\"The term number must be a non-negative integer.\")\n",
    "    nth_term = fibonacci_memo(n)\n",
    "    print(f\"The {n}th term of the Fibonacci sequence is: {nth_term}\")\n",
    "except ValueError as e:\n",
    "    print(e)\n"
   ]
  },
  {
   "cell_type": "markdown",
   "id": "0d69ba4f-b973-4c7c-9018-8b34869839ac",
   "metadata": {},
   "source": [
    "**Q38: Create a program that generates a calendar for a given month and year using conditional statements.**"
   ]
  },
  {
   "cell_type": "code",
   "execution_count": 16,
   "id": "ceb8b06a-1f5e-49d4-9eb9-56dc938d08ea",
   "metadata": {},
   "outputs": [
    {
     "name": "stdin",
     "output_type": "stream",
     "text": [
      "Enter the year (e.g., 2023):  2001\n",
      "Enter the month (1-12):  11\n"
     ]
    },
    {
     "name": "stdout",
     "output_type": "stream",
     "text": [
      "Calendar for November 2001\n",
      "Mon Tue Wed Thu Fri Sat Sun\n",
      "              1   2   3   4 \n",
      "  5   6   7   8   9  10  11 \n",
      " 12  13  14  15  16  17  18 \n",
      " 19  20  21  22  23  24  25 \n",
      " 26  27  28  29  30 "
     ]
    }
   ],
   "source": [
    "import calendar\n",
    "\n",
    "def is_leap_year(year):\n",
    "    \"\"\"Check if a year is a leap year.\"\"\"\n",
    "    return (year % 4 == 0 and year % 100 != 0) or (year % 400 == 0)\n",
    "\n",
    "def days_in_month(month, year):\n",
    "    \"\"\"Return the number of days in a given month and year.\"\"\"\n",
    "    if month in [1, 3, 5, 7, 8, 10, 12]:\n",
    "        return 31\n",
    "    elif month in [4, 6, 9, 11]:\n",
    "        return 30\n",
    "    elif month == 2:\n",
    "        if is_leap_year(year):\n",
    "            return 29\n",
    "        else:\n",
    "            return 28\n",
    "    else:\n",
    "        raise ValueError(\"Invalid month\")\n",
    "\n",
    "def print_calendar(month, year):\n",
    "    \"\"\"Print the calendar for a given month and year.\"\"\"\n",
    "    days = [\"Mon\", \"Tue\", \"Wed\", \"Thu\", \"Fri\", \"Sat\", \"Sun\"]\n",
    "    start_day = calendar.monthrange(year, month)[0]  # 0=Mon, 1=Tue, ..., 6=Sun\n",
    "    num_days = days_in_month(month, year)\n",
    "\n",
    "    print(f\"Calendar for {calendar.month_name[month]} {year}\")\n",
    "    print(\" \".join(days))\n",
    "\n",
    "    # Print leading spaces for the first week\n",
    "    print(\"    \" * start_day, end=\"\")\n",
    "\n",
    "    # Print all days of the month\n",
    "    for day in range(1, num_days + 1):\n",
    "        print(f\"{day:3}\", end=\" \")\n",
    "        if (start_day + day) % 7 == 0:\n",
    "            print()\n",
    "\n",
    "# Get user input\n",
    "try:\n",
    "    year = int(input(\"Enter the year (e.g., 2023): \"))\n",
    "    month = int(input(\"Enter the month (1-12): \"))\n",
    "    if month < 1 or month > 12:\n",
    "        raise ValueError(\"Invalid month\")\n",
    "    print_calendar(month, year)\n",
    "except ValueError as e:\n",
    "    print(f\"Error: {e}\")\n"
   ]
  },
  {
   "cell_type": "markdown",
   "id": "b501396f-bb12-48ea-b4e7-625deea7506d",
   "metadata": {},
   "source": [
    "**Q39: Build a program that simulates a basic text-based blackjack game against the computer.**"
   ]
  },
  {
   "cell_type": "code",
   "execution_count": 17,
   "id": "fcd05233-2cc2-4996-a77e-35eb224c488c",
   "metadata": {},
   "outputs": [
    {
     "name": "stdout",
     "output_type": "stream",
     "text": [
      "Your hand: [10, 10] | Score: 20\n",
      "Dealer's hand: [10, '?']\n"
     ]
    },
    {
     "name": "stdin",
     "output_type": "stream",
     "text": [
      "Do you want to hit (h) or stand (s)?  h\n"
     ]
    },
    {
     "name": "stdout",
     "output_type": "stream",
     "text": [
      "Your hand: [10, 10, 10] | Score: 30\n",
      "Dealer's hand: [10, 10] | Score: 20\n",
      "You busted! Dealer wins.\n"
     ]
    }
   ],
   "source": [
    "import random\n",
    "\n",
    "# Function to create and shuffle a deck of cards\n",
    "def create_deck():\n",
    "    deck = [2, 3, 4, 5, 6, 7, 8, 9, 10, 10, 10, 10, 11] * 4  # 11 represents Ace\n",
    "    random.shuffle(deck)\n",
    "    return deck\n",
    "\n",
    "# Function to calculate the score of a hand\n",
    "def calculate_score(hand):\n",
    "    score = sum(hand)\n",
    "    ace_count = hand.count(11)\n",
    "    \n",
    "    while score > 21 and ace_count:\n",
    "        score -= 10\n",
    "        ace_count -= 1\n",
    "    \n",
    "    return score\n",
    "\n",
    "# Function to deal a card from the deck\n",
    "def deal_card(deck):\n",
    "    return deck.pop()\n",
    "\n",
    "# Function to print the hands\n",
    "def print_hands(player_hand, dealer_hand, reveal_dealer=False):\n",
    "    print(f\"Your hand: {player_hand} | Score: {calculate_score(player_hand)}\")\n",
    "    if reveal_dealer:\n",
    "        print(f\"Dealer's hand: {dealer_hand} | Score: {calculate_score(dealer_hand)}\")\n",
    "    else:\n",
    "        print(f\"Dealer's hand: [{dealer_hand[0]}, '?']\")\n",
    "\n",
    "# Main game logic\n",
    "def play_blackjack():\n",
    "    deck = create_deck()\n",
    "    \n",
    "    player_hand = [deal_card(deck), deal_card(deck)]\n",
    "    dealer_hand = [deal_card(deck), deal_card(deck)]\n",
    "    \n",
    "    game_over = False\n",
    "    \n",
    "    while not game_over:\n",
    "        print_hands(player_hand, dealer_hand)\n",
    "        \n",
    "        if calculate_score(player_hand) == 21:\n",
    "            print(\"Blackjack! You win!\")\n",
    "            game_over = True\n",
    "            continue\n",
    "        \n",
    "        action = input(\"Do you want to hit (h) or stand (s)? \").strip().lower()\n",
    "        \n",
    "        if action == 'h':\n",
    "            player_hand.append(deal_card(deck))\n",
    "            if calculate_score(player_hand) > 21:\n",
    "                print_hands(player_hand, dealer_hand, reveal_dealer=True)\n",
    "                print(\"You busted! Dealer wins.\")\n",
    "                game_over = True\n",
    "        elif action == 's':\n",
    "            while calculate_score(dealer_hand) < 17:\n",
    "                dealer_hand.append(deal_card(deck))\n",
    "            \n",
    "            print_hands(player_hand, dealer_hand, reveal_dealer=True)\n",
    "            \n",
    "            if calculate_score(dealer_hand) > 21:\n",
    "                print(\"Dealer busted! You win.\")\n",
    "            elif calculate_score(player_hand) > calculate_score(dealer_hand):\n",
    "                print(\"You win!\")\n",
    "            elif calculate_score(player_hand) < calculate_score(dealer_hand):\n",
    "                print(\"Dealer wins.\")\n",
    "            else:\n",
    "                print(\"It's a tie!\")\n",
    "            \n",
    "            game_over = True\n",
    "        else:\n",
    "            print(\"Invalid action. Please enter 'h' to hit or 's' to stand.\")\n",
    "\n",
    "if __name__ == \"__main__\":\n",
    "    play_blackjack()\n"
   ]
  },
  {
   "cell_type": "markdown",
   "id": "d5950e24-8fe9-407b-b73c-771fc0b4b672",
   "metadata": {},
   "source": [
    "**Q40: Write a program that generates the prime factors of a given number using trial division.**"
   ]
  },
  {
   "cell_type": "code",
   "execution_count": 18,
   "id": "9d9c7992-c941-44aa-a743-a2c6fb9c43b7",
   "metadata": {},
   "outputs": [
    {
     "name": "stdin",
     "output_type": "stream",
     "text": [
      "Enter a number to find its prime factors:  6\n"
     ]
    },
    {
     "name": "stdout",
     "output_type": "stream",
     "text": [
      "The prime factors of 6 are: [2, 3]\n"
     ]
    }
   ],
   "source": [
    "def prime_factors(n):\n",
    "    factors = []\n",
    "    # Start with the smallest prime number, which is 2\n",
    "    divisor = 2\n",
    "    \n",
    "    while n > 1:\n",
    "        while n % divisor == 0:\n",
    "            factors.append(divisor)\n",
    "            n //= divisor\n",
    "        divisor += 1\n",
    "        \n",
    "        # If divisor squared is greater than n, then n is prime\n",
    "        if divisor * divisor > n:\n",
    "            if n > 1:\n",
    "                factors.append(n)\n",
    "            break\n",
    "    \n",
    "    return factors\n",
    "\n",
    "# Get user input\n",
    "try:\n",
    "    number = int(input(\"Enter a number to find its prime factors: \"))\n",
    "    if number <= 0:\n",
    "        raise ValueError(\"Please enter a positive integer.\")\n",
    "    factors = prime_factors(number)\n",
    "    print(f\"The prime factors of {number} are: {factors}\")\n",
    "except ValueError as e:\n",
    "    print(e)\n"
   ]
  },
  {
   "cell_type": "code",
   "execution_count": null,
   "id": "05ecb382-ada4-4378-a89f-0e6379dd3089",
   "metadata": {},
   "outputs": [],
   "source": []
  }
 ],
 "metadata": {
  "kernelspec": {
   "display_name": "Python 3 (ipykernel)",
   "language": "python",
   "name": "python3"
  },
  "language_info": {
   "codemirror_mode": {
    "name": "ipython",
    "version": 3
   },
   "file_extension": ".py",
   "mimetype": "text/x-python",
   "name": "python",
   "nbconvert_exporter": "python",
   "pygments_lexer": "ipython3",
   "version": "3.10.13"
  }
 },
 "nbformat": 4,
 "nbformat_minor": 5
}
