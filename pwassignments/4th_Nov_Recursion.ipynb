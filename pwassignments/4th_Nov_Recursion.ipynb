{
 "cells": [
  {
   "cell_type": "markdown",
   "id": "b4e652c8-2f85-4608-a1b5-c523cd4b19c8",
   "metadata": {},
   "source": [
    "**Q1: Can you explain the logic and working of the Tower of Hanoi algorithm by writing a Python program?\r\n",
    "How does the recursion work, and how are the movements of disks between rods accomplished**?"
   ]
  },
  {
   "cell_type": "code",
   "execution_count": 2,
   "id": "ca1e8f5b-f3d3-4d40-bcfa-35042049b345",
   "metadata": {},
   "outputs": [
    {
     "name": "stdout",
     "output_type": "stream",
     "text": [
      "Move disk 1 from A to C\n",
      "Move disk 2 from A to B\n",
      "Move disk 1 from C to B\n",
      "Move disk 3 from A to C\n",
      "Move disk 1 from B to A\n",
      "Move disk 2 from B to C\n",
      "Move disk 1 from A to C\n"
     ]
    }
   ],
   "source": [
    "def toh(n, source, destination, auxiliary):\n",
    "    if n==1:\n",
    "        print(f\"Move disk 1 from {source} to {destination}\")\n",
    "        return\n",
    "\n",
    "    toh(n-1, source, auxiliary, destination)\n",
    "    print(f\"Move disk {n} from {source} to {destination}\")\n",
    "    toh(n-1, auxiliary, destination, source)\n",
    "\n",
    "num_disks=3\n",
    "toh(num_disks, 'A', 'C', 'B')"
   ]
  },
  {
   "cell_type": "markdown",
   "id": "e3cbfb63-94ca-4c03-bec2-d56612aa4063",
   "metadata": {},
   "source": [
    "**Q2: Given two strings word1 and word2, return the minimum number of operations required to convert word1\r\n",
    "to word2.\r\n",
    "Example 1:\r\n",
    "Input: word1 = \"horse\", word2 = \"ros\"\r\n",
    "Output: 3\r\n",
    "Explanation:\r\n",
    "horse -> rorse (replace 'h' with 'r')\r\n",
    "rorse -> rose (remove 'r')\r\n",
    "rose -> ros (remove 'e')\r\n",
    "Example 2:\r\n",
    "Input: word1 = \"intention\", word2 = \"execution\"\r\n",
    "Output: 5\r\n",
    "Explanation:\r\n",
    "intention -> inention (remove 't')\r\n",
    "inention -> enention (replace 'i' with 'e')\r\n",
    "enention -> exention (replace 'n' with 'x')\r\n",
    "exention -> exection (replace 'n' with 'c')\r\n",
    "exection -> execu**tion (insert 'u')"
   ]
  },
  {
   "cell_type": "code",
   "execution_count": 2,
   "id": "950a6419-f12d-46f2-a3f9-f80ea54f6207",
   "metadata": {},
   "outputs": [
    {
     "name": "stdout",
     "output_type": "stream",
     "text": [
      "3\n",
      "5\n"
     ]
    }
   ],
   "source": [
    "def minDistance(word1, word2):\n",
    "    m,n=len(word1), len(word2)\n",
    "\n",
    "    dp=[[0]*(n+1) for _ in range(m+1)]\n",
    "\n",
    "    for i in range(m+1):\n",
    "        dp[i][0]=i\n",
    "    for j in range(n+1):\n",
    "        dp[0][j]=j\n",
    "\n",
    "\n",
    "    for i in range(1, m+1):\n",
    "        for j in range(1, n+1):\n",
    "            if word1[i-1] == word2[j-1]:\n",
    "                dp[i][j]= dp[i-1][j-1]\n",
    "            else:\n",
    "                dp[i][j]= min(dp[i-1][j]+1, dp[i][j-1]+1, dp[i-1][j-1]+1)\n",
    "    return dp[m][n]\n",
    "\n",
    "word1=\"horse\"\n",
    "word2=\"ros\"\n",
    "print(minDistance(word1, word2))\n",
    "\n",
    "word1 = \"intention\"\n",
    "word2 = \"execution\"\n",
    "print(minDistance(word1, word2))"
   ]
  },
  {
   "cell_type": "markdown",
   "id": "5df0b33c-89c7-48ab-bca4-4f24db14fc6f",
   "metadata": {},
   "source": [
    "**Q3: Print the max value of the array [ 13, 1, -3, 22, 5].**"
   ]
  },
  {
   "cell_type": "code",
   "execution_count": 3,
   "id": "4167a9d6-abae-4359-92bd-dc44378dcf89",
   "metadata": {},
   "outputs": [
    {
     "name": "stdout",
     "output_type": "stream",
     "text": [
      "22\n"
     ]
    }
   ],
   "source": [
    "def find_max(arr, n):\n",
    "    if n==1:\n",
    "        return arr[0]\n",
    "    else:\n",
    "        max_in_rest= find_max(arr,n-1)\n",
    "        return max(arr[n-1], max_in_rest)\n",
    "\n",
    "array = [13, 1, -3, 22, 5]\n",
    "n=len(array)\n",
    "max_value=find_max(array, n)\n",
    "print(max_value)"
   ]
  },
  {
   "cell_type": "markdown",
   "id": "0f8bcbc0-7834-4c50-bdab-62155ceaa3dc",
   "metadata": {},
   "source": [
    "**Q4: Find the sum of the values of the array [92, 23, 15, -20, 10].**"
   ]
  },
  {
   "cell_type": "code",
   "execution_count": 10,
   "id": "810593f8-e9d0-4aa9-acf1-7d6d9b1ca0cb",
   "metadata": {},
   "outputs": [
    {
     "name": "stdout",
     "output_type": "stream",
     "text": [
      "120\n"
     ]
    }
   ],
   "source": [
    "def find_sum(arr, n):\n",
    "    if n==1:\n",
    "        return arr[0]\n",
    "    else:\n",
    "        rest=find_sum(arr, n-1)\n",
    "        return arr[n-1]+rest\n",
    "\n",
    "array=[92, 23, 15, -20, 10]\n",
    "n=len(array)\n",
    "sums= find_sum(array, n)\n",
    "print(sums)"
   ]
  },
  {
   "cell_type": "markdown",
   "id": "f5e77d2a-5c32-4e90-bb04-47f17e1c95fc",
   "metadata": {},
   "source": [
    "**Q5: Given a number n. Print if it is an armstrong number or not.An armstrong number is a number if the sum\n",
    "of every digit in that number raised to the power of total digits in that number is equal to the number.\n",
    "Example : 153 = 1^3 + 5^3 + 3^3 = 1 + 125 + 27 = 153 hence 153 is an armstrong number. (Easy)\n",
    "Input1 : 153\n",
    "Output1 : Yes\n",
    "Input 2 : 134\n",
    "Output2 : No**"
   ]
  },
  {
   "cell_type": "code",
   "execution_count": 1,
   "id": "8d42b942-d890-4718-86e2-aec27348ccc1",
   "metadata": {},
   "outputs": [
    {
     "name": "stdout",
     "output_type": "stream",
     "text": [
      "153: yes\n",
      "134: no\n"
     ]
    }
   ],
   "source": [
    "def is_armstrong(d):\n",
    "    str_n= str(d)\n",
    "    num_digits= len(str_n)\n",
    "    sum_of_powers= sum(int(digit) ** num_digits for digit in str_n)\n",
    "    return sum_of_powers==d\n",
    "\n",
    "number=153\n",
    "if is_armstrong(number):\n",
    "    print(f\"{number}: yes\")\n",
    "else:\n",
    "    print(f\"{number}: no\")\n",
    "\n",
    "number=134\n",
    "if is_armstrong(number):\n",
    "    print(f\"{number}: yes\")\n",
    "else: \n",
    "    print(f\"{number}: no\")"
   ]
  },
  {
   "cell_type": "code",
   "execution_count": null,
   "id": "6aab3104-eff2-42e6-8bde-5bc7edf33c4b",
   "metadata": {},
   "outputs": [],
   "source": []
  }
 ],
 "metadata": {
  "kernelspec": {
   "display_name": "Python 3 (ipykernel)",
   "language": "python",
   "name": "python3"
  },
  "language_info": {
   "codemirror_mode": {
    "name": "ipython",
    "version": 3
   },
   "file_extension": ".py",
   "mimetype": "text/x-python",
   "name": "python",
   "nbconvert_exporter": "python",
   "pygments_lexer": "ipython3",
   "version": "3.10.13"
  }
 },
 "nbformat": 4,
 "nbformat_minor": 5
}
