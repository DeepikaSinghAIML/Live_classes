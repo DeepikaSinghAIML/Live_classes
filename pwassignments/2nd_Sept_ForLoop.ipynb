{
 "cells": [
  {
   "cell_type": "markdown",
   "id": "b939509f-0098-4f8e-a8c2-de5edcf4bcad",
   "metadata": {},
   "source": [
    "# Basic Level"
   ]
  },
  {
   "cell_type": "markdown",
   "id": "772bc516-4a48-4142-8a12-673bcd1d42aa",
   "metadata": {},
   "source": [
    "**Q1: Write a Python program to print the numbers from 1 to 10 using a `for` loop.**"
   ]
  },
  {
   "cell_type": "code",
   "execution_count": 3,
   "id": "54026460-adfc-4cae-8d12-e3aa4d56970f",
   "metadata": {},
   "outputs": [
    {
     "name": "stdout",
     "output_type": "stream",
     "text": [
      "1\n",
      "2\n",
      "3\n",
      "4\n",
      "5\n",
      "6\n",
      "7\n",
      "8\n",
      "9\n",
      "10\n"
     ]
    }
   ],
   "source": [
    "for i in range(1,11):\n",
    "    print(i)"
   ]
  },
  {
   "cell_type": "markdown",
   "id": "9897b698-ee18-4ff4-98b6-374cb181234d",
   "metadata": {},
   "source": [
    "**Q2: Create a program that calculates the sum of all numbers in a list using a `for` loop.**"
   ]
  },
  {
   "cell_type": "code",
   "execution_count": 4,
   "id": "109c1318-7ef7-4b76-82e9-2c3e7b0e338b",
   "metadata": {},
   "outputs": [
    {
     "name": "stdout",
     "output_type": "stream",
     "text": [
      "15\n"
     ]
    }
   ],
   "source": [
    "l1=[4,2,3,1,5]\n",
    "s=0\n",
    "for i in l1:\n",
    "    s=s+i\n",
    "print(s)"
   ]
  },
  {
   "cell_type": "markdown",
   "id": "78d36fc5-901e-4652-a2e4-6eea65a69743",
   "metadata": {},
   "source": [
    "**Q3: Write a program to print the characters of a string in reverse order using a `for` loop.**"
   ]
  },
  {
   "cell_type": "code",
   "execution_count": 5,
   "id": "c1cff244-c9fe-4673-a414-09e8cd656641",
   "metadata": {},
   "outputs": [
    {
     "name": "stdout",
     "output_type": "stream",
     "text": [
      "akipeed\n"
     ]
    }
   ],
   "source": [
    "st1='deepika'\n",
    "for i in st1:\n",
    "    rev=st1[::-1]\n",
    "print(rev)"
   ]
  },
  {
   "cell_type": "markdown",
   "id": "3a5e74c3-d19f-4aba-933f-2af95a41be15",
   "metadata": {},
   "source": [
    "**Q4: Develop a program that finds the factorial of a given number using a `for` loop.**"
   ]
  },
  {
   "cell_type": "code",
   "execution_count": 6,
   "id": "f5374f43-795a-469b-8479-586d8d2b4343",
   "metadata": {},
   "outputs": [
    {
     "name": "stdin",
     "output_type": "stream",
     "text": [
      "Enter the number: 5\n"
     ]
    },
    {
     "name": "stdout",
     "output_type": "stream",
     "text": [
      "120\n"
     ]
    }
   ],
   "source": [
    "n=int(input(\"Enter the number:\"))\n",
    "fact=1\n",
    "for i in range(1,n+1):\n",
    "    fact=fact*i\n",
    "print(fact)\n",
    "    "
   ]
  },
  {
   "cell_type": "markdown",
   "id": "aee100f6-0ece-4bc2-82ed-a9d8ae1c781d",
   "metadata": {},
   "source": [
    "**Q5: Create a program to print the multiplication table of a given number using a `for` loop.**"
   ]
  },
  {
   "cell_type": "code",
   "execution_count": 8,
   "id": "5cabfd1b-0f09-42f1-8698-69d575f17d2a",
   "metadata": {},
   "outputs": [
    {
     "name": "stdin",
     "output_type": "stream",
     "text": [
      "Enter the number 2\n"
     ]
    },
    {
     "name": "stdout",
     "output_type": "stream",
     "text": [
      "2 * 1 = 2\n",
      "2 * 2 = 4\n",
      "2 * 3 = 6\n",
      "2 * 4 = 8\n",
      "2 * 5 = 10\n",
      "2 * 6 = 12\n",
      "2 * 7 = 14\n",
      "2 * 8 = 16\n",
      "2 * 9 = 18\n",
      "2 * 10 = 20\n"
     ]
    }
   ],
   "source": [
    "n2=int(input(\"Enter the number\"))\n",
    "for i in range(1,11):\n",
    "    p=n2*i\n",
    "    print(n2,\"*\",i,\"=\",p)"
   ]
  },
  {
   "cell_type": "markdown",
   "id": "760c2025-b226-4bbe-ad05-6238e6b150a2",
   "metadata": {},
   "source": [
    "**Q6: Write a program that counts the number of even and odd numbers in a list using a `for` loop.**"
   ]
  },
  {
   "cell_type": "code",
   "execution_count": 12,
   "id": "7faea00d-e4b2-408d-95c8-152e34f85262",
   "metadata": {},
   "outputs": [
    {
     "name": "stdout",
     "output_type": "stream",
     "text": [
      "there are 5 even numbers and 5 odd numbers\n"
     ]
    }
   ],
   "source": [
    "l2=[0,1,2,3,4,5,6,7,8,9]\n",
    "el=[]\n",
    "ol=[]\n",
    "for i in l2:\n",
    "    if i%2==0:\n",
    "        el.append(i)\n",
    "    else:\n",
    "        ol.append(i)\n",
    "print(f\"there are {len(el)} even numbers and {len(ol)} odd numbers\")\n",
    "#you can use two count variables also \n",
    "    \n",
    "    "
   ]
  },
  {
   "cell_type": "markdown",
   "id": "9c83b280-04d7-4342-b083-0fc0b2129c37",
   "metadata": {},
   "source": [
    "**Q7: Develop a program that prints the squares of numbers from 1 to 5 using a `for` loop.**"
   ]
  },
  {
   "cell_type": "code",
   "execution_count": 13,
   "id": "638d862a-bb5b-41c5-82b8-4b13c1515b49",
   "metadata": {},
   "outputs": [
    {
     "name": "stdout",
     "output_type": "stream",
     "text": [
      "1\n",
      "4\n",
      "9\n",
      "16\n",
      "25\n"
     ]
    }
   ],
   "source": [
    "for i in range(1,6):\n",
    "    print(i**2)"
   ]
  },
  {
   "cell_type": "markdown",
   "id": "99465874-2456-4c5c-8070-fde32c1f4941",
   "metadata": {},
   "source": [
    "**Q8: Create a program to find the length of a string without using the `len()` function.**"
   ]
  },
  {
   "cell_type": "code",
   "execution_count": 14,
   "id": "db4ea627-173c-4b06-bb71-249fd4f6888a",
   "metadata": {},
   "outputs": [
    {
     "name": "stdout",
     "output_type": "stream",
     "text": [
      "7\n"
     ]
    }
   ],
   "source": [
    "st2='deepika'\n",
    "c=0\n",
    "for i in st2:\n",
    "    c=c+1\n",
    "print(c)"
   ]
  },
  {
   "cell_type": "markdown",
   "id": "ca41d60b-6f4e-436a-b633-886292a46eae",
   "metadata": {},
   "source": [
    "**Q9: Write a program that calculates the average of a list of numbers using a `for` loop.**"
   ]
  },
  {
   "cell_type": "code",
   "execution_count": 11,
   "id": "ffbf1493-fc6f-440a-b039-f05878570616",
   "metadata": {},
   "outputs": [
    {
     "name": "stdout",
     "output_type": "stream",
     "text": [
      "3.8333333333333335\n"
     ]
    }
   ],
   "source": [
    "l3=[7,4,6,2,3,1]\n",
    "s=0\n",
    "for i in l3:\n",
    "    s=s+i\n",
    "    avg=s/len(l3)\n",
    "print(avg)"
   ]
  },
  {
   "cell_type": "markdown",
   "id": "5679e6ce-0ea6-43a0-bf10-7d1eb61679b2",
   "metadata": {},
   "source": [
    "**Q10: Develop a program that prints the first `n` Fibonacci numbers using a `for` loop.**"
   ]
  },
  {
   "cell_type": "code",
   "execution_count": 2,
   "id": "f17d5502-6ea1-4891-a4de-018de2cbea8c",
   "metadata": {},
   "outputs": [
    {
     "name": "stdin",
     "output_type": "stream",
     "text": [
      "Enter the number 5\n"
     ]
    },
    {
     "name": "stdout",
     "output_type": "stream",
     "text": [
      "0\n",
      "1\n",
      "1\n",
      "2\n",
      "3\n"
     ]
    }
   ],
   "source": [
    "n3=int(input(\"Enter the number\"))\n",
    "f=0\n",
    "s=1\n",
    "print(f)\n",
    "print(s)\n",
    "for i in range(n3-2):\n",
    "    t=f+s\n",
    "    f=s\n",
    "    s=t\n",
    "    print(t)\n"
   ]
  },
  {
   "cell_type": "markdown",
   "id": "7edf5782-6ec1-4311-bf34-29e663c69a71",
   "metadata": {},
   "source": [
    "# Intermediate Level"
   ]
  },
  {
   "cell_type": "markdown",
   "id": "e6a1e58b-3f17-4004-a73b-f4f03c19490a",
   "metadata": {},
   "source": [
    "**Q11: Write a program to check if a given list contains any duplicates using a `for` loop.**"
   ]
  },
  {
   "cell_type": "code",
   "execution_count": 8,
   "id": "7f7c4ed7-1385-4177-98e8-55ac084c16a3",
   "metadata": {},
   "outputs": [
    {
     "name": "stdout",
     "output_type": "stream",
     "text": [
      "the list contains duplicates\n"
     ]
    }
   ],
   "source": [
    "l4=[5,3,3,4,7]\n",
    "has_duplicates=False\n",
    "for i in range(len(l4)):\n",
    "    for j in range(i+1,len(l4)):\n",
    "        if l4[i]==l4[j]:\n",
    "            has_duplicates=True\n",
    "            break\n",
    "\n",
    "if has_duplicates:\n",
    "    print(\"the list contains duplicates\")\n",
    "else:\n",
    "    print(\"the list does not contain duplicates\")\n",
    "        "
   ]
  },
  {
   "cell_type": "markdown",
   "id": "45fd53e2-6ff0-44f9-afc7-6e3af8e92d92",
   "metadata": {},
   "source": [
    "**Q12: Create a program that prints the prime numbers in a given range using a `for` loop.**"
   ]
  },
  {
   "cell_type": "code",
   "execution_count": 10,
   "id": "299e2c68-6bf7-48f2-a1e9-332eccbff0bb",
   "metadata": {},
   "outputs": [
    {
     "name": "stdin",
     "output_type": "stream",
     "text": [
      "Enter the start of the range 2\n",
      "Enter the end of the range 12\n"
     ]
    },
    {
     "name": "stdout",
     "output_type": "stream",
     "text": [
      "[2, 3, 5, 7, 11]\n"
     ]
    }
   ],
   "source": [
    "l5=[]\n",
    "start=int(input(\"Enter the start of the range\"))\n",
    "end=int(input(\"Enter the end of the range\"))\n",
    "for n in range(start, end):\n",
    "    if n>1:\n",
    "        for i in range(start,n):\n",
    "            if n%i==0:\n",
    "                break\n",
    "        else:\n",
    "            l5.append(n)\n",
    "print(l5)\n",
    "    "
   ]
  },
  {
   "cell_type": "markdown",
   "id": "934047c9-72f4-4003-889c-bee81ff1d0f8",
   "metadata": {},
   "source": [
    "**Q13: Develop a program that counts the number of vowels in a string using a `for` loop.**"
   ]
  },
  {
   "cell_type": "code",
   "execution_count": 18,
   "id": "0cb67b02-fb55-4ab3-b74e-c56429c86d63",
   "metadata": {},
   "outputs": [
    {
     "name": "stdin",
     "output_type": "stream",
     "text": [
      "Enter the string deepika\n"
     ]
    },
    {
     "name": "stdout",
     "output_type": "stream",
     "text": [
      "4\n"
     ]
    }
   ],
   "source": [
    "st3=input(\"Enter the string\")\n",
    "vowels={'a','e','i','o','u'}\n",
    "c=0\n",
    "for i in st3:\n",
    "    if i.lower() in vowels:\n",
    "        c=c+1\n",
    "print(c)"
   ]
  },
  {
   "cell_type": "markdown",
   "id": "8ae97996-7a76-41aa-b86b-57e1b6646854",
   "metadata": {},
   "source": [
    "**Q14: Write a program to find the maximum element in a 2D list using a nested `for` loop.**"
   ]
  },
  {
   "cell_type": "code",
   "execution_count": 21,
   "id": "1c75020c-5dcb-4b30-813a-5d2ace1fb245",
   "metadata": {},
   "outputs": [
    {
     "name": "stdout",
     "output_type": "stream",
     "text": [
      "9\n"
     ]
    }
   ],
   "source": [
    "l6=[[3,4,5],[7,4,2],[4,2,9]]\n",
    "max_el=float('-inf')\n",
    "for i in l6:\n",
    "    for j in i:\n",
    "        if j>max_el:\n",
    "            max_el=j\n",
    "print(max_el)"
   ]
  },
  {
   "cell_type": "markdown",
   "id": "3b9832a6-cc01-4ae1-a558-08db40c0ca2e",
   "metadata": {},
   "source": [
    "**Q15: Create a program that removes all occurrences of a specific element from a list using a `for` loop.**"
   ]
  },
  {
   "cell_type": "code",
   "execution_count": 2,
   "id": "ccc4c8fe-3f6e-417d-8189-7f0fb8096c5b",
   "metadata": {},
   "outputs": [
    {
     "name": "stdin",
     "output_type": "stream",
     "text": [
      "Enter the element you want to remove 5\n"
     ]
    },
    {
     "name": "stdout",
     "output_type": "stream",
     "text": [
      "[6, 7, 7, 8, 9]\n"
     ]
    }
   ],
   "source": [
    "l7=[6,7,5,5,7,8,9,5]\n",
    "e=int(input(\"Enter the element you want to remove\"))\n",
    "for i in l7[:]:\n",
    "    if i==e:\n",
    "        l7.remove(i)\n",
    "        \n",
    "print(l7)"
   ]
  },
  {
   "cell_type": "markdown",
   "id": "7112bc02-1a47-4d36-87c7-7e327dc3616d",
   "metadata": {},
   "source": [
    "**Q16: Develop a program that generates a multiplication table for numbers from 1 to 5 using a nested `for` loop.**"
   ]
  },
  {
   "cell_type": "code",
   "execution_count": 5,
   "id": "f1572484-835b-4cef-8038-16f564a8b1c0",
   "metadata": {},
   "outputs": [
    {
     "name": "stdout",
     "output_type": "stream",
     "text": [
      "Multiplication table for 1:\n",
      "1*1=1\n",
      "1*2=2\n",
      "1*3=3\n",
      "1*4=4\n",
      "1*5=5\n",
      "1*6=6\n",
      "1*7=7\n",
      "1*8=8\n",
      "1*9=9\n",
      "1*10=10\n",
      "\n",
      "Multiplication table for 2:\n",
      "2*1=2\n",
      "2*2=4\n",
      "2*3=6\n",
      "2*4=8\n",
      "2*5=10\n",
      "2*6=12\n",
      "2*7=14\n",
      "2*8=16\n",
      "2*9=18\n",
      "2*10=20\n",
      "\n",
      "Multiplication table for 3:\n",
      "3*1=3\n",
      "3*2=6\n",
      "3*3=9\n",
      "3*4=12\n",
      "3*5=15\n",
      "3*6=18\n",
      "3*7=21\n",
      "3*8=24\n",
      "3*9=27\n",
      "3*10=30\n",
      "\n",
      "Multiplication table for 4:\n",
      "4*1=4\n",
      "4*2=8\n",
      "4*3=12\n",
      "4*4=16\n",
      "4*5=20\n",
      "4*6=24\n",
      "4*7=28\n",
      "4*8=32\n",
      "4*9=36\n",
      "4*10=40\n",
      "\n",
      "Multiplication table for 5:\n",
      "5*1=5\n",
      "5*2=10\n",
      "5*3=15\n",
      "5*4=20\n",
      "5*5=25\n",
      "5*6=30\n",
      "5*7=35\n",
      "5*8=40\n",
      "5*9=45\n",
      "5*10=50\n",
      "\n"
     ]
    }
   ],
   "source": [
    "for i in range(1,6):\n",
    "    print(f\"Multiplication table for {i}:\")\n",
    "    for j in range(1,11):\n",
    "        result =i*j\n",
    "        print(f\"{i}*{j}={result}\")\n",
    "    print()"
   ]
  },
  {
   "cell_type": "markdown",
   "id": "e104afbc-2359-4050-b345-8e6f2123bdc5",
   "metadata": {},
   "source": [
    "**Q17: Write a program that converts a list of Fahrenheit temperatures to Celsius using a `for` loop.**"
   ]
  },
  {
   "cell_type": "code",
   "execution_count": 10,
   "id": "166bed12-5cdf-4aed-a9e0-065aefd9f1ef",
   "metadata": {},
   "outputs": [
    {
     "name": "stdout",
     "output_type": "stream",
     "text": [
      "32°F=0.00°C\n",
      "56°F=13.33°C\n",
      "98°F=36.67°C\n",
      "104°F=40.00°C\n",
      "122°F=50.00°C\n"
     ]
    }
   ],
   "source": [
    "fahreneit_temp=[32,56,98,104,122]\n",
    "cel_temp=[]\n",
    "for f in fahreneit_temp:\n",
    "    cel=(f-32)*5/9\n",
    "    cel_temp.append(cel)\n",
    "\n",
    "for i,cel in enumerate(cel_temp):\n",
    "    print(f\"{fahreneit_temp[i]}°F={cel:.2f}°C\")"
   ]
  },
  {
   "cell_type": "markdown",
   "id": "bc7721b5-d42b-478d-9e19-304df60043ec",
   "metadata": {},
   "source": [
    "**Q18: Create a program to print the common elements from two lists using a `for` loop.**"
   ]
  },
  {
   "cell_type": "code",
   "execution_count": 11,
   "id": "f3c9a56a-a36e-40a3-ae15-4249848a0091",
   "metadata": {},
   "outputs": [
    {
     "name": "stdout",
     "output_type": "stream",
     "text": [
      "{4, 5, 7}\n"
     ]
    }
   ],
   "source": [
    "l8=[4,7,8,3,5,5]\n",
    "l9=[4,6,5,2,7,7]\n",
    "l8_set=set(l8)\n",
    "l9_set=set(l9)\n",
    "common=l8_set.intersection(l9_set)\n",
    "print(common)"
   ]
  },
  {
   "cell_type": "markdown",
   "id": "cdca807d-445f-45ca-890e-9dec132a9113",
   "metadata": {},
   "source": [
    "**Q19: Develop a program that prints the pattern of right-angled triangles using a `for` loop. Use ‘*’ to draw the\n",
    "pattern**"
   ]
  },
  {
   "cell_type": "code",
   "execution_count": 15,
   "id": "828c085a-0c4e-4ad2-9e50-1cbc4a983271",
   "metadata": {},
   "outputs": [
    {
     "name": "stdout",
     "output_type": "stream",
     "text": [
      "* \n",
      "* * \n",
      "* * * \n",
      "* * * * \n",
      "* * * * * \n"
     ]
    }
   ],
   "source": [
    "size=5\n",
    "for i in range(1,size+1):\n",
    "    for j in range(1,i+1):\n",
    "        print('*', end=' ')\n",
    "    print()"
   ]
  },
  {
   "cell_type": "markdown",
   "id": "fe191055-fd6c-406f-ac38-3782d17aed9f",
   "metadata": {},
   "source": [
    "**Q20: Write a program to find the greatest common divisor (GCD) of two numbers using a `for` loop.**"
   ]
  },
  {
   "cell_type": "code",
   "execution_count": 19,
   "id": "e371ec1a-5880-4549-aaa2-3014e7e11478",
   "metadata": {},
   "outputs": [
    {
     "name": "stdin",
     "output_type": "stream",
     "text": [
      "Enter the number 12\n",
      "Enter the number 8\n"
     ]
    },
    {
     "name": "stdout",
     "output_type": "stream",
     "text": [
      "4\n"
     ]
    }
   ],
   "source": [
    "n1=int(input(\"Enter the number\"))\n",
    "n2=int(input(\"Enter the number\"))\n",
    "def gcd(n1,n2):\n",
    "    if n2==0:\n",
    "        return n1\n",
    "    else:\n",
    "        return gcd(n2,n1%n2)\n",
    "print(gcd(n1,n2))"
   ]
  },
  {
   "cell_type": "markdown",
   "id": "6d9ea97b-8add-41f1-a13b-2518519b8d56",
   "metadata": {},
   "source": [
    "# Advance Level"
   ]
  },
  {
   "cell_type": "markdown",
   "id": "8547e714-6eac-4228-ba93-b4f1dfe6fdf9",
   "metadata": {},
   "source": [
    "**Q21: Create a program that calculates the sum of the digits of numbers in a list using a list comprehension.**"
   ]
  },
  {
   "cell_type": "code",
   "execution_count": 2,
   "id": "a812c008-d93a-4283-8d5e-e0e322c68c91",
   "metadata": {},
   "outputs": [
    {
     "name": "stdout",
     "output_type": "stream",
     "text": [
      "sum of 567 is 18\n",
      "sum of 123 is 6\n",
      "sum of 435 is 12\n"
     ]
    }
   ],
   "source": [
    "l10=[567,123,435]\n",
    "sum_of_digits=[sum(int(d) for d in str(num)) for num in l10]\n",
    "for i in range(len(l10)):\n",
    "    print(f\"sum of {l10[i]} is {sum_of_digits[i]}\")\n"
   ]
  },
  {
   "cell_type": "markdown",
   "id": "80a88925-f436-407b-a83d-a393b348e219",
   "metadata": {},
   "source": [
    "**Q22: Write a program to find the prime factors of a given number using a `for` loop and list comprehension.**"
   ]
  },
  {
   "cell_type": "code",
   "execution_count": 1,
   "id": "2e0b3e7d-4714-4017-b6dd-ac20f9a086a5",
   "metadata": {},
   "outputs": [
    {
     "name": "stdin",
     "output_type": "stream",
     "text": [
      "Enter the number 24\n"
     ]
    },
    {
     "name": "stdout",
     "output_type": "stream",
     "text": [
      "[2, 3]\n"
     ]
    }
   ],
   "source": [
    "def prime_factors(num):\n",
    "    p_factors=[]\n",
    "    for i in range(2,num+1):\n",
    "        if num%i==0:\n",
    "            is_prime=all([i%j!=0 for j in range(2,int(i**0.5)+1)])\n",
    "            if is_prime:\n",
    "                      p_factors.append(i)\n",
    "    return p_factors\n",
    "\n",
    "num=int(input(\"Enter the number\"))\n",
    "p_factors=prime_factors(num)\n",
    "print(p_factors)"
   ]
  },
  {
   "cell_type": "markdown",
   "id": "0a0a22d3-4d29-4181-90eb-44d79ec3bdea",
   "metadata": {},
   "source": [
    "**Q23: Develop a program that extracts unique elements from a list and stores them in a new list using a list\n",
    "comprehension.**"
   ]
  },
  {
   "cell_type": "code",
   "execution_count": 1,
   "id": "e00303f4-61ac-403f-9637-8c98a95b50bc",
   "metadata": {},
   "outputs": [
    {
     "name": "stdout",
     "output_type": "stream",
     "text": [
      "[3, 1, 4, 1, 5, 9, 2, 6, 5, 3, 5, 8, 9]\n",
      "[3, 1, 4, 5, 9, 2, 6, 8]\n"
     ]
    }
   ],
   "source": [
    "l11= [3, 1, 4, 1, 5, 9, 2, 6, 5, 3, 5, 8, 9]\n",
    "unique_l11=[x for i,x in enumerate(l11) if l11.index(x)==i]\n",
    "print(l11)\n",
    "print(unique_l11)\n",
    "    "
   ]
  },
  {
   "cell_type": "markdown",
   "id": "62f212f2-fcf1-4f20-a1d6-2dda1b2d6d35",
   "metadata": {},
   "source": [
    "**Q24: Create a program that generates a list of all palindromic numbers up to a specified limit using a list\n",
    "comprehension.**"
   ]
  },
  {
   "cell_type": "code",
   "execution_count": 2,
   "id": "305c9847-baec-4fb3-83aa-05910fb11a89",
   "metadata": {},
   "outputs": [
    {
     "name": "stdin",
     "output_type": "stream",
     "text": [
      "Enter the starting range 1\n",
      "Enter the ending range 200\n"
     ]
    },
    {
     "name": "stdout",
     "output_type": "stream",
     "text": [
      "[1, 2, 3, 4, 5, 6, 7, 8, 9, 11, 22, 33, 44, 55, 66, 77, 88, 99, 101, 111, 121, 131, 141, 151, 161, 171, 181, 191]\n"
     ]
    }
   ],
   "source": [
    "s=int(input(\"Enter the starting range\"))\n",
    "e=int(input(\"Enter the ending range\"))\n",
    "pal=[i for i in range(s,e+1) if str(i)==str(i)[::-1]]\n",
    "print(pal)"
   ]
  },
  {
   "cell_type": "markdown",
   "id": "a2c69dcf-4d00-413e-8e26-092d59d01a26",
   "metadata": {},
   "source": [
    "**Q25: Write a program to flatten a nested list using list comprehension.**"
   ]
  },
  {
   "cell_type": "code",
   "execution_count": 1,
   "id": "7dccbd8b-cb69-4efa-a074-bebb678a48cb",
   "metadata": {},
   "outputs": [
    {
     "name": "stdout",
     "output_type": "stream",
     "text": [
      "[1, 2, 3, 4, 5, 6, 7, 8, 9]\n"
     ]
    }
   ],
   "source": [
    "def flatten_list(nested_list):\n",
    "    return [item for sublist in nested_list for item in (flatten_list(sublist) if isinstance(sublist, list) else [sublist])]\n",
    "nested_list=[[1, 2, 3], [4, 5], [6, [7, 8], 9]]\n",
    "flattened_list=flatten_list(nested_list)\n",
    "print(flattened_list)\n",
    "\n"
   ]
  },
  {
   "cell_type": "markdown",
   "id": "80c9e91d-e48c-4519-89c4-040aa0132e4b",
   "metadata": {},
   "source": [
    "**Q26: Develop a program that computes the sum of even and odd numbers in a list separately using list\n",
    "comprehension.**"
   ]
  },
  {
   "cell_type": "code",
   "execution_count": 2,
   "id": "4b11ff26-488a-49d3-9e39-8888ae4ee7ba",
   "metadata": {},
   "outputs": [
    {
     "name": "stdout",
     "output_type": "stream",
     "text": [
      "16\n",
      "18\n"
     ]
    }
   ],
   "source": [
    "l12=[3,6,1,2,5,8,9]\n",
    "even_list=[i for i in l12 if i%2==0]\n",
    "odd_list=[i for i in l12 if i%2!=0]\n",
    "print(sum(even_list))\n",
    "print(sum(odd_list))\n",
    "      "
   ]
  },
  {
   "cell_type": "markdown",
   "id": "196cdcf1-beff-49fc-9c2d-4e7d717702d1",
   "metadata": {},
   "source": [
    "**Q27: Create a program that generates a list of squares of odd numbers between 1 and 10 using list\n",
    "comprehension.**"
   ]
  },
  {
   "cell_type": "code",
   "execution_count": 1,
   "id": "8a815f91-633f-463c-9ce3-77201bf54333",
   "metadata": {},
   "outputs": [
    {
     "name": "stdout",
     "output_type": "stream",
     "text": [
      "[1, 9, 25, 49, 81]\n"
     ]
    }
   ],
   "source": [
    "l13=[i**2 for i in range(1,11) if i%2!=0]\n",
    "print(l13)"
   ]
  },
  {
   "cell_type": "markdown",
   "id": "25838fbf-4fa2-4481-9319-4cc155e3d404",
   "metadata": {},
   "source": [
    "**Q28:Write a program that combines two lists into a dictionary using list comprehension.**"
   ]
  },
  {
   "cell_type": "code",
   "execution_count": 2,
   "id": "e41613c5-6cc6-47fe-ac4c-a21ac7f3afda",
   "metadata": {},
   "outputs": [
    {
     "name": "stdout",
     "output_type": "stream",
     "text": [
      "{'a': 1, 'b': 2, 'c': 3}\n"
     ]
    }
   ],
   "source": [
    "keys = ['a', 'b', 'c']\n",
    "values = [1, 2, 3]\n",
    "comb_dict={k:v for k,v in zip(keys, values)}\n",
    "print(comb_dict)"
   ]
  },
  {
   "cell_type": "markdown",
   "id": "f74fe6c5-18d0-4a82-b4d3-48c2ac83bf31",
   "metadata": {},
   "source": [
    "**Q29: Develop a program that extracts the vowels from a string and stores them in a list using list comprehension.**"
   ]
  },
  {
   "cell_type": "code",
   "execution_count": 3,
   "id": "efae8d6c-936d-4f2f-a9d9-255f5f8692fb",
   "metadata": {},
   "outputs": [
    {
     "name": "stdout",
     "output_type": "stream",
     "text": [
      "['e', 'e', 'i', 'a']\n"
     ]
    }
   ],
   "source": [
    "st4='deepika'\n",
    "vowels=[i for i in st4 if i.lower() in 'aeiou']\n",
    "print(vowels)"
   ]
  },
  {
   "cell_type": "markdown",
   "id": "bf53779d-aab4-4df1-b4a1-1a29a1e784b0",
   "metadata": {},
   "source": [
    "**Q30: Create a program that removes all non-numeric characters from a list of strings using list comprehension.**"
   ]
  },
  {
   "cell_type": "code",
   "execution_count": 6,
   "id": "5f097c3a-81f3-4b43-8fb3-5239b7d1e268",
   "metadata": {},
   "outputs": [
    {
     "name": "stdout",
     "output_type": "stream",
     "text": [
      "['123', '456', '789']\n"
     ]
    }
   ],
   "source": [
    "l14=['abc123', '456def', '789xyz']\n",
    "l15=[''.join(j for j in i if j.isdigit()) for i in l14]\n",
    "print(l15)"
   ]
  },
  {
   "cell_type": "markdown",
   "id": "00942a5d-174d-4a6a-8831-d35e95953210",
   "metadata": {},
   "source": [
    "# Challenge Level"
   ]
  },
  {
   "cell_type": "markdown",
   "id": "c91f5e74-b279-494f-a24b-3807583024fc",
   "metadata": {},
   "source": [
    "**Q31: Write a program to generate a list of prime numbers using the Sieve of Eratosthenes algorithm and list\n",
    "comprehension.**"
   ]
  },
  {
   "cell_type": "code",
   "execution_count": 2,
   "id": "ee0a4ebd-5238-48df-bccc-a3060649e4ec",
   "metadata": {},
   "outputs": [
    {
     "name": "stdin",
     "output_type": "stream",
     "text": [
      "enter a number 50\n"
     ]
    },
    {
     "name": "stdout",
     "output_type": "stream",
     "text": [
      "[2, 3, 5, 7, 11, 13, 17, 19, 23, 29, 31, 37, 41, 43, 47]\n"
     ]
    }
   ],
   "source": [
    "def sieve(n):\n",
    "    primes=[True]*(n+1)\n",
    "    primes[0]=primes[1]=False\n",
    "    for i in range(2,int(n**0.5)+1):\n",
    "        if primes[i]:\n",
    "            for j in range(i*i,n+1,i):\n",
    "                primes[j]=False\n",
    "    return [i for i in range(2,n+1) if primes[i]]\n",
    "\n",
    "n3=int(input(\"enter a number\"))\n",
    "print(sieve(n3))"
   ]
  },
  {
   "cell_type": "markdown",
   "id": "7267807d-09a2-4478-aa0a-7fc8640fc07c",
   "metadata": {},
   "source": [
    "**Q32: Create a program that generates a list of all Pythagorean triplets up to a specified limit using list\n",
    "comprehension.**"
   ]
  },
  {
   "cell_type": "code",
   "execution_count": 1,
   "id": "7de8b88b-7cb6-4ff0-891d-531d0f9de637",
   "metadata": {},
   "outputs": [
    {
     "name": "stdin",
     "output_type": "stream",
     "text": [
      "Enter the limit 100\n"
     ]
    },
    {
     "name": "stdout",
     "output_type": "stream",
     "text": [
      "[(3, 4, 5), (5, 12, 13), (6, 8, 10), (7, 24, 25), (8, 15, 17), (9, 12, 15), (9, 40, 41), (10, 24, 26), (11, 60, 61), (12, 16, 20), (12, 35, 37), (13, 84, 85), (14, 48, 50), (15, 20, 25), (15, 36, 39), (16, 30, 34), (16, 63, 65), (18, 24, 30), (18, 80, 82), (20, 21, 29), (20, 48, 52), (21, 28, 35), (21, 72, 75), (24, 32, 40), (24, 45, 51), (24, 70, 74), (25, 60, 65), (27, 36, 45), (28, 45, 53), (28, 96, 100), (30, 40, 50), (30, 72, 78), (32, 60, 68), (33, 44, 55), (33, 56, 65), (35, 84, 91), (36, 48, 60), (36, 77, 85), (39, 52, 65), (39, 80, 89), (40, 42, 58), (40, 75, 85), (42, 56, 70), (45, 60, 75), (48, 55, 73), (48, 64, 80), (51, 68, 85), (54, 72, 90), (57, 76, 95), (60, 63, 87), (60, 80, 100), (65, 72, 97)]\n"
     ]
    }
   ],
   "source": [
    "def pythagorean_triplets(limit):\n",
    "    triplets=[(a,b,c) for a in range(1, limit+1) for b in range (a, limit+1) for c in range (b, limit+1) if a**2+b**2==c**2]\n",
    "    return triplets\n",
    "\n",
    "limit=int(input(\"Enter the limit\"))\n",
    "print(pythagorean_triplets(limit))"
   ]
  },
  {
   "cell_type": "markdown",
   "id": "8393fc11-cf93-49bf-97d5-156891732da9",
   "metadata": {},
   "source": [
    "**Q33: Develop a program that generates a list of all possible combinations of two lists using list comprehension.**"
   ]
  },
  {
   "cell_type": "code",
   "execution_count": 4,
   "id": "24ba30ef-2c27-411f-9895-7068c20b5208",
   "metadata": {},
   "outputs": [
    {
     "name": "stdout",
     "output_type": "stream",
     "text": [
      "[(1, 'a'), (1, 'b'), (1, 'c'), (2, 'a'), (2, 'b'), (2, 'c'), (3, 'a'), (3, 'b'), (3, 'c')]\n"
     ]
    }
   ],
   "source": [
    "l16=[1, 2, 3]\n",
    "l17= ['a', 'b', 'c']\n",
    "combinations=[(x,y) for x in l16 for y in l17]\n",
    "print(combinations)"
   ]
  },
  {
   "cell_type": "markdown",
   "id": "a2518582-1188-4b54-b88a-5b31967221f9",
   "metadata": {},
   "source": [
    "**Q34: Write a program that calculates the mean, median, and mode of a list of numbers using list\n",
    "comprehension.**"
   ]
  },
  {
   "cell_type": "code",
   "execution_count": 2,
   "id": "1dd3ac7f-4c11-4d5d-9c9f-396a8e54830f",
   "metadata": {},
   "outputs": [
    {
     "name": "stdout",
     "output_type": "stream",
     "text": [
      "mean: 5.75\n",
      "median: 6.0\n",
      "mode(s): [6, 9]\n"
     ]
    }
   ],
   "source": [
    "l18=[1,2,5,9,9,8,6,6]\n",
    "mean=sum([i for i in l18])/len(l18)\n",
    "\n",
    "counts={num: l18.count(num) for num in set(l18)}\n",
    "max_count=max(counts.values())\n",
    "modes=[num for num, count in counts.items() if count==max_count]\n",
    "\n",
    "\n",
    "sorted_numbers=sorted(l18)\n",
    "n=len(sorted_numbers)\n",
    "if n%2==0:\n",
    "    median=(sorted_numbers[n//2-1]+ sorted_numbers[n//2])/2\n",
    "else:\n",
    "    median=(sorted_numbers[n//2])\n",
    "\n",
    "print(\"mean:\", mean)\n",
    "print(\"median:\", median)\n",
    "print(\"mode(s):\", modes)"
   ]
  },
  {
   "cell_type": "markdown",
   "id": "34b5c98b-a1c9-49eb-b1d2-770f936919b4",
   "metadata": {},
   "source": [
    "**Q35: Create a program that generates Pascal's triangle up to a specified number of rows using list\n",
    "comprehension.**"
   ]
  },
  {
   "cell_type": "code",
   "execution_count": 3,
   "id": "d6eeaa9a-70ec-4711-81fb-46a14cc1eb10",
   "metadata": {},
   "outputs": [
    {
     "name": "stdin",
     "output_type": "stream",
     "text": [
      "enter the value for rows 5\n"
     ]
    },
    {
     "name": "stdout",
     "output_type": "stream",
     "text": [
      "       1       \n",
      "      1 1      \n",
      "     1 2 1     \n",
      "    1 3 3 1    \n",
      "   1 4 6 4 1   \n"
     ]
    }
   ],
   "source": [
    "def generate_pascal_triangle(rows):\n",
    "    triangle=[[1]*(row+1) for row in range(rows)]\n",
    "    for row in range(2,rows):\n",
    "        for col in range(1, row):\n",
    "            triangle[row][col]=triangle[row-1][col-1]+triangle[row-1][col]\n",
    "    return triangle\n",
    "\n",
    "def print_pascals_triangle(triangle):\n",
    "    for row in triangle:\n",
    "        print(\" \".join(map(str, row)).center(len(triangle[-1])*3))\n",
    "\n",
    "rows=int(input(\"enter the value for rows\"))\n",
    "triangle=generate_pascal_triangle(rows)\n",
    "print_pascals_triangle(triangle)"
   ]
  },
  {
   "cell_type": "markdown",
   "id": "b2f939a6-4237-40fb-934d-fd2900336f0e",
   "metadata": {},
   "source": [
    "**Q36: Develop a program that calculates the sum of the digits of a factorial of numbers from 1 to 5 using list\n",
    "comprehension.**"
   ]
  },
  {
   "cell_type": "code",
   "execution_count": 1,
   "id": "29132261-47e0-44b2-b254-22e348e50fde",
   "metadata": {},
   "outputs": [
    {
     "name": "stdout",
     "output_type": "stream",
     "text": [
      "[1, 2, 6, 6, 3]\n"
     ]
    }
   ],
   "source": [
    "def factorial(n):\n",
    "    if n==0:\n",
    "        return 1\n",
    "    else:\n",
    "        return n*factorial(n-1)\n",
    "\n",
    "factorials=[factorial(i) for i in range(1,6)]\n",
    "sum_of_digits=[sum(int(digit) for digit in str(f)) for f in factorials]\n",
    "print(sum_of_digits)"
   ]
  },
  {
   "cell_type": "markdown",
   "id": "c39946c9-918f-4862-8e76-948f013a94bb",
   "metadata": {},
   "source": [
    "**Q37: Write a program that finds the longest word in a sentence using list comprehension.**"
   ]
  },
  {
   "cell_type": "code",
   "execution_count": 3,
   "id": "2a58d2d4-d550-4ac1-ba6b-9abf27a160b5",
   "metadata": {},
   "outputs": [
    {
     "name": "stdin",
     "output_type": "stream",
     "text": [
      "Enter a sentence My name is Deepika\n"
     ]
    },
    {
     "name": "stdout",
     "output_type": "stream",
     "text": [
      "Deepika\n"
     ]
    }
   ],
   "source": [
    "sentence=input(\"Enter a sentence\")\n",
    "words=sentence.split()\n",
    "word_lengths=[len(word) for word in words]\n",
    "word_index=word_lengths.index(max(word_lengths))\n",
    "longest_word=words[word_index]\n",
    "print(longest_word)"
   ]
  },
  {
   "cell_type": "markdown",
   "id": "60d21664-06c6-4231-a87e-3ceda8a92cb5",
   "metadata": {},
   "source": [
    "**Q38: Create a program that filters a list of strings to include only those with more than three vowels using list\n",
    "comprehension.**"
   ]
  },
  {
   "cell_type": "code",
   "execution_count": 5,
   "id": "f898f439-2617-4521-aa68-4f3bf2661ea2",
   "metadata": {},
   "outputs": [
    {
     "name": "stdout",
     "output_type": "stream",
     "text": [
      "['pomegranate']\n"
     ]
    }
   ],
   "source": [
    "l19=['hello', 'python', 'world', 'pomegranate', 'programming']\n",
    "def count_vowels(string):\n",
    "    vowels='aeiouAEIOU'\n",
    "    return sum(1 for char in string if char in vowels)\n",
    "\n",
    "l20=[string for string in l19 if count_vowels(string)>3]\n",
    "print(l20)"
   ]
  },
  {
   "cell_type": "markdown",
   "id": "7c4e8989-88b3-4a42-9e82-3dc95a237405",
   "metadata": {},
   "source": [
    "**Q39: Develop a program that calculates the sum of the digits of numbers from 1 to 1000 using list\r\n",
    "comprehension**."
   ]
  },
  {
   "cell_type": "code",
   "execution_count": 5,
   "id": "aab179e0-82ef-430f-a64f-f6b563e2ca98",
   "metadata": {},
   "outputs": [
    {
     "name": "stdout",
     "output_type": "stream",
     "text": [
      "[1, 2, 3, 4, 5, 6, 7, 8, 9, 1, 2, 3, 4, 5, 6, 7, 8, 9, 10, 2, 3, 4, 5, 6, 7, 8, 9, 10, 11, 3, 4, 5, 6, 7, 8, 9, 10, 11, 12, 4, 5, 6, 7, 8, 9, 10, 11, 12, 13, 5, 6, 7, 8, 9, 10, 11, 12, 13, 14, 6, 7, 8, 9, 10, 11, 12, 13, 14, 15, 7, 8, 9, 10, 11, 12, 13, 14, 15, 16, 8, 9, 10, 11, 12, 13, 14, 15, 16, 17, 9, 10, 11, 12, 13, 14, 15, 16, 17, 18, 1, 2, 3, 4, 5, 6, 7, 8, 9, 10, 2, 3, 4, 5, 6, 7, 8, 9, 10, 11, 3, 4, 5, 6, 7, 8, 9, 10, 11, 12, 4, 5, 6, 7, 8, 9, 10, 11, 12, 13, 5, 6, 7, 8, 9, 10, 11, 12, 13, 14, 6, 7, 8, 9, 10, 11, 12, 13, 14, 15, 7, 8, 9, 10, 11, 12, 13, 14, 15, 16, 8, 9, 10, 11, 12, 13, 14, 15, 16, 17, 9, 10, 11, 12, 13, 14, 15, 16, 17, 18, 10, 11, 12, 13, 14, 15, 16, 17, 18, 19, 2, 3, 4, 5, 6, 7, 8, 9, 10, 11, 3, 4, 5, 6, 7, 8, 9, 10, 11, 12, 4, 5, 6, 7, 8, 9, 10, 11, 12, 13, 5, 6, 7, 8, 9, 10, 11, 12, 13, 14, 6, 7, 8, 9, 10, 11, 12, 13, 14, 15, 7, 8, 9, 10, 11, 12, 13, 14, 15, 16, 8, 9, 10, 11, 12, 13, 14, 15, 16, 17, 9, 10, 11, 12, 13, 14, 15, 16, 17, 18, 10, 11, 12, 13, 14, 15, 16, 17, 18, 19, 11, 12, 13, 14, 15, 16, 17, 18, 19, 20, 3, 4, 5, 6, 7, 8, 9, 10, 11, 12, 4, 5, 6, 7, 8, 9, 10, 11, 12, 13, 5, 6, 7, 8, 9, 10, 11, 12, 13, 14, 6, 7, 8, 9, 10, 11, 12, 13, 14, 15, 7, 8, 9, 10, 11, 12, 13, 14, 15, 16, 8, 9, 10, 11, 12, 13, 14, 15, 16, 17, 9, 10, 11, 12, 13, 14, 15, 16, 17, 18, 10, 11, 12, 13, 14, 15, 16, 17, 18, 19, 11, 12, 13, 14, 15, 16, 17, 18, 19, 20, 12, 13, 14, 15, 16, 17, 18, 19, 20, 21, 4, 5, 6, 7, 8, 9, 10, 11, 12, 13, 5, 6, 7, 8, 9, 10, 11, 12, 13, 14, 6, 7, 8, 9, 10, 11, 12, 13, 14, 15, 7, 8, 9, 10, 11, 12, 13, 14, 15, 16, 8, 9, 10, 11, 12, 13, 14, 15, 16, 17, 9, 10, 11, 12, 13, 14, 15, 16, 17, 18, 10, 11, 12, 13, 14, 15, 16, 17, 18, 19, 11, 12, 13, 14, 15, 16, 17, 18, 19, 20, 12, 13, 14, 15, 16, 17, 18, 19, 20, 21, 13, 14, 15, 16, 17, 18, 19, 20, 21, 22, 5, 6, 7, 8, 9, 10, 11, 12, 13, 14, 6, 7, 8, 9, 10, 11, 12, 13, 14, 15, 7, 8, 9, 10, 11, 12, 13, 14, 15, 16, 8, 9, 10, 11, 12, 13, 14, 15, 16, 17, 9, 10, 11, 12, 13, 14, 15, 16, 17, 18, 10, 11, 12, 13, 14, 15, 16, 17, 18, 19, 11, 12, 13, 14, 15, 16, 17, 18, 19, 20, 12, 13, 14, 15, 16, 17, 18, 19, 20, 21, 13, 14, 15, 16, 17, 18, 19, 20, 21, 22, 14, 15, 16, 17, 18, 19, 20, 21, 22, 23, 6, 7, 8, 9, 10, 11, 12, 13, 14, 15, 7, 8, 9, 10, 11, 12, 13, 14, 15, 16, 8, 9, 10, 11, 12, 13, 14, 15, 16, 17, 9, 10, 11, 12, 13, 14, 15, 16, 17, 18, 10, 11, 12, 13, 14, 15, 16, 17, 18, 19, 11, 12, 13, 14, 15, 16, 17, 18, 19, 20, 12, 13, 14, 15, 16, 17, 18, 19, 20, 21, 13, 14, 15, 16, 17, 18, 19, 20, 21, 22, 14, 15, 16, 17, 18, 19, 20, 21, 22, 23, 15, 16, 17, 18, 19, 20, 21, 22, 23, 24, 7, 8, 9, 10, 11, 12, 13, 14, 15, 16, 8, 9, 10, 11, 12, 13, 14, 15, 16, 17, 9, 10, 11, 12, 13, 14, 15, 16, 17, 18, 10, 11, 12, 13, 14, 15, 16, 17, 18, 19, 11, 12, 13, 14, 15, 16, 17, 18, 19, 20, 12, 13, 14, 15, 16, 17, 18, 19, 20, 21, 13, 14, 15, 16, 17, 18, 19, 20, 21, 22, 14, 15, 16, 17, 18, 19, 20, 21, 22, 23, 15, 16, 17, 18, 19, 20, 21, 22, 23, 24, 16, 17, 18, 19, 20, 21, 22, 23, 24, 25, 8, 9, 10, 11, 12, 13, 14, 15, 16, 17, 9, 10, 11, 12, 13, 14, 15, 16, 17, 18, 10, 11, 12, 13, 14, 15, 16, 17, 18, 19, 11, 12, 13, 14, 15, 16, 17, 18, 19, 20, 12, 13, 14, 15, 16, 17, 18, 19, 20, 21, 13, 14, 15, 16, 17, 18, 19, 20, 21, 22, 14, 15, 16, 17, 18, 19, 20, 21, 22, 23, 15, 16, 17, 18, 19, 20, 21, 22, 23, 24, 16, 17, 18, 19, 20, 21, 22, 23, 24, 25, 17, 18, 19, 20, 21, 22, 23, 24, 25, 26, 9, 10, 11, 12, 13, 14, 15, 16, 17, 18, 10, 11, 12, 13, 14, 15, 16, 17, 18, 19, 11, 12, 13, 14, 15, 16, 17, 18, 19, 20, 12, 13, 14, 15, 16, 17, 18, 19, 20, 21, 13, 14, 15, 16, 17, 18, 19, 20, 21, 22, 14, 15, 16, 17, 18, 19, 20, 21, 22, 23, 15, 16, 17, 18, 19, 20, 21, 22, 23, 24, 16, 17, 18, 19, 20, 21, 22, 23, 24, 25, 17, 18, 19, 20, 21, 22, 23, 24, 25, 26, 18, 19, 20, 21, 22, 23, 24, 25, 26, 27, 1]\n"
     ]
    }
   ],
   "source": [
    "l20=[sum(int(digit) for digit in str(i)) for i in range(1,1001)]\n",
    "print(l20)"
   ]
  },
  {
   "cell_type": "markdown",
   "id": "59e2d691-88ce-43a6-a417-e5aeb0e7cb27",
   "metadata": {},
   "source": [
    "**Q40: Write a program that generates a list of prime palindromic numbers using list comprehension.**"
   ]
  },
  {
   "cell_type": "code",
   "execution_count": 9,
   "id": "426599c4-69cc-4af9-bba8-b9d4554c1fc7",
   "metadata": {},
   "outputs": [
    {
     "name": "stdout",
     "output_type": "stream",
     "text": [
      "[2, 3, 5, 7, 11, 101, 131, 151, 181, 191, 313, 353, 373, 383, 727, 757, 787, 797, 919, 929]\n"
     ]
    }
   ],
   "source": [
    "def is_primee(n):\n",
    "    if n<=1:\n",
    "        return False\n",
    "    for i in range(2, int(n**0.5)+1):\n",
    "        if n%i==0:\n",
    "            return False\n",
    "    return True\n",
    "\n",
    "def is_palindromee(n):\n",
    "    return str(n)==str(n)[::-1]\n",
    "\n",
    "prime_palindromic_numbers=[i for i in range(1,1001) if is_primee(i) and is_palindromee(i)]\n",
    "print(prime_palindromic_numbers)"
   ]
  },
  {
   "cell_type": "code",
   "execution_count": null,
   "id": "719269cb-ed2f-4330-abbc-82d1e674fcf0",
   "metadata": {},
   "outputs": [],
   "source": []
  }
 ],
 "metadata": {
  "kernelspec": {
   "display_name": "Python 3 (ipykernel)",
   "language": "python",
   "name": "python3"
  },
  "language_info": {
   "codemirror_mode": {
    "name": "ipython",
    "version": 3
   },
   "file_extension": ".py",
   "mimetype": "text/x-python",
   "name": "python",
   "nbconvert_exporter": "python",
   "pygments_lexer": "ipython3",
   "version": "3.10.13"
  }
 },
 "nbformat": 4,
 "nbformat_minor": 5
}
