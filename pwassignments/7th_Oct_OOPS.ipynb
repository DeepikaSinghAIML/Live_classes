{
 "cells": [
  {
   "cell_type": "markdown",
   "id": "f0f99c31-4c2e-4e7e-8db2-9b42a6bf06a4",
   "metadata": {},
   "source": [
    "A Class is a blueprint for creating objects. It defines properties (attributes) and behaviours(methods) that the object will have."
   ]
  },
  {
   "cell_type": "code",
   "execution_count": 2,
   "id": "1f249df9-6f22-4731-a6cf-71d1fa79592a",
   "metadata": {},
   "outputs": [],
   "source": [
    "class a:\n",
    "    def test(self):\n",
    "        print(\"this test method is part of class a\")\n",
    "    def test1(self):\n",
    "        print(\"this is test1 from class a\")"
   ]
  },
  {
   "cell_type": "markdown",
   "id": "a63129c3-73ad-4efe-9d40-6708cbb1250a",
   "metadata": {},
   "source": [
    "a is a class"
   ]
  },
  {
   "cell_type": "markdown",
   "id": "95d5c8d8-102b-4a70-8829-91505739eb9c",
   "metadata": {},
   "source": [
    "The class a contains two methods: test and test1.\n",
    "The methods are functions defined within a class that describe the behaviour of its objects."
   ]
  },
  {
   "cell_type": "markdown",
   "id": "54284eff-0565-4759-bfd0-d398a8bb2b32",
   "metadata": {},
   "source": [
    "Self is a placeholder that represents the current object(instance) of a class.\n",
    "It refers to the object calling the method.\n",
    "It allows you to access the attributes and methods of the object inside the class."
   ]
  },
  {
   "cell_type": "code",
   "execution_count": 3,
   "id": "e835d940-0281-4e7e-b8db-0fdc2ac2411c",
   "metadata": {},
   "outputs": [],
   "source": [
    "obj_a = a()\n",
    "# obj_a is the object created by a() is stored in variable obj_a. This object now has all the access to all the methods defined in the class.\n",
    "#obj_a is an instance of the class."
   ]
  },
  {
   "cell_type": "code",
   "execution_count": 4,
   "id": "47ce2ee4-1d28-4cdf-9e3c-0df1a685e1e3",
   "metadata": {},
   "outputs": [
    {
     "name": "stdout",
     "output_type": "stream",
     "text": [
      "this test method is part of class a\n"
     ]
    }
   ],
   "source": [
    "obj_a.test()"
   ]
  },
  {
   "cell_type": "code",
   "execution_count": 6,
   "id": "2d1b0c1e-e5f1-455e-a395-71b0bdd73585",
   "metadata": {},
   "outputs": [],
   "source": [
    "class b(a):\n",
    "   def test1b(self):\n",
    "       print(\"this is a part of class b\")"
   ]
  },
  {
   "cell_type": "code",
   "execution_count": 7,
   "id": "9405e795-75e7-4c78-a591-c258d402dd86",
   "metadata": {},
   "outputs": [],
   "source": [
    "obj_b=b()"
   ]
  },
  {
   "cell_type": "code",
   "execution_count": 8,
   "id": "5f8b3bbf-316d-4ccf-a005-ac9d8073ec7d",
   "metadata": {},
   "outputs": [
    {
     "name": "stdout",
     "output_type": "stream",
     "text": [
      "this test method is part of class a\n"
     ]
    }
   ],
   "source": [
    "obj_b.test()"
   ]
  },
  {
   "cell_type": "code",
   "execution_count": 9,
   "id": "4c13b51a-4e7a-4030-aaa1-e3a9fe842a05",
   "metadata": {},
   "outputs": [
    {
     "name": "stdout",
     "output_type": "stream",
     "text": [
      "this is test1 from class a\n"
     ]
    }
   ],
   "source": [
    "obj_b.test1()"
   ]
  },
  {
   "cell_type": "code",
   "execution_count": 20,
   "id": "fc392cb7-0db7-4960-a568-dd08780c6033",
   "metadata": {},
   "outputs": [],
   "source": [
    "class lecture:\n",
    "    def topic(self):\n",
    "        print(\"todays class we are discussing about inheritance concept in oops\")\n",
    "    def timing(self):\n",
    "        print(\"timings for todays class is 9AM IST.\")\n",
    "    def end_time(self):\n",
    "        print(\"today i will end class a bit early\")"
   ]
  },
  {
   "cell_type": "code",
   "execution_count": 21,
   "id": "290369ee-6848-432c-982e-80506a51da3c",
   "metadata": {},
   "outputs": [],
   "source": [
    "class student(lecture):\n",
    "    def student_details(self):\n",
    "        print(\"this class will give you students details\")"
   ]
  },
  {
   "cell_type": "code",
   "execution_count": 22,
   "id": "2210acf3-8ca2-4740-99eb-49d21ff0f40f",
   "metadata": {},
   "outputs": [],
   "source": [
    "naval=student()"
   ]
  },
  {
   "cell_type": "code",
   "execution_count": 23,
   "id": "63de5dfb-9217-4b17-81c9-206e118a52f2",
   "metadata": {},
   "outputs": [
    {
     "name": "stdout",
     "output_type": "stream",
     "text": [
      "todays class we are discussing about inheritance concept in oops\n"
     ]
    }
   ],
   "source": [
    "naval.topic()"
   ]
  },
  {
   "cell_type": "code",
   "execution_count": 24,
   "id": "77dbc268-e48a-493e-8982-e149d2f01e16",
   "metadata": {},
   "outputs": [
    {
     "name": "stdout",
     "output_type": "stream",
     "text": [
      "timings for todays class is 9AM IST.\n"
     ]
    }
   ],
   "source": [
    "satish=student()\n",
    "satish.timing()"
   ]
  },
  {
   "cell_type": "code",
   "execution_count": 25,
   "id": "4ef50fda-2c97-41bf-8cc7-9e15ce73d57c",
   "metadata": {},
   "outputs": [],
   "source": [
    "class teacher(student):\n",
    "    def details(self):\n",
    "        print(\"this will give you details about teacher\")"
   ]
  },
  {
   "cell_type": "code",
   "execution_count": 26,
   "id": "2cde06a6-4a73-49f5-a1bd-2c15b0ad0a86",
   "metadata": {},
   "outputs": [
    {
     "name": "stdout",
     "output_type": "stream",
     "text": [
      "timings for todays class is 9AM IST.\n"
     ]
    }
   ],
   "source": [
    "sudh= teacher()\n",
    "sudh.timing()"
   ]
  },
  {
   "cell_type": "code",
   "execution_count": 27,
   "id": "c3161643-c399-4a16-bd0f-135f0cd011e5",
   "metadata": {},
   "outputs": [],
   "source": [
    "class lecture:\n",
    "    def topic(self):\n",
    "        print(\"todays class we are discussing about inheritance concept in oops\")\n",
    "    def timing(self):\n",
    "        print(\"timings for todays class is 9AM IST.\")\n",
    "    def end_time(self):\n",
    "        print(\"today i will end class a bit early\")"
   ]
  },
  {
   "cell_type": "code",
   "execution_count": 28,
   "id": "5eb138c7-c2d1-46c9-9057-7c228a6f9454",
   "metadata": {},
   "outputs": [],
   "source": [
    "class student:\n",
    "    def student_details(self):\n",
    "        print(\"this class will give you students details\")\n",
    "\n",
    "    def timing(self):\n",
    "        print(\"this is timing from student class\")\n",
    "    "
   ]
  },
  {
   "cell_type": "code",
   "execution_count": 29,
   "id": "7f5c72c6-48c7-4c7a-84dd-c8051c8c9cc9",
   "metadata": {},
   "outputs": [],
   "source": [
    "class teacher(lecture, student):\n",
    "    def details(self):\n",
    "        print(\"this will give you details about teacher\")"
   ]
  },
  {
   "cell_type": "code",
   "execution_count": 30,
   "id": "ca892abb-bc54-442b-a539-5ddbd2528044",
   "metadata": {},
   "outputs": [],
   "source": [
    "krish= teacher()"
   ]
  },
  {
   "cell_type": "code",
   "execution_count": 31,
   "id": "73d66389-cfa9-4b6f-a2f4-3a558dfc8e27",
   "metadata": {},
   "outputs": [
    {
     "name": "stdout",
     "output_type": "stream",
     "text": [
      "timings for todays class is 9AM IST.\n"
     ]
    }
   ],
   "source": [
    "krish.timing()"
   ]
  },
  {
   "cell_type": "code",
   "execution_count": 32,
   "id": "f2d88ed5-4c5c-4526-b936-4b630a6535da",
   "metadata": {},
   "outputs": [
    {
     "name": "stdout",
     "output_type": "stream",
     "text": [
      "this class will give you students details\n"
     ]
    }
   ],
   "source": [
    "krish.student_details()"
   ]
  },
  {
   "cell_type": "markdown",
   "id": "27bf2f82-1c00-47ff-a6cd-ba59fe297877",
   "metadata": {},
   "source": [
    "**Problem 1: Bank Account Create a class representing a bank account with attributes like account number, account holder name, and balance. Implement methods to deposit and withdraw money from the account.**"
   ]
  },
  {
   "cell_type": "code",
   "execution_count": 3,
   "id": "83e94dc1-210e-4792-a3a9-6f0c40b26e20",
   "metadata": {},
   "outputs": [
    {
     "name": "stdout",
     "output_type": "stream",
     "text": [
      "account number: 12345678\n",
      "account holder name: Deepika Singh\n",
      "account balance: 5000.0\n",
      "₹2000 deposited successfully. Current balance:₹7000.0\n",
      "₹1000 withdrawn successfully. Current balance:₹6000.0\n",
      "account number: 12345678\n",
      "account holder name: Deepika Singh\n",
      "account balance: 6000.0\n"
     ]
    }
   ],
   "source": [
    "class BankAccount:\n",
    "    \n",
    "    def __init__(self, account_number, account_holder_name, balance=0.0):\n",
    "        self.account_number=account_number\n",
    "        self.account_holder_name=account_holder_name\n",
    "        self.balance= balance\n",
    "\n",
    "    def deposit(self, amount):\n",
    "        if amount>0:\n",
    "            self.balance+=amount\n",
    "            print(f\"₹{amount} deposited successfully. Current balance:₹{self.balance}\")\n",
    "        else:\n",
    "            print(\"Deposit amount should be greater than 0\")\n",
    "\n",
    "    def withdraw(self, amount):\n",
    "        if amount>0:\n",
    "            if amount<=self.balance:\n",
    "                self.balance-=amount\n",
    "                print(f\"₹{amount} withdrawn successfully. Current balance:₹{self.balance}\")\n",
    "            else:\n",
    "                print(f\"Insufficient balance. Your current balance is ₹{self.balance}\")\n",
    "        else:\n",
    "            print(\"Withdrawal amount should be greater than 0\")\n",
    "\n",
    "    def display_account_info(self):\n",
    "        print(f\"account number: {self.account_number}\")\n",
    "        print(f\"account holder name: {self.account_holder_name}\")\n",
    "        print(f\"account balance: {self.balance}\")\n",
    "\n",
    "\n",
    "if __name__== \"__main__\":\n",
    "    account= BankAccount(12345678, \"Deepika Singh\", 5000.0)\n",
    "    account.display_account_info()\n",
    "    account.deposit(2000)\n",
    "    account.withdraw(1000)\n",
    "    account.display_account_info()\n",
    "            \n",
    "            "
   ]
  },
  {
   "cell_type": "markdown",
   "id": "ed5facfd-af71-4afe-a762-3a1e637c0a80",
   "metadata": {},
   "source": [
    "**Problem 2: Employee Management Create a class representing an employee with attributes like employee ID, name, and salary. Implement methods to calculate the yearly bonus and display employee details.**"
   ]
  },
  {
   "cell_type": "code",
   "execution_count": 2,
   "id": "5214c7a8-edaa-4c8d-b79f-4be02171f67b",
   "metadata": {},
   "outputs": [
    {
     "name": "stdout",
     "output_type": "stream",
     "text": [
      "Employee ID: 277\n",
      "Name: Deepika Singh\n",
      "Salary: ₹500000\n",
      "Yearly bonus (at 10%): ₹600000.00\n"
     ]
    }
   ],
   "source": [
    "class Employee:\n",
    "    def __init__(self, emp_ID, name, salary):\n",
    "        self.emp_ID = emp_ID\n",
    "        self.name = name\n",
    "        self.salary = salary\n",
    "\n",
    "    def calculate_yearly_bonus(self, bonus_percentage):\n",
    "        yearly_salary = self.salary*12\n",
    "        bonus= yearly_salary* (bonus_percentage /100)\n",
    "        return bonus\n",
    "\n",
    "    def display_employee_details(self):\n",
    "        print(f\"Employee ID: {self.emp_ID}\")\n",
    "        print(f\"Name: {self.name}\")\n",
    "        print(f\"Salary: ₹{self.salary}\")\n",
    "\n",
    "if __name__==\"__main__\":\n",
    "    employee= Employee(277, 'Deepika Singh', 500000)\n",
    "    employee.display_employee_details()\n",
    "    bonus_percentage=10\n",
    "    yearly_bonus= employee.calculate_yearly_bonus(bonus_percentage)\n",
    "    print(f\"Yearly bonus (at {bonus_percentage}%): ₹{yearly_bonus:.2f}\")\n",
    "        "
   ]
  },
  {
   "cell_type": "markdown",
   "id": "9b7efdab-4553-4490-ac76-403b6282cb9e",
   "metadata": {},
   "source": [
    "**Q3: Problem 3: Vehicle Rental Create a class representing a vehicle rental system. Implement methods to rent a vehicle, return a vehicle, and display available vehicles.**"
   ]
  },
  {
   "cell_type": "code",
   "execution_count": 2,
   "id": "ae98c309-eb92-4a12-8bbf-600e17274e46",
   "metadata": {},
   "outputs": [
    {
     "name": "stdout",
     "output_type": "stream",
     "text": [
      "Available vehicles:\n",
      "Car:5\n",
      "Bike:10\n",
      "Scooter:7\n",
      "\n",
      "\n",
      "You have successfully rented 2 Car(s)\n",
      "\n",
      "\n",
      "You have successfully rented 4 Bike(s)\n",
      "\n",
      "\n",
      "Available vehicles:\n",
      "Car:3\n",
      "Bike:6\n",
      "Scooter:7\n",
      "\n",
      "\n",
      "You have successfully returned 1 Car(s).\n",
      "\n",
      "\n",
      "You have successfully returned 4 Bike(s).\n",
      "\n",
      "\n",
      "Available vehicles:\n",
      "Car:4\n",
      "Bike:10\n",
      "Scooter:7\n",
      "\n",
      "\n"
     ]
    }
   ],
   "source": [
    "class Vehical_Rental:\n",
    "    def __init__(self):\n",
    "        self.vehicles={\n",
    "            \"Car\": 5,\n",
    "            \"Bike\": 10,\n",
    "            \"Scooter\": 7\n",
    "        }\n",
    "\n",
    "    def display_available_vehicles(self):\n",
    "        print(\"Available vehicles:\")\n",
    "        for vehicle, quantity in self.vehicles.items():\n",
    "            print(f\"{vehicle}:{quantity}\")\n",
    "        print(\"\\n\")\n",
    "\n",
    "\n",
    "    def rent_vehicle(self, vehicle_type, quantity):\n",
    "        if vehicle_type in self.vehicles:\n",
    "            if self.vehicles[vehicle_type]>=quantity:\n",
    "                self.vehicles[vehicle_type]-=quantity\n",
    "                print(f\"You have successfully rented {quantity} {vehicle_type}(s)\")\n",
    "            else:\n",
    "                print(f\"Sorry, only {self.vehicles[vehicle_type]} {vehicle_type}(s) are available\")\n",
    "        else:\n",
    "            print(f\"Sorry we don't have {vehicle_type}s in our inventory\")\n",
    "        print(\"\\n\")\n",
    "\n",
    "    def return_vehicle(self, vehicle_type, quantity):\n",
    "        if vehicle_type in self.vehicles:\n",
    "            self.vehicles[vehicle_type]+=quantity\n",
    "            print(f\"You have successfully returned {quantity} {vehicle_type}(s).\")\n",
    "        else:\n",
    "            print(f\"We do not recognize the vehicle type: {vehicle_type}.\")\n",
    "        print(\"\\n\")\n",
    "\n",
    "if __name__==\"__main__\":\n",
    "    rental_system= Vehical_Rental()\n",
    "    rental_system.display_available_vehicles()\n",
    "    rental_system.rent_vehicle(\"Car\", 2)\n",
    "    rental_system.rent_vehicle(\"Bike\", 4)\n",
    "    rental_system.display_available_vehicles()\n",
    "    rental_system.return_vehicle(\"Car\", 1)\n",
    "    rental_system.return_vehicle(\"Bike\", 4)\n",
    "    rental_system.display_available_vehicles()\n",
    "    "
   ]
  },
  {
   "cell_type": "markdown",
   "id": "f5a500b9-e135-4f66-bbe1-61a0921080bd",
   "metadata": {},
   "source": [
    "**Problem 4: Library Catalog Create classes representing a library and a book. Implement methods to add books to the library, borrow books, and display available books.**\n"
   ]
  },
  {
   "cell_type": "code",
   "execution_count": 3,
   "id": "8a7d82f2-aff2-4b58-b738-5761ea97fb20",
   "metadata": {},
   "outputs": [
    {
     "name": "stdout",
     "output_type": "stream",
     "text": [
      "Book 'The Great Gatsby' by F. Scott Fitzgerald has been added to the library.\n",
      "Book 'To Kill a Mockingbird' by Harper Lee has been added to the library.\n",
      "Book '1984' by George Orwell has been added to the library.\n",
      "\n",
      "Available books in the library:\n",
      "'The Great Gatsby' by F. Scott Fitzgerald (Available)\n",
      "'To Kill a Mockingbird' by Harper Lee (Available)\n",
      "'1984' by George Orwell (Available)\n",
      "\n",
      "\n",
      "You have successfully borrowed '1984'.\n",
      "Sorry, '1984' is currently not available.\n",
      "'The Great Gatsby' was not borrowed.\n",
      "'The Great Gatsby' was not borrowed.\n",
      "\n",
      "Available books in the library:\n",
      "'The Great Gatsby' by F. Scott Fitzgerald (Available)\n",
      "'To Kill a Mockingbird' by Harper Lee (Available)\n",
      "'1984' by George Orwell (Not Available)\n",
      "\n",
      "\n"
     ]
    }
   ],
   "source": [
    "class Book:\n",
    "    def __init__(self, title, author):\n",
    "        self.title= title\n",
    "        self.author= author\n",
    "        self.is_available= True\n",
    "\n",
    "    def __str__(self):\n",
    "        return f\"'{self.title}' by {self.author} ({'Available' if self.is_available else 'Not Available'})\"\n",
    "\n",
    "class Library:\n",
    "    def __init__(self):\n",
    "        self.books=[]\n",
    "\n",
    "    def add_book(self, title, author):\n",
    "        book= Book(title, author)\n",
    "        self.books.append(book)\n",
    "        print(f\"Book '{title}' by {author} has been added to the library.\")\n",
    "\n",
    "    def display_books(self):\n",
    "        print(\"\\nAvailable books in the library:\")\n",
    "        for book in self.books:\n",
    "            print(book)\n",
    "        print(\"\\n\")\n",
    "\n",
    "    def borrow_book(self, title):\n",
    "        for book in self.books:\n",
    "            if book.title.lower()==title.lower():\n",
    "                if book.is_available:\n",
    "                    book.is_available= False\n",
    "                    print(f\"You have successfully borrowed '{book.title}'.\")\n",
    "                    return\n",
    "                else:\n",
    "                    print(f\"Sorry, '{book.title}' is currently not available.\")\n",
    "                    return\n",
    "\n",
    "        print(f\"Sorry, we do not have book titled '{title}' in our library.\")\n",
    "\n",
    "    def return_book(self, title):\n",
    "        for book in self.books:\n",
    "            if not book.is_available:\n",
    "                book.is_available= True\n",
    "                print(f\"Thank you for returning '{book.title}'.\")\n",
    "                return\n",
    "            else:\n",
    "                print(f\"'{book.title}' was not borrowed.\")\n",
    "                return\n",
    "        print(f\"Sorry, '{title}' does not belong to this library.\")\n",
    "\n",
    "\n",
    "library = Library()\n",
    "\n",
    "library.add_book(\"The Great Gatsby\", \"F. Scott Fitzgerald\")\n",
    "library.add_book(\"To Kill a Mockingbird\", \"Harper Lee\")\n",
    "library.add_book(\"1984\", \"George Orwell\")\n",
    "\n",
    "library.display_books()\n",
    "library.borrow_book(\"1984\")\n",
    "library.borrow_book(\"1984\")\n",
    "library.return_book(\"1984\")\n",
    "library.return_book(\"1984\")\n",
    "library.display_books()\n",
    "            \n",
    "        "
   ]
  },
  {
   "cell_type": "markdown",
   "id": "1c19e989-301e-463a-a6c1-f98aa5655fa7",
   "metadata": {},
   "source": [
    "**Problem 5: Product Inventory Create classes representing a product and an inventory system. Implement methods to add products to the inventory, update product quantity, and display available products.**"
   ]
  },
  {
   "cell_type": "code",
   "execution_count": 2,
   "id": "ae1d4df6-e0d7-44c6-b47f-e257e1db7c24",
   "metadata": {},
   "outputs": [
    {
     "name": "stdout",
     "output_type": "stream",
     "text": [
      "Added new product: Laptop\n",
      "Added new product: Phone\n",
      "Added new product: Tablet\n",
      "\n",
      "Available products in the inventory:\n",
      "Laptop - Price: $1200, Quantity: 10\n",
      "Phone - Price: $800, Quantity: 20\n",
      "Tablet - Price: $300, Quantity: 15\n",
      "\n",
      "\n",
      "Updated Laptop: New quantity is 15.\n",
      "Updated Phone: New quantity is 15.\n",
      "Product 'Camera' not found in the inventory.\n",
      "\n",
      "Available products in the inventory:\n",
      "Laptop - Price: $1200, Quantity: 15\n",
      "Phone - Price: $800, Quantity: 15\n",
      "Tablet - Price: $300, Quantity: 15\n",
      "\n",
      "\n"
     ]
    }
   ],
   "source": [
    "class Product:\n",
    "    def __init__(self, name, price, quantity):\n",
    "        self.name= name\n",
    "        self.price = price\n",
    "        self.quantity= quantity\n",
    "\n",
    "    def __str__(self):\n",
    "        return f\"{self.name} - Price: ${self.price}, Quantity: {self.quantity}\"\n",
    "\n",
    "class Inventory:\n",
    "    def __init__(self):\n",
    "        self.products={}\n",
    "\n",
    "    def add_product(self, name, price, quantity):\n",
    "        if name in self.products:\n",
    "            self.products[name].quantity+= quantity\n",
    "            print(f\"Updated {name}: New quantity is {self.products[name].quantity}.\")\n",
    "        else:\n",
    "            product= Product(name, price, quantity)\n",
    "            self.products[name]= product\n",
    "            print(f\"Added new product: {name}\")\n",
    "\n",
    "    def update_quantity(self, name, quantity):\n",
    "        if name in self.products:\n",
    "            self.products[name].quantity+= quantity\n",
    "            if self.products[name].quantity<0:\n",
    "                self.products[name].quantity=0\n",
    "            print(f\"Updated {name}: New quantity is {self.products[name].quantity}.\")\n",
    "        else:\n",
    "            print(f\"Product '{name}' not found in the inventory.\")\n",
    "\n",
    "    def display_products(self):\n",
    "        print(\"\\nAvailable products in the inventory:\")\n",
    "        if not self.products:\n",
    "            print(\"No products available\")\n",
    "        else:\n",
    "            for product in self.products.values():\n",
    "                print(product)\n",
    "        print(\"\\n\")\n",
    "\n",
    "\n",
    "if __name__==\"__main__\":\n",
    "    inventory= Inventory()\n",
    "\n",
    "    inventory.add_product(\"Laptop\", 1200, 10)\n",
    "    inventory.add_product(\"Phone\", 800, 20)\n",
    "    inventory.add_product(\"Tablet\", 300, 15)\n",
    "\n",
    "    inventory.display_products()\n",
    "\n",
    "    inventory.update_quantity(\"Laptop\", 5)    \n",
    "    inventory.update_quantity(\"Phone\", -5)  \n",
    "    inventory.update_quantity(\"Camera\", 10)\n",
    "\n",
    "    inventory.display_products()\n",
    "            "
   ]
  },
  {
   "cell_type": "markdown",
   "id": "7c41e412-b38f-4a32-995f-dc518f4c0c94",
   "metadata": {},
   "source": [
    "**Problem 6: Shape Calculation Create a class representing a shape with attributes like length, width, and height. Implement methods to calculate the area and perimeter of the shape.**"
   ]
  },
  {
   "cell_type": "code",
   "execution_count": 6,
   "id": "9a66876e-0c57-4730-b0f8-34dd96848b35",
   "metadata": {},
   "outputs": [
    {
     "name": "stdout",
     "output_type": "stream",
     "text": [
      "Shape 1: Shape(length= 5, width= 10, height= 15)\n",
      "Area: 50\n",
      "Perimeter: 30\n",
      "Volume: 750\n",
      "\n",
      "Shape 2: Shape(length= 7, width= 7, height= None)\n",
      "Area: 49\n",
      "Perimeter: 28\n",
      "Volume: Height not provided, volume cannot be calculated\n"
     ]
    }
   ],
   "source": [
    "class Shape:\n",
    "    def __init__(self, length, width= None, height=None):\n",
    "        self.length= length\n",
    "        self.width= width if width is not None else length\n",
    "        self.height= height\n",
    "\n",
    "\n",
    "    def calculate_area(self):\n",
    "        return self.length * self.width\n",
    "\n",
    "    def calculate_perimeter(self):\n",
    "        return 2 *(self.length+ self.width)\n",
    "\n",
    "    def calculate_volume(self):\n",
    "        if self.height is not None:\n",
    "            return self.length* self.width* self.height\n",
    "        else:\n",
    "            return \"Height not provided, volume cannot be calculated\"\n",
    "\n",
    "    def __str__(self):\n",
    "        return f\"Shape(length= {self.length}, width= {self.width}, height= {self.height})\"\n",
    "\n",
    "\n",
    "shape1=Shape(5, 10, 15)\n",
    "print(\"Shape 1:\", shape1)\n",
    "print(\"Area:\", shape1.calculate_area())\n",
    "print(\"Perimeter:\", shape1.calculate_perimeter())\n",
    "print(\"Volume:\", shape1.calculate_volume())\n",
    "\n",
    "shape2= Shape(7)\n",
    "print(\"\\nShape 2:\", shape2)\n",
    "print(\"Area:\", shape2.calculate_area())\n",
    "print(\"Perimeter:\", shape2.calculate_perimeter())\n",
    "print(\"Volume:\", shape2.calculate_volume())\n",
    "\n"
   ]
  },
  {
   "cell_type": "markdown",
   "id": "c4f4869a-6160-4dc1-a1b2-d0ee0ff99507",
   "metadata": {},
   "source": [
    "**Problem 7: Student Management Create a class representing a student with attributes like student ID, name, and grades. Implement methods to calculate the average grade and display student details.**"
   ]
  },
  {
   "cell_type": "code",
   "execution_count": 8,
   "id": "4c4b1ab8-9f68-408f-95d2-e8ea0b49ee43",
   "metadata": {},
   "outputs": [
    {
     "name": "stdout",
     "output_type": "stream",
     "text": [
      "Student ID: 101\n",
      "Name: Alice\n",
      "Grades: [85, 90, 78]\n",
      "Average Grade: 84.33\n",
      "\n",
      "Student ID: 102\n",
      "Name: Bob\n",
      "Grades: []\n",
      "Average Grade: No grades available\n"
     ]
    }
   ],
   "source": [
    "class Student:\n",
    "    def __init__(self, studentID, name, grades=None):\n",
    "        self.studentID=studentID\n",
    "        self.name=name\n",
    "        self.grades=grades if grades is not None else []\n",
    "\n",
    "    def calculate_avg(self):\n",
    "        if not self.grades:\n",
    "            return None\n",
    "        return sum(self.grades)/len(self.grades)\n",
    "\n",
    "    def display_details(self):\n",
    "        avg=self.calculate_avg()\n",
    "        print(\"Student ID:\", self.studentID)\n",
    "        print(\"Name:\", self.name)\n",
    "        print(\"Grades:\", self.grades)\n",
    "        print(\"Average Grade:\", f\"{avg:.2f}\" if avg is not None else \"No grades available\")\n",
    "\n",
    "student1= Student(101, \"Alice\", [85,90,78])\n",
    "student2= Student(102,\"Bob\")\n",
    "\n",
    "student1.display_details()\n",
    "print()\n",
    "student2.display_details()"
   ]
  },
  {
   "cell_type": "markdown",
   "id": "e721fa9f-a4ab-451f-816e-90ed9ad8be71",
   "metadata": {},
   "source": [
    "**Problem 8: Email Management Create a class representing an email with attributes like sender, recipient, and subject. Implement methods to send an email and display email details.**"
   ]
  },
  {
   "cell_type": "code",
   "execution_count": 10,
   "id": "95dd25ff-cfc8-43a6-8349-edfcae2c4c85",
   "metadata": {},
   "outputs": [
    {
     "name": "stdout",
     "output_type": "stream",
     "text": [
      "Email Details\n",
      "From: john.doe@example.com\n",
      "To: jane.smith@example.com\n",
      "Subject: Project Update\n",
      "Body:\n",
      "Hi Jane, \n",
      "\n",
      "Please find the latest update on the project attached.\n",
      "\n",
      "Best regards,\n",
      "John\n",
      "\n",
      "Sending email...\n",
      "From: john.doe@example.com\n",
      "To: jane.smith@example.com\n",
      "Subject: Project Update\n",
      "Email sent successfully\n"
     ]
    }
   ],
   "source": [
    "class Email:\n",
    "    def __init__(self, sender, recipient, subject, body):\n",
    "        self.sender= sender\n",
    "        self.recipient= recipient\n",
    "        self.subject= subject\n",
    "        self.body= body\n",
    "\n",
    "    def send_email(self):\n",
    "        print(f\"Sending email...\\nFrom: {self.sender}\\nTo: {self.recipient}\\nSubject: {self.subject}\")\n",
    "        print(\"Email sent successfully\")\n",
    "\n",
    "    def display_details(self):\n",
    "        print(\"Email Details\")\n",
    "        print(f\"From: {self.sender}\")\n",
    "        print(f\"To: {self.recipient}\")\n",
    "        print(f\"Subject: {self.subject}\")\n",
    "        print(\"Body:\")\n",
    "        print(self.body)\n",
    "\n",
    "email1= Email(\n",
    "    sender=\"john.doe@example.com\",\n",
    "    recipient=\"jane.smith@example.com\",\n",
    "    subject= \"Project Update\",\n",
    "    body=\"Hi Jane, \\n\\nPlease find the latest update on the project attached.\\n\\nBest regards,\\nJohn\")\n",
    "\n",
    "email1.display_details()\n",
    "print()\n",
    "email1.send_email()\n",
    "    "
   ]
  },
  {
   "cell_type": "markdown",
   "id": "d71bb601-d5ea-427b-b438-2d9afd2b5879",
   "metadata": {},
   "source": [
    "**Problem 9: Social Media Profile Create a class representing a social media profile with attributes like username and posts. Implement methods to add posts, display posts, and search for posts by keyword.**"
   ]
  },
  {
   "cell_type": "code",
   "execution_count": 3,
   "id": "1b0a2124-bd0b-4820-9ec5-f56a80bf9c04",
   "metadata": {},
   "outputs": [
    {
     "name": "stdout",
     "output_type": "stream",
     "text": [
      "Post added: \"Excited to start my new job!\"\n",
      "Post added: \"Loving the weather today!\"\n",
      "Post added: \"Job Update: Got my first project assigned.\"\n",
      "\n",
      "Posts by john_doe:\n",
      "1.Excited to start my new job!\n",
      "2.Loving the weather today!\n",
      "3.Job Update: Got my first project assigned.\n",
      "\n",
      "Searching for posts containing \"job\":\n",
      "-Excited to start my new job!\n",
      "-Job Update: Got my first project assigned.\n",
      "Searching for posts containing \"vacation\":\n",
      "No posts found with the given keyword\n"
     ]
    }
   ],
   "source": [
    "class SocialMedia:\n",
    "    def __init__(self, username):\n",
    "        self.username= username\n",
    "        self.posts= []\n",
    "\n",
    "    def add_posts(self, content):\n",
    "        self.posts.append(content)\n",
    "        print(f\"Post added: \\\"{content}\\\"\")\n",
    "\n",
    "    def display_posts(self):\n",
    "        print(f\"Posts by {self.username}:\")\n",
    "        if not self.posts:\n",
    "            print(\"No posts yet.\")\n",
    "        else:\n",
    "            for index, posts in enumerate(self.posts, 1):\n",
    "                print(f\"{index}.{posts}\")\n",
    "\n",
    "    def search_posts(self, keyword):\n",
    "        print(f\"Searching for posts containing \\\"{keyword}\\\":\")\n",
    "        results= [post for post in self.posts if keyword.lower() in post.lower()]\n",
    "        if results:\n",
    "            for result in results:\n",
    "                print(f\"-{result}\")\n",
    "        else:\n",
    "            print(\"No posts found with the given keyword\")\n",
    "\n",
    "\n",
    "profile= SocialMedia(\"john_doe\")\n",
    "profile.add_posts(\"Excited to start my new job!\")\n",
    "profile.add_posts(\"Loving the weather today!\")\n",
    "profile.add_posts(\"Job Update: Got my first project assigned.\")\n",
    "\n",
    "print()\n",
    "\n",
    "profile.display_posts()\n",
    "\n",
    "print()\n",
    "\n",
    "profile.search_posts(\"job\")\n",
    "profile.search_posts(\"vacation\")"
   ]
  },
  {
   "cell_type": "markdown",
   "id": "deba3ccc-fab4-4ad1-b1f7-5fbc1f38b2f0",
   "metadata": {},
   "source": [
    "**Problem 10: ToDo List Create a class representing a ToDo list with attributes like tasks and due dates. Implement methods to add tasks, mark tasks as completed, and display pending tasks.**"
   ]
  },
  {
   "cell_type": "code",
   "execution_count": 5,
   "id": "5edad92f-ad50-461b-93a4-fd4d4d81c7db",
   "metadata": {},
   "outputs": [
    {
     "name": "stdout",
     "output_type": "stream",
     "text": [
      "Task 'Finish project report' added successfully\n",
      "Task 'Buy groceries' added successfully\n",
      "Task 'Call the plumber' added successfully\n",
      "\n",
      "Pending Tasks:\n",
      "1. Task: Finish project report, Due Date: 2024-12-25\n",
      "2. Task: Buy groceries, Due Date: 2024-12-22\n",
      "3. Task: Call the plumber, Due Date: 2024-12-23\n",
      "Task 'Buy groceries' marked as completed.\n",
      "\n",
      "Pending Tasks:\n",
      "1. Task: Finish project report, Due Date: 2024-12-25\n",
      "2. Task: Call the plumber, Due Date: 2024-12-23\n"
     ]
    }
   ],
   "source": [
    "class ToDoList:\n",
    "    def __init__(self):\n",
    "        self.tasks=[]\n",
    "\n",
    "    def add_task(self, task, due_date):\n",
    "        self.tasks.append({\"task\": task, \"due_date\": due_date, \"completed\": False})\n",
    "        print(f\"Task '{task}' added successfully\")\n",
    "\n",
    "    def mark_completed(self, task_index):\n",
    "        if 0<=task_index < len(self.tasks):\n",
    "            self.tasks[task_index][\"completed\"]= True\n",
    "            print(f\"Task '{self.tasks[task_index]['task']}' marked as completed.\")\n",
    "        else:\n",
    "            print(\"Invalid task index.\")\n",
    "\n",
    "    def display_pending_tasks(self):\n",
    "        \"\"\"\n",
    "        Display all pending tasks in the ToDo list.\n",
    "        \"\"\"\n",
    "        print(\"\\nPending Tasks:\")\n",
    "        pending = [task for task in self.tasks if not task[\"completed\"]]\n",
    "        if not pending:\n",
    "            print(\"No pending tasks.\")\n",
    "        else:\n",
    "            for index, task in enumerate(pending, 1):\n",
    "                print(f\"{index}. Task: {task['task']}, Due Date: {task['due_date']}\")\n",
    "\n",
    "\n",
    "my_todo_list = ToDoList()\n",
    "my_todo_list.add_task(\"Finish project report\", \"2024-12-25\")\n",
    "my_todo_list.add_task(\"Buy groceries\", \"2024-12-22\")\n",
    "my_todo_list.add_task(\"Call the plumber\", \"2024-12-23\")\n",
    "\n",
    "my_todo_list.display_pending_tasks()\n",
    "my_todo_list.mark_completed(1)\n",
    "my_todo_list.display_pending_tasks()\n"
   ]
  },
  {
   "cell_type": "code",
   "execution_count": null,
   "id": "f121690c-10d0-4864-8fcc-ee49ae8c5b37",
   "metadata": {},
   "outputs": [],
   "source": []
  }
 ],
 "metadata": {
  "kernelspec": {
   "display_name": "Python 3 (ipykernel)",
   "language": "python",
   "name": "python3"
  },
  "language_info": {
   "codemirror_mode": {
    "name": "ipython",
    "version": 3
   },
   "file_extension": ".py",
   "mimetype": "text/x-python",
   "name": "python",
   "nbconvert_exporter": "python",
   "pygments_lexer": "ipython3",
   "version": "3.12.4"
  }
 },
 "nbformat": 4,
 "nbformat_minor": 5
}
