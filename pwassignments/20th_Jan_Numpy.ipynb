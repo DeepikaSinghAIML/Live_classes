{
 "cells": [
  {
   "cell_type": "markdown",
   "id": "664dc8d3-2ffe-40d8-8596-a4632b958e4d",
   "metadata": {},
   "source": [
    "**Q1: What is a Python library? Why do we use Python libraries?**"
   ]
  },
  {
   "cell_type": "markdown",
   "id": "4e4e0fb1-b490-422d-a225-817a72dadfae",
   "metadata": {},
   "source": [
    "A Python library is a collection of pre-written code that provides useful functions and tools for performing specific tasks. Libraries simplify development by allowing programmers to reuse code rather than writing it from scratch."
   ]
  },
  {
   "cell_type": "markdown",
   "id": "826a58c8-2d2f-43a2-8221-68fa09be6ba0",
   "metadata": {},
   "source": [
    "Libraries provide optimized code that can perform complex tasks with just a few lines, making the code easier to write and maintain."
   ]
  },
  {
   "cell_type": "markdown",
   "id": "f515567a-c9ad-43a5-9ce9-66949250fedd",
   "metadata": {},
   "source": [
    "Instead of writing functions from scratch, you can reuse the code that others have already written and tested."
   ]
  },
  {
   "cell_type": "markdown",
   "id": "0d0dabe6-4655-4de1-8cbb-5b4fa86d6343",
   "metadata": {},
   "source": [
    "Libraries are written by experts and the Python community, ensuring reliable, efficient, and often widely-used solutions."
   ]
  },
  {
   "cell_type": "markdown",
   "id": "3d20d14b-df5b-4361-9b70-a9f880d5eb50",
   "metadata": {},
   "source": [
    "**Q2: What is the difference between Numpy array and List?**"
   ]
  },
  {
   "cell_type": "markdown",
   "id": "db89b3d1-5a99-45a9-a9f8-54f0ea9146bd",
   "metadata": {},
   "source": [
    "1) Numpy array are homogeneous.\n",
    "1) Python lists are heterogeneous."
   ]
  },
  {
   "cell_type": "markdown",
   "id": "6656bf1e-70cb-44f3-9908-6d01de5b6f8c",
   "metadata": {},
   "source": [
    "2) Numpy array are faster for numerical computations due to optimized C/C++ implementation.\n",
    "2) Python lists are slower because it’s a general-purpose container."
   ]
  },
  {
   "cell_type": "markdown",
   "id": "29c79a7d-aaff-4fd6-81f6-d2a03225e00b",
   "metadata": {},
   "source": [
    "3) More memory-efficient because of the fixed data types.\n",
    "3) Consumes more memory due to its flexibility in storing different data types."
   ]
  },
  {
   "cell_type": "markdown",
   "id": "b776dec1-874c-42c1-92ee-98c2bd109043",
   "metadata": {},
   "source": [
    "4) Supports element-wise operations (like addition, multiplication).\n",
    "4) Does not support element-wise operations directly. Requires loops or list comprehensions."
   ]
  },
  {
   "cell_type": "markdown",
   "id": "cf335eba-fa2a-4e3a-b5e8-d61e2aa72a77",
   "metadata": {},
   "source": [
    "5) Size is fixed after creation (but can be modified using functions like np.resize).\n",
    "5) Can grow or shrink dynamically (can append, remove elements)."
   ]
  },
  {
   "cell_type": "markdown",
   "id": "f25094d1-a0ef-43a7-b7f9-965d70935ad6",
   "metadata": {},
   "source": [
    "6) Automatically converts data types (e.g., integers to floats) for efficiency.\n",
    "6) No automatic conversion; keeps mixed data types as they are."
   ]
  },
  {
   "cell_type": "markdown",
   "id": "d6c83714-676c-4c01-bd63-90167697118f",
   "metadata": {},
   "source": [
    "**Q3: Find the shape, size and dimension of the following array?  \n",
    "[[1, 2, 3, 4]  \n",
    "[5, 6, 7, 8],  \n",
    "[9, 10, 11, 12]]**"
   ]
  },
  {
   "cell_type": "code",
   "execution_count": 22,
   "id": "01766094-c5d3-411f-b081-cb1664a8b0f5",
   "metadata": {},
   "outputs": [],
   "source": [
    "import numpy as np"
   ]
  },
  {
   "cell_type": "code",
   "execution_count": 9,
   "id": "27b1c3c0-6180-4517-bf62-9676aca32249",
   "metadata": {},
   "outputs": [],
   "source": [
    "arr=np.array([[1, 2, 3, 4],\n",
    "[5, 6, 7, 8],\n",
    "[9, 10, 11, 12]])"
   ]
  },
  {
   "cell_type": "code",
   "execution_count": 10,
   "id": "9ae9b7ca-0063-4b36-8e91-d765f1cbdf15",
   "metadata": {},
   "outputs": [
    {
     "data": {
      "text/plain": [
       "(3, 4)"
      ]
     },
     "execution_count": 10,
     "metadata": {},
     "output_type": "execute_result"
    }
   ],
   "source": [
    "arr.shape"
   ]
  },
  {
   "cell_type": "code",
   "execution_count": 11,
   "id": "ee931329-2704-4049-8007-02c9e74915ed",
   "metadata": {},
   "outputs": [
    {
     "data": {
      "text/plain": [
       "12"
      ]
     },
     "execution_count": 11,
     "metadata": {},
     "output_type": "execute_result"
    }
   ],
   "source": [
    "arr.size"
   ]
  },
  {
   "cell_type": "code",
   "execution_count": 12,
   "id": "68316cd0-7e5c-4df6-868b-20ec7d3086a5",
   "metadata": {},
   "outputs": [
    {
     "data": {
      "text/plain": [
       "2"
      ]
     },
     "execution_count": 12,
     "metadata": {},
     "output_type": "execute_result"
    }
   ],
   "source": [
    "arr.ndim"
   ]
  },
  {
   "cell_type": "markdown",
   "id": "996c6624-7440-48dd-bf58-0b01328d7f08",
   "metadata": {},
   "source": [
    "**Q4: Write python code to access the first row of the following array?  \n",
    "[[1, 2, 3, 4],  \n",
    "[5, 6, 7, 8],  \n",
    "[9, 10, 11, 12]]**"
   ]
  },
  {
   "cell_type": "code",
   "execution_count": 13,
   "id": "9e285e66-e344-4818-97da-d661d3f3c214",
   "metadata": {},
   "outputs": [],
   "source": [
    "arr2=np.array([[1, 2, 3, 4],\n",
    "               [5, 6, 7, 8],\n",
    "               [9, 10, 11, 12]])"
   ]
  },
  {
   "cell_type": "code",
   "execution_count": 14,
   "id": "2dd11257-85d0-4526-a5a5-e246d8bf2aec",
   "metadata": {},
   "outputs": [
    {
     "data": {
      "text/plain": [
       "array([1, 2, 3, 4])"
      ]
     },
     "execution_count": 14,
     "metadata": {},
     "output_type": "execute_result"
    }
   ],
   "source": [
    "arr2[0]"
   ]
  },
  {
   "cell_type": "markdown",
   "id": "dbbb94d1-4ca0-4295-82b7-17597384d17d",
   "metadata": {},
   "source": [
    "**Q5: How do you access the element at the third row and fourth column from the given numpy array?  \n",
    "[[1, 2, 3, 4],  \n",
    "[5, 6, 7, 8],  \n",
    "[9, 10, 11, 12]]**"
   ]
  },
  {
   "cell_type": "code",
   "execution_count": 15,
   "id": "702395b5-71ef-43a6-b475-afa84106f19c",
   "metadata": {},
   "outputs": [],
   "source": [
    "arr3= np.array([[1, 2, 3, 4],\n",
    "                [5, 6, 7, 8],\n",
    "                [9, 10, 11, 12]])"
   ]
  },
  {
   "cell_type": "code",
   "execution_count": 17,
   "id": "4902acd6-7e67-480e-9916-867f376d1dec",
   "metadata": {},
   "outputs": [
    {
     "data": {
      "text/plain": [
       "np.int64(12)"
      ]
     },
     "execution_count": 17,
     "metadata": {},
     "output_type": "execute_result"
    }
   ],
   "source": [
    "arr3[2][3]"
   ]
  },
  {
   "cell_type": "code",
   "execution_count": 19,
   "id": "6a3dae13-9a09-4b4f-8873-dddb6088e267",
   "metadata": {},
   "outputs": [
    {
     "data": {
      "text/plain": [
       "np.int64(12)"
      ]
     },
     "execution_count": 19,
     "metadata": {},
     "output_type": "execute_result"
    }
   ],
   "source": [
    "arr3[2,3]"
   ]
  },
  {
   "cell_type": "markdown",
   "id": "9b45dcc6-0f2c-4fd5-ae73-7776ad929703",
   "metadata": {},
   "source": [
    "**Q6: Write code to extract all odd-indexed elements from the given numpy array?  \n",
    "[[1, 2, 3, 4],  \n",
    "[5, 6, 7, 8],  \n",
    "[9, 10, 11, 12]]**"
   ]
  },
  {
   "cell_type": "code",
   "execution_count": 20,
   "id": "8336859b-8f5c-43dd-9eb6-c894172ad5d1",
   "metadata": {},
   "outputs": [],
   "source": [
    "arr4= np.array([[1, 2, 3, 4],\n",
    "       [5, 6, 7, 8],\n",
    "       [9, 10, 11, 12]])"
   ]
  },
  {
   "cell_type": "code",
   "execution_count": 21,
   "id": "70c49d56-3bf7-4a86-a2cc-c9237abc5e4b",
   "metadata": {},
   "outputs": [
    {
     "name": "stdout",
     "output_type": "stream",
     "text": [
      "[[6 8]]\n"
     ]
    }
   ],
   "source": [
    "odd_elements= arr4[1::2, 1::2]\n",
    "print(odd_elements)"
   ]
  },
  {
   "cell_type": "markdown",
   "id": "6ff43656-258c-4e9e-bb7e-c285e1983b06",
   "metadata": {},
   "source": [
    "**Q7: How can you generate a random 3x3 matrix with values between 0 and 1?**"
   ]
  },
  {
   "cell_type": "code",
   "execution_count": 24,
   "id": "ad83fa9f-1bb6-40b6-a9ae-e5b425d52768",
   "metadata": {},
   "outputs": [
    {
     "name": "stdout",
     "output_type": "stream",
     "text": [
      "[[0.24153034 0.25141832 0.56417429]\n",
      " [0.21469035 0.94673029 0.74918561]\n",
      " [0.45269958 0.22598333 0.14201082]]\n"
     ]
    }
   ],
   "source": [
    "arr5=np.random.rand(3,3)\n",
    "print(arr5)"
   ]
  },
  {
   "cell_type": "markdown",
   "id": "e2e8a551-85db-495b-b3fa-a12e598e9b20",
   "metadata": {},
   "source": [
    "**Q8: Describe the difference between np.random.rand and np.random.randn?**"
   ]
  },
  {
   "cell_type": "markdown",
   "id": "e8a975a3-c111-4cd2-8795-b57acd89c8ae",
   "metadata": {},
   "source": [
    "**np.random.rand()**: Generates random numbers from a uniform distribution between 0 and 1.  \n",
    "Range: All values are between 0 and 1.  \n",
    "**np.random.randn()**: Generates random numbers from a standard normal distribution (also called a Gaussian distribution) with:  \n",
    "Mean = 0  \n",
    "Standard deviation = 1    \n",
    "Range: Values can be positive or negative and are typically centered around 0 (with a majority falling within the range of [-3, 3])."
   ]
  },
  {
   "cell_type": "markdown",
   "id": "cc355464-039f-4432-8954-04172521827d",
   "metadata": {},
   "source": [
    "**Q9: Write code to increase the dimension of the following array?  \n",
    "[[1, 2, 3, 4],  \n",
    "[5, 6, 7, 8],  \n",
    "[9, 10, 11, 12]]**"
   ]
  },
  {
   "cell_type": "code",
   "execution_count": 27,
   "id": "87bc0b06-33f7-4890-9381-19e363a58af5",
   "metadata": {},
   "outputs": [
    {
     "name": "stdout",
     "output_type": "stream",
     "text": [
      "[[[ 1  2  3  4]\n",
      "  [ 5  6  7  8]\n",
      "  [ 9 10 11 12]]]\n"
     ]
    }
   ],
   "source": [
    "arr6=np.array([[1, 2, 3, 4],\n",
    "               [5, 6, 7, 8],\n",
    "               [9, 10, 11, 12]])\n",
    "arr7=np.expand_dims(arr6, axis=0)\n",
    "print(arr7)"
   ]
  },
  {
   "cell_type": "markdown",
   "id": "f27110b2-6892-4956-b228-d9f758c20f57",
   "metadata": {},
   "source": [
    "**Q10: How to transpose the following array in NumPy?  \n",
    "[[1, 2, 3, 4],  \n",
    "[5, 6, 7, 8],  \n",
    "[9, 10, 11, 12]]**"
   ]
  },
  {
   "cell_type": "code",
   "execution_count": 28,
   "id": "cb1e508a-6409-431d-91ae-e4fa5e8bb456",
   "metadata": {},
   "outputs": [],
   "source": [
    "arr8=np.array([[1, 2, 3, 4],\n",
    "               [5, 6, 7, 8],\n",
    "               [9, 10, 11, 12]])"
   ]
  },
  {
   "cell_type": "code",
   "execution_count": 29,
   "id": "a0a23516-f1ab-4917-8f28-6ed3993da7df",
   "metadata": {},
   "outputs": [
    {
     "data": {
      "text/plain": [
       "array([[ 1,  5,  9],\n",
       "       [ 2,  6, 10],\n",
       "       [ 3,  7, 11],\n",
       "       [ 4,  8, 12]])"
      ]
     },
     "execution_count": 29,
     "metadata": {},
     "output_type": "execute_result"
    }
   ],
   "source": [
    "arr8.T"
   ]
  },
  {
   "cell_type": "markdown",
   "id": "f87db5f1-43e8-4955-bfed-d43e7077be21",
   "metadata": {},
   "source": [
    "**Q11: Consider the following matrix:  \n",
    "Matrix A: [[1, 2, 3, 4] [5, 6, 7, 8],[9, 10, 11, 12]]  \n",
    "Matrix B: [[1, 2, 3, 4] [5, 6, 7, 8],[9, 10, 11, 12]]  \n",
    "Perform the following operation using Python:  \n",
    "1)Index wise multiplication   \n",
    "2)Matrix multiplication   \n",
    "3)Add both the matrics    \n",
    "4)Subtract matrix B from A    \n",
    "5)Divide Matrix B by A**"
   ]
  },
  {
   "cell_type": "code",
   "execution_count": 36,
   "id": "8d8f8f17-e6ea-4e93-8cc1-86b081356648",
   "metadata": {},
   "outputs": [],
   "source": [
    "A=np.array([[1, 2, 3, 4],[5, 6, 7, 8],[9, 10, 11, 12]])\n",
    "B=np.array([[1, 2, 3, 4],[5, 6, 7, 8],[9, 10, 11, 12]])"
   ]
  },
  {
   "cell_type": "code",
   "execution_count": 37,
   "id": "6fda4d51-0075-4ccf-bbe7-f3df3d96e1a9",
   "metadata": {},
   "outputs": [
    {
     "name": "stdout",
     "output_type": "stream",
     "text": [
      "[[  1   4   9  16]\n",
      " [ 25  36  49  64]\n",
      " [ 81 100 121 144]]\n"
     ]
    }
   ],
   "source": [
    "index_wise_mul=A*B\n",
    "print(index_wise_mul)"
   ]
  },
  {
   "cell_type": "code",
   "execution_count": 39,
   "id": "57f40f34-0e99-4297-953c-0f13334b1c5c",
   "metadata": {},
   "outputs": [
    {
     "name": "stdout",
     "output_type": "stream",
     "text": [
      "[[ 30  70 110]\n",
      " [ 70 174 278]\n",
      " [110 278 446]]\n"
     ]
    }
   ],
   "source": [
    "matrix_mul= A@B.T\n",
    "print(matrix_mul)"
   ]
  },
  {
   "cell_type": "code",
   "execution_count": 40,
   "id": "7c86c5a6-8176-4c02-84f0-47238119fa06",
   "metadata": {},
   "outputs": [
    {
     "name": "stdout",
     "output_type": "stream",
     "text": [
      "[[ 2  4  6  8]\n",
      " [10 12 14 16]\n",
      " [18 20 22 24]]\n"
     ]
    }
   ],
   "source": [
    "add=A+B\n",
    "print(add)"
   ]
  },
  {
   "cell_type": "code",
   "execution_count": 41,
   "id": "de428cdb-4be6-49f9-a249-7f86ed2c9d2a",
   "metadata": {},
   "outputs": [
    {
     "name": "stdout",
     "output_type": "stream",
     "text": [
      "[[0 0 0 0]\n",
      " [0 0 0 0]\n",
      " [0 0 0 0]]\n"
     ]
    }
   ],
   "source": [
    "sub=A-B\n",
    "print(sub)"
   ]
  },
  {
   "cell_type": "code",
   "execution_count": 42,
   "id": "56a8f407-17ee-40af-a004-813b10e900a8",
   "metadata": {},
   "outputs": [
    {
     "name": "stdout",
     "output_type": "stream",
     "text": [
      "[[1. 1. 1. 1.]\n",
      " [1. 1. 1. 1.]\n",
      " [1. 1. 1. 1.]]\n"
     ]
    }
   ],
   "source": [
    "div=B/A\n",
    "print(div)"
   ]
  },
  {
   "cell_type": "markdown",
   "id": "33bc52e9-767e-49e7-a870-c42e16105208",
   "metadata": {},
   "source": [
    "**Q12: Which function in Numpy can be used to swap the byte order of an array?**"
   ]
  },
  {
   "cell_type": "markdown",
   "id": "d36dd3b5-f0c7-4ade-b5f7-c203da868983",
   "metadata": {},
   "source": [
    "you can use the **byteswap()** function to swap the byte order of an array."
   ]
  },
  {
   "cell_type": "markdown",
   "id": "ff78d380-e4f4-4704-afcf-4175a1cff3f6",
   "metadata": {},
   "source": [
    "**Q13: What is the significance of the np.linalg.inv function?**"
   ]
  },
  {
   "cell_type": "markdown",
   "id": "1a21cf77-0be0-4b93-a7b2-016dc055d5c8",
   "metadata": {},
   "source": [
    "The np.linalg.inv function in NumPy is used to compute the inverse of a given square matrix. In linear algebra, the inverse of a matrix A is a matrix \n",
    "𝐴^-1 such that:  \n",
    "**A.A^-1= I**"
   ]
  },
  {
   "cell_type": "code",
   "execution_count": 46,
   "id": "f2122151-bf96-48b9-94df-91ab80ae9658",
   "metadata": {},
   "outputs": [
    {
     "name": "stdout",
     "output_type": "stream",
     "text": [
      "[[-2.   1. ]\n",
      " [ 1.5 -0.5]]\n",
      "[[1.0000000e+00 0.0000000e+00]\n",
      " [8.8817842e-16 1.0000000e+00]]\n"
     ]
    }
   ],
   "source": [
    "C=np.array([[1, 2], [3, 4]])\n",
    "C_inv=np.linalg.inv(C)\n",
    "print(C_inv)\n",
    "identity=np.dot(C, C_inv)\n",
    "print(identity)"
   ]
  },
  {
   "cell_type": "markdown",
   "id": "3b4d5c32-8433-48cc-98be-d92c77bb0a8c",
   "metadata": {},
   "source": [
    "**Q14: What does the np.reshape function do, and how is it used?**"
   ]
  },
  {
   "cell_type": "markdown",
   "id": "5050c4f3-6f08-4ba9-8f25-fe1be91d4767",
   "metadata": {},
   "source": [
    "The np.reshape function in NumPy is used to change the shape or dimensions of an existing array without changing its data. It rearranges the elements of the array into a new shape that you specify, as long as the total number of elements remains the same."
   ]
  },
  {
   "cell_type": "code",
   "execution_count": 47,
   "id": "597852e6-c8bc-4710-9c9d-913e650d0c03",
   "metadata": {},
   "outputs": [
    {
     "name": "stdout",
     "output_type": "stream",
     "text": [
      "Original Array:\n",
      "[1 2 3 4 5 6]\n",
      "Reshaped Array (2x3):\n",
      "[[1 2 3]\n",
      " [4 5 6]]\n"
     ]
    }
   ],
   "source": [
    "arr9 = np.array([1, 2, 3, 4, 5, 6])\n",
    "\n",
    "# Reshape it into a 2x3 matrix\n",
    "reshaped_arr = np.reshape(arr9, (2, 3))\n",
    "\n",
    "print(\"Original Array:\")\n",
    "print(arr9)\n",
    "\n",
    "print(\"Reshaped Array (2x3):\")\n",
    "print(reshaped_arr)"
   ]
  },
  {
   "cell_type": "markdown",
   "id": "ecd0a1f9-25a2-41b5-a3fa-ed565ead8f6e",
   "metadata": {},
   "source": [
    "**Q15: What is broadcasting in Numpy?**"
   ]
  },
  {
   "cell_type": "markdown",
   "id": "04019ea3-8a12-4cbb-b2b7-9ba943c586b8",
   "metadata": {},
   "source": [
    "Broadcasting in NumPy refers to the ability of NumPy to perform element-wise operations on arrays with different shapes, making it easier to perform operations without explicitly replicating data. Broadcasting automatically expands the dimensions of smaller arrays so that they match the shape of larger arrays during operations like addition, multiplication, etc."
   ]
  },
  {
   "cell_type": "code",
   "execution_count": null,
   "id": "b6e91bdd-29a5-45fa-acba-d9b24fcce656",
   "metadata": {},
   "outputs": [],
   "source": []
  }
 ],
 "metadata": {
  "kernelspec": {
   "display_name": "Python 3 (ipykernel)",
   "language": "python",
   "name": "python3"
  },
  "language_info": {
   "codemirror_mode": {
    "name": "ipython",
    "version": 3
   },
   "file_extension": ".py",
   "mimetype": "text/x-python",
   "name": "python",
   "nbconvert_exporter": "python",
   "pygments_lexer": "ipython3",
   "version": "3.12.4"
  }
 },
 "nbformat": 4,
 "nbformat_minor": 5
}
