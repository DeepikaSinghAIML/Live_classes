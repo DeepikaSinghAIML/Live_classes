{
 "cells": [
  {
   "cell_type": "markdown",
   "id": "dad7827a-1456-486d-b4d7-9be362f1e152",
   "metadata": {},
   "source": [
    "**Q1: Given an array, check if it contains any duplicates or not.**"
   ]
  },
  {
   "cell_type": "code",
   "execution_count": 3,
   "id": "5627975b-a1dd-41f9-b0aa-3ab6bd5689a8",
   "metadata": {},
   "outputs": [
    {
     "name": "stdout",
     "output_type": "stream",
     "text": [
      "True\n"
     ]
    }
   ],
   "source": [
    "arr=[1, 2, 4,2, 5, 9]\n",
    "def duplicates(arr):\n",
    "    seen=set()\n",
    "    for i in arr:\n",
    "        if i in seen:\n",
    "            return True\n",
    "        seen.add(i)\n",
    "    return False\n",
    "print(duplicates(arr))"
   ]
  },
  {
   "cell_type": "markdown",
   "id": "fb0c3e59-199d-42e5-a8c9-c8bb9032a67b",
   "metadata": {},
   "source": [
    "**Q2: Given an array and an integer k, rotate the array to the right by k steps.**"
   ]
  },
  {
   "cell_type": "code",
   "execution_count": 5,
   "id": "aba99306-4a1c-48ce-aea4-5789b1b50cd7",
   "metadata": {},
   "outputs": [
    {
     "name": "stdin",
     "output_type": "stream",
     "text": [
      "enter the steps 3\n"
     ]
    },
    {
     "name": "stdout",
     "output_type": "stream",
     "text": [
      "[5, 6, 7, 1, 2, 3, 4]\n"
     ]
    }
   ],
   "source": [
    "arr2=[1, 2, 3, 4, 5, 6, 7]\n",
    "k=int(input(\"enter the steps\"))\n",
    "def rotate_array(arr2,k):\n",
    "    if not arr2:\n",
    "        return []\n",
    "    n=len(arr2)\n",
    "    k=k%n\n",
    "    return arr2[-k:]+arr2[:-k]\n",
    "rotated_array=rotate_array(arr2,k)\n",
    "print(rotated_array)\n"
   ]
  },
  {
   "cell_type": "markdown",
   "id": "69122286-aa66-4f0c-a531-4d44b186e3bb",
   "metadata": {},
   "source": [
    "**Q3: Reverse the given array in-place, means without using any extra data structure.**"
   ]
  },
  {
   "cell_type": "code",
   "execution_count": 7,
   "id": "43dcce6a-5675-4f02-947a-6b2a53c7833e",
   "metadata": {},
   "outputs": [
    {
     "name": "stdout",
     "output_type": "stream",
     "text": [
      "reversed array [12, 9, 7, 5, 4, 2]\n"
     ]
    }
   ],
   "source": [
    "arr3=[2, 4, 5, 7, 9, 12]\n",
    "def reverse_array(arr3):\n",
    "    left=0\n",
    "    right=len(arr3)-1\n",
    "    while(left<right):\n",
    "        arr3[left],arr3[right]=arr3[right],arr3[left]\n",
    "        left+=1\n",
    "        right-=1\n",
    "reverse_array(arr3)\n",
    "print(\"reversed array\", arr3)\n",
    "    "
   ]
  },
  {
   "cell_type": "markdown",
   "id": "7d4d53f8-fb5f-406d-9cea-030e6d32ec29",
   "metadata": {},
   "source": [
    "**Q4: Given an array of integers, find the maximum element in an array**"
   ]
  },
  {
   "cell_type": "code",
   "execution_count": 8,
   "id": "406875f8-bdaa-4ee6-bba0-3f2d329267a9",
   "metadata": {},
   "outputs": [
    {
     "name": "stdout",
     "output_type": "stream",
     "text": [
      "20\n"
     ]
    }
   ],
   "source": [
    "arr4 = [10, 5, 20, 8, 15]\n",
    "def max_ele(arr4):\n",
    "    if not arr4:\n",
    "        return None\n",
    "    max_num=arr4[0]\n",
    "    for i in arr4[1:]:\n",
    "        if i > max_num:\n",
    "            max_num=i\n",
    "    return max_num\n",
    "\n",
    "max_num=max_ele(arr4)\n",
    "print(max_num)"
   ]
  },
  {
   "cell_type": "markdown",
   "id": "f2c641a2-e859-4a9d-897c-effe99738502",
   "metadata": {},
   "source": [
    "**Q5: Given a sorted array, remove the duplicate element without using any extra data structure.**"
   ]
  },
  {
   "cell_type": "code",
   "execution_count": 9,
   "id": "5f7c76a2-3ae7-4714-a6d1-5d27eb6f0271",
   "metadata": {},
   "outputs": [
    {
     "name": "stdout",
     "output_type": "stream",
     "text": [
      "[1, 2, 3, 4, 5]\n"
     ]
    }
   ],
   "source": [
    "def remove_duplicates(arr5):\n",
    "    if not arr5:\n",
    "        return 0\n",
    "    unique_idx=0\n",
    "    for i in range(1, len(arr5)):\n",
    "        if arr5[i]!=arr5[unique_idx]:\n",
    "            unique_idx+=1\n",
    "            arr5[unique_idx]=arr5[i]\n",
    "    return unique_idx+1\n",
    "\n",
    "arr5=[1, 1, 2, 2, 2, 3, 3, 4, 4, 4, 5, 5]\n",
    "length=remove_duplicates(arr5)\n",
    "print(arr5[:length])"
   ]
  },
  {
   "cell_type": "code",
   "execution_count": null,
   "id": "407830fa-93d4-45a2-b914-c7ee8ed61af8",
   "metadata": {},
   "outputs": [],
   "source": []
  }
 ],
 "metadata": {
  "kernelspec": {
   "display_name": "Python 3 (ipykernel)",
   "language": "python",
   "name": "python3"
  },
  "language_info": {
   "codemirror_mode": {
    "name": "ipython",
    "version": 3
   },
   "file_extension": ".py",
   "mimetype": "text/x-python",
   "name": "python",
   "nbconvert_exporter": "python",
   "pygments_lexer": "ipython3",
   "version": "3.10.13"
  }
 },
 "nbformat": 4,
 "nbformat_minor": 5
}
