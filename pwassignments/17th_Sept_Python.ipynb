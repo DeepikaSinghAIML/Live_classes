{
 "cells": [
  {
   "cell_type": "markdown",
   "id": "bbf91649-c847-49a4-849d-65c6eb0f61da",
   "metadata": {},
   "source": [
    "# For Loop"
   ]
  },
  {
   "cell_type": "markdown",
   "id": "8492eb59-6db2-48c6-a212-95c4d5052124",
   "metadata": {},
   "source": [
    "**Q1: Write a Python program to print numbers from 1 to 10 using a for loop.**"
   ]
  },
  {
   "cell_type": "code",
   "execution_count": 1,
   "id": "147eeffc-57e0-445d-8cc1-6b75f7d11ca0",
   "metadata": {},
   "outputs": [
    {
     "name": "stdout",
     "output_type": "stream",
     "text": [
      "1\n",
      "2\n",
      "3\n",
      "4\n",
      "5\n",
      "6\n",
      "7\n",
      "8\n",
      "9\n",
      "10\n"
     ]
    }
   ],
   "source": [
    "for i in range(1,11):\n",
    "    print(i)"
   ]
  },
  {
   "cell_type": "markdown",
   "id": "56740b5c-817d-4a44-a1b7-f01488f9b7b7",
   "metadata": {},
   "source": [
    "**Q2: Explain the difference between a for loop and a while loop in Python.**\n"
   ]
  },
  {
   "cell_type": "markdown",
   "id": "5729e91c-49b1-4532-b9ce-71d826839a50",
   "metadata": {},
   "source": [
    "**For loop** is used when you want to iterate over a sequence of elements (like a list, tuple, string, or range) and you know in advance the number of iterations.\n",
    "**While loop** is used when you want to repeat a block of code as long as a condition is true. The number of iterations are not necessarily known before hand."
   ]
  },
  {
   "cell_type": "code",
   "execution_count": 2,
   "id": "16daea58-6149-4469-9371-aba4d8935421",
   "metadata": {},
   "outputs": [
    {
     "name": "stdout",
     "output_type": "stream",
     "text": [
      "0\n",
      "1\n",
      "2\n",
      "3\n",
      "4\n"
     ]
    }
   ],
   "source": [
    "for i in range(5):\n",
    "    print(i)"
   ]
  },
  {
   "cell_type": "code",
   "execution_count": 3,
   "id": "b917cc60-3025-4b08-95a4-a03b04995b95",
   "metadata": {},
   "outputs": [
    {
     "name": "stdout",
     "output_type": "stream",
     "text": [
      "0\n",
      "1\n",
      "2\n",
      "3\n",
      "4\n"
     ]
    }
   ],
   "source": [
    "count=0\n",
    "while count<5:\n",
    "    print(count)\n",
    "    count+=1"
   ]
  },
  {
   "cell_type": "markdown",
   "id": "3f2e71df-d9d8-412c-9973-b05081bcf56e",
   "metadata": {},
   "source": [
    "**Q3: Write a Python program to calculate the sum of all numbers from 1 to 100 using a for loop.**\n"
   ]
  },
  {
   "cell_type": "code",
   "execution_count": 5,
   "id": "da048c74-4e41-4a58-8526-9fde2a0069bd",
   "metadata": {},
   "outputs": [
    {
     "name": "stdout",
     "output_type": "stream",
     "text": [
      "5050\n"
     ]
    }
   ],
   "source": [
    "sum_of_numbers=0\n",
    "for i in range(1, 101):\n",
    "    sum_of_numbers+=i\n",
    "print(sum_of_numbers)"
   ]
  },
  {
   "cell_type": "markdown",
   "id": "74a0519f-46b3-4551-b875-81630fbe618e",
   "metadata": {},
   "source": [
    "**Q4: How do you iterate through a list using a for loop in Python?**\n"
   ]
  },
  {
   "cell_type": "code",
   "execution_count": 6,
   "id": "e5c0e774-98e2-45f7-9cab-f822311e3a6e",
   "metadata": {},
   "outputs": [
    {
     "name": "stdout",
     "output_type": "stream",
     "text": [
      "1\n",
      "2\n",
      "3\n",
      "4\n",
      "5\n"
     ]
    }
   ],
   "source": [
    "my_list=[1,2,3,4,5]\n",
    "for i in my_list:\n",
    "    print(i)"
   ]
  },
  {
   "cell_type": "markdown",
   "id": "9def3b47-414e-48d3-abc9-2132d79c9fbe",
   "metadata": {},
   "source": [
    "**Q5: Write a Python program to find the product of all elements in a list using a for loop.**\n"
   ]
  },
  {
   "cell_type": "code",
   "execution_count": 1,
   "id": "72e6b952-c6d8-459a-a726-c2e8b0793659",
   "metadata": {},
   "outputs": [
    {
     "name": "stdout",
     "output_type": "stream",
     "text": [
      "210\n"
     ]
    }
   ],
   "source": [
    "l=[1,2,3,5,7]\n",
    "p=1\n",
    "for i in l:\n",
    "    p=p*i\n",
    "\n",
    "print(p)\n",
    "    "
   ]
  },
  {
   "cell_type": "markdown",
   "id": "2ea94251-d1e4-4cc8-aa2f-5ea1cec0f269",
   "metadata": {},
   "source": [
    "**Q6: Create a Python program that prints all even numbers from 1 to 20 using a for loop.**"
   ]
  },
  {
   "cell_type": "code",
   "execution_count": 2,
   "id": "3a9e242c-747c-4d83-9d0f-d0d7db22ccee",
   "metadata": {},
   "outputs": [
    {
     "name": "stdout",
     "output_type": "stream",
     "text": [
      "2\n",
      "4\n",
      "6\n",
      "8\n",
      "10\n",
      "12\n",
      "14\n",
      "16\n",
      "18\n",
      "20\n"
     ]
    }
   ],
   "source": [
    "for i in range(1,21):\n",
    "    if i%2==0:\n",
    "        print(i)"
   ]
  },
  {
   "cell_type": "markdown",
   "id": "a897bc8b-0cf5-4e80-a3e4-46cc1dd22088",
   "metadata": {},
   "source": [
    "**Q7: Write a Python program that calculates the factorial of a number using a for loop.**\n"
   ]
  },
  {
   "cell_type": "code",
   "execution_count": 5,
   "id": "c3daef18-b1d9-4a85-a50e-a84dce3d34d0",
   "metadata": {},
   "outputs": [
    {
     "name": "stdin",
     "output_type": "stream",
     "text": [
      "enter the number for factorial 5\n"
     ]
    },
    {
     "name": "stdout",
     "output_type": "stream",
     "text": [
      "120\n"
     ]
    }
   ],
   "source": [
    "f=1\n",
    "n=int(input(\"enter the number for factorial\"))\n",
    "for i in range(1,n+1):\n",
    "    f=f*i\n",
    "print(f)"
   ]
  },
  {
   "cell_type": "markdown",
   "id": "83775241-f0ac-4e4c-8ebb-1f9530721758",
   "metadata": {},
   "source": [
    "**Q8: How can you iterate through the characters of a string using a for loop in Python?**\n"
   ]
  },
  {
   "cell_type": "code",
   "execution_count": 6,
   "id": "0ed8a0aa-a488-4ec4-9724-91e70a0143fa",
   "metadata": {},
   "outputs": [
    {
     "name": "stdout",
     "output_type": "stream",
     "text": [
      "p\n",
      "y\n",
      "t\n",
      "h\n",
      "o\n",
      "n\n"
     ]
    }
   ],
   "source": [
    "str1='python'\n",
    "for i in str1:\n",
    "    print(i)"
   ]
  },
  {
   "cell_type": "markdown",
   "id": "6ceb2af1-8b27-42ff-9fcd-3f83874ebf3f",
   "metadata": {},
   "source": [
    "**Q9: Write a Python program to find the largest number in a list using a for loop.**\n"
   ]
  },
  {
   "cell_type": "code",
   "execution_count": 7,
   "id": "384a8995-c438-4239-8871-ee1c707d6c89",
   "metadata": {},
   "outputs": [
    {
     "name": "stdout",
     "output_type": "stream",
     "text": [
      "9\n"
     ]
    }
   ],
   "source": [
    "l2=[3,6,1,9,5,7]\n",
    "for i in l2:\n",
    "    max_element=max(l2)\n",
    "\n",
    "print(max_element)"
   ]
  },
  {
   "cell_type": "markdown",
   "id": "1d98cb54-93d4-4922-972e-2b9cd6004b02",
   "metadata": {},
   "source": [
    "**Q10: Create a Python program that prints the Fibonacci sequence up to a specified limit using a for loop.**"
   ]
  },
  {
   "cell_type": "code",
   "execution_count": 16,
   "id": "ae9347f1-9097-478b-87b3-80ba639768ff",
   "metadata": {},
   "outputs": [
    {
     "name": "stdin",
     "output_type": "stream",
     "text": [
      "enter the limit for the sequence 10\n"
     ]
    },
    {
     "name": "stdout",
     "output_type": "stream",
     "text": [
      "0\n",
      "1\n",
      "1\n",
      "2\n",
      "3\n",
      "5\n",
      "8\n"
     ]
    }
   ],
   "source": [
    "n2=int(input(\"enter the limit for the sequence\"))\n",
    "f=0\n",
    "s=1\n",
    "print(f)\n",
    "for i in range(n2):\n",
    "    if s>limit:\n",
    "        break\n",
    "    print(s)\n",
    "    t=f+s\n",
    "    f=s\n",
    "    s=t\n",
    "    "
   ]
  },
  {
   "cell_type": "markdown",
   "id": "8ebb79cb-390e-4d82-85a2-1808e257ad83",
   "metadata": {},
   "source": [
    "**Q11: Write a Python program to count the number of vowels in a given string using a for loop.**\n"
   ]
  },
  {
   "cell_type": "code",
   "execution_count": 22,
   "id": "f10287df-94c7-45ba-84c6-8f4099807eef",
   "metadata": {},
   "outputs": [
    {
     "name": "stdout",
     "output_type": "stream",
     "text": [
      "4\n"
     ]
    }
   ],
   "source": [
    "str2='deepika'\n",
    "vowels='aeiouAEIOU'\n",
    "c=0\n",
    "for i in str2:\n",
    "    if i in vowels:\n",
    "        c=c+1\n",
    "\n",
    "print(c)"
   ]
  },
  {
   "cell_type": "markdown",
   "id": "0647fcb4-a543-4f97-87a8-a730854d3bc4",
   "metadata": {},
   "source": [
    "**Q12: Create a Python program that generates a multiplication table for a given number using a for loop.**\n"
   ]
  },
  {
   "cell_type": "code",
   "execution_count": 27,
   "id": "351297aa-46b5-45dc-91ee-b1b486d584c0",
   "metadata": {},
   "outputs": [
    {
     "name": "stdin",
     "output_type": "stream",
     "text": [
      "Enter number for table 2\n"
     ]
    },
    {
     "name": "stdout",
     "output_type": "stream",
     "text": [
      "2 * 1 = 2\n",
      "2 * 2 = 4\n",
      "2 * 3 = 6\n",
      "2 * 4 = 8\n",
      "2 * 5 = 10\n",
      "2 * 6 = 12\n",
      "2 * 7 = 14\n",
      "2 * 8 = 16\n",
      "2 * 9 = 18\n",
      "2 * 10 = 20\n"
     ]
    }
   ],
   "source": [
    "n3=int(input(\"Enter number for table\"))\n",
    "for i in range(1,11):\n",
    "    p=n3*i\n",
    "    print(n3, \"*\" , i , \"=\" , p)\n",
    "    "
   ]
  },
  {
   "cell_type": "markdown",
   "id": "0e1ecf2e-0fce-4ca8-b42f-bf253357b0bb",
   "metadata": {},
   "source": [
    "**Q13: Write a Python program to reverse a list using a for loop.**"
   ]
  },
  {
   "cell_type": "code",
   "execution_count": 28,
   "id": "2f82646f-b31f-4db9-b5b0-f731a9badebd",
   "metadata": {},
   "outputs": [
    {
     "name": "stdout",
     "output_type": "stream",
     "text": [
      "[5, 4, 3, 2, 1]\n"
     ]
    }
   ],
   "source": [
    "def reversed_list(original_list):\n",
    "    reverse=[]\n",
    "    for i in range(len(original_list)-1,-1,-1):\n",
    "        reverse.append(original_list[i])\n",
    "    return reverse\n",
    "\n",
    "original_list=[1,2,3,4,5]\n",
    "print(reversed_list(original_list))"
   ]
  },
  {
   "cell_type": "markdown",
   "id": "79248cad-f8e9-4deb-8a6d-b325306ab198",
   "metadata": {},
   "source": [
    "**Q14: Write a Python program to find the common elements between two lists using a for loop.**\n"
   ]
  },
  {
   "cell_type": "code",
   "execution_count": 31,
   "id": "56210bd1-e589-4a0a-bc48-3088f1b5e639",
   "metadata": {},
   "outputs": [
    {
     "name": "stdout",
     "output_type": "stream",
     "text": [
      "[8, 7]\n"
     ]
    }
   ],
   "source": [
    "# l4=[2,4,6,4,7,8]\n",
    "# l5=[5,9,33,8,1,7]\n",
    "# set_l4=set(l4)\n",
    "# set_l5=set(l5)\n",
    "# common=set_l4.intersection(set_l5)\n",
    "# print(list(common))"
   ]
  },
  {
   "cell_type": "code",
   "execution_count": 32,
   "id": "286837b9-6e56-4948-88c2-eb8291115ead",
   "metadata": {},
   "outputs": [
    {
     "name": "stdout",
     "output_type": "stream",
     "text": [
      "[7, 8]\n"
     ]
    }
   ],
   "source": [
    "l4=[2,4,6,4,7,8]\n",
    "l5=[5,9,33,8,1,7]\n",
    "common=[]\n",
    "for i in l4:\n",
    "    if i in l5:\n",
    "        common.append(i)\n",
    "\n",
    "print(common)\n",
    "        "
   ]
  },
  {
   "cell_type": "markdown",
   "id": "05a045fb-c3a1-4527-a41a-fbb5227c94c4",
   "metadata": {},
   "source": [
    "**Q15: Explain how to use a for loop to iterate through the keys and values of a dictionary in Python.**\n"
   ]
  },
  {
   "cell_type": "code",
   "execution_count": 1,
   "id": "7a581dbc-3666-4557-8b4c-fb682dfa1321",
   "metadata": {},
   "outputs": [
    {
     "name": "stdout",
     "output_type": "stream",
     "text": [
      "key:name , value:deepika\n",
      "key:age , value:22\n",
      "key:city , value:jhansi\n"
     ]
    }
   ],
   "source": [
    "my_dict={\n",
    "    'name':'deepika',\n",
    "    'age':22,\n",
    "    'city':'jhansi'\n",
    "}\n",
    "\n",
    "for key, value in my_dict.items():\n",
    "    print(f\"key:{key} , value:{value}\")\n"
   ]
  },
  {
   "cell_type": "markdown",
   "id": "f7024b70-5655-4aee-9df3-14ac8aee5029",
   "metadata": {},
   "source": [
    "**Q16: Write a Python program to find the GCD (Greatest Common Divisor) of two numbers using a for loop.**"
   ]
  },
  {
   "cell_type": "code",
   "execution_count": 4,
   "id": "470b199a-581a-4da8-a797-200a3a6f395d",
   "metadata": {},
   "outputs": [
    {
     "name": "stdin",
     "output_type": "stream",
     "text": [
      "Enter the first number 12\n",
      "Enter the second number 18\n"
     ]
    },
    {
     "name": "stdout",
     "output_type": "stream",
     "text": [
      "the gcd of 12 and 18 is 6\n"
     ]
    }
   ],
   "source": [
    "def gcdiv(a,b):\n",
    "    gcd=1\n",
    "    for i in range(1, min(a,b)+1):\n",
    "        if a%i==0 and b%i==0:\n",
    "            gcd=i\n",
    "    return gcd\n",
    "\n",
    "num1=int(input(\"Enter the first number\"))\n",
    "num2=int(input(\"Enter the second number\"))\n",
    "gcd=gcdiv(num1,num2)\n",
    "print(f\"the gcd of {num1} and {num2} is {gcd}\")"
   ]
  },
  {
   "cell_type": "markdown",
   "id": "ac3b38ff-c36f-452f-adcc-277fc21852a5",
   "metadata": {},
   "source": [
    "**Q17: Create a Python program that checks if a string is a palindrome using a for loop.**\n"
   ]
  },
  {
   "cell_type": "code",
   "execution_count": 5,
   "id": "f5c5ae28-647b-4542-bec9-5652c49cb7a3",
   "metadata": {},
   "outputs": [
    {
     "name": "stdin",
     "output_type": "stream",
     "text": [
      "Enter a string:  madam\n"
     ]
    },
    {
     "name": "stdout",
     "output_type": "stream",
     "text": [
      "\"madam\" is a palindrome.\n"
     ]
    }
   ],
   "source": [
    "def is_palindrome(s):\n",
    "    # Remove any spaces and convert the string to lowercase for uniformity\n",
    "    s = s.replace(\" \", \"\").lower()\n",
    "    \n",
    "    # Initialize a flag to True\n",
    "    is_palindrome = True\n",
    "\n",
    "    # Loop through half of the string\n",
    "    for i in range(len(s) // 2):\n",
    "        # Compare the characters from the beginning and the end\n",
    "        if s[i] != s[-(i + 1)]:\n",
    "            is_palindrome = False\n",
    "            break\n",
    "\n",
    "    return is_palindrome\n",
    "\n",
    "# Example usage\n",
    "input_string = input(\"Enter a string: \")\n",
    "if is_palindrome(input_string):\n",
    "    print(f'\"{input_string}\" is a palindrome.')\n",
    "else:\n",
    "    print(f'\"{input_string}\" is not a palindrome.')\n"
   ]
  },
  {
   "cell_type": "markdown",
   "id": "be109a33-c413-487e-b11d-f3e41c291a9c",
   "metadata": {},
   "source": [
    "**Q18: Write a Python program to remove duplicates from a list using a for loop.**\n"
   ]
  },
  {
   "cell_type": "code",
   "execution_count": 6,
   "id": "c6bb324f-797f-4bd2-a67a-9e91eedab088",
   "metadata": {},
   "outputs": [
    {
     "name": "stdout",
     "output_type": "stream",
     "text": [
      "[3, 1, 2, 4, 5, 6]\n"
     ]
    }
   ],
   "source": [
    "l6=[3,1,2,4,5,3,4,5,6,1]\n",
    "l7=[]\n",
    "for i in l6:\n",
    "    if i not in l7:\n",
    "        l7.append(i)\n",
    "\n",
    "print(l7)\n",
    "    "
   ]
  },
  {
   "cell_type": "markdown",
   "id": "805a9da1-c002-4571-8419-bd77fa18567d",
   "metadata": {},
   "source": [
    "**Q19: Create a Python program that counts the number of words in a sentence using a for loop.**\n"
   ]
  },
  {
   "cell_type": "code",
   "execution_count": 7,
   "id": "9ed68625-aa23-4ed7-90e5-b29f05d51836",
   "metadata": {},
   "outputs": [
    {
     "name": "stdout",
     "output_type": "stream",
     "text": [
      "5\n"
     ]
    }
   ],
   "source": [
    "def count_words(sentence):\n",
    "    word_count=0\n",
    "    words=sentence.split()\n",
    "    for word in words:\n",
    "        word_count+=1\n",
    "\n",
    "    return word_count\n",
    "\n",
    "sentence=\"Hello! I am Deepika Singh.\"\n",
    "word_count=count_words(sentence)\n",
    "print(word_count)"
   ]
  },
  {
   "cell_type": "markdown",
   "id": "20b48f1b-3211-452a-bc70-3a5b1694a7c3",
   "metadata": {},
   "source": [
    "**Q20: Write a Python program to find the sum of all odd numbers from 1 to 50 using a for loop.**\n"
   ]
  },
  {
   "cell_type": "code",
   "execution_count": 9,
   "id": "86798b18-2f35-4ca2-9f2e-d888e9ebe083",
   "metadata": {},
   "outputs": [
    {
     "name": "stdout",
     "output_type": "stream",
     "text": [
      "625\n"
     ]
    }
   ],
   "source": [
    "sum=0\n",
    "for i in range(1,51):\n",
    "    if i%2!=0:\n",
    "        sum=sum+i\n",
    "\n",
    "print(sum)\n",
    "        "
   ]
  },
  {
   "cell_type": "markdown",
   "id": "a123b9da-d5d8-407f-9757-679f8037b61e",
   "metadata": {},
   "source": [
    "**Q21: Write a Python program that checks if a given year is a leap year using a for loop.**\n"
   ]
  },
  {
   "cell_type": "code",
   "execution_count": 10,
   "id": "0fdcb6b5-e3ab-40a1-a780-8dab15540975",
   "metadata": {},
   "outputs": [
    {
     "name": "stdin",
     "output_type": "stream",
     "text": [
      "Enter a year 2020\n"
     ]
    },
    {
     "name": "stdout",
     "output_type": "stream",
     "text": [
      "leap year\n"
     ]
    }
   ],
   "source": [
    "y=int(input(\"Enter a year\"))\n",
    "if (y%4==0 and y%100!=0) or y%400==0:\n",
    "    print(\"leap year\")\n",
    "else:\n",
    "    print(\"not a leap year\")"
   ]
  },
  {
   "cell_type": "markdown",
   "id": "2d046ade-75ba-44de-8e05-e90bb69cabd4",
   "metadata": {},
   "source": [
    "**Q22: Create a Python program that calculates the square root of a number using a for loop.**\n"
   ]
  },
  {
   "cell_type": "code",
   "execution_count": 11,
   "id": "deb156c3-2956-4606-bc62-4721f2a52cc9",
   "metadata": {},
   "outputs": [
    {
     "name": "stdin",
     "output_type": "stream",
     "text": [
      "Enter a number to find its square root:  25\n"
     ]
    },
    {
     "name": "stdout",
     "output_type": "stream",
     "text": [
      "The square root of 25.0 is approximately 5.000000.\n"
     ]
    }
   ],
   "source": [
    "def calculate_square_root(number, iterations=10):\n",
    "    # Initial guess\n",
    "    guess = number / 2.0\n",
    "    \n",
    "    # Iteratively improve the guess\n",
    "    for _ in range(iterations):\n",
    "        guess = (guess + number / guess) / 2.0\n",
    "        \n",
    "    return guess\n",
    "\n",
    "# Example usage\n",
    "number = float(input(\"Enter a number to find its square root: \"))\n",
    "sqrt = calculate_square_root(number)\n",
    "print(f\"The square root of {number} is approximately {sqrt:.6f}.\")\n"
   ]
  },
  {
   "cell_type": "markdown",
   "id": "cd3f996e-5ba1-4e4c-8ec0-6c1ece50a535",
   "metadata": {},
   "source": [
    "**Q23: Write a Python program to find the LCM (Least Common Multiple) of two numbers using a for loop.**\n"
   ]
  },
  {
   "cell_type": "code",
   "execution_count": 12,
   "id": "f546158b-a588-4314-9774-b4bf83b0f248",
   "metadata": {},
   "outputs": [
    {
     "name": "stdin",
     "output_type": "stream",
     "text": [
      "Enter the first number:  54\n",
      "Enter the second number:  24\n"
     ]
    },
    {
     "name": "stdout",
     "output_type": "stream",
     "text": [
      "The LCM of 54 and 24 is 216.\n"
     ]
    }
   ],
   "source": [
    "def find_lcm(a, b):\n",
    "    \"\"\" Function to find the LCM of two numbers using a for loop \"\"\"\n",
    "    lcm = max(a, b)  # Start checking from the larger of the two numbers\n",
    "\n",
    "    # Loop to find the LCM\n",
    "    while True:\n",
    "        if lcm % a == 0 and lcm % b == 0:\n",
    "            return lcm\n",
    "        lcm += max(a, b)\n",
    "\n",
    "# Example usage\n",
    "num1 = int(input(\"Enter the first number: \"))\n",
    "num2 = int(input(\"Enter the second number: \"))\n",
    "\n",
    "lcm = find_lcm(num1, num2)\n",
    "print(f\"The LCM of {num1} and {num2} is {lcm}.\")\n"
   ]
  },
  {
   "cell_type": "markdown",
   "id": "7fcca8d3-0297-418d-b6b0-48ef4245ccb4",
   "metadata": {},
   "source": [
    "# If Else"
   ]
  },
  {
   "cell_type": "markdown",
   "id": "b3a60199-45da-4dfe-8002-920df88651fe",
   "metadata": {},
   "source": [
    "**Q1: Write a Python program to check if a number is positive, negative, or zero using an if-else statement.**"
   ]
  },
  {
   "cell_type": "code",
   "execution_count": 7,
   "id": "03aa4522-5fdc-4287-a1c1-e09be10a0799",
   "metadata": {},
   "outputs": [
    {
     "name": "stdin",
     "output_type": "stream",
     "text": [
      "Enter a number 6\n"
     ]
    },
    {
     "name": "stdout",
     "output_type": "stream",
     "text": [
      "positive\n"
     ]
    }
   ],
   "source": [
    "try:\n",
    "    n4=float(input(\"Enter a number\"))\n",
    "    if n4<0:\n",
    "        print(\"negative\")\n",
    "    elif n4>0:\n",
    "        print(\"positive\")\n",
    "    else:\n",
    "        print(\"zero\")\n",
    "except ValueError:\n",
    "    print(\"Invalid input! Please enter valid input\")\n",
    "    "
   ]
  },
  {
   "cell_type": "markdown",
   "id": "41aed9ce-944b-4e67-aea5-695b8351c40b",
   "metadata": {},
   "source": [
    "**Q2: Create a Python program that checks if a given number is even or odd using an if-else statement.**\n"
   ]
  },
  {
   "cell_type": "code",
   "execution_count": 8,
   "id": "4c2128c3-3f05-45cf-8942-5aa5baa61f4b",
   "metadata": {},
   "outputs": [
    {
     "name": "stdin",
     "output_type": "stream",
     "text": [
      "Enter a number 6\n"
     ]
    },
    {
     "name": "stdout",
     "output_type": "stream",
     "text": [
      "even\n"
     ]
    }
   ],
   "source": [
    "n5=int(input(\"Enter a number\"))\n",
    "if n5%2==0:\n",
    "    print(\"even\")\n",
    "else:\n",
    "    print(\"odd\")"
   ]
  },
  {
   "cell_type": "markdown",
   "id": "af3af49c-3350-42e0-8bbd-27cc2805352d",
   "metadata": {},
   "source": [
    "**Q3: How can you use nested if-else statements in Python, and provide an example?**"
   ]
  },
  {
   "cell_type": "raw",
   "id": "a86882b9-8b56-491f-8466-0fbbde30c447",
   "metadata": {},
   "source": [
    "Nested if-else statements in Python allow you to create multiple layers of decision-making. This means that within one if or else block, you can have another if-else statement. This is useful when you have multiple conditions to check that are dependent on each other."
   ]
  },
  {
   "cell_type": "code",
   "execution_count": 9,
   "id": "9e46bb3e-f884-49c6-bac6-9838e43400d0",
   "metadata": {},
   "outputs": [
    {
     "name": "stdin",
     "output_type": "stream",
     "text": [
      "Enter a number:  8\n"
     ]
    },
    {
     "name": "stdout",
     "output_type": "stream",
     "text": [
      "The number 8 is positive and even.\n"
     ]
    }
   ],
   "source": [
    "# Get user input\n",
    "number = int(input(\"Enter a number: \"))\n",
    "\n",
    "# First layer: Check if the number is positive, negative, or zero\n",
    "if number > 0:\n",
    "    # Second layer: Check if the positive number is even or odd\n",
    "    if number % 2 == 0:\n",
    "        print(f\"The number {number} is positive and even.\")\n",
    "    else:\n",
    "        print(f\"The number {number} is positive and odd.\")\n",
    "elif number < 0:\n",
    "    print(f\"The number {number} is negative.\")\n",
    "else:\n",
    "    print(\"The number is zero.\")\n"
   ]
  },
  {
   "cell_type": "markdown",
   "id": "2ca358c9-2540-41d5-9c9b-45376ba28483",
   "metadata": {},
   "source": [
    "**Q4: Write a Python program to determine the largest of three numbers using if-else.**\n"
   ]
  },
  {
   "cell_type": "code",
   "execution_count": 11,
   "id": "f8b063d9-f70d-47f1-aac0-90dc63efa992",
   "metadata": {},
   "outputs": [
    {
     "name": "stdin",
     "output_type": "stream",
     "text": [
      "Enter the first number 78\n",
      "Enter the second number 45\n",
      "Enter the third number 34\n"
     ]
    },
    {
     "name": "stdout",
     "output_type": "stream",
     "text": [
      "78.0 is the largest\n"
     ]
    }
   ],
   "source": [
    "n6=float(input(\"Enter the first number\"))\n",
    "n7=float(input(\"Enter the second number\"))\n",
    "n8=float(input(\"Enter the third number\"))\n",
    "if n6>n7 and n6>n8:\n",
    "    print(f\"{n6} is the largest\")\n",
    "elif n7>n6 and n7>n8:\n",
    "    print(f\"{n7} is the largest\")\n",
    "else:\n",
    "    print(f\"{n8} is the largest\")"
   ]
  },
  {
   "cell_type": "markdown",
   "id": "92918c06-132e-44fb-a849-adf30409c39a",
   "metadata": {},
   "source": [
    "**Q5: Write a Python program that calculates the absolute value of a number using if-else.**\n"
   ]
  },
  {
   "cell_type": "code",
   "execution_count": 12,
   "id": "2a5f1ff7-5f31-49b4-99a9-0b8a80440195",
   "metadata": {},
   "outputs": [
    {
     "name": "stdin",
     "output_type": "stream",
     "text": [
      "Enter the number -6\n"
     ]
    },
    {
     "name": "stdout",
     "output_type": "stream",
     "text": [
      "6.0\n"
     ]
    }
   ],
   "source": [
    "n9=float(input(\"Enter the number\"))\n",
    "if n9>=0:\n",
    "    print(n9)\n",
    "else:\n",
    "    print(-n9)"
   ]
  },
  {
   "cell_type": "markdown",
   "id": "f5343c99-18ee-4bbc-aae9-3ea1f134556d",
   "metadata": {},
   "source": [
    "**Q6: Create a Python program that checks if a given character is a vowel or consonant using if-else.**\n"
   ]
  },
  {
   "cell_type": "code",
   "execution_count": 14,
   "id": "219b27f8-be5c-4a50-b1c4-a9ffbcae3464",
   "metadata": {},
   "outputs": [
    {
     "name": "stdin",
     "output_type": "stream",
     "text": [
      "Enter a character O\n"
     ]
    },
    {
     "name": "stdout",
     "output_type": "stream",
     "text": [
      "o is a vowel\n"
     ]
    }
   ],
   "source": [
    "c1=input(\"Enter a character\").lower()\n",
    "vowels=\"aeiou\"\n",
    "if c1 in vowels:\n",
    "    print(f\"{c1} is a vowel\")\n",
    "else:\n",
    "    print(f\"{c1} is a consonant\")"
   ]
  },
  {
   "cell_type": "markdown",
   "id": "2a8c84e7-2e59-445d-aa12-e5f5994e947c",
   "metadata": {},
   "source": [
    "**Q7: Write a Python program to determine if a user is eligible to vote based on their age using if-else.**"
   ]
  },
  {
   "cell_type": "code",
   "execution_count": 15,
   "id": "72b576a6-e689-4367-9e58-b862560031a1",
   "metadata": {},
   "outputs": [
    {
     "name": "stdin",
     "output_type": "stream",
     "text": [
      "Enter your age 22\n"
     ]
    },
    {
     "name": "stdout",
     "output_type": "stream",
     "text": [
      "you are eligible to vote!\n"
     ]
    }
   ],
   "source": [
    "age=int(input(\"Enter your age\"))\n",
    "if age>=18:\n",
    "    print(\"you are eligible to vote!\")\n",
    "else:\n",
    "    print(\"Wait till you turn 18\")"
   ]
  },
  {
   "cell_type": "markdown",
   "id": "815fbec4-443e-4588-88bc-894431952f1b",
   "metadata": {},
   "source": [
    "**Q8: Create a Python program that calculates the discount amount based on the purchase amount using if-else.**"
   ]
  },
  {
   "cell_type": "code",
   "execution_count": 16,
   "id": "999d4a1c-6112-400e-9453-e4af849e4fc4",
   "metadata": {},
   "outputs": [
    {
     "name": "stdin",
     "output_type": "stream",
     "text": [
      "Enter the amount 5834\n"
     ]
    },
    {
     "name": "stdout",
     "output_type": "stream",
     "text": [
      "Purchase Amount: 5834.0\n",
      "Discount: 20.0%\n",
      "Discount Amount: 1166.8\n",
      "Final Amount after Discount: 4667.2\n"
     ]
    }
   ],
   "source": [
    "purchase_amount=float(input(\"Enter the amount\"))\n",
    "discount=0\n",
    "if purchase_amount>=5000:\n",
    "    discount=0.20\n",
    "elif purchase_amount>=3000:\n",
    "    discount=0.15\n",
    "elif purchase_amount>=1000:\n",
    "    discount=0.10\n",
    "else:\n",
    "    discount=0.05\n",
    "\n",
    "discount_amount=discount*purchase_amount\n",
    "final_amount=purchase_amount-discount_amount\n",
    "\n",
    "print(f\"Purchase Amount: {purchase_amount}\")\n",
    "print(f\"Discount: {discount * 100}%\")\n",
    "print(f\"Discount Amount: {discount_amount}\")\n",
    "print(f\"Final Amount after Discount: {final_amount}\")"
   ]
  },
  {
   "cell_type": "markdown",
   "id": "4d1490ae-f58a-4dd5-835e-c72f71339bc9",
   "metadata": {},
   "source": [
    "**Q9: Write a Python program to check if a number is within a specified range using if-else.**"
   ]
  },
  {
   "cell_type": "code",
   "execution_count": 17,
   "id": "08f2c34c-7425-484c-bc76-f771b1143d03",
   "metadata": {},
   "outputs": [
    {
     "name": "stdin",
     "output_type": "stream",
     "text": [
      "Enter the number 8\n",
      "Enter a lower bound 1\n",
      "Enter a upper bound 78\n"
     ]
    },
    {
     "name": "stdout",
     "output_type": "stream",
     "text": [
      "number is within the specified range\n"
     ]
    }
   ],
   "source": [
    "n10=float(input(\"Enter the number\"))\n",
    "lower_bound=float(input(\"Enter a lower bound\"))\n",
    "upper_bound=float(input(\"Enter a upper bound\"))\n",
    "if lower_bound<=number<=upper_bound:\n",
    "    print(\"number is within the specified range\")\n",
    "else:\n",
    "    print(\"number is out of range\")"
   ]
  },
  {
   "cell_type": "markdown",
   "id": "bbae98c1-798a-4157-a2ab-ff389497668c",
   "metadata": {},
   "source": [
    "**Q10: Create a Python program that determines the grade of a student based on their score using if-else.**"
   ]
  },
  {
   "cell_type": "code",
   "execution_count": 18,
   "id": "2ec61e0e-108b-446e-bd42-580139c3c5ec",
   "metadata": {},
   "outputs": [
    {
     "name": "stdin",
     "output_type": "stream",
     "text": [
      "Enter the student's score:  76.2\n"
     ]
    },
    {
     "name": "stdout",
     "output_type": "stream",
     "text": [
      "The grade for a score of 76.2 is: B+\n"
     ]
    }
   ],
   "source": [
    "# Input the student's score\n",
    "score = float(input(\"Enter the student's score: \"))\n",
    "\n",
    "# Determine the grade based on the score\n",
    "if 90 <= score <= 100:\n",
    "    grade = \"A+\"\n",
    "elif 80 <= score < 90:\n",
    "    grade = \"A\"\n",
    "elif 70 <= score < 80:\n",
    "    grade = \"B+\"\n",
    "elif 60 <= score < 70:\n",
    "    grade = \"B\"\n",
    "elif 50 <= score < 60:\n",
    "    grade = \"C\"\n",
    "elif 40 <= score < 50:\n",
    "    grade = \"D\"\n",
    "elif 30 <= score < 40:\n",
    "    grade = \"E\"\n",
    "else:\n",
    "    grade = \"F\"\n",
    "\n",
    "# Output the grade\n",
    "print(f\"The grade for a score of {score} is: {grade}\")\n"
   ]
  },
  {
   "cell_type": "markdown",
   "id": "465c5011-c233-4d92-93e1-3a3fd177ebbb",
   "metadata": {},
   "source": [
    "**Q11: Write a Python program to check if a string is empty or not using if-else.**"
   ]
  },
  {
   "cell_type": "code",
   "execution_count": 21,
   "id": "ed143d4c-974c-4c98-9749-1d41dd613f50",
   "metadata": {},
   "outputs": [
    {
     "name": "stdin",
     "output_type": "stream",
     "text": [
      "Enter a string \n"
     ]
    },
    {
     "name": "stdout",
     "output_type": "stream",
     "text": [
      "String is empty\n"
     ]
    }
   ],
   "source": [
    "str3=input(\"Enter a string\")\n",
    "if str3==\"\":\n",
    "    print(\"String is empty\")\n",
    "else:\n",
    "    print(\"string is not empty\")\n",
    "           "
   ]
  },
  {
   "cell_type": "markdown",
   "id": "1b235c63-c349-4ac4-8985-1fdd623fe1c4",
   "metadata": {},
   "source": [
    "**Q12: Create a Python program that identifies the type of a triangle (e.g., equilateral, isosceles, or scalene) based on input values using if-else.**"
   ]
  },
  {
   "cell_type": "code",
   "execution_count": 22,
   "id": "69d0e28a-f4e6-479d-b3f0-c59f455ff703",
   "metadata": {},
   "outputs": [
    {
     "name": "stdin",
     "output_type": "stream",
     "text": [
      "Enter the first side 34\n",
      "Enter the second side 23\n",
      "Enter the third side 12\n"
     ]
    },
    {
     "name": "stdout",
     "output_type": "stream",
     "text": [
      "scalene triangle\n"
     ]
    }
   ],
   "source": [
    "s1=float(input(\"Enter the first side\"))\n",
    "s2=float(input(\"Enter the second side\"))\n",
    "s3=float(input(\"Enter the third side\"))\n",
    "if (s1+s2>s3) and (s1+s3>s2) and (s2+s3>s1):\n",
    "    if s1==s2==s3:\n",
    "        print(\"equilateral triangle\")\n",
    "    elif s1==s2 or s1==s3 or s3==s2:\n",
    "        print(\"isosceles triangle\")\n",
    "    else:\n",
    "        print(\"scalene triangle\")\n",
    "\n",
    "else:\n",
    "    print(\"the given sides do not form a triangle\")"
   ]
  },
  {
   "cell_type": "markdown",
   "id": "0ed1e3aa-64cf-4863-88a4-6027c95583c4",
   "metadata": {},
   "source": [
    "**Q13: Write a Python program to determine the day of the week based on a user-provided number using if-else.**"
   ]
  },
  {
   "cell_type": "code",
   "execution_count": 1,
   "id": "00a34414-41a3-4f6b-8c91-c46f82ee49e2",
   "metadata": {},
   "outputs": [
    {
     "name": "stdin",
     "output_type": "stream",
     "text": [
      "Enter the number to determine the day of the week 6\n"
     ]
    },
    {
     "name": "stdout",
     "output_type": "stream",
     "text": [
      "Saturday\n"
     ]
    }
   ],
   "source": [
    "day_number= int(input(\"Enter the number to determine the day of the week\"))\n",
    "if day_number==1:\n",
    "    print(\"Monday\")\n",
    "elif day_number==2:\n",
    "    print(\"Tuesday\")\n",
    "elif day_number==3:\n",
    "    print(\"Wednesday\")\n",
    "elif day_number==4:\n",
    "    print(\"Thursday\")\n",
    "elif day_number==5:\n",
    "    print(\"Friday\")\n",
    "elif day_number==6:\n",
    "    print(\"Saturday\")\n",
    "elif day_number==7:\n",
    "    print(\"Sunday\")\n",
    "else:\n",
    "    print(\"Invalid Input\")"
   ]
  },
  {
   "cell_type": "markdown",
   "id": "340af7f1-1c63-416f-ad35-189ffad34f88",
   "metadata": {},
   "source": [
    "**Q14: Create a Python program that checks if a given year is a leap year using both if-else and a function.**\n"
   ]
  },
  {
   "cell_type": "code",
   "execution_count": 2,
   "id": "79e6eb05-ec09-4e36-b64e-996f5de99b77",
   "metadata": {},
   "outputs": [
    {
     "name": "stdin",
     "output_type": "stream",
     "text": [
      "Enter a year:  2020\n"
     ]
    },
    {
     "name": "stdout",
     "output_type": "stream",
     "text": [
      "2020 is a leap year.\n"
     ]
    }
   ],
   "source": [
    "def is_leap_year(year):\n",
    "    # Check if the year is divisible by 4\n",
    "    if year % 4 == 0:\n",
    "        # If divisible by 4, check if it's also divisible by 100\n",
    "        if year % 100 == 0:\n",
    "            # If divisible by 100, check if it's also divisible by 400\n",
    "            if year % 400 == 0:\n",
    "                return True  # It's a leap year\n",
    "            else:\n",
    "                return False  # It's not a leap year\n",
    "        else:\n",
    "            return True  # It's a leap year\n",
    "    else:\n",
    "        return False  # It's not a leap year\n",
    "\n",
    "# Input from the user\n",
    "year = int(input(\"Enter a year: \"))\n",
    "\n",
    "# Call the function and use if-else to display the result\n",
    "if is_leap_year(year):\n",
    "    print(f\"{year} is a leap year.\")\n",
    "else:\n",
    "    print(f\"{year} is not a leap year.\")\n"
   ]
  },
  {
   "cell_type": "markdown",
   "id": "535aea41-0dc7-455f-b500-2ffc63e7d32e",
   "metadata": {},
   "source": [
    "**Q15: How do you use the \"assert\" statement in Python to add debugging checks within if-else blocks?**\n"
   ]
  },
  {
   "cell_type": "code",
   "execution_count": 1,
   "id": "88a1bef9-8a73-4c98-9561-69e8dd1cddc8",
   "metadata": {},
   "outputs": [
    {
     "name": "stdout",
     "output_type": "stream",
     "text": [
      "AssertionError: The divisor b cannot be zero!\n"
     ]
    }
   ],
   "source": [
    "def divide_numbers(a, b):\n",
    "    # Use assert to check that the divisor is not zero\n",
    "    assert b != 0, \"The divisor b cannot be zero!\"\n",
    "    \n",
    "    result = a / b\n",
    "    return result\n",
    "\n",
    "# Example usage\n",
    "num1 = 10\n",
    "num2 = 0\n",
    "\n",
    "try:\n",
    "    result = divide_numbers(num1, num2)\n",
    "    print(f\"The result is {result}\")\n",
    "except AssertionError as error:\n",
    "    print(f\"AssertionError: {error}\")\n"
   ]
  },
  {
   "cell_type": "markdown",
   "id": "64a68dfd-38f6-4241-9cfb-d884ee2a5ffd",
   "metadata": {},
   "source": [
    "**Q16: Create a Python program that determines the eligibility of a person for a senior citizen discount based on age using if-else.**\n"
   ]
  },
  {
   "cell_type": "code",
   "execution_count": 2,
   "id": "555ddf98-ffa1-4e24-9f45-701351021269",
   "metadata": {},
   "outputs": [
    {
     "name": "stdin",
     "output_type": "stream",
     "text": [
      "Enter your age:  22\n"
     ]
    },
    {
     "name": "stdout",
     "output_type": "stream",
     "text": [
      "You are not eligible for a senior citizen discount.\n"
     ]
    }
   ],
   "source": [
    "# Function to check eligibility for senior citizen discount\n",
    "def check_senior_discount(age):\n",
    "    if age >= 60:\n",
    "        print(\"You are eligible for a senior citizen discount.\")\n",
    "    else:\n",
    "        print(\"You are not eligible for a senior citizen discount.\")\n",
    "\n",
    "# Get the user's age\n",
    "age = int(input(\"Enter your age: \"))\n",
    "\n",
    "# Check eligibility\n",
    "check_senior_discount(age)\n"
   ]
  },
  {
   "cell_type": "markdown",
   "id": "24d10b6a-0b76-437b-9116-748fa910507a",
   "metadata": {},
   "source": [
    "**Q17: Write a Python program to categorize a given character as uppercase, lowercase, or neither using if-else.**"
   ]
  },
  {
   "cell_type": "code",
   "execution_count": 6,
   "id": "f529f92a-d0ee-4d20-81b2-dc21a46a60b8",
   "metadata": {},
   "outputs": [
    {
     "name": "stdin",
     "output_type": "stream",
     "text": [
      "Enter a character:  l\n"
     ]
    },
    {
     "name": "stdout",
     "output_type": "stream",
     "text": [
      "The character 'l' is lowercase.\n"
     ]
    }
   ],
   "source": [
    "# Function to categorize the character\n",
    "def categorize_character(char):\n",
    "    if char.isupper():\n",
    "        print(f\"The character '{char}' is uppercase.\")\n",
    "    elif char.islower():\n",
    "        print(f\"The character '{char}' is lowercase.\")\n",
    "    else:\n",
    "        print(f\"The character '{char}' is neither uppercase nor lowercase.\")\n",
    "\n",
    "# Get the character input from the user\n",
    "char = input(\"Enter a character: \")\n",
    "\n",
    "# Ensure only the first character is considered\n",
    "if len(char) == 1:\n",
    "    categorize_character(char)\n",
    "else:\n",
    "    print(\"Please enter only one character.\")\n"
   ]
  },
  {
   "cell_type": "markdown",
   "id": "b6c814ef-ecb9-4417-8e18-35779b541b07",
   "metadata": {},
   "source": [
    "**Q18: Write a Python program to determine the roots of a quadratic equation using if-else.**"
   ]
  },
  {
   "cell_type": "code",
   "execution_count": 7,
   "id": "e67ebcca-d73d-4dd2-89e8-edda006c28c3",
   "metadata": {},
   "outputs": [
    {
     "name": "stdin",
     "output_type": "stream",
     "text": [
      "Enter coefficient a:  4\n",
      "Enter coefficient b:  2\n",
      "Enter coefficient c:  3\n"
     ]
    },
    {
     "name": "stdout",
     "output_type": "stream",
     "text": [
      "The equation has complex roots: -0.25 ± 0.82915619758885i\n"
     ]
    }
   ],
   "source": [
    "import math\n",
    "\n",
    "# Function to find the roots of the quadratic equation\n",
    "def find_roots(a, b, c):\n",
    "    # Calculate the discriminant\n",
    "    discriminant = b**2 - 4*a*c\n",
    "    \n",
    "    if discriminant > 0:\n",
    "        # Two distinct real roots\n",
    "        root1 = (-b + math.sqrt(discriminant)) / (2*a)\n",
    "        root2 = (-b - math.sqrt(discriminant)) / (2*a)\n",
    "        print(f\"The equation has two distinct real roots: {root1} and {root2}\")\n",
    "    elif discriminant == 0:\n",
    "        # One real root (repeated)\n",
    "        root = -b / (2*a)\n",
    "        print(f\"The equation has one repeated real root: {root}\")\n",
    "    else:\n",
    "        # Complex roots\n",
    "        real_part = -b / (2*a)\n",
    "        imaginary_part = math.sqrt(-discriminant) / (2*a)\n",
    "        print(f\"The equation has complex roots: {real_part} ± {imaginary_part}i\")\n",
    "\n",
    "# Input coefficients a, b, and c from the user\n",
    "a = float(input(\"Enter coefficient a: \"))\n",
    "b = float(input(\"Enter coefficient b: \"))\n",
    "c = float(input(\"Enter coefficient c: \"))\n",
    "\n",
    "# Ensure it's a quadratic equation (a should not be zero)\n",
    "if a == 0:\n",
    "    print(\"This is not a quadratic equation (a should not be zero).\")\n",
    "else:\n",
    "    find_roots(a, b, c)\n"
   ]
  },
  {
   "cell_type": "markdown",
   "id": "c9d63ff4-4dde-4ee8-8164-35403a731c32",
   "metadata": {},
   "source": [
    "**Q19: Create a Python program that checks if a given year is a century year or not using if-else.**\n"
   ]
  },
  {
   "cell_type": "code",
   "execution_count": 8,
   "id": "206f45c1-b7b4-43d0-a936-800d9a3f1e28",
   "metadata": {},
   "outputs": [
    {
     "name": "stdin",
     "output_type": "stream",
     "text": [
      "Enter a year:  2020\n"
     ]
    },
    {
     "name": "stdout",
     "output_type": "stream",
     "text": [
      "2020 is not a century year.\n"
     ]
    }
   ],
   "source": [
    "# Function to check if a year is a century year\n",
    "def is_century_year(year):\n",
    "    if year % 100 == 0:\n",
    "        print(f\"{year} is a century year.\")\n",
    "    else:\n",
    "        print(f\"{year} is not a century year.\")\n",
    "\n",
    "# Input year from the user\n",
    "year = int(input(\"Enter a year: \"))\n",
    "\n",
    "# Check if the year is a century year\n",
    "is_century_year(year)\n"
   ]
  },
  {
   "cell_type": "markdown",
   "id": "373021cc-af73-4122-995b-2982e27311dc",
   "metadata": {},
   "source": [
    "**Q20: Write a Python program to determine if a given number is a perfect square using if-else.**"
   ]
  },
  {
   "cell_type": "code",
   "execution_count": 12,
   "id": "0a4ea0ac-98af-4bb4-99a0-de9ead2ebd6a",
   "metadata": {},
   "outputs": [
    {
     "name": "stdin",
     "output_type": "stream",
     "text": [
      "Enter a number 4\n"
     ]
    },
    {
     "name": "stdout",
     "output_type": "stream",
     "text": [
      "it is a perfect square\n"
     ]
    }
   ],
   "source": [
    "n11=int(input(\"Enter a number\"))\n",
    "s_n11=n11**0.5\n",
    "if s_n11**2==n11:\n",
    "    print(\"it is a perfect square\")\n",
    "else:\n",
    "    print(\"it is not a perfect square\")"
   ]
  },
  {
   "cell_type": "markdown",
   "id": "7e3e372e-b141-48ea-85f3-fd315a8af9dc",
   "metadata": {},
   "source": [
    "**Q21: Explain the purpose of the \"continue\" and \"break\" statements within if-else loops.**"
   ]
  },
  {
   "cell_type": "raw",
   "id": "a3ad939e-56b3-4df7-91dc-b71fc9f3279b",
   "metadata": {},
   "source": [
    "The continue statement is used to skip the rest of the code inside the loop for the current iteration and move directly to the next iteration of the loop."
   ]
  },
  {
   "cell_type": "code",
   "execution_count": 13,
   "id": "cdd9011c-739d-4795-9e8c-80574ae2576a",
   "metadata": {},
   "outputs": [
    {
     "name": "stdout",
     "output_type": "stream",
     "text": [
      "1\n",
      "2\n",
      "4\n",
      "5\n"
     ]
    }
   ],
   "source": [
    "for i in range(1,6):\n",
    "    if i==3:\n",
    "        continue\n",
    "    print(i)"
   ]
  },
  {
   "cell_type": "raw",
   "id": "a8bf4f4e-4025-468d-b4dd-2a49e8b053de",
   "metadata": {},
   "source": [
    "The break statement is used to exit the loop entirely, regardless of the iteration count or the loop's condition."
   ]
  },
  {
   "cell_type": "code",
   "execution_count": 14,
   "id": "90ec8be1-1a82-47d6-ab82-d4aba8d30024",
   "metadata": {},
   "outputs": [
    {
     "name": "stdout",
     "output_type": "stream",
     "text": [
      "1\n",
      "2\n"
     ]
    }
   ],
   "source": [
    "for i in range(1,6):\n",
    "    if i==3:\n",
    "        break\n",
    "    print(i)"
   ]
  },
  {
   "cell_type": "markdown",
   "id": "58b954d6-f195-443e-b81a-5204cf120332",
   "metadata": {},
   "source": [
    "**Q22: Create a Python program that calculates the BMI (Body Mass Index) of a person based on their weight and height using if-else.**"
   ]
  },
  {
   "cell_type": "code",
   "execution_count": 15,
   "id": "8b5a603f-f70c-4554-aec7-e957edadfc11",
   "metadata": {},
   "outputs": [
    {
     "name": "stdin",
     "output_type": "stream",
     "text": [
      "Enter your weight in kg 37\n",
      "Enter your height in metres 1.48\n"
     ]
    },
    {
     "name": "stdout",
     "output_type": "stream",
     "text": [
      "Underweight\n"
     ]
    }
   ],
   "source": [
    "weight=float(input(\"Enter your weight in kg\"))\n",
    "height=float(input(\"Enter your height in metres\"))\n",
    "bmi=weight/(height**2)\n",
    "if bmi<18.5:\n",
    "    print(\"Underweight\")\n",
    "elif 18.5<=bmi<24.9:\n",
    "    print(\"Normal weight\")\n",
    "elif 25<=bmi<29.9:\n",
    "    print(\"Overweight\")\n",
    "else:\n",
    "    print(\"Obesity\")"
   ]
  },
  {
   "cell_type": "markdown",
   "id": "a16dfb53-e5f6-4204-9c5c-80b4a77d3f35",
   "metadata": {},
   "source": [
    "**Q23: How can you use the \"filter()\" function with if-else statements to filter elements from a list?**"
   ]
  },
  {
   "cell_type": "raw",
   "id": "dd95e531-d10d-4458-bcc4-92543bba7374",
   "metadata": {},
   "source": [
    "The filter() function in Python is used to filter elements from an iterable (like a list) based on a function that returns True or False. However, filter() only works with a function that returns a boolean value, so directly using if-else statements inside filter() is not straightforward. Instead, you can use a lambda function with a conditional expression (a single-line if-else statement) to achieve similar behavior."
   ]
  },
  {
   "cell_type": "code",
   "execution_count": 17,
   "id": "ea234791-85cd-4fb0-886e-69201bcfd125",
   "metadata": {},
   "outputs": [
    {
     "name": "stdout",
     "output_type": "stream",
     "text": [
      "[2, 4, 6, 8, 10]\n"
     ]
    }
   ],
   "source": [
    "n12=[1,2,3,4,5,6,7,8,9,10]\n",
    "filtered_n12=list(filter(lambda x: x%2==0, n12))\n",
    "print(filtered_n12)"
   ]
  },
  {
   "cell_type": "markdown",
   "id": "f05acc2d-d1e8-46e8-8d15-0122b5e8782b",
   "metadata": {},
   "source": [
    "**Q24: Write a Python program to determine if a given number is prime or not using if-else.**"
   ]
  },
  {
   "cell_type": "code",
   "execution_count": 18,
   "id": "1fc42b67-e8c6-4210-ba78-c97538ba7399",
   "metadata": {},
   "outputs": [
    {
     "name": "stdin",
     "output_type": "stream",
     "text": [
      "Enter a number:  7\n"
     ]
    },
    {
     "name": "stdout",
     "output_type": "stream",
     "text": [
      "7 is a prime number.\n"
     ]
    }
   ],
   "source": [
    "# Function to check if a number is prime\n",
    "def is_prime(number):\n",
    "    if number <= 1:\n",
    "        return False  # Numbers less than or equal to 1 are not prime\n",
    "    if number == 2:\n",
    "        return True  # 2 is a prime number\n",
    "    if number % 2 == 0:\n",
    "        return False  # Eliminate even numbers greater than 2\n",
    "    \n",
    "    # Check divisibility from 3 up to the square root of the number\n",
    "    for i in range(3, int(number**0.5) + 1, 2):\n",
    "        if number % i == 0:\n",
    "            return False\n",
    "    \n",
    "    return True\n",
    "\n",
    "# Example usage\n",
    "num = int(input(\"Enter a number: \"))\n",
    "\n",
    "if is_prime(num):\n",
    "    print(f\"{num} is a prime number.\")\n",
    "else:\n",
    "    print(f\"{num} is not a prime number.\")\n",
    "\n"
   ]
  },
  {
   "cell_type": "markdown",
   "id": "28ac7c31-988c-4540-94d8-5cb50d683615",
   "metadata": {},
   "source": [
    "# Map"
   ]
  },
  {
   "cell_type": "markdown",
   "id": "e8c0b528-0032-404a-94a0-56f4549a437f",
   "metadata": {},
   "source": [
    "**Q1: Explain the purpose of the `map()` function in Python and provide an example of how it can be used to apply a function to each element of an iterable.**"
   ]
  },
  {
   "cell_type": "raw",
   "id": "c8dfbc34-f031-4d90-8739-ded0eff35fd0",
   "metadata": {},
   "source": [
    "The map() function in Python is used to apply a given function to each item of an iterable (like a list, tuple, etc.) and return a map object (which is an iterator). The map() function is particularly useful when you need to perform the same operation on all elements of an iterable, without using a loop explicitly."
   ]
  },
  {
   "cell_type": "code",
   "execution_count": 1,
   "id": "9054e0fc-e36a-402a-8485-91db8e603214",
   "metadata": {},
   "outputs": [
    {
     "name": "stdout",
     "output_type": "stream",
     "text": [
      "[1, 4, 9, 16, 25, 36]\n"
     ]
    }
   ],
   "source": [
    "n13=[1,2,3,4,5,6]\n",
    "squared_num=list(map(lambda x: x**2, n13))\n",
    "print(squared_num)"
   ]
  },
  {
   "cell_type": "markdown",
   "id": "e1bf917d-2f17-412f-ab96-1c77adacd90c",
   "metadata": {},
   "source": [
    "**Q2: Write a Python program that uses the `map()` function to square each element of a list of numbers.**"
   ]
  },
  {
   "cell_type": "code",
   "execution_count": 2,
   "id": "0c84e819-2f11-4aed-9a8f-eda4211addc8",
   "metadata": {},
   "outputs": [
    {
     "name": "stdout",
     "output_type": "stream",
     "text": [
      "[1, 4, 9, 16, 25, 36]\n"
     ]
    }
   ],
   "source": [
    "n13=[1,2,3,4,5,6]\n",
    "squared_num=list(map(lambda x: x**2, n13))\n",
    "print(squared_num)"
   ]
  },
  {
   "cell_type": "markdown",
   "id": "74d6f411-efe5-4340-ac24-142b62965d8a",
   "metadata": {},
   "source": [
    "**Q3: How does the `map()` function differ from a list comprehension in Python, and when would you choose one over the other?**"
   ]
  },
  {
   "cell_type": "raw",
   "id": "3730d567-c36e-4d40-9722-d5da107a5b67",
   "metadata": {},
   "source": [
    "The map() function requires you to pass a function (either a named function or a lambda function) as its first argument, which is then applied to each element of the iterable.\n",
    "List comprehension allows for a more concise and often more readable way to apply an operation to each element of an iterable.\n"
   ]
  },
  {
   "cell_type": "markdown",
   "id": "64fca2f8-9af7-4c79-9561-c3e0c928f938",
   "metadata": {},
   "source": [
    "**when using map**\n",
    "When you have a predefined function that you want to apply to each element of one or more iterables.\n",
    "When dealing with very large datasets and you want to avoid generating the entire list in memory (use the map object directly)."
   ]
  },
  {
   "cell_type": "markdown",
   "id": "9edec8af-e751-4e84-89de-93bdbcb3887b",
   "metadata": {},
   "source": [
    "**when using list**\n",
    "When you want a more Pythonic, readable way to apply an operation to elements, especially if the operation involves conditions or more complex expressions.\n",
    "When you want the result to be a list immediately, rather than an iterator."
   ]
  },
  {
   "cell_type": "markdown",
   "id": "24aefc1e-8f5e-426b-a270-8cc5e4d1e2f1",
   "metadata": {},
   "source": [
    "**Q4: Create a Python program that uses the `map()` function to convert a list of names to uppercase.**"
   ]
  },
  {
   "cell_type": "code",
   "execution_count": 4,
   "id": "cc66aa87-86d0-4550-81a5-9d590f4fbea3",
   "metadata": {},
   "outputs": [
    {
     "name": "stdout",
     "output_type": "stream",
     "text": [
      "['DEEPIKA', 'AYUSHI', 'HARSHIT', 'VERONICA', 'ABHISHEK']\n"
     ]
    }
   ],
   "source": [
    "n14=['deepika','ayushi','harshit','veronica','abhishek']\n",
    "names=list(map(lambda x: x.upper(), n14))\n",
    "print(names)\n",
    "           "
   ]
  },
  {
   "cell_type": "markdown",
   "id": "4f68857d-c444-4ae4-8132-6a610a28fdff",
   "metadata": {},
   "source": [
    "**Q5: Write a Python program that uses the `map()` function to calculate the length of each word in a list of strings.**"
   ]
  },
  {
   "cell_type": "code",
   "execution_count": 6,
   "id": "eca6060d-ff26-4428-afdd-c3cfea53905c",
   "metadata": {},
   "outputs": [
    {
     "name": "stdout",
     "output_type": "stream",
     "text": [
      "[7, 6, 7, 8, 8]\n"
     ]
    }
   ],
   "source": [
    "n14=['deepika','ayushi','harshit','veronica','abhishek']\n",
    "length=list(map(lambda x: len(x), n14))\n",
    "print(length)"
   ]
  },
  {
   "cell_type": "markdown",
   "id": "c85fc5cf-8623-4d4c-9867-31125c71c425",
   "metadata": {},
   "source": [
    "**Q6: How can you use the `map()` function to apply a custom function to elements of multiple lists simultaneously in Python?**"
   ]
  },
  {
   "cell_type": "code",
   "execution_count": 7,
   "id": "5111e2ea-1ef7-4172-9840-75c44eb7f7bb",
   "metadata": {},
   "outputs": [
    {
     "name": "stdout",
     "output_type": "stream",
     "text": [
      "[5, 4, 7, 14]\n"
     ]
    }
   ],
   "source": [
    "list1=[1,2,6,5]\n",
    "list2=[4,2,1,9]\n",
    "result=list(map(lambda x,y: x+y, list1, list2))\n",
    "print(result)"
   ]
  },
  {
   "cell_type": "markdown",
   "id": "6bf44cca-8588-41bd-8053-adb3dcab4902",
   "metadata": {},
   "source": [
    "**Q7: Create a Python program that uses `map()` to convert a list of temperatures from Celsius to Fahrenheit.**"
   ]
  },
  {
   "cell_type": "code",
   "execution_count": 2,
   "id": "09a9bedd-8fb3-4b7f-8f35-9ed4c1ea9aa7",
   "metadata": {},
   "outputs": [
    {
     "name": "stdout",
     "output_type": "stream",
     "text": [
      "[64.4, 73.4, 129.2, 212.0, 89.6, 168.8]\n"
     ]
    }
   ],
   "source": [
    "temp_celcius=[18, 23, 54, 100, 32, 76]\n",
    "temp_fahrenheit=list(map(lambda x: (9/5)*x+32, temp_celcius))\n",
    "print(temp_fahrenheit)\n"
   ]
  },
  {
   "cell_type": "markdown",
   "id": "55f00bbc-ca6c-48fc-9668-6e0edcc87544",
   "metadata": {},
   "source": [
    "**Q8: Write a Python program that uses the `map()` function to round each element of a list of floating-point numbers to the nearest integer.**"
   ]
  },
  {
   "cell_type": "code",
   "execution_count": 3,
   "id": "3712a4ee-3c6f-42c9-9200-1567512922a6",
   "metadata": {},
   "outputs": [
    {
     "name": "stdout",
     "output_type": "stream",
     "text": [
      "[4, 1, 6, 8, 2, 10]\n"
     ]
    }
   ],
   "source": [
    "# List of floating-point numbers\n",
    "float_numbers = [3.6, 1.2, 5.8, 7.9, 2.3, 9.5]\n",
    "\n",
    "# Use map() with the built-in round() function to round each element to the nearest integer\n",
    "rounded_numbers = list(map(round, float_numbers))\n",
    "\n",
    "# Print the list of rounded numbers\n",
    "print(rounded_numbers)\n"
   ]
  },
  {
   "cell_type": "markdown",
   "id": "c69e646a-483c-42a7-bba6-46ebc5c74632",
   "metadata": {},
   "source": [
    "# Reduce"
   ]
  },
  {
   "cell_type": "markdown",
   "id": "f8bdd76e-0370-480a-921d-c3e9561223cb",
   "metadata": {},
   "source": [
    "**Q1: What is the `reduce()` function in Python, and what module should you import to use it? Provide an example of its basic usage.**"
   ]
  },
  {
   "cell_type": "raw",
   "id": "414f2316-1200-43ba-8625-519df2837eb5",
   "metadata": {},
   "source": [
    "The reduce() function in Python is a powerful tool used to apply a specified function cumulatively to the items of an iterable (such as a list or tuple), reducing the iterable to a single value. Unlike map() and filter(), which return new iterables, reduce() returns a single value."
   ]
  },
  {
   "cell_type": "markdown",
   "id": "275c5bac-6f8a-480b-9e1c-d4dd4366e946",
   "metadata": {},
   "source": [
    "To use the reduce() function, you need to import it from the **functools** module."
   ]
  },
  {
   "cell_type": "code",
   "execution_count": 1,
   "id": "2a5a867a-4085-4d91-89f5-05a9282d7fd1",
   "metadata": {},
   "outputs": [
    {
     "name": "stdout",
     "output_type": "stream",
     "text": [
      "120\n"
     ]
    }
   ],
   "source": [
    "from functools import reduce\n",
    "def multiply(x,y):\n",
    "    return x*y\n",
    "\n",
    "numbers=[1,2,3,4,5]\n",
    "product=reduce(multiply, numbers)\n",
    "print(product)"
   ]
  },
  {
   "cell_type": "markdown",
   "id": "8b5a67b2-ab3d-4efd-8866-9ae6291911ef",
   "metadata": {},
   "source": [
    "**Q2: Write a Python program that uses the `reduce()` function to find the product of all elements in a list.**"
   ]
  },
  {
   "cell_type": "code",
   "execution_count": 3,
   "id": "be5083de-7330-4141-ba56-1d2af60d0a21",
   "metadata": {},
   "outputs": [
    {
     "name": "stdout",
     "output_type": "stream",
     "text": [
      "120\n"
     ]
    }
   ],
   "source": [
    "from functools import reduce\n",
    "def multiply(x,y):\n",
    "    return x*y\n",
    "\n",
    "numbers=[1,2,3,4,5]\n",
    "\n",
    "product=reduce(multiply, numbers)\n",
    "print(product)"
   ]
  },
  {
   "cell_type": "code",
   "execution_count": 11,
   "id": "875de861-8553-48ba-8185-563a503874bc",
   "metadata": {},
   "outputs": [
    {
     "name": "stdout",
     "output_type": "stream",
     "text": [
      "120\n"
     ]
    }
   ],
   "source": [
    "numbers=[1,2,3,4,5]\n",
    "product1=reduce(lambda x,y: x*y, numbers)\n",
    "print(product1)"
   ]
  },
  {
   "cell_type": "markdown",
   "id": "c966e3a0-513c-4933-a031-8c19b31d0aaf",
   "metadata": {},
   "source": [
    "**Q3: Create a Python program that uses `reduce()` to find the maximum element in a list of numbers.**\n"
   ]
  },
  {
   "cell_type": "code",
   "execution_count": 4,
   "id": "427dc691-53d0-48b3-ae94-1f9ede8da90a",
   "metadata": {},
   "outputs": [
    {
     "name": "stdout",
     "output_type": "stream",
     "text": [
      "9\n"
     ]
    }
   ],
   "source": [
    "num2=[3,6,2,9,6,0]\n",
    "max_num=reduce(max, num2)\n",
    "print(max_num)"
   ]
  },
  {
   "cell_type": "markdown",
   "id": "01470b79-9673-4815-88ab-2613b4a26462",
   "metadata": {},
   "source": [
    "**Q4: How can you use the `reduce()` function to concatenate a list of strings into a single string?**"
   ]
  },
  {
   "cell_type": "code",
   "execution_count": 7,
   "id": "c2debe76-37e7-49bb-ac54-55be72dcf826",
   "metadata": {},
   "outputs": [
    {
     "name": "stdout",
     "output_type": "stream",
     "text": [
      "thisismystring\n"
     ]
    }
   ],
   "source": [
    "strings=['this', 'is', 'my', 'string']\n",
    "def concat(a,b):\n",
    "    return a+b\n",
    "    \n",
    "\n",
    "str2=reduce(concat, strings)\n",
    "print(str2)"
   ]
  },
  {
   "cell_type": "code",
   "execution_count": 8,
   "id": "8b80eaf9-9308-461c-ad10-11de75342ee1",
   "metadata": {},
   "outputs": [
    {
     "name": "stdout",
     "output_type": "stream",
     "text": [
      "thisismystring\n"
     ]
    }
   ],
   "source": [
    "strings=['this', 'is', 'my', 'string']\n",
    "\n",
    "str2=reduce(lambda a,b:a+b, strings)\n",
    "print(str2)"
   ]
  },
  {
   "cell_type": "markdown",
   "id": "14e7fda1-ae38-4c13-b5a8-277241d81c69",
   "metadata": {},
   "source": [
    "**Q5: Write a Python program that calculates the factorial of a number using the `reduce()` function.**\n"
   ]
  },
  {
   "cell_type": "code",
   "execution_count": 1,
   "id": "ee48fef1-108c-44b9-a163-4ea78dd2e89d",
   "metadata": {},
   "outputs": [
    {
     "name": "stdin",
     "output_type": "stream",
     "text": [
      "Enter a number 5\n"
     ]
    },
    {
     "name": "stdout",
     "output_type": "stream",
     "text": [
      "120\n"
     ]
    }
   ],
   "source": [
    "from functools import reduce\n",
    "def factorial(n):\n",
    "    numbers=range(1, n+1)\n",
    "\n",
    "    return reduce(lambda x, y: x*y, numbers)\n",
    "\n",
    "n=int(input(\"Enter a number\"))\n",
    "result=factorial(n)\n",
    "print(result)"
   ]
  },
  {
   "cell_type": "markdown",
   "id": "4dd3f135-ef4a-4230-927c-8f2df399a153",
   "metadata": {},
   "source": [
    "**Q6: Create a Python program that uses `reduce()` to find the GCD (Greatest Common Divisor) of a list of numbers.**"
   ]
  },
  {
   "cell_type": "code",
   "execution_count": 1,
   "id": "a295e0f4-4f74-446c-aa8b-1a061cfd2a94",
   "metadata": {},
   "outputs": [
    {
     "name": "stdout",
     "output_type": "stream",
     "text": [
      "16\n"
     ]
    }
   ],
   "source": [
    "from functools import reduce\n",
    "def gcd(a,b):\n",
    "    while b:\n",
    "        a,b=b,a%b\n",
    "    return a\n",
    "\n",
    "def find_gcd(numbers):\n",
    "    return reduce(gcd, numbers)\n",
    "\n",
    "numbers = [48, 64, 16, 80]\n",
    "result=find_gcd(numbers)\n",
    "print(result)"
   ]
  },
  {
   "cell_type": "markdown",
   "id": "810e3db1-2a2d-4b79-b090-98647a4d5438",
   "metadata": {},
   "source": [
    "**Q7: Write a Python program that uses the `reduce()` function to find the sum of the digits of a given number.**"
   ]
  },
  {
   "cell_type": "code",
   "execution_count": 2,
   "id": "2a33b6c8-62df-46b6-97a5-a5caefd752b0",
   "metadata": {},
   "outputs": [
    {
     "name": "stdin",
     "output_type": "stream",
     "text": [
      "Enter a number 1234\n"
     ]
    },
    {
     "name": "stdout",
     "output_type": "stream",
     "text": [
      "10\n"
     ]
    }
   ],
   "source": [
    "def sum_of_digits(number):\n",
    "    digits=[int(i) for i in str(number)]\n",
    "    return reduce(lambda x, y: x+y, digits)\n",
    "\n",
    "number=int(input(\"Enter a number\"))\n",
    "sum=sum_of_digits(number)\n",
    "print(sum)\n"
   ]
  },
  {
   "cell_type": "markdown",
   "id": "401778e3-a63c-434e-93e2-40a223b39430",
   "metadata": {},
   "source": [
    "# Filter"
   ]
  },
  {
   "cell_type": "markdown",
   "id": "5a1e1ba3-c1a9-4061-9633-926b5888a553",
   "metadata": {},
   "source": [
    "**Q1: Explain the purpose of the `filter()` function in Python and provide an example of how it can be used to filter elements from an iterable.**"
   ]
  },
  {
   "cell_type": "raw",
   "id": "d3de0de7-cf15-47ef-a3b5-507cafa97594",
   "metadata": {},
   "source": [
    "The filter() function in Python is used to filter elements from an iterable (like a list, tuple, or string) based on a specified condition. It applies a given function (usually a lambda function) to each element of the iterable, and only the elements for which the function returns True are included in the result. The result is an iterator, which can be converted to a list or other iterable types."
   ]
  },
  {
   "cell_type": "code",
   "execution_count": 2,
   "id": "a301e2ba-8f12-41e9-9c87-e3e366bf05f2",
   "metadata": {},
   "outputs": [
    {
     "name": "stdout",
     "output_type": "stream",
     "text": [
      "[2, 4, 6, 8, 10]\n"
     ]
    }
   ],
   "source": [
    "nums=[1,2,3,4,5,6,7,8,9,10]\n",
    "even_numbers= list(filter(lambda x: x%2==0, nums))\n",
    "print(even_numbers)"
   ]
  },
  {
   "cell_type": "markdown",
   "id": "514776ed-d6be-41ef-ba5c-cee4f506c302",
   "metadata": {},
   "source": [
    "**Q2: Write a Python program that uses the `filter()` function to select even numbers from a list of integers.**"
   ]
  },
  {
   "cell_type": "code",
   "execution_count": 3,
   "id": "2b9207bb-49d1-4952-8b1f-f20c65623805",
   "metadata": {},
   "outputs": [
    {
     "name": "stdout",
     "output_type": "stream",
     "text": [
      "[2, 4, 6, 8, 10]\n"
     ]
    }
   ],
   "source": [
    "nums=[1,2,3,4,5,6,7,8,9,10]\n",
    "even_numbers= list(filter(lambda x: x%2==0, nums))\n",
    "print(even_numbers)"
   ]
  },
  {
   "cell_type": "markdown",
   "id": "dda5c9e7-0b14-417d-ba10-b18dbeb85788",
   "metadata": {},
   "source": [
    "**Q3: Create a Python program that uses the `filter()` function to select names that start with a specific letter from a list of strings.**"
   ]
  },
  {
   "cell_type": "code",
   "execution_count": 6,
   "id": "92ed83fc-c25d-4e39-9a48-a16be0ca8d21",
   "metadata": {},
   "outputs": [
    {
     "name": "stdout",
     "output_type": "stream",
     "text": [
      "['deepika', 'divya', 'Deepanshi']\n"
     ]
    }
   ],
   "source": [
    "str5=['deepika', 'divya', 'riya', 'pooja', 'Deepanshi']\n",
    "str_names=list(filter(lambda x: x.lower()[0]=='d', str5))\n",
    "print(str_names)"
   ]
  },
  {
   "cell_type": "markdown",
   "id": "95509585-5df5-4761-993b-9ff37f8aa852",
   "metadata": {},
   "source": [
    "**Q4: Write a Python program that uses the `filter()` function to select prime numbers from a list of integers.**"
   ]
  },
  {
   "cell_type": "code",
   "execution_count": 7,
   "id": "aa35766a-2351-474c-9eb1-2a2102bc14ad",
   "metadata": {},
   "outputs": [
    {
     "name": "stdout",
     "output_type": "stream",
     "text": [
      "[2, 3, 2, 7, 13]\n"
     ]
    }
   ],
   "source": [
    "l10=[2,56,3,4,78,9,2,7,13]\n",
    "def is_prime(n):\n",
    "    if n<=1:\n",
    "        return False\n",
    "    for i in range(2, int(n**0.5)+1):\n",
    "        if n%i==0:\n",
    "            return False\n",
    "    return True\n",
    "\n",
    "prime_num=list(filter(is_prime, l10))\n",
    "print(prime_num)"
   ]
  },
  {
   "cell_type": "markdown",
   "id": "6564737c-dd1d-4355-8759-9250b0147c85",
   "metadata": {},
   "source": [
    "**Q5: How can you use the `filter()` function to remove None values from a list in Python?**"
   ]
  },
  {
   "cell_type": "code",
   "execution_count": 9,
   "id": "11e406c9-9916-4810-ba19-a485da5f94fd",
   "metadata": {},
   "outputs": [
    {
     "name": "stdout",
     "output_type": "stream",
     "text": [
      "['deep', 'hello', 'finish', 1, 3, 9, 5.6]\n"
     ]
    }
   ],
   "source": [
    "l11=['deep', 'hello', 'finish', None, 1,3,9, None, 5.6,None]\n",
    "\n",
    "\n",
    "clean_l11=list(filter(lambda x: x is not None, l11))\n",
    "print(clean_l11)"
   ]
  },
  {
   "cell_type": "markdown",
   "id": "978a6950-dc17-4a76-83a2-5dc7178f8c27",
   "metadata": {},
   "source": [
    "**Q6: Create a Python program that uses `filter()` to select words longer than a certain length from a list of strings.**"
   ]
  },
  {
   "cell_type": "code",
   "execution_count": 10,
   "id": "9e52869b-b218-4bb4-a3dc-124f64e26ce3",
   "metadata": {},
   "outputs": [
    {
     "name": "stdout",
     "output_type": "stream",
     "text": [
      "['pomegranate', 'behavior', 'keyboard']\n"
     ]
    }
   ],
   "source": [
    "l12=['hello', 'dear', 'pomegranate', 'behavior', 'color', 'heavy', 'keyboard']\n",
    "short_l12=list(filter(lambda x:len(x)>5, l12))\n",
    "print(short_l12)"
   ]
  },
  {
   "cell_type": "markdown",
   "id": "93b38869-fd52-45b9-8455-1c2bcfa638ca",
   "metadata": {},
   "source": [
    "**Q7: Write a Python program that uses the `filter()` function to select elements greater than a specified threshold from a list of values.**"
   ]
  },
  {
   "cell_type": "code",
   "execution_count": 11,
   "id": "829ccabe-bef5-49f5-8268-6eaf7635d30f",
   "metadata": {},
   "outputs": [
    {
     "name": "stdout",
     "output_type": "stream",
     "text": [
      "[45, 23, 78, 34.9, 56, 90]\n"
     ]
    }
   ],
   "source": [
    "l13=[45,23,78,34.9, 56,12,90,14]\n",
    "new_l13=list(filter(lambda x: x>20, l13))\n",
    "print(new_l13)"
   ]
  },
  {
   "cell_type": "markdown",
   "id": "c813880f-1735-4f63-9654-502934cf2058",
   "metadata": {},
   "source": [
    "# Recursion"
   ]
  },
  {
   "cell_type": "markdown",
   "id": "c89ff07d-44eb-44e8-83cc-e88d69449e51",
   "metadata": {},
   "source": [
    "**Q1: Explain the concept of recursion in Python. How does it differ from iteration?**"
   ]
  },
  {
   "cell_type": "raw",
   "id": "d27353f7-646a-4d8c-a233-0f4b4fc89056",
   "metadata": {},
   "source": [
    "Recursion in Python is a programming technique where a function calls itself in order to solve a problem. This technique is often used to break down complex problems into simpler sub-problems, which are easier to solve."
   ]
  },
  {
   "cell_type": "markdown",
   "id": "8f63f456-8b1f-4df9-a775-a52326f2763d",
   "metadata": {},
   "source": [
    "#Recursion\n",
    "- Involves a function calling itself.\n",
    "- Requires a base case to stop the recursion.\n",
    "\n",
    "#Iteration\n",
    "- Involves looping constructs like for or while.\n",
    "- Repeats a block of code until a certain condition is met.\n"
   ]
  },
  {
   "cell_type": "markdown",
   "id": "96761e78-0bca-4d59-bdad-9ba91047b475",
   "metadata": {},
   "source": [
    "**Q2: Write a Python program to calculate the factorial of a number using recursion.**"
   ]
  },
  {
   "cell_type": "code",
   "execution_count": 3,
   "id": "bdbb7d3f-08ee-45a5-9640-0c2162442659",
   "metadata": {},
   "outputs": [
    {
     "name": "stdin",
     "output_type": "stream",
     "text": [
      "enter a number 5\n"
     ]
    },
    {
     "name": "stdout",
     "output_type": "stream",
     "text": [
      "120\n"
     ]
    }
   ],
   "source": [
    "def factorial(n):\n",
    "    if n==1:\n",
    "        return 1\n",
    "\n",
    "    return n * factorial(n-1)\n",
    "\n",
    "n=int(input(\"enter a number\"))\n",
    "print(factorial(n))"
   ]
  },
  {
   "cell_type": "markdown",
   "id": "d3e2b1f9-9c6e-4564-a353-55f12d26d769",
   "metadata": {},
   "source": [
    "**Q3: Create a recursive Python function to find the nth Fibonacci number.**"
   ]
  },
  {
   "cell_type": "code",
   "execution_count": 5,
   "id": "ebcf4f59-d294-4f25-b46a-be73f3e11fb6",
   "metadata": {},
   "outputs": [
    {
     "name": "stdin",
     "output_type": "stream",
     "text": [
      "Enter a number 7\n"
     ]
    },
    {
     "name": "stdout",
     "output_type": "stream",
     "text": [
      "8\n"
     ]
    }
   ],
   "source": [
    "def fib(n):\n",
    "    if n==1:\n",
    "        return 0\n",
    "    if n==2:\n",
    "        return 1\n",
    "\n",
    "    return fib(n-1)+fib(n-2)\n",
    "\n",
    "n1=int(input(\"Enter a number\"))\n",
    "print(fib(n1))"
   ]
  },
  {
   "cell_type": "markdown",
   "id": "2601e61d-f030-44fe-8f3c-e9e9162a9d00",
   "metadata": {},
   "source": [
    "**Q4: Write a recursive Python function to calculate the sum of all elements in a list.**"
   ]
  },
  {
   "cell_type": "code",
   "execution_count": 8,
   "id": "52e5fc67-c92e-4c5a-9850-c982596f72ac",
   "metadata": {},
   "outputs": [
    {
     "name": "stdout",
     "output_type": "stream",
     "text": [
      "15\n"
     ]
    }
   ],
   "source": [
    "def sum_list(l):\n",
    "    if not l:\n",
    "        return 0\n",
    "    return l[0]+ sum_list(l[1:])\n",
    "\n",
    "l=[1,2,3,4,5]\n",
    "print(sum_list(l))"
   ]
  },
  {
   "cell_type": "markdown",
   "id": "07821398-9a29-4581-a241-108418e03925",
   "metadata": {},
   "source": [
    "**Q5: How can you prevent a recursive function from running indefinitely, causing a stack overflow error?**"
   ]
  },
  {
   "cell_type": "markdown",
   "id": "86fe0a14-aaca-4eba-bd8e-7fec3d975c56",
   "metadata": {},
   "source": [
    "- Define a clear base case.\n",
    "- Ensure each recursive call progresses towards the base case.\n",
    "- Validate inputs to handle edge cases.\n",
    "- Be cautious with modifying recursion limits."
   ]
  },
  {
   "cell_type": "markdown",
   "id": "3ec6e5d6-68cd-48ef-b472-bed85c14ab83",
   "metadata": {},
   "source": [
    "**Q6: Create a recursive Python function to find the greatest common divisor (GCD) of two numbers using the Euclidean algorithm.**"
   ]
  },
  {
   "cell_type": "code",
   "execution_count": 10,
   "id": "82a187cc-fe00-4ecd-bc95-549d487cdff2",
   "metadata": {},
   "outputs": [
    {
     "name": "stdin",
     "output_type": "stream",
     "text": [
      "Enter the first number 48\n",
      "Enter the second number 18\n"
     ]
    },
    {
     "name": "stdout",
     "output_type": "stream",
     "text": [
      "6\n"
     ]
    }
   ],
   "source": [
    "def gcd(a,b):\n",
    "    if b==0:\n",
    "        return a\n",
    "    return gcd(b, a%b)\n",
    "\n",
    "a=int(input(\"Enter the first number\"))\n",
    "b=int(input(\"Enter the second number\"))\n",
    "print(gcd(a,b))"
   ]
  },
  {
   "cell_type": "markdown",
   "id": "cb5c70de-c00f-4ddc-82ed-f27ac9b62f29",
   "metadata": {},
   "source": [
    "**Q7: Write a recursive Python function to reverse a string.**"
   ]
  },
  {
   "cell_type": "code",
   "execution_count": 12,
   "id": "098dd0a9-ab24-4b0e-ac41-4c5a5fedaec1",
   "metadata": {},
   "outputs": [
    {
     "name": "stdin",
     "output_type": "stream",
     "text": [
      "enter a string deepika\n"
     ]
    },
    {
     "name": "stdout",
     "output_type": "stream",
     "text": [
      "akipeed\n"
     ]
    }
   ],
   "source": [
    "def rev_str(s):\n",
    "    if len(s)<=1:\n",
    "        return s\n",
    "    return rev_str(s[1:])+s[0]\n",
    "\n",
    "s=input(\"enter a string\")\n",
    "print(rev_str(s))"
   ]
  },
  {
   "cell_type": "markdown",
   "id": "af550b21-694b-4189-90e5-0491e4269fc5",
   "metadata": {},
   "source": [
    "**Q8: Create a recursive Python function to calculate the power of a number (x^n).**"
   ]
  },
  {
   "cell_type": "code",
   "execution_count": 13,
   "id": "71096575-4a8e-4b49-8b12-c069d335df5d",
   "metadata": {},
   "outputs": [
    {
     "name": "stdin",
     "output_type": "stream",
     "text": [
      "Enter a number 2\n",
      "enter the exponent 3\n"
     ]
    },
    {
     "name": "stdout",
     "output_type": "stream",
     "text": [
      "8\n"
     ]
    }
   ],
   "source": [
    "def power(x, n):\n",
    "    if n==0:\n",
    "        return 1\n",
    "    return x * power(x, n-1)\n",
    "\n",
    "x=int(input(\"Enter a number\"))\n",
    "n=int(input(\"enter the exponent\"))\n",
    "print(power(x, n))"
   ]
  },
  {
   "cell_type": "markdown",
   "id": "7cf83b5d-49cf-4597-9c67-416988dc87a4",
   "metadata": {},
   "source": [
    "**Q9: Write a recursive Python function to find all permutations of a given string.**"
   ]
  },
  {
   "cell_type": "code",
   "execution_count": 2,
   "id": "7f12ad5b-6110-4dfc-a1d6-965d691a53ba",
   "metadata": {},
   "outputs": [
    {
     "name": "stdin",
     "output_type": "stream",
     "text": [
      "Enter a string:  abc\n"
     ]
    },
    {
     "name": "stdout",
     "output_type": "stream",
     "text": [
      "abc\n",
      "acb\n",
      "bac\n",
      "bca\n",
      "cab\n",
      "cba\n"
     ]
    }
   ],
   "source": [
    "def permute(s, answer=\"\"):\n",
    "    if len(s)==0:\n",
    "        print(answer)\n",
    "        return\n",
    "\n",
    "    for i in range(len(s)):\n",
    "        char=s[i]\n",
    "        remaining=s[:i]+s[i+1:]\n",
    "        permute(remaining, answer+char)\n",
    "\n",
    "string = input(\"Enter a string: \")\n",
    "permute(string)"
   ]
  },
  {
   "cell_type": "markdown",
   "id": "c5193de0-4ed9-4cd3-a332-353ad9fafe43",
   "metadata": {},
   "source": [
    "**Q10: Write a recursive Python function to check if a string is a palindrome.**"
   ]
  },
  {
   "cell_type": "code",
   "execution_count": 5,
   "id": "d3b7be23-dce3-4e42-b4a8-fbb633ea20da",
   "metadata": {},
   "outputs": [
    {
     "name": "stdin",
     "output_type": "stream",
     "text": [
      "enter a string madam\n"
     ]
    },
    {
     "name": "stdout",
     "output_type": "stream",
     "text": [
      "madam is palindrome\n"
     ]
    }
   ],
   "source": [
    "def is_palin(s):\n",
    "    if len(s)<=1:\n",
    "        return True\n",
    "    if s[0]==s[-1]:\n",
    "        return is_palin(s[1:-1])\n",
    "    else:\n",
    "        return False\n",
    "\n",
    "s=input(\"enter a string\")\n",
    "if is_palin(s):\n",
    "    print(f\"{s} is palindrome\")\n",
    "else:\n",
    "    print(f\"{s} is not palindrome\")"
   ]
  },
  {
   "cell_type": "markdown",
   "id": "c27cca04-8772-4f94-8d37-40e1d20d6043",
   "metadata": {},
   "source": [
    "**Q11: Create a recursive Python function to generate all possible combinations of a list of elements.**"
   ]
  },
  {
   "cell_type": "code",
   "execution_count": 8,
   "id": "0f6b70af-e74d-414e-b8e7-99e33a19f29e",
   "metadata": {},
   "outputs": [
    {
     "name": "stdout",
     "output_type": "stream",
     "text": [
      "apple\n",
      "apple guava\n",
      "apple guava cherry\n",
      "apple guava cherry pineapple\n",
      "apple guava cherry pineapple custard\n",
      "apple guava cherry pineapple custard grapes\n",
      "apple guava cherry pineapple grapes\n",
      "apple guava cherry custard\n",
      "apple guava cherry custard grapes\n",
      "apple guava cherry grapes\n",
      "apple guava pineapple\n",
      "apple guava pineapple custard\n",
      "apple guava pineapple custard grapes\n",
      "apple guava pineapple grapes\n",
      "apple guava custard\n",
      "apple guava custard grapes\n",
      "apple guava grapes\n",
      "apple cherry\n",
      "apple cherry pineapple\n",
      "apple cherry pineapple custard\n",
      "apple cherry pineapple custard grapes\n",
      "apple cherry pineapple grapes\n",
      "apple cherry custard\n",
      "apple cherry custard grapes\n",
      "apple cherry grapes\n",
      "apple pineapple\n",
      "apple pineapple custard\n",
      "apple pineapple custard grapes\n",
      "apple pineapple grapes\n",
      "apple custard\n",
      "apple custard grapes\n",
      "apple grapes\n",
      "guava\n",
      "guava cherry\n",
      "guava cherry pineapple\n",
      "guava cherry pineapple custard\n",
      "guava cherry pineapple custard grapes\n",
      "guava cherry pineapple grapes\n",
      "guava cherry custard\n",
      "guava cherry custard grapes\n",
      "guava cherry grapes\n",
      "guava pineapple\n",
      "guava pineapple custard\n",
      "guava pineapple custard grapes\n",
      "guava pineapple grapes\n",
      "guava custard\n",
      "guava custard grapes\n",
      "guava grapes\n",
      "cherry\n",
      "cherry pineapple\n",
      "cherry pineapple custard\n",
      "cherry pineapple custard grapes\n",
      "cherry pineapple grapes\n",
      "cherry custard\n",
      "cherry custard grapes\n",
      "cherry grapes\n",
      "pineapple\n",
      "pineapple custard\n",
      "pineapple custard grapes\n",
      "pineapple grapes\n",
      "custard\n",
      "custard grapes\n",
      "grapes\n"
     ]
    }
   ],
   "source": [
    "def generate_combinations(l, ans=\"\", start=0):\n",
    "    # Print the current combination\n",
    "    if ans:\n",
    "        print(ans.strip())  # strip() removes any leading/trailing spaces\n",
    "\n",
    "    # Recursive exploration\n",
    "    for i in range(start, len(l)):\n",
    "        # Include the current element in the combination\n",
    "        generate_combinations(l, ans + l[i] + \" \", i + 1)\n",
    "\n",
    "# Example usage\n",
    "l = ['apple', 'guava', 'cherry', 'pineapple', 'custard', 'grapes']\n",
    "generate_combinations(l)\n"
   ]
  },
  {
   "cell_type": "markdown",
   "id": "671d4720-70fb-46e3-b000-8a2e2004e449",
   "metadata": {},
   "source": [
    "# Basics of Functions"
   ]
  },
  {
   "cell_type": "markdown",
   "id": "af05ec8c-dbe8-4d40-b03f-0fbdc7dddf9d",
   "metadata": {},
   "source": [
    "**Q1: What is a function in Python, and why is it used?**"
   ]
  },
  {
   "cell_type": "raw",
   "id": "99077aca-97b8-46cc-8d8a-67d3a3a91478",
   "metadata": {},
   "source": [
    "A function in Python is a block of reusable code designed to perform a specific task. It takes input in the form of arguments (if any), processes it, and returns an output (if any). Functions help to organize code, make it more readable, and avoid repetition by allowing you to encapsulate logic that can be reused throughout your program."
   ]
  },
  {
   "cell_type": "markdown",
   "id": "b490eb15-62b9-4ddd-9300-cd3ba27b8d1e",
   "metadata": {},
   "source": [
    "**Code Reusability**: Instead of writing the same code multiple times, you can write a function once and call it whenever needed.  \n",
    "  **Organization:** Functions help organize code into logical sections, making it easier to read and understand.  \n",
    "  **Simplification:** They allow complex operations to be broken down into simpler steps, making the code easier to debug and maintain.  \n",
    "  **Abstraction:** Functions allow you to use a complex operation without needing to understand the details of how it works.  "
   ]
  },
  {
   "cell_type": "markdown",
   "id": "dc1c2900-5081-48fa-b598-6afe4eb90116",
   "metadata": {},
   "source": [
    "**Q2: How do you define a function in Python? Provide an example.**"
   ]
  },
  {
   "cell_type": "raw",
   "id": "92422015-9c59-457a-a6d9-686d3b7822b2",
   "metadata": {},
   "source": [
    "In Python, you define a function using the def keyword followed by the function name and parentheses (). Inside the parentheses, you can define parameters (inputs) that the function can accept. The function body is indented, and it contains the code that will run when the function is called. You can use the return statement to return a value from the function."
   ]
  },
  {
   "cell_type": "code",
   "execution_count": 2,
   "id": "b985cdee-59f1-4f1d-a722-7962970f2875",
   "metadata": {},
   "outputs": [
    {
     "name": "stdout",
     "output_type": "stream",
     "text": [
      "Hello, Deepika!\n"
     ]
    }
   ],
   "source": [
    "def greet(name):\n",
    "    \"\"\"\n",
    "    Function to greet a person with their name.\n",
    "    \"\"\"\n",
    "    greeting = f\"Hello, {name}!\"\n",
    "    return greeting\n",
    "\n",
    "# Calling the function with the name \"Deepika\"\n",
    "message = greet(\"Deepika\")\n",
    "print(message)\n",
    "\n"
   ]
  },
  {
   "cell_type": "markdown",
   "id": "49206c14-5d6b-40f5-bcc4-a5f84ee15063",
   "metadata": {},
   "source": [
    "**Q3: Explain the difference between a function definition and a function call.**"
   ]
  },
  {
   "cell_type": "markdown",
   "id": "6297f5ce-18ce-4d44-8ec6-b17f7505a5c3",
   "metadata": {},
   "source": [
    "A function definition is the part of the code where you create a function. This is where you specify what the function does, what parameters it takes (if any), and what it returns (if anything).  \n",
    "**Purpose**: To define what the function does.  \n",
    "**Syntax**: Uses the def keyword followed by the function name, parameters (if any), and the block of code that will be executed when the function is called."
   ]
  },
  {
   "cell_type": "markdown",
   "id": "aaf3bbf0-120a-4bbc-8f0d-fb864d2aca19",
   "metadata": {},
   "source": [
    "A function call is the part of the code where you actually use the function. When you call a function, you’re telling Python to execute the code inside that function using the arguments (inputs) you provide.  \n",
    "**Purpose**: To execute the function’s code with specific arguments.    \n",
    "**Syntax**: The function name followed by parentheses () enclosing any arguments (if needed).  "
   ]
  },
  {
   "cell_type": "markdown",
   "id": "3537a5d0-776c-4ae9-b7ff-8beaf5fd7d89",
   "metadata": {},
   "source": [
    "**Q4: Write a Python program that defines a function to calculate the sum of two numbers and then calls the function.**"
   ]
  },
  {
   "cell_type": "code",
   "execution_count": 4,
   "id": "c08e5fe9-5ffd-4681-ba8a-eb010fc3aa23",
   "metadata": {},
   "outputs": [
    {
     "name": "stdin",
     "output_type": "stream",
     "text": [
      "Enter the first number 34\n",
      "Enter the second number 78\n"
     ]
    },
    {
     "name": "stdout",
     "output_type": "stream",
     "text": [
      "112.0\n"
     ]
    }
   ],
   "source": [
    "def sum(a,b):\n",
    "    return a+b\n",
    "\n",
    "a=float(input(\"Enter the first number\"))\n",
    "b=float(input(\"Enter the second number\"))\n",
    "print(sum(a,b))"
   ]
  },
  {
   "cell_type": "markdown",
   "id": "e50fcdd3-c0c9-49ec-9c0d-0ef9cd158d02",
   "metadata": {},
   "source": [
    "**Q5: What is a function signature, and what information does it typically include?**"
   ]
  },
  {
   "cell_type": "raw",
   "id": "d1ebf09f-5141-480d-8022-5b16aeb1dcec",
   "metadata": {},
   "source": [
    "A function signature in Python (and other programming languages) refers to the part of the function definition that includes the function's name and the parameters it takes. The function signature provides essential information about how to call the function, what arguments are expected, and sometimes, what type of value the function returns."
   ]
  },
  {
   "cell_type": "markdown",
   "id": "690e66f1-cd89-495a-a0f7-47a81a78b616",
   "metadata": {},
   "source": [
    "**Q6: Create a Python function that takes two arguments and returns their product.**\n"
   ]
  },
  {
   "cell_type": "code",
   "execution_count": 5,
   "id": "786088df-f97e-43e4-9af8-2c520122188e",
   "metadata": {},
   "outputs": [
    {
     "name": "stdin",
     "output_type": "stream",
     "text": [
      "Enter the first number 12\n",
      "Enter the second number 2\n"
     ]
    },
    {
     "name": "stdout",
     "output_type": "stream",
     "text": [
      "24.0\n"
     ]
    }
   ],
   "source": [
    "def product(a,b):\n",
    "    return a*b\n",
    "\n",
    "a=float(input(\"Enter the first number\"))\n",
    "b=float(input(\"Enter the second number\"))\n",
    "print(product(a,b))"
   ]
  },
  {
   "cell_type": "markdown",
   "id": "8a499d06-4f90-4a47-9bea-325ec61c1663",
   "metadata": {},
   "source": [
    "# Function Parameters and Arguments"
   ]
  },
  {
   "cell_type": "markdown",
   "id": "0119664a-2cf1-4eef-9797-f8002ac03b48",
   "metadata": {},
   "source": [
    "**Q1: Explain the concepts of formal parameters and actual arguments in Python functions.**"
   ]
  },
  {
   "cell_type": "markdown",
   "id": "0a89863b-7032-443e-8172-18fa18ae2310",
   "metadata": {},
   "source": [
    "**Formal parameters** are the variables that are defined in the function's signature. They act as placeholders for the values (arguments) that will be passed to the function when it is called. They define what kind of inputs the function expects and how many inputs are required."
   ]
  },
  {
   "cell_type": "markdown",
   "id": "c603259a-2373-42f7-941c-9a0dd432b717",
   "metadata": {},
   "source": [
    "**Actual arguments** (also simply called arguments) are the real values that are passed to the function when it is called. These values are assigned to the corresponding formal parameters."
   ]
  },
  {
   "cell_type": "markdown",
   "id": "1c671c88-2853-4d5a-a0f2-d0a945f97c40",
   "metadata": {},
   "source": [
    "**Q2: Write a Python program that defines a function with default argument values.**"
   ]
  },
  {
   "cell_type": "code",
   "execution_count": 9,
   "id": "50e799b4-a59f-4380-bfb7-6a0810acb2e6",
   "metadata": {},
   "outputs": [
    {
     "name": "stdout",
     "output_type": "stream",
     "text": [
      "Good morning, Deepika.\n",
      "Hello, BONK!\n",
      "Hi, Kill!\n"
     ]
    }
   ],
   "source": [
    "def greet(name, greeting=\"Hello\", punctuation=\"!\"):\n",
    "    print(f\"{greeting}, {name}{punctuation}\")\n",
    "\n",
    "greet(\"Deepika\", \"Good morning\",\".\")\n",
    "greet(\"BONK\")\n",
    "greet(\"Kill\", \"Hi\")"
   ]
  },
  {
   "cell_type": "markdown",
   "id": "431cee8e-84b9-455f-8fed-82ae16fa1577",
   "metadata": {},
   "source": [
    "**Q3: How do you use keyword arguments in Python function calls? Provide an example.**\n"
   ]
  },
  {
   "cell_type": "code",
   "execution_count": 10,
   "id": "67fa1f19-292b-4a7e-b5bc-8272f7e82ed1",
   "metadata": {},
   "outputs": [
    {
     "name": "stdout",
     "output_type": "stream",
     "text": [
      "Deepika is 22 years old and lives in Jhansi\n",
      "Pooja is 29 years old and lives in Gurugram\n",
      "Aditya is 30 years old and lives in Delhi\n"
     ]
    }
   ],
   "source": [
    "def describe_person(name, age, city):\n",
    "    print(f\"{name} is {age} years old and lives in {city}\")\n",
    "\n",
    "describe_person(name=\"Deepika\", age=22, city=\"Jhansi\")\n",
    "describe_person(city=\"Gurugram\", name=\"Pooja\", age=29)\n",
    "describe_person(age=30, name=\"Aditya\", city=\"Delhi\")"
   ]
  },
  {
   "cell_type": "markdown",
   "id": "79698ccf-e22b-44c5-86ea-e65a6bb4c506",
   "metadata": {},
   "source": [
    "**Q4: Create a Python function that accepts a variable number of arguments and calculates their sum.**"
   ]
  },
  {
   "cell_type": "code",
   "execution_count": 17,
   "id": "72dc29d8-6011-4087-a161-1fb302130f09",
   "metadata": {},
   "outputs": [
    {
     "ename": "TypeError",
     "evalue": "sum() missing 1 required positional argument: 'b'",
     "output_type": "error",
     "traceback": [
      "\u001b[1;31m---------------------------------------------------------------------------\u001b[0m",
      "\u001b[1;31mTypeError\u001b[0m                                 Traceback (most recent call last)",
      "Cell \u001b[1;32mIn[17], line 4\u001b[0m\n\u001b[0;32m      1\u001b[0m \u001b[38;5;28;01mdef\u001b[39;00m \u001b[38;5;21mcalculate_sums\u001b[39m(\u001b[38;5;241m*\u001b[39margs):\n\u001b[0;32m      2\u001b[0m     \u001b[38;5;28;01mreturn\u001b[39;00m \u001b[38;5;28msum\u001b[39m(args)\n\u001b[1;32m----> 4\u001b[0m result1\u001b[38;5;241m=\u001b[39m\u001b[43mcalculate_sums\u001b[49m\u001b[43m(\u001b[49m\u001b[38;5;241;43m1\u001b[39;49m\u001b[43m,\u001b[49m\u001b[38;5;241;43m2\u001b[39;49m\u001b[43m,\u001b[49m\u001b[38;5;241;43m3\u001b[39;49m\u001b[43m,\u001b[49m\u001b[38;5;241;43m4\u001b[39;49m\u001b[43m,\u001b[49m\u001b[38;5;241;43m5\u001b[39;49m\u001b[43m)\u001b[49m\n\u001b[0;32m      5\u001b[0m result2\u001b[38;5;241m=\u001b[39mcalculate_sums(\u001b[38;5;241m10\u001b[39m,\u001b[38;5;241m20\u001b[39m,\u001b[38;5;241m30\u001b[39m)\n\u001b[0;32m      6\u001b[0m result3\u001b[38;5;241m=\u001b[39mcalculate_sums(\u001b[38;5;241m7\u001b[39m)\n",
      "Cell \u001b[1;32mIn[17], line 2\u001b[0m, in \u001b[0;36mcalculate_sums\u001b[1;34m(*args)\u001b[0m\n\u001b[0;32m      1\u001b[0m \u001b[38;5;28;01mdef\u001b[39;00m \u001b[38;5;21mcalculate_sums\u001b[39m(\u001b[38;5;241m*\u001b[39margs):\n\u001b[1;32m----> 2\u001b[0m     \u001b[38;5;28;01mreturn\u001b[39;00m \u001b[38;5;28;43msum\u001b[39;49m\u001b[43m(\u001b[49m\u001b[43margs\u001b[49m\u001b[43m)\u001b[49m\n",
      "\u001b[1;31mTypeError\u001b[0m: sum() missing 1 required positional argument: 'b'"
     ]
    }
   ],
   "source": [
    "def calculate_sums(*args):\n",
    "    return sum(args)\n",
    "\n",
    "result1=calculate_sums(1,2,3,4,5)\n",
    "result2=calculate_sums(10,20,30)\n",
    "result3=calculate_sums(7)\n",
    "\n",
    "print(\"sum 1:\", result1)\n",
    "print(\"sum 2:\", result2)\n",
    "print(\"sum 3:\", result3)"
   ]
  },
  {
   "cell_type": "markdown",
   "id": "0c19a575-a66a-4133-bd6f-5b6274402905",
   "metadata": {},
   "source": [
    "**Q5: What is the purpose of the `*args` and `**kwargs` syntax in function parameter lists?**"
   ]
  },
  {
   "cell_type": "markdown",
   "id": "62a88e23-3441-4ff1-93ec-dfece4f8e79a",
   "metadata": {},
   "source": [
    "The ***args** and ****kwargs** syntax in Python are used to allow functions to accept a variable number of arguments. They provide flexibility in function definitions, enabling the handling of an arbitrary number of input parameters."
   ]
  },
  {
   "cell_type": "markdown",
   "id": "3847660e-b3c8-43d4-bc62-f2387f1bb16e",
   "metadata": {},
   "source": [
    "*args allows a function to accept any number of positional arguments. These arguments are passed into the function as a tuple."
   ]
  },
  {
   "cell_type": "markdown",
   "id": "f6cd2899-d0be-4c9d-ba6c-84c68e43e3ab",
   "metadata": {},
   "source": [
    "**kwargs allows a function to accept any number of keyword arguments, which are passed into the function as a dictionary."
   ]
  },
  {
   "cell_type": "markdown",
   "id": "fbb60418-40d8-4ca3-b438-7d1fd0abde0c",
   "metadata": {},
   "source": [
    "# Return Values and Scoping"
   ]
  },
  {
   "cell_type": "markdown",
   "id": "aa10dd3b-d3f1-4800-89ed-1950f8767708",
   "metadata": {},
   "source": [
    "**Q1: Describe the role of the `return` statement in Python functions and provide examples.**"
   ]
  },
  {
   "cell_type": "raw",
   "id": "95e5c1d5-6f99-449a-bad1-04cef3af441b",
   "metadata": {},
   "source": [
    "The return statement in Python functions is used to exit a function and pass a value back to the caller. It essentially marks the end of a function’s execution, and any code after a return statement within the function will not be executed."
   ]
  },
  {
   "cell_type": "markdown",
   "id": "f7200b56-dc4b-475d-9bcd-a5c0b0749954",
   "metadata": {},
   "source": [
    "**Example 1: Basic Use of return**"
   ]
  },
  {
   "cell_type": "code",
   "execution_count": 19,
   "id": "7ee875bb-fc9e-487e-b664-906b9e26cc7f",
   "metadata": {},
   "outputs": [
    {
     "name": "stdout",
     "output_type": "stream",
     "text": [
      "8\n"
     ]
    }
   ],
   "source": [
    "def add(a,b):\n",
    "    return a+b\n",
    "\n",
    "result=add(5,3)\n",
    "print(result)"
   ]
  },
  {
   "cell_type": "markdown",
   "id": "54b5ad6f-a449-4eac-a9a7-bce1580da815",
   "metadata": {},
   "source": [
    "**Example 2: return Without a Value**"
   ]
  },
  {
   "cell_type": "code",
   "execution_count": 22,
   "id": "5ff29fea-7820-4a4d-81f4-01bab32152d8",
   "metadata": {},
   "outputs": [
    {
     "name": "stdout",
     "output_type": "stream",
     "text": [
      "Hello, Deepika!\n"
     ]
    }
   ],
   "source": [
    "def greet(name):\n",
    "    print(f\"Hello, {name}!\")\n",
    "    return\n",
    "\n",
    "greet(\"Deepika\")"
   ]
  },
  {
   "cell_type": "markdown",
   "id": "8324edf9-8457-48c8-afec-3b3c4092894e",
   "metadata": {},
   "source": [
    "**Example 3: Returning Multiple Values**"
   ]
  },
  {
   "cell_type": "code",
   "execution_count": 23,
   "id": "02ed0e67-1033-40a9-be99-31f1f8df4a42",
   "metadata": {},
   "outputs": [
    {
     "name": "stdout",
     "output_type": "stream",
     "text": [
      "(15, 5)\n"
     ]
    }
   ],
   "source": [
    "def calculate(a,b):\n",
    "    sum_result=a+b\n",
    "    diff_result=a-b\n",
    "    return sum_result, diff_result\n",
    "\n",
    "result6=calculate(10, 5)\n",
    "print(result6)"
   ]
  },
  {
   "cell_type": "markdown",
   "id": "824e1432-99e7-4c20-8408-066d77deb881",
   "metadata": {},
   "source": [
    "**Example 4: Early Exit from a Function**"
   ]
  },
  {
   "cell_type": "code",
   "execution_count": 24,
   "id": "68379afe-9378-4a57-8d52-9839ccb3a9d8",
   "metadata": {},
   "outputs": [
    {
     "name": "stdout",
     "output_type": "stream",
     "text": [
      "True\n"
     ]
    }
   ],
   "source": [
    "def check_even(number):\n",
    "    if number%2==0:\n",
    "        return True\n",
    "    return False\n",
    "\n",
    "result7 = check_even(4)\n",
    "print(result7)"
   ]
  },
  {
   "cell_type": "markdown",
   "id": "b53c2cb3-9e5b-414c-b9a7-81cd1153745a",
   "metadata": {},
   "source": [
    "**Q2: Explain the concept of variable scope in Python, including local and global variables.**"
   ]
  },
  {
   "cell_type": "markdown",
   "id": "f7926258-169a-4b7a-acb3-d1a79acacff9",
   "metadata": {},
   "source": [
    "The scope of a variable in Python refers to the region of a program where a variable is accessible.  \n",
    "**Types of Variable Scope**  \n",
    "\n",
    "a. Local Scope\n",
    "\n",
    "- A variable defined inside a function has a local scope.\n",
    "- It is accessible only within that function.\n",
    "- Python creates a new namespace for the function when it is called, and local variables are part of this namespace.\n",
    "\n",
    "b. Global Scope\n",
    "- A variable defined outside all functions or blocks has a global scope.\n",
    "- It is accessible throughout the entire file, including inside functions (unless shadowed by a local variable with the same name)."
   ]
  },
  {
   "cell_type": "code",
   "execution_count": 4,
   "id": "8958d80c-1c45-4696-965b-98add9a4a152",
   "metadata": {},
   "outputs": [
    {
     "name": "stdout",
     "output_type": "stream",
     "text": [
      "10\n"
     ]
    },
    {
     "ename": "NameError",
     "evalue": "name 'a' is not defined",
     "output_type": "error",
     "traceback": [
      "\u001b[1;31m---------------------------------------------------------------------------\u001b[0m",
      "\u001b[1;31mNameError\u001b[0m                                 Traceback (most recent call last)",
      "Cell \u001b[1;32mIn[4], line 6\u001b[0m\n\u001b[0;32m      3\u001b[0m     \u001b[38;5;28mprint\u001b[39m(a)\n\u001b[0;32m      5\u001b[0m my_function1()\n\u001b[1;32m----> 6\u001b[0m \u001b[38;5;28mprint\u001b[39m(\u001b[43ma\u001b[49m)\n",
      "\u001b[1;31mNameError\u001b[0m: name 'a' is not defined"
     ]
    }
   ],
   "source": [
    "def my_function1():\n",
    "    a=10 #local variable\n",
    "    print(a)\n",
    "\n",
    "my_function1()\n",
    "print(a)"
   ]
  },
  {
   "cell_type": "code",
   "execution_count": 5,
   "id": "36e0af94-b823-41bd-b989-0b96a40ef89f",
   "metadata": {},
   "outputs": [
    {
     "name": "stdout",
     "output_type": "stream",
     "text": [
      "20\n",
      "20\n"
     ]
    }
   ],
   "source": [
    "b=20\n",
    "\n",
    "def my_function2():\n",
    "    print(b)\n",
    "\n",
    "my_function2()\n",
    "print(b)"
   ]
  },
  {
   "cell_type": "markdown",
   "id": "812a953b-2269-41c3-8430-20563c7f2af3",
   "metadata": {},
   "source": [
    "**Q3: Write a Python program that demonstrates the use of global variables within functions.**"
   ]
  },
  {
   "cell_type": "code",
   "execution_count": 6,
   "id": "44af0381-67a4-431a-9cdd-ea9bd97a97b6",
   "metadata": {},
   "outputs": [
    {
     "name": "stdout",
     "output_type": "stream",
     "text": [
      "0\n",
      "1\n",
      "2\n",
      "2\n",
      "0\n",
      "0\n"
     ]
    }
   ],
   "source": [
    "counter=0\n",
    "def increment():\n",
    "    global counter\n",
    "    counter+=1\n",
    "    print(counter)\n",
    "\n",
    "def reset_counter():\n",
    "    global counter\n",
    "    counter=0\n",
    "    print(counter)\n",
    "\n",
    "def display_counter():\n",
    "    print(counter)\n",
    "\n",
    "print(counter)\n",
    "\n",
    "increment()\n",
    "increment()\n",
    "display_counter()\n",
    "\n",
    "reset_counter()\n",
    "display_counter()"
   ]
  },
  {
   "cell_type": "markdown",
   "id": "738d2a8d-f4b9-45d1-bd0b-b22ed5f6dcb9",
   "metadata": {},
   "source": [
    "**Q4: Create a Python function that calculates the factorial of a number and returns it.**"
   ]
  },
  {
   "cell_type": "code",
   "execution_count": 7,
   "id": "18297d29-3900-4a6d-8e46-6517cdefc413",
   "metadata": {},
   "outputs": [
    {
     "name": "stdout",
     "output_type": "stream",
     "text": [
      "Factorial of 5 is 120\n"
     ]
    }
   ],
   "source": [
    "def factoriall(n):\n",
    "    if n<0:\n",
    "        raise ValueError(\"Factorial is not defined for negative numbers\")\n",
    "    if n==0 or n==1:\n",
    "        return 1\n",
    "    return n* factoriall(n-1)\n",
    "\n",
    "try:\n",
    "    num=5\n",
    "    print(f\"Factorial of {num} is {factoriall(num)}\")\n",
    "except ValueError as e:\n",
    "    print (e)"
   ]
  },
  {
   "cell_type": "markdown",
   "id": "933cbfd1-98d3-4644-b278-4b7bfab7f42f",
   "metadata": {},
   "source": [
    "**Q5: How can you access variables defined outside a function from within the function?**"
   ]
  },
  {
   "cell_type": "code",
   "execution_count": 8,
   "id": "130da12e-8c77-4b86-921b-c2c62f102d77",
   "metadata": {},
   "outputs": [
    {
     "name": "stdout",
     "output_type": "stream",
     "text": [
      "Hello, world\n"
     ]
    }
   ],
   "source": [
    "greeting=\"Hello, world\"\n",
    "def say_hello():\n",
    "    print(greeting)\n",
    "\n",
    "say_hello()"
   ]
  },
  {
   "cell_type": "markdown",
   "id": "5cd8d673-ed2e-4dd7-8ad6-cc5b77ef60b1",
   "metadata": {},
   "source": [
    "# Lambda Functions and Higher-Order Functions"
   ]
  },
  {
   "cell_type": "markdown",
   "id": "a0d56b8b-64db-4db5-aa2c-3f718b215e64",
   "metadata": {},
   "source": [
    "**Q1: What are lambda functions in Python, and when are they typically used?**"
   ]
  },
  {
   "cell_type": "markdown",
   "id": "baa1e5f8-b35a-4531-962b-4ad349a4dc11",
   "metadata": {},
   "source": [
    "A lambda function is a small, anonymous function in Python. It is defined using the lambda keyword and can have any number of arguments but only a single expression. The syntax of a lambda function is: **lambda arguments: expression**"
   ]
  },
  {
   "cell_type": "markdown",
   "id": "87452ad2-a530-4a31-b8b4-342674ecef66",
   "metadata": {},
   "source": [
    "Characteristics of Lambda Functions:  \n",
    "Anonymous: Lambda functions don't have a name; they are often used as inline functions.  \n",
    "Single Expression: They are limited to a single expression, which is evaluated and returned.  \n",
    "Inline Use: Typically used where small functions are required for short-term use."
   ]
  },
  {
   "cell_type": "markdown",
   "id": "3bc49688-abe2-4bc5-b875-90dad59671d7",
   "metadata": {},
   "source": [
    "Examples of Lambda Functions"
   ]
  },
  {
   "cell_type": "code",
   "execution_count": 9,
   "id": "df5c73d6-0e38-4e67-9612-04387cac5198",
   "metadata": {},
   "outputs": [
    {
     "name": "stdout",
     "output_type": "stream",
     "text": [
      "8\n"
     ]
    }
   ],
   "source": [
    "add= lambda a,b:a+b\n",
    "print(add(3,5))"
   ]
  },
  {
   "cell_type": "code",
   "execution_count": 10,
   "id": "2b4553fb-23ce-4a57-a7e8-a105ca75a432",
   "metadata": {},
   "outputs": [
    {
     "name": "stdout",
     "output_type": "stream",
     "text": [
      "9\n"
     ]
    }
   ],
   "source": [
    "square= lambda x:x**2\n",
    "print(square(3))"
   ]
  },
  {
   "cell_type": "code",
   "execution_count": 12,
   "id": "9c1bd898-1b53-4233-b60d-58cec771578e",
   "metadata": {},
   "outputs": [
    {
     "name": "stdout",
     "output_type": "stream",
     "text": [
      "Even\n",
      "Odd\n"
     ]
    }
   ],
   "source": [
    "is_even= lambda x: \"Even\" if x%2==0 else \"Odd\"\n",
    "print(is_even(10))\n",
    "print(is_even(7))"
   ]
  },
  {
   "cell_type": "code",
   "execution_count": 14,
   "id": "8031df3b-4622-4cae-9a47-a366154453be",
   "metadata": {},
   "outputs": [
    {
     "name": "stdout",
     "output_type": "stream",
     "text": [
      "[1, 4, 9, 16]\n"
     ]
    }
   ],
   "source": [
    "numbers=[1,2,3,4]\n",
    "squares=map(lambda x:x**2, numbers)\n",
    "print(list(squares))"
   ]
  },
  {
   "cell_type": "code",
   "execution_count": 17,
   "id": "fcf5ec64-f895-40bb-ad0d-f8c0e21f2ff1",
   "metadata": {},
   "outputs": [
    {
     "name": "stdout",
     "output_type": "stream",
     "text": [
      "[2, 4, 8]\n"
     ]
    }
   ],
   "source": [
    "numberss=[2,1,4,5,3,8,9]\n",
    "even_num=filter(lambda x: x%2==0, numberss)\n",
    "print(list(even_num))"
   ]
  },
  {
   "cell_type": "code",
   "execution_count": 18,
   "id": "15934d9d-a7a2-413a-8272-5d426988bcf3",
   "metadata": {},
   "outputs": [
    {
     "name": "stdout",
     "output_type": "stream",
     "text": [
      "24\n"
     ]
    }
   ],
   "source": [
    "from functools import reduce\n",
    "numbers=[1,2,3,4]\n",
    "product=reduce(lambda x, y:x*y, numbers)\n",
    "print(product)"
   ]
  },
  {
   "cell_type": "markdown",
   "id": "ada1769e-74d8-4ea1-95f4-fad80cde5b0b",
   "metadata": {},
   "source": [
    "**Q2: Write a Python program that uses lambda functions to sort a list of tuples based on the second element.**"
   ]
  },
  {
   "cell_type": "code",
   "execution_count": 2,
   "id": "abc19672-c730-4426-a79a-ace2214ee99b",
   "metadata": {},
   "outputs": [
    {
     "name": "stdout",
     "output_type": "stream",
     "text": [
      "[('Bob', 20), ('Charlie', 22), ('Diana', 23), ('Alice', 25)]\n"
     ]
    }
   ],
   "source": [
    "data=[('Alice',25),('Bob',20),('Charlie',22),('Diana',23)]\n",
    "sorted_data= sorted(data, key=lambda x:x[1])\n",
    "print(sorted_data)"
   ]
  },
  {
   "cell_type": "markdown",
   "id": "ddb8718e-afd9-4062-9ebc-0b69ce51c41d",
   "metadata": {},
   "source": [
    "**Q3: Explain the concept of higher-order functions in Python, and provide an example.**"
   ]
  },
  {
   "cell_type": "markdown",
   "id": "2d5b5e2d-2361-46b5-bc26-71e7952e3626",
   "metadata": {},
   "source": [
    "**Higher-Order Functions in Python**  \n",
    "A higher-order function is a function that either:  \n",
    "\n",
    "Takes one or more functions as arguments, or  \n",
    "Returns a function as its result.  \n",
    "This is a key feature of Python, enabling functional programming. Functions like map, filter, and reduce are common examples of higher-order functions."
   ]
  },
  {
   "cell_type": "code",
   "execution_count": 1,
   "id": "f27b3e95-1837-4bd2-bb36-375d2df39e0c",
   "metadata": {},
   "outputs": [
    {
     "name": "stdout",
     "output_type": "stream",
     "text": [
      "10\n",
      "16\n"
     ]
    }
   ],
   "source": [
    "# Higher-order function\n",
    "def apply_function(number, func):\n",
    "    return func(number)\n",
    "\n",
    "# Regular function to double a number\n",
    "def double(x):\n",
    "    return x * 2\n",
    "\n",
    "# Regular function to square a number\n",
    "def square(x):\n",
    "    return x ** 2\n",
    "\n",
    "# Using the higher-order function\n",
    "result1 = apply_function(5, double)  # Pass the function 'double'\n",
    "result2 = apply_function(4, square)  # Pass the function 'square'\n",
    "\n",
    "print(result1)  # Output: 10\n",
    "print(result2)  # Output: 16\n"
   ]
  },
  {
   "cell_type": "markdown",
   "id": "1e4c42ed-eaab-4bd0-bbfe-be947183a516",
   "metadata": {},
   "source": [
    "**Q4: Create a Python function that takes a list of numbers and a function as arguments, applying the function to each element in the list.**"
   ]
  },
  {
   "cell_type": "code",
   "execution_count": 2,
   "id": "a2e505dd-d1a2-4005-9201-090ab2b56b1e",
   "metadata": {},
   "outputs": [
    {
     "name": "stdout",
     "output_type": "stream",
     "text": [
      "Original list: [1, 2, 3, 4, 5]\n",
      "Squared list: [1, 4, 9, 16, 25]\n",
      "Doubled list: [2, 4, 6, 8, 10]\n"
     ]
    }
   ],
   "source": [
    "def apply_to_list(numbers, func):\n",
    "    \"\"\"\n",
    "    Applies the given function to each element in the list.\n",
    "\n",
    "    Parameters:\n",
    "        numbers (list): A list of numbers.\n",
    "        func (function): A function to apply to each element.\n",
    "\n",
    "    Returns:\n",
    "        list: A new list with the function applied to each element.\n",
    "    \"\"\"\n",
    "    return [func(num) for num in numbers]  # Using list comprehension\n",
    "\n",
    "# Example functions\n",
    "def square(x):\n",
    "    return x ** 2\n",
    "\n",
    "def double(x):\n",
    "    return x * 2\n",
    "\n",
    "# Test the apply_to_list function\n",
    "numbers = [1, 2, 3, 4, 5]\n",
    "\n",
    "squared_numbers = apply_to_list(numbers, square)  # Apply the square function\n",
    "doubled_numbers = apply_to_list(numbers, double)  # Apply the double function\n",
    "\n",
    "print(\"Original list:\", numbers)\n",
    "print(\"Squared list:\", squared_numbers)  # Output: [1, 4, 9, 16, 25]\n",
    "print(\"Doubled list:\", doubled_numbers)  # Output: [2, 4, 6, 8, 10]\n"
   ]
  },
  {
   "cell_type": "markdown",
   "id": "be52350e-4e6b-40cb-b08b-950366811481",
   "metadata": {},
   "source": [
    "# Built-in Functions"
   ]
  },
  {
   "cell_type": "markdown",
   "id": "31d3d258-6811-41ee-a169-2025ddce4cfb",
   "metadata": {},
   "source": [
    "**Q1: Describe the role of built-in functions like `len()`, `max()`, and `min()` in Python.**"
   ]
  },
  {
   "cell_type": "markdown",
   "id": "a2064163-ff72-47b5-a54b-2f2da667e3b9",
   "metadata": {},
   "source": [
    "**len()**  \n",
    "- Returns the number of elements in an object.\n",
    "- Works with sequences (like strings, lists, tuples) and collections (like dictionaries and sets)."
   ]
  },
  {
   "cell_type": "markdown",
   "id": "3841d1df-aba8-4ec5-a5fc-e39afc9e105d",
   "metadata": {},
   "source": [
    "**max()**  \n",
    "- Returns the largest item in an iterable or the largest of two or more arguments.\n",
    "- Works with numbers, strings (lexicographically), and custom objects if a key is provided."
   ]
  },
  {
   "cell_type": "markdown",
   "id": "de9d3c2d-771c-4295-9632-653d0475642f",
   "metadata": {},
   "source": [
    "**min()**  \n",
    "- Returns the smallest item in an iterable or the smallest of two or more arguments.\n",
    "- Similar to max(), but retrieves the minimum value."
   ]
  },
  {
   "cell_type": "markdown",
   "id": "60bfdfbd-9d67-419c-89f2-87eb20cf6170",
   "metadata": {},
   "source": [
    "**Q2: Write a Python program that uses the `map()` function to apply a function to each element of a list.**"
   ]
  },
  {
   "cell_type": "code",
   "execution_count": 6,
   "id": "6093814f-5b9f-44a2-9d8d-ddeddf0955a9",
   "metadata": {},
   "outputs": [
    {
     "name": "stdout",
     "output_type": "stream",
     "text": [
      "Original list: [1, 2, 3, 4, 5]\n",
      "Squared list: [1, 4, 9, 16, 25]\n"
     ]
    }
   ],
   "source": [
    "# Function to square a number\n",
    "def square(num):\n",
    "    return num ** 2\n",
    "\n",
    "# List of numbers\n",
    "numbers = [1, 2, 3, 4, 5]\n",
    "\n",
    "# Use map() to apply the square function to each element in the list\n",
    "squared_numbers = map(square, numbers)\n",
    "\n",
    "# Convert the map object to a list\n",
    "squared_numbers_list = list(squared_numbers)\n",
    "\n",
    "# Output the results\n",
    "print(\"Original list:\", numbers)\n",
    "print(\"Squared list:\", squared_numbers_list)\n"
   ]
  },
  {
   "cell_type": "markdown",
   "id": "f471bedb-2f9a-478e-b89b-4ef7942dd8fc",
   "metadata": {},
   "source": [
    "**Q3: How does the `filter()` function work in Python, and when would you use it?**"
   ]
  },
  {
   "cell_type": "markdown",
   "id": "65d3b886-bc93-4e3f-98c1-f66a458a1dcc",
   "metadata": {},
   "source": [
    "The filter() function in Python is used to filter elements of an iterable (e.g., list, tuple, etc.) based on a function that returns a boolean value (True or False). It constructs an iterator containing only the elements for which the function evaluates to True."
   ]
  },
  {
   "cell_type": "markdown",
   "id": "0b60a927-267b-454c-95a8-d0055cce4ec4",
   "metadata": {},
   "source": [
    "**syntax**  \n",
    "filter(function, iterable)"
   ]
  },
  {
   "cell_type": "markdown",
   "id": "438e046e-49c6-42a0-9b97-cff017a7f076",
   "metadata": {},
   "source": [
    "**When to Use filter()**  \n",
    "To remove unwanted elements from a sequence based on a condition.  \n",
    "To process a collection by retaining only those elements that meet a specific criterion.  \n",
    "Useful in situations where you'd typically use a loop to filter elements manually."
   ]
  },
  {
   "cell_type": "code",
   "execution_count": 10,
   "id": "6f3646fb-635f-4247-ae74-b1e625c2a9d8",
   "metadata": {},
   "outputs": [
    {
     "name": "stdout",
     "output_type": "stream",
     "text": [
      "[2, 4, 6]\n"
     ]
    }
   ],
   "source": [
    "# Function to check if a number is even\n",
    "def is_even(num):\n",
    "    return num % 2 == 0\n",
    "\n",
    "# List of numbers\n",
    "numbers = [1, 2, 3, 4, 5, 6]\n",
    "\n",
    "# Use filter to retain only even numbers\n",
    "even_numbers = filter(is_even, numbers)\n",
    "\n",
    "# Convert to a list\n",
    "print(list(even_numbers))  # Output: [2, 4, 6]\n"
   ]
  },
  {
   "cell_type": "markdown",
   "id": "e695fc90-3a08-4168-be4e-0ef89bef792f",
   "metadata": {},
   "source": [
    "**Q4: Create a Python program that uses the `reduce()` function to find the product of all elements in a list.**"
   ]
  },
  {
   "cell_type": "code",
   "execution_count": 11,
   "id": "73da6a35-c1da-423a-8dd0-0f3fc0253ee4",
   "metadata": {},
   "outputs": [
    {
     "name": "stdout",
     "output_type": "stream",
     "text": [
      "The product of all elements in the list is: 120\n"
     ]
    }
   ],
   "source": [
    "from functools import reduce\n",
    "\n",
    "# Function to multiply two numbers\n",
    "def multiply(x, y)\n",
    "    return x * y\n",
    "\n",
    "# List of numbers\n",
    "numbers = [1, 2, 3, 4, 5]\n",
    "\n",
    "# Use reduce() to find the product of all elements\n",
    "product = reduce(multiply, numbers)\n",
    "\n",
    "# Output the result\n",
    "print(\"The product of all elements in the list is:\", product)\n"
   ]
  },
  {
   "cell_type": "markdown",
   "id": "8a73566a-f6b2-474b-8978-e89ef5300c7b",
   "metadata": {},
   "source": [
    "# Function Documentation and Best Practices"
   ]
  },
  {
   "cell_type": "markdown",
   "id": "671bc743-ec8b-4808-a295-d3597f82476d",
   "metadata": {},
   "source": [
    "**Q1: Explain the purpose of docstrings in Python functions and how to write them.**"
   ]
  },
  {
   "cell_type": "markdown",
   "id": "b61f896c-52c1-4c2e-aaf6-37965ae05a39",
   "metadata": {},
   "source": [
    "Docstrings (short for documentation strings) in Python are special strings used to describe the purpose and functionality of a function, class, module, or method. They provide a convenient way to document code, making it easier for others (and your future self) to understand how your code works.\n",
    "\n"
   ]
  },
  {
   "cell_type": "code",
   "execution_count": 12,
   "id": "440312ac-5211-4d8e-ba22-9ce7e0566159",
   "metadata": {},
   "outputs": [],
   "source": [
    "def greet(name):\n",
    "    \"\"\"\n",
    "    Greets the user by their name.\n",
    "\n",
    "    Parameters:\n",
    "    name (str): The name of the person to greet.\n",
    "\n",
    "    Returns:\n",
    "    str: A greeting message.\n",
    "    \"\"\"\n",
    "    return f\"Hello, {name}!\"\n"
   ]
  },
  {
   "cell_type": "code",
   "execution_count": 13,
   "id": "95fd8c9a-0df1-4526-b6f9-7cfec03c06e3",
   "metadata": {},
   "outputs": [
    {
     "name": "stdout",
     "output_type": "stream",
     "text": [
      "\n",
      "    Greets the user by their name.\n",
      "\n",
      "    Parameters:\n",
      "    name (str): The name of the person to greet.\n",
      "\n",
      "    Returns:\n",
      "    str: A greeting message.\n",
      "    \n"
     ]
    }
   ],
   "source": [
    "# Print the docstring\n",
    "print(greet.__doc__)\n"
   ]
  },
  {
   "cell_type": "markdown",
   "id": "e8ecf59e-09e9-44a5-be04-01c5cecb7910",
   "metadata": {},
   "source": [
    "**Q2: Describe some best practices for naming functions and variables in Python, including naming conventions and guidelines.**"
   ]
  },
  {
   "cell_type": "code",
   "execution_count": null,
   "id": "ec0a73e9-0a78-4d6f-acf2-7b1dcf7b8b7d",
   "metadata": {},
   "outputs": [],
   "source": []
  }
 ],
 "metadata": {
  "kernelspec": {
   "display_name": "Python 3 (ipykernel)",
   "language": "python",
   "name": "python3"
  },
  "language_info": {
   "codemirror_mode": {
    "name": "ipython",
    "version": 3
   },
   "file_extension": ".py",
   "mimetype": "text/x-python",
   "name": "python",
   "nbconvert_exporter": "python",
   "pygments_lexer": "ipython3",
   "version": "3.12.4"
  }
 },
 "nbformat": 4,
 "nbformat_minor": 5
}
