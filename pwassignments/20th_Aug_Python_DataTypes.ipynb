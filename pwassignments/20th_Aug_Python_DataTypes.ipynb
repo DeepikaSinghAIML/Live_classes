{
 "cells": [
  {
   "cell_type": "markdown",
   "id": "74714078",
   "metadata": {},
   "source": [
    "# String Based Assignment Problem"
   ]
  },
  {
   "cell_type": "markdown",
   "id": "e704e8b0",
   "metadata": {},
   "source": [
    "**Q1: Write a program to reverse a string.**"
   ]
  },
  {
   "cell_type": "code",
   "execution_count": 2,
   "id": "c03d3047",
   "metadata": {},
   "outputs": [
    {
     "name": "stdout",
     "output_type": "stream",
     "text": [
      "Enter a string:deepika\n",
      "akipeed\n"
     ]
    }
   ],
   "source": [
    "s=input(\"Enter a string:\")\n",
    "rev=s[::-1]\n",
    "print(rev)"
   ]
  },
  {
   "cell_type": "markdown",
   "id": "485bb6d4",
   "metadata": {},
   "source": [
    "**Q2: Check if a string is a palindrome.**"
   ]
  },
  {
   "cell_type": "code",
   "execution_count": 6,
   "id": "2c81a37f",
   "metadata": {},
   "outputs": [
    {
     "name": "stdout",
     "output_type": "stream",
     "text": [
      "Enter a string:Madam\n",
      "String is palindrome\n"
     ]
    }
   ],
   "source": [
    "s1=input(\"Enter a string:\")\n",
    "cln_str=s1.lower()\n",
    "rev=cln_str[::-1]\n",
    "if rev==cln_str:\n",
    "    print(\"String is palindrome\")\n",
    "else:\n",
    "    print(\"String is not palindrome\")"
   ]
  },
  {
   "cell_type": "markdown",
   "id": "9372d6b2",
   "metadata": {},
   "source": [
    "**Q3: Convert a string to uppercase.**"
   ]
  },
  {
   "cell_type": "code",
   "execution_count": 7,
   "id": "cff984cd",
   "metadata": {},
   "outputs": [
    {
     "name": "stdout",
     "output_type": "stream",
     "text": [
      "Enter a string:deepika\n",
      "DEEPIKA\n"
     ]
    }
   ],
   "source": [
    "s2=input(\"Enter a string:\")\n",
    "print(s2.upper())"
   ]
  },
  {
   "cell_type": "markdown",
   "id": "f213a6fa",
   "metadata": {},
   "source": [
    "**Q4: Convert a string to lowercase.**"
   ]
  },
  {
   "cell_type": "code",
   "execution_count": 8,
   "id": "702622b6",
   "metadata": {},
   "outputs": [
    {
     "name": "stdout",
     "output_type": "stream",
     "text": [
      "Enter a string:Hello! I am Deepika\n",
      "hello! i am deepika\n"
     ]
    }
   ],
   "source": [
    "s3=input(\"Enter a string:\")\n",
    "print(s3.lower())"
   ]
  },
  {
   "cell_type": "markdown",
   "id": "43beb92b",
   "metadata": {},
   "source": [
    "**Q5: Count the number of vowels in a string.**"
   ]
  },
  {
   "cell_type": "code",
   "execution_count": 10,
   "id": "4bd5c922",
   "metadata": {},
   "outputs": [
    {
     "name": "stdout",
     "output_type": "stream",
     "text": [
      "Enter a string:hello! here I am Adam LevinE\n",
      "No. of vowels in the string are 11\n"
     ]
    }
   ],
   "source": [
    "string=input(\"Enter a string:\")\n",
    "def count_vowels(s):\n",
    "    vowels='aeiouAEIOU'\n",
    "    c=0\n",
    "    for i in s:\n",
    "        if i in vowels:\n",
    "            c=c+1\n",
    "    return c\n",
    "num_vowels=count_vowels(string)\n",
    "print(f\"No. of vowels in the string are {num_vowels}\")\n",
    "            "
   ]
  },
  {
   "cell_type": "markdown",
   "id": "c9c6ef35",
   "metadata": {},
   "source": [
    "**Q6: Count the number of consonants in a string.**"
   ]
  },
  {
   "cell_type": "code",
   "execution_count": 17,
   "id": "38f3a647",
   "metadata": {},
   "outputs": [
    {
     "name": "stdout",
     "output_type": "stream",
     "text": [
      "Enter a string:hello! I am not a Robot\n",
      "No. of consonants in the string are 9\n"
     ]
    }
   ],
   "source": [
    "string1=input(\"Enter a string:\")\n",
    "def count_Conso(s):\n",
    "    vowels='aeiouAEIOU'\n",
    "    c=0\n",
    "    for i in s:\n",
    "        if i.isalpha() and i not in vowels:\n",
    "            c=c+1\n",
    "    return c\n",
    "num_conso=count_Conso(string1)\n",
    "print(f\"No. of consonants in the string are {num_conso}\")"
   ]
  },
  {
   "cell_type": "markdown",
   "id": "d6593cdf",
   "metadata": {},
   "source": [
    "**Q7: Remove all whitespaces from a string.**"
   ]
  },
  {
   "cell_type": "code",
   "execution_count": 15,
   "id": "2673b583",
   "metadata": {},
   "outputs": [
    {
     "name": "stdout",
     "output_type": "stream",
     "text": [
      "Enter a string:hello there! Remove the spaces\n",
      "hellothere!Removethespaces\n"
     ]
    }
   ],
   "source": [
    "s4=input(\"Enter a string:\")\n",
    "modified_str=s4.replace(\" \",\"\")\n",
    "print(modified_str)"
   ]
  },
  {
   "cell_type": "markdown",
   "id": "7c881cd8",
   "metadata": {},
   "source": [
    "**Q8: Find the length of a string without using the `len()` function.**"
   ]
  },
  {
   "cell_type": "code",
   "execution_count": 18,
   "id": "41d1f3f2",
   "metadata": {},
   "outputs": [
    {
     "name": "stdout",
     "output_type": "stream",
     "text": [
      "Enter the string:this is a string to check count\n",
      "length of the string is 31\n"
     ]
    }
   ],
   "source": [
    "string2=input(\"Enter the string:\")\n",
    "def count_len(s):\n",
    "    c=0\n",
    "    for i in s:\n",
    "        c=c+1\n",
    "    return c\n",
    "len_count=count_len(string2)\n",
    "print(f\"length of the string is {len_count}\")\n",
    "\n",
    "        "
   ]
  },
  {
   "cell_type": "markdown",
   "id": "ffc8a5b6",
   "metadata": {},
   "source": [
    "**Q9: Check if a string contains a specific word.**"
   ]
  },
  {
   "cell_type": "code",
   "execution_count": 30,
   "id": "dc8ec282",
   "metadata": {},
   "outputs": [
    {
     "name": "stdout",
     "output_type": "stream",
     "text": [
      "Enter the fullstring:hello this is deepika\n",
      "Enter the substring:this\n",
      "Found!\n"
     ]
    }
   ],
   "source": [
    "fullstring=input(\"Enter the fullstring:\")\n",
    "substring=input(\"Enter the substring:\")\n",
    "words=fullstring.split()\n",
    "if substring in words:\n",
    "    print(\"Found!\")\n",
    "else:\n",
    "    print(\"Not found!\")"
   ]
  },
  {
   "cell_type": "markdown",
   "id": "69196455",
   "metadata": {},
   "source": [
    "**Q10: Replace a word in a string with another word.**"
   ]
  },
  {
   "cell_type": "code",
   "execution_count": 26,
   "id": "58f0e72d",
   "metadata": {},
   "outputs": [
    {
     "name": "stdout",
     "output_type": "stream",
     "text": [
      "Enter a string:This is my first program.\n",
      "Enter the old word you want to replace:first\n",
      "Enter the new word you want to replace with:second\n",
      "This is my second program.\n"
     ]
    }
   ],
   "source": [
    "s5=input(\"Enter a string:\")\n",
    "old_word=input(\"Enter the old word you want to replace:\")\n",
    "new_word=input(\"Enter the new word you want to replace with:\")\n",
    "updated_str=s5.replace(old_word,new_word)\n",
    "print(updated_str)"
   ]
  },
  {
   "cell_type": "markdown",
   "id": "0aa098da",
   "metadata": {},
   "source": [
    "**Q11: Count the occurrences of a word in a string.**"
   ]
  },
  {
   "cell_type": "code",
   "execution_count": 6,
   "id": "9e302943",
   "metadata": {},
   "outputs": [
    {
     "name": "stdout",
     "output_type": "stream",
     "text": [
      "Enter the string:this is my book. This is my car\n",
      "Enter the word you want to check occurences of:This\n",
      "The number of occurences of the word This are 2\n"
     ]
    }
   ],
   "source": [
    "s6=input(\"Enter the string:\")\n",
    "w1=input(\"Enter the word you want to check occurences of:\")\n",
    "#converting both to lowercase\n",
    "s6_lower=s6.lower()\n",
    "w1_lower=w1.lower()\n",
    "#splitting the input text into words\n",
    "word1=s6_lower.split()\n",
    "c=0\n",
    "for i in word1:\n",
    "    if i==w1_lower:\n",
    "        c=c+1\n",
    "print(f\"The number of occurences of the word {w1} are {c}\")\n",
    "\n",
    "#occurrence_count = word1.count(w1_lower)"
   ]
  },
  {
   "cell_type": "markdown",
   "id": "441532ab",
   "metadata": {},
   "source": [
    "**Q12: Find the first occurrence of a word in a string.**"
   ]
  },
  {
   "cell_type": "code",
   "execution_count": 7,
   "id": "91e04818",
   "metadata": {},
   "outputs": [
    {
     "name": "stdout",
     "output_type": "stream",
     "text": [
      "Enter the string:This is a good book. This is not a good book\n",
      "Enter the word you want to check the first occurence of:this\n",
      "The word is at 0 index\n"
     ]
    }
   ],
   "source": [
    "s7=input(\"Enter the string:\")\n",
    "w2=input(\"Enter the word you want to check the first occurence of:\")\n",
    "index=s7.lower().find(w2.lower())\n",
    "if index!=-1:\n",
    "    print(f\"The word is at {index} index\")\n",
    "else:\n",
    "    print(\"The word is not there\")"
   ]
  },
  {
   "cell_type": "markdown",
   "id": "97251731",
   "metadata": {},
   "source": [
    "**Q13: Find the last occurrence of a word in a string.**"
   ]
  },
  {
   "cell_type": "code",
   "execution_count": 11,
   "id": "6ffd6b93",
   "metadata": {},
   "outputs": [
    {
     "name": "stdout",
     "output_type": "stream",
     "text": [
      "Enter the string:This is a good test. She is a Good person.\n",
      "Enter the word you want to check the last occurence of:good\n",
      "The word is at 30 index\n"
     ]
    }
   ],
   "source": [
    "s8=input(\"Enter the string:\")\n",
    "w3=input(\"Enter the word you want to check the last occurence of:\")\n",
    "indx=s8.lower().rfind(w3.lower())\n",
    "if indx!=-1:\n",
    "    print(f\"The word is at {indx} index\")\n",
    "else:\n",
    "    print(\"The word is not there\")"
   ]
  },
  {
   "cell_type": "markdown",
   "id": "3bd17cba",
   "metadata": {},
   "source": [
    "**Q14: Split a string into a list of words.**"
   ]
  },
  {
   "cell_type": "code",
   "execution_count": 14,
   "id": "32af300e",
   "metadata": {},
   "outputs": [
    {
     "name": "stdout",
     "output_type": "stream",
     "text": [
      "Enter a string:hey this is me deepika\n",
      "list of words ['hey', 'this', 'is', 'me', 'deepika']\n"
     ]
    }
   ],
   "source": [
    "s9=input(\"Enter a string:\")\n",
    "w4=s9.split()\n",
    "print(\"list of words\", w4)"
   ]
  },
  {
   "cell_type": "markdown",
   "id": "876e3f6d",
   "metadata": {},
   "source": [
    "**Q15: Join a list of words into a string.**"
   ]
  },
  {
   "cell_type": "code",
   "execution_count": 16,
   "id": "508eb28b",
   "metadata": {},
   "outputs": [
    {
     "name": "stdout",
     "output_type": "stream",
     "text": [
      "Enter the words separated by space:this is my key\n",
      "['this', 'is', 'my', 'key']\n",
      "this is my key\n"
     ]
    }
   ],
   "source": [
    "s10=input(\"Enter the words separated by space:\")\n",
    "w5=s10.split()\n",
    "joined_str=\" \".join(w5)\n",
    "print(w5)\n",
    "print(joined_str)"
   ]
  },
  {
   "cell_type": "markdown",
   "id": "fd9d95a3",
   "metadata": {},
   "source": [
    "**Q16: Convert a string where words are separated by spaces to one where words\n",
    "are separated by underscores.**"
   ]
  },
  {
   "cell_type": "code",
   "execution_count": 17,
   "id": "2f66386a",
   "metadata": {},
   "outputs": [
    {
     "name": "stdout",
     "output_type": "stream",
     "text": [
      "Enter the string:this is my assignment\n",
      "this_is_my_assignment\n"
     ]
    }
   ],
   "source": [
    "s11=input(\"Enter the string:\")\n",
    "new_str=s11.replace(\" \", \"_\")\n",
    "print(new_str)"
   ]
  },
  {
   "cell_type": "markdown",
   "id": "63e71c16",
   "metadata": {},
   "source": [
    "**Q17: Check if a string starts with a specific word or phrase.**"
   ]
  },
  {
   "cell_type": "code",
   "execution_count": 22,
   "id": "5a5bd28a",
   "metadata": {},
   "outputs": [
    {
     "name": "stdout",
     "output_type": "stream",
     "text": [
      "Enter the string:My name is deepika\n",
      "Enter the word or phrase you want to check if it is present in the starting of the string:my name\n",
      "Yes, string starts with my name\n"
     ]
    }
   ],
   "source": [
    "s12=input(\"Enter the string:\")\n",
    "w6=input(\"Enter the word or phrase you want to check if it is present in the starting of the string:\")\n",
    "index1=s12.lower().find(w6.lower())\n",
    "if index1==0:\n",
    "    print(f\"Yes, string starts with {w6}\")\n",
    "else:\n",
    "    print(f\"No, string does not start with {w6}\")\n",
    "#if s12.startswith(w6):    "
   ]
  },
  {
   "cell_type": "markdown",
   "id": "1245facf",
   "metadata": {},
   "source": [
    "**Q18: Check if a string ends with a specific word or phrase.**"
   ]
  },
  {
   "cell_type": "code",
   "execution_count": 1,
   "id": "490ac3a3",
   "metadata": {},
   "outputs": [
    {
     "name": "stdout",
     "output_type": "stream",
     "text": [
      "Enter the string:That is a dog. It is good\n",
      "Enter the word or phrase you want to check if it is present at the end of the string: Good\n",
      "Yes, string ends with Good\n"
     ]
    }
   ],
   "source": [
    "s13=input(\"Enter the string:\")\n",
    "w7=input(\"Enter the word or phrase you want to check if it is present at the end of the string: \")\n",
    "if s13.lower().endswith(w7.lower()):\n",
    "    print(f\"Yes, string ends with {w7}\")\n",
    "else:\n",
    "    print(f\"No, string does not end with {w7}\")"
   ]
  },
  {
   "cell_type": "markdown",
   "id": "54352cde",
   "metadata": {},
   "source": [
    "**Q19: Convert a string to title case.**"
   ]
  },
  {
   "cell_type": "code",
   "execution_count": 2,
   "id": "a7d705af",
   "metadata": {},
   "outputs": [
    {
     "name": "stdout",
     "output_type": "stream",
     "text": [
      "Enter the string:twilight: new moon\n",
      "Twilight: New Moon\n"
     ]
    }
   ],
   "source": [
    "s14=input(\"Enter the string:\")\n",
    "print(s14.title())"
   ]
  },
  {
   "cell_type": "markdown",
   "id": "92325c07",
   "metadata": {},
   "source": [
    "**Q20: Find the longest word in a string.**"
   ]
  },
  {
   "cell_type": "code",
   "execution_count": 6,
   "id": "8cee361f",
   "metadata": {},
   "outputs": [
    {
     "name": "stdout",
     "output_type": "stream",
     "text": [
      "Enter the string:this is my jupyter notebook\n",
      "longest word is notebook\n"
     ]
    }
   ],
   "source": [
    "s15=input(\"Enter the string:\")\n",
    "w8=s15.split()\n",
    "longest_word=\"\"\n",
    "max_length=0\n",
    "for i in w8:\n",
    "    if len(i)>max_length:\n",
    "        max_length=len(i)\n",
    "        longest_word=i\n",
    "print(\"longest word is\", longest_word)      "
   ]
  },
  {
   "cell_type": "markdown",
   "id": "9270779a",
   "metadata": {},
   "source": [
    "**Q21: Find the shortest word in a string.**"
   ]
  },
  {
   "cell_type": "code",
   "execution_count": 10,
   "id": "88bc2cfc",
   "metadata": {},
   "outputs": [
    {
     "name": "stdout",
     "output_type": "stream",
     "text": [
      "Enter the string:this is a good book\n",
      "shortest word is a\n"
     ]
    }
   ],
   "source": [
    "s16=input(\"Enter the string:\")\n",
    "w9=s16.split()\n",
    "shortest_word=\"\"\n",
    "min_length=0\n",
    "for i in w9:\n",
    "    if len(i)<min_length or min_length==0:\n",
    "        min_length=len(i)\n",
    "        shortest_word=i\n",
    "print(\"shortest word is\", shortest_word)"
   ]
  },
  {
   "cell_type": "markdown",
   "id": "80b88906",
   "metadata": {},
   "source": [
    "**Q22: Reverse the order of words in a string.**"
   ]
  },
  {
   "cell_type": "code",
   "execution_count": 14,
   "id": "e3a6fd7b",
   "metadata": {},
   "outputs": [
    {
     "name": "stdout",
     "output_type": "stream",
     "text": [
      "Enter the string:hi this is me deepika\n",
      "deepika me is this hi\n"
     ]
    }
   ],
   "source": [
    "s17=input(\"Enter the string:\")\n",
    "w10=s17.split()\n",
    "reversed_str17=w10[::-1]\n",
    "joined_str17=\" \".join(reversed_str17)\n",
    "print(joined_str17)\n"
   ]
  },
  {
   "cell_type": "markdown",
   "id": "b5ed419c",
   "metadata": {},
   "source": [
    "**Q23: Check if a string is alphanumeric.**"
   ]
  },
  {
   "cell_type": "code",
   "execution_count": 21,
   "id": "239ce5e7",
   "metadata": {},
   "outputs": [
    {
     "name": "stdout",
     "output_type": "stream",
     "text": [
      "Enter the string:hello\n",
      "String is alphanumeric\n"
     ]
    }
   ],
   "source": [
    "s18=input(\"Enter the string:\")\n",
    "if s18.isalnum():\n",
    "    print(\"String is alphanumeric\")\n",
    "else:\n",
    "    print(\"String is not alphanumeric\")"
   ]
  },
  {
   "cell_type": "markdown",
   "id": "f8a58d74",
   "metadata": {},
   "source": [
    "**Q24: Extract all digits from a string.**"
   ]
  },
  {
   "cell_type": "code",
   "execution_count": 28,
   "id": "752dbc89",
   "metadata": {},
   "outputs": [
    {
     "name": "stdout",
     "output_type": "stream",
     "text": [
      "Enter a string:hello123\n",
      "123\n"
     ]
    }
   ],
   "source": [
    "s19=input(\"Enter a string:\")\n",
    "n1=\"\"\n",
    "for i in s19:\n",
    "    if i.isdigit():\n",
    "        n1=n1+i\n",
    "print(n1)  "
   ]
  },
  {
   "cell_type": "markdown",
   "id": "06d5110d",
   "metadata": {},
   "source": [
    "**Q25: Extract all alphabets from a string.**"
   ]
  },
  {
   "cell_type": "code",
   "execution_count": 1,
   "id": "6890d61b",
   "metadata": {},
   "outputs": [
    {
     "name": "stdout",
     "output_type": "stream",
     "text": [
      "Enter a string:hello123\n",
      "hello\n"
     ]
    }
   ],
   "source": [
    "s20=input(\"Enter a string:\")\n",
    "a1=\"\"\n",
    "for i in s20:\n",
    "    if i.isalpha():\n",
    "        a1=a1+i\n",
    "print(a1)"
   ]
  },
  {
   "cell_type": "markdown",
   "id": "fd23fa71",
   "metadata": {},
   "source": [
    "**Q26: Count the number of uppercase letters in a string.**"
   ]
  },
  {
   "cell_type": "code",
   "execution_count": 2,
   "id": "ca125414",
   "metadata": {},
   "outputs": [
    {
     "name": "stdout",
     "output_type": "stream",
     "text": [
      "Enter the string:HE is Aman Gupta\n",
      "4\n"
     ]
    }
   ],
   "source": [
    "s21=input(\"Enter the string:\")\n",
    "c=0\n",
    "for i in s21:\n",
    "    if i.isupper():\n",
    "        c=c+1\n",
    "print(c)"
   ]
  },
  {
   "cell_type": "markdown",
   "id": "54c2ca27",
   "metadata": {},
   "source": [
    "**Q27: Count the number of lowercase letters in a string.**"
   ]
  },
  {
   "cell_type": "code",
   "execution_count": 3,
   "id": "10de2185",
   "metadata": {},
   "outputs": [
    {
     "name": "stdout",
     "output_type": "stream",
     "text": [
      "Enter the string:HE is Aman Gupta\n",
      "9\n"
     ]
    }
   ],
   "source": [
    "s22=input(\"Enter the string:\")\n",
    "c=0\n",
    "for i in s22:\n",
    "    if i.islower():\n",
    "        c=c+1\n",
    "print(c)"
   ]
  },
  {
   "cell_type": "markdown",
   "id": "3d6e8bd2",
   "metadata": {},
   "source": [
    "**Q28: Swap the case of each character in a string.**"
   ]
  },
  {
   "cell_type": "code",
   "execution_count": 7,
   "id": "088ac083",
   "metadata": {},
   "outputs": [
    {
     "name": "stdout",
     "output_type": "stream",
     "text": [
      "Enter a string:HEy i Am chECKing swaPCase\n",
      "heY I aM CHeckING SWApcASE\n"
     ]
    }
   ],
   "source": [
    "s23=input(\"Enter a string:\")\n",
    "print(s23.swapcase())"
   ]
  },
  {
   "cell_type": "markdown",
   "id": "4bb9c627",
   "metadata": {},
   "source": [
    "**Q29: Remove a specific word from a string.**"
   ]
  },
  {
   "cell_type": "code",
   "execution_count": 21,
   "id": "843d778f",
   "metadata": {},
   "outputs": [
    {
     "name": "stdout",
     "output_type": "stream",
     "text": [
      "Enter a string:this is a good book\n",
      "Enter the word you want to remove:good\n",
      "this is a book\n"
     ]
    }
   ],
   "source": [
    "s24=input(\"Enter a string:\")\n",
    "w11=input(\"Enter the word you want to remove:\")\n",
    "new_str=\" \".join(s24.replace(w11,\"\").split())\n",
    "print(new_str)"
   ]
  },
  {
   "cell_type": "markdown",
   "id": "9088a38f",
   "metadata": {},
   "source": [
    "**Q30: Check if a string is a valid email address.**"
   ]
  },
  {
   "cell_type": "code",
   "execution_count": 26,
   "id": "6e9210a3",
   "metadata": {},
   "outputs": [
    {
     "name": "stdout",
     "output_type": "stream",
     "text": [
      "Enter email address:abc@gmail.com\n",
      "It is a valid email address\n"
     ]
    }
   ],
   "source": [
    "import re\n",
    "def is_valid_email(email):\n",
    "    pattern=r'^[\\w\\.-]+@[\\w\\.-]+\\.\\w+$'\n",
    "    if re.match(pattern, email):\n",
    "        return True\n",
    "    else:\n",
    "        return False\n",
    "email_address=input(\"Enter email address:\")\n",
    "if is_valid_email(email_address):\n",
    "    print(\"It is a valid email address\")\n",
    "else:\n",
    "    print(\"It is not a valid email address\")"
   ]
  },
  {
   "cell_type": "markdown",
   "id": "7e8c74c8",
   "metadata": {},
   "source": [
    "**Q31: Extract the username from an email address string.**"
   ]
  },
  {
   "cell_type": "code",
   "execution_count": 2,
   "id": "be4bcbe4",
   "metadata": {},
   "outputs": [
    {
     "name": "stdout",
     "output_type": "stream",
     "text": [
      "Enter the email adress:deepika@gmail.com\n",
      "deepika\n"
     ]
    }
   ],
   "source": [
    "s25=input(\"Enter the email adress:\")\n",
    "username=s25.split('@')[0]\n",
    "print(username)"
   ]
  },
  {
   "cell_type": "markdown",
   "id": "ab3cb40e",
   "metadata": {},
   "source": [
    "**Q32: Extract the domain name from an email address string.**"
   ]
  },
  {
   "cell_type": "code",
   "execution_count": 3,
   "id": "096c75ac",
   "metadata": {},
   "outputs": [
    {
     "name": "stdout",
     "output_type": "stream",
     "text": [
      "Enter the email address:deepika@gmail.com\n",
      "gmail.com\n"
     ]
    }
   ],
   "source": [
    "s26=input(\"Enter the email address:\")\n",
    "domain_name=s26.split('@')[1]\n",
    "print(domain_name)"
   ]
  },
  {
   "cell_type": "markdown",
   "id": "7786904b",
   "metadata": {},
   "source": [
    "**Q33: Replace multiple spaces in a string with a single space.**"
   ]
  },
  {
   "cell_type": "code",
   "execution_count": 4,
   "id": "63cac069",
   "metadata": {},
   "outputs": [
    {
     "name": "stdout",
     "output_type": "stream",
     "text": [
      "Enter the string:this is   a string  with  multiple spaces\n",
      "this is a string with multiple spaces\n"
     ]
    }
   ],
   "source": [
    "s23=input(\"Enter the string:\")\n",
    "g_str=\" \".join(s23.split())\n",
    "print(g_str)"
   ]
  },
  {
   "cell_type": "markdown",
   "id": "53ab5fc9",
   "metadata": {},
   "source": [
    "**Q34: Check if a string is a valid URL.**"
   ]
  },
  {
   "cell_type": "code",
   "execution_count": 5,
   "id": "bac4d62b",
   "metadata": {},
   "outputs": [
    {
     "name": "stdout",
     "output_type": "stream",
     "text": [
      "Collecting validators\n",
      "  Downloading validators-0.21.2-py3-none-any.whl (25 kB)\n",
      "Installing collected packages: validators\n",
      "Successfully installed validators-0.21.2\n",
      "Note: you may need to restart the kernel to use updated packages.\n"
     ]
    },
    {
     "name": "stderr",
     "output_type": "stream",
     "text": [
      "WARNING: Ignoring invalid distribution -ip (c:\\users\\deepi\\appdata\\local\\programs\\python\\python310\\lib\\site-packages)\n",
      "WARNING: Ignoring invalid distribution -ip (c:\\users\\deepi\\appdata\\local\\programs\\python\\python310\\lib\\site-packages)\n",
      "WARNING: Ignoring invalid distribution -ip (c:\\users\\deepi\\appdata\\local\\programs\\python\\python310\\lib\\site-packages)\n",
      "WARNING: Ignoring invalid distribution -ip (c:\\users\\deepi\\appdata\\local\\programs\\python\\python310\\lib\\site-packages)\n",
      "WARNING: Ignoring invalid distribution -ip (c:\\users\\deepi\\appdata\\local\\programs\\python\\python310\\lib\\site-packages)\n",
      "WARNING: Ignoring invalid distribution -ip (c:\\users\\deepi\\appdata\\local\\programs\\python\\python310\\lib\\site-packages)\n",
      "WARNING: Ignoring invalid distribution -ip (c:\\users\\deepi\\appdata\\local\\programs\\python\\python310\\lib\\site-packages)\n"
     ]
    }
   ],
   "source": [
    "pip install validators"
   ]
  },
  {
   "cell_type": "code",
   "execution_count": 6,
   "id": "a5364789",
   "metadata": {},
   "outputs": [],
   "source": [
    "import validators"
   ]
  },
  {
   "cell_type": "code",
   "execution_count": 7,
   "id": "5f4611f7",
   "metadata": {},
   "outputs": [
    {
     "name": "stdout",
     "output_type": "stream",
     "text": [
      "Enter a url:https://www.example.com\n",
      "It is a valid url\n"
     ]
    }
   ],
   "source": [
    "url=input(\"Enter a url:\")\n",
    "if validators.url(url):\n",
    "    print(\"It is a valid url\")\n",
    "else:\n",
    "    print(\"It is not a valid url\")"
   ]
  },
  {
   "cell_type": "markdown",
   "id": "dcf7e4a1",
   "metadata": {},
   "source": [
    "**Q35: Extract the protocol (http or https) from a URL string.**"
   ]
  },
  {
   "cell_type": "code",
   "execution_count": 8,
   "id": "6bd111cc",
   "metadata": {},
   "outputs": [
    {
     "name": "stdout",
     "output_type": "stream",
     "text": [
      "Enter the url:https://www.example.com\n",
      "https\n"
     ]
    }
   ],
   "source": [
    "from urllib.parse import urlparse\n",
    "url=input(\"Enter the url:\")\n",
    "parsed_url=urlparse(url)\n",
    "protocol=parsed_url.scheme\n",
    "print(protocol)"
   ]
  },
  {
   "cell_type": "markdown",
   "id": "1d53a818",
   "metadata": {},
   "source": [
    "**Q36: Find the frequency of each character in a string.**"
   ]
  },
  {
   "cell_type": "code",
   "execution_count": 11,
   "id": "2ec34ddf",
   "metadata": {},
   "outputs": [
    {
     "name": "stdout",
     "output_type": "stream",
     "text": [
      "enter the string:Deepika is a Good girl\n",
      "{'d': 2, 'e': 2, 'p': 1, 'i': 3, 'k': 1, 'a': 2, ' ': 4, 's': 1, 'g': 2, 'o': 2, 'r': 1, 'l': 1}\n"
     ]
    }
   ],
   "source": [
    "def word_counter(s24):\n",
    "    count={}\n",
    "    s24=s24.lower()\n",
    "    for char in s24:\n",
    "        count[char]=s24.count(char)\n",
    "    return count\n",
    "sf=input(\"enter the string:\")\n",
    "x=word_counter(sf)\n",
    "print(x)"
   ]
  },
  {
   "cell_type": "markdown",
   "id": "f550fa42",
   "metadata": {},
   "source": [
    "**Q37: Remove all punctuation from a string.**\n"
   ]
  },
  {
   "cell_type": "code",
   "execution_count": 1,
   "id": "0fb9f6fd",
   "metadata": {},
   "outputs": [
    {
     "name": "stdout",
     "output_type": "stream",
     "text": [
      "Enter the string:Hello, World! This is an example string with punctuation.\n",
      "Hello World This is an example string with punctuation\n"
     ]
    }
   ],
   "source": [
    "import string \n",
    "s27=input(\"Enter the string:\")\n",
    "translator=str.maketrans('','',string.punctuation)\n",
    "cln_string=s27.translate(translator)\n",
    "print(cln_string)"
   ]
  },
  {
   "cell_type": "markdown",
   "id": "ac246b30",
   "metadata": {},
   "source": [
    "**Q38:Check if a string contains only digits.**"
   ]
  },
  {
   "cell_type": "code",
   "execution_count": 3,
   "id": "8c6131d7",
   "metadata": {},
   "outputs": [
    {
     "name": "stdout",
     "output_type": "stream",
     "text": [
      "Enter the string:12345\n",
      "String contains only digits\n"
     ]
    }
   ],
   "source": [
    "s28=input(\"Enter the string:\")\n",
    "if s28.isdigit():\n",
    "    print(\"String contains only digits\")\n",
    "else:\n",
    "    print(\"It contains alphabets too\")"
   ]
  },
  {
   "cell_type": "markdown",
   "id": "55ddacee",
   "metadata": {},
   "source": [
    "**Q39:Check if a string contains only alphabets.**"
   ]
  },
  {
   "cell_type": "code",
   "execution_count": 5,
   "id": "821f3ce4",
   "metadata": {},
   "outputs": [
    {
     "name": "stdout",
     "output_type": "stream",
     "text": [
      "Enter the string:hello\n",
      "String contains only alphabets\n"
     ]
    }
   ],
   "source": [
    "s29=input(\"Enter the string:\")\n",
    "if s29.isalpha():\n",
    "    print(\"String contains only alphabets\")\n",
    "else:\n",
    "    print(\"String contains digits too\")"
   ]
  },
  {
   "cell_type": "markdown",
   "id": "645e9ef2",
   "metadata": {},
   "source": [
    "**Q40:Convert a string to a list of characters.**"
   ]
  },
  {
   "cell_type": "code",
   "execution_count": 6,
   "id": "56c4b3bd",
   "metadata": {},
   "outputs": [
    {
     "name": "stdout",
     "output_type": "stream",
     "text": [
      "Enter a string:hello world\n",
      "['h', 'e', 'l', 'l', 'o', ' ', 'w', 'o', 'r', 'l', 'd']\n"
     ]
    }
   ],
   "source": [
    "s30=input(\"Enter a string:\")\n",
    "chg_str=list(s30)\n",
    "print(chg_str)"
   ]
  },
  {
   "cell_type": "markdown",
   "id": "bad17384",
   "metadata": {},
   "source": [
    "**Q41:Check if two strings are anagrams.**"
   ]
  },
  {
   "cell_type": "code",
   "execution_count": 10,
   "id": "eca466d1",
   "metadata": {},
   "outputs": [
    {
     "name": "stdout",
     "output_type": "stream",
     "text": [
      "Enter the first string:astronomer\n",
      "Enter the second string:moon starer\n",
      "The two strings are anagrams\n"
     ]
    }
   ],
   "source": [
    "s31=input(\"Enter the first string:\")\n",
    "s32=input(\"Enter the second string:\")\n",
    "s31=s31.replace(' ','').lower()\n",
    "s32=s32.replace(' ','').lower()\n",
    "if sorted(s31)==sorted(s32):\n",
    "    print(\"The two strings are anagrams\")\n",
    "else:\n",
    "    print(\"The two strings are not anagrams\")"
   ]
  },
  {
   "cell_type": "markdown",
   "id": "3928a1cd",
   "metadata": {},
   "source": [
    "**Q42: Encode a string using a Caesar cipher.**"
   ]
  },
  {
   "cell_type": "code",
   "execution_count": 23,
   "id": "52014ab0",
   "metadata": {},
   "outputs": [
    {
     "name": "stdout",
     "output_type": "stream",
     "text": [
      "Enter the string:hello\n",
      "encoded: khoor\n"
     ]
    }
   ],
   "source": [
    "s33=input(\"Enter the string:\")\n",
    "shift_amount=3\n",
    "encoded_text=\"\"\n",
    "for char in s33:\n",
    "    if char.isalpha():\n",
    "        if char.isupper():\n",
    "            start=ord('A')\n",
    "        else:\n",
    "            start=ord('a')\n",
    "        shifted=(ord(char)-start+shift_amount)%26+start\n",
    "        encoded_text+=chr(shifted)\n",
    "    else:\n",
    "        encoded_text+=char\n",
    "print(\"encoded:\",encoded_text)\n",
    "     "
   ]
  },
  {
   "cell_type": "markdown",
   "id": "312f38a4",
   "metadata": {},
   "source": [
    "**Q43: Decode a Caesar cipher encoded string.**"
   ]
  },
  {
   "cell_type": "code",
   "execution_count": 24,
   "id": "b48c7410",
   "metadata": {},
   "outputs": [
    {
     "name": "stdout",
     "output_type": "stream",
     "text": [
      "Enter the string:khoor\n",
      "decoded: hello\n"
     ]
    }
   ],
   "source": [
    "s34=input(\"Enter the string:\")\n",
    "shift_amount=3\n",
    "decoded_text=\"\"\n",
    "for char in s34:\n",
    "    if char.isalpha():\n",
    "        if char.isupper():\n",
    "            start=ord('A')\n",
    "        else:\n",
    "            start=ord('a')\n",
    "        shifted=(ord(char)-start-shift_amount)%26+start\n",
    "        decoded_text+=chr(shifted)\n",
    "    else:\n",
    "        decoded_text+=char\n",
    "print(\"decoded:\",decoded_text)"
   ]
  },
  {
   "cell_type": "markdown",
   "id": "038024ef",
   "metadata": {},
   "source": [
    "**Q44: Find the most frequent word in a string.**"
   ]
  },
  {
   "cell_type": "code",
   "execution_count": 26,
   "id": "042a9cdd",
   "metadata": {},
   "outputs": [
    {
     "name": "stdout",
     "output_type": "stream",
     "text": [
      "Enter the string:my name is MY my\n",
      "the most frequent word  is my with frequency 3\n"
     ]
    }
   ],
   "source": [
    "def word_counter(s35):\n",
    "    s35=s35.lower()\n",
    "    words=s35.split()\n",
    "    word_count={}\n",
    "    for word in words:\n",
    "        if word in word_count:\n",
    "            word_count[word]+=1\n",
    "        else:\n",
    "            word_count[word]=1\n",
    "            \n",
    "    most_common_word=\"\"\n",
    "    max_frequency=0\n",
    "    for word,frequency in word_count.items():\n",
    "        if frequency>max_frequency:\n",
    "            most_common_word=word\n",
    "            max_frequency=frequency\n",
    "    return most_common_word,max_frequency\n",
    "sf=input(\"Enter the string:\")\n",
    "most_common_word,max_frequency=word_counter(sf)\n",
    "print(f\"the most frequent word  is {most_common_word} with frequency {max_frequency}\")"
   ]
  },
  {
   "cell_type": "markdown",
   "id": "4bf8b68e",
   "metadata": {},
   "source": [
    "**Q45: Find all unique words in a string.**"
   ]
  },
  {
   "cell_type": "code",
   "execution_count": 1,
   "id": "76886db9",
   "metadata": {},
   "outputs": [
    {
     "name": "stdout",
     "output_type": "stream",
     "text": [
      "Enter the string:my name is MY my\n",
      "Unique words in the text:\n",
      "name\n",
      "is\n"
     ]
    }
   ],
   "source": [
    "def unique_words(s36):\n",
    "    s36=s36.lower()\n",
    "    words=s36.split()\n",
    "    word_count={}\n",
    "    \n",
    "    for word in words:\n",
    "        if word in word_count:\n",
    "            word_count[word]+=1\n",
    "        else:\n",
    "            word_count[word]=1\n",
    "        \n",
    "    unique_word_list=[]\n",
    "    for word,count in word_count.items():\n",
    "        if count==1:\n",
    "            unique_word_list.append(word)\n",
    "    return unique_word_list\n",
    "\n",
    "sg=input(\"Enter the string:\")\n",
    "unique_word_list=unique_words(sg)\n",
    "print(\"Unique words in the text:\")\n",
    "for word in unique_word_list:\n",
    "    print(word)"
   ]
  },
  {
   "cell_type": "markdown",
   "id": "39071169",
   "metadata": {},
   "source": [
    "**Q46: Count the number of syllables in a string.**"
   ]
  },
  {
   "cell_type": "code",
   "execution_count": 4,
   "id": "13886ae6",
   "metadata": {},
   "outputs": [
    {
     "name": "stdout",
     "output_type": "stream",
     "text": [
      "Enter a word:butterfly\n",
      "the word butterfly as 3 syllables\n"
     ]
    }
   ],
   "source": [
    "def count_syllables(w46):\n",
    "    vowels='aeiouy'\n",
    "    w46=w46.lower()\n",
    "    count=0\n",
    "    if w46[0] in vowels:\n",
    "        count+=1\n",
    "        \n",
    "    for i in range(1,len(w46)):\n",
    "        if w46[i] in vowels and w46[i-1] not in vowels:\n",
    "            count+=1\n",
    "    if w46.endswith('e'):\n",
    "        count-=1\n",
    "    if count<=0:\n",
    "        count=1\n",
    "    return count\n",
    "\n",
    "w46=input(\"Enter a word:\")\n",
    "syllable_count=count_syllables(w46)\n",
    "print(f\"the word {w46} as {syllable_count} syllables\")"
   ]
  },
  {
   "cell_type": "markdown",
   "id": "f932d5a6",
   "metadata": {},
   "source": [
    "**Q47: Check if a string contains any special characters.**"
   ]
  },
  {
   "cell_type": "code",
   "execution_count": 8,
   "id": "3bca1cd2",
   "metadata": {},
   "outputs": [
    {
     "name": "stdout",
     "output_type": "stream",
     "text": [
      "Enter a string:helllo123@#\n",
      "The string contains special characters.\n"
     ]
    }
   ],
   "source": [
    "import re\n",
    "def contain_special_characters(s37):\n",
    "    pattern=r'[^a-zA-Z0-9\\s]'\n",
    "    if re.search(pattern,s37):\n",
    "        return True\n",
    "    else:\n",
    "        return False\n",
    "s37=input(\"Enter a string:\")\n",
    "if contain_special_characters(s37):\n",
    "    print(\"The string contains special characters.\")\n",
    "else:\n",
    "    print(\"The string does not contain special characters.\")"
   ]
  },
  {
   "cell_type": "markdown",
   "id": "0e0c6607",
   "metadata": {},
   "source": [
    "**Q48: Remove the nth word from a string.**"
   ]
  },
  {
   "cell_type": "code",
   "execution_count": 15,
   "id": "82280d97",
   "metadata": {},
   "outputs": [
    {
     "name": "stdout",
     "output_type": "stream",
     "text": [
      "Enter the string:my name is deepika\n",
      "Enter the position:3\n",
      "my name deepika\n"
     ]
    }
   ],
   "source": [
    "def remove_nth_word(s38,n48):\n",
    "    w48=s38.split()\n",
    "    if n48>=1 and n48<=len(w48):\n",
    "        w48.pop(n48-1)\n",
    "        r48=' '.join(w48)\n",
    "        return r48\n",
    "    else:\n",
    "        return \"Invalid position\"\n",
    "\n",
    "s38=input(\"Enter the string:\")\n",
    "n48=int(input(\"Enter the position:\"))\n",
    "o1=remove_nth_word(s38,n48)\n",
    "print(o1)\n",
    "        "
   ]
  },
  {
   "cell_type": "markdown",
   "id": "49afe96c",
   "metadata": {},
   "source": [
    "**Q49: Insert a word at the nth position in a string.**"
   ]
  },
  {
   "cell_type": "code",
   "execution_count": 19,
   "id": "ba182adc",
   "metadata": {},
   "outputs": [
    {
     "name": "stdout",
     "output_type": "stream",
     "text": [
      "Enter the string:my name is deepika\n",
      "Enter the word you want to insert:singh\n",
      "Enter the position:5\n",
      "my name is deepika singh\n"
     ]
    }
   ],
   "source": [
    "def insert_word(s39,ww,n49):\n",
    "    w49=s39.split()\n",
    "    if n49>=1 and n49<=len(w49)+1:\n",
    "        w49.insert(n49-1,ww)\n",
    "        r49=' '.join(w49)\n",
    "        return r49\n",
    "    else:\n",
    "        return \"Invalid position\"\n",
    "s39=input(\"Enter the string:\")\n",
    "ww=input(\"Enter the word you want to insert:\")\n",
    "n49=int(input(\"Enter the position:\"))\n",
    "o2=insert_word(s39,ww,n49)\n",
    "print(o2)"
   ]
  },
  {
   "cell_type": "markdown",
   "id": "5126d297",
   "metadata": {},
   "source": [
    "**Q50: Convert a CSV string to a list of lists.**"
   ]
  },
  {
   "cell_type": "code",
   "execution_count": 24,
   "id": "fdf8c9f5",
   "metadata": {},
   "outputs": [
    {
     "name": "stdout",
     "output_type": "stream",
     "text": [
      "['Name', 'Age', 'Location']\n",
      "['Alice', '25', 'New York']\n",
      "['Bob', '30', 'Los Angeles']\n",
      "['Charlie', '22', 'Chicago']\n"
     ]
    }
   ],
   "source": [
    "import csv\n",
    "from io import StringIO\n",
    "def csv_string_list(csv_string):\n",
    "    csv_file=StringIO(csv_string)\n",
    "    reader=csv.reader(csv_file)\n",
    "    data=[row for row in reader]\n",
    "    return data\n",
    "\n",
    "csv_string=\"\"\"Name,Age,Location\n",
    "Alice,25,New York\n",
    "Bob,30,Los Angeles\n",
    "Charlie,22,Chicago\n",
    "\"\"\"\n",
    "r50=csv_string_list(csv_string)\n",
    "for row in r50:\n",
    "    print(row)"
   ]
  },
  {
   "cell_type": "markdown",
   "id": "cc89bf33",
   "metadata": {},
   "source": [
    "# List Based Practice Problems"
   ]
  },
  {
   "cell_type": "markdown",
   "id": "d7d48cef",
   "metadata": {},
   "source": [
    "**Q1: Create a list with integers from 1 to 10.**"
   ]
  },
  {
   "cell_type": "code",
   "execution_count": 2,
   "id": "abd89da4",
   "metadata": {},
   "outputs": [
    {
     "name": "stdout",
     "output_type": "stream",
     "text": [
      "[1, 2, 3, 4, 5, 6, 7, 8, 9, 10]\n"
     ]
    }
   ],
   "source": [
    "l=[]\n",
    "for i in range(1,11):\n",
    "    l.append(i)\n",
    "print(l)"
   ]
  },
  {
   "cell_type": "markdown",
   "id": "7ab7587f",
   "metadata": {},
   "source": [
    "**Q2: Find the length of a list without using the `len()` function.**"
   ]
  },
  {
   "cell_type": "code",
   "execution_count": 11,
   "id": "6d5afb43",
   "metadata": {},
   "outputs": [
    {
     "name": "stdout",
     "output_type": "stream",
     "text": [
      "Enter the elements separated by comma:3,5,7,hi,yes\n",
      "['3', '5', '7', 'hi', 'yes']\n",
      "the no. of elements in the list are: 5\n"
     ]
    }
   ],
   "source": [
    "l2=input(\"Enter the elements separated by comma:\").split(',')\n",
    "print(l2)\n",
    "c=0\n",
    "for i in l2:\n",
    "    c+=1\n",
    "print(\"the no. of elements in the list are:\",c)\n",
    " \n"
   ]
  },
  {
   "cell_type": "markdown",
   "id": "10ec927b",
   "metadata": {},
   "source": [
    "**Q3: Append an element to the end of a list.**"
   ]
  },
  {
   "cell_type": "code",
   "execution_count": 12,
   "id": "3589f865",
   "metadata": {},
   "outputs": [
    {
     "name": "stdout",
     "output_type": "stream",
     "text": [
      "Enter the elements separated by a commaapple,mango,banana\n",
      "enter the element you want to append:cherry\n",
      "['apple', 'mango', 'banana', 'cherry']\n"
     ]
    }
   ],
   "source": [
    "l3=input(\"Enter the elements separated by a comma\").split(',')\n",
    "e1=input(\"enter the element you want to append:\")\n",
    "l3.append(e1)\n",
    "print(l3)"
   ]
  },
  {
   "cell_type": "markdown",
   "id": "df868ce8",
   "metadata": {},
   "source": [
    "**Q4: Insert an element at a specific index in a list.**"
   ]
  },
  {
   "cell_type": "code",
   "execution_count": 14,
   "id": "1dcd0c39",
   "metadata": {},
   "outputs": [
    {
     "name": "stdout",
     "output_type": "stream",
     "text": [
      "enter the index you want to insert the word:2\n",
      "Enter the word:banana\n",
      "['apple', 'mango', 'banana', 'cherry', 456, 345.67]\n"
     ]
    }
   ],
   "source": [
    "l4=['apple','mango','cherry', 456, 345.67]\n",
    "i1=int(input(\"enter the index you want to insert the word:\"))\n",
    "e2=input(\"Enter the word:\")\n",
    "l4.insert(i1,e2)\n",
    "print(l4)"
   ]
  },
  {
   "cell_type": "markdown",
   "id": "988ecf7b",
   "metadata": {},
   "source": [
    "**Q5: Remove an element from a list by its value.**"
   ]
  },
  {
   "cell_type": "code",
   "execution_count": 17,
   "id": "e33ac49e",
   "metadata": {},
   "outputs": [
    {
     "name": "stdout",
     "output_type": "stream",
     "text": [
      "['cat', 'dog', 'parrot', 89.99, 45]\n"
     ]
    }
   ],
   "source": [
    "l5=['cat','dog','parrot',89.99,45,67]\n",
    "l5.remove(67)\n",
    "print(l5)"
   ]
  },
  {
   "cell_type": "markdown",
   "id": "7d5ff981",
   "metadata": {},
   "source": [
    "**Q6: Remove an element from a list by its index.**"
   ]
  },
  {
   "cell_type": "code",
   "execution_count": 19,
   "id": "a65aff13",
   "metadata": {},
   "outputs": [
    {
     "data": {
      "text/plain": [
       "['cat', 'dog', 'parrot', 89.99, 67]"
      ]
     },
     "execution_count": 19,
     "metadata": {},
     "output_type": "execute_result"
    }
   ],
   "source": [
    "l6=['cat','dog','parrot',89.99,45,67]\n",
    "del l6[4]\n",
    "l6"
   ]
  },
  {
   "cell_type": "markdown",
   "id": "ca694ba2",
   "metadata": {},
   "source": [
    "**Q7: Check if an element exists in a list.**"
   ]
  },
  {
   "cell_type": "code",
   "execution_count": 22,
   "id": "ec91b8db",
   "metadata": {},
   "outputs": [
    {
     "name": "stdout",
     "output_type": "stream",
     "text": [
      "Enter the word you want to check:saumya\n",
      "the word saumya is present\n"
     ]
    }
   ],
   "source": [
    "l7=['abhishek','yash','rashi','rohit','rahul','saumya']\n",
    "e3=input(\"Enter the word you want to check:\")\n",
    "if e3 in l7:\n",
    "    print(f\"the word {e3} is present\")\n",
    "else:\n",
    "    print(\"the word is not present\")"
   ]
  },
  {
   "cell_type": "markdown",
   "id": "ed6ad767",
   "metadata": {},
   "source": [
    "**Q8: Find the index of the first occurrence of an element in a list.**"
   ]
  },
  {
   "cell_type": "code",
   "execution_count": 23,
   "id": "a0d889e1",
   "metadata": {},
   "outputs": [
    {
     "name": "stdout",
     "output_type": "stream",
     "text": [
      "Enter the element whose index you want to check:3\n"
     ]
    },
    {
     "data": {
      "text/plain": [
       "2"
      ]
     },
     "execution_count": 23,
     "metadata": {},
     "output_type": "execute_result"
    }
   ],
   "source": [
    "l8=[1,2,3,3,4,5,6,3]\n",
    "e4=int(input(\"Enter the element whose index you want to check:\"))\n",
    "l8.index(e4)"
   ]
  },
  {
   "cell_type": "markdown",
   "id": "b3099eff",
   "metadata": {},
   "source": [
    "**Q9: Count the occurrences of an element in a list.**"
   ]
  },
  {
   "cell_type": "code",
   "execution_count": 28,
   "id": "51befdd3",
   "metadata": {},
   "outputs": [
    {
     "name": "stdout",
     "output_type": "stream",
     "text": [
      "Enter the element whose occurence you want to check:3\n",
      "3\n"
     ]
    }
   ],
   "source": [
    "l9=[1,2,3,3,4,5,6,3]\n",
    "e5=int(input(\"Enter the element whose occurence you want to check:\"))\n",
    "c=0\n",
    "for i in l9:\n",
    "    if i==e5:\n",
    "        c+=1\n",
    "print(c)"
   ]
  },
  {
   "cell_type": "markdown",
   "id": "a4a27f6a",
   "metadata": {},
   "source": [
    "**Q10: Reverse the order of elements in a list.**"
   ]
  },
  {
   "cell_type": "code",
   "execution_count": 2,
   "id": "738c9b14",
   "metadata": {},
   "outputs": [
    {
     "name": "stdout",
     "output_type": "stream",
     "text": [
      "Enter the elements separated by comma:abc,true,xyz\n",
      "['xyz', 'true', 'abc']\n"
     ]
    }
   ],
   "source": [
    "l10=input(\"Enter the elements separated by comma:\").split(',')\n",
    "rev_l10=l10[::-1]\n",
    "print(rev_l10)"
   ]
  },
  {
   "cell_type": "markdown",
   "id": "371556a1",
   "metadata": {},
   "source": [
    "**Q11: Sort a list in ascending order.**"
   ]
  },
  {
   "cell_type": "code",
   "execution_count": 4,
   "id": "3cbf1be6",
   "metadata": {},
   "outputs": [
    {
     "data": {
      "text/plain": [
       "[0, 1, 2, 4, 6, 7, 8, 9]"
      ]
     },
     "execution_count": 4,
     "metadata": {},
     "output_type": "execute_result"
    }
   ],
   "source": [
    "l11=[8,9,4,2,1,7,6,0]\n",
    "sorted(l11)"
   ]
  },
  {
   "cell_type": "markdown",
   "id": "e8eb4baa",
   "metadata": {},
   "source": [
    "**Q12:Sort a list in descending order.**"
   ]
  },
  {
   "cell_type": "code",
   "execution_count": 6,
   "id": "237f84a2",
   "metadata": {},
   "outputs": [
    {
     "data": {
      "text/plain": [
       "[9, 8, 7, 6, 4, 2, 1, 0]"
      ]
     },
     "execution_count": 6,
     "metadata": {},
     "output_type": "execute_result"
    }
   ],
   "source": [
    "l12=[8,9,4,2,1,7,6,0]\n",
    "sorted(l12,reverse=True)"
   ]
  },
  {
   "cell_type": "markdown",
   "id": "174cccca",
   "metadata": {},
   "source": [
    "**Q13:Create a list of even numbers from 1 to 20.**"
   ]
  },
  {
   "cell_type": "code",
   "execution_count": 7,
   "id": "d2626389",
   "metadata": {},
   "outputs": [
    {
     "name": "stdout",
     "output_type": "stream",
     "text": [
      "[2, 4, 6, 8, 10, 12, 14, 16, 18, 20]\n"
     ]
    }
   ],
   "source": [
    "l13=[]\n",
    "for i in range(1,21):\n",
    "    if i%2==0:\n",
    "        l13.append(i)\n",
    "print(l13)"
   ]
  },
  {
   "cell_type": "markdown",
   "id": "dfb37b28",
   "metadata": {},
   "source": [
    "**Q14:Create a list of odd numbers from 1 to 20.**"
   ]
  },
  {
   "cell_type": "code",
   "execution_count": 8,
   "id": "864930ff",
   "metadata": {},
   "outputs": [
    {
     "name": "stdout",
     "output_type": "stream",
     "text": [
      "[1, 3, 5, 7, 9, 11, 13, 15, 17, 19]\n"
     ]
    }
   ],
   "source": [
    "l14=[]\n",
    "for i in range(1,21):\n",
    "    if i%2!=0:\n",
    "        l14.append(i)\n",
    "print(l14)"
   ]
  },
  {
   "cell_type": "markdown",
   "id": "ac4eafe7",
   "metadata": {},
   "source": [
    "**Q15: Find the sum of all elements in a list.**"
   ]
  },
  {
   "cell_type": "code",
   "execution_count": 9,
   "id": "6405d172",
   "metadata": {},
   "outputs": [
    {
     "name": "stdout",
     "output_type": "stream",
     "text": [
      "197.7\n"
     ]
    }
   ],
   "source": [
    "l15=[56,4,2,12.7,45,78]\n",
    "c=0\n",
    "for i in l15:\n",
    "    c=c+i\n",
    "print(c)"
   ]
  },
  {
   "cell_type": "markdown",
   "id": "22823fa5",
   "metadata": {},
   "source": [
    "**Q16: Find the maximum value in a list.**"
   ]
  },
  {
   "cell_type": "code",
   "execution_count": 11,
   "id": "3d067e21",
   "metadata": {},
   "outputs": [
    {
     "data": {
      "text/plain": [
       "56"
      ]
     },
     "execution_count": 11,
     "metadata": {},
     "output_type": "execute_result"
    }
   ],
   "source": [
    "l16=[3,6,9,0,23,56,12,35,1,7]\n",
    "max(l16)"
   ]
  },
  {
   "cell_type": "markdown",
   "id": "ba3a3804",
   "metadata": {},
   "source": [
    "**Q17: Find the minimum value in a list.**"
   ]
  },
  {
   "cell_type": "code",
   "execution_count": 12,
   "id": "6f189975",
   "metadata": {},
   "outputs": [
    {
     "data": {
      "text/plain": [
       "0"
      ]
     },
     "execution_count": 12,
     "metadata": {},
     "output_type": "execute_result"
    }
   ],
   "source": [
    "l17=[3,6,9,0,23,56,12,35,1,7]\n",
    "min(l17)"
   ]
  },
  {
   "cell_type": "markdown",
   "id": "40d5b1ad",
   "metadata": {},
   "source": [
    "**Q18: Create a list of squares of numbers from 1 to 10.**"
   ]
  },
  {
   "cell_type": "code",
   "execution_count": 13,
   "id": "3b7220e1",
   "metadata": {},
   "outputs": [
    {
     "name": "stdout",
     "output_type": "stream",
     "text": [
      "[1, 4, 9, 16, 25, 36, 49, 64, 81, 100]\n"
     ]
    }
   ],
   "source": [
    "l18=[]\n",
    "for i in range(1,11):\n",
    "    l18.append(i**2)\n",
    "print(l18)"
   ]
  },
  {
   "cell_type": "markdown",
   "id": "ed342f49",
   "metadata": {},
   "source": [
    "**Q19: Create a list of random numbers.**"
   ]
  },
  {
   "cell_type": "code",
   "execution_count": 14,
   "id": "191ab032",
   "metadata": {},
   "outputs": [
    {
     "name": "stdout",
     "output_type": "stream",
     "text": [
      "[54, 73, 9, 18, 22, 38, 86, 46, 64, 57]\n"
     ]
    }
   ],
   "source": [
    "import random\n",
    "random_numbers=[]\n",
    "for _ in range(10):\n",
    "    random_num=random.randint(1,100)\n",
    "    random_numbers.append(random_num)\n",
    "print(random_numbers)"
   ]
  },
  {
   "cell_type": "markdown",
   "id": "582f5922",
   "metadata": {},
   "source": [
    "**Q20: Remove duplicates from a list.**"
   ]
  },
  {
   "cell_type": "code",
   "execution_count": 18,
   "id": "11b0ac69",
   "metadata": {},
   "outputs": [
    {
     "data": {
      "text/plain": [
       "[2, 3, 4, 5, 6, 7]"
      ]
     },
     "execution_count": 18,
     "metadata": {},
     "output_type": "execute_result"
    }
   ],
   "source": [
    "l19=[2,2,3,4,3,5,7,4,5,6,7]\n",
    "list(set(l19))"
   ]
  },
  {
   "cell_type": "markdown",
   "id": "2cb593f4",
   "metadata": {},
   "source": [
    "**Q21: Find the common elements between two lists.**"
   ]
  },
  {
   "cell_type": "code",
   "execution_count": 21,
   "id": "68eb646f",
   "metadata": {},
   "outputs": [
    {
     "data": {
      "text/plain": [
       "['banana', 'orange']"
      ]
     },
     "execution_count": 21,
     "metadata": {},
     "output_type": "execute_result"
    }
   ],
   "source": [
    "l20=['apple','banana','cherry','grapes','orange']\n",
    "l21=['banana','orange','kiwi','guava','pineapple']\n",
    "list(set(l20).intersection(set(l21)))"
   ]
  },
  {
   "cell_type": "markdown",
   "id": "4e3359b9",
   "metadata": {},
   "source": [
    "**Q22: Find the difference between two lists.**"
   ]
  },
  {
   "cell_type": "code",
   "execution_count": 22,
   "id": "da3bc865",
   "metadata": {},
   "outputs": [
    {
     "data": {
      "text/plain": [
       "['apple', 'cherry', 'grapes']"
      ]
     },
     "execution_count": 22,
     "metadata": {},
     "output_type": "execute_result"
    }
   ],
   "source": [
    "l22=['apple','banana','cherry','grapes','orange']\n",
    "l23=['banana','orange','kiwi','guava','pineapple']\n",
    "list(set(l20).difference(set(l23)))"
   ]
  },
  {
   "cell_type": "markdown",
   "id": "23a6d581",
   "metadata": {},
   "source": [
    "**Q23: Merge two lists.**"
   ]
  },
  {
   "cell_type": "code",
   "execution_count": 25,
   "id": "f28535d6",
   "metadata": {},
   "outputs": [
    {
     "name": "stdout",
     "output_type": "stream",
     "text": [
      "['apple', 'banana', 'cherry', 'grapes', 'orange', 'banana', 'orange', 'kiwi', 'guava', 'pineapple']\n"
     ]
    }
   ],
   "source": [
    "l23=['apple','banana','cherry','grapes','orange']\n",
    "l24=['banana','orange','kiwi','guava','pineapple']\n",
    "for i in l24:\n",
    "    l23.append(i)\n",
    "print(l23)"
   ]
  },
  {
   "cell_type": "code",
   "execution_count": 33,
   "id": "4c25a9fe",
   "metadata": {},
   "outputs": [
    {
     "name": "stdout",
     "output_type": "stream",
     "text": [
      "[1, 2, 3, 4, 5, 6]\n"
     ]
    }
   ],
   "source": [
    "#or\n",
    "l24=[1,2,3]\n",
    "l25=[4,5,6]\n",
    "m=l24+l25\n",
    "print(m)"
   ]
  },
  {
   "cell_type": "code",
   "execution_count": 35,
   "id": "5133ed32",
   "metadata": {},
   "outputs": [
    {
     "name": "stdout",
     "output_type": "stream",
     "text": [
      "[1, 2, 3, 4, 5, 6]\n"
     ]
    }
   ],
   "source": [
    "#or\n",
    "l24=[1,2,3]\n",
    "l25=[4,5,6]\n",
    "l24.extend(l25)\n",
    "print(l24)"
   ]
  },
  {
   "cell_type": "markdown",
   "id": "eac2f3f9",
   "metadata": {},
   "source": [
    "**Q24: Multiply all elements in a list by 2.**"
   ]
  },
  {
   "cell_type": "code",
   "execution_count": 37,
   "id": "f4363dc9",
   "metadata": {},
   "outputs": [
    {
     "data": {
      "text/plain": [
       "[6, 10, 4, 14, 16]"
      ]
     },
     "execution_count": 37,
     "metadata": {},
     "output_type": "execute_result"
    }
   ],
   "source": [
    "l26=[3,5,2,7,8]\n",
    "list(map(lambda a:a*2,l26))"
   ]
  },
  {
   "cell_type": "markdown",
   "id": "e0451dca",
   "metadata": {},
   "source": [
    "**Q25: Filter out all even numbers from a list.**"
   ]
  },
  {
   "cell_type": "code",
   "execution_count": 40,
   "id": "8d8e459e",
   "metadata": {},
   "outputs": [
    {
     "data": {
      "text/plain": [
       "[2, 6, 56, 8, 90]"
      ]
     },
     "execution_count": 40,
     "metadata": {},
     "output_type": "execute_result"
    }
   ],
   "source": [
    "l27=[2,45,6,43,56,7,8,89,90]\n",
    "list(filter(lambda i:i%2==0,l27))"
   ]
  },
  {
   "cell_type": "markdown",
   "id": "238d2998",
   "metadata": {},
   "source": [
    "**Q26: Convert a list of strings to a list of integers.**"
   ]
  },
  {
   "cell_type": "code",
   "execution_count": 41,
   "id": "3d5faac2",
   "metadata": {},
   "outputs": [
    {
     "data": {
      "text/plain": [
       "[2, 4, 5, 7, 6]"
      ]
     },
     "execution_count": 41,
     "metadata": {},
     "output_type": "execute_result"
    }
   ],
   "source": [
    "l28=['2','4','5','7','6']\n",
    "list(map(lambda i:int(i),l28))"
   ]
  },
  {
   "cell_type": "markdown",
   "id": "3c7e2b09",
   "metadata": {},
   "source": [
    "**Q27: Convert a list of integers to a list of strings.**"
   ]
  },
  {
   "cell_type": "code",
   "execution_count": 42,
   "id": "5cbf7267",
   "metadata": {},
   "outputs": [
    {
     "data": {
      "text/plain": [
       "['2', '4', '5', '7', '6']"
      ]
     },
     "execution_count": 42,
     "metadata": {},
     "output_type": "execute_result"
    }
   ],
   "source": [
    "l29=[2, 4, 5, 7, 6]\n",
    "list(map(lambda i:str(i),l29))"
   ]
  },
  {
   "cell_type": "markdown",
   "id": "09954b41",
   "metadata": {},
   "source": [
    "**Q28: Flatten a nested list.**"
   ]
  },
  {
   "cell_type": "code",
   "execution_count": 1,
   "id": "c3cf98d0",
   "metadata": {},
   "outputs": [
    {
     "name": "stdout",
     "output_type": "stream",
     "text": [
      "[1, 2, 3, 4, 5, 6, 7]\n"
     ]
    }
   ],
   "source": [
    "def flatten(lst):\n",
    "    l31=[]\n",
    "    for item in lst:\n",
    "        if isinstance(item,list):\n",
    "            l31.extend(flatten(item))\n",
    "        else:\n",
    "            l31.append(item)\n",
    "    return l31\n",
    "            \n",
    "l30=[1, [2, 3], [4, [5, 6]], 7]\n",
    "flat_list=flatten(l30)\n",
    "print(flat_list)"
   ]
  },
  {
   "cell_type": "markdown",
   "id": "fb695997",
   "metadata": {},
   "source": [
    "**Q29: Create a list of the first 10 Fibonacci numbers.**"
   ]
  },
  {
   "cell_type": "code",
   "execution_count": 11,
   "id": "0acb34ab",
   "metadata": {},
   "outputs": [
    {
     "name": "stdout",
     "output_type": "stream",
     "text": [
      "[0, 1, 1, 2, 3, 5, 8, 13, 21, 34]\n"
     ]
    }
   ],
   "source": [
    "l32=[]\n",
    "f=0\n",
    "s=1\n",
    "for i in range(10):\n",
    "    l32.append(f)\n",
    "    t=f+s\n",
    "    f=s\n",
    "    s=t\n",
    "print(l32)\n"
   ]
  },
  {
   "cell_type": "markdown",
   "id": "8540cde5",
   "metadata": {},
   "source": [
    "**Q30: Check if a list is sorted.**"
   ]
  },
  {
   "cell_type": "code",
   "execution_count": 14,
   "id": "92a679c6",
   "metadata": {},
   "outputs": [
    {
     "name": "stdout",
     "output_type": "stream",
     "text": [
      "Enter elements separated by comma0,1,2,3,4\n",
      "List is sorted\n"
     ]
    }
   ],
   "source": [
    "l33=input(\"Enter elements separated by comma\").split(',')\n",
    "if sorted(l33)==l33:\n",
    "    print(\"List is sorted\")\n",
    "else:\n",
    "    print(\"List is not sorted\")"
   ]
  },
  {
   "cell_type": "markdown",
   "id": "3a385284",
   "metadata": {},
   "source": [
    "**Q31: Rotate a list to the left by `n` positions.**"
   ]
  },
  {
   "cell_type": "code",
   "execution_count": 18,
   "id": "f0114235",
   "metadata": {},
   "outputs": [
    {
     "name": "stdout",
     "output_type": "stream",
     "text": [
      "Enter the position:2\n",
      "[2, 8, 9, 5, 7, 3, 4]\n"
     ]
    }
   ],
   "source": [
    "l34=[3,4,2,8,9,5,7]\n",
    "n=int(input(\"Enter the position:\"))\n",
    "if n<0:\n",
    "    n=len(l34)+n\n",
    "if n>len(l34):\n",
    "    n=n%len(l34)\n",
    "rotated_list=l34[n:]+l34[:n]\n",
    "print(rotated_list)"
   ]
  },
  {
   "cell_type": "markdown",
   "id": "821d6330",
   "metadata": {},
   "source": [
    "**Q32: Rotate a list to the right by `n` positions.**"
   ]
  },
  {
   "cell_type": "code",
   "execution_count": 23,
   "id": "2020eb54",
   "metadata": {},
   "outputs": [
    {
     "name": "stdout",
     "output_type": "stream",
     "text": [
      "Enter the position:2\n",
      "[5, 7, 3, 4, 2, 8, 9]\n"
     ]
    }
   ],
   "source": [
    "l34=[3,4,2,8,9,5,7]\n",
    "n=int(input(\"Enter the position:\"))\n",
    "if n<0:\n",
    "    n=len(l34)+n\n",
    "if n>len(l34):\n",
    "    n=n%len(l34)\n",
    "rotated_list=l34[-n:]+l34[:-n]\n",
    "print(rotated_list)"
   ]
  },
  {
   "cell_type": "markdown",
   "id": "23b6831f",
   "metadata": {},
   "source": [
    "**Q33: Create a list of prime numbers up to 50.**"
   ]
  },
  {
   "cell_type": "code",
   "execution_count": 28,
   "id": "55fa84f3",
   "metadata": {},
   "outputs": [
    {
     "name": "stdout",
     "output_type": "stream",
     "text": [
      "[2, 3, 5, 7, 11, 13, 17, 19, 23, 29, 31, 37, 41, 43, 47]\n"
     ]
    }
   ],
   "source": [
    "l35=[]\n",
    "for number in range(2, 50): \n",
    "    if number > 1:\n",
    "        for i in range(2, number):\n",
    "            if (number % i) == 0:\n",
    "                break\n",
    "        else:\n",
    "            l35.append(number)\n",
    "print(l35)    "
   ]
  },
  {
   "cell_type": "markdown",
   "id": "d8442c64",
   "metadata": {},
   "source": [
    "**Q34: Split a list into chunks of size `n`.**"
   ]
  },
  {
   "cell_type": "code",
   "execution_count": 36,
   "id": "60c22e8e",
   "metadata": {},
   "outputs": [
    {
     "name": "stdout",
     "output_type": "stream",
     "text": [
      "Enter the chunk size3\n",
      "[[1, 5, 6], [2, 3, 4], [5, 7, 8], [9, 0]]\n"
     ]
    }
   ],
   "source": [
    "l36=[1,5,6,2,3,4,5,7,8,9,0]\n",
    "chunk_size=int(input(\"Enter the chunk size\"))\n",
    "chunks=[]\n",
    "for i in range(0,len(l36),chunk_size):\n",
    "    chunk=l36[i:i+chunk_size]\n",
    "    chunks.append(chunk)\n",
    "print(chunks)\n"
   ]
  },
  {
   "cell_type": "code",
   "execution_count": 37,
   "id": "01216407",
   "metadata": {},
   "outputs": [
    {
     "name": "stdout",
     "output_type": "stream",
     "text": [
      "Enter the chunk size3\n",
      "[1, 5, 6]\n",
      "[2, 3, 4]\n",
      "[5, 7, 8]\n",
      "[9, 0]\n"
     ]
    }
   ],
   "source": [
    "#or\n",
    "l36 = [1, 5, 6, 2, 3, 4, 5, 7, 8, 9, 0]\n",
    "chunk_size = int(input(\"Enter the chunk size\"))\n",
    "for i in range(0, len(l36), chunk_size):\n",
    "    chunk = l36[i:i + chunk_size]\n",
    "    print(chunk)\n"
   ]
  },
  {
   "cell_type": "markdown",
   "id": "bf1373d6",
   "metadata": {},
   "source": [
    "**Q35: Find the second largest number in a list.**"
   ]
  },
  {
   "cell_type": "code",
   "execution_count": 1,
   "id": "03279a42",
   "metadata": {},
   "outputs": [
    {
     "name": "stdout",
     "output_type": "stream",
     "text": [
      "9\n"
     ]
    }
   ],
   "source": [
    "l37=[2,4,5,2,14,7,8,9]\n",
    "sort_l37=sorted(l37)\n",
    "second_largest=sort_l37[-2]\n",
    "print(second_largest)"
   ]
  },
  {
   "cell_type": "markdown",
   "id": "dea4b9de",
   "metadata": {},
   "source": [
    "**Q36: Replace every element in a list with its square.**"
   ]
  },
  {
   "cell_type": "code",
   "execution_count": 3,
   "id": "f30ca8b6",
   "metadata": {},
   "outputs": [
    {
     "data": {
      "text/plain": [
       "[4, 16, 9, 25, 64, 36]"
      ]
     },
     "execution_count": 3,
     "metadata": {},
     "output_type": "execute_result"
    }
   ],
   "source": [
    "l38=[2,4,3,5,8,6]\n",
    "list(map(lambda a:a**2,l38))"
   ]
  },
  {
   "cell_type": "markdown",
   "id": "158d11b5",
   "metadata": {},
   "source": [
    "**Q37: Convert a list to a dictionary where list elements become keys and their\n",
    "indices become values.**"
   ]
  },
  {
   "cell_type": "code",
   "execution_count": 1,
   "id": "ab712bdd",
   "metadata": {},
   "outputs": [
    {
     "name": "stdout",
     "output_type": "stream",
     "text": [
      "{'apple': 0, 'banana': 1, 'cherry': 2, 'orange': 3}\n"
     ]
    }
   ],
   "source": [
    "l39=['apple','banana','cherry','orange']\n",
    "my_dict={}\n",
    "for index,element in enumerate(l39):\n",
    "    my_dict[element]=index\n",
    "print(my_dict)"
   ]
  },
  {
   "cell_type": "markdown",
   "id": "d821a088",
   "metadata": {},
   "source": [
    "**Q38: Shuffle the elements of a list randomly.**"
   ]
  },
  {
   "cell_type": "code",
   "execution_count": 2,
   "id": "ba6adb97",
   "metadata": {},
   "outputs": [
    {
     "name": "stdout",
     "output_type": "stream",
     "text": [
      "[3, 2, 5, 4, 1, 6]\n"
     ]
    }
   ],
   "source": [
    "import random\n",
    "l40=[1,2,3,4,5,6]\n",
    "random.shuffle(l40)\n",
    "print(l40)"
   ]
  },
  {
   "cell_type": "markdown",
   "id": "55d94035",
   "metadata": {},
   "source": [
    "**Q39: Create a list of the first 10 factorial numbers.**"
   ]
  },
  {
   "cell_type": "code",
   "execution_count": 4,
   "id": "a33c306b",
   "metadata": {},
   "outputs": [
    {
     "name": "stdout",
     "output_type": "stream",
     "text": [
      "[1, 2, 6, 24, 120, 720, 5040, 40320, 362880, 3628800]\n"
     ]
    }
   ],
   "source": [
    "l41=[]\n",
    "f=1\n",
    "for i in range(1,11):\n",
    "    f=f*i\n",
    "    l41.append(f)\n",
    "print(l41)"
   ]
  },
  {
   "cell_type": "markdown",
   "id": "84b525de",
   "metadata": {},
   "source": [
    "**Q40: Check if two lists have at least one element in common.**"
   ]
  },
  {
   "cell_type": "code",
   "execution_count": 4,
   "id": "8b4ce091",
   "metadata": {},
   "outputs": [
    {
     "name": "stdout",
     "output_type": "stream",
     "text": [
      "Yes there is at least one common\n"
     ]
    }
   ],
   "source": [
    "l42=['apple','mango','banana','cherry','orange']\n",
    "l43=['grapes','banana','pineapple','strawberry']\n",
    "l42_set=set(l42)\n",
    "l43_set=set(l43)\n",
    "if l42_set.intersection(l43_set):\n",
    "    print(\"Yes there is at least one common\")\n",
    "else:\n",
    "    print(\"Nothing common\")"
   ]
  },
  {
   "cell_type": "markdown",
   "id": "6cac3f5d",
   "metadata": {},
   "source": [
    "**Q41: Remove all elements from a list.**"
   ]
  },
  {
   "cell_type": "code",
   "execution_count": 6,
   "id": "138dab2c",
   "metadata": {},
   "outputs": [
    {
     "name": "stdout",
     "output_type": "stream",
     "text": [
      "[]\n"
     ]
    }
   ],
   "source": [
    "l44=[3,45,24,52,5,3,6,64,643,78]\n",
    "l44.clear()\n",
    "print(l44)"
   ]
  },
  {
   "cell_type": "markdown",
   "id": "efab0da5",
   "metadata": {},
   "source": [
    "**Q42: Replace negative numbers in a list with 0.**"
   ]
  },
  {
   "cell_type": "code",
   "execution_count": 9,
   "id": "5b3a7804",
   "metadata": {},
   "outputs": [
    {
     "name": "stdout",
     "output_type": "stream",
     "text": [
      "[0, 0, 5, 6, 0, 6, 4, 8, 0]\n"
     ]
    }
   ],
   "source": [
    "l45=[-5,-8,5,6,-1,6,4,8,-2]\n",
    "for i in range(len(l45)):\n",
    "    if l45[i]<0:\n",
    "        l45[i]=0\n",
    "print(l45)"
   ]
  },
  {
   "cell_type": "markdown",
   "id": "b6056ff6",
   "metadata": {},
   "source": [
    "**Q43: Convert a string into a list of words.**"
   ]
  },
  {
   "cell_type": "code",
   "execution_count": 10,
   "id": "d820c28e",
   "metadata": {},
   "outputs": [
    {
     "name": "stdout",
     "output_type": "stream",
     "text": [
      "Enter the stringMy name is Deepika Singh\n"
     ]
    },
    {
     "data": {
      "text/plain": [
       "['My', 'name', 'is', 'Deepika', 'Singh']"
      ]
     },
     "execution_count": 10,
     "metadata": {},
     "output_type": "execute_result"
    }
   ],
   "source": [
    "s_43=input(\"Enter the string\")\n",
    "s_43.split(' ')"
   ]
  },
  {
   "cell_type": "markdown",
   "id": "a938585a",
   "metadata": {},
   "source": [
    "**Q44: Convert a list of words into a string.**"
   ]
  },
  {
   "cell_type": "code",
   "execution_count": 3,
   "id": "e73ce985",
   "metadata": {},
   "outputs": [
    {
     "name": "stdout",
     "output_type": "stream",
     "text": [
      "My name is Deepika Singh\n"
     ]
    }
   ],
   "source": [
    "l46=['My', 'name', 'is', 'Deepika', 'Singh']\n",
    "l46_str=\" \".join(l46)\n",
    "print(l46_str)"
   ]
  },
  {
   "cell_type": "markdown",
   "id": "f9b74b42",
   "metadata": {},
   "source": [
    "**Q45: Create a list of the first `n` powers of 2.**"
   ]
  },
  {
   "cell_type": "code",
   "execution_count": 10,
   "id": "a0da41c3",
   "metadata": {},
   "outputs": [
    {
     "name": "stdout",
     "output_type": "stream",
     "text": [
      "Enter the number:10\n",
      "[1, 2, 4, 8, 16, 32, 64, 128, 256, 512]\n"
     ]
    }
   ],
   "source": [
    "n_45=int(input(\"Enter the number:\"))\n",
    "l47=[]\n",
    "for i in range(n_45):\n",
    "    l47.append(2**i)\n",
    "print(l47)"
   ]
  },
  {
   "cell_type": "markdown",
   "id": "5d5993d8",
   "metadata": {},
   "source": [
    "**Q46: Find the longest string in a list of strings.**"
   ]
  },
  {
   "cell_type": "code",
   "execution_count": 12,
   "id": "5a336050",
   "metadata": {},
   "outputs": [
    {
     "name": "stdout",
     "output_type": "stream",
     "text": [
      "mango is the best\n"
     ]
    }
   ],
   "source": [
    "l48=['apple is good','banana is nice','mango is the best','cherry is fine']\n",
    "long_str=max(l48,key=len)\n",
    "print(long_str)"
   ]
  },
  {
   "cell_type": "markdown",
   "id": "853a1bf1",
   "metadata": {},
   "source": [
    "**Q47: Find the shortest string in a list of strings.**"
   ]
  },
  {
   "cell_type": "code",
   "execution_count": 13,
   "id": "f223ff45",
   "metadata": {},
   "outputs": [
    {
     "name": "stdout",
     "output_type": "stream",
     "text": [
      "apple is good\n"
     ]
    }
   ],
   "source": [
    "l48=['apple is good','banana is nice','mango is the best','cherry is fine']\n",
    "short_str=min(l48,key=len)\n",
    "print(short_str)\n"
   ]
  },
  {
   "cell_type": "markdown",
   "id": "2b75a333",
   "metadata": {},
   "source": [
    "**Q48: Create a list of the first `n` triangular numbers.**"
   ]
  },
  {
   "cell_type": "code",
   "execution_count": 18,
   "id": "4eca543a",
   "metadata": {},
   "outputs": [
    {
     "name": "stdout",
     "output_type": "stream",
     "text": [
      "Enter the number:10\n",
      "[1, 3, 6, 10, 15, 21, 28, 36, 45, 55]\n"
     ]
    }
   ],
   "source": [
    "n_48=int(input(\"Enter the number:\"))\n",
    "l49=[]\n",
    "for i in range(1,n_48+1):\n",
    "    l49.append((i*(i+1)//2))\n",
    "print(l49)"
   ]
  },
  {
   "cell_type": "markdown",
   "id": "c618ce26",
   "metadata": {},
   "source": [
    "**Q49: Check if a list contains another list as a subsequence.**"
   ]
  },
  {
   "cell_type": "code",
   "execution_count": 4,
   "id": "2fb08914",
   "metadata": {},
   "outputs": [
    {
     "name": "stdout",
     "output_type": "stream",
     "text": [
      "Subsequence found!\n"
     ]
    }
   ],
   "source": [
    "l50=[1, 2, 3, 4, 5, 6, 7, 8]\n",
    "subsequence=[3, 5, 7]\n",
    "l50_index=0\n",
    "sub_index=0\n",
    "while l50_index<len(l50) and sub_index<len(subsequence):\n",
    "    if l50[l50_index]==subsequence[sub_index]:\n",
    "        sub_index+=1\n",
    "    l50_index+=1\n",
    "if sub_index==len(subsequence):\n",
    "    print(\"Subsequence found!\")\n",
    "else:\n",
    "    print(\"Subsequence not found\")"
   ]
  },
  {
   "cell_type": "markdown",
   "id": "a770d9a2",
   "metadata": {},
   "source": [
    "**Q50: Swap two elements in a list by their indices.**"
   ]
  },
  {
   "cell_type": "code",
   "execution_count": 6,
   "id": "bace720c",
   "metadata": {},
   "outputs": [
    {
     "name": "stdout",
     "output_type": "stream",
     "text": [
      "Enter the index of element you want to replace:2\n",
      "Enter the index of element you want it to be replaced with:5\n",
      "[4, 7, 1, 6, 8, 2, 0]\n"
     ]
    }
   ],
   "source": [
    "l51=[4,7,2,6,8,1,0]\n",
    "a=int(input(\"Enter the index of element you want to replace:\"))\n",
    "b=int(input(\"Enter the index of element you want it to be replaced with:\"))\n",
    "l51[a]=l51[a]+l51[b]\n",
    "l51[b]=l51[a]-l51[b]\n",
    "l51[a]=l51[a]-l51[b]\n",
    "print(l51)"
   ]
  },
  {
   "cell_type": "markdown",
   "id": "2982a205-44a6-4e22-bbb3-8d66a298adf1",
   "metadata": {},
   "source": [
    "#  Tuple Based Practice Problem"
   ]
  },
  {
   "cell_type": "markdown",
   "id": "ba84ca54-3cfd-4a7d-a539-c24a2e7db7d1",
   "metadata": {},
   "source": [
    "**Q1: Create a tuple with integers from 1 to 5.** "
   ]
  },
  {
   "cell_type": "code",
   "execution_count": 4,
   "id": "23ac433e-49db-405c-a12e-17aa4d3282cf",
   "metadata": {},
   "outputs": [
    {
     "name": "stdout",
     "output_type": "stream",
     "text": [
      "(1, 2, 3, 4, 5)\n"
     ]
    }
   ],
   "source": [
    "t=tuple(i for i in range(1,6))\n",
    "print(t)"
   ]
  },
  {
   "cell_type": "markdown",
   "id": "81f39327-bb39-4e37-9640-8ab15f4e060c",
   "metadata": {},
   "source": [
    "**Q2: Access the third element of a tuple.**"
   ]
  },
  {
   "cell_type": "code",
   "execution_count": 5,
   "id": "8643c6f0-9cbf-4544-83dc-0b33608c8f78",
   "metadata": {},
   "outputs": [
    {
     "data": {
      "text/plain": [
       "2"
      ]
     },
     "execution_count": 5,
     "metadata": {},
     "output_type": "execute_result"
    }
   ],
   "source": [
    "t1=(6,3,2,7,9)\n",
    "t1[2]"
   ]
  },
  {
   "cell_type": "markdown",
   "id": "84271235-2b88-47f7-af5e-a37b6c98537e",
   "metadata": {},
   "source": [
    "**Q3: Find the length of a tuple without using the `len()` function.**"
   ]
  },
  {
   "cell_type": "code",
   "execution_count": 6,
   "id": "bb55cc3c-1090-4554-a056-ea1e79bf64a8",
   "metadata": {},
   "outputs": [
    {
     "name": "stdout",
     "output_type": "stream",
     "text": [
      "5\n"
     ]
    }
   ],
   "source": [
    "t1=(6,3,2,7,9)\n",
    "c=0\n",
    "for i in t1:\n",
    "    c=c+1\n",
    "print(c)\n",
    "    "
   ]
  },
  {
   "cell_type": "markdown",
   "id": "3a85909e-30d7-4394-a88e-79773754a602",
   "metadata": {},
   "source": [
    "**Q4: Count the occurrences of an element in a tuple.**"
   ]
  },
  {
   "cell_type": "code",
   "execution_count": 7,
   "id": "4a24705f-9c84-4b87-ac31-43b5eba71156",
   "metadata": {},
   "outputs": [
    {
     "data": {
      "text/plain": [
       "3"
      ]
     },
     "execution_count": 7,
     "metadata": {},
     "output_type": "execute_result"
    }
   ],
   "source": [
    "t2=(3,6,3,5,5,5,7,9,6)\n",
    "t2.count(5)"
   ]
  },
  {
   "cell_type": "markdown",
   "id": "0ffd15ae-6dfb-434c-95ab-f09fef06eeb3",
   "metadata": {},
   "source": [
    "**Q5: Find the index of the first occurrence of an element in a tuple.**"
   ]
  },
  {
   "cell_type": "code",
   "execution_count": 8,
   "id": "104faa17-b599-46f5-9fcc-cb210a5e0f61",
   "metadata": {},
   "outputs": [
    {
     "data": {
      "text/plain": [
       "3"
      ]
     },
     "execution_count": 8,
     "metadata": {},
     "output_type": "execute_result"
    }
   ],
   "source": [
    "t3=(3,5,7,9,5,9,8,9)\n",
    "t3.index(9)"
   ]
  },
  {
   "cell_type": "markdown",
   "id": "caae9a72-0f32-421a-ba3c-54c77332e544",
   "metadata": {},
   "source": [
    "**Q6: Check if an element exists in a tuple.**"
   ]
  },
  {
   "cell_type": "code",
   "execution_count": 9,
   "id": "6e647bdd-7058-4c9a-9a25-716c4e2e6f4b",
   "metadata": {},
   "outputs": [
    {
     "name": "stdout",
     "output_type": "stream",
     "text": [
      "yes it exists\n"
     ]
    }
   ],
   "source": [
    "t4=('apple',67,'deep','cherry')\n",
    "if 'apple' in t4:\n",
    "    print(\"yes it exists\")\n",
    "else:\n",
    "    print(\"no it does not\")"
   ]
  },
  {
   "cell_type": "markdown",
   "id": "6a9cbaea-d85b-4e9f-81f1-c5ee70ad7c5a",
   "metadata": {},
   "source": [
    "**Q7: Convert a tuple to a list.**"
   ]
  },
  {
   "cell_type": "code",
   "execution_count": 10,
   "id": "8b40dc12-730d-48a6-93b7-90b68bd50fe1",
   "metadata": {},
   "outputs": [
    {
     "data": {
      "text/plain": [
       "['apple', 67, 'deep', 'cherry']"
      ]
     },
     "execution_count": 10,
     "metadata": {},
     "output_type": "execute_result"
    }
   ],
   "source": [
    "list(t4)"
   ]
  },
  {
   "cell_type": "markdown",
   "id": "d2e3b104-e0c0-453b-858b-cb4ae949d371",
   "metadata": {},
   "source": [
    "**Q8: Convert a list to a tuple.**"
   ]
  },
  {
   "cell_type": "code",
   "execution_count": 12,
   "id": "096c7a2b-cb22-49f3-9336-cd8667d68a48",
   "metadata": {},
   "outputs": [
    {
     "data": {
      "text/plain": [
       "(34, 'hello', 67.8, 'cherry')"
      ]
     },
     "execution_count": 12,
     "metadata": {},
     "output_type": "execute_result"
    }
   ],
   "source": [
    "t5=[34,'hello',67.8,'cherry']\n",
    "tuple(t5)"
   ]
  },
  {
   "cell_type": "markdown",
   "id": "2a19a775-f7cb-4bcb-8a51-634efe48074b",
   "metadata": {},
   "source": [
    "**Q9: Unpack the elements of a tuple into variables.**"
   ]
  },
  {
   "cell_type": "code",
   "execution_count": 13,
   "id": "d7c2902f-758e-4287-84e3-3aabf80e01dc",
   "metadata": {},
   "outputs": [
    {
     "name": "stdout",
     "output_type": "stream",
     "text": [
      "apple orange banana\n"
     ]
    }
   ],
   "source": [
    "t6=('apple','orange','banana')\n",
    "a,b,c=t6\n",
    "print(a,b,c)"
   ]
  },
  {
   "cell_type": "markdown",
   "id": "e408f136-4f26-4e5c-a308-575467fd559b",
   "metadata": {},
   "source": [
    "**Q10: Create a tuple of even numbers from 1 to 10.**"
   ]
  },
  {
   "cell_type": "code",
   "execution_count": 16,
   "id": "a04cd316-2071-451c-a8a4-b775ea368d3c",
   "metadata": {},
   "outputs": [
    {
     "name": "stdout",
     "output_type": "stream",
     "text": [
      "(2, 4, 6, 8, 10)\n"
     ]
    }
   ],
   "source": [
    "t7=tuple(i for i in range(1,11) if i%2==0)\n",
    "print(t7)"
   ]
  },
  {
   "cell_type": "markdown",
   "id": "5b9f8566-d902-4b6d-b123-cd5240862cb3",
   "metadata": {},
   "source": [
    "**Q11: Create a tuple of odd numbers from 1 to 10.**"
   ]
  },
  {
   "cell_type": "code",
   "execution_count": 17,
   "id": "cf1d1459-a2ad-4a84-9b2d-3a277f0cd8ee",
   "metadata": {},
   "outputs": [
    {
     "name": "stdout",
     "output_type": "stream",
     "text": [
      "(1, 3, 5, 7, 9)\n"
     ]
    }
   ],
   "source": [
    "t8=tuple(i for i in range(1,11) if i%2!=0)\n",
    "print(t8)"
   ]
  },
  {
   "cell_type": "markdown",
   "id": "e15911ac-730f-46a3-b6a1-52115faa2f0e",
   "metadata": {},
   "source": [
    "**Q12: Concatenate two tuples.**"
   ]
  },
  {
   "cell_type": "code",
   "execution_count": 18,
   "id": "9cf3e550-cfad-4491-bd24-2b5d88669c86",
   "metadata": {},
   "outputs": [
    {
     "data": {
      "text/plain": [
       "(2, 4, 6, 8, 10, 1, 3, 5, 7, 9)"
      ]
     },
     "execution_count": 18,
     "metadata": {},
     "output_type": "execute_result"
    }
   ],
   "source": [
    "t7+t8"
   ]
  },
  {
   "cell_type": "markdown",
   "id": "0c0ac1ba-7cde-4d4a-8108-b9f329aa2e72",
   "metadata": {},
   "source": [
    "**Q13: Repeat a tuple three times.**"
   ]
  },
  {
   "cell_type": "code",
   "execution_count": 19,
   "id": "adbe71e3-bf9e-4750-b0dc-797719389346",
   "metadata": {},
   "outputs": [
    {
     "data": {
      "text/plain": [
       "(2, 4, 6, 8, 10, 2, 4, 6, 8, 10, 2, 4, 6, 8, 10)"
      ]
     },
     "execution_count": 19,
     "metadata": {},
     "output_type": "execute_result"
    }
   ],
   "source": [
    "t7*3"
   ]
  },
  {
   "cell_type": "markdown",
   "id": "3e470b42-5926-4c60-9a20-ce1a943ad285",
   "metadata": {},
   "source": [
    "**Q14: Check if a tuple is empty.**"
   ]
  },
  {
   "cell_type": "code",
   "execution_count": 20,
   "id": "48bc54d6-9384-4722-aa38-9cb776ed04e9",
   "metadata": {},
   "outputs": [
    {
     "name": "stdout",
     "output_type": "stream",
     "text": [
      "tuple is empty\n"
     ]
    }
   ],
   "source": [
    "t9=()\n",
    "if len(t9)==0:\n",
    "    print(\"tuple is empty\")\n",
    "else:\n",
    "    print(\"not empty\")"
   ]
  },
  {
   "cell_type": "markdown",
   "id": "7dd82015-c8da-426a-becb-0db76e9e966f",
   "metadata": {},
   "source": [
    "**Q15: Create a nested tuple.**"
   ]
  },
  {
   "cell_type": "code",
   "execution_count": 22,
   "id": "8b3d794f-e094-4f3f-9527-39690c309411",
   "metadata": {},
   "outputs": [
    {
     "name": "stdout",
     "output_type": "stream",
     "text": [
      "(('a', 'b', 'c'), (1, 2, 3), (True, False))\n"
     ]
    }
   ],
   "source": [
    "t10=(('a','b','c'),(1,2,3),(True,False))\n",
    "print(t10)"
   ]
  },
  {
   "cell_type": "markdown",
   "id": "f68f5864-5346-4546-8504-b0c54c169450",
   "metadata": {},
   "source": [
    "**Q16: Access the first element of a nested tuple.**"
   ]
  },
  {
   "cell_type": "code",
   "execution_count": 23,
   "id": "157811d1-1dee-456e-a5ac-0fe00190b005",
   "metadata": {},
   "outputs": [
    {
     "data": {
      "text/plain": [
       "'a'"
      ]
     },
     "execution_count": 23,
     "metadata": {},
     "output_type": "execute_result"
    }
   ],
   "source": [
    "t10[0][0]"
   ]
  },
  {
   "cell_type": "markdown",
   "id": "76b2061f-a162-476c-99ce-7ee6782d910c",
   "metadata": {},
   "source": [
    "**Q17: Create a tuple with a single element.**"
   ]
  },
  {
   "cell_type": "code",
   "execution_count": 25,
   "id": "d611359c-081d-4ce4-99c2-da342f5e0c5a",
   "metadata": {},
   "outputs": [
    {
     "data": {
      "text/plain": [
       "tuple"
      ]
     },
     "execution_count": 25,
     "metadata": {},
     "output_type": "execute_result"
    }
   ],
   "source": [
    "t11=(8,)\n",
    "type(t11)"
   ]
  },
  {
   "cell_type": "markdown",
   "id": "727a33ff-9013-48ce-91f6-898b583764ec",
   "metadata": {},
   "source": [
    "**Q18: Compare two tuples.**"
   ]
  },
  {
   "cell_type": "code",
   "execution_count": 26,
   "id": "13ad9256-6218-48fa-8256-d2fd32026081",
   "metadata": {},
   "outputs": [
    {
     "name": "stdout",
     "output_type": "stream",
     "text": [
      "not equal\n"
     ]
    }
   ],
   "source": [
    "if t7==t8:\n",
    "    print(\"equal\")\n",
    "else:\n",
    "    print(\"not equal\")"
   ]
  },
  {
   "cell_type": "markdown",
   "id": "ff430775-ff9d-4106-abf8-e5b8afcae2b8",
   "metadata": {},
   "source": [
    "**Q19: Delete a tuple.**"
   ]
  },
  {
   "cell_type": "code",
   "execution_count": 27,
   "id": "98476fdf-8fb7-4186-98ca-74503251821e",
   "metadata": {},
   "outputs": [],
   "source": [
    "t12=(6,9,0,7,5,4)\n",
    "del t12"
   ]
  },
  {
   "cell_type": "code",
   "execution_count": 28,
   "id": "dbbf0bb4-c145-4176-bf8a-448798e73e31",
   "metadata": {},
   "outputs": [
    {
     "ename": "NameError",
     "evalue": "name 't12' is not defined",
     "output_type": "error",
     "traceback": [
      "\u001b[1;31m---------------------------------------------------------------------------\u001b[0m",
      "\u001b[1;31mNameError\u001b[0m                                 Traceback (most recent call last)",
      "Cell \u001b[1;32mIn[28], line 1\u001b[0m\n\u001b[1;32m----> 1\u001b[0m \u001b[38;5;28mprint\u001b[39m(\u001b[43mt12\u001b[49m)\n",
      "\u001b[1;31mNameError\u001b[0m: name 't12' is not defined"
     ]
    }
   ],
   "source": [
    "print(t12)"
   ]
  },
  {
   "cell_type": "markdown",
   "id": "e0b5ac96-810d-4e88-a2db-8036c7f7fd05",
   "metadata": {},
   "source": [
    "**Q20: Slice a tuple.**"
   ]
  },
  {
   "cell_type": "code",
   "execution_count": 29,
   "id": "ec7115c1-ed48-42a5-917a-d7622c6a121c",
   "metadata": {},
   "outputs": [
    {
     "data": {
      "text/plain": [
       "(8, 5)"
      ]
     },
     "execution_count": 29,
     "metadata": {},
     "output_type": "execute_result"
    }
   ],
   "source": [
    "t13=(1,8,5,9,0,4)\n",
    "t13[1:3]"
   ]
  },
  {
   "cell_type": "markdown",
   "id": "bdc87046-93c8-469e-b035-5232bc0e200e",
   "metadata": {},
   "source": [
    "**Q21: Find the maximum value in a tuple.**"
   ]
  },
  {
   "cell_type": "code",
   "execution_count": 2,
   "id": "6b563aa4-470a-4108-9b64-2c61cead7e34",
   "metadata": {},
   "outputs": [
    {
     "name": "stdout",
     "output_type": "stream",
     "text": [
      "9\n"
     ]
    }
   ],
   "source": [
    "t13=(1,8,5,9,0,4)\n",
    "max_t13=max(t13)\n",
    "print(max_t13)"
   ]
  },
  {
   "cell_type": "markdown",
   "id": "4e25394a-0895-4623-a348-2f6a7d1d6d81",
   "metadata": {},
   "source": [
    "**Q22: Find the minimum value in a tuple.**"
   ]
  },
  {
   "cell_type": "code",
   "execution_count": 3,
   "id": "f864e6d6-8020-4dc1-82c6-14038cceb9c6",
   "metadata": {},
   "outputs": [
    {
     "name": "stdout",
     "output_type": "stream",
     "text": [
      "0\n"
     ]
    }
   ],
   "source": [
    "t13=(1,8,5,9,0,4)\n",
    "min_t13=min(t13)\n",
    "print(min_t13)"
   ]
  },
  {
   "cell_type": "markdown",
   "id": "5799f8b0-3599-443e-890b-f6697b69b8fa",
   "metadata": {},
   "source": [
    "**Q23: Convert a string to a tuple of characters.**"
   ]
  },
  {
   "cell_type": "code",
   "execution_count": 4,
   "id": "6ba875bf-7f8c-4004-9428-dee328d207fc",
   "metadata": {},
   "outputs": [
    {
     "name": "stdout",
     "output_type": "stream",
     "text": [
      "('d', 'e', 'e', 'p', 'i', 'k', 'a')\n"
     ]
    }
   ],
   "source": [
    "ts=tuple('deepika')\n",
    "print(ts)\n",
    "\n"
   ]
  },
  {
   "cell_type": "markdown",
   "id": "244955b8-002e-4cfd-a82f-48758a1819f9",
   "metadata": {},
   "source": [
    "**Q24: Convert a tuple of characters to a string.**"
   ]
  },
  {
   "cell_type": "code",
   "execution_count": 7,
   "id": "7973a122-3c8e-4083-ba37-9caa7d3ec6db",
   "metadata": {},
   "outputs": [
    {
     "name": "stdout",
     "output_type": "stream",
     "text": [
      "hello\n"
     ]
    },
    {
     "data": {
      "text/plain": [
       "str"
      ]
     },
     "execution_count": 7,
     "metadata": {},
     "output_type": "execute_result"
    }
   ],
   "source": [
    "t14=('h','e','l','l','o')\n",
    "ts1=''.join(t14)\n",
    "print(ts1)\n",
    "type(ts1)"
   ]
  },
  {
   "cell_type": "markdown",
   "id": "b51012d7-8c3b-4cd5-9104-ef7d7c19c53a",
   "metadata": {},
   "source": [
    "**Q25: Create a tuple from multiple data types.**"
   ]
  },
  {
   "cell_type": "code",
   "execution_count": 8,
   "id": "e86930bd-d1cc-4ace-bc34-96cabb180082",
   "metadata": {},
   "outputs": [
    {
     "name": "stdout",
     "output_type": "stream",
     "text": [
      "(10, 'hello', True, 3.14)\n"
     ]
    }
   ],
   "source": [
    "t15=(10,'hello',True,3.14)\n",
    "print(t15)"
   ]
  },
  {
   "cell_type": "markdown",
   "id": "9c5c03e6-30e2-40a1-8b86-87026c85af7c",
   "metadata": {},
   "source": [
    "**Q26: Check if two tuples are identical.**"
   ]
  },
  {
   "cell_type": "code",
   "execution_count": 9,
   "id": "6d20e422-3a07-485d-a071-997a9a532ce2",
   "metadata": {},
   "outputs": [
    {
     "name": "stdout",
     "output_type": "stream",
     "text": [
      "identical\n"
     ]
    }
   ],
   "source": [
    "t15=(10,'hello',True,3.14)\n",
    "t16=(10,'hello',True,3.14)\n",
    "if t15==t16:\n",
    "    print(\"identical\")\n",
    "else:\n",
    "    print(\"not identical\")"
   ]
  },
  {
   "cell_type": "markdown",
   "id": "68972fac-5309-4586-96f0-d2bd7388b31e",
   "metadata": {},
   "source": [
    "**Q27: Sort the elements of a tuple.**"
   ]
  },
  {
   "cell_type": "code",
   "execution_count": 14,
   "id": "4a91c55b-2437-4aa0-a8cb-dad98a87d761",
   "metadata": {},
   "outputs": [
    {
     "name": "stdout",
     "output_type": "stream",
     "text": [
      "(0, 1, 4, 5, 8, 9)\n"
     ]
    }
   ],
   "source": [
    "t17=tuple(sorted((1,8,5,9,0,4)))\n",
    "print(t17)"
   ]
  },
  {
   "cell_type": "markdown",
   "id": "7f205b55-f6c5-4983-977c-5ac28967ca4c",
   "metadata": {},
   "source": [
    "**Q28: Convert a tuple of integers to a tuple of strings.**"
   ]
  },
  {
   "cell_type": "code",
   "execution_count": 18,
   "id": "26c4411e-74dd-47e5-98ec-54231a46162c",
   "metadata": {},
   "outputs": [
    {
     "name": "stdout",
     "output_type": "stream",
     "text": [
      "('3', '5', '1', '7', '9', '0', '3', '6')\n"
     ]
    },
    {
     "data": {
      "text/plain": [
       "tuple"
      ]
     },
     "execution_count": 18,
     "metadata": {},
     "output_type": "execute_result"
    }
   ],
   "source": [
    "t18=(3,5,1,7,9,0,3,6)\n",
    "ts2= tuple(str(i) for i in t18)\n",
    "print(ts2)\n",
    "type(ts2)"
   ]
  },
  {
   "cell_type": "markdown",
   "id": "f013cca4-8710-4fa5-9437-f1f8a70d58d5",
   "metadata": {},
   "source": [
    "**Q29: Convert a tuple of strings to a tuple of integers.**"
   ]
  },
  {
   "cell_type": "code",
   "execution_count": 19,
   "id": "cb81492f-1ac9-413c-8e02-233b1ada19bc",
   "metadata": {},
   "outputs": [
    {
     "name": "stdout",
     "output_type": "stream",
     "text": [
      "(4, 6, 9, 7, 8)\n"
     ]
    },
    {
     "data": {
      "text/plain": [
       "tuple"
      ]
     },
     "execution_count": 19,
     "metadata": {},
     "output_type": "execute_result"
    }
   ],
   "source": [
    "t19=('4','6','9','7','8')\n",
    "ts3=tuple(int(i) for i in t19)\n",
    "print(ts3)\n",
    "type(ts3)"
   ]
  },
  {
   "cell_type": "markdown",
   "id": "7fda77aa-2721-430a-83db-4ffcb3af2e24",
   "metadata": {},
   "source": [
    "**Q30: Merge two tuples.**"
   ]
  },
  {
   "cell_type": "code",
   "execution_count": 20,
   "id": "a3cdcc56-f300-4cd3-8aae-586cbe2cb0f6",
   "metadata": {},
   "outputs": [
    {
     "name": "stdout",
     "output_type": "stream",
     "text": [
      "('hello', 56, True, 4, 6, 8, 'apple')\n"
     ]
    }
   ],
   "source": [
    "t20=('hello',56,True)\n",
    "t21=(4,6,8,'apple')\n",
    "ts4=t20+t21\n",
    "print(ts4)"
   ]
  },
  {
   "cell_type": "markdown",
   "id": "49583105-30d9-4976-902c-442ec07e0246",
   "metadata": {},
   "source": [
    "**Q31: Flatten a nested tuple.**"
   ]
  },
  {
   "cell_type": "code",
   "execution_count": 29,
   "id": "40650591-c2e2-4f00-87df-18672d762a10",
   "metadata": {},
   "outputs": [
    {
     "name": "stdout",
     "output_type": "stream",
     "text": [
      "('a', 'b', 'c', 1, 2, 3, True, False, 9, 0)\n"
     ]
    }
   ],
   "source": [
    "t10=(('a','b','c'),(1,2,3),(True,False),9,0)  \n",
    "def flatten_tuple(t10):\n",
    "    flat_list=[]\n",
    "    for i in t10:\n",
    "        if type(i)==tuple:\n",
    "            flat_list.extend(flatten_tuple(i))\n",
    "        else:\n",
    "            flat_list.append(i)\n",
    "    return tuple(flat_list)\n",
    "\n",
    "flattened_tuple=flatten_tuple(t10)\n",
    "print(flattened_tuple)"
   ]
  },
  {
   "cell_type": "markdown",
   "id": "a38e9dce-79cc-44a7-8e32-32d39f94beea",
   "metadata": {},
   "source": [
    "**Q32: Create a tuple of the first 5 prime numbers.**"
   ]
  },
  {
   "cell_type": "code",
   "execution_count": 48,
   "id": "ccb928c6-af0d-428e-b71e-d80f3418d32d",
   "metadata": {},
   "outputs": [
    {
     "name": "stdout",
     "output_type": "stream",
     "text": [
      "(2, 3, 5, 7, 11)\n"
     ]
    }
   ],
   "source": [
    "t22=[]\n",
    "for n in range(2,50):\n",
    "      if n>1:\n",
    "          for i in range(2,n):\n",
    "              if n%i==0:\n",
    "                  break\n",
    "          else:\n",
    "              t22.append(n)\n",
    "      if len(t22) >=5:\n",
    "            break\n",
    "print(tuple(t22))"
   ]
  },
  {
   "cell_type": "markdown",
   "id": "9735ab1c-e828-45b0-bb69-81d225f09ac0",
   "metadata": {},
   "source": [
    "**Q33: Check if a tuple is a palindrome.**"
   ]
  },
  {
   "cell_type": "code",
   "execution_count": 52,
   "id": "55072c0f-506b-4dd1-a42f-5aee2469386a",
   "metadata": {},
   "outputs": [
    {
     "name": "stdout",
     "output_type": "stream",
     "text": [
      "tuple is pallindrome\n"
     ]
    }
   ],
   "source": [
    "t23=(1, 2, 5, 2, 1)\n",
    "ts5=list(t23)\n",
    "rev_ts5=ts5[::-1]\n",
    "if rev_ts5==ts5:\n",
    "    print(\"tuple is pallindrome\")\n",
    "else:\n",
    "    print(\"not pallindrome\")"
   ]
  },
  {
   "cell_type": "markdown",
   "id": "5a2370a2-afeb-4440-a824-4e010e3ba961",
   "metadata": {},
   "source": [
    "**Q34: Create a tuple of squares of numbers from 1 to 5.**"
   ]
  },
  {
   "cell_type": "code",
   "execution_count": 53,
   "id": "94aedaf2-24d0-42e7-bf5b-f67103f5d66b",
   "metadata": {},
   "outputs": [
    {
     "name": "stdout",
     "output_type": "stream",
     "text": [
      "(1, 4, 9, 16, 25)\n"
     ]
    }
   ],
   "source": [
    "t24=[]\n",
    "for i in range(1,6):\n",
    "    t24.append(i**2)\n",
    "print(tuple(t24))"
   ]
  },
  {
   "cell_type": "markdown",
   "id": "b26f968c-b9e1-47a3-bb3b-7f4f930e9a16",
   "metadata": {},
   "source": [
    "**Q35: Filter out all even numbers from a tuple.**"
   ]
  },
  {
   "cell_type": "code",
   "execution_count": 55,
   "id": "0ff4f5c4-8596-40f8-aa00-747b45db6832",
   "metadata": {},
   "outputs": [
    {
     "name": "stdout",
     "output_type": "stream",
     "text": [
      "(6, 0, 8, 4, 2)\n"
     ]
    }
   ],
   "source": [
    "ts6=[]\n",
    "t25=(7,3,6,0,8,4,2,1)\n",
    "for i in t25:\n",
    "    if i%2==0:\n",
    "        ts6.append(i)\n",
    "print(tuple(ts6))"
   ]
  },
  {
   "cell_type": "markdown",
   "id": "36f75719-1e8c-4437-a532-8a0a2ed9cffc",
   "metadata": {},
   "source": [
    "**Q36: Multiply all elements in a tuple by 2.**"
   ]
  },
  {
   "cell_type": "code",
   "execution_count": 56,
   "id": "679a300c-2534-44e5-8b3d-2e64c05ba182",
   "metadata": {},
   "outputs": [
    {
     "name": "stdout",
     "output_type": "stream",
     "text": [
      "(14, 6, 12, 0, 16, 8, 4, 2)\n"
     ]
    }
   ],
   "source": [
    "ts7=[]\n",
    "t26=(7,3,6,0,8,4,2,1)\n",
    "for i in t26:\n",
    "    ts7.append(i*2)\n",
    "print(tuple(ts7))\n",
    "    "
   ]
  },
  {
   "cell_type": "markdown",
   "id": "8bf2848f-e1d4-4d01-8196-51ebe630d2d0",
   "metadata": {},
   "source": [
    "**Q37: Create a tuple of random numbers.**"
   ]
  },
  {
   "cell_type": "code",
   "execution_count": 57,
   "id": "bc853688-c117-4017-8a40-1b1869f224dc",
   "metadata": {},
   "outputs": [
    {
     "name": "stdout",
     "output_type": "stream",
     "text": [
      "(13, 8, 59, 45, 24)\n"
     ]
    }
   ],
   "source": [
    "import random\n",
    "t_size=5\n",
    "min_v=1\n",
    "max_v=100\n",
    "random_tuple=tuple(random.randint(min_v,max_v) for _ in range(t_size))\n",
    "print(random_tuple)"
   ]
  },
  {
   "cell_type": "markdown",
   "id": "8f435024-2b07-4909-b87e-df59e889a428",
   "metadata": {},
   "source": [
    "**Q38: Check if a tuple is sorted.**"
   ]
  },
  {
   "cell_type": "code",
   "execution_count": 60,
   "id": "3150229c-efcd-41d6-bcb6-1bdccf3feab2",
   "metadata": {},
   "outputs": [
    {
     "name": "stdout",
     "output_type": "stream",
     "text": [
      "tuple is not sorted\n"
     ]
    }
   ],
   "source": [
    "t27=(7,8,3,6,2,1,0)\n",
    "if list(t27)==sorted(list(t27)):\n",
    "    print(\"tuple is sorted\")\n",
    "else:\n",
    "    print(\"tuple is not sorted\")"
   ]
  },
  {
   "cell_type": "markdown",
   "id": "82856bbe-19e7-45ca-bcea-4d29a5636541",
   "metadata": {},
   "source": [
    "**Q39: Rotate a tuple to the left by `n` positions.**"
   ]
  },
  {
   "cell_type": "code",
   "execution_count": 62,
   "id": "406877bd-315f-44d4-8681-81fba3cb8711",
   "metadata": {},
   "outputs": [
    {
     "name": "stdin",
     "output_type": "stream",
     "text": [
      "Enter the position: 2\n"
     ]
    },
    {
     "name": "stdout",
     "output_type": "stream",
     "text": [
      "(3, 6, 2, 1, 0, 7, 8)\n"
     ]
    }
   ],
   "source": [
    "t28=(7,8,3,6,2,1,0)\n",
    "n=int(input(\"Enter the position:\"))\n",
    "if n<0:\n",
    "    n=len(t28)+n\n",
    "if n>len(t28):\n",
    "    n=n%len(t28)\n",
    "rotated_tuple=t28[n:]+t28[:n]\n",
    "print(rotated_tuple)"
   ]
  },
  {
   "cell_type": "markdown",
   "id": "cdff27ad-163d-4072-8403-f69054ea572e",
   "metadata": {},
   "source": [
    "**Q40: Rotate a tuple to the right by `n` positions.**"
   ]
  },
  {
   "cell_type": "code",
   "execution_count": 63,
   "id": "498aa9d2-69b9-4f67-9329-41a83092f6e4",
   "metadata": {},
   "outputs": [
    {
     "name": "stdin",
     "output_type": "stream",
     "text": [
      "Enter the position: 2\n"
     ]
    },
    {
     "name": "stdout",
     "output_type": "stream",
     "text": [
      "(1, 0, 7, 8, 3, 6, 2)\n"
     ]
    }
   ],
   "source": [
    "t29=(7,8,3,6,2,1,0)\n",
    "n=int(input(\"Enter the position:\"))\n",
    "if n<0:\n",
    "    n=len(t29)+n\n",
    "if n>len(t29):\n",
    "    n=n%len(t29)\n",
    "rotated_tuple2=t29[-n:]+t29[:-n]\n",
    "print(rotated_tuple2)"
   ]
  },
  {
   "cell_type": "markdown",
   "id": "af1e97aa-c00d-48b8-948e-84992b63edc7",
   "metadata": {},
   "source": [
    "**Q41: Create a tuple of the first 5 Fibonacci numbers.**"
   ]
  },
  {
   "cell_type": "code",
   "execution_count": 2,
   "id": "5ca48139-602f-42f4-bff3-f596f33ef0ce",
   "metadata": {},
   "outputs": [
    {
     "name": "stdout",
     "output_type": "stream",
     "text": [
      "(0, 1, 1, 2, 3)\n"
     ]
    }
   ],
   "source": [
    "t30=[]\n",
    "f=0\n",
    "s=1\n",
    "for i in range(5):\n",
    "    t30.append(f)\n",
    "    t=f+s\n",
    "    f=s\n",
    "    s=t\n",
    "print(tuple(t30))"
   ]
  },
  {
   "cell_type": "markdown",
   "id": "2f657277-bc35-4d83-850e-ad5714ba6076",
   "metadata": {},
   "source": [
    "**Q42: Create a tuple from user input.**"
   ]
  },
  {
   "cell_type": "code",
   "execution_count": 3,
   "id": "da2e015c-e18e-49ad-9865-a51e0c239590",
   "metadata": {},
   "outputs": [
    {
     "name": "stdin",
     "output_type": "stream",
     "text": [
      "enter elements separated by space hello deepika 23 78 apple\n"
     ]
    },
    {
     "name": "stdout",
     "output_type": "stream",
     "text": [
      "('hello', 'deepika', '23', '78', 'apple')\n"
     ]
    }
   ],
   "source": [
    "t31=input(\"enter elements separated by space\").split()\n",
    "t32=tuple(t31)\n",
    "print(t32)"
   ]
  },
  {
   "cell_type": "markdown",
   "id": "0929882e-2893-4811-bf1f-8e73b6e69ffb",
   "metadata": {},
   "source": [
    "**Q43: Swap two elements in a tuple.**"
   ]
  },
  {
   "cell_type": "code",
   "execution_count": 6,
   "id": "98af8e22-d36b-4223-859b-bf07d1ceba9f",
   "metadata": {},
   "outputs": [
    {
     "name": "stdout",
     "output_type": "stream",
     "text": [
      "original tuple (1, 4, 3, 2, 5)\n",
      "swapped tuple (1, 2, 3, 4, 5)\n"
     ]
    }
   ],
   "source": [
    "t33=(1,4,3,2,5)\n",
    "tl=list(t33)\n",
    "i1=1\n",
    "i2=3\n",
    "tl[i1],tl[i2]=tl[i2],tl[i1]\n",
    "swapped_t33=tuple(tl)\n",
    "print(\"original tuple\", t33)\n",
    "print(\"swapped tuple\", swapped_t33)"
   ]
  },
  {
   "cell_type": "markdown",
   "id": "8ed0b058-1454-4e71-82ac-27103a72d30e",
   "metadata": {},
   "source": [
    "**Q44: Reverse the elements of a tuple.**"
   ]
  },
  {
   "cell_type": "code",
   "execution_count": 9,
   "id": "c9f26b49-a1cb-42ac-9bb2-a0ce1ebbbde4",
   "metadata": {},
   "outputs": [
    {
     "name": "stdout",
     "output_type": "stream",
     "text": [
      "(0, 2, 1, 3, 9, 8)\n"
     ]
    }
   ],
   "source": [
    "t34=(8,9,3,1,2,0)\n",
    "rev_t34=t34[::-1]\n",
    "print(rev_t34)"
   ]
  },
  {
   "cell_type": "markdown",
   "id": "92309465-03d5-4701-acfc-68ef528fc7b8",
   "metadata": {},
   "source": [
    "**Q45: Create a tuple of the first `n` powers of 2.**"
   ]
  },
  {
   "cell_type": "code",
   "execution_count": 14,
   "id": "61f0cfb7-2297-4fa2-989b-ac459e2694bd",
   "metadata": {},
   "outputs": [
    {
     "name": "stdin",
     "output_type": "stream",
     "text": [
      "enter the n 4\n"
     ]
    },
    {
     "name": "stdout",
     "output_type": "stream",
     "text": [
      "(1, 2, 4, 8)\n"
     ]
    }
   ],
   "source": [
    "t35=[]\n",
    "n=int(input(\"enter the n\"))\n",
    "for i in range(n):\n",
    "    t35.append(2**i)\n",
    "print(tuple(t35))"
   ]
  },
  {
   "cell_type": "markdown",
   "id": "a93e6a8f-3057-4b4e-88e9-2b25cd02b370",
   "metadata": {},
   "source": [
    "**Q46: Find the longest string in a tuple of strings.**"
   ]
  },
  {
   "cell_type": "code",
   "execution_count": 18,
   "id": "19a3a3f0-2b4b-4406-b28e-00e33f77b7fd",
   "metadata": {},
   "outputs": [
    {
     "name": "stdout",
     "output_type": "stream",
     "text": [
      "pomegranate\n"
     ]
    }
   ],
   "source": [
    "t36=('apple','banana','cherry','grapes','pomegranate')\n",
    "longest_stringt36=\"\"\n",
    "for i in t36:\n",
    "    if len(i)>len(longest_stringt36):\n",
    "          longest_stringt36=i\n",
    "print(longest_stringt36)"
   ]
  },
  {
   "cell_type": "markdown",
   "id": "c5be8213-363c-49e2-9873-11139d62e0d9",
   "metadata": {},
   "source": [
    "**Q47: Find the shortest string in a tuple of strings.**"
   ]
  },
  {
   "cell_type": "code",
   "execution_count": 22,
   "id": "86314c72-5b66-401f-844c-2865e8509545",
   "metadata": {},
   "outputs": [
    {
     "name": "stdout",
     "output_type": "stream",
     "text": [
      "ab\n"
     ]
    }
   ],
   "source": [
    "t36=('apple','banana','cherry','grapes','pomegranate','ab')\n",
    "shortest_stringt36=t36[0]\n",
    "for i in t36:\n",
    "    if len(i)<len(shortest_stringt36):\n",
    "        shortest_stringt36=i\n",
    "print(shortest_stringt36)"
   ]
  },
  {
   "cell_type": "markdown",
   "id": "ff7ffc1c-7340-4065-a11b-9dc05931e7ad",
   "metadata": {},
   "source": [
    "**Q48: Create a tuple of the first `n` triangular numbers.**"
   ]
  },
  {
   "cell_type": "code",
   "execution_count": 24,
   "id": "e8bbd1b3-4774-4b79-98ad-7ffcf27b35c0",
   "metadata": {},
   "outputs": [
    {
     "name": "stdin",
     "output_type": "stream",
     "text": [
      "enter the number 5\n"
     ]
    },
    {
     "name": "stdout",
     "output_type": "stream",
     "text": [
      "(1, 3, 6, 10, 15)\n"
     ]
    }
   ],
   "source": [
    "t37=[]\n",
    "n=int(input(\"enter the number\"))\n",
    "for i in range(1,n+1):\n",
    "    trinum=(i*(i+1))//2\n",
    "    t37.append(trinum)\n",
    "print(tuple(t37))\n",
    "    "
   ]
  },
  {
   "cell_type": "markdown",
   "id": "5b401cc5-7c18-4651-ac3b-50a3deeac966",
   "metadata": {},
   "source": [
    "**Q49: Check if a tuple contains another tuple as a subsequence.**"
   ]
  },
  {
   "cell_type": "code",
   "execution_count": 25,
   "id": "4f03f83a-911b-4888-a656-9b9fffb9396d",
   "metadata": {},
   "outputs": [
    {
     "name": "stdout",
     "output_type": "stream",
     "text": [
      "subsequence found\n"
     ]
    }
   ],
   "source": [
    "t38=(1,2,3,4,5,6,7)\n",
    "subsq_t38=(3,5,7)\n",
    "t38_idx=0\n",
    "subsq_idx=0\n",
    "while t38_idx<len(t38) and subsq_idx<len(subsq_t38):\n",
    "    if t38[t38_idx]==subsq_t38[subsq_idx]:\n",
    "        subsq_idx+=1\n",
    "    t38_idx+=1\n",
    "if subsq_idx==len(subsq_t38):\n",
    "    print(\"subsequence found\")\n",
    "else:\n",
    "    print(\"subsequence not found\")"
   ]
  },
  {
   "cell_type": "markdown",
   "id": "ba928b6a-2830-47d6-9b4a-b858d8d8b3e4",
   "metadata": {},
   "source": [
    "**Q50: Create a tuple of alternating 1s and 0s of length `n`.**"
   ]
  },
  {
   "cell_type": "code",
   "execution_count": 27,
   "id": "c85b0f30-5f35-4d6b-9a8f-d445b989bbb9",
   "metadata": {},
   "outputs": [
    {
     "name": "stdin",
     "output_type": "stream",
     "text": [
      "Enter the number 10\n"
     ]
    },
    {
     "name": "stdout",
     "output_type": "stream",
     "text": [
      "(1, 0, 1, 0, 1, 0, 1, 0, 1, 0)\n"
     ]
    }
   ],
   "source": [
    "n=int(input(\"Enter the number\"))\n",
    "alt_t=tuple(1 if i%2==0 else 0 for i in range(n))\n",
    "print(alt_t)"
   ]
  },
  {
   "cell_type": "markdown",
   "id": "c61d31a4-7548-45f6-aa12-10d94df8a092",
   "metadata": {},
   "source": [
    "# Set Based Practice Problem"
   ]
  },
  {
   "cell_type": "markdown",
   "id": "78f1ac1c-da74-4030-936a-972b9fb407c4",
   "metadata": {},
   "source": [
    "**Q1: Create a set with integers from 1 to 5.**"
   ]
  },
  {
   "cell_type": "code",
   "execution_count": 2,
   "id": "0859c400-563c-4794-a1c6-a66d232b3c62",
   "metadata": {},
   "outputs": [
    {
     "name": "stdout",
     "output_type": "stream",
     "text": [
      "{1, 2, 3, 4, 5}\n"
     ]
    }
   ],
   "source": [
    "set1={i for i in range(1,6)}\n",
    "print(set1)"
   ]
  },
  {
   "cell_type": "markdown",
   "id": "2acdacdf-551f-4b81-9a17-0c62e35172d0",
   "metadata": {},
   "source": [
    "**Q2: Add an element to a set.**"
   ]
  },
  {
   "cell_type": "code",
   "execution_count": 3,
   "id": "bd603774-b52c-40ff-9f29-42fe793eaaa7",
   "metadata": {},
   "outputs": [
    {
     "name": "stdout",
     "output_type": "stream",
     "text": [
      "{1, 2, 3, 4}\n"
     ]
    }
   ],
   "source": [
    "set2={1,2,3}\n",
    "set2.add(4)\n",
    "print(set2)"
   ]
  },
  {
   "cell_type": "markdown",
   "id": "0b79f10c-b95a-4cfb-b8a0-3e2db1971698",
   "metadata": {},
   "source": [
    "**Q3: Remove an element from a set.**"
   ]
  },
  {
   "cell_type": "code",
   "execution_count": 4,
   "id": "670a54b4-2f07-4389-bdea-9298982b0852",
   "metadata": {},
   "outputs": [
    {
     "name": "stdout",
     "output_type": "stream",
     "text": [
      "{1, 2}\n"
     ]
    }
   ],
   "source": [
    "set3={1,2,3}\n",
    "set3.remove(3)\n",
    "print(set3)"
   ]
  },
  {
   "cell_type": "markdown",
   "id": "72b1caa6-b4b0-4676-99d6-d8d22215a591",
   "metadata": {},
   "source": [
    "**Q4: Check if an element exists in a set.**"
   ]
  },
  {
   "cell_type": "code",
   "execution_count": 13,
   "id": "f4d15794-4897-4445-a2c3-ba88d0b5fd39",
   "metadata": {},
   "outputs": [
    {
     "name": "stdin",
     "output_type": "stream",
     "text": [
      "enter the element you want to check 8\n"
     ]
    },
    {
     "name": "stdout",
     "output_type": "stream",
     "text": [
      "element found\n"
     ]
    }
   ],
   "source": [
    "si=int(input(\"enter the element you want to check\"))\n",
    "set4={4,5,2,1,8,9}\n",
    "if i in set4:\n",
    "   print(\"element found\")\n",
    "else:\n",
    "   print(\"element not found\")\n"
   ]
  },
  {
   "cell_type": "markdown",
   "id": "190e09f1-9305-4dd1-b190-42b58840a075",
   "metadata": {},
   "source": [
    "**Q5: Find the length of a set without using the `len()` function.**"
   ]
  },
  {
   "cell_type": "code",
   "execution_count": 14,
   "id": "5c7d92e9-dcde-41fe-bd0f-196844ee3c42",
   "metadata": {},
   "outputs": [
    {
     "name": "stdout",
     "output_type": "stream",
     "text": [
      "6\n"
     ]
    }
   ],
   "source": [
    "set5={5,2,3,1,9,0}\n",
    "c=0\n",
    "for i in set5:\n",
    "    c=c+1\n",
    "print(c)"
   ]
  },
  {
   "cell_type": "markdown",
   "id": "a29283bc-2503-40c7-b20e-4257ce1c3266",
   "metadata": {},
   "source": [
    "**Q6: Clear all elements from a set.**"
   ]
  },
  {
   "cell_type": "code",
   "execution_count": 17,
   "id": "c5565324-e467-47f9-a897-cf60e71a61a3",
   "metadata": {},
   "outputs": [
    {
     "name": "stdout",
     "output_type": "stream",
     "text": [
      "set()\n"
     ]
    }
   ],
   "source": [
    "set6={7,4,6,2,1}\n",
    "set6.clear()\n",
    "print(set6)"
   ]
  },
  {
   "cell_type": "markdown",
   "id": "24041b70-8350-48d8-aabe-b792ea708060",
   "metadata": {},
   "source": [
    "**Q7: Create a set of even numbers from 1 to 10.**"
   ]
  },
  {
   "cell_type": "code",
   "execution_count": 18,
   "id": "e0626cc4-9179-4e51-b79c-65dec11b6f68",
   "metadata": {},
   "outputs": [
    {
     "name": "stdout",
     "output_type": "stream",
     "text": [
      "{2, 4, 6, 8, 10}\n"
     ]
    }
   ],
   "source": [
    "set7={i for i in range(1,11) if i%2==0}\n",
    "print(set7)"
   ]
  },
  {
   "cell_type": "markdown",
   "id": "c2fedaa6-fda1-442e-b1ea-f21332efa9d9",
   "metadata": {},
   "source": [
    "**Q8: Create a set of odd numbers from 1 to 10.**"
   ]
  },
  {
   "cell_type": "code",
   "execution_count": 19,
   "id": "7d974876-a4ab-4d74-97a6-92d39803a26c",
   "metadata": {},
   "outputs": [
    {
     "name": "stdout",
     "output_type": "stream",
     "text": [
      "{1, 3, 5, 7, 9}\n"
     ]
    }
   ],
   "source": [
    "set8={i for i in range(1,11) if i%2!=0}\n",
    "print(set8)"
   ]
  },
  {
   "cell_type": "markdown",
   "id": "f8eae8a9-30dd-427b-88a9-c6c363ba67b1",
   "metadata": {},
   "source": [
    "**Q9: Find the union of two sets.**"
   ]
  },
  {
   "cell_type": "code",
   "execution_count": 20,
   "id": "255d3f99-4102-4831-be9a-527a14c02404",
   "metadata": {},
   "outputs": [
    {
     "name": "stdout",
     "output_type": "stream",
     "text": [
      "{0, 1, 2, 3, 5, 6, 7, 8, 9}\n"
     ]
    }
   ],
   "source": [
    "set9={6,3,1,9,8,0}\n",
    "set10={5,7,6,2,0}\n",
    "u=set9.union(set10)\n",
    "print(u)"
   ]
  },
  {
   "cell_type": "markdown",
   "id": "64d1072a-4f53-41fc-9f8b-1cc249699e74",
   "metadata": {},
   "source": [
    "**Q10: Find the intersection of two sets.**"
   ]
  },
  {
   "cell_type": "code",
   "execution_count": 21,
   "id": "a87eb851-970a-4ed2-8403-1692b8045368",
   "metadata": {},
   "outputs": [
    {
     "name": "stdout",
     "output_type": "stream",
     "text": [
      "{0, 6}\n"
     ]
    }
   ],
   "source": [
    "set9={6,3,1,9,8,0}\n",
    "set10={5,7,6,2,0}\n",
    "inter=set9.intersection(set10)\n",
    "print(inter)"
   ]
  },
  {
   "cell_type": "markdown",
   "id": "4515af56-ad78-4574-a4d8-ba415651ef26",
   "metadata": {},
   "source": [
    "**Q11: Find the difference between two sets.**"
   ]
  },
  {
   "cell_type": "code",
   "execution_count": 1,
   "id": "f7afda10-3898-4646-bed6-6f3bf5313933",
   "metadata": {},
   "outputs": [
    {
     "name": "stdout",
     "output_type": "stream",
     "text": [
      "{8, 1, 3, 9}\n"
     ]
    }
   ],
   "source": [
    "set9={6,3,1,9,8,0}\n",
    "set10={5,7,6,2,0}\n",
    "diff=set9.difference(set10)\n",
    "print(diff)"
   ]
  },
  {
   "cell_type": "markdown",
   "id": "6795941d-3587-45ef-957d-05be52571c7f",
   "metadata": {},
   "source": [
    "**Q12: Check if a set is a subset of another set.**"
   ]
  },
  {
   "cell_type": "code",
   "execution_count": 3,
   "id": "33c983fd-ecc3-46d8-9bb3-19c2bd1e317e",
   "metadata": {},
   "outputs": [
    {
     "name": "stdout",
     "output_type": "stream",
     "text": [
      "set12 is a subset of set11\n"
     ]
    }
   ],
   "source": [
    "set11={3,6,2,8,0,4}\n",
    "set12={2,3,4}\n",
    "if set12.issubset(set11):\n",
    "    print(\"set12 is a subset of set11\")\n",
    "else:\n",
    "    print(\"not a subset\")"
   ]
  },
  {
   "cell_type": "markdown",
   "id": "31e4ba57-e146-41c5-a7a6-6fd1b9e06fcb",
   "metadata": {},
   "source": [
    "**Q13: Check if a set is a superset of another set.**"
   ]
  },
  {
   "cell_type": "code",
   "execution_count": 4,
   "id": "f346edb0-620c-41b8-8e09-e20bbe2f6f4d",
   "metadata": {},
   "outputs": [
    {
     "name": "stdout",
     "output_type": "stream",
     "text": [
      "set11 is a superset of set12\n"
     ]
    }
   ],
   "source": [
    "set11={3,6,2,8,0,4}\n",
    "set12={2,3,4}\n",
    "if set11.issuperset(set12):\n",
    "    print(\"set11 is a superset of set12\")\n",
    "else:\n",
    "    print(\"not a superset\")"
   ]
  },
  {
   "cell_type": "markdown",
   "id": "e920ec7f-e3a2-4250-9255-528300152612",
   "metadata": {},
   "source": [
    "**Q14: Create a set from a list.**"
   ]
  },
  {
   "cell_type": "code",
   "execution_count": 5,
   "id": "6d996be9-5624-41fc-97a9-bef2a39b2c29",
   "metadata": {},
   "outputs": [
    {
     "name": "stdout",
     "output_type": "stream",
     "text": [
      "{8, 2, 3, 4}\n"
     ]
    }
   ],
   "source": [
    "lset=[8,4,4,2,3,3]\n",
    "set13=set(lset)\n",
    "print(set13)"
   ]
  },
  {
   "cell_type": "markdown",
   "id": "4c8ab5fc-3358-4b72-84b7-4af60536f53e",
   "metadata": {},
   "source": [
    "**Q15: Convert a set to a list.**"
   ]
  },
  {
   "cell_type": "code",
   "execution_count": 7,
   "id": "624801f7-1893-4d27-9769-c17c8a8d8fd9",
   "metadata": {},
   "outputs": [
    {
     "name": "stdout",
     "output_type": "stream",
     "text": [
      "[1, 2, 4, 5, 7]\n"
     ]
    }
   ],
   "source": [
    "set14={5,7,1,2,4}\n",
    "lset2=list(set14)\n",
    "print(lset2)"
   ]
  },
  {
   "cell_type": "markdown",
   "id": "ae755e2a-c52b-480f-aa32-dd6a1e445124",
   "metadata": {},
   "source": [
    "**Q16: Remove a random element from a set.**"
   ]
  },
  {
   "cell_type": "code",
   "execution_count": 8,
   "id": "920e01e1-6522-4169-8680-4343021e6dc8",
   "metadata": {},
   "outputs": [
    {
     "data": {
      "text/plain": [
       "1"
      ]
     },
     "execution_count": 8,
     "metadata": {},
     "output_type": "execute_result"
    }
   ],
   "source": [
    "set14={5,7,1,2,4}\n",
    "set14.pop()"
   ]
  },
  {
   "cell_type": "markdown",
   "id": "f414964d-f193-4c11-a853-62211fa614db",
   "metadata": {},
   "source": [
    "**Q17: Pop an element from a set.**"
   ]
  },
  {
   "cell_type": "code",
   "execution_count": 12,
   "id": "32790c76-26d6-4563-b05b-a7dc35670b56",
   "metadata": {},
   "outputs": [
    {
     "data": {
      "text/plain": [
       "4"
      ]
     },
     "execution_count": 12,
     "metadata": {},
     "output_type": "execute_result"
    }
   ],
   "source": [
    "set15={5,7,8,9,4}\n",
    "set15.pop()"
   ]
  },
  {
   "cell_type": "markdown",
   "id": "527f7c27-7962-45a9-b4fb-06d8c82c7f29",
   "metadata": {},
   "source": [
    "**Q18: Check if two sets have no elements in common.**"
   ]
  },
  {
   "cell_type": "code",
   "execution_count": 19,
   "id": "95a91c2d-d93c-4a88-8400-62c13727d197",
   "metadata": {},
   "outputs": [
    {
     "name": "stdout",
     "output_type": "stream",
     "text": [
      "there are elements common\n"
     ]
    }
   ],
   "source": [
    "set16={5,7,3,1,0}\n",
    "set17={7,4,5,2,8}\n",
    "if set16.intersection(set17)==set():\n",
    "    print(\"no elements in common\")\n",
    "else:\n",
    "    print(\"there are elements common\")\n",
    "#can use isdisjoint()    "
   ]
  },
  {
   "cell_type": "markdown",
   "id": "4c030594-85b2-45eb-b81d-1d7a348adf33",
   "metadata": {},
   "source": [
    "**Q19: Find the symmetric difference between two sets.**"
   ]
  },
  {
   "cell_type": "code",
   "execution_count": 22,
   "id": "558d915a-2718-4cc1-bbe9-5339ccbc567a",
   "metadata": {},
   "outputs": [
    {
     "name": "stdout",
     "output_type": "stream",
     "text": [
      "{1, 2, 3, 6, 7, 8}\n"
     ]
    }
   ],
   "source": [
    "set18 = {1, 2, 3, 4, 5}\n",
    "set19 = {4, 5, 6, 7, 8}\n",
    "symmetric_diff=set18.symmetric_difference(set19)\n",
    "print(symmetric_diff)\n",
    "#can use ^ operator"
   ]
  },
  {
   "cell_type": "markdown",
   "id": "a86d405f-5322-4c9d-8f34-73167bf25eed",
   "metadata": {},
   "source": [
    "**Q20: Update a set with elements from another set.**"
   ]
  },
  {
   "cell_type": "code",
   "execution_count": 24,
   "id": "ad0d47f7-a80c-4dd1-ae81-ba6805defd5c",
   "metadata": {},
   "outputs": [
    {
     "name": "stdout",
     "output_type": "stream",
     "text": [
      "{1, 2, 3, 4, 5}\n"
     ]
    }
   ],
   "source": [
    "set20 = {1, 2, 3}\n",
    "set21 = {3, 4, 5}\n",
    "set20.update(set21)\n",
    "print(set20)\n",
    "#can use | operator"
   ]
  },
  {
   "cell_type": "markdown",
   "id": "e0b28d2d-8be9-4786-b05c-27d735fc9b5a",
   "metadata": {},
   "source": [
    "**Q21: Create a set of the first 5 prime numbers.**"
   ]
  },
  {
   "cell_type": "code",
   "execution_count": 28,
   "id": "d50a21f8-2727-4f8f-b797-d63d11a6d3dc",
   "metadata": {},
   "outputs": [
    {
     "name": "stdout",
     "output_type": "stream",
     "text": [
      "{2, 3, 5, 7, 11}\n"
     ]
    }
   ],
   "source": [
    "set22=set()\n",
    "for n in range(2,50):\n",
    "    if n>1:\n",
    "        for i in range(2,n):\n",
    "            if n%i==0:\n",
    "                break\n",
    "        else:\n",
    "            set22.add(n)\n",
    "    if len(set22)>=5:\n",
    "        break\n",
    "print(set22)"
   ]
  },
  {
   "cell_type": "markdown",
   "id": "ede20a2a-d851-422a-9079-b60a1ecac9fa",
   "metadata": {},
   "source": [
    "**Q22: Check if two sets are identical.**"
   ]
  },
  {
   "cell_type": "code",
   "execution_count": 29,
   "id": "ed6c5bf4-16f1-4973-814e-c7cd61c7f593",
   "metadata": {},
   "outputs": [
    {
     "name": "stdout",
     "output_type": "stream",
     "text": [
      "sets are identical\n"
     ]
    }
   ],
   "source": [
    "set23={5,3,2,1}\n",
    "set24={1,2,3,5}\n",
    "if set23==set24:\n",
    "    print(\"sets are identical\")\n",
    "else:\n",
    "    print(\"not identical\")"
   ]
  },
  {
   "cell_type": "markdown",
   "id": "72cd0881-e56d-4b62-bf2f-b55fa8f63bf0",
   "metadata": {},
   "source": [
    "**Q23: Create a frozen set.**"
   ]
  },
  {
   "cell_type": "code",
   "execution_count": 30,
   "id": "014a4383-d204-4022-9c26-e8053e5d1116",
   "metadata": {},
   "outputs": [
    {
     "name": "stdout",
     "output_type": "stream",
     "text": [
      "frozenset({3, 4, 5, 6})\n"
     ]
    }
   ],
   "source": [
    "set25={6,3,4,5}\n",
    "fset25=frozenset(set25)\n",
    "print(fset25)"
   ]
  },
  {
   "cell_type": "markdown",
   "id": "04d2ffbc-a8e2-4b29-a3fa-f0bc8789016a",
   "metadata": {},
   "source": [
    "**Q24: Check if a set is disjoint with another set.**"
   ]
  },
  {
   "cell_type": "code",
   "execution_count": 31,
   "id": "b468c53a-6ed1-4662-940d-7ec0c4670e37",
   "metadata": {},
   "outputs": [
    {
     "name": "stdout",
     "output_type": "stream",
     "text": [
      "yes disjoint\n"
     ]
    }
   ],
   "source": [
    "set26={3,4,5}\n",
    "set27={8,6,1}\n",
    "if set26.isdisjoint(set27):\n",
    "    print(\"yes disjoint\")\n",
    "else:\n",
    "    print(\"not disjoint\")"
   ]
  },
  {
   "cell_type": "markdown",
   "id": "0a45cb1d-e7b7-4304-aa0b-44c2871bd952",
   "metadata": {},
   "source": [
    "**Q25: Create a set of squares of numbers from 1 to 5.**"
   ]
  },
  {
   "cell_type": "code",
   "execution_count": 32,
   "id": "d447c3a2-cbee-4f51-a05d-61b735c87dbc",
   "metadata": {},
   "outputs": [
    {
     "name": "stdout",
     "output_type": "stream",
     "text": [
      "{1, 4, 9, 16, 25}\n"
     ]
    }
   ],
   "source": [
    "set28=set()\n",
    "for i in range(1,6):\n",
    "    set28.add(i**2)\n",
    "print(set28)"
   ]
  },
  {
   "cell_type": "markdown",
   "id": "4e0b4d2e-a6d4-4401-8cb1-97ebe836f537",
   "metadata": {},
   "source": [
    "**Q26: Filter out all even numbers from a set.**"
   ]
  },
  {
   "cell_type": "code",
   "execution_count": 33,
   "id": "6f29cc2f-0950-48ce-9aab-f538e3ded1d8",
   "metadata": {},
   "outputs": [
    {
     "name": "stdout",
     "output_type": "stream",
     "text": [
      "{2, 4, 6, 8, 10}\n"
     ]
    }
   ],
   "source": [
    "set29={1,2,3,4,5,6,7,8,9,10}\n",
    "filtered_set29=set(filter(lambda x: x%2==0, set29))\n",
    "print(filtered_set29)"
   ]
  },
  {
   "cell_type": "markdown",
   "id": "8121dc5d-fcec-4412-a0b1-a0042e21a0e2",
   "metadata": {},
   "source": [
    "**Q27: Multiply all elements in a set by 2.**"
   ]
  },
  {
   "cell_type": "code",
   "execution_count": 42,
   "id": "5608a4cf-2854-4e39-8be3-14e400dfda9e",
   "metadata": {},
   "outputs": [
    {
     "name": "stdout",
     "output_type": "stream",
     "text": [
      "{8, 2, 4, 14}\n"
     ]
    }
   ],
   "source": [
    "set30={4,2,1,7}\n",
    "mset30=set(map(lambda x: x*2, set30))\n",
    "print(mset30)\n",
    "    "
   ]
  },
  {
   "cell_type": "markdown",
   "id": "c3b8a361-a77c-4576-9786-00cf9b759f09",
   "metadata": {},
   "source": [
    "**Q28: Create a set of random numbers.**"
   ]
  },
  {
   "cell_type": "code",
   "execution_count": 39,
   "id": "88d65214-b790-4832-8914-4444d47364c3",
   "metadata": {},
   "outputs": [
    {
     "name": "stdout",
     "output_type": "stream",
     "text": [
      "{70, 82, 25, 60, 94}\n"
     ]
    }
   ],
   "source": [
    "import random\n",
    "s_size=5\n",
    "min_sv=1\n",
    "max_sv=100\n",
    "random_set=set(random.randint(min_sv,max_sv) for _ in range(s_size))\n",
    "print(random_set)"
   ]
  },
  {
   "cell_type": "markdown",
   "id": "7c68d524-1a6b-423d-a96a-195341c72240",
   "metadata": {},
   "source": [
    "**Q29: Check if a set is empty.**"
   ]
  },
  {
   "cell_type": "code",
   "execution_count": 40,
   "id": "a5d4d6d2-53eb-4708-b06d-d326cdbf20fa",
   "metadata": {},
   "outputs": [
    {
     "name": "stdout",
     "output_type": "stream",
     "text": [
      "set is empty\n"
     ]
    }
   ],
   "source": [
    "set31=set()\n",
    "if not set31:\n",
    "    print(\"set is empty\")\n",
    "else:\n",
    "    print(\"set is not empty\")\n",
    "#can use use len(set31)==0"
   ]
  },
  {
   "cell_type": "markdown",
   "id": "799c6bb4-3802-4282-bdac-d4cbb66e35fb",
   "metadata": {},
   "source": [
    "**Q30: Create a nested set (hint: use frozenset).**"
   ]
  },
  {
   "cell_type": "code",
   "execution_count": 44,
   "id": "d2efb847-996f-43e2-b354-a36cc3263af2",
   "metadata": {},
   "outputs": [
    {
     "name": "stdout",
     "output_type": "stream",
     "text": [
      "{frozenset({4, 5}), frozenset({2, 3}), frozenset({1, 2})}\n"
     ]
    }
   ],
   "source": [
    "set32=set()\n",
    "set32.add(frozenset((1,2)))\n",
    "set32.add(frozenset((2,3)))\n",
    "set32.add(frozenset((4,5)))\n",
    "print(set32)"
   ]
  },
  {
   "cell_type": "markdown",
   "id": "1cdaab6f-9993-46ef-b3b8-040f0f2656ef",
   "metadata": {},
   "source": [
    "**Q31: Remove an element from a set using the discard method.**"
   ]
  },
  {
   "cell_type": "code",
   "execution_count": 1,
   "id": "da8f71cc-76fc-4846-b294-cb52c32bb5f3",
   "metadata": {},
   "outputs": [
    {
     "name": "stdout",
     "output_type": "stream",
     "text": [
      "{8, 3, 6}\n"
     ]
    }
   ],
   "source": [
    "set33={6,3,2,8}\n",
    "set33.discard(2)\n",
    "print(set33)"
   ]
  },
  {
   "cell_type": "markdown",
   "id": "b14c4d29-6784-4c04-9427-bb44fb28c361",
   "metadata": {},
   "source": [
    "**Q32: Compare two sets.**"
   ]
  },
  {
   "cell_type": "code",
   "execution_count": 2,
   "id": "c8418d35-7b3a-49aa-a70c-1c584fbb6dc4",
   "metadata": {},
   "outputs": [
    {
     "name": "stdout",
     "output_type": "stream",
     "text": [
      "sets are equal\n"
     ]
    }
   ],
   "source": [
    "set34={5,6,7}\n",
    "set35={7,5,6}\n",
    "if set34==set35:\n",
    "    print(\"sets are equal\")\n",
    "else:\n",
    "    print(\"sets are not equal\")"
   ]
  },
  {
   "cell_type": "markdown",
   "id": "a7cdfc04-b402-45ec-a12e-72c04a64d3cd",
   "metadata": {},
   "source": [
    "**Q33: Create a set from a string.**"
   ]
  },
  {
   "cell_type": "code",
   "execution_count": 1,
   "id": "82786357-935e-4cdb-a098-12710560347c",
   "metadata": {},
   "outputs": [
    {
     "name": "stdout",
     "output_type": "stream",
     "text": [
      "{'l', 'e', 'o', 'h'}\n"
     ]
    }
   ],
   "source": [
    "stset=\"hello\"\n",
    "set36=set(stset)\n",
    "print(set36)"
   ]
  },
  {
   "cell_type": "markdown",
   "id": "f36f55cf-9c02-4cf3-9ce2-55eb43a3b4af",
   "metadata": {},
   "source": [
    "**Q34: Convert a set of strings to a set of integers.**"
   ]
  },
  {
   "cell_type": "code",
   "execution_count": 2,
   "id": "f44c82c9-fbc5-4da4-9428-b5355688f7ed",
   "metadata": {},
   "outputs": [
    {
     "name": "stdout",
     "output_type": "stream",
     "text": [
      "{0, 9, 4, 6}\n"
     ]
    }
   ],
   "source": [
    "set37={'4','6','9','0'}\n",
    "set38=set()\n",
    "for i in set37:\n",
    "    set38.add(int(i))\n",
    "print(set38)"
   ]
  },
  {
   "cell_type": "markdown",
   "id": "737c2d97-374e-4d1d-859f-b090e36aadff",
   "metadata": {},
   "source": [
    "**Q35: Convert a set of integers to a set of strings.**"
   ]
  },
  {
   "cell_type": "code",
   "execution_count": 3,
   "id": "6d12bf24-a693-4af7-92f4-c586a928764b",
   "metadata": {},
   "outputs": [
    {
     "name": "stdout",
     "output_type": "stream",
     "text": [
      "{'9', '5', '6', '7', '0'}\n"
     ]
    }
   ],
   "source": [
    "set39={7,9,0,5,6}\n",
    "set40={str(i) for i in set39}\n",
    "print(set40)"
   ]
  },
  {
   "cell_type": "markdown",
   "id": "0a42d2fb-0e54-4b38-9a2c-fe2b8cd5b720",
   "metadata": {},
   "source": [
    "**Q36: Create a set from a tuple.**"
   ]
  },
  {
   "cell_type": "code",
   "execution_count": 4,
   "id": "18d95232-307e-488f-bb90-062089130ad3",
   "metadata": {},
   "outputs": [
    {
     "name": "stdout",
     "output_type": "stream",
     "text": [
      "{0, 4, 5, 6, 9}\n"
     ]
    }
   ],
   "source": [
    "settp=(6,9,0,4,5)\n",
    "set41=set(settp)\n",
    "print(set41)"
   ]
  },
  {
   "cell_type": "markdown",
   "id": "3cefd941-624c-4ef5-b8f1-ac445b901ed9",
   "metadata": {},
   "source": [
    "**Q37: Convert a set to a tuple.**"
   ]
  },
  {
   "cell_type": "code",
   "execution_count": 5,
   "id": "8ea9a1c7-1f9b-42e1-be9a-d77d13de7933",
   "metadata": {},
   "outputs": [
    {
     "name": "stdout",
     "output_type": "stream",
     "text": [
      "(1, 2, 3, 6, 8)\n"
     ]
    }
   ],
   "source": [
    "set42={6,3,2,1,8}\n",
    "settp2=tuple(set42)\n",
    "print(settp2)"
   ]
  },
  {
   "cell_type": "markdown",
   "id": "4e1b3396-b13a-4e96-a9b2-41485d9cc755",
   "metadata": {},
   "source": [
    "**Q38: Find the maximum value in a set.**"
   ]
  },
  {
   "cell_type": "code",
   "execution_count": 6,
   "id": "78e578e9-b918-4413-8296-786e908a0bcc",
   "metadata": {},
   "outputs": [
    {
     "name": "stdout",
     "output_type": "stream",
     "text": [
      "9\n"
     ]
    }
   ],
   "source": [
    "set43={6,3,2,1,9}\n",
    "print(max(set43))"
   ]
  },
  {
   "cell_type": "markdown",
   "id": "c832b611-1cc5-4a1d-acb5-ff6f84ed03b1",
   "metadata": {},
   "source": [
    "**Q39: Find the minimum value in a set.**"
   ]
  },
  {
   "cell_type": "code",
   "execution_count": 8,
   "id": "66138352-bb6c-4777-9708-d779fdcfe0fd",
   "metadata": {},
   "outputs": [
    {
     "name": "stdout",
     "output_type": "stream",
     "text": [
      "1\n"
     ]
    }
   ],
   "source": [
    "set43={6,3,2,1,9}\n",
    "print(min(set43))"
   ]
  },
  {
   "cell_type": "markdown",
   "id": "729fe493-d870-4c4b-9d10-860b8ef90e33",
   "metadata": {},
   "source": [
    "**Q40: Create a set from user input.**"
   ]
  },
  {
   "cell_type": "code",
   "execution_count": 9,
   "id": "abcdf28d-6264-4a15-9c29-17dcc2adde1a",
   "metadata": {},
   "outputs": [
    {
     "name": "stdout",
     "output_type": "stream",
     "text": [
      "Enter elements for the set (type 'done' when finished)\n"
     ]
    },
    {
     "name": "stdin",
     "output_type": "stream",
     "text": [
      "Enter element 4\n",
      "Enter element 6\n",
      "Enter element 8\n",
      "Enter element 9\n",
      "Enter element 0\n",
      "Enter element done\n"
     ]
    },
    {
     "name": "stdout",
     "output_type": "stream",
     "text": [
      "{'9', '6', '8', '4', '0'}\n"
     ]
    }
   ],
   "source": [
    "user_set=set()\n",
    "print(\"Enter elements for the set (type 'done' when finished)\")\n",
    "while True:\n",
    "    user_input=input(\"Enter element\")\n",
    "    if user_input.lower()=='done':\n",
    "        break\n",
    "    user_set.add(user_input)\n",
    "print(user_set)\n",
    "\n",
    "    "
   ]
  },
  {
   "cell_type": "markdown",
   "id": "c216eb08-c753-42c1-9541-1d291ec67959",
   "metadata": {},
   "source": [
    "**Q41: Check if the intersection of two sets is empty.**"
   ]
  },
  {
   "cell_type": "code",
   "execution_count": 13,
   "id": "399b9f3e-5abd-41eb-8acd-c5064674d934",
   "metadata": {},
   "outputs": [
    {
     "name": "stdout",
     "output_type": "stream",
     "text": [
      "intersection of two sets is empty\n"
     ]
    }
   ],
   "source": [
    "set44={4,6,7,2}\n",
    "set45={3,9,8,0}\n",
    "if set44.intersection(set45)==set():\n",
    "    print(\"intersection of two sets is empty\")\n",
    "else:\n",
    "    print(set44.intersection(set45))"
   ]
  },
  {
   "cell_type": "markdown",
   "id": "be82712c-ab9a-4641-8ba9-3d9803cc51f8",
   "metadata": {},
   "source": [
    "**Q42: Create a set of the first 5 Fibonacci numbers.**"
   ]
  },
  {
   "cell_type": "code",
   "execution_count": 2,
   "id": "041d5e6f-696a-4e1e-ab1b-33f816953694",
   "metadata": {},
   "outputs": [
    {
     "name": "stdout",
     "output_type": "stream",
     "text": [
      "{0, 1, 2, 3, 5}\n"
     ]
    }
   ],
   "source": [
    "set46=set()\n",
    "f=0\n",
    "s=1\n",
    "for i in range(6):\n",
    "    set46.add(f)\n",
    "    t=f+s\n",
    "    f=s\n",
    "    s=t\n",
    "print(set46)"
   ]
  },
  {
   "cell_type": "markdown",
   "id": "3cee33a2-3a11-4b11-b27b-6f3acb578af8",
   "metadata": {},
   "source": [
    "**Q43: Remove duplicates from a list using sets.**"
   ]
  },
  {
   "cell_type": "code",
   "execution_count": 4,
   "id": "1184d0b9-25d5-4eee-8d51-3004a5d5e296",
   "metadata": {},
   "outputs": [
    {
     "name": "stdout",
     "output_type": "stream",
     "text": [
      "{8, 9, 5, 0}\n"
     ]
    }
   ],
   "source": [
    "setl2=[5,8,5,8,5,5,5,9,0]\n",
    "set47=set(setl2)\n",
    "print(set47)"
   ]
  },
  {
   "cell_type": "markdown",
   "id": "5bf60300-6ed5-40c7-b16b-e61186779078",
   "metadata": {},
   "source": [
    "**Q44: Check if two sets have the same elements, regardless of their count.**"
   ]
  },
  {
   "cell_type": "code",
   "execution_count": 5,
   "id": "0356a7d4-b9f3-4ab5-bb36-4830327affd7",
   "metadata": {},
   "outputs": [
    {
     "name": "stdout",
     "output_type": "stream",
     "text": [
      "yes sets have the same elements\n"
     ]
    }
   ],
   "source": [
    "set48={1,2,3,1,2}\n",
    "set49={3,1,2}\n",
    "if set48==set49:\n",
    "    print(\"yes sets have the same elements\")\n",
    "else:\n",
    "    print(\"no sets don't have the same elements\")"
   ]
  },
  {
   "cell_type": "markdown",
   "id": "aa3abf69-fca3-4ee3-b298-da3a88e1e477",
   "metadata": {},
   "source": [
    "**Q45: Create a set of the first `n` powers of 2.**"
   ]
  },
  {
   "cell_type": "code",
   "execution_count": 6,
   "id": "56ce98f1-ae77-4b42-8ebc-79813bed3d6d",
   "metadata": {},
   "outputs": [
    {
     "name": "stdin",
     "output_type": "stream",
     "text": [
      "Enter the number 5\n"
     ]
    },
    {
     "name": "stdout",
     "output_type": "stream",
     "text": [
      "{1, 2, 4, 8, 16}\n"
     ]
    }
   ],
   "source": [
    "set50=set()\n",
    "n=int(input(\"Enter the number\"))\n",
    "for i in range(n):\n",
    "    set50.add(2**i)\n",
    "print(set50)\n",
    "    "
   ]
  },
  {
   "cell_type": "markdown",
   "id": "bf24e0ad-c6bb-455d-a6a4-292dff7553b9",
   "metadata": {},
   "source": [
    "**Q46: Find the common elements between a set and a list.**"
   ]
  },
  {
   "cell_type": "code",
   "execution_count": 7,
   "id": "7c2b409c-5de9-4034-a33d-7d020565cdca",
   "metadata": {},
   "outputs": [
    {
     "name": "stdout",
     "output_type": "stream",
     "text": [
      "{1, 2}\n"
     ]
    }
   ],
   "source": [
    "setl3=[4,2,6,2,1]\n",
    "set51={1,2,9,0,7}\n",
    "common=set51.intersection(set(setl3))\n",
    "print(common)\n",
    "    "
   ]
  },
  {
   "cell_type": "markdown",
   "id": "1834513c-e249-4aea-a107-018b7f107c0a",
   "metadata": {},
   "source": [
    "**Q47: Create a set of the first `n` triangular numbers.**"
   ]
  },
  {
   "cell_type": "code",
   "execution_count": 9,
   "id": "b3ef4226-5532-423d-ba98-bf7dbd7f4e55",
   "metadata": {},
   "outputs": [
    {
     "name": "stdin",
     "output_type": "stream",
     "text": [
      "Enter the number 5\n"
     ]
    },
    {
     "name": "stdout",
     "output_type": "stream",
     "text": [
      "{1, 3, 6, 10, 15}\n"
     ]
    }
   ],
   "source": [
    "set52=set()\n",
    "n=int(input(\"Enter the number\"))\n",
    "for i in range(1,n+1):\n",
    "    tri_num=i*(i+1)//2\n",
    "    set52.add(tri_num)\n",
    "print(set52)\n",
    "    "
   ]
  },
  {
   "cell_type": "markdown",
   "id": "279654b5-146f-4864-b90a-ccf43fdfcbb4",
   "metadata": {},
   "source": [
    "**Q48: Check if a set contains another set as a subset.**"
   ]
  },
  {
   "cell_type": "code",
   "execution_count": 10,
   "id": "1c57be0d-a4b0-4dfb-853c-33047f128d72",
   "metadata": {},
   "outputs": [
    {
     "name": "stdout",
     "output_type": "stream",
     "text": [
      "set contains the subset\n"
     ]
    }
   ],
   "source": [
    "set53={4,5,6,1,7,8}\n",
    "set54={5,4,6}\n",
    "if set53.issuperset(set54):\n",
    "    print(\"set contains the subset\")\n",
    "else:\n",
    "    print(\"does not contain the subset\")"
   ]
  },
  {
   "cell_type": "markdown",
   "id": "6302bc09-2af1-451a-95fe-d14753153f39",
   "metadata": {},
   "source": [
    "**Q49: Create a set of alternating 1s and 0s of length `n`.**"
   ]
  },
  {
   "cell_type": "code",
   "execution_count": 12,
   "id": "4a9894c4-5047-4cfb-9ffb-b8de08120bdd",
   "metadata": {},
   "outputs": [
    {
     "name": "stdin",
     "output_type": "stream",
     "text": [
      "Enter the number 6\n"
     ]
    },
    {
     "name": "stdout",
     "output_type": "stream",
     "text": [
      "{0, 1}\n"
     ]
    }
   ],
   "source": [
    "set55=set()\n",
    "n=int(input(\"Enter the number\"))\n",
    "for i in range(n):\n",
    "    if i%2==0:\n",
    "        set55.add(1)\n",
    "    else:\n",
    "        set55.add(0)\n",
    "print(set55)"
   ]
  },
  {
   "cell_type": "markdown",
   "id": "2b277e94-a60a-487f-bf38-453120751a84",
   "metadata": {},
   "source": [
    "**Q50: Merge multiple sets into one.**"
   ]
  },
  {
   "cell_type": "code",
   "execution_count": 13,
   "id": "72bc8c46-da4d-4341-b674-24b6c0aa5fb0",
   "metadata": {},
   "outputs": [
    {
     "name": "stdout",
     "output_type": "stream",
     "text": [
      "{1, 2, 3, 4, 5, 6, 7, 8, 9}\n"
     ]
    }
   ],
   "source": [
    "set56 = {1, 2, 3}\n",
    "set57 = {4, 5, 6}\n",
    "set58 = {7, 8, 9}\n",
    "merged_set=set56.union(set57,set58)\n",
    "print(merged_set)"
   ]
  },
  {
   "cell_type": "code",
   "execution_count": null,
   "id": "bb634457-2679-4b5f-81d0-8bd4e38f4e25",
   "metadata": {},
   "outputs": [],
   "source": []
  }
 ],
 "metadata": {
  "kernelspec": {
   "display_name": "Python 3 (ipykernel)",
   "language": "python",
   "name": "python3"
  },
  "language_info": {
   "codemirror_mode": {
    "name": "ipython",
    "version": 3
   },
   "file_extension": ".py",
   "mimetype": "text/x-python",
   "name": "python",
   "nbconvert_exporter": "python",
   "pygments_lexer": "ipython3",
   "version": "3.10.13"
  }
 },
 "nbformat": 4,
 "nbformat_minor": 5
}
