{
 "cells": [
  {
   "cell_type": "code",
   "execution_count": 1,
   "id": "77e9fa43-65a0-41ab-9ccf-45c551d29c4c",
   "metadata": {},
   "outputs": [],
   "source": [
    "import numpy as np"
   ]
  },
  {
   "cell_type": "code",
   "execution_count": 2,
   "id": "09aa8dd9-b94a-4f41-85d8-abb4298268b5",
   "metadata": {},
   "outputs": [],
   "source": [
    "#numpy- array manipulation"
   ]
  },
  {
   "cell_type": "code",
   "execution_count": 4,
   "id": "15c3d66c-d027-421e-a6ac-2c0f6ba33d9a",
   "metadata": {},
   "outputs": [],
   "source": [
    "arr=np.random.randint(1,10, (4,4))"
   ]
  },
  {
   "cell_type": "code",
   "execution_count": 5,
   "id": "b3f7cac5-1811-4212-bb27-9511959a0609",
   "metadata": {},
   "outputs": [
    {
     "data": {
      "text/plain": [
       "array([[4, 7, 2, 9],\n",
       "       [9, 9, 5, 2],\n",
       "       [3, 4, 3, 7],\n",
       "       [9, 3, 1, 2]], dtype=int32)"
      ]
     },
     "execution_count": 5,
     "metadata": {},
     "output_type": "execute_result"
    }
   ],
   "source": [
    "arr"
   ]
  },
  {
   "cell_type": "code",
   "execution_count": 6,
   "id": "633d0fb0-605d-4be1-9bc7-4e0e72537043",
   "metadata": {},
   "outputs": [
    {
     "data": {
      "text/plain": [
       "array([[4, 7],\n",
       "       [2, 9],\n",
       "       [9, 9],\n",
       "       [5, 2],\n",
       "       [3, 4],\n",
       "       [3, 7],\n",
       "       [9, 3],\n",
       "       [1, 2]], dtype=int32)"
      ]
     },
     "execution_count": 6,
     "metadata": {},
     "output_type": "execute_result"
    }
   ],
   "source": [
    "arr.reshape(8,2)"
   ]
  },
  {
   "cell_type": "code",
   "execution_count": 8,
   "id": "f2622242-2f81-4785-98d0-a6ef5ca58c82",
   "metadata": {},
   "outputs": [
    {
     "data": {
      "text/plain": [
       "array([[4, 9, 3, 9],\n",
       "       [7, 9, 4, 3],\n",
       "       [2, 5, 3, 1],\n",
       "       [9, 2, 7, 2]], dtype=int32)"
      ]
     },
     "execution_count": 8,
     "metadata": {},
     "output_type": "execute_result"
    }
   ],
   "source": [
    "arr.T"
   ]
  },
  {
   "cell_type": "code",
   "execution_count": 9,
   "id": "f9623536-73a2-4fff-9f7a-cb9e62c50b96",
   "metadata": {},
   "outputs": [
    {
     "data": {
      "text/plain": [
       "array([4, 7, 2, 9, 9, 9, 5, 2, 3, 4, 3, 7, 9, 3, 1, 2], dtype=int32)"
      ]
     },
     "execution_count": 9,
     "metadata": {},
     "output_type": "execute_result"
    }
   ],
   "source": [
    "arr.flatten()"
   ]
  },
  {
   "cell_type": "code",
   "execution_count": 11,
   "id": "7dc16ff8-6b32-454b-a0b8-3375df5ee495",
   "metadata": {},
   "outputs": [
    {
     "data": {
      "text/plain": [
       "array([[[4, 7, 2, 9]],\n",
       "\n",
       "       [[9, 9, 5, 2]],\n",
       "\n",
       "       [[3, 4, 3, 7]],\n",
       "\n",
       "       [[9, 3, 1, 2]]], dtype=int32)"
      ]
     },
     "execution_count": 11,
     "metadata": {},
     "output_type": "execute_result"
    }
   ],
   "source": [
    "np.expand_dims(arr, axis=1) #(4,1,4)"
   ]
  },
  {
   "cell_type": "code",
   "execution_count": 13,
   "id": "93d9fea7-a99f-4bf3-9700-80f65f11c453",
   "metadata": {},
   "outputs": [
    {
     "data": {
      "text/plain": [
       "array([[[4, 7, 2, 9],\n",
       "        [9, 9, 5, 2],\n",
       "        [3, 4, 3, 7],\n",
       "        [9, 3, 1, 2]]], dtype=int32)"
      ]
     },
     "execution_count": 13,
     "metadata": {},
     "output_type": "execute_result"
    }
   ],
   "source": [
    "np.expand_dims(arr, axis=0) #(1,4,4)"
   ]
  },
  {
   "cell_type": "code",
   "execution_count": 14,
   "id": "fd971588-f1d9-4a09-bb69-fa9cd9c47744",
   "metadata": {},
   "outputs": [],
   "source": [
    "data=np.array([[1],[2],[3]])"
   ]
  },
  {
   "cell_type": "code",
   "execution_count": 15,
   "id": "6a6d45bf-ec50-41f5-a157-a5bc26a73f0d",
   "metadata": {},
   "outputs": [
    {
     "data": {
      "text/plain": [
       "array([1, 2, 3])"
      ]
     },
     "execution_count": 15,
     "metadata": {},
     "output_type": "execute_result"
    }
   ],
   "source": [
    "np.squeeze(data)"
   ]
  },
  {
   "cell_type": "code",
   "execution_count": 16,
   "id": "086bdead-94fe-4e54-8eb0-04627a6ea2ee",
   "metadata": {},
   "outputs": [
    {
     "data": {
      "text/plain": [
       "array([1, 1, 2, 2, 3, 3])"
      ]
     },
     "execution_count": 16,
     "metadata": {},
     "output_type": "execute_result"
    }
   ],
   "source": [
    "np.repeat(data, 2)"
   ]
  },
  {
   "cell_type": "code",
   "execution_count": 17,
   "id": "4cd00f47-9f01-4038-83fd-1b303fb1c2fa",
   "metadata": {},
   "outputs": [
    {
     "data": {
      "text/plain": [
       "array([[1],\n",
       "       [2],\n",
       "       [3]])"
      ]
     },
     "execution_count": 17,
     "metadata": {},
     "output_type": "execute_result"
    }
   ],
   "source": [
    "np.roll(data,3)"
   ]
  },
  {
   "cell_type": "code",
   "execution_count": 18,
   "id": "c9d880fb-b0a4-4106-a26d-b28a08d478bb",
   "metadata": {},
   "outputs": [
    {
     "data": {
      "text/plain": [
       "array([[2],\n",
       "       [3],\n",
       "       [1]])"
      ]
     },
     "execution_count": 18,
     "metadata": {},
     "output_type": "execute_result"
    }
   ],
   "source": [
    "np.roll(data, 2)"
   ]
  },
  {
   "cell_type": "code",
   "execution_count": 19,
   "id": "1b27f80d-92d1-478b-999a-2af0555769e4",
   "metadata": {},
   "outputs": [
    {
     "data": {
      "text/plain": [
       "array([[1, 0, 0, 0],\n",
       "       [0, 2, 0, 0],\n",
       "       [0, 0, 3, 0],\n",
       "       [0, 0, 0, 4]])"
      ]
     },
     "execution_count": 19,
     "metadata": {},
     "output_type": "execute_result"
    }
   ],
   "source": [
    "np.diag(np.array([1,2,3,4]))"
   ]
  },
  {
   "cell_type": "code",
   "execution_count": 20,
   "id": "dcc86c98-91c9-422b-b610-529a55129494",
   "metadata": {},
   "outputs": [],
   "source": [
    "#numpy- binary operators"
   ]
  },
  {
   "cell_type": "code",
   "execution_count": 22,
   "id": "4ae47064-b761-4830-9a4e-42add6fae062",
   "metadata": {},
   "outputs": [],
   "source": [
    "arr1=np.random.randint(1,10, (3,4))\n",
    "arr2=np.random.randint(1,10, (3,4))"
   ]
  },
  {
   "cell_type": "code",
   "execution_count": 23,
   "id": "abdc597f-2ee8-40c2-99c9-0738b7781b07",
   "metadata": {},
   "outputs": [
    {
     "data": {
      "text/plain": [
       "array([[4, 9, 7, 4],\n",
       "       [7, 6, 9, 4],\n",
       "       [4, 9, 6, 1]], dtype=int32)"
      ]
     },
     "execution_count": 23,
     "metadata": {},
     "output_type": "execute_result"
    }
   ],
   "source": [
    "arr1"
   ]
  },
  {
   "cell_type": "code",
   "execution_count": 24,
   "id": "13a44f2a-4987-4f7a-b909-4d18e02e33cc",
   "metadata": {},
   "outputs": [
    {
     "data": {
      "text/plain": [
       "array([[1, 5, 7, 7],\n",
       "       [5, 4, 5, 3],\n",
       "       [1, 6, 1, 2]], dtype=int32)"
      ]
     },
     "execution_count": 24,
     "metadata": {},
     "output_type": "execute_result"
    }
   ],
   "source": [
    "arr2"
   ]
  },
  {
   "cell_type": "code",
   "execution_count": 25,
   "id": "b0c0554a-fc26-4682-bbd6-ff7ac2fb9c46",
   "metadata": {},
   "outputs": [
    {
     "data": {
      "text/plain": [
       "array([[ 5, 14, 14, 11],\n",
       "       [12, 10, 14,  7],\n",
       "       [ 5, 15,  7,  3]], dtype=int32)"
      ]
     },
     "execution_count": 25,
     "metadata": {},
     "output_type": "execute_result"
    }
   ],
   "source": [
    "arr1+arr2"
   ]
  },
  {
   "cell_type": "code",
   "execution_count": 26,
   "id": "0c17f248-5311-427b-87ca-80e155c1014d",
   "metadata": {},
   "outputs": [
    {
     "data": {
      "text/plain": [
       "array([[ 4, 45, 49, 28],\n",
       "       [35, 24, 45, 12],\n",
       "       [ 4, 54,  6,  2]], dtype=int32)"
      ]
     },
     "execution_count": 26,
     "metadata": {},
     "output_type": "execute_result"
    }
   ],
   "source": [
    "arr1*arr2"
   ]
  },
  {
   "cell_type": "code",
   "execution_count": 27,
   "id": "7c7f58fa-9fd1-43e8-9991-ac926c0573c4",
   "metadata": {},
   "outputs": [
    {
     "data": {
      "text/plain": [
       "array([[4.        , 1.8       , 1.        , 0.57142857],\n",
       "       [1.4       , 1.5       , 1.8       , 1.33333333],\n",
       "       [4.        , 1.5       , 6.        , 0.5       ]])"
      ]
     },
     "execution_count": 27,
     "metadata": {},
     "output_type": "execute_result"
    }
   ],
   "source": [
    "arr1/arr2"
   ]
  },
  {
   "cell_type": "code",
   "execution_count": 28,
   "id": "70ba0c3a-2e2d-4a0a-ab65-8e9db3bdfb53",
   "metadata": {},
   "outputs": [
    {
     "data": {
      "text/plain": [
       "array([[ 3,  4,  0, -3],\n",
       "       [ 2,  2,  4,  1],\n",
       "       [ 3,  3,  5, -1]], dtype=int32)"
      ]
     },
     "execution_count": 28,
     "metadata": {},
     "output_type": "execute_result"
    }
   ],
   "source": [
    "arr1-arr2"
   ]
  },
  {
   "cell_type": "code",
   "execution_count": 29,
   "id": "d7d05f3f-8ac4-4ade-bb1d-5eb23cec82f9",
   "metadata": {},
   "outputs": [
    {
     "data": {
      "text/plain": [
       "array([[     4,  59049, 823543,  16384],\n",
       "       [ 16807,   1296,  59049,     64],\n",
       "       [     4, 531441,      6,      1]], dtype=int32)"
      ]
     },
     "execution_count": 29,
     "metadata": {},
     "output_type": "execute_result"
    }
   ],
   "source": [
    "arr1**arr2"
   ]
  },
  {
   "cell_type": "code",
   "execution_count": 30,
   "id": "8085af23-daff-4b5e-b0e4-f2e3449bf0ae",
   "metadata": {},
   "outputs": [
    {
     "data": {
      "text/plain": [
       "array([[ True,  True, False, False],\n",
       "       [ True,  True,  True,  True],\n",
       "       [ True,  True,  True, False]])"
      ]
     },
     "execution_count": 30,
     "metadata": {},
     "output_type": "execute_result"
    }
   ],
   "source": [
    "arr1>arr2"
   ]
  },
  {
   "cell_type": "code",
   "execution_count": 31,
   "id": "9174c21a-2540-41bb-bf59-b5ce834d92c5",
   "metadata": {},
   "outputs": [],
   "source": [
    "#numpy- string functions"
   ]
  },
  {
   "cell_type": "code",
   "execution_count": 32,
   "id": "337bef6e-ab74-4da8-89c8-17176986a230",
   "metadata": {},
   "outputs": [],
   "source": [
    "arr3= np.array([\"deep\", \"singh\"])"
   ]
  },
  {
   "cell_type": "code",
   "execution_count": 33,
   "id": "f4cd9897-83f5-46b6-8609-9ba56168efba",
   "metadata": {},
   "outputs": [
    {
     "data": {
      "text/plain": [
       "array(['deep', 'singh'], dtype='<U5')"
      ]
     },
     "execution_count": 33,
     "metadata": {},
     "output_type": "execute_result"
    }
   ],
   "source": [
    "arr3"
   ]
  },
  {
   "cell_type": "code",
   "execution_count": 34,
   "id": "54eecc6e-31cd-4e0f-92bd-c671014e0359",
   "metadata": {},
   "outputs": [
    {
     "data": {
      "text/plain": [
       "array(['DEEP', 'SINGH'], dtype='<U5')"
      ]
     },
     "execution_count": 34,
     "metadata": {},
     "output_type": "execute_result"
    }
   ],
   "source": [
    "np.char.upper(arr3)"
   ]
  },
  {
   "cell_type": "code",
   "execution_count": 35,
   "id": "cfa56418-6444-43d4-8d5f-0eb307a5d750",
   "metadata": {},
   "outputs": [
    {
     "data": {
      "text/plain": [
       "array(['Deep', 'Singh'], dtype='<U5')"
      ]
     },
     "execution_count": 35,
     "metadata": {},
     "output_type": "execute_result"
    }
   ],
   "source": [
    "np.char.capitalize(arr3) #first letter"
   ]
  },
  {
   "cell_type": "code",
   "execution_count": 37,
   "id": "92bb0a87-35cf-4924-b35a-bf468fcaa5c2",
   "metadata": {},
   "outputs": [
    {
     "data": {
      "text/plain": [
       "array(['Deep', 'Singh'], dtype='<U5')"
      ]
     },
     "execution_count": 37,
     "metadata": {},
     "output_type": "execute_result"
    }
   ],
   "source": [
    "np.char.title(arr3) #first letter of every word"
   ]
  },
  {
   "cell_type": "code",
   "execution_count": 38,
   "id": "7a576e3c-4c3f-4808-b0aa-f19b7ab8e2e9",
   "metadata": {},
   "outputs": [],
   "source": [
    "#numpy- mathematical functions"
   ]
  },
  {
   "cell_type": "code",
   "execution_count": 39,
   "id": "7e5c6433-ff94-4720-b963-d2cfa51b2e6a",
   "metadata": {},
   "outputs": [
    {
     "data": {
      "text/plain": [
       "array([[4, 9, 7, 4],\n",
       "       [7, 6, 9, 4],\n",
       "       [4, 9, 6, 1]], dtype=int32)"
      ]
     },
     "execution_count": 39,
     "metadata": {},
     "output_type": "execute_result"
    }
   ],
   "source": [
    "arr1"
   ]
  },
  {
   "cell_type": "code",
   "execution_count": 40,
   "id": "b88c9221-34cf-4437-ad28-3aac14546439",
   "metadata": {},
   "outputs": [
    {
     "data": {
      "text/plain": [
       "array([[-0.7568025 ,  0.41211849,  0.6569866 , -0.7568025 ],\n",
       "       [ 0.6569866 , -0.2794155 ,  0.41211849, -0.7568025 ],\n",
       "       [-0.7568025 ,  0.41211849, -0.2794155 ,  0.84147098]])"
      ]
     },
     "execution_count": 40,
     "metadata": {},
     "output_type": "execute_result"
    }
   ],
   "source": [
    "np.sin(arr1)"
   ]
  },
  {
   "cell_type": "code",
   "execution_count": 41,
   "id": "a65b0516-3040-4f08-9592-da5621c838c9",
   "metadata": {},
   "outputs": [
    {
     "data": {
      "text/plain": [
       "array([[-0.65364362, -0.91113026,  0.75390225, -0.65364362],\n",
       "       [ 0.75390225,  0.96017029, -0.91113026, -0.65364362],\n",
       "       [-0.65364362, -0.91113026,  0.96017029,  0.54030231]])"
      ]
     },
     "execution_count": 41,
     "metadata": {},
     "output_type": "execute_result"
    }
   ],
   "source": [
    "np.cos(arr1)"
   ]
  },
  {
   "cell_type": "code",
   "execution_count": 42,
   "id": "faff1894-3c19-438f-a146-b97b3e60efa8",
   "metadata": {},
   "outputs": [
    {
     "data": {
      "text/plain": [
       "array([[ 1.15782128, -0.45231566,  0.87144798,  1.15782128],\n",
       "       [ 0.87144798, -0.29100619, -0.45231566,  1.15782128],\n",
       "       [ 1.15782128, -0.45231566, -0.29100619,  1.55740772]])"
      ]
     },
     "execution_count": 42,
     "metadata": {},
     "output_type": "execute_result"
    }
   ],
   "source": [
    "np.tan(arr1)"
   ]
  },
  {
   "cell_type": "code",
   "execution_count": 43,
   "id": "ba492d6b-64ff-41f5-99fe-8e04c7d0f3c2",
   "metadata": {},
   "outputs": [
    {
     "data": {
      "text/plain": [
       "array([[0.60205999, 0.95424251, 0.84509804, 0.60205999],\n",
       "       [0.84509804, 0.77815125, 0.95424251, 0.60205999],\n",
       "       [0.60205999, 0.95424251, 0.77815125, 0.        ]])"
      ]
     },
     "execution_count": 43,
     "metadata": {},
     "output_type": "execute_result"
    }
   ],
   "source": [
    "np.log10(arr1)"
   ]
  },
  {
   "cell_type": "code",
   "execution_count": 44,
   "id": "a9f0558f-6bfb-49b7-af81-ee5269fa5edc",
   "metadata": {},
   "outputs": [
    {
     "data": {
      "text/plain": [
       "array([[5.45981500e+01, 8.10308393e+03, 1.09663316e+03, 5.45981500e+01],\n",
       "       [1.09663316e+03, 4.03428793e+02, 8.10308393e+03, 5.45981500e+01],\n",
       "       [5.45981500e+01, 8.10308393e+03, 4.03428793e+02, 2.71828183e+00]])"
      ]
     },
     "execution_count": 44,
     "metadata": {},
     "output_type": "execute_result"
    }
   ],
   "source": [
    "np.exp(arr1)"
   ]
  },
  {
   "cell_type": "code",
   "execution_count": 45,
   "id": "4db9e98c-1129-4f06-bdf5-7eaf5737da36",
   "metadata": {},
   "outputs": [
    {
     "data": {
      "text/plain": [
       "array([[16, 81, 49, 16],\n",
       "       [49, 36, 81, 16],\n",
       "       [16, 81, 36,  1]], dtype=int32)"
      ]
     },
     "execution_count": 45,
     "metadata": {},
     "output_type": "execute_result"
    }
   ],
   "source": [
    "np.power(arr1, 2)"
   ]
  },
  {
   "cell_type": "code",
   "execution_count": 46,
   "id": "d9d31c5f-2f5e-467a-92a2-a4f22b44f697",
   "metadata": {},
   "outputs": [
    {
     "data": {
      "text/plain": [
       "np.float64(5.833333333333333)"
      ]
     },
     "execution_count": 46,
     "metadata": {},
     "output_type": "execute_result"
    }
   ],
   "source": [
    "np.mean(arr1)"
   ]
  },
  {
   "cell_type": "code",
   "execution_count": 47,
   "id": "203cdb73-25f8-4818-9e06-04250d7fbb73",
   "metadata": {},
   "outputs": [
    {
     "data": {
      "text/plain": [
       "np.float64(6.0)"
      ]
     },
     "execution_count": 47,
     "metadata": {},
     "output_type": "execute_result"
    }
   ],
   "source": [
    "np.median(arr1)"
   ]
  },
  {
   "cell_type": "code",
   "execution_count": 48,
   "id": "acc72bda-44e4-4159-9529-66ecff064782",
   "metadata": {},
   "outputs": [
    {
     "data": {
      "text/plain": [
       "np.float64(2.4094720491334933)"
      ]
     },
     "execution_count": 48,
     "metadata": {},
     "output_type": "execute_result"
    }
   ],
   "source": [
    "np.std(arr1)"
   ]
  },
  {
   "cell_type": "code",
   "execution_count": 49,
   "id": "3addc3b5-c941-46c6-a493-78c54705141e",
   "metadata": {},
   "outputs": [
    {
     "data": {
      "text/plain": [
       "np.float64(5.8055555555555545)"
      ]
     },
     "execution_count": 49,
     "metadata": {},
     "output_type": "execute_result"
    }
   ],
   "source": [
    "np.var(arr1)"
   ]
  },
  {
   "cell_type": "code",
   "execution_count": 50,
   "id": "55248126-67f2-4392-8578-131a69828fe8",
   "metadata": {},
   "outputs": [
    {
     "data": {
      "text/plain": [
       "np.int32(1)"
      ]
     },
     "execution_count": 50,
     "metadata": {},
     "output_type": "execute_result"
    }
   ],
   "source": [
    "np.min(arr1)"
   ]
  },
  {
   "cell_type": "code",
   "execution_count": 51,
   "id": "c9654de4-07c7-4abc-81df-923806924e85",
   "metadata": {},
   "outputs": [
    {
     "data": {
      "text/plain": [
       "np.int32(9)"
      ]
     },
     "execution_count": 51,
     "metadata": {},
     "output_type": "execute_result"
    }
   ],
   "source": [
    "np.max(arr1)"
   ]
  },
  {
   "cell_type": "code",
   "execution_count": 52,
   "id": "ac8b0b39-9835-4f9e-9d07-12eb1fe5b95b",
   "metadata": {},
   "outputs": [],
   "source": [
    "#numpy- arithmetic operations"
   ]
  },
  {
   "cell_type": "code",
   "execution_count": 53,
   "id": "9b058b7a-6c46-4bb6-9000-5e9979d787f1",
   "metadata": {},
   "outputs": [
    {
     "data": {
      "text/plain": [
       "array([[4, 9, 7, 4],\n",
       "       [7, 6, 9, 4],\n",
       "       [4, 9, 6, 1]], dtype=int32)"
      ]
     },
     "execution_count": 53,
     "metadata": {},
     "output_type": "execute_result"
    }
   ],
   "source": [
    "arr1"
   ]
  },
  {
   "cell_type": "code",
   "execution_count": 54,
   "id": "df5e4870-e332-426e-b9d3-417c1fd9a03f",
   "metadata": {},
   "outputs": [
    {
     "data": {
      "text/plain": [
       "array([[1, 5, 7, 7],\n",
       "       [5, 4, 5, 3],\n",
       "       [1, 6, 1, 2]], dtype=int32)"
      ]
     },
     "execution_count": 54,
     "metadata": {},
     "output_type": "execute_result"
    }
   ],
   "source": [
    "arr2"
   ]
  },
  {
   "cell_type": "code",
   "execution_count": 55,
   "id": "38cbb90b-b411-4764-9e30-317993f2829c",
   "metadata": {},
   "outputs": [
    {
     "data": {
      "text/plain": [
       "array([[ 3,  4,  0, -3],\n",
       "       [ 2,  2,  4,  1],\n",
       "       [ 3,  3,  5, -1]], dtype=int32)"
      ]
     },
     "execution_count": 55,
     "metadata": {},
     "output_type": "execute_result"
    }
   ],
   "source": [
    "arr1-arr2"
   ]
  },
  {
   "cell_type": "code",
   "execution_count": 56,
   "id": "7ba1a0c3-5cf2-41ff-b89a-251336d38c46",
   "metadata": {},
   "outputs": [
    {
     "data": {
      "text/plain": [
       "array([[ 3,  4,  0, -3],\n",
       "       [ 2,  2,  4,  1],\n",
       "       [ 3,  3,  5, -1]], dtype=int32)"
      ]
     },
     "execution_count": 56,
     "metadata": {},
     "output_type": "execute_result"
    }
   ],
   "source": [
    "np.subtract(arr1, arr2)"
   ]
  },
  {
   "cell_type": "code",
   "execution_count": 57,
   "id": "c3faab9e-6174-4f16-9010-09c67f4d851c",
   "metadata": {},
   "outputs": [
    {
     "data": {
      "text/plain": [
       "array([[ 4, 45, 49, 28],\n",
       "       [35, 24, 45, 12],\n",
       "       [ 4, 54,  6,  2]], dtype=int32)"
      ]
     },
     "execution_count": 57,
     "metadata": {},
     "output_type": "execute_result"
    }
   ],
   "source": [
    "np.multiply(arr1, arr2)"
   ]
  },
  {
   "cell_type": "code",
   "execution_count": 58,
   "id": "b40039b8-17f9-4eb0-828f-6faa73c699c6",
   "metadata": {},
   "outputs": [
    {
     "data": {
      "text/plain": [
       "array([[0, 4, 0, 4],\n",
       "       [2, 2, 4, 1],\n",
       "       [0, 3, 0, 1]], dtype=int32)"
      ]
     },
     "execution_count": 58,
     "metadata": {},
     "output_type": "execute_result"
    }
   ],
   "source": [
    "np.mod(arr1, arr2)"
   ]
  },
  {
   "cell_type": "code",
   "execution_count": 59,
   "id": "1ab59d2f-788c-460b-9eee-8e6a956a9cca",
   "metadata": {},
   "outputs": [
    {
     "data": {
      "text/plain": [
       "array([[     4,  59049, 823543,  16384],\n",
       "       [ 16807,   1296,  59049,     64],\n",
       "       [     4, 531441,      6,      1]], dtype=int32)"
      ]
     },
     "execution_count": 59,
     "metadata": {},
     "output_type": "execute_result"
    }
   ],
   "source": [
    "np.power(arr1, arr2)"
   ]
  },
  {
   "cell_type": "code",
   "execution_count": 60,
   "id": "5527dc40-4057-443e-8b75-3ba4ba4e68ae",
   "metadata": {},
   "outputs": [
    {
     "data": {
      "text/plain": [
       "array([[2.        , 3.        , 2.64575131, 2.        ],\n",
       "       [2.64575131, 2.44948974, 3.        , 2.        ],\n",
       "       [2.        , 3.        , 2.44948974, 1.        ]])"
      ]
     },
     "execution_count": 60,
     "metadata": {},
     "output_type": "execute_result"
    }
   ],
   "source": [
    "np.sqrt(arr1)"
   ]
  },
  {
   "cell_type": "code",
   "execution_count": 61,
   "id": "f8f4878c-cb8f-4de0-8c1a-4e19e0c2fffa",
   "metadata": {},
   "outputs": [],
   "source": [
    "#numpy- statistical functions"
   ]
  },
  {
   "cell_type": "code",
   "execution_count": 62,
   "id": "923a9efb-be4b-4737-b11c-574ffa8c0152",
   "metadata": {},
   "outputs": [
    {
     "data": {
      "text/plain": [
       "array([[4, 9, 7, 4],\n",
       "       [7, 6, 9, 4],\n",
       "       [4, 9, 6, 1]], dtype=int32)"
      ]
     },
     "execution_count": 62,
     "metadata": {},
     "output_type": "execute_result"
    }
   ],
   "source": [
    "arr1"
   ]
  },
  {
   "cell_type": "code",
   "execution_count": 63,
   "id": "59a84e15-55ca-4a59-89de-96d11ee312dc",
   "metadata": {},
   "outputs": [
    {
     "data": {
      "text/plain": [
       "np.float64(5.833333333333333)"
      ]
     },
     "execution_count": 63,
     "metadata": {},
     "output_type": "execute_result"
    }
   ],
   "source": [
    "np.mean(arr1)"
   ]
  },
  {
   "cell_type": "code",
   "execution_count": 65,
   "id": "75b6b63d-1d46-4d91-80c5-cedb5e2abff3",
   "metadata": {},
   "outputs": [
    {
     "data": {
      "text/plain": [
       "np.float64(2.4094720491334933)"
      ]
     },
     "execution_count": 65,
     "metadata": {},
     "output_type": "execute_result"
    }
   ],
   "source": [
    "np.std(arr1)"
   ]
  },
  {
   "cell_type": "code",
   "execution_count": 66,
   "id": "44e6c575-6cf9-4aeb-a468-f0607449566b",
   "metadata": {},
   "outputs": [
    {
     "data": {
      "text/plain": [
       "np.float64(6.0)"
      ]
     },
     "execution_count": 66,
     "metadata": {},
     "output_type": "execute_result"
    }
   ],
   "source": [
    "np.median(arr1)"
   ]
  },
  {
   "cell_type": "code",
   "execution_count": 67,
   "id": "51da2f27-0ee1-46c4-85a4-4d91ef7ea339",
   "metadata": {},
   "outputs": [],
   "source": [
    "#sort, search and counting functions"
   ]
  },
  {
   "cell_type": "code",
   "execution_count": 69,
   "id": "b66c34ea-138b-41a7-a433-6290d2dcb9e4",
   "metadata": {},
   "outputs": [],
   "source": [
    "arr4=np.array([2,5,1,7,9,23,4,0])"
   ]
  },
  {
   "cell_type": "code",
   "execution_count": 70,
   "id": "37621e92-8ac7-450c-a6d5-9b544c9b25e4",
   "metadata": {},
   "outputs": [
    {
     "data": {
      "text/plain": [
       "array([ 2,  5,  1,  7,  9, 23,  4,  0])"
      ]
     },
     "execution_count": 70,
     "metadata": {},
     "output_type": "execute_result"
    }
   ],
   "source": [
    "arr4"
   ]
  },
  {
   "cell_type": "code",
   "execution_count": 72,
   "id": "ef249b1f-c59c-456e-b637-d80e13c5f3f8",
   "metadata": {},
   "outputs": [
    {
     "data": {
      "text/plain": [
       "array([ 0,  1,  2,  4,  5,  7,  9, 23])"
      ]
     },
     "execution_count": 72,
     "metadata": {},
     "output_type": "execute_result"
    }
   ],
   "source": [
    "np.sort(arr4)"
   ]
  },
  {
   "cell_type": "code",
   "execution_count": 73,
   "id": "cd8d41ca-8749-41e5-b91b-399d303bb4a4",
   "metadata": {},
   "outputs": [
    {
     "data": {
      "text/plain": [
       "np.int64(5)"
      ]
     },
     "execution_count": 73,
     "metadata": {},
     "output_type": "execute_result"
    }
   ],
   "source": [
    "np.searchsorted(arr4,6)"
   ]
  },
  {
   "cell_type": "code",
   "execution_count": 75,
   "id": "ef669594-f488-438f-bee4-a3e2cf6b628e",
   "metadata": {},
   "outputs": [],
   "source": [
    "arr5=np.array([1,2,7,0,0,45,0,3,0,56,0,0])"
   ]
  },
  {
   "cell_type": "code",
   "execution_count": 76,
   "id": "83eddc1b-9d6d-491b-b25e-29159b32194d",
   "metadata": {},
   "outputs": [
    {
     "data": {
      "text/plain": [
       "6"
      ]
     },
     "execution_count": 76,
     "metadata": {},
     "output_type": "execute_result"
    }
   ],
   "source": [
    "np.count_nonzero(arr5)"
   ]
  },
  {
   "cell_type": "code",
   "execution_count": 77,
   "id": "caf972ab-a607-48f5-af83-90773b2ff84c",
   "metadata": {},
   "outputs": [
    {
     "data": {
      "text/plain": [
       "(array([0, 1, 2, 5, 7, 9]),)"
      ]
     },
     "execution_count": 77,
     "metadata": {},
     "output_type": "execute_result"
    }
   ],
   "source": [
    "np.where(arr5>0)"
   ]
  },
  {
   "cell_type": "code",
   "execution_count": 79,
   "id": "a2eacf68-0756-491e-9aa0-0377cdd30462",
   "metadata": {},
   "outputs": [
    {
     "data": {
      "text/plain": [
       "array([ 7, 45,  3, 56])"
      ]
     },
     "execution_count": 79,
     "metadata": {},
     "output_type": "execute_result"
    }
   ],
   "source": [
    "np.extract(arr5>2, arr5)"
   ]
  },
  {
   "cell_type": "code",
   "execution_count": 80,
   "id": "8780ae48-94cc-4f99-84f8-a8582ff267f0",
   "metadata": {},
   "outputs": [],
   "source": [
    "#numpy- byte swapping"
   ]
  },
  {
   "cell_type": "code",
   "execution_count": 81,
   "id": "821041f8-061a-4b9d-bae6-5a912721a672",
   "metadata": {},
   "outputs": [
    {
     "data": {
      "text/plain": [
       "array([ 1,  2,  7,  0,  0, 45,  0,  3,  0, 56,  0,  0])"
      ]
     },
     "execution_count": 81,
     "metadata": {},
     "output_type": "execute_result"
    }
   ],
   "source": [
    "arr5"
   ]
  },
  {
   "cell_type": "code",
   "execution_count": 82,
   "id": "8c6a3e1a-ab2f-4e89-bf81-361d168dd855",
   "metadata": {},
   "outputs": [
    {
     "data": {
      "text/plain": [
       "array([  72057594037927936,  144115188075855872,  504403158265495552,\n",
       "                         0,                   0, 3242591731706757120,\n",
       "                         0,  216172782113783808,                   0,\n",
       "       4035225266123964416,                   0,                   0])"
      ]
     },
     "execution_count": 82,
     "metadata": {},
     "output_type": "execute_result"
    }
   ],
   "source": [
    "arr5.byteswap()"
   ]
  },
  {
   "cell_type": "code",
   "execution_count": 83,
   "id": "55f27316-338f-4e8a-a3d5-b8583b5e1df1",
   "metadata": {},
   "outputs": [
    {
     "data": {
      "text/plain": [
       "array([ 1,  2,  7,  0,  0, 45,  0,  3,  0, 56,  0,  0])"
      ]
     },
     "execution_count": 83,
     "metadata": {},
     "output_type": "execute_result"
    }
   ],
   "source": [
    "arr5"
   ]
  },
  {
   "cell_type": "code",
   "execution_count": 84,
   "id": "a887f7b2-8ada-4c3f-b066-077db33a5de5",
   "metadata": {},
   "outputs": [
    {
     "data": {
      "text/plain": [
       "array([  72057594037927936,  144115188075855872,  504403158265495552,\n",
       "                         0,                   0, 3242591731706757120,\n",
       "                         0,  216172782113783808,                   0,\n",
       "       4035225266123964416,                   0,                   0])"
      ]
     },
     "execution_count": 84,
     "metadata": {},
     "output_type": "execute_result"
    }
   ],
   "source": [
    "arr5.byteswap(True)"
   ]
  },
  {
   "cell_type": "code",
   "execution_count": 85,
   "id": "746adc98-c7b5-4da3-b438-ee34a3479237",
   "metadata": {},
   "outputs": [
    {
     "data": {
      "text/plain": [
       "array([  72057594037927936,  144115188075855872,  504403158265495552,\n",
       "                         0,                   0, 3242591731706757120,\n",
       "                         0,  216172782113783808,                   0,\n",
       "       4035225266123964416,                   0,                   0])"
      ]
     },
     "execution_count": 85,
     "metadata": {},
     "output_type": "execute_result"
    }
   ],
   "source": [
    "arr5"
   ]
  },
  {
   "cell_type": "code",
   "execution_count": 86,
   "id": "c793594a-c75f-46c5-b89e-aec1469f58a3",
   "metadata": {},
   "outputs": [],
   "source": [
    "#numpy- copy and views"
   ]
  },
  {
   "cell_type": "code",
   "execution_count": 89,
   "id": "6d56153d-4a4e-4db3-aa27-667571ba576d",
   "metadata": {},
   "outputs": [
    {
     "data": {
      "text/plain": [
       "array([ 0,  1,  2,  4,  5,  7,  9, 23])"
      ]
     },
     "execution_count": 89,
     "metadata": {},
     "output_type": "execute_result"
    }
   ],
   "source": [
    "arr4"
   ]
  },
  {
   "cell_type": "code",
   "execution_count": 90,
   "id": "3b8995f5-5de0-4e4f-84cf-eb39b7e11663",
   "metadata": {},
   "outputs": [],
   "source": [
    "a=np.copy(arr4)"
   ]
  },
  {
   "cell_type": "code",
   "execution_count": 91,
   "id": "bfc266ad-22c3-4714-b1e9-15ec32cfe9da",
   "metadata": {},
   "outputs": [],
   "source": [
    "b=arr4.view()"
   ]
  },
  {
   "cell_type": "code",
   "execution_count": 92,
   "id": "7b680b16-4483-4ede-8480-d2ff83dba457",
   "metadata": {},
   "outputs": [
    {
     "data": {
      "text/plain": [
       "array([ 0,  1,  2,  4,  5,  7,  9, 23])"
      ]
     },
     "execution_count": 92,
     "metadata": {},
     "output_type": "execute_result"
    }
   ],
   "source": [
    "b"
   ]
  },
  {
   "cell_type": "code",
   "execution_count": 93,
   "id": "403dd5df-d21d-46a6-9f5a-b3757567e1e4",
   "metadata": {},
   "outputs": [],
   "source": [
    "b[0]=234"
   ]
  },
  {
   "cell_type": "code",
   "execution_count": 94,
   "id": "4c17bbf0-9ce2-4528-9c63-13b104ec186e",
   "metadata": {},
   "outputs": [
    {
     "data": {
      "text/plain": [
       "array([234,   1,   2,   4,   5,   7,   9,  23])"
      ]
     },
     "execution_count": 94,
     "metadata": {},
     "output_type": "execute_result"
    }
   ],
   "source": [
    "arr4"
   ]
  },
  {
   "cell_type": "code",
   "execution_count": 95,
   "id": "65318aac-768c-471f-b934-02e6e5a4db04",
   "metadata": {},
   "outputs": [],
   "source": [
    "#numpy- matrix library"
   ]
  },
  {
   "cell_type": "code",
   "execution_count": 96,
   "id": "7ce4a7b7-5b94-442b-a604-944e358b32a3",
   "metadata": {},
   "outputs": [],
   "source": [
    "import numpy.matlib as nm"
   ]
  },
  {
   "cell_type": "code",
   "execution_count": 97,
   "id": "bb47c1ea-241e-4e5b-b35a-ea16e24f7f58",
   "metadata": {},
   "outputs": [],
   "source": [
    "#This module provides functions for creating matrices, which are specific 2D arrays often used in linear algebra operations."
   ]
  },
  {
   "cell_type": "code",
   "execution_count": 98,
   "id": "d52c90aa-3f82-4cfb-af3f-6d0a9e73d1f4",
   "metadata": {},
   "outputs": [
    {
     "data": {
      "text/plain": [
       "matrix([[0., 0., 0., 0., 0.]])"
      ]
     },
     "execution_count": 98,
     "metadata": {},
     "output_type": "execute_result"
    }
   ],
   "source": [
    "nm.zeros(5)"
   ]
  },
  {
   "cell_type": "code",
   "execution_count": 99,
   "id": "e13d1d2c-077c-4a98-b93c-f374a3c16d39",
   "metadata": {},
   "outputs": [
    {
     "data": {
      "text/plain": [
       "matrix([[1., 1., 1., 1.],\n",
       "        [1., 1., 1., 1.],\n",
       "        [1., 1., 1., 1.]])"
      ]
     },
     "execution_count": 99,
     "metadata": {},
     "output_type": "execute_result"
    }
   ],
   "source": [
    "nm.ones((3,4))"
   ]
  },
  {
   "cell_type": "code",
   "execution_count": 100,
   "id": "78e57023-5c46-4d4f-b51a-53b08bb91c06",
   "metadata": {},
   "outputs": [
    {
     "data": {
      "text/plain": [
       "matrix([[1., 0., 0., 0.],\n",
       "        [0., 1., 0., 0.],\n",
       "        [0., 0., 1., 0.],\n",
       "        [0., 0., 0., 1.]])"
      ]
     },
     "execution_count": 100,
     "metadata": {},
     "output_type": "execute_result"
    }
   ],
   "source": [
    "nm.eye(4)"
   ]
  },
  {
   "cell_type": "code",
   "execution_count": 101,
   "id": "bfaf246d-9826-4805-89a3-a8ab296be9ad",
   "metadata": {},
   "outputs": [],
   "source": [
    "#numpy- linear algebra"
   ]
  },
  {
   "cell_type": "code",
   "execution_count": 104,
   "id": "a585c353-cd8f-494d-b4f1-303adee850cc",
   "metadata": {},
   "outputs": [],
   "source": [
    "arr6=np.random.randint([[2,3], [4,5]])"
   ]
  },
  {
   "cell_type": "code",
   "execution_count": 105,
   "id": "bfbe6c87-f084-4222-bd12-30d694bd9ffc",
   "metadata": {},
   "outputs": [],
   "source": [
    "arr7=np.random.randint([[5,3], [2,5]])"
   ]
  },
  {
   "cell_type": "code",
   "execution_count": 106,
   "id": "5f47783a-d19d-4e9f-87a1-59db0cdfb14c",
   "metadata": {},
   "outputs": [
    {
     "data": {
      "text/plain": [
       "array([[1, 2],\n",
       "       [1, 3]], dtype=int32)"
      ]
     },
     "execution_count": 106,
     "metadata": {},
     "output_type": "execute_result"
    }
   ],
   "source": [
    "arr6"
   ]
  },
  {
   "cell_type": "code",
   "execution_count": 107,
   "id": "706197ea-ed46-4587-b80b-e0151691dd58",
   "metadata": {},
   "outputs": [
    {
     "data": {
      "text/plain": [
       "array([[1, 0],\n",
       "       [1, 0]], dtype=int32)"
      ]
     },
     "execution_count": 107,
     "metadata": {},
     "output_type": "execute_result"
    }
   ],
   "source": [
    "arr7"
   ]
  },
  {
   "cell_type": "code",
   "execution_count": 109,
   "id": "ed2b3657-dacc-4669-b77d-c036cb7e5c3c",
   "metadata": {},
   "outputs": [
    {
     "data": {
      "text/plain": [
       "array([[3, 0],\n",
       "       [4, 0]], dtype=int32)"
      ]
     },
     "execution_count": 109,
     "metadata": {},
     "output_type": "execute_result"
    }
   ],
   "source": [
    "np.dot(arr6, arr7)"
   ]
  },
  {
   "cell_type": "code",
   "execution_count": 110,
   "id": "67225873-5acf-4c55-a362-9f8961513823",
   "metadata": {},
   "outputs": [
    {
     "data": {
      "text/plain": [
       "array([[3, 0],\n",
       "       [4, 0]], dtype=int32)"
      ]
     },
     "execution_count": 110,
     "metadata": {},
     "output_type": "execute_result"
    }
   ],
   "source": [
    "arr6@arr7"
   ]
  },
  {
   "cell_type": "code",
   "execution_count": 111,
   "id": "eaf67589-fde2-4769-bd0c-7ccad049734b",
   "metadata": {},
   "outputs": [],
   "source": [
    "import random"
   ]
  },
  {
   "cell_type": "code",
   "execution_count": 112,
   "id": "d7bee43f-f933-4db6-b9e9-3406415a0e06",
   "metadata": {},
   "outputs": [
    {
     "data": {
      "text/plain": [
       "5"
      ]
     },
     "execution_count": 112,
     "metadata": {},
     "output_type": "execute_result"
    }
   ],
   "source": [
    "random.choice((1,2,3,4,5,6))"
   ]
  },
  {
   "cell_type": "code",
   "execution_count": 113,
   "id": "6e783f63-e6c3-462a-85a2-8092c3d97d35",
   "metadata": {},
   "outputs": [
    {
     "data": {
      "text/plain": [
       "'p'"
      ]
     },
     "execution_count": 113,
     "metadata": {},
     "output_type": "execute_result"
    }
   ],
   "source": [
    "random.choice('Deepika')"
   ]
  },
  {
   "cell_type": "code",
   "execution_count": 114,
   "id": "e9598f7e-5c24-4bed-9040-5a0a341751cb",
   "metadata": {},
   "outputs": [
    {
     "data": {
      "text/plain": [
       "3"
      ]
     },
     "execution_count": 114,
     "metadata": {},
     "output_type": "execute_result"
    }
   ],
   "source": [
    "random.randrange(1,10)"
   ]
  },
  {
   "cell_type": "code",
   "execution_count": 120,
   "id": "f3829871-f882-448e-a4f1-f145840ff481",
   "metadata": {},
   "outputs": [
    {
     "data": {
      "text/plain": [
       "0.34530857778170077"
      ]
     },
     "execution_count": 120,
     "metadata": {},
     "output_type": "execute_result"
    }
   ],
   "source": [
    "random.random() #The function random.random() generates a random floating-point number between 0.0 and 1.0, including 0.0 but excluding 1.0."
   ]
  },
  {
   "cell_type": "code",
   "execution_count": 116,
   "id": "8876859d-ee2f-4433-8426-52732cd6a05c",
   "metadata": {},
   "outputs": [],
   "source": [
    "lis=[1,2,3,4,5]\n",
    "random.shuffle(lis)"
   ]
  },
  {
   "cell_type": "code",
   "execution_count": 117,
   "id": "6d5282eb-ff8e-4d49-b451-1cb87096a75c",
   "metadata": {},
   "outputs": [
    {
     "data": {
      "text/plain": [
       "[2, 5, 4, 3, 1]"
      ]
     },
     "execution_count": 117,
     "metadata": {},
     "output_type": "execute_result"
    }
   ],
   "source": [
    "lis"
   ]
  },
  {
   "cell_type": "code",
   "execution_count": 119,
   "id": "13db8ace-4753-4fd7-99de-54e8383c53ca",
   "metadata": {},
   "outputs": [
    {
     "data": {
      "text/plain": [
       "7.632984838772777"
      ]
     },
     "execution_count": 119,
     "metadata": {},
     "output_type": "execute_result"
    }
   ],
   "source": [
    "random.uniform(7,14)  #The function random.uniform(7, 14) generates a random floating-point number between 7 and 14 (both inclusive)."
   ]
  },
  {
   "cell_type": "code",
   "execution_count": null,
   "id": "647f3a5b-afbc-48c6-be21-ab217966f22f",
   "metadata": {},
   "outputs": [],
   "source": []
  }
 ],
 "metadata": {
  "kernelspec": {
   "display_name": "Python 3 (ipykernel)",
   "language": "python",
   "name": "python3"
  },
  "language_info": {
   "codemirror_mode": {
    "name": "ipython",
    "version": 3
   },
   "file_extension": ".py",
   "mimetype": "text/x-python",
   "name": "python",
   "nbconvert_exporter": "python",
   "pygments_lexer": "ipython3",
   "version": "3.12.4"
  }
 },
 "nbformat": 4,
 "nbformat_minor": 5
}
