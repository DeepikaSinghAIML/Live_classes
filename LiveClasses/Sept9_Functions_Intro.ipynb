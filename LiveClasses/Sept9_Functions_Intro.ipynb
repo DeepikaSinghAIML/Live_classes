{
 "cells": [
  {
   "cell_type": "code",
   "execution_count": 1,
   "id": "992eab95",
   "metadata": {},
   "outputs": [
    {
     "name": "stdout",
     "output_type": "stream",
     "text": [
      "zero\n",
      "it always prints\n"
     ]
    }
   ],
   "source": [
    "number=0\n",
    "if number>0:\n",
    "    print(\"positive number\")\n",
    "elif number==0:\n",
    "    print(\"zero\")\n",
    "else:\n",
    "    print(\"negative number\")\n",
    "print(\"it always prints\")"
   ]
  },
  {
   "cell_type": "code",
   "execution_count": 2,
   "id": "cd69386b",
   "metadata": {},
   "outputs": [
    {
     "name": "stdout",
     "output_type": "stream",
     "text": [
      "0\n",
      "1\n",
      "2\n",
      "3\n",
      "4\n"
     ]
    }
   ],
   "source": [
    "for i in range(5):\n",
    "    print(i)"
   ]
  },
  {
   "cell_type": "code",
   "execution_count": 4,
   "id": "3cb394fa",
   "metadata": {},
   "outputs": [
    {
     "name": "stdout",
     "output_type": "stream",
     "text": [
      "Today is mon\n",
      "Today is tue\n",
      "Today is wed\n",
      "Today is thurs\n",
      "Today is fri\n",
      "Today is sat\n",
      "Today is sun\n"
     ]
    }
   ],
   "source": [
    "days=0\n",
    "week=['mon','tue','wed','thurs','fri','sat','sun']\n",
    "while days<7:\n",
    "    print(\"Today is\", week[days])\n",
    "    days+=1"
   ]
  },
  {
   "cell_type": "code",
   "execution_count": 5,
   "id": "e5e0ef75",
   "metadata": {},
   "outputs": [
    {
     "data": {
      "text/plain": [
       "['i', 'write', 'code']"
      ]
     },
     "execution_count": 5,
     "metadata": {},
     "output_type": "execute_result"
    }
   ],
   "source": [
    "text='i write code'\n",
    "text.split()"
   ]
  },
  {
   "cell_type": "code",
   "execution_count": 6,
   "id": "a424db66",
   "metadata": {},
   "outputs": [
    {
     "name": "stdout",
     "output_type": "stream",
     "text": [
      "Enter three words message:welcome to pwskills\n"
     ]
    }
   ],
   "source": [
    "x=input(\"Enter three words message:\")\n",
    "word1,word2,word3=x.split()"
   ]
  },
  {
   "cell_type": "code",
   "execution_count": 7,
   "id": "3b9346c1",
   "metadata": {},
   "outputs": [
    {
     "data": {
      "text/plain": [
       "'welcome'"
      ]
     },
     "execution_count": 7,
     "metadata": {},
     "output_type": "execute_result"
    }
   ],
   "source": [
    "word1"
   ]
  },
  {
   "cell_type": "code",
   "execution_count": 8,
   "id": "1f8e9202",
   "metadata": {},
   "outputs": [
    {
     "data": {
      "text/plain": [
       "'to'"
      ]
     },
     "execution_count": 8,
     "metadata": {},
     "output_type": "execute_result"
    }
   ],
   "source": [
    "word2"
   ]
  },
  {
   "cell_type": "code",
   "execution_count": 9,
   "id": "00037dc9",
   "metadata": {},
   "outputs": [
    {
     "data": {
      "text/plain": [
       "'pwskills'"
      ]
     },
     "execution_count": 9,
     "metadata": {},
     "output_type": "execute_result"
    }
   ],
   "source": [
    "word3"
   ]
  },
  {
   "cell_type": "code",
   "execution_count": 11,
   "id": "fa54888a",
   "metadata": {},
   "outputs": [
    {
     "name": "stdout",
     "output_type": "stream",
     "text": [
      "Enter two numbers:2 3\n",
      "5\n"
     ]
    }
   ],
   "source": [
    "a,b=input(\"Enter two numbers:\").split()\n",
    "c=int(a)+int(b)\n",
    "print(c)"
   ]
  },
  {
   "cell_type": "code",
   "execution_count": 12,
   "id": "32aa7ae4",
   "metadata": {},
   "outputs": [
    {
     "name": "stdout",
     "output_type": "stream",
     "text": [
      "['A', 'B', 'C', 'D E F']\n"
     ]
    }
   ],
   "source": [
    "s1='A B C D E F'\n",
    "print(s1.split(' ',3))"
   ]
  },
  {
   "cell_type": "code",
   "execution_count": 13,
   "id": "ca669730",
   "metadata": {},
   "outputs": [
    {
     "name": "stdout",
     "output_type": "stream",
     "text": [
      "['hi', 'hi', 'hi', 'hi', 'hi']\n"
     ]
    }
   ],
   "source": [
    "s2='hi@hi@hi@hi@hi'\n",
    "print(s2.split('@'))"
   ]
  },
  {
   "cell_type": "code",
   "execution_count": 14,
   "id": "f28843d8",
   "metadata": {},
   "outputs": [
    {
     "name": "stdout",
     "output_type": "stream",
     "text": [
      "['hi', 'hi', 'hi@hi@hi']\n"
     ]
    }
   ],
   "source": [
    "s2='hi@hi@hi@hi@hi'\n",
    "print(s2.split('@',2))"
   ]
  },
  {
   "cell_type": "code",
   "execution_count": 15,
   "id": "dbe6213f",
   "metadata": {},
   "outputs": [
    {
     "name": "stdout",
     "output_type": "stream",
     "text": [
      "p\n",
      "w\n",
      "s\n",
      "k\n",
      "i\n"
     ]
    }
   ],
   "source": [
    "for letter in 'pwskills':\n",
    "    if letter =='l':\n",
    "        break\n",
    "    print(letter)"
   ]
  },
  {
   "cell_type": "code",
   "execution_count": 16,
   "id": "d438e7fe",
   "metadata": {},
   "outputs": [
    {
     "name": "stdout",
     "output_type": "stream",
     "text": [
      "0\n",
      "1\n",
      "2\n"
     ]
    }
   ],
   "source": [
    "for i in range(5):\n",
    "    if i==3:\n",
    "        break\n",
    "    print(i)"
   ]
  },
  {
   "cell_type": "code",
   "execution_count": 17,
   "id": "8ca12af7",
   "metadata": {},
   "outputs": [
    {
     "data": {
      "text/plain": [
       "[0, 1, 2, 3, 4]"
      ]
     },
     "execution_count": 17,
     "metadata": {},
     "output_type": "execute_result"
    }
   ],
   "source": [
    "list(range(5))"
   ]
  },
  {
   "cell_type": "code",
   "execution_count": 18,
   "id": "465deca9",
   "metadata": {},
   "outputs": [
    {
     "name": "stdout",
     "output_type": "stream",
     "text": [
      "1\n",
      "2\n",
      "3\n",
      "4\n",
      "5\n"
     ]
    }
   ],
   "source": [
    "i=1\n",
    "while i<=10:\n",
    "    print(i)\n",
    "    if i>=5:\n",
    "        break\n",
    "    i=i+1"
   ]
  },
  {
   "cell_type": "code",
   "execution_count": 19,
   "id": "fb00a343",
   "metadata": {},
   "outputs": [
    {
     "name": "stdout",
     "output_type": "stream",
     "text": [
      "10\n",
      "20\n",
      "30\n",
      "40\n"
     ]
    }
   ],
   "source": [
    "numbers=[10,20,30,40,120,230]\n",
    "for i in numbers:\n",
    "    if i>100:\n",
    "        break\n",
    "    print(i)"
   ]
  },
  {
   "cell_type": "code",
   "execution_count": 20,
   "id": "a87b8601",
   "metadata": {},
   "outputs": [
    {
     "name": "stdout",
     "output_type": "stream",
     "text": [
      "h\n",
      "e\n",
      "l\n",
      "l\n",
      "o\n"
     ]
    }
   ],
   "source": [
    "s='hello, world'\n",
    "for char in s:\n",
    "    if char==',':\n",
    "        break\n",
    "    print(char)"
   ]
  },
  {
   "cell_type": "code",
   "execution_count": 24,
   "id": "0d1e82e6",
   "metadata": {},
   "outputs": [
    {
     "name": "stdout",
     "output_type": "stream",
     "text": [
      "h\n",
      "e\n",
      "l\n",
      "l\n",
      "o\n",
      ",\n"
     ]
    }
   ],
   "source": [
    "s='hello, world'\n",
    "for char in s:\n",
    "    print(char)\n",
    "    if char==',':\n",
    "        break\n",
    "   "
   ]
  },
  {
   "cell_type": "code",
   "execution_count": 25,
   "id": "df9d3451",
   "metadata": {},
   "outputs": [
    {
     "name": "stdout",
     "output_type": "stream",
     "text": [
      "p\n",
      "w\n",
      "s\n",
      "k\n",
      "l\n",
      "l\n",
      "s\n"
     ]
    }
   ],
   "source": [
    "for letter in 'pwskills':\n",
    "    if letter=='i':\n",
    "        continue\n",
    "    print(letter)"
   ]
  },
  {
   "cell_type": "code",
   "execution_count": 26,
   "id": "9a7be2dc",
   "metadata": {},
   "outputs": [
    {
     "name": "stdout",
     "output_type": "stream",
     "text": [
      "0\n",
      "1\n",
      "2\n",
      "4\n"
     ]
    }
   ],
   "source": [
    "for i in range(5):\n",
    "    if i==3:\n",
    "        continue\n",
    "    print(i)"
   ]
  },
  {
   "cell_type": "code",
   "execution_count": 27,
   "id": "a1dbadb6",
   "metadata": {},
   "outputs": [],
   "source": [
    "# Write a program to print odd numbers from 1 to 10"
   ]
  },
  {
   "cell_type": "code",
   "execution_count": 32,
   "id": "ea548403",
   "metadata": {},
   "outputs": [
    {
     "name": "stdout",
     "output_type": "stream",
     "text": [
      "1\n",
      "3\n",
      "5\n",
      "7\n",
      "9\n"
     ]
    }
   ],
   "source": [
    "for i in range(1,11,2):\n",
    "    print(i)"
   ]
  },
  {
   "cell_type": "code",
   "execution_count": 34,
   "id": "9daa8242",
   "metadata": {},
   "outputs": [
    {
     "name": "stdout",
     "output_type": "stream",
     "text": [
      "1\n",
      "3\n",
      "5\n",
      "7\n",
      "9\n"
     ]
    }
   ],
   "source": [
    "for i in range(1,11):\n",
    "    if i%2==0:\n",
    "        continue\n",
    "    print(i)"
   ]
  },
  {
   "cell_type": "code",
   "execution_count": 37,
   "id": "27d1a47f",
   "metadata": {},
   "outputs": [
    {
     "name": "stdout",
     "output_type": "stream",
     "text": [
      "1\n",
      "3\n",
      "5\n",
      "7\n",
      "9\n"
     ]
    }
   ],
   "source": [
    "for i in range(1,11):\n",
    "    if i%2!=0:\n",
    "        print(i)\n",
    "    "
   ]
  },
  {
   "cell_type": "code",
   "execution_count": 39,
   "id": "71caf6cd",
   "metadata": {},
   "outputs": [
    {
     "name": "stdout",
     "output_type": "stream",
     "text": [
      "hello\n"
     ]
    }
   ],
   "source": [
    "n=10\n",
    "if n>10:\n",
    "    pass\n",
    "print('hello')"
   ]
  },
  {
   "cell_type": "code",
   "execution_count": 40,
   "id": "5b89a5fd",
   "metadata": {},
   "outputs": [],
   "source": [
    "#functions"
   ]
  },
  {
   "cell_type": "code",
   "execution_count": 42,
   "id": "8e01b7d7",
   "metadata": {},
   "outputs": [],
   "source": [
    "def add_nums(a,b):\n",
    "    return a+b"
   ]
  },
  {
   "cell_type": "code",
   "execution_count": 45,
   "id": "2c40ff30",
   "metadata": {},
   "outputs": [
    {
     "name": "stdout",
     "output_type": "stream",
     "text": [
      "Hello world\n"
     ]
    }
   ],
   "source": [
    "def greet():\n",
    "    print(\"Hello world\")\n",
    "greet()"
   ]
  },
  {
   "cell_type": "code",
   "execution_count": 46,
   "id": "fda228d8",
   "metadata": {},
   "outputs": [
    {
     "data": {
      "text/plain": [
       "5"
      ]
     },
     "execution_count": 46,
     "metadata": {},
     "output_type": "execute_result"
    }
   ],
   "source": [
    "def add_nums(a,b):\n",
    "    c=a+b\n",
    "    return c\n",
    "add_nums(2,3)"
   ]
  },
  {
   "cell_type": "code",
   "execution_count": 47,
   "id": "627750eb",
   "metadata": {},
   "outputs": [],
   "source": [
    "def add_2_num():\n",
    "    a=int(input(\"Enter first number:\"))\n",
    "    b=int(input(\"Enter second number:\"))\n",
    "    c=a+b\n",
    "    print(c)"
   ]
  },
  {
   "cell_type": "code",
   "execution_count": 48,
   "id": "832efb88",
   "metadata": {},
   "outputs": [
    {
     "name": "stdout",
     "output_type": "stream",
     "text": [
      "Enter first number:4\n",
      "Enter second number:6\n",
      "10\n"
     ]
    }
   ],
   "source": [
    "add_2_num()"
   ]
  },
  {
   "cell_type": "code",
   "execution_count": 49,
   "id": "61b366d2",
   "metadata": {},
   "outputs": [
    {
     "name": "stdout",
     "output_type": "stream",
     "text": [
      "12\n"
     ]
    }
   ],
   "source": [
    "def mul(x,y):\n",
    "    z=x*y\n",
    "    print(z)\n",
    "mul(3,4)"
   ]
  },
  {
   "cell_type": "code",
   "execution_count": 51,
   "id": "462ca085",
   "metadata": {},
   "outputs": [
    {
     "name": "stdout",
     "output_type": "stream",
     "text": [
      "hi deepika\n"
     ]
    }
   ],
   "source": [
    "def intro(name):\n",
    "    print(\"hi\",name)\n",
    "intro('deepika')"
   ]
  },
  {
   "cell_type": "code",
   "execution_count": 53,
   "id": "97f2e734",
   "metadata": {},
   "outputs": [
    {
     "name": "stdout",
     "output_type": "stream",
     "text": [
      "hi deepika singh\n"
     ]
    }
   ],
   "source": [
    "def intro(name,lname):\n",
    "    print(\"hi\",name,lname)\n",
    "intro('deepika','singh')"
   ]
  },
  {
   "cell_type": "code",
   "execution_count": 54,
   "id": "d4d0c889",
   "metadata": {},
   "outputs": [],
   "source": [
    "def absolute(n):\n",
    "    if n>0:\n",
    "        print(-n)\n",
    "    else:\n",
    "        print(-n)\n",
    "        "
   ]
  },
  {
   "cell_type": "code",
   "execution_count": 55,
   "id": "a9b17b9f",
   "metadata": {},
   "outputs": [
    {
     "name": "stdout",
     "output_type": "stream",
     "text": [
      "9\n"
     ]
    }
   ],
   "source": [
    "absolute(-9)"
   ]
  },
  {
   "cell_type": "code",
   "execution_count": 56,
   "id": "2c407507",
   "metadata": {},
   "outputs": [
    {
     "name": "stdout",
     "output_type": "stream",
     "text": [
      "-9\n"
     ]
    }
   ],
   "source": [
    "absolute(9)"
   ]
  },
  {
   "cell_type": "code",
   "execution_count": 57,
   "id": "742c93da",
   "metadata": {},
   "outputs": [
    {
     "data": {
      "text/plain": [
       "'deepikasingh'"
      ]
     },
     "execution_count": 57,
     "metadata": {},
     "output_type": "execute_result"
    }
   ],
   "source": [
    "def fullname(a,b):\n",
    "    c=a+b\n",
    "    return c\n",
    "fullname('deepika','singh')"
   ]
  },
  {
   "cell_type": "code",
   "execution_count": 59,
   "id": "d3b680dd",
   "metadata": {},
   "outputs": [
    {
     "name": "stdout",
     "output_type": "stream",
     "text": [
      "deepikasingh\n"
     ]
    }
   ],
   "source": [
    "def fullname(a,b):\n",
    "    c=a+b\n",
    "    print(c)\n",
    "x=fullname('deepika','singh')\n"
   ]
  },
  {
   "cell_type": "code",
   "execution_count": 60,
   "id": "1d70cdaa",
   "metadata": {},
   "outputs": [],
   "source": [
    "x #here x does not get printed because print statement does not return so we use return statement"
   ]
  },
  {
   "cell_type": "code",
   "execution_count": 61,
   "id": "2cb5d71f",
   "metadata": {},
   "outputs": [],
   "source": [
    "def fullname(a,b):\n",
    "    c=a+b\n",
    "    return c\n",
    "x=fullname('deepika','singh')"
   ]
  },
  {
   "cell_type": "code",
   "execution_count": 62,
   "id": "e94450f9",
   "metadata": {},
   "outputs": [
    {
     "data": {
      "text/plain": [
       "'deepikasingh'"
      ]
     },
     "execution_count": 62,
     "metadata": {},
     "output_type": "execute_result"
    }
   ],
   "source": [
    "x"
   ]
  },
  {
   "cell_type": "code",
   "execution_count": 64,
   "id": "d1f9ca06",
   "metadata": {},
   "outputs": [
    {
     "data": {
      "text/plain": [
       "(7, -1, 12)"
      ]
     },
     "execution_count": 64,
     "metadata": {},
     "output_type": "execute_result"
    }
   ],
   "source": [
    "def calculator(a,b):\n",
    "    c=a+b\n",
    "    d=a-b\n",
    "    e=a*b\n",
    "    return c,d,e\n",
    "calculator(3,4)"
   ]
  },
  {
   "cell_type": "code",
   "execution_count": 65,
   "id": "c7551655",
   "metadata": {},
   "outputs": [],
   "source": [
    "def cal(a,b):\n",
    "    opr=input(\"Enter operator + - * /\")\n",
    "    if opr=='+':\n",
    "        return a+b\n",
    "    elif opr=='-':\n",
    "        return a-b\n",
    "    elif opr=='*':\n",
    "        return a*b\n",
    "    elif opr=='/':\n",
    "        return a/b\n",
    "    else:\n",
    "        return \"Invalid operation\""
   ]
  },
  {
   "cell_type": "code",
   "execution_count": 66,
   "id": "841f34ce",
   "metadata": {},
   "outputs": [
    {
     "name": "stdout",
     "output_type": "stream",
     "text": [
      "Enter operator + - * /0\n"
     ]
    },
    {
     "data": {
      "text/plain": [
       "'Invalid operation'"
      ]
     },
     "execution_count": 66,
     "metadata": {},
     "output_type": "execute_result"
    }
   ],
   "source": [
    "cal(2,3)"
   ]
  },
  {
   "cell_type": "code",
   "execution_count": 67,
   "id": "a589477b",
   "metadata": {},
   "outputs": [
    {
     "name": "stdout",
     "output_type": "stream",
     "text": [
      "Enter operator + - * /+\n"
     ]
    },
    {
     "data": {
      "text/plain": [
       "5"
      ]
     },
     "execution_count": 67,
     "metadata": {},
     "output_type": "execute_result"
    }
   ],
   "source": [
    "cal(2,3)"
   ]
  },
  {
   "cell_type": "code",
   "execution_count": 68,
   "id": "a81548c9",
   "metadata": {},
   "outputs": [],
   "source": [
    "#find area of circle"
   ]
  },
  {
   "cell_type": "code",
   "execution_count": 70,
   "id": "5b35d381",
   "metadata": {},
   "outputs": [
    {
     "data": {
      "text/plain": [
       "12.56"
      ]
     },
     "execution_count": 70,
     "metadata": {},
     "output_type": "execute_result"
    }
   ],
   "source": [
    "def area(r):\n",
    "    return 3.14*r*r\n",
    "area(2)"
   ]
  },
  {
   "cell_type": "code",
   "execution_count": 71,
   "id": "998b8426",
   "metadata": {},
   "outputs": [],
   "source": [
    "#find area of rectangle"
   ]
  },
  {
   "cell_type": "code",
   "execution_count": 72,
   "id": "2e362c2c",
   "metadata": {},
   "outputs": [
    {
     "data": {
      "text/plain": [
       "12"
      ]
     },
     "execution_count": 72,
     "metadata": {},
     "output_type": "execute_result"
    }
   ],
   "source": [
    "def rect(l,b):\n",
    "    return l*b\n",
    "rect(4,3)"
   ]
  },
  {
   "cell_type": "code",
   "execution_count": 73,
   "id": "bdb94632",
   "metadata": {},
   "outputs": [],
   "source": [
    "#find area of triangle"
   ]
  },
  {
   "cell_type": "code",
   "execution_count": 74,
   "id": "04f703d3",
   "metadata": {},
   "outputs": [
    {
     "data": {
      "text/plain": [
       "10.0"
      ]
     },
     "execution_count": 74,
     "metadata": {},
     "output_type": "execute_result"
    }
   ],
   "source": [
    "def tri(b,h):\n",
    "    return (1/2)*b*h\n",
    "tri(4,5)"
   ]
  },
  {
   "cell_type": "code",
   "execution_count": 75,
   "id": "5f40f891",
   "metadata": {},
   "outputs": [],
   "source": [
    "#accept an integer as input and print its square as output"
   ]
  },
  {
   "cell_type": "code",
   "execution_count": 77,
   "id": "beb53bcc",
   "metadata": {},
   "outputs": [
    {
     "name": "stdout",
     "output_type": "stream",
     "text": [
      "Enter the number:4\n"
     ]
    },
    {
     "data": {
      "text/plain": [
       "16"
      ]
     },
     "execution_count": 77,
     "metadata": {},
     "output_type": "execute_result"
    }
   ],
   "source": [
    "def sqr(n):\n",
    "    return n**2\n",
    "x=int(input(\"Enter the number:\"))\n",
    "sqr(x)"
   ]
  },
  {
   "cell_type": "code",
   "execution_count": 78,
   "id": "154330b4",
   "metadata": {},
   "outputs": [],
   "source": [
    "#accept two words and print them with a space in between"
   ]
  },
  {
   "cell_type": "code",
   "execution_count": 79,
   "id": "f11fd4a8",
   "metadata": {},
   "outputs": [
    {
     "name": "stdout",
     "output_type": "stream",
     "text": [
      "Enter first name:Deepika\n",
      "Enter last name:Singh\n"
     ]
    },
    {
     "data": {
      "text/plain": [
       "'Deepika Singh'"
      ]
     },
     "execution_count": 79,
     "metadata": {},
     "output_type": "execute_result"
    }
   ],
   "source": [
    "def title(f,l):\n",
    "    return f+\" \"+l\n",
    "y=input(\"Enter first name:\")\n",
    "z=input(\"Enter last name:\")\n",
    "title(y,z)"
   ]
  },
  {
   "cell_type": "code",
   "execution_count": 80,
   "id": "bc12c8f0",
   "metadata": {},
   "outputs": [],
   "source": [
    "#print even numbers accepting the lower and upper range from user"
   ]
  },
  {
   "cell_type": "code",
   "execution_count": 90,
   "id": "26b7aeef",
   "metadata": {},
   "outputs": [
    {
     "name": "stdout",
     "output_type": "stream",
     "text": [
      "Enter lower limit:1\n",
      "Enter upper limit:10\n"
     ]
    },
    {
     "data": {
      "text/plain": [
       "[2, 4, 6, 8, 10]"
      ]
     },
     "execution_count": 90,
     "metadata": {},
     "output_type": "execute_result"
    }
   ],
   "source": [
    "def even_num(l,u):\n",
    "    even_n=[]\n",
    "    for i in range(l,u+1):\n",
    "        if i%2==0:\n",
    "            even_n.append(i)\n",
    "    return even_n\n",
    "low=int(input(\"Enter lower limit:\"))\n",
    "up=int(input(\"Enter upper limit:\"))\n",
    "even_num(low,up)\n"
   ]
  },
  {
   "cell_type": "code",
   "execution_count": null,
   "id": "2aef8594",
   "metadata": {},
   "outputs": [],
   "source": []
  }
 ],
 "metadata": {
  "kernelspec": {
   "display_name": "Python 3 (ipykernel)",
   "language": "python",
   "name": "python3"
  },
  "language_info": {
   "codemirror_mode": {
    "name": "ipython",
    "version": 3
   },
   "file_extension": ".py",
   "mimetype": "text/x-python",
   "name": "python",
   "nbconvert_exporter": "python",
   "pygments_lexer": "ipython3",
   "version": "3.10.4"
  }
 },
 "nbformat": 4,
 "nbformat_minor": 5
}
