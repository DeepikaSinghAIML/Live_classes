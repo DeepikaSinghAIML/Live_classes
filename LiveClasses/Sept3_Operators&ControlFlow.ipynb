{
 "cells": [
  {
   "cell_type": "code",
   "execution_count": 1,
   "id": "f1b10081",
   "metadata": {},
   "outputs": [],
   "source": [
    "x=[1,2,3,4,5]"
   ]
  },
  {
   "cell_type": "code",
   "execution_count": 2,
   "id": "fb16deb7",
   "metadata": {},
   "outputs": [
    {
     "data": {
      "text/plain": [
       "True"
      ]
     },
     "execution_count": 2,
     "metadata": {},
     "output_type": "execute_result"
    }
   ],
   "source": [
    "2 in x"
   ]
  },
  {
   "cell_type": "code",
   "execution_count": 3,
   "id": "75754849",
   "metadata": {},
   "outputs": [
    {
     "data": {
      "text/plain": [
       "False"
      ]
     },
     "execution_count": 3,
     "metadata": {},
     "output_type": "execute_result"
    }
   ],
   "source": [
    "7 in x"
   ]
  },
  {
   "cell_type": "markdown",
   "id": "17d8d773",
   "metadata": {},
   "source": [
    "## If statement"
   ]
  },
  {
   "cell_type": "code",
   "execution_count": 4,
   "id": "2ee5e7d6",
   "metadata": {},
   "outputs": [],
   "source": [
    "age=19"
   ]
  },
  {
   "cell_type": "code",
   "execution_count": 5,
   "id": "cff6f735",
   "metadata": {},
   "outputs": [
    {
     "name": "stdout",
     "output_type": "stream",
     "text": [
      "You can drive\n"
     ]
    }
   ],
   "source": [
    "if age>=18:\n",
    "    print(\"You can drive\")"
   ]
  },
  {
   "cell_type": "code",
   "execution_count": 6,
   "id": "1cd9eb5c",
   "metadata": {},
   "outputs": [],
   "source": [
    "x=23"
   ]
  },
  {
   "cell_type": "code",
   "execution_count": 7,
   "id": "837731eb",
   "metadata": {},
   "outputs": [
    {
     "name": "stdout",
     "output_type": "stream",
     "text": [
      "You are inside the if block\n"
     ]
    }
   ],
   "source": [
    "if x>=23:\n",
    "    print(\"You are inside the if block\")"
   ]
  },
  {
   "cell_type": "markdown",
   "id": "ced34e77",
   "metadata": {},
   "source": [
    "## If-else statement"
   ]
  },
  {
   "cell_type": "code",
   "execution_count": 8,
   "id": "fc597f0f",
   "metadata": {},
   "outputs": [],
   "source": [
    "age=16"
   ]
  },
  {
   "cell_type": "code",
   "execution_count": 9,
   "id": "21536a0a",
   "metadata": {},
   "outputs": [
    {
     "name": "stdout",
     "output_type": "stream",
     "text": [
      "You cannot drive\n"
     ]
    }
   ],
   "source": [
    "if age>=18:\n",
    "    print(\"You can drive\")\n",
    "else:\n",
    "    print(\"You cannot drive\")"
   ]
  },
  {
   "cell_type": "markdown",
   "id": "71ba594e",
   "metadata": {},
   "source": [
    "## If-elif-else ladder"
   ]
  },
  {
   "cell_type": "code",
   "execution_count": 10,
   "id": "86e5dc7f",
   "metadata": {},
   "outputs": [
    {
     "name": "stdout",
     "output_type": "stream",
     "text": [
      "excellent performance your grade is B\n"
     ]
    }
   ],
   "source": [
    "score=75\n",
    "if score>=90:\n",
    "    print(\"excellent performance your grade is A+\")\n",
    "elif score>=80:\n",
    "    print(\"excellent performance your grade is A\")\n",
    "elif score>=70:\n",
    "    print(\"excellent performance your grade is B\")\n",
    "else:\n",
    "    print(\"excellent performance your grade is C\")"
   ]
  },
  {
   "cell_type": "code",
   "execution_count": 11,
   "id": "90924529",
   "metadata": {},
   "outputs": [],
   "source": [
    "#find largest number from 3 given numbers"
   ]
  },
  {
   "cell_type": "code",
   "execution_count": 12,
   "id": "3a405a77",
   "metadata": {},
   "outputs": [
    {
     "name": "stdout",
     "output_type": "stream",
     "text": [
      "Largest number is num3 30\n"
     ]
    }
   ],
   "source": [
    "num1=10\n",
    "num2=20\n",
    "num3=30\n",
    "\n",
    "if num1>num2 and num1>num3:\n",
    "    print(f\"Largest number is num1 {num1}\")\n",
    "elif num2>num1 and num2>num3:\n",
    "    print(f\"Largest number is num2 {num2}\")\n",
    "else:\n",
    "    print(f\"Largest number is num3 {num3}\")"
   ]
  },
  {
   "cell_type": "code",
   "execution_count": 13,
   "id": "a8b523f1",
   "metadata": {},
   "outputs": [
    {
     "name": "stdout",
     "output_type": "stream",
     "text": [
      "Enter first number:10\n",
      "Enter second number:20\n",
      "Enter operator (+,-,*,/,%):+\n",
      "30\n"
     ]
    }
   ],
   "source": [
    "f=int(input(\"Enter first number:\"))\n",
    "s=int(input(\"Enter second number:\"))\n",
    "opr=input(\"Enter operator (+,-,*,/,%):\")\n",
    "if opr=='+':\n",
    "    print(f+s)\n",
    "elif opr=='-':\n",
    "    print(f-s)\n",
    "elif opr=='*':\n",
    "    print(f*s)\n",
    "elif opr=='/':\n",
    "    print(f/s)\n",
    "elif opr=='%':\n",
    "    print(f%s)\n",
    "else:\n",
    "    print(\"Invalid operation\")"
   ]
  },
  {
   "cell_type": "markdown",
   "id": "6a2264a2",
   "metadata": {},
   "source": [
    "## Nested-if statement"
   ]
  },
  {
   "cell_type": "code",
   "execution_count": 14,
   "id": "d8a223ca",
   "metadata": {},
   "outputs": [
    {
     "name": "stdout",
     "output_type": "stream",
     "text": [
      "The number is positive\n"
     ]
    }
   ],
   "source": [
    "num=10\n",
    "if num>=0:\n",
    "    if num==0:\n",
    "        print(\"The number is zero\")\n",
    "    else:\n",
    "        print(\"The number is positive\")\n",
    "else:\n",
    "    print(\"The number is negative\")"
   ]
  },
  {
   "cell_type": "code",
   "execution_count": 15,
   "id": "dd7189b7",
   "metadata": {},
   "outputs": [
    {
     "data": {
      "text/plain": [
       "range(0, 5)"
      ]
     },
     "execution_count": 15,
     "metadata": {},
     "output_type": "execute_result"
    }
   ],
   "source": [
    "range(5)"
   ]
  },
  {
   "cell_type": "code",
   "execution_count": 16,
   "id": "9f9466b1",
   "metadata": {},
   "outputs": [
    {
     "data": {
      "text/plain": [
       "[0, 1, 2, 3, 4]"
      ]
     },
     "execution_count": 16,
     "metadata": {},
     "output_type": "execute_result"
    }
   ],
   "source": [
    "list(range(5))"
   ]
  },
  {
   "cell_type": "code",
   "execution_count": 17,
   "id": "bab12e86",
   "metadata": {},
   "outputs": [
    {
     "data": {
      "text/plain": [
       "[2, 3, 4, 5, 6, 7, 8, 9]"
      ]
     },
     "execution_count": 17,
     "metadata": {},
     "output_type": "execute_result"
    }
   ],
   "source": [
    "list(range(2,10))"
   ]
  },
  {
   "cell_type": "code",
   "execution_count": 18,
   "id": "d35b7ec5",
   "metadata": {},
   "outputs": [
    {
     "data": {
      "text/plain": [
       "[2, 4, 6, 8, 10]"
      ]
     },
     "execution_count": 18,
     "metadata": {},
     "output_type": "execute_result"
    }
   ],
   "source": [
    "list(range(2,12,2))"
   ]
  },
  {
   "cell_type": "code",
   "execution_count": 19,
   "id": "f009c225",
   "metadata": {},
   "outputs": [
    {
     "name": "stdout",
     "output_type": "stream",
     "text": [
      "0\n",
      "1\n",
      "2\n",
      "3\n",
      "4\n"
     ]
    }
   ],
   "source": [
    "for i in range(5):\n",
    "    print(i)"
   ]
  },
  {
   "cell_type": "code",
   "execution_count": 20,
   "id": "8ffffc18",
   "metadata": {},
   "outputs": [
    {
     "name": "stdout",
     "output_type": "stream",
     "text": [
      "a\n",
      "b\n",
      "c\n"
     ]
    }
   ],
   "source": [
    "for i in [\"a\",\"b\",\"c\"]:\n",
    "    print(i)"
   ]
  },
  {
   "cell_type": "code",
   "execution_count": 22,
   "id": "1aad054c",
   "metadata": {},
   "outputs": [
    {
     "name": "stdout",
     "output_type": "stream",
     "text": [
      "deepika\n",
      "bangalore\n"
     ]
    }
   ],
   "source": [
    "x={'name':'deepika', 'city':'bangalore'}\n",
    "for i in x.values():\n",
    "    print(i)"
   ]
  },
  {
   "cell_type": "code",
   "execution_count": 23,
   "id": "de02ee5e",
   "metadata": {},
   "outputs": [
    {
     "name": "stdout",
     "output_type": "stream",
     "text": [
      "india\n",
      "uk\n",
      "germany\n"
     ]
    }
   ],
   "source": [
    "country=['india','uk','germany']\n",
    "for ct in country:\n",
    "    print(ct)"
   ]
  },
  {
   "cell_type": "code",
   "execution_count": 24,
   "id": "85c4cbe1",
   "metadata": {},
   "outputs": [
    {
     "data": {
      "text/plain": [
       "dict_keys(['x1', 'x2', 'x3'])"
      ]
     },
     "execution_count": 24,
     "metadata": {},
     "output_type": "execute_result"
    }
   ],
   "source": [
    "dict1={'x1':1,'x2':2,'x3':3}\n",
    "dict1.keys()"
   ]
  },
  {
   "cell_type": "code",
   "execution_count": 25,
   "id": "857f5068",
   "metadata": {},
   "outputs": [
    {
     "data": {
      "text/plain": [
       "dict_values([1, 2, 3])"
      ]
     },
     "execution_count": 25,
     "metadata": {},
     "output_type": "execute_result"
    }
   ],
   "source": [
    "dict1.values()"
   ]
  },
  {
   "cell_type": "code",
   "execution_count": 27,
   "id": "0dbaad6c",
   "metadata": {},
   "outputs": [
    {
     "name": "stdout",
     "output_type": "stream",
     "text": [
      "x1 1\n",
      "x2 2\n",
      "x3 3\n"
     ]
    }
   ],
   "source": [
    "for key in dict1:\n",
    "    print(key,dict1[key])"
   ]
  },
  {
   "cell_type": "code",
   "execution_count": 28,
   "id": "8a8a5479",
   "metadata": {},
   "outputs": [
    {
     "data": {
      "text/plain": [
       "1"
      ]
     },
     "execution_count": 28,
     "metadata": {},
     "output_type": "execute_result"
    }
   ],
   "source": [
    "dict1['x1']"
   ]
  },
  {
   "cell_type": "code",
   "execution_count": 29,
   "id": "51f828f1",
   "metadata": {},
   "outputs": [
    {
     "name": "stdout",
     "output_type": "stream",
     "text": [
      "hi\n",
      "pw\n",
      "skills\n",
      "ineuron\n"
     ]
    }
   ],
   "source": [
    "print(\"hi\")\n",
    "print(\"pw\")\n",
    "print(\"skills\")\n",
    "print(\"ineuron\")"
   ]
  },
  {
   "cell_type": "code",
   "execution_count": 32,
   "id": "39493051",
   "metadata": {},
   "outputs": [
    {
     "name": "stdout",
     "output_type": "stream",
     "text": [
      "hi pw skills ineuron "
     ]
    }
   ],
   "source": [
    "print(\"hi\",end=' ')\n",
    "print(\"pw\",end=' ')\n",
    "print(\"skills\",end=' ')\n",
    "print(\"ineuron\",end=' ')"
   ]
  },
  {
   "cell_type": "code",
   "execution_count": 33,
   "id": "5101c81c",
   "metadata": {},
   "outputs": [
    {
     "name": "stdout",
     "output_type": "stream",
     "text": [
      "hi@pw@skills@ineuron@"
     ]
    }
   ],
   "source": [
    "print(\"hi\",end='@')\n",
    "print(\"pw\",end='@')\n",
    "print(\"skills\",end='@')\n",
    "print(\"ineuron\",end='@')"
   ]
  },
  {
   "cell_type": "code",
   "execution_count": 36,
   "id": "d653dd20",
   "metadata": {},
   "outputs": [
    {
     "name": "stdout",
     "output_type": "stream",
     "text": [
      "0 1 2 3 4 5 6 7 8 9 "
     ]
    }
   ],
   "source": [
    "for i in range(10):\n",
    "    print(i, end=' ')"
   ]
  },
  {
   "cell_type": "code",
   "execution_count": 38,
   "id": "00f822cf",
   "metadata": {},
   "outputs": [
    {
     "name": "stdout",
     "output_type": "stream",
     "text": [
      "*\n",
      "**\n",
      "***\n",
      "****\n",
      "*****\n"
     ]
    }
   ],
   "source": [
    "for i in range(5):\n",
    "    for j in range(i+1):\n",
    "        print('*',end='')\n",
    "    print()"
   ]
  },
  {
   "cell_type": "code",
   "execution_count": 41,
   "id": "271e5c74",
   "metadata": {},
   "outputs": [
    {
     "name": "stdout",
     "output_type": "stream",
     "text": [
      "*****\n",
      "****\n",
      "***\n",
      "**\n",
      "*\n"
     ]
    }
   ],
   "source": [
    "for i in range(5,0,-1):\n",
    "    for j in range(i,0,-1):\n",
    "        print('*',end='')\n",
    "    print()"
   ]
  },
  {
   "cell_type": "code",
   "execution_count": 42,
   "id": "4373c103",
   "metadata": {},
   "outputs": [
    {
     "name": "stdout",
     "output_type": "stream",
     "text": [
      "1 2 3 4 5 \n",
      "2 4 6 8 10 \n",
      "3 6 9 12 15 \n",
      "4 8 12 16 20 \n",
      "5 10 15 20 25 \n"
     ]
    }
   ],
   "source": [
    "for i in range(1,6):\n",
    "    for j in range(1,6):\n",
    "        print(i*j,end=\" \")\n",
    "    print()"
   ]
  },
  {
   "cell_type": "code",
   "execution_count": 44,
   "id": "bf35a283",
   "metadata": {},
   "outputs": [
    {
     "name": "stdout",
     "output_type": "stream",
     "text": [
      "1\n",
      "2\n",
      "3\n",
      "4\n",
      "5\n"
     ]
    }
   ],
   "source": [
    "count=1\n",
    "while count<=5:\n",
    "    print(count)\n",
    "    count=count+1"
   ]
  },
  {
   "cell_type": "code",
   "execution_count": 45,
   "id": "cdd5019d",
   "metadata": {},
   "outputs": [
    {
     "name": "stdout",
     "output_type": "stream",
     "text": [
      "enter the wordpw\n",
      "you entered pw\n",
      "enter the wordskills\n",
      "you entered skills\n",
      "enter the wordineuron\n",
      "you entered ineuron\n",
      "enter the worddeepika\n",
      "you entered deepika\n",
      "enter the wordquit\n",
      "you entered quit\n"
     ]
    }
   ],
   "source": [
    "text=\" \"\n",
    "while text!='quit':\n",
    "    text=input(\"enter the word\")\n",
    "    print(\"you entered\",text)"
   ]
  },
  {
   "cell_type": "code",
   "execution_count": 48,
   "id": "5d96a81f",
   "metadata": {},
   "outputs": [
    {
     "name": "stdout",
     "output_type": "stream",
     "text": [
      "enter age:4\n",
      "the age is 4\n",
      "enter age:2\n",
      "the age is 2\n",
      "enter age:12\n",
      "the age is 12\n",
      "enter age:56\n",
      "the age is 56\n",
      "enter age:21\n",
      "the age is 21\n"
     ]
    }
   ],
   "source": [
    "age=0\n",
    "while age!=21:\n",
    "    age=int(input(\"enter age:\"))\n",
    "    print(\"the age is\",age)"
   ]
  },
  {
   "cell_type": "code",
   "execution_count": 49,
   "id": "0a37e910",
   "metadata": {},
   "outputs": [
    {
     "name": "stdout",
     "output_type": "stream",
     "text": [
      "Enter age56\n",
      "Invalid age\n",
      "Enter age21\n",
      "Invalid age\n",
      "Age is from list\n"
     ]
    }
   ],
   "source": [
    "list1=[20,21,22,23,24]\n",
    "age=0\n",
    "while age not in list1:\n",
    "    age=int(input(\"Enter age\"))\n",
    "    print(\"Invalid age\")\n",
    "else:\n",
    "    print(\"Age is from list\")"
   ]
  },
  {
   "cell_type": "code",
   "execution_count": null,
   "id": "c6bccb84",
   "metadata": {},
   "outputs": [],
   "source": []
  }
 ],
 "metadata": {
  "kernelspec": {
   "display_name": "Python 3 (ipykernel)",
   "language": "python",
   "name": "python3"
  },
  "language_info": {
   "codemirror_mode": {
    "name": "ipython",
    "version": 3
   },
   "file_extension": ".py",
   "mimetype": "text/x-python",
   "name": "python",
   "nbconvert_exporter": "python",
   "pygments_lexer": "ipython3",
   "version": "3.10.4"
  }
 },
 "nbformat": 4,
 "nbformat_minor": 5
}
