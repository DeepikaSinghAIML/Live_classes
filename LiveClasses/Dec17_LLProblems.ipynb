{
 "cells": [
  {
   "cell_type": "code",
   "execution_count": 1,
   "id": "72b96b9f-0867-43ea-af1f-6c9719fae1e4",
   "metadata": {},
   "outputs": [],
   "source": [
    "class Node:\n",
    "    def __init__(self, data=None, next=None):\n",
    "        self.data=data\n",
    "        self.next=next\n",
    "\n",
    "#method to set the data value\n",
    "    def setData(self, data):\n",
    "        self.data=data\n",
    "\n",
    "#method to get the data value\n",
    "    def getData(self):\n",
    "        return self.data\n",
    "\n",
    "#method to set the next\n",
    "    def setNext(self, next):\n",
    "        self.next=next\n",
    "\n",
    "#method to get the next\n",
    "    def getNext(self):\n",
    "        return self.next"
   ]
  },
  {
   "cell_type": "code",
   "execution_count": 2,
   "id": "a1fe5a0b-e476-4940-856b-e457e484f4d6",
   "metadata": {},
   "outputs": [],
   "source": [
    "def traverse(head):\n",
    "    temp=head\n",
    "    while(temp):\n",
    "        print(temp.getData(), end=\"->\")\n",
    "        temp=temp.getNext()\n"
   ]
  },
  {
   "cell_type": "code",
   "execution_count": 3,
   "id": "e566b0ff-d343-4a29-9756-200a315b46c7",
   "metadata": {},
   "outputs": [],
   "source": [
    "def length(head):\n",
    "    temp=head\n",
    "    len=0\n",
    "    while(temp):\n",
    "        len+=1\n",
    "        temp=temp.getNext()\n",
    "    return len"
   ]
  },
  {
   "cell_type": "code",
   "execution_count": 4,
   "id": "81b90e9a-e8bf-4b05-b888-2bdbe18b8e51",
   "metadata": {},
   "outputs": [
    {
     "name": "stdout",
     "output_type": "stream",
     "text": [
      "1->2->3->4->5->6->7->\n",
      "1->2->3->5->6->7->"
     ]
    }
   ],
   "source": [
    "#code for deleting a node from the linked list\n",
    "\n",
    "def remove(head,k):\n",
    "    if(k<0 or k>=length(head) or not head):\n",
    "        return head\n",
    "\n",
    "    if k==0:\n",
    "        head=head.getNext()\n",
    "    else:\n",
    "        i=0\n",
    "        prev=head\n",
    "        while(i<k-1):\n",
    "            prev=prev.getNext()\n",
    "            i+=1\n",
    "        prev=prev.setNext(prev.getNext().getNext())\n",
    "    return head\n",
    "\n",
    "head= Node(1)\n",
    "node2= Node(2)\n",
    "node3= Node(3)\n",
    "node4= Node(4)\n",
    "node5= Node(5)\n",
    "node6= Node(6)\n",
    "node7= Node(7)\n",
    "\n",
    "#creating the linkage\n",
    "head.setNext(node2)\n",
    "node2.setNext(node3)\n",
    "node3.setNext(node4)\n",
    "node4.setNext(node5)\n",
    "node5.setNext(node6)\n",
    "node6.setNext(node7)\n",
    "\n",
    "traverse(head)\n",
    "print()\n",
    "head=remove(head,3)\n",
    "traverse(head)"
   ]
  },
  {
   "cell_type": "code",
   "execution_count": 5,
   "id": "b42dd27d-eb07-4208-b86d-dce6f02caf88",
   "metadata": {},
   "outputs": [
    {
     "name": "stdout",
     "output_type": "stream",
     "text": [
      "1->2->3->4->5->6->7->\n",
      "4\n"
     ]
    }
   ],
   "source": [
    "#find the middle element in the linked list\n",
    "def findMidpoint(head):\n",
    "    slow=head\n",
    "    fast=head\n",
    "    while(fast!=None and fast.getNext()!=None):\n",
    "        slow=slow.getNext()\n",
    "        fast=fast.getNext().getNext()\n",
    "\n",
    "    return slow.getData()\n",
    "\n",
    "head= Node(1)\n",
    "node2= Node(2)\n",
    "node3= Node(3)\n",
    "node4= Node(4)\n",
    "node5= Node(5)\n",
    "node6= Node(6)\n",
    "node7= Node(7)\n",
    "\n",
    "#creating the linkage\n",
    "head.setNext(node2)\n",
    "node2.setNext(node3)\n",
    "node3.setNext(node4)\n",
    "node4.setNext(node5)\n",
    "node5.setNext(node6)\n",
    "node6.setNext(node7)\n",
    "\n",
    "traverse(head)\n",
    "print()\n",
    "print(findMidpoint(head))"
   ]
  },
  {
   "cell_type": "code",
   "execution_count": 6,
   "id": "1c1ced42-30c6-4a78-8666-29bf3745fb88",
   "metadata": {},
   "outputs": [
    {
     "name": "stdout",
     "output_type": "stream",
     "text": [
      "True\n"
     ]
    }
   ],
   "source": [
    "def isCyclePresent(head):\n",
    "    slow=head\n",
    "    fast=head\n",
    "    while(fast and fast.getNext()):\n",
    "        slow=slow.getNext()\n",
    "        fast=fast.getNext().getNext()\n",
    "        if fast and slow.getData()==fast.getData():\n",
    "            return True\n",
    "    return False\n",
    "\n",
    "head= Node(1)\n",
    "node2= Node(2)\n",
    "node3= Node(3)\n",
    "node4= Node(4)\n",
    "node5= Node(5)\n",
    "node6= Node(6)\n",
    "\n",
    "\n",
    "#creating the linkage\n",
    "head.setNext(node2)\n",
    "node2.setNext(node3)\n",
    "node3.setNext(node4)\n",
    "node4.setNext(node5)\n",
    "node5.setNext(node6)\n",
    "node6.setNext(node3)\n",
    "\n",
    "print(isCyclePresent(head))"
   ]
  },
  {
   "cell_type": "code",
   "execution_count": 7,
   "id": "1d81e8b6-6918-4236-8474-04a50cbe236e",
   "metadata": {},
   "outputs": [
    {
     "name": "stdout",
     "output_type": "stream",
     "text": [
      "3\n"
     ]
    }
   ],
   "source": [
    "def startingPointofCycle(head):\n",
    "    slow=head\n",
    "    fast=head\n",
    "    isCyclePresent=False\n",
    "    while(fast and fast.getNext()):\n",
    "        slow=slow.getNext()\n",
    "        fast=fast.getNext().getNext()\n",
    "        if (fast and slow.getData()== fast.getData()):\n",
    "            isCyclePresent=True\n",
    "            break\n",
    "\n",
    "    if not isCyclePresent:\n",
    "        return None\n",
    "\n",
    "    temp=head\n",
    "    while(temp.getData()!=slow.getData()):\n",
    "        temp=temp.getNext()\n",
    "        slow=slow.getNext()\n",
    "\n",
    "    return temp.getData()\n",
    "\n",
    "head= Node(1)\n",
    "node2= Node(2)\n",
    "node3= Node(3)\n",
    "node4= Node(4)\n",
    "node5= Node(5)\n",
    "node6= Node(6)\n",
    "\n",
    "\n",
    "#creating the linkage\n",
    "head.setNext(node2)\n",
    "node2.setNext(node3)\n",
    "node3.setNext(node4)\n",
    "node4.setNext(node5)\n",
    "node5.setNext(node6)\n",
    "node6.setNext(node3)\n",
    "print(startingPointofCycle(head))"
   ]
  },
  {
   "cell_type": "code",
   "execution_count": null,
   "id": "384c8a2e-d1c0-4295-a9a3-e73b3de33a6a",
   "metadata": {},
   "outputs": [],
   "source": []
  }
 ],
 "metadata": {
  "kernelspec": {
   "display_name": "Python 3 (ipykernel)",
   "language": "python",
   "name": "python3"
  },
  "language_info": {
   "codemirror_mode": {
    "name": "ipython",
    "version": 3
   },
   "file_extension": ".py",
   "mimetype": "text/x-python",
   "name": "python",
   "nbconvert_exporter": "python",
   "pygments_lexer": "ipython3",
   "version": "3.10.13"
  }
 },
 "nbformat": 4,
 "nbformat_minor": 5
}
