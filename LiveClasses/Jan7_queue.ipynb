{
 "cells": [
  {
   "cell_type": "code",
   "execution_count": 1,
   "id": "b0b9114c-f3c5-450c-9ec7-fda1a8a50fbf",
   "metadata": {},
   "outputs": [],
   "source": [
    "#stack question\n",
    "\n",
    "#delete middle element of stack"
   ]
  },
  {
   "cell_type": "code",
   "execution_count": 5,
   "id": "d122110e-cb2a-4743-bf8c-2fc5b5faad92",
   "metadata": {},
   "outputs": [],
   "source": [
    "class Node:\n",
    "    def __init__(self,data,next=None):\n",
    "        self.data=data\n",
    "        self.next=next\n",
    "\n",
    "    def getData(self):\n",
    "        return self.data\n",
    "\n",
    "    def setData(self, data):\n",
    "        self.data=data\n",
    "\n",
    "    def setNext(self, next):\n",
    "        self.next=next\n",
    "\n",
    "    def getNext(self):\n",
    "        return self.next\n",
    "        "
   ]
  },
  {
   "cell_type": "code",
   "execution_count": 2,
   "id": "980d1da4-cb23-4182-b821-bbda8d514865",
   "metadata": {},
   "outputs": [],
   "source": [
    "class StackLL:\n",
    "    def __init__(self):\n",
    "        self.head=None\n",
    "\n",
    "    def isEmpty(self):\n",
    "        return self.head==None\n",
    "\n",
    "    def push(self, data):\n",
    "        node=Node(data)\n",
    "        node.setNext(self.head)\n",
    "        self.head=node\n",
    "\n",
    "    def pop(self):\n",
    "        if(self.isEmpty()):\n",
    "            print(\"Stack Underflow\")\n",
    "            return\n",
    "        data=self.head.getData()\n",
    "        self.head= self.head.getNext()\n",
    "        return data\n",
    "\n",
    "    def peek(self):\n",
    "        if(self.isEmpty()):\n",
    "            print(\"Stack Underflow\")\n",
    "            return\n",
    "        data=self.head.getData()\n",
    "        return data\n",
    "\n",
    "    def size(self):\n",
    "        size=0\n",
    "        temp=self.head\n",
    "        while(temp):\n",
    "            size+=1\n",
    "            temp=temp.getNext()\n",
    "        return size\n",
    "\n",
    "    def traverse(self):\n",
    "        temp=self.head\n",
    "        while(temp):\n",
    "            print(temp.getData(), end=\"->\")\n",
    "            temp=temp.getNext()\n",
    "        "
   ]
  },
  {
   "cell_type": "code",
   "execution_count": 3,
   "id": "36a482e2-6d35-4bb9-b816-db948df6fbe5",
   "metadata": {},
   "outputs": [],
   "source": [
    "def deleteMiddle(stack):\n",
    "    s2=StackLL()\n",
    "    size=stack.size()\n",
    "    count=0\n",
    "    while(count<int(size/2)):\n",
    "        s2.push(stack.pop())\n",
    "        count+=1\n",
    "    stack.pop()\n",
    "    while(not s2.isEmpty()):\n",
    "        stack.push(s2.pop())\n",
    "        "
   ]
  },
  {
   "cell_type": "code",
   "execution_count": 6,
   "id": "3e9a7376-c3d9-4813-9a75-fc94dbbf6307",
   "metadata": {},
   "outputs": [],
   "source": [
    "s=StackLL()\n",
    "s.push(5)\n",
    "s.push(9)\n",
    "s.push(1)\n",
    "s.push(4)\n",
    "s.push(3)"
   ]
  },
  {
   "cell_type": "code",
   "execution_count": 7,
   "id": "e2e2d35b-7b0d-46a1-b527-57b02bd23cad",
   "metadata": {},
   "outputs": [
    {
     "name": "stdout",
     "output_type": "stream",
     "text": [
      "3->4->1->9->5->"
     ]
    }
   ],
   "source": [
    "s.traverse()"
   ]
  },
  {
   "cell_type": "code",
   "execution_count": 8,
   "id": "2cb84c89-bc13-4e6e-ac5d-1974b5c2c4eb",
   "metadata": {},
   "outputs": [],
   "source": [
    "deleteMiddle(s)"
   ]
  },
  {
   "cell_type": "code",
   "execution_count": 9,
   "id": "a9e3bbad-11a0-4cbf-baff-2f8a7c93d81a",
   "metadata": {},
   "outputs": [
    {
     "name": "stdout",
     "output_type": "stream",
     "text": [
      "3->4->9->5->"
     ]
    }
   ],
   "source": [
    "s.traverse()"
   ]
  },
  {
   "cell_type": "code",
   "execution_count": 10,
   "id": "e5854b90-e763-4fd9-bc07-21ab4609eedd",
   "metadata": {},
   "outputs": [],
   "source": [
    "#delete middle withput using additional stack"
   ]
  },
  {
   "cell_type": "code",
   "execution_count": 31,
   "id": "fe25467b-46e1-4391-97f8-5392d59ea3ae",
   "metadata": {},
   "outputs": [],
   "source": [
    " def deleteMiddle(s, sizeOfStack, curr):\n",
    "     if (s.isEmpty() or curr== sizeOfStack):\n",
    "         return\n",
    "     x=s.pop()\n",
    "     deleteMiddle(s, sizeOfStack, curr+1)\n",
    "\n",
    "     if(curr!=int(sizeOfStack/2)):\n",
    "         s.push(x)\n",
    "         "
   ]
  },
  {
   "cell_type": "code",
   "execution_count": 32,
   "id": "ac594bca-a9ac-42aa-820e-820e23d77151",
   "metadata": {},
   "outputs": [],
   "source": [
    "s=StackLL()\n",
    "s.push(3)\n",
    "s.push(1)\n",
    "size=s.size()"
   ]
  },
  {
   "cell_type": "code",
   "execution_count": 33,
   "id": "8cf47d8b-72af-4a05-9005-bafef9d4d9c0",
   "metadata": {},
   "outputs": [
    {
     "name": "stdout",
     "output_type": "stream",
     "text": [
      "1->3->"
     ]
    }
   ],
   "source": [
    "s.traverse()"
   ]
  },
  {
   "cell_type": "code",
   "execution_count": 34,
   "id": "b4ab6fa9-9eac-40df-830d-d3d86c5bbb57",
   "metadata": {},
   "outputs": [],
   "source": [
    "deleteMiddle(s, size, 0)"
   ]
  },
  {
   "cell_type": "code",
   "execution_count": 35,
   "id": "85b9bfd7-9acd-499c-b7a9-ae1657bbc5ad",
   "metadata": {},
   "outputs": [
    {
     "name": "stdout",
     "output_type": "stream",
     "text": [
      "1->"
     ]
    }
   ],
   "source": [
    "s.traverse()"
   ]
  },
  {
   "cell_type": "code",
   "execution_count": 42,
   "id": "9af7da01-7441-48cd-b994-aa0f163a132e",
   "metadata": {},
   "outputs": [],
   "source": [
    "class Queue:\n",
    "    def __init__(self, capacity):\n",
    "        self.arr= [None]*capacity\n",
    "        self.capacity=capacity\n",
    "        self.front=-1\n",
    "        self.rear=-1\n",
    "        self.size=0\n",
    "\n",
    "    def isEmpty(self):\n",
    "        return self.front==-1\n",
    "\n",
    "    def isFull(self):\n",
    "        return (self.front+1)%self.capacity==self.rear\n",
    "\n",
    "    def enQueue(self, data):\n",
    "        if self.isFull():\n",
    "            print(\"Queue Overflow\")\n",
    "        self.front= (self.front+1)%self.capacity\n",
    "        self.arr[self.front]=data\n",
    "        if self.rear==-1:\n",
    "            self.rear=0\n",
    "        self.size+=1\n",
    "\n",
    "    def deQueue(self):\n",
    "        if self.isEmpty():\n",
    "            print(\"Queue underflow\")\n",
    "            return\n",
    "        data=self.arr[self.rear]\n",
    "        if self.rear==self.front:\n",
    "            self.rear=-1\n",
    "            self.front=-1\n",
    "        else:\n",
    "            self.rear=(self.rear+1)%self.capacity\n",
    "        self.size-=1\n",
    "        return data\n",
    "\n",
    "    def size(self):\n",
    "        return self.size\n",
    "\n",
    "    def traverse(self):\n",
    "        for i in range(self.size):\n",
    "            print(self.arr[(self.rear+i)%self.capacity], end=\" , \")\n",
    "        \n",
    "        \n",
    "        "
   ]
  },
  {
   "cell_type": "code",
   "execution_count": 43,
   "id": "fb7d3a7f-cb0f-4803-a11f-df82ea3cecb1",
   "metadata": {},
   "outputs": [],
   "source": [
    "q=Queue(5)"
   ]
  },
  {
   "cell_type": "code",
   "execution_count": 44,
   "id": "b548ca24-3cf5-4cdf-af3e-d5df11f40b77",
   "metadata": {},
   "outputs": [
    {
     "name": "stdout",
     "output_type": "stream",
     "text": [
      "True\n"
     ]
    }
   ],
   "source": [
    "print(q.isEmpty())"
   ]
  },
  {
   "cell_type": "code",
   "execution_count": 45,
   "id": "a4da14ae-ef4e-40e9-aa90-f6330849cea7",
   "metadata": {},
   "outputs": [
    {
     "name": "stdout",
     "output_type": "stream",
     "text": [
      "False\n"
     ]
    }
   ],
   "source": [
    "print(q.isFull())"
   ]
  },
  {
   "cell_type": "code",
   "execution_count": 46,
   "id": "d856ff94-e26e-44d8-bcb6-fce8c0920dd6",
   "metadata": {},
   "outputs": [],
   "source": [
    "q.enQueue(4)\n",
    "q.enQueue(5)\n",
    "q.enQueue(3)"
   ]
  },
  {
   "cell_type": "code",
   "execution_count": 47,
   "id": "3f82c304-edc3-4aaa-bfde-cd998260e8c2",
   "metadata": {},
   "outputs": [
    {
     "name": "stdout",
     "output_type": "stream",
     "text": [
      "4 , 5 , 3 , "
     ]
    }
   ],
   "source": [
    "q.traverse()"
   ]
  },
  {
   "cell_type": "code",
   "execution_count": 48,
   "id": "19c12324-d1f2-4e53-8b1e-5fc322c945f8",
   "metadata": {},
   "outputs": [
    {
     "name": "stdout",
     "output_type": "stream",
     "text": [
      "4\n"
     ]
    }
   ],
   "source": [
    "print(q.deQueue())"
   ]
  },
  {
   "cell_type": "code",
   "execution_count": 49,
   "id": "f9b90c49-d1d8-4d0a-afd3-b8e86ae9b871",
   "metadata": {},
   "outputs": [
    {
     "name": "stdout",
     "output_type": "stream",
     "text": [
      "5\n"
     ]
    }
   ],
   "source": [
    "print(q.deQueue())"
   ]
  },
  {
   "cell_type": "code",
   "execution_count": 50,
   "id": "e3c5c587-3a24-471c-8394-ee299ca8198e",
   "metadata": {},
   "outputs": [
    {
     "name": "stdout",
     "output_type": "stream",
     "text": [
      "3\n"
     ]
    }
   ],
   "source": [
    "print(q.deQueue())"
   ]
  },
  {
   "cell_type": "code",
   "execution_count": null,
   "id": "f39b8d26-2d10-4cd1-bbc3-abe7edc8f056",
   "metadata": {},
   "outputs": [],
   "source": [
    "class QueueLL:\n",
    "    def __init__(self):\n",
    "        self.head=None\n",
    "        self.tail=None\n",
    "        self.size=0\n",
    "\n",
    "    def isEmpty(self):\n",
    "        return self.head== None\n",
    "\n",
    "    def enQueue(self, data):\n",
    "        node=Node(data)\n",
    "        if self.isEmpty():\n",
    "            self.head=node\n",
    "            self.tail=node\n",
    "        else:\n",
    "            self.tail.setNext(node)\n",
    "            self.tail=self.tail.getNext()\n",
    "        self.size+=1\n",
    "\n",
    "    def deQueue(self):\n",
    "        if self.isEmpty():\n",
    "            print(\"Queue undeflow\")\n",
    "            return\n",
    "        data=self.head.getData()\n",
    "        if(self.head==self.tail):\n",
    "            self.head=None\n",
    "            self.tail=None\n",
    "        else:\n",
    "            self.head=self.head.getNext()\n",
    "        self.size-=1\n",
    "        return data\n",
    "\n",
    "    def traverse(self):\n",
    "        temp=self.head\n",
    "        while(temp):\n",
    "            print(temp.getData(), end=\"->\")\n",
    "            temp=temp.getNext()\n",
    "        print()\n",
    "            "
   ]
  }
 ],
 "metadata": {
  "kernelspec": {
   "display_name": "Python 3 (ipykernel)",
   "language": "python",
   "name": "python3"
  },
  "language_info": {
   "codemirror_mode": {
    "name": "ipython",
    "version": 3
   },
   "file_extension": ".py",
   "mimetype": "text/x-python",
   "name": "python",
   "nbconvert_exporter": "python",
   "pygments_lexer": "ipython3",
   "version": "3.10.13"
  }
 },
 "nbformat": 4,
 "nbformat_minor": 5
}
