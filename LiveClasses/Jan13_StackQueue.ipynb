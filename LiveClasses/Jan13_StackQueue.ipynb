{
 "cells": [
  {
   "cell_type": "code",
   "execution_count": 1,
   "id": "e164ae54-5e27-40d1-b163-c90761d8442f",
   "metadata": {},
   "outputs": [],
   "source": [
    "class Node:\n",
    "    def __init__(self,data,next=None):\n",
    "        self.data=data\n",
    "        self.next=next\n",
    "\n",
    "    def getData(self):\n",
    "        return self.data\n",
    "\n",
    "    def setData(self, data):\n",
    "        self.data=data\n",
    "\n",
    "    def setNext(self, next):\n",
    "        self.next=next\n",
    "\n",
    "    def getNext(self):\n",
    "        return self.next\n",
    "        "
   ]
  },
  {
   "cell_type": "code",
   "execution_count": 2,
   "id": "09968755-5787-4acd-b03b-7b7f2a0e9ab5",
   "metadata": {},
   "outputs": [],
   "source": [
    "class QueueLL:\n",
    "    def __init__(self):\n",
    "        self.head=None\n",
    "        self.tail=None\n",
    "        self.size=0\n",
    "\n",
    "    def isEmpty(self):\n",
    "        return self.head== None\n",
    "\n",
    "    def enQueue(self, data):\n",
    "        node=Node(data)\n",
    "        if self.isEmpty():\n",
    "            self.head=node\n",
    "            self.tail=node\n",
    "        else:\n",
    "            self.tail.setNext(node)\n",
    "            self.tail=self.tail.getNext()\n",
    "        self.size+=1\n",
    "\n",
    "    def deQueue(self):\n",
    "        if self.isEmpty():\n",
    "            print(\"Queue undeflow\")\n",
    "            return\n",
    "        data=self.head.getData()\n",
    "        if(self.head==self.tail):\n",
    "            self.head=None\n",
    "            self.tail=None\n",
    "        else:\n",
    "            self.head=self.head.getNext()\n",
    "        self.size-=1\n",
    "        return data\n",
    "\n",
    "    def traverse(self):\n",
    "        temp=self.head\n",
    "        while(temp):\n",
    "            print(temp.getData(), end=\"->\")\n",
    "            temp=temp.getNext()\n",
    "        print()"
   ]
  },
  {
   "cell_type": "code",
   "execution_count": 3,
   "id": "ce1ffa0a-315f-45a1-bfdf-386d64678737",
   "metadata": {},
   "outputs": [],
   "source": [
    "# Implement Stack Using Queue"
   ]
  },
  {
   "cell_type": "code",
   "execution_count": 10,
   "id": "9faa73e8-16f7-411e-9170-55f1dcb8e4bb",
   "metadata": {},
   "outputs": [],
   "source": [
    "class StackQ:\n",
    "    def __init__(self):\n",
    "        self.q1=QueueLL()\n",
    "        self.q2=QueueLL()\n",
    "\n",
    "    def isEmpty(self):\n",
    "        return self.q1.isEmpty()\n",
    "\n",
    "    def push(self, data):\n",
    "        self.q1.enQueue(data)\n",
    "\n",
    "    def pop(self):\n",
    "        if self.isEmpty():\n",
    "            print(\"Stack Underflow\")\n",
    "        data= None\n",
    "        while not self.q1.isEmpty():\n",
    "            data=self.q1.deQueue()\n",
    "            if not self.q1.isEmpty():\n",
    "                self.q2.enQueue(data)\n",
    "        self.q1, self.q2=self.q2, self.q1\n",
    "        return data\n",
    "\n",
    "    def traverse(self):\n",
    "        self.q1.traverse()\n",
    "        "
   ]
  },
  {
   "cell_type": "code",
   "execution_count": 11,
   "id": "2172f4bd-58a2-4f8a-81b3-26118e35c4c9",
   "metadata": {},
   "outputs": [],
   "source": [
    "s=StackQ()"
   ]
  },
  {
   "cell_type": "code",
   "execution_count": 12,
   "id": "044e9b9e-3e2d-4332-a195-be7702fe4cfc",
   "metadata": {},
   "outputs": [
    {
     "name": "stdout",
     "output_type": "stream",
     "text": [
      "True\n"
     ]
    }
   ],
   "source": [
    "print(s.isEmpty())"
   ]
  },
  {
   "cell_type": "code",
   "execution_count": 13,
   "id": "6d593a9a-95f5-456d-888b-45dc0b31f81c",
   "metadata": {},
   "outputs": [],
   "source": [
    "s.push(5)\n",
    "s.push(9)\n",
    "s.push(3)\n",
    "s.push(2)"
   ]
  },
  {
   "cell_type": "code",
   "execution_count": 14,
   "id": "82044f7c-f794-4ad6-aa25-8f92a709f78e",
   "metadata": {},
   "outputs": [
    {
     "name": "stdout",
     "output_type": "stream",
     "text": [
      "5->9->3->2->\n"
     ]
    }
   ],
   "source": [
    "s.traverse()"
   ]
  },
  {
   "cell_type": "code",
   "execution_count": 15,
   "id": "0e998204-8286-4d43-be34-d48ddcb00945",
   "metadata": {},
   "outputs": [
    {
     "name": "stdout",
     "output_type": "stream",
     "text": [
      "2\n"
     ]
    }
   ],
   "source": [
    "print(s.pop())"
   ]
  },
  {
   "cell_type": "code",
   "execution_count": 16,
   "id": "f58e427f-9bba-4523-9fe9-4f07fcdca2e8",
   "metadata": {},
   "outputs": [],
   "source": [
    "# Implement Queue using Stack"
   ]
  },
  {
   "cell_type": "code",
   "execution_count": 18,
   "id": "bdc2bc7f-71dc-4762-9a63-179cbef0d1b8",
   "metadata": {},
   "outputs": [],
   "source": [
    "class QueueS:\n",
    "    def __init__(self):\n",
    "        self.s1=StackQ()\n",
    "        self.s2=StackQ()\n",
    "\n",
    "    def enQueue(self, data):\n",
    "        self.s1.push(data)\n",
    "\n",
    "    def isEmpty(self):\n",
    "        return s1.isEmpty()\n",
    "\n",
    "    def deQueue(self):\n",
    "        if self.isEmpty():\n",
    "            print(\"Queue underflow\")\n",
    "            return\n",
    "        data= None\n",
    "        while not self.s1.isEmpty():\n",
    "            data=self.s1.pop()\n",
    "            if not self.s1.isEmpty():\n",
    "                self.s2.push(data)\n",
    "        self.s1, self.s2=self.s2, self.s1\n",
    "        return data\n",
    "\n",
    "    def traverse(self):\n",
    "        self.s1.traverse()\n",
    "        \n",
    "                \n",
    "        "
   ]
  },
  {
   "cell_type": "code",
   "execution_count": null,
   "id": "632ec300-2c89-4c37-9539-2dd398f33edd",
   "metadata": {},
   "outputs": [],
   "source": []
  }
 ],
 "metadata": {
  "kernelspec": {
   "display_name": "Python 3 (ipykernel)",
   "language": "python",
   "name": "python3"
  },
  "language_info": {
   "codemirror_mode": {
    "name": "ipython",
    "version": 3
   },
   "file_extension": ".py",
   "mimetype": "text/x-python",
   "name": "python",
   "nbconvert_exporter": "python",
   "pygments_lexer": "ipython3",
   "version": "3.12.4"
  }
 },
 "nbformat": 4,
 "nbformat_minor": 5
}
