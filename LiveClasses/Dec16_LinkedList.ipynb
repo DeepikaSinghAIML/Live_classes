{
 "cells": [
  {
   "cell_type": "code",
   "execution_count": 1,
   "id": "ee109ff4-8de3-4943-8c4e-d7b3e958a840",
   "metadata": {},
   "outputs": [],
   "source": [
    "#Define the List Node\n",
    "\n",
    "class Node:\n",
    "    def __init__(self, data=None, next=None):\n",
    "        self.data=data\n",
    "        self.next=next\n",
    "\n",
    "#method to set the data value\n",
    "    def setData(self, data):\n",
    "        self.data=data\n",
    "\n",
    "#method to get the data value\n",
    "    def getData(self):\n",
    "        return self.data\n",
    "\n",
    "#method to set the next\n",
    "    def setNext(self, next):\n",
    "        self.next=next\n",
    "\n",
    "#method to get the next\n",
    "    def getNext(self):\n",
    "        return self.next"
   ]
  },
  {
   "cell_type": "code",
   "execution_count": 2,
   "id": "d294db0d-38e0-4642-8c65-5469281cde15",
   "metadata": {},
   "outputs": [
    {
     "name": "stdout",
     "output_type": "stream",
     "text": [
      "1->2->3->4->"
     ]
    }
   ],
   "source": [
    "head= Node(1)\n",
    "node2= Node(2)\n",
    "node3= Node(3)\n",
    "node4= Node(4)\n",
    "\n",
    "#creating the linkage\n",
    "head.setNext(node2)\n",
    "node2.setNext(node3)\n",
    "node3.setNext(node4)\n",
    "\n",
    "def traverse(head):\n",
    "    temp=head\n",
    "    while(temp):\n",
    "        print(temp.getData(), end=\"->\")\n",
    "        temp=temp.getNext()\n",
    "\n",
    "traverse(head)\n",
    "        "
   ]
  },
  {
   "cell_type": "code",
   "execution_count": 3,
   "id": "7b8fe0e5-b259-4158-bdc9-cda0e9773369",
   "metadata": {},
   "outputs": [
    {
     "name": "stdout",
     "output_type": "stream",
     "text": [
      "1->2->3->4->"
     ]
    }
   ],
   "source": [
    "def traverseRec(node):\n",
    "    if not node:\n",
    "        return \n",
    "    print(node.getData(), end=\"->\")\n",
    "    traverseRec(node.getNext())\n",
    "\n",
    "traverseRec(head)\n",
    "    "
   ]
  },
  {
   "cell_type": "code",
   "execution_count": 5,
   "id": "c1b21f2e-4792-4e76-85f2-5caba600e458",
   "metadata": {},
   "outputs": [
    {
     "name": "stdout",
     "output_type": "stream",
     "text": [
      "4\n"
     ]
    }
   ],
   "source": [
    "def length(head):\n",
    "    temp=head\n",
    "    len=0\n",
    "    while(temp):\n",
    "        len+=1\n",
    "        temp=temp.getNext()\n",
    "    return len\n",
    "\n",
    "print(length(head))"
   ]
  },
  {
   "cell_type": "code",
   "execution_count": 6,
   "id": "4da8388f-cf0c-492d-80a6-8e077df96f2b",
   "metadata": {},
   "outputs": [
    {
     "name": "stdout",
     "output_type": "stream",
     "text": [
      "4\n"
     ]
    }
   ],
   "source": [
    "def len_rec(head):\n",
    "    if not head:\n",
    "        return 0\n",
    "    return 1+len_rec(head.getNext())\n",
    "\n",
    "print(len_rec(head))"
   ]
  },
  {
   "cell_type": "code",
   "execution_count": 12,
   "id": "ebfcfe72-0ef2-4b98-a726-1a0f5b6b3851",
   "metadata": {},
   "outputs": [
    {
     "name": "stdout",
     "output_type": "stream",
     "text": [
      "1->2->3->4->\n",
      "1->2->8->3->4->"
     ]
    }
   ],
   "source": [
    "def insertNode(head, data, k):\n",
    "    #if k is valid\n",
    "    if (k>length(head) or k<0):\n",
    "        print(\"Argument k passed is not valid\")\n",
    "        return head\n",
    "\n",
    "    #create new node for data\n",
    "    newNode=Node(data)\n",
    "    if (k==0):\n",
    "        #we need to insert in the beginning\n",
    "        newNode.setNext(head)\n",
    "        head=newNode\n",
    "    else:\n",
    "        #when not in the beginning\n",
    "        #we need to jump to the previous node\n",
    "        prev=head\n",
    "        i=0\n",
    "        while(i<k-1):\n",
    "            prev=prev.getNext()\n",
    "            i+=1\n",
    "\n",
    "        #prev will be one position left of the kth position\n",
    "        newNode.setNext(prev.getNext())\n",
    "        prev.setNext(newNode)\n",
    "    return head\n",
    "\n",
    "head= Node(1)\n",
    "node2= Node(2)\n",
    "node3= Node(3)\n",
    "node4= Node(4)\n",
    "\n",
    "#creating the linkage\n",
    "head.setNext(node2)\n",
    "node2.setNext(node3)\n",
    "node3.setNext(node4)\n",
    "\n",
    "traverse(head)\n",
    "print()\n",
    "\n",
    "head=insertNode(head, 8, 2)\n",
    "traverse(head)\n"
   ]
  },
  {
   "cell_type": "code",
   "execution_count": null,
   "id": "d80636ed-3eea-458c-a965-6700dcf293b1",
   "metadata": {},
   "outputs": [],
   "source": []
  }
 ],
 "metadata": {
  "kernelspec": {
   "display_name": "Python 3 (ipykernel)",
   "language": "python",
   "name": "python3"
  },
  "language_info": {
   "codemirror_mode": {
    "name": "ipython",
    "version": 3
   },
   "file_extension": ".py",
   "mimetype": "text/x-python",
   "name": "python",
   "nbconvert_exporter": "python",
   "pygments_lexer": "ipython3",
   "version": "3.10.13"
  }
 },
 "nbformat": 4,
 "nbformat_minor": 5
}
