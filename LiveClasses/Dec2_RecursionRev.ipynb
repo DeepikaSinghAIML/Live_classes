{
 "cells": [
  {
   "cell_type": "code",
   "execution_count": 1,
   "id": "c60c09a0-2eee-4f6f-b7ff-445bd5dcaed8",
   "metadata": {},
   "outputs": [
    {
     "name": "stdout",
     "output_type": "stream",
     "text": [
      "1\n",
      "2\n",
      "3\n",
      "4\n"
     ]
    }
   ],
   "source": [
    "# print the elements of the array using recursion\n",
    "\n",
    "def printRec(arr, sI):\n",
    "    #base condition\n",
    "    if sI>=len(arr):\n",
    "        return\n",
    "\n",
    "    #logic\n",
    "    print(arr[sI])\n",
    "\n",
    "    #Recursive Call\n",
    "    printRec(arr, sI+1)\n",
    "\n",
    "printRec([1,2,3,4], 0)"
   ]
  },
  {
   "cell_type": "code",
   "execution_count": 5,
   "id": "a153d5f9-cd41-4f13-bfd4-47386122a037",
   "metadata": {},
   "outputs": [
    {
     "name": "stdout",
     "output_type": "stream",
     "text": [
      "5\n",
      "3\n",
      "1\n"
     ]
    }
   ],
   "source": [
    "# print the elements in reverse order using recursion\n",
    "\n",
    "def printRec2(arr2, sI2):\n",
    "    if sI2>=len(arr2):\n",
    "        return\n",
    "    printRec2(arr2, sI2+1)\n",
    "    print(arr2[sI2])\n",
    "\n",
    "printRec2([1,3,5], 0)\n",
    "    "
   ]
  },
  {
   "cell_type": "code",
   "execution_count": 7,
   "id": "e31aa843-7b07-4789-a317-eecefd0d42bf",
   "metadata": {},
   "outputs": [
    {
     "name": "stdout",
     "output_type": "stream",
     "text": [
      "-1\n"
     ]
    }
   ],
   "source": [
    "def find_min(arr3, sI3):\n",
    "    if sI3>=len(arr3):\n",
    "        return 999999\n",
    "    return min(arr3[sI3], find_min(arr3, sI3+1))\n",
    "\n",
    "print(find_min([2,7,-1,0,9],0))\n",
    "    "
   ]
  },
  {
   "cell_type": "code",
   "execution_count": 9,
   "id": "800b58b0-5792-4954-87e0-c34dd7c6fa97",
   "metadata": {},
   "outputs": [
    {
     "name": "stdout",
     "output_type": "stream",
     "text": [
      "1\n",
      "3\n",
      "7\n",
      "15\n"
     ]
    }
   ],
   "source": [
    "#tower of hanoi\n",
    "\n",
    "def moves(n,s,d,a):\n",
    "    if n==1:\n",
    "        return 1\n",
    "    return moves(n-1,s,a,d)+1+ moves(n-1,a,d,s)\n",
    "\n",
    "print(moves(1,'s','d','a'))\n",
    "print(moves(2,'s','d','a'))\n",
    "print(moves(3,'s','d','a'))\n",
    "print(moves(4,'s','d','a'))\n"
   ]
  },
  {
   "cell_type": "code",
   "execution_count": null,
   "id": "bd7de145-9ef6-4d6b-b5f7-6bc0920df490",
   "metadata": {},
   "outputs": [],
   "source": []
  }
 ],
 "metadata": {
  "kernelspec": {
   "display_name": "Python 3 (ipykernel)",
   "language": "python",
   "name": "python3"
  },
  "language_info": {
   "codemirror_mode": {
    "name": "ipython",
    "version": 3
   },
   "file_extension": ".py",
   "mimetype": "text/x-python",
   "name": "python",
   "nbconvert_exporter": "python",
   "pygments_lexer": "ipython3",
   "version": "3.10.13"
  }
 },
 "nbformat": 4,
 "nbformat_minor": 5
}
