{
 "cells": [
  {
   "cell_type": "markdown",
   "id": "eb95135e-fbf5-4530-9689-c95f17126f41",
   "metadata": {},
   "source": [
    "# Bubble Sort"
   ]
  },
  {
   "cell_type": "code",
   "execution_count": 1,
   "id": "1ecda10d-1096-4c4c-9a3b-6e22022f37e5",
   "metadata": {},
   "outputs": [
    {
     "name": "stdout",
     "output_type": "stream",
     "text": [
      "[1, 2, 3, 4, 5]\n"
     ]
    }
   ],
   "source": [
    "def bubbleSort(arr):\n",
    "    for i in range(len(arr)-1,0,-1):\n",
    "        for j in range(i):\n",
    "            if(arr[j]>arr[j+1]):\n",
    "                arr[j], arr[j+1]= arr[j+1], arr[j]\n",
    "\n",
    "arr= [5,4,3,2,1]\n",
    "bubbleSort(arr)\n",
    "print(arr)"
   ]
  },
  {
   "cell_type": "markdown",
   "id": "a76b6380-e921-47e2-b145-46ddd864f67c",
   "metadata": {},
   "source": [
    "# Bubble Sort Optimized"
   ]
  },
  {
   "cell_type": "code",
   "execution_count": 2,
   "id": "2f3b53ca-311a-4d43-a495-922054506893",
   "metadata": {},
   "outputs": [
    {
     "name": "stdout",
     "output_type": "stream",
     "text": [
      "[1, 2, 3, 4, 5]\n"
     ]
    }
   ],
   "source": [
    "def bubbleSortOptimized(arr):\n",
    "    for i in range(len(arr)-1,0,-1):\n",
    "        isSorted=True\n",
    "        for j in range(i):\n",
    "            if(arr[j]>arr[j+1]):\n",
    "                isSorted=False\n",
    "                arr[j], arr[j+1]=arr[j+1], arr[j]\n",
    "        if isSorted:\n",
    "            print(\"Array is already sorted\")\n",
    "            break\n",
    "\n",
    "arr= [5,4,3,2,1]\n",
    "bubbleSortOptimized(arr)\n",
    "print(arr)"
   ]
  },
  {
   "cell_type": "markdown",
   "id": "bdf6e305-1c8a-40e8-b34b-7ca6fa5d055c",
   "metadata": {},
   "source": [
    "**Given an array, check if it is sorted or not**"
   ]
  },
  {
   "cell_type": "code",
   "execution_count": 4,
   "id": "075fa3e3-b2c3-47dd-a7b6-b31ed3cfa6f3",
   "metadata": {},
   "outputs": [
    {
     "name": "stdout",
     "output_type": "stream",
     "text": [
      "Array is sorted\n"
     ]
    }
   ],
   "source": [
    "def isSorted(arr2):\n",
    "    isSorted=True\n",
    "    for i in range(len(arr2)-1):\n",
    "        if arr2[i]>arr2[i+1]:\n",
    "            isSorted= False\n",
    "            break\n",
    "    if isSorted:\n",
    "        print(\"Array is sorted\")\n",
    "    else:\n",
    "        print(\"Array is not sorted\")\n",
    "\n",
    "arr2=[1, 2, 3, 4, 5]\n",
    "isSorted(arr2)"
   ]
  },
  {
   "cell_type": "markdown",
   "id": "1076c1ea-49e5-41e8-b966-8b41ac4bb995",
   "metadata": {},
   "source": [
    "# Selection Sort "
   ]
  },
  {
   "cell_type": "code",
   "execution_count": 7,
   "id": "f1669928-d73d-403d-bc6a-06554827e2e7",
   "metadata": {},
   "outputs": [
    {
     "name": "stdout",
     "output_type": "stream",
     "text": [
      "[1, 3, 5, 6, 8, 9]\n"
     ]
    }
   ],
   "source": [
    "def SelectionSort(arr3):\n",
    "    for i in range(len(arr3)):\n",
    "        min=i\n",
    "        for j in range(i+1, len(arr3)):\n",
    "            if arr3[j]<arr3[min]:\n",
    "                min=j\n",
    "        arr3[i], arr3[min]=arr3[min], arr3[i]\n",
    "\n",
    "arr3=[3,1,5,9,6,8]\n",
    "SelectionSort(arr3)\n",
    "print(arr3)"
   ]
  },
  {
   "cell_type": "markdown",
   "id": "7527971a-7a77-43b9-a635-cd65b58aa957",
   "metadata": {},
   "source": [
    "# Insertion Sort"
   ]
  },
  {
   "cell_type": "code",
   "execution_count": 8,
   "id": "354347ea-a208-4388-85da-3372a7d10d43",
   "metadata": {},
   "outputs": [
    {
     "name": "stdout",
     "output_type": "stream",
     "text": [
      "[1, 3, 5, 6, 8, 9]\n"
     ]
    }
   ],
   "source": [
    "def insertionSort(arr4):\n",
    "    for i in range(1, len(arr4)):\n",
    "        v=arr4[i]\n",
    "        j=i\n",
    "        while(j>=1 and arr4[j-1]>v):\n",
    "            arr4[j]=arr4[j-1]\n",
    "            j-=1\n",
    "        arr4[j]=v\n",
    "\n",
    "arr4=[3,1,5,9,6,8]\n",
    "insertionSort(arr4)\n",
    "print(arr4)"
   ]
  },
  {
   "cell_type": "markdown",
   "id": "60178441-c000-41be-89df-4fdc359b99e7",
   "metadata": {},
   "source": [
    "# Linear Search"
   ]
  },
  {
   "cell_type": "code",
   "execution_count": 10,
   "id": "be067010-b380-4e02-9d90-72fba293a662",
   "metadata": {},
   "outputs": [
    {
     "name": "stdout",
     "output_type": "stream",
     "text": [
      "1\n"
     ]
    }
   ],
   "source": [
    "def LinearSearch(arr5, num):\n",
    "    for i in range(len(arr5)):\n",
    "        if arr5[i]==num:\n",
    "            return i\n",
    "    return -1\n",
    "\n",
    "print(LinearSearch([4,5,1,3,19], 5))"
   ]
  },
  {
   "cell_type": "markdown",
   "id": "c2e8c4da-2476-43c2-9501-6d3818f096ab",
   "metadata": {},
   "source": [
    "# Binary Search"
   ]
  },
  {
   "cell_type": "code",
   "execution_count": 14,
   "id": "748b22e3-b86a-4bab-80a8-845e3239638f",
   "metadata": {},
   "outputs": [
    {
     "name": "stdout",
     "output_type": "stream",
     "text": [
      "2\n"
     ]
    }
   ],
   "source": [
    "def BinarySearch(arr6, num2):\n",
    "    left=0\n",
    "    right=len(arr6)-1\n",
    "\n",
    "    while(left<=right):\n",
    "        mid= int(left+ (right-left)/2)\n",
    "        if arr6[mid]==num2:\n",
    "                 return mid\n",
    "        elif arr6[mid]>num2:\n",
    "            right=mid-1\n",
    "        else:\n",
    "            left=mid+1\n",
    "    return -1\n",
    "\n",
    "print(BinarySearch([1, 3, 5, 6, 8, 9], 5))"
   ]
  },
  {
   "cell_type": "code",
   "execution_count": null,
   "id": "8222b67d-ab9f-4bc6-bab7-c857daee69a5",
   "metadata": {},
   "outputs": [],
   "source": []
  }
 ],
 "metadata": {
  "kernelspec": {
   "display_name": "Python 3 (ipykernel)",
   "language": "python",
   "name": "python3"
  },
  "language_info": {
   "codemirror_mode": {
    "name": "ipython",
    "version": 3
   },
   "file_extension": ".py",
   "mimetype": "text/x-python",
   "name": "python",
   "nbconvert_exporter": "python",
   "pygments_lexer": "ipython3",
   "version": "3.10.13"
  }
 },
 "nbformat": 4,
 "nbformat_minor": 5
}
