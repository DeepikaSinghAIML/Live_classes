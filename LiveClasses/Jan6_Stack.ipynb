{
 "cells": [
  {
   "cell_type": "code",
   "execution_count": 39,
   "id": "405ffc61-26fd-4d41-9dec-c9946c4bce13",
   "metadata": {},
   "outputs": [],
   "source": [
    "class Stack:\n",
    "    def __init__(self, capacity=1):\n",
    "        self.top=-1\n",
    "        self.arr=[None]*capacity\n",
    "        self.capacity=capacity\n",
    "\n",
    "    def isEmpty(self):\n",
    "        return self.top==-1\n",
    "\n",
    "    def isFull(self):\n",
    "        return self.top==self.capacity-1\n",
    "\n",
    "    def push(self, data):\n",
    "        if self.isFull():\n",
    "            print(\"Stack Overflow\")\n",
    "            return\n",
    "        self.top+=1\n",
    "        self.arr[self.top]=data\n",
    "\n",
    "    def pop(self):\n",
    "        if self.isEmpty():\n",
    "            print(\"Stack Underflow\")\n",
    "            return \n",
    "        data=self.arr[self.top]\n",
    "        self.arr[self.top]=None\n",
    "        self.top-=1\n",
    "        return data\n",
    "\n",
    "    def traverse(self):\n",
    "        for i in range(self.top+1):\n",
    "            print(self.arr[i], end=\",\")\n",
    "\n",
    "    def peek(self):\n",
    "        if self.isEmpty():\n",
    "            print(\"Stack Underflow\")\n",
    "            return\n",
    "        data=self.arr[self.top]\n",
    "        return data"
   ]
  },
  {
   "cell_type": "code",
   "execution_count": 21,
   "id": "8579ce8a-e56d-4c1d-93b1-8ec793c878b3",
   "metadata": {},
   "outputs": [],
   "source": [
    "stack=Stack(5)"
   ]
  },
  {
   "cell_type": "code",
   "execution_count": 22,
   "id": "6500fa0d-30e1-4337-b8af-f1345e51bd83",
   "metadata": {},
   "outputs": [
    {
     "name": "stdout",
     "output_type": "stream",
     "text": [
      "True\n"
     ]
    }
   ],
   "source": [
    "print(stack.isEmpty())"
   ]
  },
  {
   "cell_type": "code",
   "execution_count": 23,
   "id": "ba30b2ba-dd8f-4df1-a426-53c9377fc844",
   "metadata": {},
   "outputs": [],
   "source": [
    "stack.push(3)\n",
    "stack.push(8)\n",
    "stack.push(2)"
   ]
  },
  {
   "cell_type": "code",
   "execution_count": 24,
   "id": "fa3edbf4-4343-4594-8bc4-777a28e65f82",
   "metadata": {},
   "outputs": [
    {
     "name": "stdout",
     "output_type": "stream",
     "text": [
      "3,8,2,None,None,"
     ]
    }
   ],
   "source": [
    "stack.traverse()"
   ]
  },
  {
   "cell_type": "code",
   "execution_count": 9,
   "id": "b3e4c0f2-d6ff-452a-b80b-18865c2396c4",
   "metadata": {},
   "outputs": [
    {
     "name": "stdout",
     "output_type": "stream",
     "text": [
      "False\n"
     ]
    }
   ],
   "source": [
    "print(stack.isEmpty())"
   ]
  },
  {
   "cell_type": "code",
   "execution_count": 10,
   "id": "37e30e92-b165-411e-b4a3-f338e58d2e6f",
   "metadata": {},
   "outputs": [
    {
     "name": "stdout",
     "output_type": "stream",
     "text": [
      "2\n"
     ]
    }
   ],
   "source": [
    "print(stack.pop())"
   ]
  },
  {
   "cell_type": "code",
   "execution_count": 11,
   "id": "39193aee-70a0-45ce-8557-5c5889f965fc",
   "metadata": {},
   "outputs": [
    {
     "name": "stdout",
     "output_type": "stream",
     "text": [
      "8\n"
     ]
    }
   ],
   "source": [
    "print(stack.pop())"
   ]
  },
  {
   "cell_type": "code",
   "execution_count": 15,
   "id": "986b4cec-23eb-4e8d-b150-2670000ad72a",
   "metadata": {},
   "outputs": [
    {
     "name": "stdout",
     "output_type": "stream",
     "text": [
      "3\n"
     ]
    }
   ],
   "source": [
    "print(stack.pop())"
   ]
  },
  {
   "cell_type": "code",
   "execution_count": 16,
   "id": "ff3d7e03-b86f-4570-92fa-354b07dfeabf",
   "metadata": {},
   "outputs": [
    {
     "name": "stdout",
     "output_type": "stream",
     "text": [
      "True\n"
     ]
    }
   ],
   "source": [
    "print(stack.isEmpty())"
   ]
  },
  {
   "cell_type": "code",
   "execution_count": 17,
   "id": "066e8800-f5cb-4d93-b8e3-f63fb72db8fd",
   "metadata": {},
   "outputs": [
    {
     "name": "stdout",
     "output_type": "stream",
     "text": [
      "Stack Underflow\n",
      "None\n"
     ]
    }
   ],
   "source": [
    "print(stack.pop())"
   ]
  },
  {
   "cell_type": "code",
   "execution_count": 40,
   "id": "fde2434e-b9e5-490b-82b3-8726fe56f6ab",
   "metadata": {},
   "outputs": [],
   "source": [
    "stack=Stack(4)"
   ]
  },
  {
   "cell_type": "code",
   "execution_count": 41,
   "id": "75034db8-56e5-4e6f-8a72-ccf1e3706c8d",
   "metadata": {},
   "outputs": [],
   "source": [
    "stack.traverse()"
   ]
  },
  {
   "cell_type": "code",
   "execution_count": 42,
   "id": "cc22109f-a9d1-4667-bf4f-c9d0725353a0",
   "metadata": {},
   "outputs": [],
   "source": [
    "stack.push(7)"
   ]
  },
  {
   "cell_type": "code",
   "execution_count": 43,
   "id": "7cd7945e-aff0-4381-a0a4-f3e46d51923e",
   "metadata": {},
   "outputs": [],
   "source": [
    "stack.push(9)"
   ]
  },
  {
   "cell_type": "code",
   "execution_count": 44,
   "id": "5919265a-d9fd-4bf3-aa27-01bcf18562e5",
   "metadata": {},
   "outputs": [
    {
     "name": "stdout",
     "output_type": "stream",
     "text": [
      "7,9,"
     ]
    }
   ],
   "source": [
    "stack.traverse()"
   ]
  },
  {
   "cell_type": "code",
   "execution_count": 45,
   "id": "1b998813-433f-4f58-8c19-270a8857c355",
   "metadata": {},
   "outputs": [
    {
     "name": "stdout",
     "output_type": "stream",
     "text": [
      "9\n"
     ]
    }
   ],
   "source": [
    "print(stack.pop())"
   ]
  },
  {
   "cell_type": "code",
   "execution_count": 46,
   "id": "b793ab53-b8cd-408c-99c5-6446bdad81c5",
   "metadata": {},
   "outputs": [
    {
     "name": "stdout",
     "output_type": "stream",
     "text": [
      "7,"
     ]
    }
   ],
   "source": [
    "stack.traverse()"
   ]
  },
  {
   "cell_type": "code",
   "execution_count": 48,
   "id": "692f4522-e476-495a-a757-2d9fbfb0799f",
   "metadata": {},
   "outputs": [],
   "source": [
    "class Node:\n",
    "    def __init__(self,data,next=None):\n",
    "        self.data=data\n",
    "        self.next=next\n",
    "\n",
    "    def getData(self):\n",
    "        return self.data\n",
    "\n",
    "    def setData(self, data):\n",
    "        self.data=data\n",
    "\n",
    "    def setNext(self, next):\n",
    "        self.next=next\n",
    "\n",
    "    def getNext(self):\n",
    "        return self.next\n",
    "        "
   ]
  },
  {
   "cell_type": "code",
   "execution_count": 50,
   "id": "13ab0283-62d3-4936-bc5b-03542d11ee5c",
   "metadata": {},
   "outputs": [],
   "source": [
    "class StackLL:\n",
    "    def __init__(self):\n",
    "        self.head=None\n",
    "\n",
    "    def isEmpty(self):\n",
    "        return self.head==None\n",
    "\n",
    "    def push(self, data):\n",
    "        node=Node(data)\n",
    "        node.setNext(self.head)\n",
    "        self.head=node\n",
    "\n",
    "    def pop(self):\n",
    "        if(self.isEmpty()):\n",
    "            print(\"Stack Underflow\")\n",
    "            return\n",
    "        data=self.head.getData()\n",
    "        self.head= self.head.getNext()\n",
    "        return data\n",
    "\n",
    "    def peek(self):\n",
    "        if(self.isEmpty()):\n",
    "            print(\"Stack Underflow\")\n",
    "            return\n",
    "        data=self.head.getData()\n",
    "        return data\n",
    "\n",
    "    def size(self):\n",
    "        size=0\n",
    "        temp=self.head\n",
    "        while(temp):\n",
    "            size+=1\n",
    "            temp=temp.getNext()\n",
    "        return size\n",
    "\n",
    "    def traverse(self):\n",
    "        temp=self.head\n",
    "        while(temp):\n",
    "            print(temp.getData(), end=\"->\")\n",
    "            temp=temp.getNext()\n",
    "        "
   ]
  },
  {
   "cell_type": "code",
   "execution_count": 51,
   "id": "831cd087-76f0-4825-848b-f58c7186e126",
   "metadata": {},
   "outputs": [],
   "source": [
    "stack= StackLL()\n",
    "\n",
    "stack.push(7)\n",
    "stack.push(9)\n",
    "stack.push(3)"
   ]
  },
  {
   "cell_type": "code",
   "execution_count": 53,
   "id": "e8f60f0f-8531-4e3d-bde0-a0fae3ba2edd",
   "metadata": {},
   "outputs": [
    {
     "name": "stdout",
     "output_type": "stream",
     "text": [
      "3->9->7->\n"
     ]
    }
   ],
   "source": [
    "stack.traverse()\n",
    "print()"
   ]
  },
  {
   "cell_type": "code",
   "execution_count": 54,
   "id": "835d84d5-5636-4e60-9d84-96c9912a5ce9",
   "metadata": {},
   "outputs": [
    {
     "name": "stdout",
     "output_type": "stream",
     "text": [
      "3\n"
     ]
    }
   ],
   "source": [
    "print(stack.pop())"
   ]
  },
  {
   "cell_type": "code",
   "execution_count": 55,
   "id": "38d2a206-16be-49a9-9e7c-ca65598e0b6c",
   "metadata": {},
   "outputs": [
    {
     "name": "stdout",
     "output_type": "stream",
     "text": [
      "9->7->"
     ]
    }
   ],
   "source": [
    "stack.traverse()"
   ]
  },
  {
   "cell_type": "code",
   "execution_count": 56,
   "id": "d27c5bf7-5165-4ec2-9ca6-e5204ed35e46",
   "metadata": {},
   "outputs": [],
   "source": [
    "#balance paranthesis\n",
    "\n",
    "def areBracketsBalanced(exp):\n",
    "    stack=StackLL()\n",
    "    for c in exp:\n",
    "        if c in ['(','{','[']:\n",
    "            stack.push(c)\n",
    "        else:\n",
    "            char=stack.pop()\n",
    "            if char== \"(\" and c!=\")\":\n",
    "                return False\n",
    "            elif char== \"{\" and c!=\"}\":\n",
    "                return False\n",
    "            elif char== \"[\" and c!=\"]\":\n",
    "                return False\n",
    "    return stack.isEmpty()"
   ]
  },
  {
   "cell_type": "code",
   "execution_count": 60,
   "id": "ad4e5d40-daa2-4be3-88fe-5a4ea534088f",
   "metadata": {},
   "outputs": [
    {
     "name": "stdout",
     "output_type": "stream",
     "text": [
      "True\n"
     ]
    }
   ],
   "source": [
    "print(areBracketsBalanced(\"{[]}\"))"
   ]
  },
  {
   "cell_type": "code",
   "execution_count": 62,
   "id": "02c04043-9bd8-470a-9665-a2fb5a0f9806",
   "metadata": {},
   "outputs": [
    {
     "name": "stdout",
     "output_type": "stream",
     "text": [
      "False\n"
     ]
    }
   ],
   "source": [
    "print(areBracketsBalanced(\"{[{}}}\"))"
   ]
  },
  {
   "cell_type": "code",
   "execution_count": null,
   "id": "83c89571-de65-42da-85b7-d7bff1a74b7a",
   "metadata": {},
   "outputs": [],
   "source": []
  }
 ],
 "metadata": {
  "kernelspec": {
   "display_name": "Python 3 (ipykernel)",
   "language": "python",
   "name": "python3"
  },
  "language_info": {
   "codemirror_mode": {
    "name": "ipython",
    "version": 3
   },
   "file_extension": ".py",
   "mimetype": "text/x-python",
   "name": "python",
   "nbconvert_exporter": "python",
   "pygments_lexer": "ipython3",
   "version": "3.10.13"
  }
 },
 "nbformat": 4,
 "nbformat_minor": 5
}
