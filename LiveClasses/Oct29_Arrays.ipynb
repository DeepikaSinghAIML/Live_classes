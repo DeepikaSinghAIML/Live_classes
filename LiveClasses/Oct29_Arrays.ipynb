{
 "cells": [
  {
   "cell_type": "code",
   "execution_count": 2,
   "id": "244c34ef-80d0-47fe-8bff-83e0fc923195",
   "metadata": {},
   "outputs": [
    {
     "name": "stdout",
     "output_type": "stream",
     "text": [
      "282\n"
     ]
    }
   ],
   "source": [
    "#sum of all elements in an array\n",
    "#time complexity=O(n)\n",
    "#space complexity=O(1)\n",
    "\n",
    "def summation(arr):\n",
    "    n=len(arr)\n",
    "    sum=0\n",
    "    for i in range(n):\n",
    "        sum+=arr[i]\n",
    "    return(sum)\n",
    "\n",
    "arr=[23,34,64,12,25,56,68]\n",
    "result=summation(arr)\n",
    "print(result)"
   ]
  },
  {
   "cell_type": "code",
   "execution_count": 6,
   "id": "6bb167a6-54ac-4ec4-b8dd-65588a02e83f",
   "metadata": {},
   "outputs": [
    {
     "name": "stdout",
     "output_type": "stream",
     "text": [
      "[23, 24, 34, 56, 78, 89]\n"
     ]
    }
   ],
   "source": [
    "arr=[23,34,56,78,89]\n",
    "arr.insert(1,24)\n",
    "print(arr)"
   ]
  },
  {
   "cell_type": "code",
   "execution_count": 7,
   "id": "b0525959-b027-47ec-b94b-7b47d4b87da8",
   "metadata": {},
   "outputs": [
    {
     "name": "stdout",
     "output_type": "stream",
     "text": [
      "[23, 34, 56, 78, 89]\n"
     ]
    }
   ],
   "source": [
    "arr.remove(24)\n",
    "print(arr)"
   ]
  },
  {
   "cell_type": "code",
   "execution_count": 8,
   "id": "6f8425d8-fdb7-4b86-84cb-e098eff1eeb8",
   "metadata": {},
   "outputs": [
    {
     "name": "stdout",
     "output_type": "stream",
     "text": [
      "7\n"
     ]
    }
   ],
   "source": [
    "#linearSearch\n",
    "#time complexity=O(n)\n",
    "#space complexity=O(1)\n",
    "\n",
    "def linearSearch(arr, target):\n",
    "    for i in range(len(arr)):\n",
    "        if(arr[i]==target):\n",
    "            return i\n",
    "    return -1\n",
    "\n",
    "arr=[12,14,16,18,11,22,26,29]\n",
    "target=29\n",
    "result=linearSearch(arr,target)\n",
    "print(result)"
   ]
  },
  {
   "cell_type": "code",
   "execution_count": 11,
   "id": "5a0d3533-a956-45e9-99fe-3d84363d34c0",
   "metadata": {},
   "outputs": [
    {
     "name": "stdout",
     "output_type": "stream",
     "text": [
      "([2, 18, 22], [5, 11, 13, 15])\n"
     ]
    }
   ],
   "source": [
    "#evenodd\n",
    "#time complexity=O(n)\n",
    "#space complexity=O(n)\n",
    "\n",
    "even=[]\n",
    "odd=[]\n",
    "arr=[2,5,11,13,15,18,22]\n",
    "def EvenAndOdd(arr):\n",
    "    for i in arr:\n",
    "        if i%2==0:\n",
    "            even.append(i)\n",
    "        else:\n",
    "            odd.append(i)\n",
    "    return even,odd\n",
    "print(EvenAndOdd(arr))\n",
    "    "
   ]
  },
  {
   "cell_type": "code",
   "execution_count": 18,
   "id": "408c3e03-9059-4b1d-b0b6-b6e75fdd1d40",
   "metadata": {},
   "outputs": [
    {
     "name": "stdout",
     "output_type": "stream",
     "text": [
      "Primary Diagonal Sum: 32\n",
      "Secondary Diagoanl Sum: 31\n"
     ]
    }
   ],
   "source": [
    "#print diagonal sum\n",
    "#time complexity=O(n^2)\n",
    "#space complexity=O(1)\n",
    "arr=[[2,4,6],[8,11,13],[14,17,19]]\n",
    "def DiagonalSum(arr):\n",
    "    n=len(arr)\n",
    "    primaryDiagonalSum=0\n",
    "    secondaryDiagonalSum=0\n",
    "    for i in range(n):\n",
    "        for j in range(n):\n",
    "            if i==j:\n",
    "                primaryDiagonalSum+=arr[i][j]\n",
    "            if ((i+j)==(n-1)):\n",
    "                secondaryDiagonalSum+=arr[i][j]\n",
    "  \n",
    "    print(\"Primary Diagonal Sum:\", primaryDiagonalSum)\n",
    "    print(\"Secondary Diagoanl Sum:\", secondaryDiagonalSum)\n",
    "DiagonalSum(arr)\n",
    "    "
   ]
  },
  {
   "cell_type": "code",
   "execution_count": null,
   "id": "af9a7bf0-f5e2-413e-8de9-61c8af782ab0",
   "metadata": {},
   "outputs": [],
   "source": []
  },
  {
   "cell_type": "code",
   "execution_count": null,
   "id": "6d705ad3-a29c-41e9-bc22-08c4341e27a9",
   "metadata": {},
   "outputs": [],
   "source": []
  }
 ],
 "metadata": {
  "kernelspec": {
   "display_name": "Python 3 (ipykernel)",
   "language": "python",
   "name": "python3"
  },
  "language_info": {
   "codemirror_mode": {
    "name": "ipython",
    "version": 3
   },
   "file_extension": ".py",
   "mimetype": "text/x-python",
   "name": "python",
   "nbconvert_exporter": "python",
   "pygments_lexer": "ipython3",
   "version": "3.10.13"
  }
 },
 "nbformat": 4,
 "nbformat_minor": 5
}
