{
 "cells": [
  {
   "cell_type": "code",
   "execution_count": 2,
   "id": "a4a1b93d-3668-437d-b087-e8004fa9b640",
   "metadata": {},
   "outputs": [
    {
     "name": "stdout",
     "output_type": "stream",
     "text": [
      "10\n"
     ]
    }
   ],
   "source": [
    "def SumOfDigits(n):\n",
    "    if n<10:\n",
    "        return n\n",
    "    else:\n",
    "        return n%10+SumOfDigits(n//10)\n",
    "\n",
    "n=1234\n",
    "result=SumOfDigits(n)\n",
    "print(result)"
   ]
  },
  {
   "cell_type": "code",
   "execution_count": 3,
   "id": "5d3bc4c5-4418-45cd-a586-c49ad2d4d46a",
   "metadata": {},
   "outputs": [
    {
     "name": "stdout",
     "output_type": "stream",
     "text": [
      "65536\n"
     ]
    }
   ],
   "source": [
    "#method definition\n",
    "def powerOf(a,n):\n",
    "    #base case condition\n",
    "    if n==0:\n",
    "        return 1\n",
    "    else:\n",
    "        #recursive function call\n",
    "        return a*powerOf(a,n-1)\n",
    "\n",
    "#driver code\n",
    "a=2\n",
    "n=16\n",
    "result2=powerOf(a,n)\n",
    "print(result2)"
   ]
  },
  {
   "cell_type": "code",
   "execution_count": 4,
   "id": "0c3a5f5f-a3c7-4c44-ab60-9764d99d9c89",
   "metadata": {},
   "outputs": [
    {
     "name": "stdout",
     "output_type": "stream",
     "text": [
      "65536\n"
     ]
    }
   ],
   "source": [
    "#optimized approach for the above\n",
    "def powerFind(a,n):\n",
    "    if n==1:\n",
    "        return a\n",
    "    else:\n",
    "        mid=n//2\n",
    "        result=powerFind(a,mid)\n",
    "        finalResult=result*result\n",
    "\n",
    "        if n%2==0:\n",
    "            return finalResult\n",
    "        else:\n",
    "            return a*finalResult\n",
    "\n",
    "a=2\n",
    "n=16\n",
    "result=powerFind(a,n)\n",
    "print(result)"
   ]
  },
  {
   "cell_type": "code",
   "execution_count": null,
   "id": "5237b831-1da0-4219-8968-ea2c84ba7b9a",
   "metadata": {},
   "outputs": [],
   "source": []
  }
 ],
 "metadata": {
  "kernelspec": {
   "display_name": "Python 3 (ipykernel)",
   "language": "python",
   "name": "python3"
  },
  "language_info": {
   "codemirror_mode": {
    "name": "ipython",
    "version": 3
   },
   "file_extension": ".py",
   "mimetype": "text/x-python",
   "name": "python",
   "nbconvert_exporter": "python",
   "pygments_lexer": "ipython3",
   "version": "3.10.13"
  }
 },
 "nbformat": 4,
 "nbformat_minor": 5
}
