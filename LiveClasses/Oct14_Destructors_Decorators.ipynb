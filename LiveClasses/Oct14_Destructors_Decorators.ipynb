{
 "cells": [
  {
   "cell_type": "markdown",
   "id": "f6278a26",
   "metadata": {},
   "source": [
    "## Destructors \n",
    "Destructors are called when an object gets destroyed.In Python, destructors are not much needed because Python has a garbage collector that handles memory management automatically. \n",
    "\n",
    "The **`__del__()`** method is a known as a destructor method in Python. It is called when all references to the object have been deleted i.e when an object is garbage collected. "
   ]
  },
  {
   "cell_type": "code",
   "execution_count": 7,
   "id": "7303bbb7",
   "metadata": {},
   "outputs": [],
   "source": [
    "class fileopener:\n",
    "    def __init__(self, filename):\n",
    "        self.filename=filename\n",
    "        \n",
    "    def open_file(self):\n",
    "        print(\"this will open the file\", self.filename)\n",
    "    \n",
    "    def __del__(self):\n",
    "        print(\"close my file\")\n",
    "    \n",
    "        "
   ]
  },
  {
   "cell_type": "code",
   "execution_count": 8,
   "id": "d554422f",
   "metadata": {},
   "outputs": [],
   "source": [
    "f1=fileopener(\"f1.txt\")\n"
   ]
  },
  {
   "cell_type": "code",
   "execution_count": 9,
   "id": "1e2c2426",
   "metadata": {},
   "outputs": [
    {
     "name": "stdout",
     "output_type": "stream",
     "text": [
      "this will open the file f1.txt\n"
     ]
    }
   ],
   "source": [
    "f1.open_file()"
   ]
  },
  {
   "cell_type": "code",
   "execution_count": 10,
   "id": "b3be70d9",
   "metadata": {},
   "outputs": [
    {
     "name": "stdout",
     "output_type": "stream",
     "text": [
      "close my file\n"
     ]
    }
   ],
   "source": [
    "del f1"
   ]
  },
  {
   "cell_type": "code",
   "execution_count": 17,
   "id": "1bf5423d",
   "metadata": {},
   "outputs": [],
   "source": [
    "import time\n",
    "class timer:\n",
    "    def __init__(self):\n",
    "        self.start_time=time.time()\n",
    "        \n",
    "    def task(self):\n",
    "        time_spent=time.time()-self.start_time\n",
    "        print(time_spent)\n",
    "        \n",
    "    def __del__(self):\n",
    "        print(\"\")"
   ]
  },
  {
   "cell_type": "code",
   "execution_count": 18,
   "id": "5111a56e",
   "metadata": {},
   "outputs": [
    {
     "name": "stdout",
     "output_type": "stream",
     "text": [
      "\n"
     ]
    }
   ],
   "source": [
    "t1=timer()"
   ]
  },
  {
   "cell_type": "code",
   "execution_count": 19,
   "id": "279937a0",
   "metadata": {},
   "outputs": [
    {
     "name": "stdout",
     "output_type": "stream",
     "text": [
      "1.1538641452789307\n"
     ]
    }
   ],
   "source": [
    "t1.task()"
   ]
  },
  {
   "cell_type": "markdown",
   "id": "353a4d66",
   "metadata": {},
   "source": [
    "## __str__() method\n",
    "The python **`__str__()`** method returns the object representation in a string format. This method is supposed to return a human-readable format which is used to display some information about the object."
   ]
  },
  {
   "cell_type": "code",
   "execution_count": 20,
   "id": "1ed69e5f",
   "metadata": {},
   "outputs": [],
   "source": [
    "import time\n",
    "class timer:\n",
    "    def __init__(self):\n",
    "        self.start_time=time.time()\n",
    "        \n",
    "    def task(self):\n",
    "        time_spent=time.time()-self.start_time\n",
    "        print(time_spent)\n",
    "        \n",
    "    def __del__(self):\n",
    "        print(\"\")\n",
    "        \n",
    "    def __str__(self):\n",
    "        return \"this is my class timer\""
   ]
  },
  {
   "cell_type": "code",
   "execution_count": 22,
   "id": "080356c5",
   "metadata": {},
   "outputs": [
    {
     "name": "stdout",
     "output_type": "stream",
     "text": [
      "\n"
     ]
    }
   ],
   "source": [
    "t1=timer()"
   ]
  },
  {
   "cell_type": "code",
   "execution_count": 23,
   "id": "5e37766f",
   "metadata": {},
   "outputs": [
    {
     "name": "stdout",
     "output_type": "stream",
     "text": [
      "this is my class timer\n"
     ]
    }
   ],
   "source": [
    "print(t1)"
   ]
  },
  {
   "cell_type": "markdown",
   "id": "059824fa",
   "metadata": {},
   "source": [
    "## Decorators \n",
    "Decorators allow us to modify the behaviour of a function or class.\n",
    "Decorators allow us to wrap another function in order to extend the behaviour of the wrapped function, without permanently modifying it.\n",
    "\n"
   ]
  },
  {
   "cell_type": "code",
   "execution_count": 24,
   "id": "e2fe6e9d",
   "metadata": {},
   "outputs": [],
   "source": [
    "def test(func):\n",
    "    def inner_test():\n",
    "        print(\"this is the start of my inner test\")\n",
    "        func()\n",
    "        print(\"this is the end of my inner test\")\n",
    "        \n",
    "    return inner_test\n",
    "\n",
    "@test\n",
    "def test1():\n",
    "    print(\"this is my test1\")   #test(test1)"
   ]
  },
  {
   "cell_type": "code",
   "execution_count": 25,
   "id": "748f003e",
   "metadata": {},
   "outputs": [
    {
     "name": "stdout",
     "output_type": "stream",
     "text": [
      "this is the start of my inner test\n",
      "this is my test1\n",
      "this is the end of my inner test\n"
     ]
    }
   ],
   "source": [
    "test1()"
   ]
  },
  {
   "cell_type": "code",
   "execution_count": 28,
   "id": "79302a3e",
   "metadata": {},
   "outputs": [],
   "source": [
    "import time\n",
    "def print_list(l):\n",
    "    start_time=time.time()\n",
    "    for i in l:\n",
    "        print(i)\n",
    "    end_time=time.time()\n",
    "    total_time=end_time-start_time\n",
    "    print(total_time)"
   ]
  },
  {
   "cell_type": "code",
   "execution_count": 30,
   "id": "84222d69",
   "metadata": {},
   "outputs": [],
   "source": [
    "def print_key(d):\n",
    "    print(d.keys())\n",
    "    "
   ]
  },
  {
   "cell_type": "code",
   "execution_count": 31,
   "id": "8a595715",
   "metadata": {},
   "outputs": [],
   "source": [
    "def find_time(func):\n",
    "    def cal_time():\n",
    "        start_time=time.time()\n",
    "        func()\n",
    "        end_time=time.time()\n",
    "        total_time=end_time-start_time\n",
    "        print(total_time)\n",
    "    return cal_time\n"
   ]
  },
  {
   "cell_type": "code",
   "execution_count": 32,
   "id": "484d7742",
   "metadata": {},
   "outputs": [],
   "source": [
    "@find_time\n",
    "def print_key(d):\n",
    "    print(d.keys())"
   ]
  },
  {
   "cell_type": "code",
   "execution_count": 33,
   "id": "4e6c6d07",
   "metadata": {},
   "outputs": [
    {
     "ename": "TypeError",
     "evalue": "find_time.<locals>.cal_time() takes 0 positional arguments but 1 was given",
     "output_type": "error",
     "traceback": [
      "\u001b[1;31m---------------------------------------------------------------------------\u001b[0m",
      "\u001b[1;31mTypeError\u001b[0m                                 Traceback (most recent call last)",
      "Cell \u001b[1;32mIn[33], line 1\u001b[0m\n\u001b[1;32m----> 1\u001b[0m \u001b[43mprint_key\u001b[49m\u001b[43m(\u001b[49m\u001b[43m{\u001b[49m\u001b[38;5;124;43m'\u001b[39;49m\u001b[38;5;124;43mkey\u001b[39;49m\u001b[38;5;124;43m'\u001b[39;49m\u001b[43m:\u001b[49m\u001b[38;5;124;43m'\u001b[39;49m\u001b[38;5;124;43mvalue\u001b[39;49m\u001b[38;5;124;43m'\u001b[39;49m\u001b[43m,\u001b[49m\u001b[38;5;124;43m'\u001b[39;49m\u001b[38;5;124;43mname\u001b[39;49m\u001b[38;5;124;43m'\u001b[39;49m\u001b[43m:\u001b[49m\u001b[38;5;124;43m'\u001b[39;49m\u001b[38;5;124;43mdeepika\u001b[39;49m\u001b[38;5;124;43m'\u001b[39;49m\u001b[43m}\u001b[49m\u001b[43m)\u001b[49m\n",
      "\u001b[1;31mTypeError\u001b[0m: find_time.<locals>.cal_time() takes 0 positional arguments but 1 was given"
     ]
    }
   ],
   "source": [
    "print_key({'key':'value','name':'deepika'})"
   ]
  },
  {
   "cell_type": "code",
   "execution_count": 40,
   "id": "a931ba03",
   "metadata": {},
   "outputs": [],
   "source": [
    "def find_time(func):\n",
    "    def cal_time(*args):\n",
    "        start_time=time.time()\n",
    "        func(*args)\n",
    "        end_time=time.time()\n",
    "        total_time=end_time-start_time\n",
    "        print(total_time)\n",
    "    return cal_time\n"
   ]
  },
  {
   "cell_type": "code",
   "execution_count": 41,
   "id": "fb7f8d50",
   "metadata": {},
   "outputs": [],
   "source": [
    "@find_time\n",
    "def print_key(d):\n",
    "    print(d.keys())"
   ]
  },
  {
   "cell_type": "code",
   "execution_count": 42,
   "id": "66109847",
   "metadata": {},
   "outputs": [
    {
     "name": "stdout",
     "output_type": "stream",
     "text": [
      "dict_keys(['key', 'name'])\n",
      "0.0009961128234863281\n"
     ]
    }
   ],
   "source": [
    "print_key({'key':'value','name':'deepika'})"
   ]
  },
  {
   "cell_type": "code",
   "execution_count": 43,
   "id": "014f8b79",
   "metadata": {},
   "outputs": [],
   "source": [
    "@find_time\n",
    "def print_list(l):\n",
    "    for i in l:\n",
    "        print(i)\n"
   ]
  },
  {
   "cell_type": "code",
   "execution_count": 45,
   "id": "3ddc3096",
   "metadata": {},
   "outputs": [
    {
     "name": "stdout",
     "output_type": "stream",
     "text": [
      "4\n",
      "3\n",
      "23\n",
      "1\n",
      "45\n",
      "64\n",
      "0.0009953975677490234\n"
     ]
    }
   ],
   "source": [
    "print_list([4,3,23,1,45,64])"
   ]
  },
  {
   "cell_type": "code",
   "execution_count": 47,
   "id": "9b9cae8f",
   "metadata": {},
   "outputs": [],
   "source": [
    "import logging\n",
    "def log_func(func):\n",
    "    def log_inner(*args):\n",
    "        logging.basicConfig(filename='test.log', level=logging.INFO)\n",
    "        logging.info(\"this is the start of my function\")\n",
    "        func(*args)\n",
    "        logging.info(\"this is the end of my function\")\n",
    "    return log_inner"
   ]
  },
  {
   "cell_type": "code",
   "execution_count": 48,
   "id": "33885a70",
   "metadata": {},
   "outputs": [],
   "source": [
    "@log_func\n",
    "def print_list(l):\n",
    "    for i in l:\n",
    "        print(i)\n"
   ]
  },
  {
   "cell_type": "code",
   "execution_count": 49,
   "id": "b47ba01c",
   "metadata": {},
   "outputs": [
    {
     "name": "stdout",
     "output_type": "stream",
     "text": [
      "4\n",
      "3\n",
      "23\n",
      "1\n",
      "45\n",
      "64\n"
     ]
    }
   ],
   "source": [
    "print_list([4,3,23,1,45,64])"
   ]
  },
  {
   "cell_type": "markdown",
   "id": "12fcece4",
   "metadata": {},
   "source": [
    "## Chaining Decorators\n",
    "Chaining decorators means decorating a function with multiple decorators."
   ]
  },
  {
   "cell_type": "code",
   "execution_count": 50,
   "id": "47cd6b88",
   "metadata": {},
   "outputs": [],
   "source": [
    "@find_time\n",
    "@log_func\n",
    "def print_list(l):\n",
    "    for i in l:\n",
    "        print(i)\n"
   ]
  },
  {
   "cell_type": "code",
   "execution_count": 51,
   "id": "4d141c91",
   "metadata": {},
   "outputs": [
    {
     "name": "stdout",
     "output_type": "stream",
     "text": [
      "4\n",
      "3\n",
      "23\n",
      "1\n",
      "45\n",
      "64\n",
      "0.0\n"
     ]
    }
   ],
   "source": [
    "print_list([4,3,23,1,45,64])"
   ]
  },
  {
   "cell_type": "markdown",
   "id": "046772ec",
   "metadata": {},
   "source": [
    "## Access Modifiers in Python : Public, Private and Protected\n",
    "Python control access modifications which are used to restrict access to the variables and methods of the class.\n",
    "\n",
    "A Class in Python has three types of access modifiers:\n",
    "\n",
    "- Public Access Modifier\n",
    "- Protected Access Modifier\n",
    "- Private Access Modifier"
   ]
  },
  {
   "cell_type": "markdown",
   "id": "cb391854",
   "metadata": {},
   "source": [
    "### Public Access Modifier\n",
    "The members of a class that are declared public are easily accessible from any part of the program. All data members and member functions of a class are public by default. \n",
    "\n",
    "self.geekName = name\n",
    "\n",
    "self.geekAge = age\n",
    " "
   ]
  },
  {
   "cell_type": "markdown",
   "id": "db436248",
   "metadata": {},
   "source": [
    "### Protected Access Modifier\n",
    "The members of a class that are declared protected are only accessible to a class derived from it. Data members of a class are declared protected by adding a single underscore ‘_’ symbol before the data member of that class. \n",
    "\n",
    "self._name = name\n",
    "\n",
    "self._roll = roll\n",
    "\n",
    "self._branch = branch"
   ]
  },
  {
   "cell_type": "markdown",
   "id": "1ee20ffb",
   "metadata": {},
   "source": [
    "### Private Access Modifier\n",
    "The members of a class that are declared private are accessible within the class only, private access modifier is the most secure access modifier. Data members of a class are declared private by adding a double underscore ‘__’ symbol before the data member of that class. \n",
    "\n",
    "self.__name = name\n",
    "\n",
    "self.__roll = roll\n",
    "\n",
    "self.__branch = branch\n",
    "\n",
    "\n"
   ]
  },
  {
   "cell_type": "code",
   "execution_count": 52,
   "id": "ba233128",
   "metadata": {},
   "outputs": [],
   "source": [
    "class sudh:\n",
    "    def __init__(self, subject):\n",
    "        self._subject=subject\n",
    "        \n",
    "        "
   ]
  },
  {
   "cell_type": "code",
   "execution_count": 53,
   "id": "dc7c83e6",
   "metadata": {},
   "outputs": [],
   "source": [
    "s1=sudh('data science')"
   ]
  },
  {
   "cell_type": "code",
   "execution_count": 54,
   "id": "aa10ab9d",
   "metadata": {},
   "outputs": [
    {
     "data": {
      "text/plain": [
       "'data science'"
      ]
     },
     "execution_count": 54,
     "metadata": {},
     "output_type": "execute_result"
    }
   ],
   "source": [
    "s1._subject"
   ]
  },
  {
   "cell_type": "code",
   "execution_count": 55,
   "id": "44be3e6c",
   "metadata": {},
   "outputs": [],
   "source": [
    "class sudh:\n",
    "    def __init__(self, subject):\n",
    "        self.__subject=subject"
   ]
  },
  {
   "cell_type": "code",
   "execution_count": 56,
   "id": "7751e09b",
   "metadata": {},
   "outputs": [],
   "source": [
    "s1=sudh('data science')"
   ]
  },
  {
   "cell_type": "code",
   "execution_count": 58,
   "id": "ecabb117",
   "metadata": {},
   "outputs": [
    {
     "ename": "AttributeError",
     "evalue": "'sudh' object has no attribute '__subject'",
     "output_type": "error",
     "traceback": [
      "\u001b[1;31m---------------------------------------------------------------------------\u001b[0m",
      "\u001b[1;31mAttributeError\u001b[0m                            Traceback (most recent call last)",
      "Cell \u001b[1;32mIn[58], line 1\u001b[0m\n\u001b[1;32m----> 1\u001b[0m \u001b[43ms1\u001b[49m\u001b[38;5;241;43m.\u001b[39;49m\u001b[43m__subject\u001b[49m \u001b[38;5;66;03m#because it is private\u001b[39;00m\n",
      "\u001b[1;31mAttributeError\u001b[0m: 'sudh' object has no attribute '__subject'"
     ]
    }
   ],
   "source": [
    "s1.__subject #because it is private"
   ]
  },
  {
   "cell_type": "code",
   "execution_count": 59,
   "id": "e56e5b85",
   "metadata": {},
   "outputs": [
    {
     "data": {
      "text/plain": [
       "'data science'"
      ]
     },
     "execution_count": 59,
     "metadata": {},
     "output_type": "execute_result"
    }
   ],
   "source": [
    "s1._sudh__subject"
   ]
  },
  {
   "cell_type": "code",
   "execution_count": 60,
   "id": "7105670d",
   "metadata": {},
   "outputs": [],
   "source": [
    "s1._sudh__subject='big data'"
   ]
  },
  {
   "cell_type": "code",
   "execution_count": 61,
   "id": "65e06f8b",
   "metadata": {},
   "outputs": [
    {
     "data": {
      "text/plain": [
       "'big data'"
      ]
     },
     "execution_count": 61,
     "metadata": {},
     "output_type": "execute_result"
    }
   ],
   "source": [
    "s1._sudh__subject"
   ]
  },
  {
   "cell_type": "code",
   "execution_count": 62,
   "id": "83b62342",
   "metadata": {},
   "outputs": [],
   "source": [
    "class sudh:\n",
    "    def __init__(self, subject):\n",
    "        self.__subject=subject\n",
    "        \n",
    "    @property\n",
    "    def subject(self):\n",
    "        return self.__subject\n",
    "    \n",
    "    @subject.setter\n",
    "    def subject(self, subject):\n",
    "        self.__subject=subject\n",
    "        \n",
    "    @subject.getter\n",
    "    def subject(self):\n",
    "        return self.__subject"
   ]
  },
  {
   "cell_type": "code",
   "execution_count": 63,
   "id": "a861c67b",
   "metadata": {},
   "outputs": [],
   "source": [
    "s2=sudh('data analytics')"
   ]
  },
  {
   "cell_type": "code",
   "execution_count": 64,
   "id": "f1372774",
   "metadata": {},
   "outputs": [
    {
     "data": {
      "text/plain": [
       "'data analytics'"
      ]
     },
     "execution_count": 64,
     "metadata": {},
     "output_type": "execute_result"
    }
   ],
   "source": [
    "s2.subject"
   ]
  },
  {
   "cell_type": "code",
   "execution_count": 71,
   "id": "aff12a7d",
   "metadata": {},
   "outputs": [],
   "source": [
    "class sudh:\n",
    "    def __init__(self, subject):\n",
    "        self.__subject=subject\n",
    "        \n",
    "    @property\n",
    "    def subject1(self):\n",
    "        return self.__subject\n",
    "    \n",
    "    @subject1.setter\n",
    "    def subject1(self, subject):\n",
    "        self.__subject=subject\n",
    "        \n",
    "    @subject1.getter\n",
    "    def subject1(self):\n",
    "        return self.__subject"
   ]
  },
  {
   "cell_type": "code",
   "execution_count": 72,
   "id": "ba2ddb0a",
   "metadata": {},
   "outputs": [],
   "source": [
    "s2=sudh('data analytics')"
   ]
  },
  {
   "cell_type": "code",
   "execution_count": 74,
   "id": "2a28fe69",
   "metadata": {},
   "outputs": [
    {
     "data": {
      "text/plain": [
       "'data analytics'"
      ]
     },
     "execution_count": 74,
     "metadata": {},
     "output_type": "execute_result"
    }
   ],
   "source": [
    "s2.subject1"
   ]
  },
  {
   "cell_type": "code",
   "execution_count": 75,
   "id": "91f095f4",
   "metadata": {},
   "outputs": [],
   "source": [
    "s2.subject1='blockchain'"
   ]
  },
  {
   "cell_type": "code",
   "execution_count": 76,
   "id": "ad9917e4",
   "metadata": {},
   "outputs": [
    {
     "data": {
      "text/plain": [
       "'blockchain'"
      ]
     },
     "execution_count": 76,
     "metadata": {},
     "output_type": "execute_result"
    }
   ],
   "source": [
    "s2.subject1"
   ]
  },
  {
   "cell_type": "code",
   "execution_count": null,
   "id": "016f9fd6",
   "metadata": {},
   "outputs": [],
   "source": []
  }
 ],
 "metadata": {
  "kernelspec": {
   "display_name": "Python 3 (ipykernel)",
   "language": "python",
   "name": "python3"
  },
  "language_info": {
   "codemirror_mode": {
    "name": "ipython",
    "version": 3
   },
   "file_extension": ".py",
   "mimetype": "text/x-python",
   "name": "python",
   "nbconvert_exporter": "python",
   "pygments_lexer": "ipython3",
   "version": "3.10.4"
  }
 },
 "nbformat": 4,
 "nbformat_minor": 5
}
