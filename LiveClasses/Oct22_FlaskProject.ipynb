{
 "cells": [
  {
   "cell_type": "code",
   "execution_count": 1,
   "id": "29dcc789",
   "metadata": {},
   "outputs": [],
   "source": [
    "apikey=\"1b9007b689620d662cd0dc321ddbb0c0\"\n",
    "url=\"https://api.openweathermap.org/data/2.5/weather\""
   ]
  },
  {
   "cell_type": "code",
   "execution_count": 2,
   "id": "2eb08005",
   "metadata": {},
   "outputs": [],
   "source": [
    "params={'q':'delhi',\n",
    "        'appid':apikey,\n",
    "        'units':'metric'}"
   ]
  },
  {
   "cell_type": "code",
   "execution_count": 3,
   "id": "b431ca14",
   "metadata": {},
   "outputs": [],
   "source": [
    "import requests"
   ]
  },
  {
   "cell_type": "code",
   "execution_count": 5,
   "id": "b2c30841",
   "metadata": {},
   "outputs": [],
   "source": [
    "data=requests.get(url, params=params)"
   ]
  },
  {
   "cell_type": "code",
   "execution_count": 7,
   "id": "0fb44b81",
   "metadata": {},
   "outputs": [
    {
     "data": {
      "text/plain": [
       "{'coord': {'lon': 77.2167, 'lat': 28.6667},\n",
       " 'weather': [{'id': 701,\n",
       "   'main': 'Mist',\n",
       "   'description': 'mist',\n",
       "   'icon': '50n'}],\n",
       " 'base': 'stations',\n",
       " 'main': {'temp': 21.05,\n",
       "  'feels_like': 21.38,\n",
       "  'temp_min': 21.05,\n",
       "  'temp_max': 21.05,\n",
       "  'pressure': 1013,\n",
       "  'humidity': 83},\n",
       " 'visibility': 2200,\n",
       " 'wind': {'speed': 0, 'deg': 0},\n",
       " 'clouds': {'all': 0},\n",
       " 'dt': 1699035859,\n",
       " 'sys': {'type': 1,\n",
       "  'id': 9165,\n",
       "  'country': 'IN',\n",
       "  'sunrise': 1698973448,\n",
       "  'sunset': 1699013109},\n",
       " 'timezone': 19800,\n",
       " 'id': 1273294,\n",
       " 'name': 'Delhi',\n",
       " 'cod': 200}"
      ]
     },
     "execution_count": 7,
     "metadata": {},
     "output_type": "execute_result"
    }
   ],
   "source": [
    "data.json()"
   ]
  },
  {
   "cell_type": "code",
   "execution_count": null,
   "id": "3dc1408f",
   "metadata": {},
   "outputs": [],
   "source": []
  }
 ],
 "metadata": {
  "kernelspec": {
   "display_name": "Python 3 (ipykernel)",
   "language": "python",
   "name": "python3"
  },
  "language_info": {
   "codemirror_mode": {
    "name": "ipython",
    "version": 3
   },
   "file_extension": ".py",
   "mimetype": "text/x-python",
   "name": "python",
   "nbconvert_exporter": "python",
   "pygments_lexer": "ipython3",
   "version": "3.11.5"
  }
 },
 "nbformat": 4,
 "nbformat_minor": 5
}
