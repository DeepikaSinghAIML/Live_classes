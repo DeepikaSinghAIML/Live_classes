{
 "cells": [
  {
   "cell_type": "markdown",
   "id": "4039a524",
   "metadata": {},
   "source": [
    "## while Loop\n",
    "With the while loop we can execute a set of statements as long as a condition is true."
   ]
  },
  {
   "cell_type": "code",
   "execution_count": 3,
   "id": "84c25b53",
   "metadata": {},
   "outputs": [
    {
     "name": "stdout",
     "output_type": "stream",
     "text": [
      "10\n",
      "9\n",
      "8\n",
      "7\n",
      "6\n",
      "5\n",
      "4\n",
      "3\n",
      "2\n",
      "1\n"
     ]
    }
   ],
   "source": [
    "a=10\n",
    "while a>=1:\n",
    "    print(a)\n",
    "    a=a-1"
   ]
  },
  {
   "cell_type": "code",
   "execution_count": 4,
   "id": "5218eba2",
   "metadata": {},
   "outputs": [
    {
     "name": "stdout",
     "output_type": "stream",
     "text": [
      "55\n"
     ]
    }
   ],
   "source": [
    "s=0\n",
    "n=1\n",
    "t=10\n",
    "while n<=t:\n",
    "    s=s+n\n",
    "    n=n+1\n",
    "print(s)"
   ]
  },
  {
   "cell_type": "code",
   "execution_count": 6,
   "id": "51fe9248",
   "metadata": {},
   "outputs": [
    {
     "name": "stdout",
     "output_type": "stream",
     "text": [
      "120\n"
     ]
    }
   ],
   "source": [
    "m=1\n",
    "n=1\n",
    "t=5\n",
    "while n<=t:\n",
    "    m=m*n\n",
    "    n=n+1\n",
    "print(m)"
   ]
  },
  {
   "cell_type": "code",
   "execution_count": 7,
   "id": "53a3c34e",
   "metadata": {},
   "outputs": [
    {
     "name": "stdout",
     "output_type": "stream",
     "text": [
      "Enter the number:2\n",
      "2 * 1 = 2\n",
      "2 * 2 = 4\n",
      "2 * 3 = 6\n",
      "2 * 4 = 8\n",
      "2 * 5 = 10\n",
      "2 * 6 = 12\n",
      "2 * 7 = 14\n",
      "2 * 8 = 16\n",
      "2 * 9 = 18\n",
      "2 * 10 = 20\n"
     ]
    }
   ],
   "source": [
    "n=int(input(\"Enter the number:\"))\n",
    "i=1\n",
    "while(i<=10):\n",
    "    p=n*i\n",
    "    print(n,'*',i,'=',p)\n",
    "    i=i+1"
   ]
  },
  {
   "cell_type": "code",
   "execution_count": 9,
   "id": "e7fc7c16",
   "metadata": {},
   "outputs": [
    {
     "name": "stdout",
     "output_type": "stream",
     "text": [
      "5\n",
      "4\n",
      "3\n",
      "2\n",
      "1\n",
      "Break time is over\n"
     ]
    }
   ],
   "source": [
    "import time\n",
    "s=5\n",
    "while s>0:\n",
    "    print(s)\n",
    "    time.sleep(1)\n",
    "    s=s-1\n",
    "print(\"Break time is over\")"
   ]
  },
  {
   "cell_type": "code",
   "execution_count": 2,
   "id": "e924aa4c",
   "metadata": {},
   "outputs": [
    {
     "name": "stdout",
     "output_type": "stream",
     "text": [
      "20\n",
      "Enter choice(1. Biscuit, 2. chips, 3. Redbull, 4. coke )2\n",
      "take your chips\n",
      "15\n",
      "Enter choice(1. Biscuit, 2. chips, 3. Redbull, 4. coke )4\n",
      "take your coke\n",
      "7\n",
      "Enter choice(1. Biscuit, 2. chips, 3. Redbull, 4. coke )1\n",
      "take your biscuit\n",
      "you do not have enough balance\n"
     ]
    }
   ],
   "source": [
    "money_in_hand=20\n",
    "while money_in_hand>=4:\n",
    "    print(money_in_hand)\n",
    "    choice=int(input(\"Enter choice(1. Biscuit, 2. chips, 3. Redbull, 4. coke )\"))\n",
    "    if choice==1:\n",
    "        print(\"take your biscuit\")\n",
    "        money_in_hand=money_in_hand-4\n",
    "    elif choice==2:\n",
    "        print(\"take your chips\")\n",
    "        money_in_hand=money_in_hand-5\n",
    "    elif choice==3:\n",
    "        print(\"take your redbull\")\n",
    "        money_in_hand=money_in_hand-10\n",
    "    elif choice==4:\n",
    "        print(\"take your coke\")\n",
    "        money_in_hand=money_in_hand-8\n",
    "    else:\n",
    "        print(\"wrong input\")\n",
    "print(\"you do not have enough balance\")"
   ]
  },
  {
   "cell_type": "code",
   "execution_count": 3,
   "id": "1af48948",
   "metadata": {},
   "outputs": [
    {
     "name": "stdout",
     "output_type": "stream",
     "text": [
      "Enter s to stop the timer\n",
      "enter s to stops\n",
      "The class break is over\n"
     ]
    }
   ],
   "source": [
    "import time\n",
    "stop=False\n",
    "while not stop:\n",
    "    print(\"Enter s to stop the timer\")\n",
    "    time.sleep(1)\n",
    "    press_stop=input(\"enter s to stop\")\n",
    "    if press_stop.lower()=='s':\n",
    "        stop=True\n",
    "print(\"The class break is over\")\n",
    "    "
   ]
  },
  {
   "cell_type": "code",
   "execution_count": 12,
   "id": "b97157ab",
   "metadata": {},
   "outputs": [
    {
     "name": "stdout",
     "output_type": "stream",
     "text": [
      "enter your user iddeepika\n",
      "Enter passworddeepika@123\n",
      "You have logged in successfully\n"
     ]
    }
   ],
   "source": [
    "user_id='deepika'\n",
    "password='deepika@123'\n",
    "counter=1\n",
    "user_id_check=False\n",
    "userid=input(\"enter your user id\")\n",
    "while counter<=3:\n",
    "\n",
    "    if userid==user_id:\n",
    "        user_id_check=True\n",
    "    else:\n",
    "        print(\"Incorrect userid\")\n",
    "        break\n",
    "    if user_id_check==True:\n",
    "        pswd=input(\"Enter password\")\n",
    "        if pswd==password:\n",
    "            print(\"You have logged in successfully\")\n",
    "            break\n",
    "        counter=counter+1\n",
    "if counter>3:\n",
    "    print(\"Maximum attempts, account locked\")\n"
   ]
  },
  {
   "cell_type": "code",
   "execution_count": 13,
   "id": "f2324448",
   "metadata": {},
   "outputs": [
    {
     "name": "stdout",
     "output_type": "stream",
     "text": [
      "Enter your todo task:study\n",
      "Enter n if you want to add, enter y if you do not want to addn\n",
      "Enter your todo task:sleep\n",
      "Enter n if you want to add, enter y if you do not want to addn\n",
      "Enter your todo task:eat\n",
      "Enter n if you want to add, enter y if you do not want to addy\n",
      "My todo list is ['study', 'sleep', 'eat']\n"
     ]
    }
   ],
   "source": [
    "todo_list=[]\n",
    "end_of_todo='n'\n",
    "while end_of_todo!='y':\n",
    "    add_item=input(\"Enter your todo task:\")\n",
    "    todo_list.append(add_item)\n",
    "    end_of_todo=input(\"Enter n if you want to add, enter y if you do not want to add\")\n",
    "print(\"My todo list is\",todo_list)"
   ]
  },
  {
   "cell_type": "code",
   "execution_count": 14,
   "id": "8b8047a8",
   "metadata": {},
   "outputs": [],
   "source": [
    "def fact(n):\n",
    "    if n==0:\n",
    "        return 1\n",
    "    else:\n",
    "        return n*fact(n-1)"
   ]
  },
  {
   "cell_type": "code",
   "execution_count": 15,
   "id": "d26a07ff",
   "metadata": {},
   "outputs": [
    {
     "data": {
      "text/plain": [
       "120"
      ]
     },
     "execution_count": 15,
     "metadata": {},
     "output_type": "execute_result"
    }
   ],
   "source": [
    "fact(5)"
   ]
  },
  {
   "cell_type": "code",
   "execution_count": 16,
   "id": "40c22033",
   "metadata": {},
   "outputs": [],
   "source": [
    "def fib(n):\n",
    "    if n<=1:\n",
    "        return n\n",
    "    else:\n",
    "        return fib(n-2)+fib(n-1)"
   ]
  },
  {
   "cell_type": "code",
   "execution_count": 17,
   "id": "695a80ab",
   "metadata": {},
   "outputs": [
    {
     "data": {
      "text/plain": [
       "0"
      ]
     },
     "execution_count": 17,
     "metadata": {},
     "output_type": "execute_result"
    }
   ],
   "source": [
    "fib(0)"
   ]
  },
  {
   "cell_type": "code",
   "execution_count": 18,
   "id": "a247d3ba",
   "metadata": {},
   "outputs": [
    {
     "data": {
      "text/plain": [
       "1"
      ]
     },
     "execution_count": 18,
     "metadata": {},
     "output_type": "execute_result"
    }
   ],
   "source": [
    "fib(1)"
   ]
  },
  {
   "cell_type": "code",
   "execution_count": 19,
   "id": "cf6d542a",
   "metadata": {},
   "outputs": [
    {
     "data": {
      "text/plain": [
       "1"
      ]
     },
     "execution_count": 19,
     "metadata": {},
     "output_type": "execute_result"
    }
   ],
   "source": [
    "fib(2)"
   ]
  },
  {
   "cell_type": "code",
   "execution_count": 20,
   "id": "29e016c6",
   "metadata": {},
   "outputs": [
    {
     "data": {
      "text/plain": [
       "2"
      ]
     },
     "execution_count": 20,
     "metadata": {},
     "output_type": "execute_result"
    }
   ],
   "source": [
    "fib(3)"
   ]
  },
  {
   "cell_type": "code",
   "execution_count": 21,
   "id": "dca13232",
   "metadata": {},
   "outputs": [],
   "source": [
    "def sum_digits(n):\n",
    "    if n<=9:\n",
    "        return n\n",
    "    else:\n",
    "        return n%10+sum_digits(n//10)"
   ]
  },
  {
   "cell_type": "code",
   "execution_count": 22,
   "id": "92a30d68",
   "metadata": {},
   "outputs": [
    {
     "data": {
      "text/plain": [
       "6"
      ]
     },
     "execution_count": 22,
     "metadata": {},
     "output_type": "execute_result"
    }
   ],
   "source": [
    "sum_digits(123)"
   ]
  },
  {
   "cell_type": "code",
   "execution_count": 23,
   "id": "a078755b",
   "metadata": {},
   "outputs": [],
   "source": [
    "l=[3,5,2,53,5,7,89]"
   ]
  },
  {
   "cell_type": "code",
   "execution_count": 24,
   "id": "c5d70f3b",
   "metadata": {},
   "outputs": [],
   "source": [
    "def max_find(l):\n",
    "    if len(l)==1:\n",
    "        return l[0]\n",
    "    else:\n",
    "        return max(l[0],max_find(l[1:]))"
   ]
  },
  {
   "cell_type": "code",
   "execution_count": 25,
   "id": "31ea5720",
   "metadata": {},
   "outputs": [
    {
     "data": {
      "text/plain": [
       "67"
      ]
     },
     "execution_count": 25,
     "metadata": {},
     "output_type": "execute_result"
    }
   ],
   "source": [
    "max_find([3,4,12,67,45])"
   ]
  },
  {
   "cell_type": "code",
   "execution_count": 26,
   "id": "02678f13",
   "metadata": {},
   "outputs": [],
   "source": [
    "def pow_func(n,k):\n",
    "    if k==0:\n",
    "        return 1\n",
    "    else:\n",
    "        return n*pow_func(n,k-1)"
   ]
  },
  {
   "cell_type": "code",
   "execution_count": 27,
   "id": "0992c18e",
   "metadata": {},
   "outputs": [
    {
     "data": {
      "text/plain": [
       "8"
      ]
     },
     "execution_count": 27,
     "metadata": {},
     "output_type": "execute_result"
    }
   ],
   "source": [
    "pow_func(2,3)"
   ]
  },
  {
   "cell_type": "code",
   "execution_count": null,
   "id": "81ced5a1",
   "metadata": {},
   "outputs": [],
   "source": []
  }
 ],
 "metadata": {
  "kernelspec": {
   "display_name": "Python 3 (ipykernel)",
   "language": "python",
   "name": "python3"
  },
  "language_info": {
   "codemirror_mode": {
    "name": "ipython",
    "version": 3
   },
   "file_extension": ".py",
   "mimetype": "text/x-python",
   "name": "python",
   "nbconvert_exporter": "python",
   "pygments_lexer": "ipython3",
   "version": "3.10.4"
  }
 },
 "nbformat": 4,
 "nbformat_minor": 5
}
