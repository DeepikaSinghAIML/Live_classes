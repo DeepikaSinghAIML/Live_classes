{
 "cells": [
  {
   "cell_type": "code",
   "execution_count": 2,
   "id": "363e2598-2848-465b-8fa3-bbd2a47ad2c5",
   "metadata": {},
   "outputs": [],
   "source": [
    "#NumPy- Numerical Python\n",
    "#it is used for working with arrays and performing mathematical operations on large, multi- dimensional data"
   ]
  },
  {
   "cell_type": "code",
   "execution_count": 3,
   "id": "850ab187-1ac5-4201-b91b-fa4914a8053d",
   "metadata": {},
   "outputs": [],
   "source": [
    "import numpy as np"
   ]
  },
  {
   "cell_type": "code",
   "execution_count": 4,
   "id": "3536d569-38f1-4ef5-9b68-ef44ab8194a5",
   "metadata": {},
   "outputs": [
    {
     "name": "stdout",
     "output_type": "stream",
     "text": [
      "Requirement already satisfied: numpy in c:\\users\\deepika\\appdata\\local\\programs\\python\\python312\\lib\\site-packages (2.1.1)\n",
      "Note: you may need to restart the kernel to use updated packages.\n"
     ]
    },
    {
     "name": "stderr",
     "output_type": "stream",
     "text": [
      "\n",
      "[notice] A new release of pip is available: 24.0 -> 24.2\n",
      "[notice] To update, run: python.exe -m pip install --upgrade pip\n"
     ]
    }
   ],
   "source": [
    "pip install numpy"
   ]
  },
  {
   "cell_type": "code",
   "execution_count": 5,
   "id": "bebb85b9-e4c8-443a-bddf-e06c1c4bf8a9",
   "metadata": {},
   "outputs": [
    {
     "name": "stdout",
     "output_type": "stream",
     "text": [
      "2.1.1\n"
     ]
    }
   ],
   "source": [
    "print(np.__version__)"
   ]
  },
  {
   "cell_type": "code",
   "execution_count": 6,
   "id": "0db55cea-521e-4f54-8ebe-4f372cace1c1",
   "metadata": {},
   "outputs": [],
   "source": [
    "l=[1,2,3,4,5]"
   ]
  },
  {
   "cell_type": "code",
   "execution_count": 7,
   "id": "5c4a6963-5ce1-4deb-8a0e-e38ad746f3c5",
   "metadata": {},
   "outputs": [
    {
     "data": {
      "text/plain": [
       "array([1, 2, 3, 4, 5])"
      ]
     },
     "execution_count": 7,
     "metadata": {},
     "output_type": "execute_result"
    }
   ],
   "source": [
    "np.array(l)"
   ]
  },
  {
   "cell_type": "code",
   "execution_count": 8,
   "id": "82bf9bce-3c88-4c0e-aee6-38bc291e0b91",
   "metadata": {},
   "outputs": [],
   "source": [
    "arr=np.array(l)"
   ]
  },
  {
   "cell_type": "code",
   "execution_count": 9,
   "id": "c34132d3-2858-415d-8f6e-31c9171b1794",
   "metadata": {},
   "outputs": [
    {
     "data": {
      "text/plain": [
       "numpy.ndarray"
      ]
     },
     "execution_count": 9,
     "metadata": {},
     "output_type": "execute_result"
    }
   ],
   "source": [
    "type(arr)"
   ]
  },
  {
   "cell_type": "code",
   "execution_count": 10,
   "id": "82448ab1-b7f2-43d1-9e51-6370d24464b1",
   "metadata": {},
   "outputs": [],
   "source": [
    "#nd means n dimensional"
   ]
  },
  {
   "cell_type": "code",
   "execution_count": 11,
   "id": "bdbeb76f-8f70-43d2-8f03-f7ef406c869f",
   "metadata": {},
   "outputs": [
    {
     "data": {
      "text/plain": [
       "array([1, 2, 3, 4, 5])"
      ]
     },
     "execution_count": 11,
     "metadata": {},
     "output_type": "execute_result"
    }
   ],
   "source": [
    "np.asarray(l)"
   ]
  },
  {
   "cell_type": "markdown",
   "id": "55e02f72-b015-4a21-b9d3-5eec5cd03fca",
   "metadata": {},
   "source": [
    "**np.asarray()**: It will not create a new array if the input is already an array or array-like object. It reuses the existing memory  \n",
    "**np.array()**: Always returns a new copy, even if the input is already an array."
   ]
  },
  {
   "cell_type": "code",
   "execution_count": 12,
   "id": "40311395-3f51-4b78-ada9-a32d09b5b056",
   "metadata": {},
   "outputs": [
    {
     "data": {
      "text/plain": [
       "array([[1, 2, 3],\n",
       "       [2, 3, 4]])"
      ]
     },
     "execution_count": 12,
     "metadata": {},
     "output_type": "execute_result"
    }
   ],
   "source": [
    "np.array([[1,2,3], [2,3,4]]) #two dimensional array"
   ]
  },
  {
   "cell_type": "code",
   "execution_count": 13,
   "id": "fe733ca9-a338-4fb2-bc4d-c99ed74fc0a2",
   "metadata": {},
   "outputs": [],
   "source": [
    "arr1=np.array([[1,2,3], [2,3,4]])"
   ]
  },
  {
   "cell_type": "code",
   "execution_count": 14,
   "id": "74e8aec5-07b1-4caa-8c69-2e9d0b0b47f0",
   "metadata": {},
   "outputs": [
    {
     "data": {
      "text/plain": [
       "1"
      ]
     },
     "execution_count": 14,
     "metadata": {},
     "output_type": "execute_result"
    }
   ],
   "source": [
    "arr.ndim"
   ]
  },
  {
   "cell_type": "code",
   "execution_count": 15,
   "id": "7dd50ae6-1b43-46c4-afbe-849e00035dc2",
   "metadata": {},
   "outputs": [
    {
     "data": {
      "text/plain": [
       "2"
      ]
     },
     "execution_count": 15,
     "metadata": {},
     "output_type": "execute_result"
    }
   ],
   "source": [
    "arr1.ndim"
   ]
  },
  {
   "cell_type": "code",
   "execution_count": 16,
   "id": "2461ca60-562b-4722-a58b-18be30657a74",
   "metadata": {},
   "outputs": [
    {
     "data": {
      "text/plain": [
       "array([1, 2, 3, 4, 5])"
      ]
     },
     "execution_count": 16,
     "metadata": {},
     "output_type": "execute_result"
    }
   ],
   "source": [
    "arr"
   ]
  },
  {
   "cell_type": "code",
   "execution_count": 17,
   "id": "d918923d-bcba-43fe-a7f3-715b262f4bf1",
   "metadata": {},
   "outputs": [
    {
     "data": {
      "text/plain": [
       "array([[1, 2, 3],\n",
       "       [2, 3, 4]])"
      ]
     },
     "execution_count": 17,
     "metadata": {},
     "output_type": "execute_result"
    }
   ],
   "source": [
    "arr1"
   ]
  },
  {
   "cell_type": "code",
   "execution_count": 18,
   "id": "a5c45ab1-9b14-4483-856e-3e12deb6bdb0",
   "metadata": {},
   "outputs": [
    {
     "data": {
      "text/plain": [
       "matrix([[1, 2, 3, 4, 5]])"
      ]
     },
     "execution_count": 18,
     "metadata": {},
     "output_type": "execute_result"
    }
   ],
   "source": [
    "np.matrix(l)"
   ]
  },
  {
   "cell_type": "markdown",
   "id": "7435c1f6-0811-4664-97e9-837dc5155147",
   "metadata": {},
   "source": [
    "**used to create matrix from any input.  Unlike a regular NumPy array, which can have multiple dimensions, a matrix is always 2-dimensional and follows the rules of matrix algebra.**"
   ]
  },
  {
   "cell_type": "code",
   "execution_count": 19,
   "id": "7b6ad240-1862-4435-a910-dcb435075afb",
   "metadata": {},
   "outputs": [],
   "source": [
    "mat= np.matrix(l)"
   ]
  },
  {
   "cell_type": "code",
   "execution_count": 20,
   "id": "c4606157-7ea9-4f8e-81d2-bb9137b7bab9",
   "metadata": {},
   "outputs": [
    {
     "data": {
      "text/plain": [
       "array([1, 2, 3, 4, 5])"
      ]
     },
     "execution_count": 20,
     "metadata": {},
     "output_type": "execute_result"
    }
   ],
   "source": [
    "np.asanyarray(l)"
   ]
  },
  {
   "cell_type": "markdown",
   "id": "5b070291-dbca-4eef-8892-06f9e13ded2b",
   "metadata": {},
   "source": [
    "**np.asarray()**: Converts the input to a base ndarray object, regardless of the input type.  \n",
    "**np.asanyarray()**: Converts the input only if it’s not already a subclass of ndarray. If it is a subclass, it keeps the subclass."
   ]
  },
  {
   "cell_type": "code",
   "execution_count": 21,
   "id": "45bac649-bed8-4cd5-ae0b-45f5b274f754",
   "metadata": {},
   "outputs": [
    {
     "data": {
      "text/plain": [
       "matrix([[1, 2, 3, 4, 5]])"
      ]
     },
     "execution_count": 21,
     "metadata": {},
     "output_type": "execute_result"
    }
   ],
   "source": [
    "np.asanyarray(mat)"
   ]
  },
  {
   "cell_type": "code",
   "execution_count": 22,
   "id": "6088f409-6dfc-44f3-b026-57421dce3675",
   "metadata": {},
   "outputs": [
    {
     "data": {
      "text/plain": [
       "array([1, 2, 3, 4, 5])"
      ]
     },
     "execution_count": 22,
     "metadata": {},
     "output_type": "execute_result"
    }
   ],
   "source": [
    "arr"
   ]
  },
  {
   "cell_type": "code",
   "execution_count": 23,
   "id": "a4ac8eb2-fb60-4634-ba38-36fbb6b4f7d3",
   "metadata": {},
   "outputs": [],
   "source": [
    "a=arr #shallow copy"
   ]
  },
  {
   "cell_type": "code",
   "execution_count": 24,
   "id": "f785b2ac-14ad-4ff7-aba3-e486c8f8a4c5",
   "metadata": {},
   "outputs": [
    {
     "data": {
      "text/plain": [
       "array([1, 2, 3, 4, 5])"
      ]
     },
     "execution_count": 24,
     "metadata": {},
     "output_type": "execute_result"
    }
   ],
   "source": [
    "a"
   ]
  },
  {
   "cell_type": "code",
   "execution_count": 25,
   "id": "6bfc5a11-4e4d-4da1-8fb3-e5eccf21f0f0",
   "metadata": {},
   "outputs": [
    {
     "data": {
      "text/plain": [
       "array([1, 2, 3, 4, 5])"
      ]
     },
     "execution_count": 25,
     "metadata": {},
     "output_type": "execute_result"
    }
   ],
   "source": [
    "arr"
   ]
  },
  {
   "cell_type": "code",
   "execution_count": 26,
   "id": "352631bb-f136-4f56-ae5f-ea5719fea290",
   "metadata": {},
   "outputs": [],
   "source": [
    "arr[0]=100"
   ]
  },
  {
   "cell_type": "code",
   "execution_count": 27,
   "id": "596d480a-6744-4214-9a51-0d3f16c43c87",
   "metadata": {},
   "outputs": [
    {
     "data": {
      "text/plain": [
       "array([100,   2,   3,   4,   5])"
      ]
     },
     "execution_count": 27,
     "metadata": {},
     "output_type": "execute_result"
    }
   ],
   "source": [
    "arr"
   ]
  },
  {
   "cell_type": "code",
   "execution_count": 28,
   "id": "f46c50f1-a69f-49e0-aa81-43b535db43b2",
   "metadata": {},
   "outputs": [
    {
     "data": {
      "text/plain": [
       "array([100,   2,   3,   4,   5])"
      ]
     },
     "execution_count": 28,
     "metadata": {},
     "output_type": "execute_result"
    }
   ],
   "source": [
    "a"
   ]
  },
  {
   "cell_type": "code",
   "execution_count": 29,
   "id": "da2523a9-53df-4f8d-a386-691491deeaf1",
   "metadata": {},
   "outputs": [],
   "source": [
    "b=np.copy(arr) #deep copy"
   ]
  },
  {
   "cell_type": "code",
   "execution_count": 30,
   "id": "63a05ecc-7b82-4731-a354-cf55e27dcb3b",
   "metadata": {},
   "outputs": [
    {
     "data": {
      "text/plain": [
       "array([100,   2,   3,   4,   5])"
      ]
     },
     "execution_count": 30,
     "metadata": {},
     "output_type": "execute_result"
    }
   ],
   "source": [
    "b"
   ]
  },
  {
   "cell_type": "code",
   "execution_count": 31,
   "id": "f0866e2c-4892-4e1b-b850-c3a806d74f11",
   "metadata": {},
   "outputs": [],
   "source": [
    "b[0]=234"
   ]
  },
  {
   "cell_type": "code",
   "execution_count": 32,
   "id": "249c4dee-f047-4727-93db-a5e306299034",
   "metadata": {},
   "outputs": [
    {
     "data": {
      "text/plain": [
       "array([234,   2,   3,   4,   5])"
      ]
     },
     "execution_count": 32,
     "metadata": {},
     "output_type": "execute_result"
    }
   ],
   "source": [
    "b"
   ]
  },
  {
   "cell_type": "code",
   "execution_count": 33,
   "id": "ab992eff-7490-4bd2-a87b-822945ecd8d0",
   "metadata": {},
   "outputs": [
    {
     "data": {
      "text/plain": [
       "array([100,   2,   3,   4,   5])"
      ]
     },
     "execution_count": 33,
     "metadata": {},
     "output_type": "execute_result"
    }
   ],
   "source": [
    "arr"
   ]
  },
  {
   "cell_type": "code",
   "execution_count": 34,
   "id": "4e588bda-5baf-48d1-ae17-d1c41a615455",
   "metadata": {},
   "outputs": [
    {
     "data": {
      "text/plain": [
       "array([[ True, False, False],\n",
       "       [False,  True, False],\n",
       "       [False, False,  True]])"
      ]
     },
     "execution_count": 34,
     "metadata": {},
     "output_type": "execute_result"
    }
   ],
   "source": [
    "np.fromfunction(lambda i, j: i==j, (3,3))"
   ]
  },
  {
   "cell_type": "code",
   "execution_count": 35,
   "id": "9cc538af-cc99-4941-93a4-3f113f6f4d4c",
   "metadata": {},
   "outputs": [
    {
     "data": {
      "text/plain": [
       "array([[0., 0., 0.],\n",
       "       [0., 1., 2.],\n",
       "       [0., 2., 4.]])"
      ]
     },
     "execution_count": 35,
     "metadata": {},
     "output_type": "execute_result"
    }
   ],
   "source": [
    "np.fromfunction(lambda i, j: i*j, (3,3))"
   ]
  },
  {
   "cell_type": "markdown",
   "id": "ff1aef63-3611-4acf-985f-c9d1aef550a0",
   "metadata": {},
   "source": [
    "**np.fromfunction()** generates an array of indices by executing a function corresponding to the shape of the output array."
   ]
  },
  {
   "cell_type": "code",
   "execution_count": 36,
   "id": "a5a605ff-0a6b-4eab-bf7c-004f3899735b",
   "metadata": {},
   "outputs": [
    {
     "data": {
      "text/plain": [
       "<generator object <genexpr> at 0x0000022D48F5E330>"
      ]
     },
     "execution_count": 36,
     "metadata": {},
     "output_type": "execute_result"
    }
   ],
   "source": [
    "(i*i for i in range(5))"
   ]
  },
  {
   "cell_type": "code",
   "execution_count": 37,
   "id": "47565fc8-8dd7-4dbc-844f-7dc9074c6393",
   "metadata": {},
   "outputs": [
    {
     "data": {
      "text/plain": [
       "[0, 1, 4, 9, 16]"
      ]
     },
     "execution_count": 37,
     "metadata": {},
     "output_type": "execute_result"
    }
   ],
   "source": [
    "list(i*i for i in range(5))"
   ]
  },
  {
   "cell_type": "code",
   "execution_count": 38,
   "id": "47dde600-99be-473d-a827-4e2544180e1c",
   "metadata": {},
   "outputs": [],
   "source": [
    "iterable=(i*i for i in range(5))"
   ]
  },
  {
   "cell_type": "code",
   "execution_count": 39,
   "id": "32151b9d-6cb5-47f0-907c-8ed2d05fa956",
   "metadata": {},
   "outputs": [
    {
     "data": {
      "text/plain": [
       "array([ 0.,  1.,  4.,  9., 16.])"
      ]
     },
     "execution_count": 39,
     "metadata": {},
     "output_type": "execute_result"
    }
   ],
   "source": [
    "np.fromiter(iterable, float)"
   ]
  },
  {
   "cell_type": "markdown",
   "id": "2e6f9044-9c52-4ee7-9908-7499927000b7",
   "metadata": {},
   "source": [
    "The **np.fromiter()** function in NumPy is used to create a 1-dimensional array from an iterable (such as a list, tuple, generator, or any other object that supports iteration). It reads elements from the iterable and constructs an array with those values."
   ]
  },
  {
   "cell_type": "code",
   "execution_count": 40,
   "id": "10dbef55-4c4c-4f2f-aab5-db5f30182fc4",
   "metadata": {},
   "outputs": [
    {
     "data": {
      "text/plain": [
       "array([23., 34., 56.])"
      ]
     },
     "execution_count": 40,
     "metadata": {},
     "output_type": "execute_result"
    }
   ],
   "source": [
    "np.fromstring(\"23 34 56\", sep= \" \")"
   ]
  },
  {
   "cell_type": "markdown",
   "id": "893281f3-81b0-4657-80c2-6619aa049a37",
   "metadata": {},
   "source": [
    "**np.fromstring()** in NumPy is a function used to create a 1-dimensional array from a string of text or binary data. It interprets the string as a sequence of values and converts it into a NumPy array."
   ]
  },
  {
   "cell_type": "code",
   "execution_count": 41,
   "id": "b6a100ba-891d-440d-98d2-78c1482a8edb",
   "metadata": {},
   "outputs": [
    {
     "data": {
      "text/plain": [
       "array([23., 34., 56.])"
      ]
     },
     "execution_count": 41,
     "metadata": {},
     "output_type": "execute_result"
    }
   ],
   "source": [
    "np.fromstring(\"23,34,56\", sep= \",\")"
   ]
  },
  {
   "cell_type": "code",
   "execution_count": 42,
   "id": "d9a548d2-2eaf-4790-955c-bc5f70640075",
   "metadata": {},
   "outputs": [
    {
     "data": {
      "text/plain": [
       "array([100,   2,   3,   4,   5])"
      ]
     },
     "execution_count": 42,
     "metadata": {},
     "output_type": "execute_result"
    }
   ],
   "source": [
    "arr"
   ]
  },
  {
   "cell_type": "code",
   "execution_count": 43,
   "id": "cd5d6783-b437-44e1-9997-b574d0e7fee3",
   "metadata": {},
   "outputs": [
    {
     "data": {
      "text/plain": [
       "array([[1, 2, 3],\n",
       "       [2, 3, 4]])"
      ]
     },
     "execution_count": 43,
     "metadata": {},
     "output_type": "execute_result"
    }
   ],
   "source": [
    "arr1"
   ]
  },
  {
   "cell_type": "code",
   "execution_count": 47,
   "id": "feddb450-6d99-47a5-9296-e7e2621b8676",
   "metadata": {},
   "outputs": [
    {
     "data": {
      "text/plain": [
       "5"
      ]
     },
     "execution_count": 47,
     "metadata": {},
     "output_type": "execute_result"
    }
   ],
   "source": [
    "arr.size #no. of elements"
   ]
  },
  {
   "cell_type": "code",
   "execution_count": 45,
   "id": "05b564a3-6dd5-4248-a8a9-542728286ffb",
   "metadata": {},
   "outputs": [
    {
     "data": {
      "text/plain": [
       "6"
      ]
     },
     "execution_count": 45,
     "metadata": {},
     "output_type": "execute_result"
    }
   ],
   "source": [
    "arr1.size"
   ]
  },
  {
   "cell_type": "code",
   "execution_count": 46,
   "id": "1589e368-0653-4394-9880-d95362518ed8",
   "metadata": {},
   "outputs": [
    {
     "data": {
      "text/plain": [
       "(5,)"
      ]
     },
     "execution_count": 46,
     "metadata": {},
     "output_type": "execute_result"
    }
   ],
   "source": [
    "arr.shape "
   ]
  },
  {
   "cell_type": "code",
   "execution_count": 48,
   "id": "9599fce8-85f6-4fe0-bc7f-ff436c37aa7c",
   "metadata": {},
   "outputs": [
    {
     "data": {
      "text/plain": [
       "(2, 3)"
      ]
     },
     "execution_count": 48,
     "metadata": {},
     "output_type": "execute_result"
    }
   ],
   "source": [
    "arr1.shape"
   ]
  },
  {
   "cell_type": "code",
   "execution_count": 49,
   "id": "cfe2604a-cb49-4994-89fc-2851dd4daa56",
   "metadata": {},
   "outputs": [
    {
     "data": {
      "text/plain": [
       "dtype('int64')"
      ]
     },
     "execution_count": 49,
     "metadata": {},
     "output_type": "execute_result"
    }
   ],
   "source": [
    "arr.dtype"
   ]
  },
  {
   "cell_type": "code",
   "execution_count": 50,
   "id": "0cbc8b3e-94a0-450f-8089-e5ca5e9516d7",
   "metadata": {},
   "outputs": [
    {
     "data": {
      "text/plain": [
       "dtype('int64')"
      ]
     },
     "execution_count": 50,
     "metadata": {},
     "output_type": "execute_result"
    }
   ],
   "source": [
    "arr1.dtype"
   ]
  },
  {
   "cell_type": "code",
   "execution_count": 51,
   "id": "ffb87746-5a4c-4631-99a4-b3e5313b20f4",
   "metadata": {},
   "outputs": [
    {
     "data": {
      "text/plain": [
       "range(0, 5)"
      ]
     },
     "execution_count": 51,
     "metadata": {},
     "output_type": "execute_result"
    }
   ],
   "source": [
    "range(5)"
   ]
  },
  {
   "cell_type": "code",
   "execution_count": 52,
   "id": "dc6a7725-b507-4ff2-909d-b01e88ef272a",
   "metadata": {},
   "outputs": [
    {
     "data": {
      "text/plain": [
       "[0, 1, 2, 3, 4]"
      ]
     },
     "execution_count": 52,
     "metadata": {},
     "output_type": "execute_result"
    }
   ],
   "source": [
    "list(range(5))"
   ]
  },
  {
   "cell_type": "code",
   "execution_count": 53,
   "id": "e201e3fc-d326-4f82-8e6f-5ecb04935e7a",
   "metadata": {},
   "outputs": [
    {
     "data": {
      "text/plain": [
       "[0, 1, 2, 3, 4, 5, 6, 7, 8, 9]"
      ]
     },
     "execution_count": 53,
     "metadata": {},
     "output_type": "execute_result"
    }
   ],
   "source": [
    "list(range(0,10))"
   ]
  },
  {
   "cell_type": "code",
   "execution_count": 54,
   "id": "74f64dad-137d-474e-ad50-daf1a322edf7",
   "metadata": {},
   "outputs": [
    {
     "ename": "TypeError",
     "evalue": "'float' object cannot be interpreted as an integer",
     "output_type": "error",
     "traceback": [
      "\u001b[1;31m---------------------------------------------------------------------------\u001b[0m",
      "\u001b[1;31mTypeError\u001b[0m                                 Traceback (most recent call last)",
      "Cell \u001b[1;32mIn[54], line 1\u001b[0m\n\u001b[1;32m----> 1\u001b[0m \u001b[38;5;28mlist\u001b[39m(\u001b[38;5;28;43mrange\u001b[39;49m\u001b[43m(\u001b[49m\u001b[38;5;241;43m0.4\u001b[39;49m\u001b[43m,\u001b[49m\u001b[38;5;241;43m10.4\u001b[39;49m\u001b[43m)\u001b[49m)\n",
      "\u001b[1;31mTypeError\u001b[0m: 'float' object cannot be interpreted as an integer"
     ]
    }
   ],
   "source": [
    "list(range(0.4,10.4))"
   ]
  },
  {
   "cell_type": "code",
   "execution_count": 55,
   "id": "578c433c-a0f7-4b77-9cd1-5c3ef6933f28",
   "metadata": {},
   "outputs": [
    {
     "data": {
      "text/plain": [
       "array([0.4, 1.4, 2.4, 3.4, 4.4, 5.4, 6.4, 7.4, 8.4, 9.4])"
      ]
     },
     "execution_count": 55,
     "metadata": {},
     "output_type": "execute_result"
    }
   ],
   "source": [
    "np.arange(0.4,10.4)"
   ]
  },
  {
   "cell_type": "code",
   "execution_count": 56,
   "id": "74fc7ce7-1e0a-4ba2-b26c-2da934046468",
   "metadata": {},
   "outputs": [
    {
     "data": {
      "text/plain": [
       "array([0.4, 1.4, 2.4, 3.4, 4.4, 5.4, 6.4, 7.4, 8.4, 9.4])"
      ]
     },
     "execution_count": 56,
     "metadata": {},
     "output_type": "execute_result"
    }
   ],
   "source": [
    "np.arange(0.4,10.2)"
   ]
  },
  {
   "cell_type": "code",
   "execution_count": 58,
   "id": "1f44f97b-07bd-40ac-97d0-c0a057f6b678",
   "metadata": {},
   "outputs": [
    {
     "data": {
      "text/plain": [
       "array([ 0.4,  0.6,  0.8,  1. ,  1.2,  1.4,  1.6,  1.8,  2. ,  2.2,  2.4,\n",
       "        2.6,  2.8,  3. ,  3.2,  3.4,  3.6,  3.8,  4. ,  4.2,  4.4,  4.6,\n",
       "        4.8,  5. ,  5.2,  5.4,  5.6,  5.8,  6. ,  6.2,  6.4,  6.6,  6.8,\n",
       "        7. ,  7.2,  7.4,  7.6,  7.8,  8. ,  8.2,  8.4,  8.6,  8.8,  9. ,\n",
       "        9.2,  9.4,  9.6,  9.8, 10. , 10.2])"
      ]
     },
     "execution_count": 58,
     "metadata": {},
     "output_type": "execute_result"
    }
   ],
   "source": [
    "np.arange(0.4,10.4, 0.2)"
   ]
  },
  {
   "cell_type": "code",
   "execution_count": 59,
   "id": "ea68be15-81fd-4c96-bcc9-798ce887f098",
   "metadata": {},
   "outputs": [
    {
     "data": {
      "text/plain": [
       "[np.float64(0.4),\n",
       " np.float64(0.6000000000000001),\n",
       " np.float64(0.8000000000000002),\n",
       " np.float64(1.0000000000000002),\n",
       " np.float64(1.2000000000000002),\n",
       " np.float64(1.4000000000000004),\n",
       " np.float64(1.6000000000000005),\n",
       " np.float64(1.8000000000000003),\n",
       " np.float64(2.0000000000000004),\n",
       " np.float64(2.2000000000000006),\n",
       " np.float64(2.400000000000001),\n",
       " np.float64(2.6000000000000005),\n",
       " np.float64(2.8000000000000007),\n",
       " np.float64(3.000000000000001),\n",
       " np.float64(3.2000000000000006),\n",
       " np.float64(3.400000000000001),\n",
       " np.float64(3.600000000000001),\n",
       " np.float64(3.800000000000001),\n",
       " np.float64(4.000000000000002),\n",
       " np.float64(4.200000000000001),\n",
       " np.float64(4.400000000000002),\n",
       " np.float64(4.600000000000001),\n",
       " np.float64(4.800000000000002),\n",
       " np.float64(5.000000000000002),\n",
       " np.float64(5.200000000000002),\n",
       " np.float64(5.400000000000002),\n",
       " np.float64(5.600000000000002),\n",
       " np.float64(5.8000000000000025),\n",
       " np.float64(6.000000000000002),\n",
       " np.float64(6.200000000000002),\n",
       " np.float64(6.400000000000002),\n",
       " np.float64(6.600000000000002),\n",
       " np.float64(6.8000000000000025),\n",
       " np.float64(7.000000000000003),\n",
       " np.float64(7.200000000000003),\n",
       " np.float64(7.400000000000003),\n",
       " np.float64(7.600000000000003),\n",
       " np.float64(7.8000000000000025),\n",
       " np.float64(8.000000000000002),\n",
       " np.float64(8.200000000000003),\n",
       " np.float64(8.400000000000004),\n",
       " np.float64(8.600000000000003),\n",
       " np.float64(8.800000000000002),\n",
       " np.float64(9.000000000000004),\n",
       " np.float64(9.200000000000003),\n",
       " np.float64(9.400000000000004),\n",
       " np.float64(9.600000000000003),\n",
       " np.float64(9.800000000000004),\n",
       " np.float64(10.000000000000004),\n",
       " np.float64(10.200000000000003)]"
      ]
     },
     "execution_count": 59,
     "metadata": {},
     "output_type": "execute_result"
    }
   ],
   "source": [
    "list(np.arange(0.4,10.4, 0.2))"
   ]
  },
  {
   "cell_type": "code",
   "execution_count": 61,
   "id": "a67dcf6e-570c-4f89-8061-75a2b4ff25e2",
   "metadata": {},
   "outputs": [
    {
     "data": {
      "text/plain": [
       "array([1.        , 1.21052632, 1.42105263, 1.63157895, 1.84210526,\n",
       "       2.05263158, 2.26315789, 2.47368421, 2.68421053, 2.89473684,\n",
       "       3.10526316, 3.31578947, 3.52631579, 3.73684211, 3.94736842,\n",
       "       4.15789474, 4.36842105, 4.57894737, 4.78947368, 5.        ])"
      ]
     },
     "execution_count": 61,
     "metadata": {},
     "output_type": "execute_result"
    }
   ],
   "source": [
    "np.linspace(1, 5, 20)  #used to generate evenly spaced numbers over a specified interval. "
   ]
  },
  {
   "cell_type": "code",
   "execution_count": 63,
   "id": "379249a4-fd66-4bf8-9769-dfcbc2ccf72e",
   "metadata": {},
   "outputs": [
    {
     "data": {
      "text/plain": [
       "array([1.00000000e+01, 2.78255940e+01, 7.74263683e+01, 2.15443469e+02,\n",
       "       5.99484250e+02, 1.66810054e+03, 4.64158883e+03, 1.29154967e+04,\n",
       "       3.59381366e+04, 1.00000000e+05])"
      ]
     },
     "execution_count": 63,
     "metadata": {},
     "output_type": "execute_result"
    }
   ],
   "source": [
    "np.logspace(1,5, 10)  #generates numbers spaced evenly on a logarithmic scale."
   ]
  },
  {
   "cell_type": "code",
   "execution_count": 64,
   "id": "dc0e4803-4eb8-48c7-a0c3-2fd758cd60b7",
   "metadata": {},
   "outputs": [
    {
     "data": {
      "text/plain": [
       "array([ 2.        ,  2.72158   ,  3.70349885,  5.0396842 ,  6.85795186,\n",
       "        9.33223232, 12.69920842, 17.28095582, 23.51575188, 32.        ])"
      ]
     },
     "execution_count": 64,
     "metadata": {},
     "output_type": "execute_result"
    }
   ],
   "source": [
    "np.logspace(1,5, 10, base=2)"
   ]
  },
  {
   "cell_type": "code",
   "execution_count": 65,
   "id": "6c55a799-4202-47fb-8962-5632da46217b",
   "metadata": {},
   "outputs": [
    {
     "data": {
      "text/plain": [
       "array([0., 0., 0., 0., 0.])"
      ]
     },
     "execution_count": 65,
     "metadata": {},
     "output_type": "execute_result"
    }
   ],
   "source": [
    "np.zeros(5)"
   ]
  },
  {
   "cell_type": "code",
   "execution_count": 67,
   "id": "6a1db4ff-3dac-40e0-96fd-a0fc23bc1fbd",
   "metadata": {},
   "outputs": [
    {
     "data": {
      "text/plain": [
       "array([[0., 0., 0., 0.],\n",
       "       [0., 0., 0., 0.],\n",
       "       [0., 0., 0., 0.]])"
      ]
     },
     "execution_count": 67,
     "metadata": {},
     "output_type": "execute_result"
    }
   ],
   "source": [
    "np.zeros((3,4))"
   ]
  },
  {
   "cell_type": "code",
   "execution_count": 68,
   "id": "96995446-6eb3-4e47-8f4e-a289a2beb0af",
   "metadata": {},
   "outputs": [
    {
     "data": {
      "text/plain": [
       "array([[[0., 0.],\n",
       "        [0., 0.],\n",
       "        [0., 0.],\n",
       "        [0., 0.]],\n",
       "\n",
       "       [[0., 0.],\n",
       "        [0., 0.],\n",
       "        [0., 0.],\n",
       "        [0., 0.]],\n",
       "\n",
       "       [[0., 0.],\n",
       "        [0., 0.],\n",
       "        [0., 0.],\n",
       "        [0., 0.]]])"
      ]
     },
     "execution_count": 68,
     "metadata": {},
     "output_type": "execute_result"
    }
   ],
   "source": [
    "np.zeros((3,4,2))"
   ]
  },
  {
   "cell_type": "code",
   "execution_count": 69,
   "id": "454359ea-88fd-4f4f-bca9-bb1c80ffc625",
   "metadata": {},
   "outputs": [
    {
     "data": {
      "text/plain": [
       "array([[[[0., 0., 0.],\n",
       "         [0., 0., 0.]],\n",
       "\n",
       "        [[0., 0., 0.],\n",
       "         [0., 0., 0.]],\n",
       "\n",
       "        [[0., 0., 0.],\n",
       "         [0., 0., 0.]],\n",
       "\n",
       "        [[0., 0., 0.],\n",
       "         [0., 0., 0.]]],\n",
       "\n",
       "\n",
       "       [[[0., 0., 0.],\n",
       "         [0., 0., 0.]],\n",
       "\n",
       "        [[0., 0., 0.],\n",
       "         [0., 0., 0.]],\n",
       "\n",
       "        [[0., 0., 0.],\n",
       "         [0., 0., 0.]],\n",
       "\n",
       "        [[0., 0., 0.],\n",
       "         [0., 0., 0.]]],\n",
       "\n",
       "\n",
       "       [[[0., 0., 0.],\n",
       "         [0., 0., 0.]],\n",
       "\n",
       "        [[0., 0., 0.],\n",
       "         [0., 0., 0.]],\n",
       "\n",
       "        [[0., 0., 0.],\n",
       "         [0., 0., 0.]],\n",
       "\n",
       "        [[0., 0., 0.],\n",
       "         [0., 0., 0.]]]])"
      ]
     },
     "execution_count": 69,
     "metadata": {},
     "output_type": "execute_result"
    }
   ],
   "source": [
    "np.zeros((3,4,2,3))"
   ]
  },
  {
   "cell_type": "code",
   "execution_count": 71,
   "id": "65c57a6a-354a-42f3-a414-313627172a2b",
   "metadata": {},
   "outputs": [
    {
     "data": {
      "text/plain": [
       "array([1., 1., 1., 1., 1.])"
      ]
     },
     "execution_count": 71,
     "metadata": {},
     "output_type": "execute_result"
    }
   ],
   "source": [
    "np.ones(5)"
   ]
  },
  {
   "cell_type": "code",
   "execution_count": 72,
   "id": "112cb483-fac3-4e35-8ccd-5d6a5dacfdb0",
   "metadata": {},
   "outputs": [
    {
     "data": {
      "text/plain": [
       "array([[1., 1., 1., 1.],\n",
       "       [1., 1., 1., 1.],\n",
       "       [1., 1., 1., 1.]])"
      ]
     },
     "execution_count": 72,
     "metadata": {},
     "output_type": "execute_result"
    }
   ],
   "source": [
    "np.ones((3,4))"
   ]
  },
  {
   "cell_type": "code",
   "execution_count": 73,
   "id": "55abf2cc-08d3-43bf-8def-89244a9a91cb",
   "metadata": {},
   "outputs": [],
   "source": [
    "arr2= np.ones((3,4))"
   ]
  },
  {
   "cell_type": "code",
   "execution_count": 74,
   "id": "9460f381-268f-4e78-a630-0df379bdb01a",
   "metadata": {},
   "outputs": [
    {
     "data": {
      "text/plain": [
       "array([[1., 1., 1., 1.],\n",
       "       [1., 1., 1., 1.],\n",
       "       [1., 1., 1., 1.]])"
      ]
     },
     "execution_count": 74,
     "metadata": {},
     "output_type": "execute_result"
    }
   ],
   "source": [
    "arr2"
   ]
  },
  {
   "cell_type": "code",
   "execution_count": 75,
   "id": "e862d3ab-4162-46a8-a5b8-1ef53d410937",
   "metadata": {},
   "outputs": [
    {
     "data": {
      "text/plain": [
       "array([[6., 6., 6., 6.],\n",
       "       [6., 6., 6., 6.],\n",
       "       [6., 6., 6., 6.]])"
      ]
     },
     "execution_count": 75,
     "metadata": {},
     "output_type": "execute_result"
    }
   ],
   "source": [
    "arr2+5"
   ]
  },
  {
   "cell_type": "code",
   "execution_count": 76,
   "id": "76a92279-52c8-4570-afb5-80288b6aa6c2",
   "metadata": {},
   "outputs": [
    {
     "data": {
      "text/plain": [
       "array([[4., 4., 4., 4.],\n",
       "       [4., 4., 4., 4.],\n",
       "       [4., 4., 4., 4.]])"
      ]
     },
     "execution_count": 76,
     "metadata": {},
     "output_type": "execute_result"
    }
   ],
   "source": [
    "arr2*4"
   ]
  },
  {
   "cell_type": "code",
   "execution_count": 77,
   "id": "9181541c-f07a-4cca-bfad-679d3f62efb8",
   "metadata": {},
   "outputs": [
    {
     "data": {
      "text/plain": [
       "array([[4., 4., 4., 4.],\n",
       "       [4., 4., 4., 4.],\n",
       "       [4., 4., 4., 4.]])"
      ]
     },
     "execution_count": 77,
     "metadata": {},
     "output_type": "execute_result"
    }
   ],
   "source": [
    "np.empty((3,4))"
   ]
  },
  {
   "cell_type": "code",
   "execution_count": 78,
   "id": "406c1d21-fbd7-48e6-8e95-f962ea0e49fd",
   "metadata": {},
   "outputs": [
    {
     "data": {
      "text/plain": [
       "array([[1., 0., 0., 0., 0.],\n",
       "       [0., 1., 0., 0., 0.],\n",
       "       [0., 0., 1., 0., 0.],\n",
       "       [0., 0., 0., 1., 0.],\n",
       "       [0., 0., 0., 0., 1.]])"
      ]
     },
     "execution_count": 78,
     "metadata": {},
     "output_type": "execute_result"
    }
   ],
   "source": [
    "np.eye(5)"
   ]
  },
  {
   "cell_type": "code",
   "execution_count": 79,
   "id": "44b3fffd-cd1a-4855-8d48-d560375bf892",
   "metadata": {},
   "outputs": [],
   "source": [
    "arr3=np.eye(5)"
   ]
  },
  {
   "cell_type": "code",
   "execution_count": 80,
   "id": "17c7e902-813a-4ebe-b666-4af86bd0e190",
   "metadata": {},
   "outputs": [
    {
     "data": {
      "text/plain": [
       "array([[1., 0., 0., 0., 0.],\n",
       "       [0., 1., 0., 0., 0.],\n",
       "       [0., 0., 1., 0., 0.],\n",
       "       [0., 0., 0., 1., 0.],\n",
       "       [0., 0., 0., 0., 1.]])"
      ]
     },
     "execution_count": 80,
     "metadata": {},
     "output_type": "execute_result"
    }
   ],
   "source": [
    "arr3"
   ]
  },
  {
   "cell_type": "code",
   "execution_count": 83,
   "id": "e3c525ea-fcd2-4f23-8206-4654f91bbbda",
   "metadata": {},
   "outputs": [],
   "source": [
    "import pandas as pd"
   ]
  },
  {
   "cell_type": "code",
   "execution_count": 82,
   "id": "33454970-50b1-45fe-988f-77787bf81c4e",
   "metadata": {},
   "outputs": [
    {
     "name": "stdout",
     "output_type": "stream",
     "text": [
      "Collecting pandas\n",
      "  Downloading pandas-2.2.2-cp312-cp312-win_amd64.whl.metadata (19 kB)\n",
      "Requirement already satisfied: numpy>=1.26.0 in c:\\users\\deepika\\appdata\\local\\programs\\python\\python312\\lib\\site-packages (from pandas) (2.1.1)\n",
      "Requirement already satisfied: python-dateutil>=2.8.2 in c:\\users\\deepika\\appdata\\local\\programs\\python\\python312\\lib\\site-packages (from pandas) (2.9.0.post0)\n",
      "Collecting pytz>=2020.1 (from pandas)\n",
      "  Downloading pytz-2024.1-py2.py3-none-any.whl.metadata (22 kB)\n",
      "Collecting tzdata>=2022.7 (from pandas)\n",
      "  Downloading tzdata-2024.1-py2.py3-none-any.whl.metadata (1.4 kB)\n",
      "Requirement already satisfied: six>=1.5 in c:\\users\\deepika\\appdata\\local\\programs\\python\\python312\\lib\\site-packages (from python-dateutil>=2.8.2->pandas) (1.16.0)\n",
      "Downloading pandas-2.2.2-cp312-cp312-win_amd64.whl (11.5 MB)\n",
      "   ---------------------------------------- 0.0/11.5 MB ? eta -:--:--\n",
      "   ---------------------------------------- 0.1/11.5 MB 3.6 MB/s eta 0:00:04\n",
      "   - -------------------------------------- 0.5/11.5 MB 5.0 MB/s eta 0:00:03\n",
      "   --- ------------------------------------ 1.1/11.5 MB 8.7 MB/s eta 0:00:02\n",
      "   -------- ------------------------------- 2.4/11.5 MB 12.5 MB/s eta 0:00:01\n",
      "   -------- ------------------------------- 2.4/11.5 MB 12.7 MB/s eta 0:00:01\n",
      "   --------------- ------------------------ 4.4/11.5 MB 16.5 MB/s eta 0:00:01\n",
      "   -------------------- ------------------- 6.0/11.5 MB 19.2 MB/s eta 0:00:01\n",
      "   -------------------------- ------------- 7.6/11.5 MB 21.0 MB/s eta 0:00:01\n",
      "   ----------------------------- ---------- 8.4/11.5 MB 20.8 MB/s eta 0:00:01\n",
      "   -------------------------------- ------- 9.3/11.5 MB 20.6 MB/s eta 0:00:01\n",
      "   ----------------------------------- ---- 10.2/11.5 MB 20.4 MB/s eta 0:00:01\n",
      "   -------------------------------------- - 11.1/11.5 MB 23.4 MB/s eta 0:00:01\n",
      "   ---------------------------------------- 11.5/11.5 MB 22.6 MB/s eta 0:00:00\n",
      "Downloading pytz-2024.1-py2.py3-none-any.whl (505 kB)\n",
      "   ---------------------------------------- 0.0/505.5 kB ? eta -:--:--\n",
      "   --------------------------------------- 505.5/505.5 kB 31.0 MB/s eta 0:00:00\n",
      "Downloading tzdata-2024.1-py2.py3-none-any.whl (345 kB)\n",
      "   ---------------------------------------- 0.0/345.4 kB ? eta -:--:--\n",
      "   --------------------------------------- 345.4/345.4 kB 20.9 MB/s eta 0:00:00\n",
      "Installing collected packages: pytz, tzdata, pandas\n",
      "Successfully installed pandas-2.2.2 pytz-2024.1 tzdata-2024.1\n",
      "Note: you may need to restart the kernel to use updated packages.\n"
     ]
    },
    {
     "name": "stderr",
     "output_type": "stream",
     "text": [
      "\n",
      "[notice] A new release of pip is available: 24.0 -> 24.2\n",
      "[notice] To update, run: python.exe -m pip install --upgrade pip\n"
     ]
    }
   ],
   "source": [
    "pip install pandas"
   ]
  },
  {
   "cell_type": "code",
   "execution_count": 84,
   "id": "a72d4086-9f35-4322-9677-cceb572ef70a",
   "metadata": {},
   "outputs": [
    {
     "data": {
      "text/html": [
       "<div>\n",
       "<style scoped>\n",
       "    .dataframe tbody tr th:only-of-type {\n",
       "        vertical-align: middle;\n",
       "    }\n",
       "\n",
       "    .dataframe tbody tr th {\n",
       "        vertical-align: top;\n",
       "    }\n",
       "\n",
       "    .dataframe thead th {\n",
       "        text-align: right;\n",
       "    }\n",
       "</style>\n",
       "<table border=\"1\" class=\"dataframe\">\n",
       "  <thead>\n",
       "    <tr style=\"text-align: right;\">\n",
       "      <th></th>\n",
       "      <th>0</th>\n",
       "      <th>1</th>\n",
       "      <th>2</th>\n",
       "      <th>3</th>\n",
       "      <th>4</th>\n",
       "    </tr>\n",
       "  </thead>\n",
       "  <tbody>\n",
       "    <tr>\n",
       "      <th>0</th>\n",
       "      <td>1.0</td>\n",
       "      <td>0.0</td>\n",
       "      <td>0.0</td>\n",
       "      <td>0.0</td>\n",
       "      <td>0.0</td>\n",
       "    </tr>\n",
       "    <tr>\n",
       "      <th>1</th>\n",
       "      <td>0.0</td>\n",
       "      <td>1.0</td>\n",
       "      <td>0.0</td>\n",
       "      <td>0.0</td>\n",
       "      <td>0.0</td>\n",
       "    </tr>\n",
       "    <tr>\n",
       "      <th>2</th>\n",
       "      <td>0.0</td>\n",
       "      <td>0.0</td>\n",
       "      <td>1.0</td>\n",
       "      <td>0.0</td>\n",
       "      <td>0.0</td>\n",
       "    </tr>\n",
       "    <tr>\n",
       "      <th>3</th>\n",
       "      <td>0.0</td>\n",
       "      <td>0.0</td>\n",
       "      <td>0.0</td>\n",
       "      <td>1.0</td>\n",
       "      <td>0.0</td>\n",
       "    </tr>\n",
       "    <tr>\n",
       "      <th>4</th>\n",
       "      <td>0.0</td>\n",
       "      <td>0.0</td>\n",
       "      <td>0.0</td>\n",
       "      <td>0.0</td>\n",
       "      <td>1.0</td>\n",
       "    </tr>\n",
       "  </tbody>\n",
       "</table>\n",
       "</div>"
      ],
      "text/plain": [
       "     0    1    2    3    4\n",
       "0  1.0  0.0  0.0  0.0  0.0\n",
       "1  0.0  1.0  0.0  0.0  0.0\n",
       "2  0.0  0.0  1.0  0.0  0.0\n",
       "3  0.0  0.0  0.0  1.0  0.0\n",
       "4  0.0  0.0  0.0  0.0  1.0"
      ]
     },
     "execution_count": 84,
     "metadata": {},
     "output_type": "execute_result"
    }
   ],
   "source": [
    "pd.DataFrame(arr3)"
   ]
  },
  {
   "cell_type": "code",
   "execution_count": 86,
   "id": "24e106e5-895f-4640-a3ab-7c4a61521159",
   "metadata": {},
   "outputs": [
    {
     "data": {
      "text/plain": [
       "array([[0.00103801, 0.74441053, 0.15390982],\n",
       "       [0.93263279, 0.83508362, 0.68664915]])"
      ]
     },
     "execution_count": 86,
     "metadata": {},
     "output_type": "execute_result"
    }
   ],
   "source": [
    "np.random.rand(2,3) #generates a 2x3 NumPy array with random floating-point numbers uniformly distributed between 0 and 1."
   ]
  },
  {
   "cell_type": "code",
   "execution_count": 88,
   "id": "6cabf4a5-88ac-4c1b-958c-0c6b73e5ba26",
   "metadata": {},
   "outputs": [
    {
     "data": {
      "text/plain": [
       "array([[ 0.87620613, -1.74800117,  0.74953194],\n",
       "       [-0.08427491,  1.57622237, -0.07502553]])"
      ]
     },
     "execution_count": 88,
     "metadata": {},
     "output_type": "execute_result"
    }
   ],
   "source": [
    "np.random.randn(2,3) #generates a 2x3 NumPy array with random numbers drawn from the standard normal distribution (also called the Gaussian distribution), which has a mean of 0 and a standard deviation of 1."
   ]
  },
  {
   "cell_type": "code",
   "execution_count": 89,
   "id": "32af7569-7577-47fe-9597-cca4d9c5dbf8",
   "metadata": {},
   "outputs": [
    {
     "data": {
      "text/plain": [
       "array([[2, 1, 1, 4],\n",
       "       [4, 3, 1, 4],\n",
       "       [3, 4, 3, 3]], dtype=int32)"
      ]
     },
     "execution_count": 89,
     "metadata": {},
     "output_type": "execute_result"
    }
   ],
   "source": [
    "np.random.randint(1,5, (3,4))"
   ]
  },
  {
   "cell_type": "code",
   "execution_count": 90,
   "id": "9bfad89c-32a1-4454-9500-fb758ec22bb8",
   "metadata": {},
   "outputs": [],
   "source": [
    "arr4= np.random.randint(1,5, (3,4))"
   ]
  },
  {
   "cell_type": "code",
   "execution_count": 91,
   "id": "14083936-3826-4066-b071-0408fccb4da4",
   "metadata": {},
   "outputs": [
    {
     "data": {
      "text/plain": [
       "array([[2, 3, 2, 4],\n",
       "       [3, 3, 3, 4],\n",
       "       [2, 1, 3, 3]], dtype=int32)"
      ]
     },
     "execution_count": 91,
     "metadata": {},
     "output_type": "execute_result"
    }
   ],
   "source": [
    "arr4"
   ]
  },
  {
   "cell_type": "code",
   "execution_count": 92,
   "id": "5fe0f307-5a03-43be-9f13-a2b7baf1f09c",
   "metadata": {},
   "outputs": [
    {
     "data": {
      "text/plain": [
       "12"
      ]
     },
     "execution_count": 92,
     "metadata": {},
     "output_type": "execute_result"
    }
   ],
   "source": [
    "arr4.size"
   ]
  },
  {
   "cell_type": "code",
   "execution_count": 93,
   "id": "ef08f71a-8c67-4a63-bf47-a1d8a2ec980b",
   "metadata": {},
   "outputs": [
    {
     "data": {
      "text/plain": [
       "(3, 4)"
      ]
     },
     "execution_count": 93,
     "metadata": {},
     "output_type": "execute_result"
    }
   ],
   "source": [
    "arr4.shape"
   ]
  },
  {
   "cell_type": "code",
   "execution_count": 94,
   "id": "83a1b529-d1ee-4c05-8ba9-a268f7176c3d",
   "metadata": {},
   "outputs": [
    {
     "data": {
      "text/plain": [
       "array([[2, 3],\n",
       "       [2, 4],\n",
       "       [3, 3],\n",
       "       [3, 4],\n",
       "       [2, 1],\n",
       "       [3, 3]], dtype=int32)"
      ]
     },
     "execution_count": 94,
     "metadata": {},
     "output_type": "execute_result"
    }
   ],
   "source": [
    "arr4.reshape(6,2)"
   ]
  },
  {
   "cell_type": "code",
   "execution_count": 95,
   "id": "cb7bdeea-472c-4482-af98-9b97c9df7c3b",
   "metadata": {},
   "outputs": [
    {
     "ename": "ValueError",
     "evalue": "cannot reshape array of size 12 into shape (6,3)",
     "output_type": "error",
     "traceback": [
      "\u001b[1;31m---------------------------------------------------------------------------\u001b[0m",
      "\u001b[1;31mValueError\u001b[0m                                Traceback (most recent call last)",
      "Cell \u001b[1;32mIn[95], line 1\u001b[0m\n\u001b[1;32m----> 1\u001b[0m \u001b[43marr4\u001b[49m\u001b[38;5;241;43m.\u001b[39;49m\u001b[43mreshape\u001b[49m\u001b[43m(\u001b[49m\u001b[38;5;241;43m6\u001b[39;49m\u001b[43m,\u001b[49m\u001b[38;5;241;43m3\u001b[39;49m\u001b[43m)\u001b[49m\n",
      "\u001b[1;31mValueError\u001b[0m: cannot reshape array of size 12 into shape (6,3)"
     ]
    }
   ],
   "source": [
    "arr4.reshape(6,3)"
   ]
  },
  {
   "cell_type": "code",
   "execution_count": 96,
   "id": "bf8478ad-ecda-4cd7-a7d7-a932ea771c14",
   "metadata": {},
   "outputs": [
    {
     "data": {
      "text/plain": [
       "array([[2, 3, 2, 4, 3, 3],\n",
       "       [3, 4, 2, 1, 3, 3]], dtype=int32)"
      ]
     },
     "execution_count": 96,
     "metadata": {},
     "output_type": "execute_result"
    }
   ],
   "source": [
    "arr4.reshape(2,6)"
   ]
  },
  {
   "cell_type": "code",
   "execution_count": 97,
   "id": "2ee69547-727d-4e68-8b4d-63ec02fd2487",
   "metadata": {},
   "outputs": [
    {
     "data": {
      "text/plain": [
       "array([[2, 3, 2],\n",
       "       [4, 3, 3],\n",
       "       [3, 4, 2],\n",
       "       [1, 3, 3]], dtype=int32)"
      ]
     },
     "execution_count": 97,
     "metadata": {},
     "output_type": "execute_result"
    }
   ],
   "source": [
    "arr4.reshape(4,3)"
   ]
  },
  {
   "cell_type": "code",
   "execution_count": 98,
   "id": "8ef30b2a-0a4e-4dd6-9e9d-b84ed3544072",
   "metadata": {},
   "outputs": [
    {
     "data": {
      "text/plain": [
       "array([[2, 3, 2],\n",
       "       [4, 3, 3],\n",
       "       [3, 4, 2],\n",
       "       [1, 3, 3]], dtype=int32)"
      ]
     },
     "execution_count": 98,
     "metadata": {},
     "output_type": "execute_result"
    }
   ],
   "source": [
    "arr4.reshape(4,-1)"
   ]
  },
  {
   "cell_type": "code",
   "execution_count": 99,
   "id": "2db2b6cc-a061-47e9-bd5a-5795a161ba70",
   "metadata": {},
   "outputs": [
    {
     "data": {
      "text/plain": [
       "array([[2, 3, 2],\n",
       "       [4, 3, 3],\n",
       "       [3, 4, 2],\n",
       "       [1, 3, 3]], dtype=int32)"
      ]
     },
     "execution_count": 99,
     "metadata": {},
     "output_type": "execute_result"
    }
   ],
   "source": [
    "arr4.reshape(4,-156568)"
   ]
  },
  {
   "cell_type": "code",
   "execution_count": 100,
   "id": "1e0eabd8-209d-401f-a1b8-7d33a67ec69b",
   "metadata": {},
   "outputs": [
    {
     "data": {
      "text/plain": [
       "array([[[2, 3, 2],\n",
       "        [4, 3, 3]],\n",
       "\n",
       "       [[3, 4, 2],\n",
       "        [1, 3, 3]]], dtype=int32)"
      ]
     },
     "execution_count": 100,
     "metadata": {},
     "output_type": "execute_result"
    }
   ],
   "source": [
    "arr4.reshape(2,2,3)"
   ]
  },
  {
   "cell_type": "code",
   "execution_count": 101,
   "id": "54c140a2-266d-4436-8b4a-d2ada272ab8d",
   "metadata": {},
   "outputs": [],
   "source": [
    "arr5=np.random.randint(1,10, (5,6))"
   ]
  },
  {
   "cell_type": "code",
   "execution_count": 102,
   "id": "aa236f4a-7902-49cc-b911-74ebbe3be806",
   "metadata": {},
   "outputs": [
    {
     "data": {
      "text/plain": [
       "array([[4, 8, 9, 7, 6, 5],\n",
       "       [7, 4, 8, 6, 1, 3],\n",
       "       [8, 8, 5, 9, 2, 4],\n",
       "       [4, 2, 8, 5, 6, 9],\n",
       "       [5, 2, 3, 5, 9, 4]], dtype=int32)"
      ]
     },
     "execution_count": 102,
     "metadata": {},
     "output_type": "execute_result"
    }
   ],
   "source": [
    "arr5"
   ]
  },
  {
   "cell_type": "code",
   "execution_count": 103,
   "id": "9f9d2e94-5e5c-4f94-91ce-28a9572ad914",
   "metadata": {},
   "outputs": [
    {
     "data": {
      "text/plain": [
       "array([[False, False,  True, False, False, False],\n",
       "       [False, False, False, False, False, False],\n",
       "       [False, False, False,  True, False, False],\n",
       "       [False, False, False, False, False,  True],\n",
       "       [False, False, False, False,  True, False]])"
      ]
     },
     "execution_count": 103,
     "metadata": {},
     "output_type": "execute_result"
    }
   ],
   "source": [
    "arr5>8"
   ]
  },
  {
   "cell_type": "code",
   "execution_count": 104,
   "id": "0274dd4c-6429-4e8c-98bb-3fc78885fdd2",
   "metadata": {},
   "outputs": [
    {
     "data": {
      "text/plain": [
       "array([9, 9, 9, 9], dtype=int32)"
      ]
     },
     "execution_count": 104,
     "metadata": {},
     "output_type": "execute_result"
    }
   ],
   "source": [
    "arr5[arr5>8]"
   ]
  },
  {
   "cell_type": "code",
   "execution_count": 105,
   "id": "0d16740a-5e8b-48ed-bb67-c21e7e6d56c6",
   "metadata": {},
   "outputs": [
    {
     "data": {
      "text/plain": [
       "array([4, 8, 9, 7, 6, 5], dtype=int32)"
      ]
     },
     "execution_count": 105,
     "metadata": {},
     "output_type": "execute_result"
    }
   ],
   "source": [
    "arr5[0]"
   ]
  },
  {
   "cell_type": "code",
   "execution_count": 106,
   "id": "e2335687-804c-4d0e-b57f-8f78c9afcb5c",
   "metadata": {},
   "outputs": [
    {
     "data": {
      "text/plain": [
       "array([4, 8], dtype=int32)"
      ]
     },
     "execution_count": 106,
     "metadata": {},
     "output_type": "execute_result"
    }
   ],
   "source": [
    "arr5[0, [0,1]]"
   ]
  },
  {
   "cell_type": "code",
   "execution_count": 107,
   "id": "f815caa2-dd41-4a66-a9b8-ac7e8ce8a5f6",
   "metadata": {},
   "outputs": [
    {
     "data": {
      "text/plain": [
       "array([[5, 9],\n",
       "       [8, 5]], dtype=int32)"
      ]
     },
     "execution_count": 107,
     "metadata": {},
     "output_type": "execute_result"
    }
   ],
   "source": [
    "arr5[2:4, [2,3]]"
   ]
  },
  {
   "cell_type": "code",
   "execution_count": 111,
   "id": "04c529e3-b503-4cc9-8883-c97d2d3648d1",
   "metadata": {},
   "outputs": [],
   "source": [
    "arr6= np.random.randint(1,3, (3,3))\n",
    "arr7= np.random.randint(1,3, (3,3))"
   ]
  },
  {
   "cell_type": "code",
   "execution_count": 112,
   "id": "15129bb7-ffb7-423d-8a1a-9c5f07ad2240",
   "metadata": {},
   "outputs": [
    {
     "data": {
      "text/plain": [
       "array([[1, 1, 1],\n",
       "       [2, 1, 1],\n",
       "       [1, 2, 2]], dtype=int32)"
      ]
     },
     "execution_count": 112,
     "metadata": {},
     "output_type": "execute_result"
    }
   ],
   "source": [
    "arr6"
   ]
  },
  {
   "cell_type": "code",
   "execution_count": 113,
   "id": "a03d9546-2b97-40fd-bb35-9ac48b19b922",
   "metadata": {},
   "outputs": [
    {
     "data": {
      "text/plain": [
       "array([[1, 1, 1],\n",
       "       [1, 1, 1],\n",
       "       [2, 1, 1]], dtype=int32)"
      ]
     },
     "execution_count": 113,
     "metadata": {},
     "output_type": "execute_result"
    }
   ],
   "source": [
    "arr7"
   ]
  },
  {
   "cell_type": "code",
   "execution_count": 114,
   "id": "e0b06f1a-d376-4b88-81eb-f22e6ebb7d95",
   "metadata": {},
   "outputs": [
    {
     "data": {
      "text/plain": [
       "array([[2, 2, 2],\n",
       "       [3, 2, 2],\n",
       "       [3, 3, 3]], dtype=int32)"
      ]
     },
     "execution_count": 114,
     "metadata": {},
     "output_type": "execute_result"
    }
   ],
   "source": [
    "arr6+arr7"
   ]
  },
  {
   "cell_type": "code",
   "execution_count": 115,
   "id": "de619a26-7174-4b0e-83e6-c25f149d55d2",
   "metadata": {},
   "outputs": [
    {
     "data": {
      "text/plain": [
       "array([[ 0,  0,  0],\n",
       "       [ 1,  0,  0],\n",
       "       [-1,  1,  1]], dtype=int32)"
      ]
     },
     "execution_count": 115,
     "metadata": {},
     "output_type": "execute_result"
    }
   ],
   "source": [
    "arr6-arr7"
   ]
  },
  {
   "cell_type": "code",
   "execution_count": 116,
   "id": "58c51227-1980-418d-be31-8fe0cedfa72f",
   "metadata": {},
   "outputs": [
    {
     "data": {
      "text/plain": [
       "array([[1, 1, 1],\n",
       "       [2, 1, 1],\n",
       "       [2, 2, 2]], dtype=int32)"
      ]
     },
     "execution_count": 116,
     "metadata": {},
     "output_type": "execute_result"
    }
   ],
   "source": [
    "arr6*arr7 #index wise multiplication"
   ]
  },
  {
   "cell_type": "code",
   "execution_count": 118,
   "id": "f411ad6a-c8dc-48bc-a1c0-1aa360ec42ea",
   "metadata": {},
   "outputs": [
    {
     "data": {
      "text/plain": [
       "array([[4, 3, 3],\n",
       "       [5, 4, 4],\n",
       "       [7, 5, 5]], dtype=int32)"
      ]
     },
     "execution_count": 118,
     "metadata": {},
     "output_type": "execute_result"
    }
   ],
   "source": [
    "arr6@arr7 #matrix multiplication"
   ]
  },
  {
   "cell_type": "code",
   "execution_count": 119,
   "id": "a323e7ec-f192-4e1c-ac42-3d7d3c965b2b",
   "metadata": {},
   "outputs": [
    {
     "data": {
      "text/plain": [
       "array([[1. , 1. , 1. ],\n",
       "       [2. , 1. , 1. ],\n",
       "       [0.5, 2. , 2. ]])"
      ]
     },
     "execution_count": 119,
     "metadata": {},
     "output_type": "execute_result"
    }
   ],
   "source": [
    "arr6/arr7"
   ]
  },
  {
   "cell_type": "code",
   "execution_count": 120,
   "id": "a3d6a1de-0df1-4167-b293-c738ab494624",
   "metadata": {},
   "outputs": [
    {
     "name": "stderr",
     "output_type": "stream",
     "text": [
      "C:\\Users\\Deepika\\AppData\\Local\\Temp\\ipykernel_23692\\1351048935.py:1: RuntimeWarning: divide by zero encountered in divide\n",
      "  arr6/0\n"
     ]
    },
    {
     "data": {
      "text/plain": [
       "array([[inf, inf, inf],\n",
       "       [inf, inf, inf],\n",
       "       [inf, inf, inf]])"
      ]
     },
     "execution_count": 120,
     "metadata": {},
     "output_type": "execute_result"
    }
   ],
   "source": [
    "arr6/0"
   ]
  },
  {
   "cell_type": "code",
   "execution_count": 121,
   "id": "d3e32434-192b-4234-aeef-738e6bfa6ec9",
   "metadata": {},
   "outputs": [],
   "source": [
    "#numpy- broadcasting"
   ]
  },
  {
   "cell_type": "markdown",
   "id": "a85c2527-b7d9-4ec2-ba3d-b74af7e73cdc",
   "metadata": {},
   "source": [
    "NumPy broadcasting is a feature that allows NumPy to perform operations on arrays of different shapes in a way that makes them compatible for element-wise operations. Instead of requiring arrays to have the exact same shape, NumPy \"stretches\" or \"broadcasts\" smaller arrays along dimensions so that they match the shape of the larger array."
   ]
  },
  {
   "cell_type": "code",
   "execution_count": 122,
   "id": "ed814037-3367-464c-a2eb-facd56a25aa5",
   "metadata": {},
   "outputs": [],
   "source": [
    "arr6=np.zeros((3,4))"
   ]
  },
  {
   "cell_type": "code",
   "execution_count": 123,
   "id": "1ef2556e-6d55-411e-910f-19eb231a3d1a",
   "metadata": {},
   "outputs": [
    {
     "data": {
      "text/plain": [
       "array([[0., 0., 0., 0.],\n",
       "       [0., 0., 0., 0.],\n",
       "       [0., 0., 0., 0.]])"
      ]
     },
     "execution_count": 123,
     "metadata": {},
     "output_type": "execute_result"
    }
   ],
   "source": [
    "arr6"
   ]
  },
  {
   "cell_type": "code",
   "execution_count": 124,
   "id": "0e077f49-7a93-4a99-b2cb-daa0c74b898a",
   "metadata": {},
   "outputs": [
    {
     "data": {
      "text/plain": [
       "array([[5., 5., 5., 5.],\n",
       "       [5., 5., 5., 5.],\n",
       "       [5., 5., 5., 5.]])"
      ]
     },
     "execution_count": 124,
     "metadata": {},
     "output_type": "execute_result"
    }
   ],
   "source": [
    "arr6+5"
   ]
  },
  {
   "cell_type": "code",
   "execution_count": 125,
   "id": "2bdb7aed-8cb0-4796-98f5-5a4aa903180f",
   "metadata": {},
   "outputs": [],
   "source": [
    "c=np.array([1,2,3,4])"
   ]
  },
  {
   "cell_type": "code",
   "execution_count": 126,
   "id": "8f205b0e-b5f5-4642-bd9c-d731fab428c2",
   "metadata": {},
   "outputs": [
    {
     "data": {
      "text/plain": [
       "array([[1., 2., 3., 4.],\n",
       "       [1., 2., 3., 4.],\n",
       "       [1., 2., 3., 4.]])"
      ]
     },
     "execution_count": 126,
     "metadata": {},
     "output_type": "execute_result"
    }
   ],
   "source": [
    "arr6+c"
   ]
  },
  {
   "cell_type": "code",
   "execution_count": 127,
   "id": "a95d2e11-8797-4b78-9e10-560e154157fd",
   "metadata": {},
   "outputs": [],
   "source": [
    "d=np.array([3,4,5])"
   ]
  },
  {
   "cell_type": "code",
   "execution_count": 128,
   "id": "f823cc97-1e42-4257-a467-28588b592ef9",
   "metadata": {},
   "outputs": [
    {
     "ename": "ValueError",
     "evalue": "operands could not be broadcast together with shapes (3,4) (3,) ",
     "output_type": "error",
     "traceback": [
      "\u001b[1;31m---------------------------------------------------------------------------\u001b[0m",
      "\u001b[1;31mValueError\u001b[0m                                Traceback (most recent call last)",
      "Cell \u001b[1;32mIn[128], line 1\u001b[0m\n\u001b[1;32m----> 1\u001b[0m \u001b[43marr6\u001b[49m\u001b[38;5;241;43m+\u001b[39;49m\u001b[43md\u001b[49m\n",
      "\u001b[1;31mValueError\u001b[0m: operands could not be broadcast together with shapes (3,4) (3,) "
     ]
    }
   ],
   "source": [
    "arr6+d"
   ]
  },
  {
   "cell_type": "code",
   "execution_count": 129,
   "id": "6e75c5eb-31fa-4ba0-b213-12238b95ec9b",
   "metadata": {},
   "outputs": [],
   "source": [
    "d=np.array([[3,4,5]])"
   ]
  },
  {
   "cell_type": "code",
   "execution_count": 138,
   "id": "0fb812ac-a65b-4727-97be-42dc2b44d4fc",
   "metadata": {},
   "outputs": [],
   "source": [
    "arr7=arr6+d.T"
   ]
  },
  {
   "cell_type": "code",
   "execution_count": 139,
   "id": "0446df5d-a0b1-4397-8d3b-0794ead59335",
   "metadata": {},
   "outputs": [
    {
     "data": {
      "text/plain": [
       "array([[3],\n",
       "       [4],\n",
       "       [5]])"
      ]
     },
     "execution_count": 139,
     "metadata": {},
     "output_type": "execute_result"
    }
   ],
   "source": [
    "d.T"
   ]
  },
  {
   "cell_type": "code",
   "execution_count": 140,
   "id": "a5f59126-0f6f-4048-9e6e-af5335020a69",
   "metadata": {},
   "outputs": [
    {
     "data": {
      "text/plain": [
       "array([[3., 3., 3., 3.],\n",
       "       [4., 4., 4., 4.],\n",
       "       [5., 5., 5., 5.]])"
      ]
     },
     "execution_count": 140,
     "metadata": {},
     "output_type": "execute_result"
    }
   ],
   "source": [
    "arr7"
   ]
  },
  {
   "cell_type": "code",
   "execution_count": 141,
   "id": "214d0d9f-4340-42e9-9427-e3e790e30ef9",
   "metadata": {},
   "outputs": [
    {
     "data": {
      "text/plain": [
       "array([[1.73205081, 1.73205081, 1.73205081, 1.73205081],\n",
       "       [2.        , 2.        , 2.        , 2.        ],\n",
       "       [2.23606798, 2.23606798, 2.23606798, 2.23606798]])"
      ]
     },
     "execution_count": 141,
     "metadata": {},
     "output_type": "execute_result"
    }
   ],
   "source": [
    "np.sqrt(arr7)"
   ]
  },
  {
   "cell_type": "code",
   "execution_count": 142,
   "id": "3ef6b133-9f25-46d5-aa4f-162e50ee1788",
   "metadata": {},
   "outputs": [
    {
     "data": {
      "text/plain": [
       "array([[0.47712125, 0.47712125, 0.47712125, 0.47712125],\n",
       "       [0.60205999, 0.60205999, 0.60205999, 0.60205999],\n",
       "       [0.69897   , 0.69897   , 0.69897   , 0.69897   ]])"
      ]
     },
     "execution_count": 142,
     "metadata": {},
     "output_type": "execute_result"
    }
   ],
   "source": [
    "np.log10(arr7)"
   ]
  },
  {
   "cell_type": "code",
   "execution_count": 143,
   "id": "e5bc577b-f5d4-416f-94fd-32286eb71343",
   "metadata": {},
   "outputs": [
    {
     "data": {
      "text/plain": [
       "array([[ 20.08553692,  20.08553692,  20.08553692,  20.08553692],\n",
       "       [ 54.59815003,  54.59815003,  54.59815003,  54.59815003],\n",
       "       [148.4131591 , 148.4131591 , 148.4131591 , 148.4131591 ]])"
      ]
     },
     "execution_count": 143,
     "metadata": {},
     "output_type": "execute_result"
    }
   ],
   "source": [
    "np.exp(arr7)"
   ]
  },
  {
   "cell_type": "code",
   "execution_count": 144,
   "id": "b6bf4cb3-443c-40e8-a229-d57bd6b2d49c",
   "metadata": {},
   "outputs": [
    {
     "data": {
      "text/plain": [
       "np.float64(3.0)"
      ]
     },
     "execution_count": 144,
     "metadata": {},
     "output_type": "execute_result"
    }
   ],
   "source": [
    "np.min(arr7)"
   ]
  },
  {
   "cell_type": "code",
   "execution_count": 145,
   "id": "8e796bac-5ec1-4175-b982-6dbded77d148",
   "metadata": {},
   "outputs": [
    {
     "data": {
      "text/plain": [
       "np.float64(5.0)"
      ]
     },
     "execution_count": 145,
     "metadata": {},
     "output_type": "execute_result"
    }
   ],
   "source": [
    "np.max(arr7)"
   ]
  },
  {
   "cell_type": "code",
   "execution_count": null,
   "id": "b361fb70-9035-4a63-a7e1-fdb4ef9bdba0",
   "metadata": {},
   "outputs": [],
   "source": []
  }
 ],
 "metadata": {
  "kernelspec": {
   "display_name": "Python 3 (ipykernel)",
   "language": "python",
   "name": "python3"
  },
  "language_info": {
   "codemirror_mode": {
    "name": "ipython",
    "version": 3
   },
   "file_extension": ".py",
   "mimetype": "text/x-python",
   "name": "python",
   "nbconvert_exporter": "python",
   "pygments_lexer": "ipython3",
   "version": "3.12.4"
  }
 },
 "nbformat": 4,
 "nbformat_minor": 5
}
