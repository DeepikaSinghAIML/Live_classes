{
 "cells": [
  {
   "cell_type": "markdown",
   "id": "6a0a1953",
   "metadata": {},
   "source": [
    "## Classes/Objects\n",
    "Python is an object oriented programming language.\n",
    "\n",
    "Almost everything in Python is an object, with its properties and methods.\n",
    "\n",
    "A Class is like an object constructor, or a \"blueprint\" for creating objects.\n",
    "\n",
    "A class is a classification of things, an object(variable) is an instance of class. "
   ]
  },
  {
   "cell_type": "code",
   "execution_count": 1,
   "id": "a9098a45",
   "metadata": {},
   "outputs": [],
   "source": [
    "a=10\n",
    "b=20\n",
    "c=50 #here these are integer classes, (a,b,c) are objects of integer class"
   ]
  },
  {
   "cell_type": "code",
   "execution_count": 2,
   "id": "b7500e31",
   "metadata": {},
   "outputs": [],
   "source": [
    "s='sudh' #s is the object of string class"
   ]
  },
  {
   "cell_type": "markdown",
   "id": "48bdf417",
   "metadata": {},
   "source": [
    "## The self Parameter\n",
    "The self parameter is a reference to the current instance of the class, and is used to access variables that belongs to the class.\n",
    "\n",
    "It does not have to be named self , you can call it whatever you like, but it has to be the first parameter of any function in the class"
   ]
  },
  {
   "cell_type": "code",
   "execution_count": 15,
   "id": "339153b8",
   "metadata": {},
   "outputs": [],
   "source": [
    "class bankaccount:\n",
    "    \n",
    "    def openaccount(self, name, email_id):\n",
    "        print(\"open an account by taking name and email id\")\n",
    "        return name, email_id\n",
    "    \n",
    "    def deposit(self, amount):\n",
    "        print(\"I am trying to deposit some amount in my account\")\n",
    "        \n",
    "    def withdraw(self, amt_with):\n",
    "        print(\"withdraw the amount\")\n",
    "        \n",
    "    def update_details(self, name_update, email_update):\n",
    "        print(\"This function will update my name and email id for account\")"
   ]
  },
  {
   "cell_type": "code",
   "execution_count": 16,
   "id": "89f47278",
   "metadata": {},
   "outputs": [],
   "source": [
    "def openaccount(name, email_id):\n",
    "    print(\"open an account by taking name and email id\")\n",
    "    return name, email_id"
   ]
  },
  {
   "cell_type": "code",
   "execution_count": 17,
   "id": "2dc00833",
   "metadata": {},
   "outputs": [
    {
     "name": "stdout",
     "output_type": "stream",
     "text": [
      "open an account by taking name and email id\n"
     ]
    },
    {
     "data": {
      "text/plain": [
       "('deeps', 'deeps@gamil.com')"
      ]
     },
     "execution_count": 17,
     "metadata": {},
     "output_type": "execute_result"
    }
   ],
   "source": [
    "openaccount('deeps','deeps@gamil.com')"
   ]
  },
  {
   "cell_type": "code",
   "execution_count": 18,
   "id": "216486f6",
   "metadata": {},
   "outputs": [
    {
     "ename": "NameError",
     "evalue": "name 'deposit' is not defined",
     "output_type": "error",
     "traceback": [
      "\u001b[1;31m---------------------------------------------------------------------------\u001b[0m",
      "\u001b[1;31mNameError\u001b[0m                                 Traceback (most recent call last)",
      "Cell \u001b[1;32mIn[18], line 1\u001b[0m\n\u001b[1;32m----> 1\u001b[0m \u001b[43mdeposit\u001b[49m(\u001b[38;5;241m4564\u001b[39m)\n",
      "\u001b[1;31mNameError\u001b[0m: name 'deposit' is not defined"
     ]
    }
   ],
   "source": [
    "deposit(4564)"
   ]
  },
  {
   "cell_type": "code",
   "execution_count": 19,
   "id": "599e36ea",
   "metadata": {},
   "outputs": [],
   "source": [
    "deeps=bankaccount()"
   ]
  },
  {
   "cell_type": "code",
   "execution_count": 20,
   "id": "e5386272",
   "metadata": {},
   "outputs": [
    {
     "name": "stdout",
     "output_type": "stream",
     "text": [
      "open an account by taking name and email id\n"
     ]
    },
    {
     "data": {
      "text/plain": [
       "('deepika', 'deepika@gmail.com')"
      ]
     },
     "execution_count": 20,
     "metadata": {},
     "output_type": "execute_result"
    }
   ],
   "source": [
    "deeps.openaccount('deepika','deepika@gmail.com')"
   ]
  },
  {
   "cell_type": "code",
   "execution_count": 21,
   "id": "4f92f5b9",
   "metadata": {},
   "outputs": [
    {
     "name": "stdout",
     "output_type": "stream",
     "text": [
      "I am trying to deposit some amount in my account\n"
     ]
    }
   ],
   "source": [
    "deeps.deposit(4563)"
   ]
  },
  {
   "cell_type": "code",
   "execution_count": 22,
   "id": "9f5b3315",
   "metadata": {},
   "outputs": [
    {
     "name": "stdout",
     "output_type": "stream",
     "text": [
      "withdraw the amount\n"
     ]
    }
   ],
   "source": [
    "deeps.withdraw(465)"
   ]
  },
  {
   "cell_type": "code",
   "execution_count": 23,
   "id": "87eb43e9",
   "metadata": {},
   "outputs": [
    {
     "name": "stdout",
     "output_type": "stream",
     "text": [
      "This function will update my name and email id for account\n"
     ]
    }
   ],
   "source": [
    "deeps.update_details('deeps','deeps@gmail.com')"
   ]
  },
  {
   "cell_type": "code",
   "execution_count": 38,
   "id": "8f83544e",
   "metadata": {},
   "outputs": [],
   "source": [
    "class list_ops:\n",
    "    \n",
    "    def extractfromindex(self, l, index):\n",
    "        return l[index]\n",
    "    \n",
    "    def extractrangedata(self,l,start,end):\n",
    "        return l[start:end]\n",
    "    \n",
    "    def extracteven(self,l):\n",
    "        l1=[]\n",
    "        for i in l:\n",
    "            if i%2==0:\n",
    "                l1.append(i)\n",
    "        return l1"
   ]
  },
  {
   "cell_type": "code",
   "execution_count": 52,
   "id": "1d8e380a",
   "metadata": {},
   "outputs": [
    {
     "data": {
      "text/plain": [
       "6"
      ]
     },
     "execution_count": 52,
     "metadata": {},
     "output_type": "execute_result"
    }
   ],
   "source": [
    "first_obj=list_ops()\n",
    "first_obj.extractfromindex([3,4,2,5,6], 4)"
   ]
  },
  {
   "cell_type": "code",
   "execution_count": 46,
   "id": "0933ec1d",
   "metadata": {},
   "outputs": [
    {
     "data": {
      "text/plain": [
       "[3, 2, 1, 445]"
      ]
     },
     "execution_count": 46,
     "metadata": {},
     "output_type": "execute_result"
    }
   ],
   "source": [
    "first_obj.extractrangedata([3,2,1,445,6,4], 0,4)"
   ]
  },
  {
   "cell_type": "code",
   "execution_count": 47,
   "id": "9a3b174d",
   "metadata": {},
   "outputs": [
    {
     "data": {
      "text/plain": [
       "[4, 2, 2, 78, 8]"
      ]
     },
     "execution_count": 47,
     "metadata": {},
     "output_type": "execute_result"
    }
   ],
   "source": [
    "first_obj.extracteven([4,2,5,7,2,78,8,9])"
   ]
  },
  {
   "cell_type": "code",
   "execution_count": 48,
   "id": "2453a606",
   "metadata": {},
   "outputs": [
    {
     "data": {
      "text/plain": [
       "45"
      ]
     },
     "execution_count": 48,
     "metadata": {},
     "output_type": "execute_result"
    }
   ],
   "source": [
    "l=[4,5,2,45,6]\n",
    "l[3]"
   ]
  },
  {
   "cell_type": "code",
   "execution_count": 51,
   "id": "4560177d",
   "metadata": {},
   "outputs": [],
   "source": [
    "class list_ops:\n",
    "    \n",
    "    a=10\n",
    "    l=[4,2,4,5,5,6,74,6]\n",
    "    \n",
    "    def extractfromindex(self, l, index):\n",
    "        return l[index]\n",
    "    \n",
    "    def extractrangedata(self,l,start,end):\n",
    "        return l[start:end]\n",
    "    \n",
    "    def extracteven(self,l):\n",
    "        l1=[]\n",
    "        for i in l:\n",
    "            if i%2==0:\n",
    "                l1.append(i)\n",
    "        return l1"
   ]
  },
  {
   "cell_type": "code",
   "execution_count": 50,
   "id": "da2920dd",
   "metadata": {},
   "outputs": [
    {
     "data": {
      "text/plain": [
       "10"
      ]
     },
     "execution_count": 50,
     "metadata": {},
     "output_type": "execute_result"
    }
   ],
   "source": [
    "first_obj.a"
   ]
  },
  {
   "cell_type": "code",
   "execution_count": 56,
   "id": "f0584fbf",
   "metadata": {},
   "outputs": [
    {
     "data": {
      "text/plain": [
       "[4, 2, 4, 5, 5, 6, 74, 6]"
      ]
     },
     "execution_count": 56,
     "metadata": {},
     "output_type": "execute_result"
    }
   ],
   "source": [
    "first_obj.l"
   ]
  },
  {
   "cell_type": "code",
   "execution_count": 57,
   "id": "81e13d53",
   "metadata": {},
   "outputs": [
    {
     "data": {
      "text/plain": [
       "5"
      ]
     },
     "execution_count": 57,
     "metadata": {},
     "output_type": "execute_result"
    }
   ],
   "source": [
    "first_obj.extractfromindex(first_obj.l, 4) #this is how we access the variable outside the class"
   ]
  },
  {
   "cell_type": "code",
   "execution_count": 58,
   "id": "d332d1b6",
   "metadata": {},
   "outputs": [
    {
     "data": {
      "text/plain": [
       "[4, 2, 4, 5, 5, 6, 74, 6]"
      ]
     },
     "execution_count": 58,
     "metadata": {},
     "output_type": "execute_result"
    }
   ],
   "source": [
    "second_obj=list_ops()\n",
    "second_obj.l"
   ]
  },
  {
   "cell_type": "code",
   "execution_count": 59,
   "id": "839f19a5",
   "metadata": {},
   "outputs": [
    {
     "data": {
      "text/plain": [
       "[4, 2, 4, 5, 5, 6, 74, 6]"
      ]
     },
     "execution_count": 59,
     "metadata": {},
     "output_type": "execute_result"
    }
   ],
   "source": [
    "third_obj=list_ops()\n",
    "third_obj.l"
   ]
  },
  {
   "cell_type": "markdown",
   "id": "bf5cdb0d",
   "metadata": {},
   "source": [
    "## The `__init__()` Function\n",
    "`__init__()` is a built-in function. The `__init__()` function is used to assign values to object properties, or other operations that are necessary to do when the object is being created. \n",
    "\n",
    "The `__init__()` function is called automatically every time the class is being used to create a new object."
   ]
  },
  {
   "cell_type": "code",
   "execution_count": 63,
   "id": "45641979",
   "metadata": {},
   "outputs": [],
   "source": [
    "class list_ops:\n",
    "    \n",
    "#     a=10\n",
    "#     l=[4,2,4,5,5,6,74,6]\n",
    "    \n",
    "    def __init__(self,l):\n",
    "        self.l=l\n",
    "    \n",
    "    def extractfromindex(self, l, index):\n",
    "        return l[index]\n",
    "    \n",
    "    def extractrangedata(self,l,start,end):\n",
    "        return l[start:end]\n",
    "    \n",
    "    def extracteven(self,l):\n",
    "        l1=[]\n",
    "        for i in l:\n",
    "            if i%2==0:\n",
    "                l1.append(i)\n",
    "        return l1"
   ]
  },
  {
   "cell_type": "code",
   "execution_count": 64,
   "id": "67d21aaa",
   "metadata": {},
   "outputs": [
    {
     "ename": "TypeError",
     "evalue": "list_ops.__init__() missing 1 required positional argument: 'l'",
     "output_type": "error",
     "traceback": [
      "\u001b[1;31m---------------------------------------------------------------------------\u001b[0m",
      "\u001b[1;31mTypeError\u001b[0m                                 Traceback (most recent call last)",
      "Cell \u001b[1;32mIn[64], line 1\u001b[0m\n\u001b[1;32m----> 1\u001b[0m second_obj\u001b[38;5;241m=\u001b[39m\u001b[43mlist_ops\u001b[49m\u001b[43m(\u001b[49m\u001b[43m)\u001b[49m\n",
      "\u001b[1;31mTypeError\u001b[0m: list_ops.__init__() missing 1 required positional argument: 'l'"
     ]
    }
   ],
   "source": [
    "second_obj=list_ops()"
   ]
  },
  {
   "cell_type": "code",
   "execution_count": 67,
   "id": "36265bf9",
   "metadata": {},
   "outputs": [
    {
     "data": {
      "text/plain": [
       "[4, 2, 4, 6, 7, 8]"
      ]
     },
     "execution_count": 67,
     "metadata": {},
     "output_type": "execute_result"
    }
   ],
   "source": [
    "second_obj=list_ops([4,2,4,6,7,8])\n",
    "second_obj.l"
   ]
  },
  {
   "cell_type": "code",
   "execution_count": 66,
   "id": "7fa64fd9",
   "metadata": {},
   "outputs": [
    {
     "ename": "TypeError",
     "evalue": "list_ops.__init__() missing 1 required positional argument: 'l'",
     "output_type": "error",
     "traceback": [
      "\u001b[1;31m---------------------------------------------------------------------------\u001b[0m",
      "\u001b[1;31mTypeError\u001b[0m                                 Traceback (most recent call last)",
      "Cell \u001b[1;32mIn[66], line 1\u001b[0m\n\u001b[1;32m----> 1\u001b[0m third_obj\u001b[38;5;241m=\u001b[39m\u001b[43mlist_ops\u001b[49m\u001b[43m(\u001b[49m\u001b[43m)\u001b[49m\n",
      "\u001b[1;31mTypeError\u001b[0m: list_ops.__init__() missing 1 required positional argument: 'l'"
     ]
    }
   ],
   "source": [
    "third_obj=list_ops()"
   ]
  },
  {
   "cell_type": "code",
   "execution_count": 71,
   "id": "8f5ae8bd",
   "metadata": {},
   "outputs": [],
   "source": [
    "class list_ops:\n",
    "    \n",
    "#     a=10\n",
    "#     l=[4,2,4,5,5,6,74,6]\n",
    "    \n",
    "    def __init__(self,l):\n",
    "        self.l1=l\n",
    "        self.l2=40\n",
    "        self.l3='deeps'\n",
    "        self.l4=(3,2,5,6,7,8)\n",
    "        self.l5={'key':'value'}\n",
    "    \n",
    "    def extractfromindex(self, l, index):\n",
    "        return l[index]\n",
    "    \n",
    "    def extractrangedata(self,l,start,end):\n",
    "        return l[start:end]\n",
    "    \n",
    "    def extracteven(self,l):\n",
    "        l1=[]\n",
    "        for i in l:\n",
    "            if i%2==0:\n",
    "                l1.append(i)\n",
    "        return l1"
   ]
  },
  {
   "cell_type": "code",
   "execution_count": 72,
   "id": "5dbd4d1a",
   "metadata": {},
   "outputs": [
    {
     "ename": "AttributeError",
     "evalue": "'list_ops' object has no attribute 'l'",
     "output_type": "error",
     "traceback": [
      "\u001b[1;31m---------------------------------------------------------------------------\u001b[0m",
      "\u001b[1;31mAttributeError\u001b[0m                            Traceback (most recent call last)",
      "Cell \u001b[1;32mIn[72], line 2\u001b[0m\n\u001b[0;32m      1\u001b[0m second_obj\u001b[38;5;241m=\u001b[39mlist_ops([\u001b[38;5;241m4\u001b[39m,\u001b[38;5;241m2\u001b[39m,\u001b[38;5;241m4\u001b[39m,\u001b[38;5;241m6\u001b[39m,\u001b[38;5;241m7\u001b[39m,\u001b[38;5;241m8\u001b[39m])\n\u001b[1;32m----> 2\u001b[0m \u001b[43msecond_obj\u001b[49m\u001b[38;5;241;43m.\u001b[39;49m\u001b[43ml\u001b[49m\n",
      "\u001b[1;31mAttributeError\u001b[0m: 'list_ops' object has no attribute 'l'"
     ]
    }
   ],
   "source": [
    "second_obj=list_ops([4,2,4,6,7,8])\n",
    "second_obj.l"
   ]
  },
  {
   "cell_type": "code",
   "execution_count": 73,
   "id": "78753430",
   "metadata": {},
   "outputs": [
    {
     "data": {
      "text/plain": [
       "[4, 2, 4, 6, 7, 8]"
      ]
     },
     "execution_count": 73,
     "metadata": {},
     "output_type": "execute_result"
    }
   ],
   "source": [
    "second_obj=list_ops([4,2,4,6,7,8])\n",
    "second_obj.l1"
   ]
  },
  {
   "cell_type": "code",
   "execution_count": 74,
   "id": "bf4c823c",
   "metadata": {},
   "outputs": [
    {
     "data": {
      "text/plain": [
       "40"
      ]
     },
     "execution_count": 74,
     "metadata": {},
     "output_type": "execute_result"
    }
   ],
   "source": [
    "second_obj.l2"
   ]
  },
  {
   "cell_type": "code",
   "execution_count": 75,
   "id": "4fdac3f2",
   "metadata": {},
   "outputs": [],
   "source": [
    "class book:\n",
    "    \n",
    "    def __init__(self, name, title, pageno):\n",
    "        self.name_of_book=name\n",
    "        self.title_of_book=title\n",
    "        self.page_no=pageno\n",
    "        \n",
    "    def extract_detail(self):\n",
    "        print(self.name_of_book, self.title_of_book)\n",
    "        \n",
    "    def print_page_no(self):\n",
    "        print(self.page_no)\n",
    "        "
   ]
  },
  {
   "cell_type": "code",
   "execution_count": 76,
   "id": "358b7539",
   "metadata": {},
   "outputs": [],
   "source": [
    "sudhanshu=book('dsa','practical dsa', 675)\n",
    "ronik=book('data science', 'implementation of data science', 454)\n",
    "deepika=book('big data','invention with big data', 455)"
   ]
  },
  {
   "cell_type": "code",
   "execution_count": 77,
   "id": "c78d90bf",
   "metadata": {},
   "outputs": [
    {
     "name": "stdout",
     "output_type": "stream",
     "text": [
      "dsa practical dsa\n"
     ]
    }
   ],
   "source": [
    "sudhanshu.extract_detail()"
   ]
  },
  {
   "cell_type": "code",
   "execution_count": 78,
   "id": "790bf79c",
   "metadata": {},
   "outputs": [
    {
     "name": "stdout",
     "output_type": "stream",
     "text": [
      "data science implementation of data science\n"
     ]
    }
   ],
   "source": [
    "ronik.extract_detail()"
   ]
  },
  {
   "cell_type": "code",
   "execution_count": 79,
   "id": "b51381c1",
   "metadata": {},
   "outputs": [
    {
     "name": "stdout",
     "output_type": "stream",
     "text": [
      "big data invention with big data\n"
     ]
    }
   ],
   "source": [
    "deepika.extract_detail()"
   ]
  },
  {
   "cell_type": "code",
   "execution_count": 80,
   "id": "6d8dbe67",
   "metadata": {},
   "outputs": [
    {
     "data": {
      "text/plain": [
       "'dsa'"
      ]
     },
     "execution_count": 80,
     "metadata": {},
     "output_type": "execute_result"
    }
   ],
   "source": [
    "sudhanshu.name_of_book"
   ]
  },
  {
   "cell_type": "code",
   "execution_count": 81,
   "id": "ae696ed0",
   "metadata": {},
   "outputs": [],
   "source": [
    "class book:\n",
    "    \n",
    "    def __init__(self):\n",
    "        self.name_of_book='dsa'\n",
    "        self.title_of_book='dsa advance'\n",
    "        self.page_no=453\n",
    "        \n",
    "    def extract_detail(self):\n",
    "        print(self.name_of_book, self.title_of_book)\n",
    "        \n",
    "    def print_page_no(self):\n",
    "        print(self.page_no)\n",
    "        "
   ]
  },
  {
   "cell_type": "code",
   "execution_count": 82,
   "id": "d1d21145",
   "metadata": {},
   "outputs": [],
   "source": [
    "student1=book()"
   ]
  },
  {
   "cell_type": "code",
   "execution_count": 83,
   "id": "0a48f3b9",
   "metadata": {},
   "outputs": [
    {
     "data": {
      "text/plain": [
       "'dsa'"
      ]
     },
     "execution_count": 83,
     "metadata": {},
     "output_type": "execute_result"
    }
   ],
   "source": [
    "student1.name_of_book"
   ]
  },
  {
   "cell_type": "code",
   "execution_count": 84,
   "id": "1662e85e",
   "metadata": {},
   "outputs": [],
   "source": [
    "student2=book()"
   ]
  },
  {
   "cell_type": "code",
   "execution_count": 85,
   "id": "c542a26a",
   "metadata": {},
   "outputs": [
    {
     "data": {
      "text/plain": [
       "'dsa'"
      ]
     },
     "execution_count": 85,
     "metadata": {},
     "output_type": "execute_result"
    }
   ],
   "source": [
    "student2.name_of_book"
   ]
  },
  {
   "cell_type": "code",
   "execution_count": 86,
   "id": "77485a4f",
   "metadata": {},
   "outputs": [],
   "source": [
    "class gmail_ops:\n",
    "    \n",
    "    def __init__(self, userid,password):\n",
    "        self.userid=userid\n",
    "        self.password=password\n",
    "        self.url='http://www.example.com'\n",
    "        \n",
    "    def login(self):\n",
    "        print(\"take userid\", self.userid, \"take password\", self.password, \"hit url\", self.url)\n",
    "        print(\"login\")\n",
    "        \n",
    "    def read_mail(self):\n",
    "        print(\"read mail for\", self.userid, \" \", self.password)\n",
    "        \n",
    "    def reply_mail(self):\n",
    "         print(\"reply mail for\", self.userid, \" \", self.password)\n",
    "        "
   ]
  },
  {
   "cell_type": "code",
   "execution_count": 88,
   "id": "4c625d2b",
   "metadata": {},
   "outputs": [
    {
     "name": "stdout",
     "output_type": "stream",
     "text": [
      "take userid user1 take password user1pass hit url http://www.example.com\n",
      "login\n"
     ]
    }
   ],
   "source": [
    "user1=gmail_ops('user1','user1pass')\n",
    "user1.login()"
   ]
  },
  {
   "cell_type": "code",
   "execution_count": 89,
   "id": "c62b1bdc",
   "metadata": {},
   "outputs": [
    {
     "name": "stdout",
     "output_type": "stream",
     "text": [
      "take userid user2 take password user2pass hit url http://www.example.com\n",
      "login\n"
     ]
    }
   ],
   "source": [
    "user2=gmail_ops('user2','user2pass')\n",
    "user2.login()"
   ]
  },
  {
   "cell_type": "code",
   "execution_count": 90,
   "id": "3f9ca6b9",
   "metadata": {},
   "outputs": [],
   "source": [
    "from functools import reduce\n",
    "class calculator:\n",
    "    \n",
    "    def add(self, *args):\n",
    "        return sum(args)\n",
    "    \n",
    "    def sub(self, *args):\n",
    "        return reduce(lambda a,b:a-b,args)\n",
    "    \n",
    "    def mul(self, *args):\n",
    "        return reduce(lambda a,b:a*b,args)\n",
    "    \n",
    "    def div(self, *args):\n",
    "        return reduce(lambda a,b:a/b,args)"
   ]
  },
  {
   "cell_type": "code",
   "execution_count": 91,
   "id": "e68c9ce3",
   "metadata": {},
   "outputs": [],
   "source": [
    "himanshu=calculator()"
   ]
  },
  {
   "cell_type": "code",
   "execution_count": 93,
   "id": "d55dd88b",
   "metadata": {},
   "outputs": [
    {
     "data": {
      "text/plain": [
       "12"
      ]
     },
     "execution_count": 93,
     "metadata": {},
     "output_type": "execute_result"
    }
   ],
   "source": [
    "himanshu.add(2,6,4)"
   ]
  },
  {
   "cell_type": "code",
   "execution_count": 94,
   "id": "3dfd6651",
   "metadata": {},
   "outputs": [
    {
     "data": {
      "text/plain": [
       "48"
      ]
     },
     "execution_count": 94,
     "metadata": {},
     "output_type": "execute_result"
    }
   ],
   "source": [
    "himanshu.mul(2,6,4)"
   ]
  },
  {
   "cell_type": "code",
   "execution_count": 95,
   "id": "1c7d6c31",
   "metadata": {},
   "outputs": [
    {
     "data": {
      "text/plain": [
       "-8"
      ]
     },
     "execution_count": 95,
     "metadata": {},
     "output_type": "execute_result"
    }
   ],
   "source": [
    "himanshu.sub(2,6,4)"
   ]
  },
  {
   "cell_type": "code",
   "execution_count": 96,
   "id": "14701a8e",
   "metadata": {},
   "outputs": [
    {
     "data": {
      "text/plain": [
       "0.08333333333333333"
      ]
     },
     "execution_count": 96,
     "metadata": {},
     "output_type": "execute_result"
    }
   ],
   "source": [
    "himanshu.div(2,6,4)"
   ]
  },
  {
   "cell_type": "code",
   "execution_count": 97,
   "id": "58342dfa",
   "metadata": {},
   "outputs": [],
   "source": [
    "karan=calculator()"
   ]
  },
  {
   "cell_type": "code",
   "execution_count": 98,
   "id": "34ee0da2",
   "metadata": {},
   "outputs": [
    {
     "data": {
      "text/plain": [
       "19"
      ]
     },
     "execution_count": 98,
     "metadata": {},
     "output_type": "execute_result"
    }
   ],
   "source": [
    "karan.add(4,6,7,2)"
   ]
  },
  {
   "cell_type": "code",
   "execution_count": 99,
   "id": "601024f5",
   "metadata": {},
   "outputs": [],
   "source": [
    "from functools import reduce\n",
    "class calculator:\n",
    "    \n",
    "    def __init__(self,username):\n",
    "        self.username=username\n",
    "    \n",
    "    def add(self, *args):\n",
    "        return self.username, sum(args)\n",
    "    \n",
    "    def sub(self, *args):\n",
    "        return self.username, reduce(lambda a,b:a-b,args)\n",
    "    \n",
    "    def mul(self, *args):\n",
    "        return self.username, reduce(lambda a,b:a*b,args)\n",
    "    \n",
    "    def div(self, *args):\n",
    "        return self.username, reduce(lambda a,b:a/b,args)"
   ]
  },
  {
   "cell_type": "code",
   "execution_count": 100,
   "id": "19718cc0",
   "metadata": {},
   "outputs": [],
   "source": [
    "himanshu=calculator('starhimanshu')"
   ]
  },
  {
   "cell_type": "code",
   "execution_count": 101,
   "id": "adcf5054",
   "metadata": {},
   "outputs": [
    {
     "data": {
      "text/plain": [
       "('starhimanshu', 18)"
      ]
     },
     "execution_count": 101,
     "metadata": {},
     "output_type": "execute_result"
    }
   ],
   "source": [
    "himanshu.add(4,2,5,7)"
   ]
  },
  {
   "cell_type": "code",
   "execution_count": null,
   "id": "f86d1d6a",
   "metadata": {},
   "outputs": [],
   "source": []
  }
 ],
 "metadata": {
  "kernelspec": {
   "display_name": "Python 3 (ipykernel)",
   "language": "python",
   "name": "python3"
  },
  "language_info": {
   "codemirror_mode": {
    "name": "ipython",
    "version": 3
   },
   "file_extension": ".py",
   "mimetype": "text/x-python",
   "name": "python",
   "nbconvert_exporter": "python",
   "pygments_lexer": "ipython3",
   "version": "3.10.4"
  }
 },
 "nbformat": 4,
 "nbformat_minor": 5
}
