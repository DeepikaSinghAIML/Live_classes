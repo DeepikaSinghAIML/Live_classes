{
 "cells": [
  {
   "cell_type": "code",
   "execution_count": 1,
   "id": "2047fd85-f930-492a-91bc-1425cff80999",
   "metadata": {},
   "outputs": [
    {
     "name": "stdout",
     "output_type": "stream",
     "text": [
      "2\n"
     ]
    }
   ],
   "source": [
    "#linear search using recursion\n",
    "\n",
    "def search_rec(arr, sI, data):\n",
    "    if sI>=len(arr):\n",
    "        return -1\n",
    "    if arr[sI]==data:\n",
    "        return sI\n",
    "    else:\n",
    "        return search_rec(arr, sI+1, data)\n",
    "\n",
    "print(search_rec([2,4,8,5,3,1], 0, 8))"
   ]
  },
  {
   "cell_type": "code",
   "execution_count": 3,
   "id": "64f4b8be-60e1-4750-9050-41c5084c027b",
   "metadata": {},
   "outputs": [
    {
     "name": "stdout",
     "output_type": "stream",
     "text": [
      "4\n"
     ]
    }
   ],
   "source": [
    "# binary search using recursion\n",
    "\n",
    "def binarySearch(arr, left, right, num):\n",
    "    if left>right:\n",
    "        return -1\n",
    "    mid=int(left+(right-left)/2)\n",
    "    if arr[mid]==num:\n",
    "        return mid\n",
    "    elif arr[mid]>num:\n",
    "        return binarySearch(arr, left, mid-1, num)\n",
    "    else:\n",
    "        return binarySearch(arr, mid+1,right, num)\n",
    "\n",
    "print(binarySearch([2,4,5,7,8,9], 0, 7, 8))"
   ]
  },
  {
   "cell_type": "code",
   "execution_count": 5,
   "id": "56b8d2ae-bd33-4d87-bca2-40e59657a688",
   "metadata": {},
   "outputs": [
    {
     "name": "stdout",
     "output_type": "stream",
     "text": [
      "[1, 7, 5, 7, 3]\n"
     ]
    }
   ],
   "source": [
    "# reverse array\n",
    "\n",
    "def reverseArr(arr):\n",
    "    i=0\n",
    "    j=len(arr)-1\n",
    "    while(i<j):\n",
    "        arr[i], arr[j]=arr[j], arr[i]\n",
    "        i+=1\n",
    "        j-=1\n",
    "\n",
    "arr=[3,7,5,7,1]\n",
    "reverseArr(arr)\n",
    "print(arr)"
   ]
  },
  {
   "cell_type": "code",
   "execution_count": 2,
   "id": "f3d5f68f-e459-47ce-84ff-a7bd4c0e02ea",
   "metadata": {},
   "outputs": [
    {
     "name": "stdout",
     "output_type": "stream",
     "text": [
      "[5, 4, 3, 2, 1]\n"
     ]
    }
   ],
   "source": [
    "# reverse array using recursion\n",
    "\n",
    "def reverse_rec(arr, sI, eI):\n",
    "    if sI>=eI:\n",
    "        return\n",
    "    arr[sI], arr[eI]=arr[eI], arr[sI]\n",
    "    reverse_rec(arr, sI+1, eI-1)\n",
    "\n",
    "arr=[1,2,3,4,5]\n",
    "reverse_rec(arr, 0, len(arr)-1)\n",
    "print(arr)"
   ]
  },
  {
   "cell_type": "code",
   "execution_count": 3,
   "id": "c0faa5a4-b7ec-4a93-8b09-9f114723d02e",
   "metadata": {},
   "outputs": [
    {
     "name": "stdout",
     "output_type": "stream",
     "text": [
      "[5, 1, 2, 3, 4]\n"
     ]
    }
   ],
   "source": [
    "def rotate_k_times(arr, k):\n",
    "    k=k%len(arr)\n",
    "    reverse_rec(arr, 0, len(arr)-1)\n",
    "\n",
    "    reverse_rec(arr, 0, k-1)\n",
    "\n",
    "    reverse_rec(arr, k, len(arr)-1)\n",
    "\n",
    "arr=[1,2,3,4,5]\n",
    "rotate_k_times(arr, 1)\n",
    "print(arr)"
   ]
  },
  {
   "cell_type": "code",
   "execution_count": 1,
   "id": "246f0f2e-45a6-41cb-a42c-1a28e91e07d3",
   "metadata": {},
   "outputs": [
    {
     "name": "stdout",
     "output_type": "stream",
     "text": [
      "True\n",
      "False\n",
      "True\n"
     ]
    }
   ],
   "source": [
    "def isPallindrome(arr):\n",
    "    left=0\n",
    "    right=len(arr)-1\n",
    "    while(left<right):\n",
    "        if arr[left]!=arr[right]:\n",
    "            return False\n",
    "        arr[left], arr[right]=arr[right], arr[left]\n",
    "        left+=1\n",
    "        right-=1\n",
    "    return True\n",
    "\n",
    "arr=[1,2,3,3,2,1]\n",
    "arr1=[2,4,3,0]\n",
    "arr2=[1]\n",
    "\n",
    "print(isPallindrome(arr))\n",
    "print(isPallindrome(arr1))\n",
    "print(isPallindrome(arr2))"
   ]
  },
  {
   "cell_type": "code",
   "execution_count": 3,
   "id": "8a677d69-de42-41cd-b09e-e6572fa78120",
   "metadata": {},
   "outputs": [
    {
     "name": "stdout",
     "output_type": "stream",
     "text": [
      "[5, 1, 2, 3, 4]\n",
      "[4, 5, 1, 2, 3]\n",
      "[3, 4, 5, 1, 2]\n"
     ]
    }
   ],
   "source": [
    "#amazon interview question\n",
    "#rotate anti-clockwise\n",
    "\n",
    "def rotate(arr,k):\n",
    "    k=k%len(arr)\n",
    "    for i in range(k):\n",
    "        prev=arr[0]\n",
    "        curr=arr[0]\n",
    "        arr[0]=arr[len(arr)-1]\n",
    "        j=1\n",
    "        while(j<len(arr)):\n",
    "            curr=arr[j]\n",
    "            arr[j]=prev\n",
    "            prev=curr\n",
    "            j+=1\n",
    "\n",
    "arr1=[1,2,3,4,5]\n",
    "arr2=[1,2,3,4,5]\n",
    "arr3=[1,2,3,4,5]\n",
    "\n",
    "rotate(arr1,1)\n",
    "print(arr1)\n",
    "rotate(arr2,2)\n",
    "print(arr2)\n",
    "rotate(arr3,3)\n",
    "print(arr3)\n"
   ]
  }
 ],
 "metadata": {
  "kernelspec": {
   "display_name": "Python 3 (ipykernel)",
   "language": "python",
   "name": "python3"
  },
  "language_info": {
   "codemirror_mode": {
    "name": "ipython",
    "version": 3
   },
   "file_extension": ".py",
   "mimetype": "text/x-python",
   "name": "python",
   "nbconvert_exporter": "python",
   "pygments_lexer": "ipython3",
   "version": "3.10.13"
  }
 },
 "nbformat": 4,
 "nbformat_minor": 5
}
