{
 "cells": [
  {
   "cell_type": "code",
   "execution_count": 1,
   "id": "80b60245-4ca9-4137-a219-b3e27a32c7f0",
   "metadata": {},
   "outputs": [],
   "source": [
    "str=\"python\""
   ]
  },
  {
   "cell_type": "code",
   "execution_count": 2,
   "id": "9b86d014-3ba9-40ec-aa92-ce8d3c54a362",
   "metadata": {},
   "outputs": [
    {
     "name": "stdout",
     "output_type": "stream",
     "text": [
      "p\n"
     ]
    }
   ],
   "source": [
    "print(str[0])"
   ]
  },
  {
   "cell_type": "code",
   "execution_count": 3,
   "id": "bd420ac2-d860-46da-9848-37a910a1c991",
   "metadata": {},
   "outputs": [
    {
     "name": "stdout",
     "output_type": "stream",
     "text": [
      "n\n"
     ]
    }
   ],
   "source": [
    "print(str[-1])"
   ]
  },
  {
   "cell_type": "code",
   "execution_count": 4,
   "id": "20d43d9a-5e6d-4513-bd58-db104edad72f",
   "metadata": {},
   "outputs": [
    {
     "ename": "IndexError",
     "evalue": "string index out of range",
     "output_type": "error",
     "traceback": [
      "\u001b[1;31m---------------------------------------------------------------------------\u001b[0m",
      "\u001b[1;31mIndexError\u001b[0m                                Traceback (most recent call last)",
      "Cell \u001b[1;32mIn[4], line 1\u001b[0m\n\u001b[1;32m----> 1\u001b[0m \u001b[38;5;28mprint\u001b[39m(\u001b[38;5;28;43mstr\u001b[39;49m\u001b[43m[\u001b[49m\u001b[38;5;241;43m10\u001b[39;49m\u001b[43m]\u001b[49m)\n",
      "\u001b[1;31mIndexError\u001b[0m: string index out of range"
     ]
    }
   ],
   "source": [
    "print(str[10])"
   ]
  },
  {
   "cell_type": "code",
   "execution_count": 5,
   "id": "a92b9c51-ca5a-4e6b-bbd9-5a94427ef700",
   "metadata": {},
   "outputs": [
    {
     "name": "stdout",
     "output_type": "stream",
     "text": [
      "th\n"
     ]
    }
   ],
   "source": [
    "print(str[2:4])"
   ]
  },
  {
   "cell_type": "code",
   "execution_count": 6,
   "id": "e28e2112-a408-4d81-b512-9a76d8bbc902",
   "metadata": {},
   "outputs": [
    {
     "name": "stdout",
     "output_type": "stream",
     "text": [
      "noht\n"
     ]
    }
   ],
   "source": [
    "print(str[-1:1:-1])"
   ]
  },
  {
   "cell_type": "code",
   "execution_count": 7,
   "id": "4e303309-a857-49a2-a220-5ce4a7b4538a",
   "metadata": {},
   "outputs": [
    {
     "name": "stdout",
     "output_type": "stream",
     "text": [
      "p\n",
      "y\n",
      "t\n",
      "h\n",
      "o\n",
      "n\n"
     ]
    }
   ],
   "source": [
    "for c in str:\n",
    "    print(c)"
   ]
  },
  {
   "cell_type": "code",
   "execution_count": 8,
   "id": "6b16fd81-4ecb-4fee-806a-5d00c1333fde",
   "metadata": {},
   "outputs": [
    {
     "name": "stdout",
     "output_type": "stream",
     "text": [
      "['h', 'e', 'l', 'l', 'o', ' ', 's', 't', 'u', 'd', 'e', 'n', 't', 's']\n",
      "['h', 'e', 'l', 'l', 'o', ' ', 's', 't', 'u', 'd', 'e', 'n', 't', 's']\n"
     ]
    }
   ],
   "source": [
    "str1=\"hello students\"\n",
    "str_arr=[char for char in str1]\n",
    "print(str_arr)\n",
    "\n",
    "str_list=list(str1)\n",
    "print(str_list)"
   ]
  },
  {
   "cell_type": "code",
   "execution_count": 9,
   "id": "4e995d60-f539-42a1-b623-72cea8d04065",
   "metadata": {},
   "outputs": [
    {
     "name": "stdout",
     "output_type": "stream",
     "text": [
      "['h', 'e', 'l', 'l', 'o']\n",
      "hello\n"
     ]
    }
   ],
   "source": [
    "char_list=['h','e','l','l','o']\n",
    "print(char_list)\n",
    "\n",
    "str2=\"\".join(char_list)\n",
    "print(str2)"
   ]
  },
  {
   "cell_type": "code",
   "execution_count": 10,
   "id": "0154ddc0-d010-4f25-ac08-bc8783cbc813",
   "metadata": {},
   "outputs": [
    {
     "name": "stdout",
     "output_type": "stream",
     "text": [
      "ABC\n",
      "ACB\n",
      "BAC\n",
      "BCA\n",
      "CBA\n",
      "CAB\n"
     ]
    }
   ],
   "source": [
    "#print all the permutation of the given string\n",
    "\n",
    "def permute(char_arr, left, right):\n",
    "    if left==right:\n",
    "        print(\"\".join(char_arr))\n",
    "        return\n",
    "    else:\n",
    "        for i in range(left, right+1):\n",
    "            char_arr[left], char_arr[i]= char_arr[i], char_arr[left]\n",
    "            permute(char_arr, left+1, right)\n",
    "            char_arr[left], char_arr[i]= char_arr[i], char_arr[left]\n",
    "\n",
    "permute(list(\"ABC\"), 0, 2)"
   ]
  },
  {
   "cell_type": "code",
   "execution_count": 11,
   "id": "69c4bccd-e007-4b0d-a5f3-0289b9bf7c7d",
   "metadata": {},
   "outputs": [
    {
     "name": "stdout",
     "output_type": "stream",
     "text": [
      "[0, 0, 0, 0, 0, 1, 1, 1, 1, 1]\n"
     ]
    }
   ],
   "source": [
    "# Sort all 0 to left and 1 to right\n",
    "\n",
    "def sort_0_1(arr):\n",
    "    left_pointer=0\n",
    "    right_pointer=len(arr)-1\n",
    "\n",
    "    while left_pointer<right_pointer:\n",
    "        while arr[left_pointer]==0 and left_pointer<right_pointer:\n",
    "            left_pointer+=1\n",
    "\n",
    "        while arr[right_pointer]==1 and left_pointer<right_pointer:\n",
    "            right_pointer-=1\n",
    "\n",
    "        if left_pointer< right_pointer:\n",
    "            arr[left_pointer], arr[right_pointer]= arr[right_pointer], arr[left_pointer]\n",
    "            left_pointer+=1\n",
    "            right_pointer-=1\n",
    "\n",
    "arr=[0,1,0,1,1,0,0,0,1,1]\n",
    "sort_0_1(arr)\n",
    "print(arr)"
   ]
  },
  {
   "cell_type": "code",
   "execution_count": 12,
   "id": "a135f98b-edce-4a59-a9f2-b0a1318a53c4",
   "metadata": {},
   "outputs": [
    {
     "name": "stdout",
     "output_type": "stream",
     "text": [
      "5\n"
     ]
    }
   ],
   "source": [
    "#count of rotations using binary search\n",
    "\n",
    "def countOfRotations(arr):\n",
    "    start=0\n",
    "    n=len(arr)\n",
    "    end=n-1\n",
    "\n",
    "    while(start<=end):\n",
    "        mid=int(start+(end-start)/2)\n",
    "        prev=(mid-1+n)%n\n",
    "        next=(mid+1)%n\n",
    "\n",
    "        if arr[mid]<arr[prev] and arr[mid]<arr[next]:\n",
    "            return mid\n",
    "        elif arr[mid]<arr[start]:\n",
    "            end=mid-1\n",
    "        else:\n",
    "            start=mid+1\n",
    "\n",
    "print(countOfRotations([3,6,12,15,18,2]))"
   ]
  },
  {
   "cell_type": "code",
   "execution_count": null,
   "id": "5e4bd053-0587-4ccd-bf3e-98ca177a1406",
   "metadata": {},
   "outputs": [],
   "source": []
  }
 ],
 "metadata": {
  "kernelspec": {
   "display_name": "Python 3 (ipykernel)",
   "language": "python",
   "name": "python3"
  },
  "language_info": {
   "codemirror_mode": {
    "name": "ipython",
    "version": 3
   },
   "file_extension": ".py",
   "mimetype": "text/x-python",
   "name": "python",
   "nbconvert_exporter": "python",
   "pygments_lexer": "ipython3",
   "version": "3.10.13"
  }
 },
 "nbformat": 4,
 "nbformat_minor": 5
}
