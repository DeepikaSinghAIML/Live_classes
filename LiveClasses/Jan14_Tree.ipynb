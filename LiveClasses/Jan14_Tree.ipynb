{
 "cells": [
  {
   "cell_type": "code",
   "execution_count": 5,
   "id": "3418ce57-5828-4227-8919-04dde4621c3a",
   "metadata": {},
   "outputs": [],
   "source": [
    "class TreeNode:\n",
    "    def __init__(self, data):\n",
    "        self.data = data\n",
    "        self.left=None\n",
    "        self.right=None\n",
    "\n",
    "    def setData(self, data):\n",
    "        self.data= data\n",
    "\n",
    "    def getData(self):\n",
    "        return self.data\n",
    "\n",
    "    def setLeft(self, node):\n",
    "        self.left= node\n",
    "    def getLeft(self):\n",
    "        return self.left\n",
    "\n",
    "    def setRight(self, node):\n",
    "        self.right= node\n",
    "    def getRight(self):\n",
    "        return self.right\n",
    "        "
   ]
  },
  {
   "cell_type": "code",
   "execution_count": 6,
   "id": "36ff8a86-ecc7-4824-9de3-1fa943971f4d",
   "metadata": {},
   "outputs": [],
   "source": [
    "root= TreeNode(1)\n",
    "\n",
    "leftR= TreeNode(2)\n",
    "leftR.setLeft(TreeNode(3))\n",
    "leftR.setRight(TreeNode(4))\n",
    "root.setLeft(leftR)\n",
    "\n",
    "rightR= TreeNode(5)\n",
    "rightR.setLeft(TreeNode(6))\n",
    "rightR.setRight(TreeNode(7))\n",
    "root.setRight(rightR)\n"
   ]
  },
  {
   "cell_type": "code",
   "execution_count": 7,
   "id": "de87a3f5-982d-481e-a51a-2a177a03ef4c",
   "metadata": {},
   "outputs": [],
   "source": [
    "def preOrder(root):\n",
    "    if not root:\n",
    "        return\n",
    "    print(root.getData(), end=\"->\")\n",
    "    preOrder(root.getLeft())\n",
    "    preOrder(root.getRight())"
   ]
  },
  {
   "cell_type": "code",
   "execution_count": 8,
   "id": "c05db5c4-e1ab-48d8-9bd0-9b283eb6e3b8",
   "metadata": {},
   "outputs": [
    {
     "name": "stdout",
     "output_type": "stream",
     "text": [
      "1->2->3->4->5->6->7->"
     ]
    }
   ],
   "source": [
    "preOrder(root)"
   ]
  },
  {
   "cell_type": "code",
   "execution_count": 11,
   "id": "a65be7f0-c177-4edb-b2d5-1441fdd44758",
   "metadata": {},
   "outputs": [],
   "source": [
    "def inOrder(root):\n",
    "    if not root:\n",
    "        return \n",
    "    inOrder(root.getLeft())\n",
    "    print(root.getData(), end=\"->\")\n",
    "    inOrder(root.getRight())\n",
    "    "
   ]
  },
  {
   "cell_type": "code",
   "execution_count": 12,
   "id": "00776f69-d9d9-450e-9713-57be950df4fd",
   "metadata": {},
   "outputs": [
    {
     "name": "stdout",
     "output_type": "stream",
     "text": [
      "3->2->4->1->6->5->7->"
     ]
    }
   ],
   "source": [
    "inOrder(root)"
   ]
  },
  {
   "cell_type": "code",
   "execution_count": 13,
   "id": "1462ef58-c2d5-45fc-9e6f-1e90ae5a2ae1",
   "metadata": {},
   "outputs": [],
   "source": [
    "def postOrder(root):\n",
    "    if not root:\n",
    "        return \n",
    "    postOrder(root.getLeft())\n",
    "    postOrder(root.getRight())\n",
    "    print(root.getData(), end=\"->\")\n",
    "    "
   ]
  },
  {
   "cell_type": "code",
   "execution_count": 14,
   "id": "2db858a8-fd02-4a75-906a-7b872d52e096",
   "metadata": {},
   "outputs": [
    {
     "name": "stdout",
     "output_type": "stream",
     "text": [
      "3->4->2->6->7->5->1->"
     ]
    }
   ],
   "source": [
    "postOrder(root)"
   ]
  },
  {
   "cell_type": "code",
   "execution_count": 18,
   "id": "7c6099b2-15fa-458c-9ff9-5e1dedbe5dd5",
   "metadata": {},
   "outputs": [],
   "source": [
    "class Node:\n",
    "    def __init__(self,data,next=None):\n",
    "        self.data=data\n",
    "        self.next=next\n",
    "\n",
    "    def getData(self):\n",
    "        return self.data\n",
    "\n",
    "    def setData(self, data):\n",
    "        self.data=data\n",
    "\n",
    "    def setNext(self, next):\n",
    "        self.next=next\n",
    "\n",
    "    def getNext(self):\n",
    "        return self.next"
   ]
  },
  {
   "cell_type": "code",
   "execution_count": 19,
   "id": "6a32c121-b066-4121-8a8e-ac5b22aec00c",
   "metadata": {},
   "outputs": [],
   "source": [
    "class QueueLL:\n",
    "    def __init__(self):\n",
    "        self.head=None\n",
    "        self.tail=None\n",
    "        self.size=0\n",
    "\n",
    "    def isEmpty(self):\n",
    "        return self.head== None\n",
    "\n",
    "    def enQueue(self, data):\n",
    "        node=Node(data)\n",
    "        if self.isEmpty():\n",
    "            self.head=node\n",
    "            self.tail=node\n",
    "        else:\n",
    "            self.tail.setNext(node)\n",
    "            self.tail=self.tail.getNext()\n",
    "        self.size+=1\n",
    "\n",
    "    def deQueue(self):\n",
    "        if self.isEmpty():\n",
    "            print(\"Queue undeflow\")\n",
    "            return\n",
    "        data=self.head.getData()\n",
    "        if(self.head==self.tail):\n",
    "            self.head=None\n",
    "            self.tail=None\n",
    "        else:\n",
    "            self.head=self.head.getNext()\n",
    "        self.size-=1\n",
    "        return data\n",
    "\n",
    "    def traverse(self):\n",
    "        temp=self.head\n",
    "        while(temp):\n",
    "            print(temp.getData(), end=\"->\")\n",
    "            temp=temp.getNext()\n",
    "        print()\n",
    "            "
   ]
  },
  {
   "cell_type": "code",
   "execution_count": 20,
   "id": "5b2b7dd2-2ad4-4e59-ad57-9cee72868486",
   "metadata": {},
   "outputs": [],
   "source": [
    "def levelOrder(root):\n",
    "    if not root:\n",
    "        return\n",
    "    q=QueueLL()\n",
    "    q.enQueue(root)\n",
    "    while not q.isEmpty():\n",
    "        temp=q.deQueue()\n",
    "        print(temp.getData(), end=\"->\")\n",
    "        if temp.getLeft():\n",
    "            q.enQueue(temp.getLeft())\n",
    "        if temp.getRight():\n",
    "            q.enQueue(temp.getRight())"
   ]
  },
  {
   "cell_type": "code",
   "execution_count": 21,
   "id": "8a967217-437d-4f8c-8477-d0952f9baa39",
   "metadata": {},
   "outputs": [
    {
     "name": "stdout",
     "output_type": "stream",
     "text": [
      "1->2->5->3->4->6->7->"
     ]
    }
   ],
   "source": [
    "levelOrder(root)"
   ]
  },
  {
   "cell_type": "code",
   "execution_count": 22,
   "id": "5c0f7e41-10af-4a93-8977-afe0bec25d15",
   "metadata": {},
   "outputs": [],
   "source": [
    "def maximum(a,b,c):\n",
    "    if a>=b:\n",
    "        if a>=c:\n",
    "            return a\n",
    "        else:\n",
    "            return c\n",
    "    else:\n",
    "        if b>=c:\n",
    "            return b\n",
    "        else:\n",
    "            return c"
   ]
  },
  {
   "cell_type": "code",
   "execution_count": 23,
   "id": "c03666a7-755a-4660-a604-89ba414c1130",
   "metadata": {},
   "outputs": [],
   "source": [
    "def max(root):\n",
    "    if not root:\n",
    "        return float('-inf')\n",
    "    max_left=max(root.getLeft())\n",
    "    max_right=max(root.getRight())\n",
    "    return maximum(max_left, max_right, root.getData())"
   ]
  },
  {
   "cell_type": "code",
   "execution_count": 24,
   "id": "dd51e2c6-6951-45fe-a1b6-4cc658d6cb04",
   "metadata": {},
   "outputs": [
    {
     "data": {
      "text/plain": [
       "7"
      ]
     },
     "execution_count": 24,
     "metadata": {},
     "output_type": "execute_result"
    }
   ],
   "source": [
    "max(root)"
   ]
  },
  {
   "cell_type": "code",
   "execution_count": null,
   "id": "9bf29627-2a82-4275-a0b3-ff98e1714ec1",
   "metadata": {},
   "outputs": [],
   "source": []
  }
 ],
 "metadata": {
  "kernelspec": {
   "display_name": "Python 3 (ipykernel)",
   "language": "python",
   "name": "python3"
  },
  "language_info": {
   "codemirror_mode": {
    "name": "ipython",
    "version": 3
   },
   "file_extension": ".py",
   "mimetype": "text/x-python",
   "name": "python",
   "nbconvert_exporter": "python",
   "pygments_lexer": "ipython3",
   "version": "3.12.4"
  }
 },
 "nbformat": 4,
 "nbformat_minor": 5
}
