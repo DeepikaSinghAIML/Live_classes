{
 "cells": [
  {
   "cell_type": "markdown",
   "id": "cc346982",
   "metadata": {},
   "source": [
    "## Polymorphism\n",
    "The word \"polymorphism\" means \"many forms\", and in programming it refers to methods/functions/operators with the same name that can be executed on many objects or classes.\n",
    "\n"
   ]
  },
  {
   "cell_type": "code",
   "execution_count": 1,
   "id": "6138ca04",
   "metadata": {},
   "outputs": [],
   "source": [
    "def test(a,b):\n",
    "    return a+b"
   ]
  },
  {
   "cell_type": "code",
   "execution_count": 2,
   "id": "ff34f18d",
   "metadata": {},
   "outputs": [
    {
     "data": {
      "text/plain": [
       "7"
      ]
     },
     "execution_count": 2,
     "metadata": {},
     "output_type": "execute_result"
    }
   ],
   "source": [
    "test(3,4) #addition"
   ]
  },
  {
   "cell_type": "code",
   "execution_count": 4,
   "id": "53970948",
   "metadata": {},
   "outputs": [
    {
     "data": {
      "text/plain": [
       "'deepssingh'"
      ]
     },
     "execution_count": 4,
     "metadata": {},
     "output_type": "execute_result"
    }
   ],
   "source": [
    "test(\"deeps\",\"singh\") #concatenation"
   ]
  },
  {
   "cell_type": "markdown",
   "id": "d1aeb431",
   "metadata": {},
   "source": [
    "#### Method Overriding\n",
    "Method overriding is an ability of any object-oriented programming language that allows a subclass or child class to provide a specific implementation of a method that is already provided by one of its super-classes or parent classes. When a method in a subclass has the same name, same parameters or signature and same return type(or sub-type) as a method in its super-class, then the method in the subclass is said to override the method in the super-class."
   ]
  },
  {
   "cell_type": "code",
   "execution_count": null,
   "id": "abec8436",
   "metadata": {},
   "outputs": [],
   "source": [
    "# polymorphism using overriding"
   ]
  },
  {
   "cell_type": "code",
   "execution_count": 2,
   "id": "420d531a",
   "metadata": {},
   "outputs": [
    {
     "name": "stdout",
     "output_type": "stream",
     "text": [
      "this will give me details about data science student\n",
      "this will give me details about big data student\n"
     ]
    }
   ],
   "source": [
    "class pwskills:\n",
    "    def student(self):\n",
    "        pass\n",
    "    \n",
    "class datascience(pwskills):\n",
    "    def student(self):\n",
    "        print(\"this will give me details about data science student\")\n",
    "        \n",
    "class bigdata(pwskills):\n",
    "    def student(self):\n",
    "        print(\"this will give me details about big data student\")\n",
    "        \n",
    "yash=datascience()\n",
    "kartik=bigdata()\n",
    "yash.student()\n",
    "kartik.student()"
   ]
  },
  {
   "cell_type": "code",
   "execution_count": 3,
   "id": "9f2a63a1",
   "metadata": {},
   "outputs": [],
   "source": [
    "pw=pwskills()\n",
    "pw.student()"
   ]
  },
  {
   "cell_type": "markdown",
   "id": "3619c78c",
   "metadata": {},
   "source": [
    "#### Method Overloading\n",
    "Two or more methods have the same name but different numbers of parameters or different types of parameters, or both. These methods are called overloaded methods and this is called method overloading.\n",
    "\n",
    "Python does not support method overloading by default. But there are different ways to achieve method overloading in Python. \n",
    "The problem with method overloading in Python is that we may overload the methods but can only use the latest defined method. "
   ]
  },
  {
   "cell_type": "markdown",
   "id": "80f03669",
   "metadata": {},
   "source": [
    "class bigdata:\n",
    "    def __init__(self, number_of_class, number_of_student):\n",
    "        self.number_of_class=number_of_class\n",
    "        self.number_of_student=number_of_student\n",
    "        \n",
    "    def __add__(self, other):\n",
    "        return bigdata(self.number_of_class+other.number_of_class, self.number_of_student+other.number_of_student)\n",
    "    \n",
    "c1=bigdata(1,10)\n",
    "c2=bigdata(2,12)\n",
    "result=c1+c2\n",
    "print(result.number_of_class, result.number_of_student)\n",
    "        "
   ]
  },
  {
   "cell_type": "code",
   "execution_count": 6,
   "id": "93b2f040",
   "metadata": {},
   "outputs": [
    {
     "name": "stdout",
     "output_type": "stream",
     "text": [
      "<__main__.bigdata object at 0x000001F0432617E0>\n"
     ]
    }
   ],
   "source": [
    "print(c1)"
   ]
  },
  {
   "cell_type": "code",
   "execution_count": 7,
   "id": "d18e0997",
   "metadata": {},
   "outputs": [
    {
     "name": "stdout",
     "output_type": "stream",
     "text": [
      "<__main__.bigdata object at 0x000001F0432611E0>\n"
     ]
    }
   ],
   "source": [
    "print(c2)"
   ]
  },
  {
   "cell_type": "code",
   "execution_count": 8,
   "id": "a942e32e",
   "metadata": {},
   "outputs": [
    {
     "name": "stdout",
     "output_type": "stream",
     "text": [
      "<__main__.bigdata object at 0x000001F043261480>\n"
     ]
    }
   ],
   "source": [
    "print(result)"
   ]
  },
  {
   "cell_type": "code",
   "execution_count": 9,
   "id": "a6c64fab",
   "metadata": {},
   "outputs": [],
   "source": [
    "class datascience:\n",
    "    def student(self):\n",
    "        print(\"this will give me details about data science student\")\n",
    "        "
   ]
  },
  {
   "cell_type": "code",
   "execution_count": 10,
   "id": "a32cf5b1",
   "metadata": {},
   "outputs": [
    {
     "ename": "TypeError",
     "evalue": "unsupported operand type(s) for +: 'datascience' and 'datascience'",
     "output_type": "error",
     "traceback": [
      "\u001b[1;31m---------------------------------------------------------------------------\u001b[0m",
      "\u001b[1;31mTypeError\u001b[0m                                 Traceback (most recent call last)",
      "Cell \u001b[1;32mIn[10], line 4\u001b[0m\n\u001b[0;32m      2\u001b[0m o2\u001b[38;5;241m=\u001b[39mdatascience()\n\u001b[0;32m      3\u001b[0m o3\u001b[38;5;241m=\u001b[39mdatascience()\n\u001b[1;32m----> 4\u001b[0m r\u001b[38;5;241m=\u001b[39m\u001b[43mo1\u001b[49m\u001b[38;5;241;43m+\u001b[39;49m\u001b[43mo2\u001b[49m\u001b[38;5;241m+\u001b[39mo3\n",
      "\u001b[1;31mTypeError\u001b[0m: unsupported operand type(s) for +: 'datascience' and 'datascience'"
     ]
    }
   ],
   "source": [
    "o1=datascience()\n",
    "o2=datascience()\n",
    "o3=datascience()\n",
    "r=o1+o2+o3"
   ]
  },
  {
   "cell_type": "code",
   "execution_count": 11,
   "id": "2a80c463",
   "metadata": {},
   "outputs": [],
   "source": [
    "class datascience:\n",
    "    def student(self):\n",
    "        print(\"this will give me details about data science student\")\n",
    "        \n",
    "class bigdata:\n",
    "    def student(self):\n",
    "        print(\"this will give me details about big data student\")\n",
    "        \n",
    "def output_class(class_obj):\n",
    "    return class_obj.student()"
   ]
  },
  {
   "cell_type": "code",
   "execution_count": 12,
   "id": "ecf091fe",
   "metadata": {},
   "outputs": [],
   "source": [
    "sesha=datascience()\n",
    "sashi=bigdata()"
   ]
  },
  {
   "cell_type": "code",
   "execution_count": 13,
   "id": "224be7b9",
   "metadata": {},
   "outputs": [
    {
     "name": "stdout",
     "output_type": "stream",
     "text": [
      "this will give me details about data science student\n"
     ]
    }
   ],
   "source": [
    "output_class(sesha)"
   ]
  },
  {
   "cell_type": "code",
   "execution_count": 14,
   "id": "c4e42e79",
   "metadata": {},
   "outputs": [
    {
     "name": "stdout",
     "output_type": "stream",
     "text": [
      "this will give me details about big data student\n"
     ]
    }
   ],
   "source": [
    "output_class(sashi)"
   ]
  },
  {
   "cell_type": "code",
   "execution_count": 15,
   "id": "07d27a63",
   "metadata": {},
   "outputs": [],
   "source": [
    "class pwskills:\n",
    "    def student(self):\n",
    "        return \"this ia a pwskills student\"\n",
    "    \n",
    "class datascience(pwskills):\n",
    "    def student(self):\n",
    "        print(\"this will give me details about data science student\")"
   ]
  },
  {
   "cell_type": "code",
   "execution_count": 16,
   "id": "61adf439",
   "metadata": {},
   "outputs": [
    {
     "name": "stdout",
     "output_type": "stream",
     "text": [
      "this will give me details about data science student\n"
     ]
    }
   ],
   "source": [
    "rahul=datascience()\n",
    "rahul.student()"
   ]
  },
  {
   "cell_type": "markdown",
   "id": "41ad6240",
   "metadata": {},
   "source": [
    "### Encapsulation\n",
    "Encapsulation is one of the fundamental concepts in object-oriented programming (OOP). It describes the idea of wrapping data and the methods that work on data within one unit. This puts restrictions on accessing variables and methods directly and can prevent the accidental modification of data."
   ]
  },
  {
   "cell_type": "code",
   "execution_count": 17,
   "id": "f6e6e284",
   "metadata": {},
   "outputs": [],
   "source": [
    "class test:\n",
    "    def __init__(self):\n",
    "        self.x=\"deeps\""
   ]
  },
  {
   "cell_type": "code",
   "execution_count": 18,
   "id": "95ab0a52",
   "metadata": {},
   "outputs": [],
   "source": [
    "t1=test()"
   ]
  },
  {
   "cell_type": "code",
   "execution_count": 19,
   "id": "04fb0eed",
   "metadata": {},
   "outputs": [
    {
     "data": {
      "text/plain": [
       "'deeps'"
      ]
     },
     "execution_count": 19,
     "metadata": {},
     "output_type": "execute_result"
    }
   ],
   "source": [
    "t1.x"
   ]
  },
  {
   "cell_type": "code",
   "execution_count": 20,
   "id": "4d1cc0a7",
   "metadata": {},
   "outputs": [],
   "source": [
    "class test:\n",
    "    def __init__(self):\n",
    "        self.__x=\"deeps\""
   ]
  },
  {
   "cell_type": "code",
   "execution_count": 21,
   "id": "28bda418",
   "metadata": {},
   "outputs": [],
   "source": [
    "t1=test()"
   ]
  },
  {
   "cell_type": "code",
   "execution_count": 23,
   "id": "18f1090e",
   "metadata": {},
   "outputs": [
    {
     "ename": "AttributeError",
     "evalue": "'test' object has no attribute '__x'",
     "output_type": "error",
     "traceback": [
      "\u001b[1;31m---------------------------------------------------------------------------\u001b[0m",
      "\u001b[1;31mAttributeError\u001b[0m                            Traceback (most recent call last)",
      "Cell \u001b[1;32mIn[23], line 1\u001b[0m\n\u001b[1;32m----> 1\u001b[0m \u001b[43mt1\u001b[49m\u001b[38;5;241;43m.\u001b[39;49m\u001b[43m__x\u001b[49m\n",
      "\u001b[1;31mAttributeError\u001b[0m: 'test' object has no attribute '__x'"
     ]
    }
   ],
   "source": [
    "t1.__x"
   ]
  },
  {
   "cell_type": "code",
   "execution_count": 24,
   "id": "16b873c4",
   "metadata": {},
   "outputs": [
    {
     "data": {
      "text/plain": [
       "'deeps'"
      ]
     },
     "execution_count": 24,
     "metadata": {},
     "output_type": "execute_result"
    }
   ],
   "source": [
    "t1._test__x"
   ]
  },
  {
   "cell_type": "code",
   "execution_count": 25,
   "id": "33f99275",
   "metadata": {},
   "outputs": [],
   "source": [
    "class test:\n",
    "    def __init__(self):\n",
    "        self.__x=\"deeps\"\n",
    "    \n",
    "    def test_meth(self):\n",
    "        return \"this is just a test\""
   ]
  },
  {
   "cell_type": "code",
   "execution_count": 26,
   "id": "a3e32a7c",
   "metadata": {},
   "outputs": [],
   "source": [
    "t1=test()"
   ]
  },
  {
   "cell_type": "code",
   "execution_count": 28,
   "id": "3a1c1f19",
   "metadata": {},
   "outputs": [
    {
     "data": {
      "text/plain": [
       "'this is just a test'"
      ]
     },
     "execution_count": 28,
     "metadata": {},
     "output_type": "execute_result"
    }
   ],
   "source": [
    "t1.test_meth()"
   ]
  },
  {
   "cell_type": "code",
   "execution_count": 42,
   "id": "e805b05a",
   "metadata": {},
   "outputs": [],
   "source": [
    "class test:\n",
    "    def __init__(self):\n",
    "        self.__x=\"deeps\"\n",
    "        self.y=\"singh\"\n",
    "    \n",
    "    def __test_meth(self):\n",
    "        return \"this is just a test\"\n",
    "    \n",
    "    def access_var(self):\n",
    "        return self.__x\n",
    "    \n",
    "    def update_var(self, data):\n",
    "        self.__x=data"
   ]
  },
  {
   "cell_type": "code",
   "execution_count": 43,
   "id": "721f8fcd",
   "metadata": {},
   "outputs": [],
   "source": [
    "t1=test()"
   ]
  },
  {
   "cell_type": "code",
   "execution_count": 36,
   "id": "1da1131c",
   "metadata": {},
   "outputs": [
    {
     "ename": "AttributeError",
     "evalue": "'test' object has no attribute 'test_meth'",
     "output_type": "error",
     "traceback": [
      "\u001b[1;31m---------------------------------------------------------------------------\u001b[0m",
      "\u001b[1;31mAttributeError\u001b[0m                            Traceback (most recent call last)",
      "Cell \u001b[1;32mIn[36], line 1\u001b[0m\n\u001b[1;32m----> 1\u001b[0m \u001b[43mt1\u001b[49m\u001b[38;5;241;43m.\u001b[39;49m\u001b[43mtest_meth\u001b[49m()\n",
      "\u001b[1;31mAttributeError\u001b[0m: 'test' object has no attribute 'test_meth'"
     ]
    }
   ],
   "source": [
    "t1.test_meth()"
   ]
  },
  {
   "cell_type": "code",
   "execution_count": 37,
   "id": "d4641769",
   "metadata": {},
   "outputs": [
    {
     "data": {
      "text/plain": [
       "'this is just a test'"
      ]
     },
     "execution_count": 37,
     "metadata": {},
     "output_type": "execute_result"
    }
   ],
   "source": [
    "t1._test__test_meth()"
   ]
  },
  {
   "cell_type": "code",
   "execution_count": 38,
   "id": "9721a499",
   "metadata": {},
   "outputs": [
    {
     "data": {
      "text/plain": [
       "'singh'"
      ]
     },
     "execution_count": 38,
     "metadata": {},
     "output_type": "execute_result"
    }
   ],
   "source": [
    "t1.y"
   ]
  },
  {
   "cell_type": "code",
   "execution_count": 41,
   "id": "8b272503",
   "metadata": {},
   "outputs": [
    {
     "data": {
      "text/plain": [
       "'deeps'"
      ]
     },
     "execution_count": 41,
     "metadata": {},
     "output_type": "execute_result"
    }
   ],
   "source": [
    "t1.access_var()"
   ]
  },
  {
   "cell_type": "code",
   "execution_count": 45,
   "id": "e342ec3e",
   "metadata": {},
   "outputs": [],
   "source": [
    "t1.update_var(23242)"
   ]
  },
  {
   "cell_type": "code",
   "execution_count": 46,
   "id": "1208609d",
   "metadata": {},
   "outputs": [
    {
     "data": {
      "text/plain": [
       "23242"
      ]
     },
     "execution_count": 46,
     "metadata": {},
     "output_type": "execute_result"
    }
   ],
   "source": [
    "t1.access_var()"
   ]
  },
  {
   "cell_type": "code",
   "execution_count": 47,
   "id": "b28c9ba9",
   "metadata": {},
   "outputs": [
    {
     "data": {
      "text/plain": [
       "'incorrect password'"
      ]
     },
     "execution_count": 47,
     "metadata": {},
     "output_type": "execute_result"
    }
   ],
   "source": [
    "class bank:\n",
    "    def __init__(self, account_number, balance):\n",
    "        self._account_number=account_number\n",
    "        self.__balance=balance\n",
    "        \n",
    "    def check_balance(self, password):\n",
    "        if password==\"mysecurepass\":\n",
    "            return self.__balance\n",
    "        else:\n",
    "            return \"incorrect password\"\n",
    "        \n",
    "deeps=bank(3253532, 567)\n",
    "deeps.check_balance('smkgaeor')\n",
    "        "
   ]
  },
  {
   "cell_type": "code",
   "execution_count": 48,
   "id": "c70207a0",
   "metadata": {},
   "outputs": [
    {
     "data": {
      "text/plain": [
       "567"
      ]
     },
     "execution_count": 48,
     "metadata": {},
     "output_type": "execute_result"
    }
   ],
   "source": [
    "deeps.check_balance('mysecurepass')"
   ]
  },
  {
   "cell_type": "code",
   "execution_count": 69,
   "id": "18fbe258",
   "metadata": {},
   "outputs": [],
   "source": [
    "class queue:\n",
    "    def __init__(self):\n",
    "        self._queue=[]\n",
    "        \n",
    "    def enqueue(self, data):\n",
    "        self._queue.append(data)\n",
    "        \n",
    "    def dequeue(self):\n",
    "        if self._queue:\n",
    "            return self._queue.pop(0)\n",
    "        else:\n",
    "            print(\"it is empty\")\n",
    "            \n",
    "    def showdata(self):\n",
    "        return self._queue"
   ]
  },
  {
   "cell_type": "code",
   "execution_count": 70,
   "id": "839d900a",
   "metadata": {},
   "outputs": [],
   "source": [
    "q=queue()"
   ]
  },
  {
   "cell_type": "code",
   "execution_count": 71,
   "id": "e279d5e3",
   "metadata": {},
   "outputs": [
    {
     "name": "stdout",
     "output_type": "stream",
     "text": [
      "it is empty\n"
     ]
    }
   ],
   "source": [
    "q.dequeue()"
   ]
  },
  {
   "cell_type": "code",
   "execution_count": 72,
   "id": "f3f2d2c9",
   "metadata": {},
   "outputs": [],
   "source": [
    "q.enqueue(40)"
   ]
  },
  {
   "cell_type": "code",
   "execution_count": 73,
   "id": "a7e5c97e",
   "metadata": {},
   "outputs": [
    {
     "data": {
      "text/plain": [
       "[40]"
      ]
     },
     "execution_count": 73,
     "metadata": {},
     "output_type": "execute_result"
    }
   ],
   "source": [
    "q.showdata()"
   ]
  },
  {
   "cell_type": "code",
   "execution_count": 75,
   "id": "5c4e5c0c",
   "metadata": {},
   "outputs": [
    {
     "data": {
      "text/plain": [
       "[40]"
      ]
     },
     "execution_count": 75,
     "metadata": {},
     "output_type": "execute_result"
    }
   ],
   "source": [
    "q._queue"
   ]
  },
  {
   "cell_type": "markdown",
   "id": "5d7412ad",
   "metadata": {},
   "source": [
    "### Abstraction\n",
    "Abstraction is used to hide the irrelevant data/class in order to reduce the complexity.The users only interact with the basic implementation of the function, but inner working is hidden. User is familiar with that \"what function does\" but they don't know \"how it does.\"\n",
    "\n",
    "In Python, abstraction can be achieved by using abstract classes and interfaces.\n",
    "\n",
    "A class that consists of one or more abstract method is called the abstract class. Abstract methods do not contain their implementation. Abstract class can be inherited by the subclass and abstract method gets its definition in the subclass. Abstraction classes are meant to be the blueprint of the other class. An abstract class can be useful when we are designing large functions. An abstract class is also helpful to provide the standard interface for different implementations of components. Python provides the **abc** module to use the abstraction in the Python program."
   ]
  },
  {
   "cell_type": "code",
   "execution_count": 85,
   "id": "6198ab68",
   "metadata": {},
   "outputs": [],
   "source": [
    "class pwskills:\n",
    "    def student_details(self):\n",
    "        return \"this will give you student details\""
   ]
  },
  {
   "cell_type": "code",
   "execution_count": 98,
   "id": "19233b26",
   "metadata": {},
   "outputs": [],
   "source": [
    "from abc import ABC, abstractmethod\n",
    "class pwskills(ABC):\n",
    "    \n",
    "    @abstractmethod\n",
    "    def databaseconnect(self):\n",
    "        pass\n",
    "    @abstractmethod\n",
    "    def checkuserenrollment(self, user_mailid):\n",
    "        pass\n",
    "    @abstractmethod\n",
    "    def check_completed_lecture(self, user_id, class_id):\n",
    "        pass\n",
    "    @abstractmethod\n",
    "    def check_lab_users(self, user_id):\n",
    "        pass\n",
    "    @abstractmethod\n",
    "    def check_internship(self, user_id):\n",
    "        pass"
   ]
  },
  {
   "cell_type": "code",
   "execution_count": 99,
   "id": "92ba982f",
   "metadata": {},
   "outputs": [],
   "source": [
    "class databaseconnect(pwskills):\n",
    "    def databaseconnect(self):\n",
    "        print(\"this is the implementation of database connect\")\n",
    "        \n",
    "    def checkuserenrollment(self, user_mailid):\n",
    "        return \"test\"\n",
    "    \n",
    "    def check_completed_lecture(self, user_id, class_id):\n",
    "        return \"test\"\n",
    "    \n",
    "    def check_lab_users(self, user_id):\n",
    "        return \"test\"\n",
    "    \n",
    "    def check_internship(self, user_id):\n",
    "        return \"test\"\n",
    "        "
   ]
  },
  {
   "cell_type": "code",
   "execution_count": 100,
   "id": "b6357e80",
   "metadata": {},
   "outputs": [],
   "source": [
    "db=databaseconnect()"
   ]
  },
  {
   "cell_type": "code",
   "execution_count": 101,
   "id": "106bb947",
   "metadata": {},
   "outputs": [
    {
     "name": "stdout",
     "output_type": "stream",
     "text": [
      "this is the implementation of database connect\n"
     ]
    }
   ],
   "source": [
    "db.databaseconnect()"
   ]
  },
  {
   "cell_type": "code",
   "execution_count": 102,
   "id": "9f8fc758",
   "metadata": {},
   "outputs": [],
   "source": [
    "class calculation:\n",
    "    def add(x,y):\n",
    "        return x+y\n",
    "    \n",
    "    def sub(x,y):\n",
    "        return x-y\n",
    "    \n",
    "    "
   ]
  },
  {
   "cell_type": "code",
   "execution_count": 104,
   "id": "ecc13211",
   "metadata": {},
   "outputs": [
    {
     "ename": "TypeError",
     "evalue": "calculation.add() missing 1 required positional argument: 'y'",
     "output_type": "error",
     "traceback": [
      "\u001b[1;31m---------------------------------------------------------------------------\u001b[0m",
      "\u001b[1;31mTypeError\u001b[0m                                 Traceback (most recent call last)",
      "Cell \u001b[1;32mIn[104], line 2\u001b[0m\n\u001b[0;32m      1\u001b[0m a\u001b[38;5;241m=\u001b[39mcalculation()\n\u001b[1;32m----> 2\u001b[0m \u001b[43ma\u001b[49m\u001b[38;5;241;43m.\u001b[39;49m\u001b[43madd\u001b[49m\u001b[43m(\u001b[49m\u001b[43m)\u001b[49m\n",
      "\u001b[1;31mTypeError\u001b[0m: calculation.add() missing 1 required positional argument: 'y'"
     ]
    }
   ],
   "source": [
    "a=calculation()\n",
    "a.add()"
   ]
  },
  {
   "cell_type": "code",
   "execution_count": 105,
   "id": "3f08ce1e",
   "metadata": {},
   "outputs": [],
   "source": [
    "class calculation:\n",
    "    def add(x,y):\n",
    "        return x+y\n",
    "    \n",
    "    def sub(x,y):\n",
    "        return x-y\n",
    "    \n",
    "    def div(self,x,y):\n",
    "        return x/y"
   ]
  },
  {
   "cell_type": "code",
   "execution_count": 107,
   "id": "e54789de",
   "metadata": {},
   "outputs": [
    {
     "data": {
      "text/plain": [
       "0.75"
      ]
     },
     "execution_count": 107,
     "metadata": {},
     "output_type": "execute_result"
    }
   ],
   "source": [
    "a=calculation()\n",
    "a.div(3,4)"
   ]
  },
  {
   "cell_type": "code",
   "execution_count": 108,
   "id": "743bcdae",
   "metadata": {},
   "outputs": [
    {
     "data": {
      "text/plain": [
       "7"
      ]
     },
     "execution_count": 108,
     "metadata": {},
     "output_type": "execute_result"
    }
   ],
   "source": [
    "calculation.add(3,4)"
   ]
  },
  {
   "cell_type": "code",
   "execution_count": 110,
   "id": "f2d3ce2c",
   "metadata": {},
   "outputs": [
    {
     "data": {
      "text/plain": [
       "0.8333333333333334"
      ]
     },
     "execution_count": 110,
     "metadata": {},
     "output_type": "execute_result"
    }
   ],
   "source": [
    "calculation.div(_,5,6)"
   ]
  },
  {
   "cell_type": "code",
   "execution_count": 111,
   "id": "46755d59",
   "metadata": {},
   "outputs": [],
   "source": [
    "class calculation:\n",
    "    \n",
    "    @staticmethod\n",
    "    def add(x,y):\n",
    "        return x+y\n",
    "    @staticmethod\n",
    "    def sub(x,y):\n",
    "        return x-y\n",
    "    \n",
    "    def div(self,x,y):\n",
    "        return x/y"
   ]
  },
  {
   "cell_type": "code",
   "execution_count": 112,
   "id": "58dcfc18",
   "metadata": {},
   "outputs": [],
   "source": [
    "class cal(calculation):\n",
    "    pass"
   ]
  },
  {
   "cell_type": "code",
   "execution_count": 114,
   "id": "1b1bfc44",
   "metadata": {},
   "outputs": [
    {
     "data": {
      "text/plain": [
       "7"
      ]
     },
     "execution_count": 114,
     "metadata": {},
     "output_type": "execute_result"
    }
   ],
   "source": [
    "c1=cal()\n",
    "c1.add(3,4)"
   ]
  },
  {
   "cell_type": "code",
   "execution_count": 115,
   "id": "930179d5",
   "metadata": {},
   "outputs": [
    {
     "data": {
      "text/plain": [
       "7"
      ]
     },
     "execution_count": 115,
     "metadata": {},
     "output_type": "execute_result"
    }
   ],
   "source": [
    "cal.add(3,4)"
   ]
  },
  {
   "cell_type": "code",
   "execution_count": 121,
   "id": "a05e0553",
   "metadata": {},
   "outputs": [],
   "source": [
    "# encapsulation based abstraction example\n",
    "class file_ops:\n",
    "    def __init__(self, filename):\n",
    "        self.filename=filename\n",
    "        \n",
    "    def read_file(self):\n",
    "        with open(self.filename,'r') as file:\n",
    "            return file.read()\n",
    "        \n",
    "    def write_file(self, data):\n",
    "        with open(self.filename,'w') as file:\n",
    "            file.write(data)\n",
    "            \n",
    "        \n",
    "    "
   ]
  },
  {
   "cell_type": "code",
   "execution_count": 122,
   "id": "ca89cf53",
   "metadata": {},
   "outputs": [],
   "source": [
    "sudh_op_file=file_ops('deepfile.txt')\n",
    "sudh_op_file.write_file(\"just checking\")"
   ]
  },
  {
   "cell_type": "code",
   "execution_count": 124,
   "id": "bef2b3f9",
   "metadata": {},
   "outputs": [],
   "source": [
    "kapil=file_ops('kapil.txt')\n",
    "kapil.write_file(\"this is kapil file\")"
   ]
  },
  {
   "cell_type": "code",
   "execution_count": 125,
   "id": "4e8c3ffd",
   "metadata": {},
   "outputs": [],
   "source": [
    "sachin=file_ops('sachin.txt')\n",
    "sachin.write_file(\"this is sachin file\")"
   ]
  },
  {
   "cell_type": "markdown",
   "id": "dde814e9",
   "metadata": {},
   "source": [
    "### Composition\n",
    "In this concept, we will describe a class that references to one or more objects of other classes as an Instance variable. Here, by using the class name or by creating the object we can access the members of one class inside another class. It enables creating complex types by combining objects of different classes. It means that a class Composite can contain an object of another class Component. This type of relationship is known as Has-A Relation."
   ]
  },
  {
   "cell_type": "code",
   "execution_count": 128,
   "id": "e6cf6cb3",
   "metadata": {},
   "outputs": [],
   "source": [
    "class pwskills:\n",
    "    def student(self):\n",
    "        return \"student details\"\n",
    "    \n",
    "class datascience:\n",
    "    def __init__(self):\n",
    "        self.student=pwskills()"
   ]
  },
  {
   "cell_type": "code",
   "execution_count": 129,
   "id": "c214fee8",
   "metadata": {},
   "outputs": [],
   "source": [
    "ds=datascience()"
   ]
  },
  {
   "cell_type": "code",
   "execution_count": 132,
   "id": "84ef85a4",
   "metadata": {},
   "outputs": [
    {
     "data": {
      "text/plain": [
       "'student details'"
      ]
     },
     "execution_count": 132,
     "metadata": {},
     "output_type": "execute_result"
    }
   ],
   "source": [
    "ds.student.student()"
   ]
  },
  {
   "cell_type": "code",
   "execution_count": 133,
   "id": "f09ad9f8",
   "metadata": {},
   "outputs": [],
   "source": [
    "class data:\n",
    "    def __init__(self, mentor_name):\n",
    "        self.mentor_name=mentor_name\n",
    "        \n",
    "class webdev:\n",
    "    def __init__(self, mentor, lecture_name):\n",
    "        self.mentor=mentor\n",
    "        self.lecture_name=lecture_name\n",
    "        "
   ]
  },
  {
   "cell_type": "code",
   "execution_count": 134,
   "id": "9972562f",
   "metadata": {},
   "outputs": [],
   "source": [
    "d=data(\"sudh\")\n",
    "w=webdev('krish', 'css')"
   ]
  },
  {
   "cell_type": "code",
   "execution_count": 135,
   "id": "3f040a9d",
   "metadata": {},
   "outputs": [
    {
     "data": {
      "text/plain": [
       "'sudh'"
      ]
     },
     "execution_count": 135,
     "metadata": {},
     "output_type": "execute_result"
    }
   ],
   "source": [
    "d.mentor_name"
   ]
  },
  {
   "cell_type": "code",
   "execution_count": 136,
   "id": "b09df3af",
   "metadata": {},
   "outputs": [
    {
     "data": {
      "text/plain": [
       "'krish'"
      ]
     },
     "execution_count": 136,
     "metadata": {},
     "output_type": "execute_result"
    }
   ],
   "source": [
    "w.mentor"
   ]
  },
  {
   "cell_type": "code",
   "execution_count": 137,
   "id": "86859789",
   "metadata": {},
   "outputs": [],
   "source": [
    "d=data(\"sudh\")\n",
    "w=webdev(d, 'css')"
   ]
  },
  {
   "cell_type": "code",
   "execution_count": 138,
   "id": "0cdd1deb",
   "metadata": {},
   "outputs": [
    {
     "data": {
      "text/plain": [
       "'sudh'"
      ]
     },
     "execution_count": 138,
     "metadata": {},
     "output_type": "execute_result"
    }
   ],
   "source": [
    "d.mentor_name"
   ]
  },
  {
   "cell_type": "code",
   "execution_count": 139,
   "id": "04afc49b",
   "metadata": {},
   "outputs": [
    {
     "data": {
      "text/plain": [
       "<__main__.data at 0x1f044947a60>"
      ]
     },
     "execution_count": 139,
     "metadata": {},
     "output_type": "execute_result"
    }
   ],
   "source": [
    "w.mentor"
   ]
  },
  {
   "cell_type": "code",
   "execution_count": 140,
   "id": "fbb72948",
   "metadata": {},
   "outputs": [
    {
     "data": {
      "text/plain": [
       "'sudh'"
      ]
     },
     "execution_count": 140,
     "metadata": {},
     "output_type": "execute_result"
    }
   ],
   "source": [
    "w.mentor.mentor_name"
   ]
  },
  {
   "cell_type": "markdown",
   "id": "d05b425d",
   "metadata": {},
   "source": [
    "### zip() Function\n",
    "The zip() function returns a zip object, which is an iterator of tuples where the first item in each passed iterator is paired together, and then the second item in each passed iterator are paired together etc.\n",
    "\n",
    "If the passed iterables have different lengths, the iterable with the least items decides the length of the new iterator."
   ]
  },
  {
   "cell_type": "code",
   "execution_count": 146,
   "id": "f0a315f2",
   "metadata": {},
   "outputs": [],
   "source": [
    "l=[3,4,5,6]\n",
    "l1=[5,6,3,2,7,8]\n",
    "l2=['deep','singh','sudh','pwskills']"
   ]
  },
  {
   "cell_type": "code",
   "execution_count": 147,
   "id": "61b34f13",
   "metadata": {},
   "outputs": [
    {
     "data": {
      "text/plain": [
       "[(3, 5, 'deep'), (4, 6, 'singh'), (5, 3, 'sudh'), (6, 2, 'pwskills')]"
      ]
     },
     "execution_count": 147,
     "metadata": {},
     "output_type": "execute_result"
    }
   ],
   "source": [
    "list(zip(l,l1,l2))"
   ]
  },
  {
   "cell_type": "markdown",
   "id": "81b65b18",
   "metadata": {},
   "source": [
    "### enumerate() Function\n",
    "The enumerate() function takes a collection (e.g. a tuple) and returns it as an enumerate object.\n",
    "\n",
    "The enumerate() function adds a counter as the key of the enumerate object."
   ]
  },
  {
   "cell_type": "code",
   "execution_count": 148,
   "id": "e3e87c64",
   "metadata": {},
   "outputs": [
    {
     "name": "stdout",
     "output_type": "stream",
     "text": [
      "0   deep\n",
      "1   singh\n",
      "2   sudh\n",
      "3   pwskills\n"
     ]
    }
   ],
   "source": [
    "for index, data in enumerate(l2):\n",
    "    print(index, \" \", data)"
   ]
  },
  {
   "cell_type": "code",
   "execution_count": null,
   "id": "01b23b7e",
   "metadata": {},
   "outputs": [],
   "source": []
  }
 ],
 "metadata": {
  "kernelspec": {
   "display_name": "Python 3 (ipykernel)",
   "language": "python",
   "name": "python3"
  },
  "language_info": {
   "codemirror_mode": {
    "name": "ipython",
    "version": 3
   },
   "file_extension": ".py",
   "mimetype": "text/x-python",
   "name": "python",
   "nbconvert_exporter": "python",
   "pygments_lexer": "ipython3",
   "version": "3.10.4"
  }
 },
 "nbformat": 4,
 "nbformat_minor": 5
}
