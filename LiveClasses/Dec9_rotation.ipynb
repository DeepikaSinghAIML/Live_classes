{
 "cells": [
  {
   "cell_type": "code",
   "execution_count": 1,
   "id": "dd62de47-f6bb-4161-b450-ca6aa19ba5f6",
   "metadata": {},
   "outputs": [
    {
     "name": "stdout",
     "output_type": "stream",
     "text": [
      "2\n"
     ]
    }
   ],
   "source": [
    "#find the no. of rotations performed on the array if it was sorted initially\n",
    "\n",
    "def countRotations(arr):\n",
    "    min=arr[0]\n",
    "    min_index=0\n",
    "\n",
    "    for i in range(1,len(arr)):\n",
    "        if(min>arr[i]):\n",
    "            min=arr[i]\n",
    "            min_index=i\n",
    "    return min_index\n",
    "\n",
    "print(countRotations([15,18,2,3,6,12]))\n",
    "        \n",
    "    "
   ]
  },
  {
   "cell_type": "code",
   "execution_count": 8,
   "id": "7f576cca-b8a0-47a9-bc65-345206aa7305",
   "metadata": {},
   "outputs": [
    {
     "name": "stdout",
     "output_type": "stream",
     "text": [
      "8 1 6 2 5 3 4\n"
     ]
    }
   ],
   "source": [
    "#given an array of integers, print in such a way that first element is first maximum and second element is the first minimum and so on.\n",
    "\n",
    "def bubbleSort(arr):\n",
    "    for i in range(len(arr)-1,0,-1):\n",
    "        for j in range(i):\n",
    "            if arr[j]>arr[j+1]:\n",
    "                arr[j],arr[j+1]=arr[j+1],arr[j]\n",
    "\n",
    "\n",
    "def printInorder(arr):\n",
    "    bubbleSort(arr)\n",
    "    left=0\n",
    "    right=len(arr)-1\n",
    "    while left<=right:\n",
    "        if left==right:\n",
    "            print(arr[left])\n",
    "        else:\n",
    "            print(arr[right], end=\" \")\n",
    "            print(arr[left], end=\" \")\n",
    "        left+=1\n",
    "        right-=1\n",
    "\n",
    "printInorder([3,5,1,2,8,6,4])"
   ]
  },
  {
   "cell_type": "code",
   "execution_count": 9,
   "id": "cfaa949f-e03a-4762-ae5f-080a7366bf3c",
   "metadata": {},
   "outputs": [
    {
     "name": "stdout",
     "output_type": "stream",
     "text": [
      "[10, 90, 2, 49, 1, 5, 3, 23]\n"
     ]
    }
   ],
   "source": [
    "#sort an array in a wave form. given an unsorted array of integers, sort the array into a wave like array. wave form is like. alternate big and small.\n",
    "\n",
    "def sortInWave(arr):\n",
    "    for i in range(0, len(arr)-1, 2):\n",
    "        if(i>0 and arr[i]>arr[i-1]):\n",
    "            arr[i], arr[i-1]= arr[i-1], arr[i]\n",
    "\n",
    "        if(i<len(arr)-1 and arr[i]>arr[i+1]):\n",
    "            arr[i],arr[i+1]=arr[i+1], arr[i]\n",
    "\n",
    "arr=[10,90,49,2,3,1,5,23]\n",
    "sortInWave(arr)\n",
    "print(arr)"
   ]
  },
  {
   "cell_type": "code",
   "execution_count": 10,
   "id": "9b5ed059-74ff-41aa-a9b5-f330e17df3b8",
   "metadata": {},
   "outputs": [
    {
     "name": "stdout",
     "output_type": "stream",
     "text": [
      "[2, 6, 8, -1, -1]\n",
      "[1, 7]\n",
      "[2, 6, 8, 1, 7]\n",
      "[2, 6, 8, 1, 7]\n"
     ]
    }
   ],
   "source": [
    "#merge an array of size n into another array of size m+n in sorted order\n",
    "\n",
    "def mergeArrays(arr1,m,arr2,n):\n",
    "    i=m-1\n",
    "    j=n-1\n",
    "    k=m+n-1\n",
    "\n",
    "    while(i>=0 and j>=0):\n",
    "        if(arr1[i]>arr2[j]):\n",
    "            arr1[k]=arr1[i]\n",
    "            i-=1\n",
    "        else:\n",
    "            arr1[k]=arr2[j]\n",
    "            j-=1\n",
    "            k-=1\n",
    "\n",
    "    while(i>=0):\n",
    "        arr1[k]=arr1[i]\n",
    "        k-=1\n",
    "        i-=1\n",
    "\n",
    "    while(j>=0):\n",
    "        arr1[k]=arr2[j]\n",
    "        k-=1\n",
    "        j-=1\n",
    "    print(arr1)\n",
    "\n",
    "arr1=[2,6,8,-1,-1]\n",
    "print(arr1)\n",
    "arr2=[1,7]\n",
    "print(arr2)\n",
    "\n",
    "mergeArrays(arr1,3,arr2,2)\n",
    "print(arr1)"
   ]
  },
  {
   "cell_type": "code",
   "execution_count": null,
   "id": "1d1a7c4e-aecd-4ec5-8840-3030cc153762",
   "metadata": {},
   "outputs": [],
   "source": []
  }
 ],
 "metadata": {
  "kernelspec": {
   "display_name": "Python 3 (ipykernel)",
   "language": "python",
   "name": "python3"
  },
  "language_info": {
   "codemirror_mode": {
    "name": "ipython",
    "version": 3
   },
   "file_extension": ".py",
   "mimetype": "text/x-python",
   "name": "python",
   "nbconvert_exporter": "python",
   "pygments_lexer": "ipython3",
   "version": "3.10.13"
  }
 },
 "nbformat": 4,
 "nbformat_minor": 5
}
