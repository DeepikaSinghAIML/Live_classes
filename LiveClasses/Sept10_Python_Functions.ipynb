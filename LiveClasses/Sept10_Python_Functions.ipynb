{
 "cells": [
  {
   "cell_type": "code",
   "execution_count": 2,
   "id": "c2fe1751",
   "metadata": {},
   "outputs": [
    {
     "name": "stdout",
     "output_type": "stream",
     "text": [
      "Hello\n"
     ]
    }
   ],
   "source": [
    "def greet():\n",
    "    message='Hello'\n",
    "    print(message)\n",
    "greet()"
   ]
  },
  {
   "cell_type": "code",
   "execution_count": 5,
   "id": "1f3d4f85",
   "metadata": {},
   "outputs": [
    {
     "ename": "NameError",
     "evalue": "name 'message' is not defined",
     "output_type": "error",
     "traceback": [
      "\u001b[1;31m---------------------------------------------------------------------------\u001b[0m",
      "\u001b[1;31mNameError\u001b[0m                                 Traceback (most recent call last)",
      "Cell \u001b[1;32mIn[5], line 3\u001b[0m\n\u001b[0;32m      1\u001b[0m \u001b[38;5;28;01mdef\u001b[39;00m \u001b[38;5;21mgreet\u001b[39m():\n\u001b[0;32m      2\u001b[0m     message\u001b[38;5;241m=\u001b[39m\u001b[38;5;124m'\u001b[39m\u001b[38;5;124mHello\u001b[39m\u001b[38;5;124m'\u001b[39m\n\u001b[1;32m----> 3\u001b[0m \u001b[38;5;28mprint\u001b[39m(\u001b[43mmessage\u001b[49m) \u001b[38;5;66;03m#message variable is created inside the function, you cannot access it outside the function\u001b[39;00m\n",
      "\u001b[1;31mNameError\u001b[0m: name 'message' is not defined"
     ]
    }
   ],
   "source": [
    "def greet():\n",
    "    message='Hello' #local variable\n",
    "print(message) #message variable is created inside the function, you cannot access it outside the function\n"
   ]
  },
  {
   "cell_type": "code",
   "execution_count": 6,
   "id": "9621ec70",
   "metadata": {},
   "outputs": [
    {
     "ename": "NameError",
     "evalue": "name 'x' is not defined",
     "output_type": "error",
     "traceback": [
      "\u001b[1;31m---------------------------------------------------------------------------\u001b[0m",
      "\u001b[1;31mNameError\u001b[0m                                 Traceback (most recent call last)",
      "Cell \u001b[1;32mIn[6], line 5\u001b[0m\n\u001b[0;32m      3\u001b[0m     y\u001b[38;5;241m=\u001b[39m\u001b[38;5;241m30\u001b[39m\n\u001b[0;32m      4\u001b[0m     \u001b[38;5;28mprint\u001b[39m(x\u001b[38;5;241m+\u001b[39my)\n\u001b[1;32m----> 5\u001b[0m \u001b[38;5;28mprint\u001b[39m(\u001b[43mx\u001b[49m)\n\u001b[0;32m      6\u001b[0m \u001b[38;5;28mprint\u001b[39m(y)\n",
      "\u001b[1;31mNameError\u001b[0m: name 'x' is not defined"
     ]
    }
   ],
   "source": [
    "def add():\n",
    "    x=20\n",
    "    y=30\n",
    "    print(x+y)\n",
    "print(x)\n",
    "print(y)"
   ]
  },
  {
   "cell_type": "code",
   "execution_count": 11,
   "id": "2a47ea7c",
   "metadata": {},
   "outputs": [
    {
     "name": "stdout",
     "output_type": "stream",
     "text": [
      "Python is fantastic\n",
      "awesome\n"
     ]
    }
   ],
   "source": [
    "x='awesome' #global variable\n",
    "def myfunc():\n",
    "    x='fantastic' #local variable\n",
    "    print(\"Python is\",x)\n",
    "myfunc()\n",
    "print(x)"
   ]
  },
  {
   "cell_type": "code",
   "execution_count": 14,
   "id": "e8a9728c",
   "metadata": {},
   "outputs": [
    {
     "name": "stdout",
     "output_type": "stream",
     "text": [
      "Python is awesome\n",
      "awesome\n"
     ]
    }
   ],
   "source": [
    "x='awesome' #global variable\n",
    "def myfunc():\n",
    "#     x='fantastic' #local variable\n",
    "    print(\"Python is\",x)\n",
    "myfunc()\n",
    "print(x)"
   ]
  },
  {
   "cell_type": "code",
   "execution_count": 15,
   "id": "4c398cdf",
   "metadata": {},
   "outputs": [
    {
     "name": "stdout",
     "output_type": "stream",
     "text": [
      "local variable= 30\n",
      "global variable= 20\n",
      "50\n"
     ]
    }
   ],
   "source": [
    "x=20\n",
    "def add():\n",
    "    y=30\n",
    "    print(\"local variable=\",y)\n",
    "    print(\"global variable=\",x)\n",
    "    z=x+y\n",
    "    print(z)\n",
    "add()"
   ]
  },
  {
   "cell_type": "code",
   "execution_count": 16,
   "id": "6a2fee6f",
   "metadata": {},
   "outputs": [],
   "source": [
    "#python function arguments"
   ]
  },
  {
   "cell_type": "code",
   "execution_count": 17,
   "id": "0f73af06",
   "metadata": {},
   "outputs": [
    {
     "name": "stdout",
     "output_type": "stream",
     "text": [
      "sum is 7\n"
     ]
    }
   ],
   "source": [
    "#positional arguments\n",
    "def add_numbers(a,b):\n",
    "    sum=a+b\n",
    "    print(\"sum is\",sum)\n",
    "add_numbers(3,4)"
   ]
  },
  {
   "cell_type": "code",
   "execution_count": 18,
   "id": "b3289330",
   "metadata": {},
   "outputs": [
    {
     "name": "stdout",
     "output_type": "stream",
     "text": [
      "my name is deepika\n"
     ]
    }
   ],
   "source": [
    "def emp_name(name):\n",
    "    print(\"my name is\",name)\n",
    "emp_name('deepika')"
   ]
  },
  {
   "cell_type": "code",
   "execution_count": 19,
   "id": "6995fb59",
   "metadata": {},
   "outputs": [
    {
     "name": "stdout",
     "output_type": "stream",
     "text": [
      "sum is 12\n"
     ]
    }
   ],
   "source": [
    "#default arguments\n",
    "def add_numbers(a=4,b=8):\n",
    "    sum=a+b\n",
    "    print(\"sum is\",sum)\n",
    "add_numbers()\n"
   ]
  },
  {
   "cell_type": "code",
   "execution_count": 20,
   "id": "7cfc4c86",
   "metadata": {},
   "outputs": [
    {
     "name": "stdout",
     "output_type": "stream",
     "text": [
      "my name is deepika\n"
     ]
    }
   ],
   "source": [
    "def emp_name(name='deepika'):\n",
    "    print(\"my name is\",name)\n",
    "emp_name()"
   ]
  },
  {
   "cell_type": "code",
   "execution_count": 21,
   "id": "542d9036",
   "metadata": {},
   "outputs": [
    {
     "name": "stdout",
     "output_type": "stream",
     "text": [
      "my name is pwskills\n"
     ]
    }
   ],
   "source": [
    "emp_name('pwskills')"
   ]
  },
  {
   "cell_type": "code",
   "execution_count": 22,
   "id": "3501682b",
   "metadata": {},
   "outputs": [],
   "source": [
    "#keyword arguments"
   ]
  },
  {
   "cell_type": "code",
   "execution_count": 23,
   "id": "2f447e4e",
   "metadata": {},
   "outputs": [
    {
     "name": "stdout",
     "output_type": "stream",
     "text": [
      "first name pw\n",
      "second name skills\n"
     ]
    }
   ],
   "source": [
    "def display_info(first_name,last_name):\n",
    "    print(\"first name\",first_name)\n",
    "    print(\"second name\",last_name)\n",
    "display_info(first_name='pw',last_name='skills')"
   ]
  },
  {
   "cell_type": "code",
   "execution_count": 24,
   "id": "f977ea60",
   "metadata": {},
   "outputs": [
    {
     "name": "stdout",
     "output_type": "stream",
     "text": [
      "first name pw\n",
      "second name skills\n"
     ]
    }
   ],
   "source": [
    "display_info(last_name='skills',first_name='pw')"
   ]
  },
  {
   "cell_type": "markdown",
   "id": "50d7c19f",
   "metadata": {},
   "source": [
    "## Arbitrary Arguments, *args\n",
    "If you do not know how many arguments that will be passed into your function, add a * before the parameter name in the function definition.\n",
    "\n",
    "This way the function will receive a tuple of arguments, and can access the items accordingly"
   ]
  },
  {
   "cell_type": "code",
   "execution_count": 26,
   "id": "6551f468",
   "metadata": {},
   "outputs": [
    {
     "name": "stdout",
     "output_type": "stream",
     "text": [
      "the youngest child is riya\n"
     ]
    }
   ],
   "source": [
    "def my_function(*kids):\n",
    "    print(\"the youngest child is\",kids[2])\n",
    "my_function('emma','justin','riya')"
   ]
  },
  {
   "cell_type": "code",
   "execution_count": 28,
   "id": "05c2b780",
   "metadata": {},
   "outputs": [
    {
     "name": "stdout",
     "output_type": "stream",
     "text": [
      "sum 129\n"
     ]
    }
   ],
   "source": [
    "def find_sum(*numbers):\n",
    "    result=0\n",
    "    for i in numbers:\n",
    "        result=result+i\n",
    "    print(\"sum\",result)\n",
    "find_sum(1,2,43,4,5,67,7)"
   ]
  },
  {
   "cell_type": "code",
   "execution_count": 29,
   "id": "024883e1",
   "metadata": {},
   "outputs": [
    {
     "name": "stdout",
     "output_type": "stream",
     "text": [
      "(1, 2, 3, 4)\n"
     ]
    }
   ],
   "source": [
    "def simple(*x):\n",
    "    print(x)\n",
    "simple(1,2,3,4)"
   ]
  },
  {
   "cell_type": "markdown",
   "id": "042f0881",
   "metadata": {},
   "source": [
    "## Arbitrary Keyword Arguments, **kwargs\n",
    "If you do not know how many keyword arguments that will be passed into your function, add two asterisk: ** before the parameter name in the function definition.\n",
    "\n",
    "This way the function will receive a dictionary of arguments, and can access the items accordingly"
   ]
  },
  {
   "cell_type": "code",
   "execution_count": 31,
   "id": "76a39ef3",
   "metadata": {},
   "outputs": [
    {
     "name": "stdout",
     "output_type": "stream",
     "text": [
      "her last name is singh\n"
     ]
    }
   ],
   "source": [
    "def my_kid(**kids):\n",
    "    print(\"her last name is\",kids['lname'])\n",
    "my_kid(fname='deepika',lname='singh')"
   ]
  },
  {
   "cell_type": "code",
   "execution_count": 33,
   "id": "74d73a8d",
   "metadata": {},
   "outputs": [
    {
     "name": "stdout",
     "output_type": "stream",
     "text": [
      "a 1\n",
      "b 2\n"
     ]
    }
   ],
   "source": [
    "x={'a':1,'b':2}\n",
    "for keys,values in x.items():\n",
    "    print(keys,values)"
   ]
  },
  {
   "cell_type": "code",
   "execution_count": 34,
   "id": "dc17621b",
   "metadata": {},
   "outputs": [
    {
     "name": "stdout",
     "output_type": "stream",
     "text": [
      "data type of argument <class 'dict'>\n",
      "fname deepika\n",
      "lname singh\n"
     ]
    }
   ],
   "source": [
    "def intro(**data):\n",
    "    print(\"data type of argument\",type(data))\n",
    "    for key,value in data.items():\n",
    "        print(key,value)\n",
    "intro(fname='deepika',lname='singh')"
   ]
  },
  {
   "cell_type": "code",
   "execution_count": 35,
   "id": "a0c33bed",
   "metadata": {},
   "outputs": [
    {
     "name": "stdout",
     "output_type": "stream",
     "text": [
      "{'name': 'deepika', 'age': 21, 'id_no': 12}\n"
     ]
    }
   ],
   "source": [
    "def simple(**x):\n",
    "    print(x)\n",
    "simple(name='deepika',age=21,id_no=12)"
   ]
  },
  {
   "cell_type": "markdown",
   "id": "1a5897ae",
   "metadata": {},
   "source": [
    "## Python Lambda\n",
    "A lambda function is a small anonymous function.\n",
    "\n",
    "A lambda function can take any number of arguments, but can only have one expression.\n",
    "\n"
   ]
  },
  {
   "cell_type": "code",
   "execution_count": 36,
   "id": "f94848ad",
   "metadata": {},
   "outputs": [
    {
     "data": {
      "text/plain": [
       "15"
      ]
     },
     "execution_count": 36,
     "metadata": {},
     "output_type": "execute_result"
    }
   ],
   "source": [
    "x=lambda a:a+10\n",
    "x(5)"
   ]
  },
  {
   "cell_type": "code",
   "execution_count": 37,
   "id": "6b3e82ef",
   "metadata": {},
   "outputs": [
    {
     "data": {
      "text/plain": [
       "30"
      ]
     },
     "execution_count": 37,
     "metadata": {},
     "output_type": "execute_result"
    }
   ],
   "source": [
    "y=lambda a,b:a*b\n",
    "y(5,6)"
   ]
  },
  {
   "cell_type": "code",
   "execution_count": 38,
   "id": "e12fb369",
   "metadata": {},
   "outputs": [
    {
     "name": "stdout",
     "output_type": "stream",
     "text": [
      "hello\n"
     ]
    }
   ],
   "source": [
    "z=lambda:print(\"hello\")\n",
    "z()"
   ]
  },
  {
   "cell_type": "code",
   "execution_count": 40,
   "id": "01cf46c2",
   "metadata": {},
   "outputs": [
    {
     "name": "stdout",
     "output_type": "stream",
     "text": [
      "Enter first number:2\n",
      "Enter second number:3\n",
      "(4, 9)\n"
     ]
    }
   ],
   "source": [
    "a=int(input(\"Enter first number:\"))\n",
    "b=int(input(\"Enter second number:\"))\n",
    "sqr=lambda a,b:(a**2,b**2)\n",
    "print(sqr(a,b))"
   ]
  },
  {
   "cell_type": "code",
   "execution_count": 41,
   "id": "1e408b1b",
   "metadata": {},
   "outputs": [
    {
     "name": "stdout",
     "output_type": "stream",
     "text": [
      "odd\n"
     ]
    }
   ],
   "source": [
    "def evenodd(n):\n",
    "    if n%2==0:\n",
    "        print(\"even\")\n",
    "    else:\n",
    "        print(\"odd\")\n",
    "evenodd(23)"
   ]
  },
  {
   "cell_type": "code",
   "execution_count": 42,
   "id": "157114ec",
   "metadata": {},
   "outputs": [
    {
     "data": {
      "text/plain": [
       "'even'"
      ]
     },
     "execution_count": 42,
     "metadata": {},
     "output_type": "execute_result"
    }
   ],
   "source": [
    "e=lambda n:'even' if n%2==0 else 'odd'\n",
    "e(2)"
   ]
  },
  {
   "cell_type": "code",
   "execution_count": 43,
   "id": "7fd2c408",
   "metadata": {},
   "outputs": [],
   "source": [
    "#write a lambda function that accepts two arguments and print the greater number"
   ]
  },
  {
   "cell_type": "code",
   "execution_count": 44,
   "id": "2eae19d7",
   "metadata": {},
   "outputs": [
    {
     "data": {
      "text/plain": [
       "7"
      ]
     },
     "execution_count": 44,
     "metadata": {},
     "output_type": "execute_result"
    }
   ],
   "source": [
    "g=lambda d,f:max(d,f)\n",
    "g(7,4)"
   ]
  },
  {
   "cell_type": "code",
   "execution_count": 46,
   "id": "af544b70",
   "metadata": {},
   "outputs": [
    {
     "data": {
      "text/plain": [
       "6"
      ]
     },
     "execution_count": 46,
     "metadata": {},
     "output_type": "execute_result"
    }
   ],
   "source": [
    "g1=lambda d1,f1:d1 if d1>f1 else f1\n",
    "g1(5,6)"
   ]
  },
  {
   "cell_type": "code",
   "execution_count": 47,
   "id": "cc0ac651",
   "metadata": {},
   "outputs": [],
   "source": [
    "#lambda function to find sum of three numbers"
   ]
  },
  {
   "cell_type": "code",
   "execution_count": 48,
   "id": "71295ca1",
   "metadata": {},
   "outputs": [
    {
     "data": {
      "text/plain": [
       "16"
      ]
     },
     "execution_count": 48,
     "metadata": {},
     "output_type": "execute_result"
    }
   ],
   "source": [
    "big=lambda a,b,c:(a+b+c)\n",
    "big(7,6,3)"
   ]
  },
  {
   "cell_type": "code",
   "execution_count": 52,
   "id": "7b2b5ccc",
   "metadata": {},
   "outputs": [
    {
     "name": "stdout",
     "output_type": "stream",
     "text": [
      "{'name': 'product2', 'price': 100}\n",
      "{'name': 'product1', 'price': 120}\n",
      "{'name': 'product4', 'price': 150}\n",
      "{'name': 'product3', 'price': 170}\n"
     ]
    }
   ],
   "source": [
    "products=[\n",
    "    {'name':'product1','price':120},\n",
    "    {'name':'product2','price':100},\n",
    "    {'name':'product3','price':170},\n",
    "    {'name':'product4','price':150}\n",
    "]\n",
    "sorted_products=sorted(products,key=lambda x:x['price'])\n",
    "for i in sorted_products:\n",
    "    print(i)"
   ]
  },
  {
   "cell_type": "code",
   "execution_count": 53,
   "id": "41f9a2da",
   "metadata": {},
   "outputs": [
    {
     "name": "stdout",
     "output_type": "stream",
     "text": [
      "{'name': 'product3', 'price': 170}\n",
      "{'name': 'product4', 'price': 150}\n",
      "{'name': 'product1', 'price': 120}\n",
      "{'name': 'product2', 'price': 100}\n"
     ]
    }
   ],
   "source": [
    "products=[\n",
    "    {'name':'product1','price':120},\n",
    "    {'name':'product2','price':100},\n",
    "    {'name':'product3','price':170},\n",
    "    {'name':'product4','price':150}\n",
    "]\n",
    "sorted_products=sorted(products,key=lambda x:x['price'], reverse=True)\n",
    "for i in sorted_products:\n",
    "    print(i)"
   ]
  },
  {
   "cell_type": "code",
   "execution_count": 54,
   "id": "189a159b",
   "metadata": {},
   "outputs": [],
   "source": [
    "#write a lambda expression that accepts a character as an argument and return true if it is a vowel"
   ]
  },
  {
   "cell_type": "code",
   "execution_count": 60,
   "id": "033c5a97",
   "metadata": {},
   "outputs": [
    {
     "name": "stdout",
     "output_type": "stream",
     "text": [
      "Enter a char:r\n"
     ]
    },
    {
     "data": {
      "text/plain": [
       "'false'"
      ]
     },
     "execution_count": 60,
     "metadata": {},
     "output_type": "execute_result"
    }
   ],
   "source": [
    "c=input(\"Enter a char:\")\n",
    "x=lambda c:'true' if c in 'AEIOUaeiou' else 'false'\n",
    "x(c)"
   ]
  },
  {
   "cell_type": "code",
   "execution_count": 61,
   "id": "f37bb0e6",
   "metadata": {},
   "outputs": [
    {
     "data": {
      "text/plain": [
       "[(0, 'python'), (1, 'java'), (2, 'javascript')]"
      ]
     },
     "execution_count": 61,
     "metadata": {},
     "output_type": "execute_result"
    }
   ],
   "source": [
    "language=['python','java','javascript']\n",
    "enumerate_prime=enumerate(language)\n",
    "list(enumerate_prime)"
   ]
  },
  {
   "cell_type": "code",
   "execution_count": 62,
   "id": "9b5c2831",
   "metadata": {},
   "outputs": [
    {
     "data": {
      "text/plain": [
       "[(2, 'python'), (3, 'java'), (4, 'javascript')]"
      ]
     },
     "execution_count": 62,
     "metadata": {},
     "output_type": "execute_result"
    }
   ],
   "source": [
    "language=['python','java','javascript']\n",
    "enumerate_prime=enumerate(language,2)\n",
    "list(enumerate_prime)"
   ]
  },
  {
   "cell_type": "markdown",
   "id": "bc5d202c",
   "metadata": {},
   "source": [
    "## List Comprehension\n",
    "List comprehension offers a shorter syntax when you want to create a new list based on the values of an existing list."
   ]
  },
  {
   "cell_type": "code",
   "execution_count": 64,
   "id": "ceb540ce",
   "metadata": {},
   "outputs": [
    {
     "name": "stdout",
     "output_type": "stream",
     "text": [
      "['banana']\n"
     ]
    }
   ],
   "source": [
    "fruits=['apple','mango','banana']\n",
    "newlist=[x for x in fruits if 'b' in x]\n",
    "print(newlist)"
   ]
  },
  {
   "cell_type": "code",
   "execution_count": 66,
   "id": "257f761e",
   "metadata": {},
   "outputs": [
    {
     "name": "stdout",
     "output_type": "stream",
     "text": [
      "[2, 4, 6, 8, 10]\n"
     ]
    }
   ],
   "source": [
    "x=[1,2,3,4,5,6,7,8,9,10]\n",
    "x1=[i for i in x if i%2==0]\n",
    "print(x1)"
   ]
  },
  {
   "cell_type": "code",
   "execution_count": 68,
   "id": "c044e324",
   "metadata": {},
   "outputs": [
    {
     "name": "stdout",
     "output_type": "stream",
     "text": [
      "[2, 3, 4, 5, 6, 7, 8, 9, 10, 11]\n"
     ]
    }
   ],
   "source": [
    "x2=[i+1 for i in x]\n",
    "print(x2)"
   ]
  },
  {
   "cell_type": "code",
   "execution_count": 69,
   "id": "d179b21b",
   "metadata": {},
   "outputs": [
    {
     "name": "stdout",
     "output_type": "stream",
     "text": [
      "[5, 6, 7, 8, 9, 10]\n"
     ]
    }
   ],
   "source": [
    "a=[]\n",
    "for i in x:\n",
    "    if i>4:\n",
    "        a.append(i)\n",
    "print(a)"
   ]
  },
  {
   "cell_type": "code",
   "execution_count": 70,
   "id": "1b7b8243",
   "metadata": {},
   "outputs": [
    {
     "name": "stdout",
     "output_type": "stream",
     "text": [
      "[1, 3, 5, 7, 9]\n"
     ]
    }
   ],
   "source": [
    "x3=[i for i in x if i%2!=0]\n",
    "print(x3)"
   ]
  },
  {
   "cell_type": "code",
   "execution_count": 71,
   "id": "946d49e9",
   "metadata": {},
   "outputs": [
    {
     "name": "stdout",
     "output_type": "stream",
     "text": [
      "[6, 8, 10]\n"
     ]
    }
   ],
   "source": [
    "x4=[i for i in x if i>4 if i%2==0]\n",
    "print(x4)"
   ]
  },
  {
   "cell_type": "code",
   "execution_count": 73,
   "id": "bb629e8c",
   "metadata": {},
   "outputs": [
    {
     "name": "stdout",
     "output_type": "stream",
     "text": [
      "['less than 4', 'less than 4', 'less than 4', 'less than 4', 5, 6, 7, 8, 9, 10]\n"
     ]
    }
   ],
   "source": [
    "x5=[i if i>4 else 'less than 4' for i in x]\n",
    "print(x5)"
   ]
  },
  {
   "cell_type": "code",
   "execution_count": 74,
   "id": "74edc2dd",
   "metadata": {},
   "outputs": [
    {
     "name": "stdout",
     "output_type": "stream",
     "text": [
      "['not 2 0r 3', 'two', 'three', 'two', 'not 2 0r 3', 'two', 'not 2 0r 3', 'two', 'three', 'two']\n"
     ]
    }
   ],
   "source": [
    "x6=['two' if i%2==0 else 'three' if i%3==0 else 'not 2 0r 3' for i in x]\n",
    "print(x6)"
   ]
  },
  {
   "cell_type": "code",
   "execution_count": null,
   "id": "8c90601e",
   "metadata": {},
   "outputs": [],
   "source": []
  }
 ],
 "metadata": {
  "kernelspec": {
   "display_name": "Python 3 (ipykernel)",
   "language": "python",
   "name": "python3"
  },
  "language_info": {
   "codemirror_mode": {
    "name": "ipython",
    "version": 3
   },
   "file_extension": ".py",
   "mimetype": "text/x-python",
   "name": "python",
   "nbconvert_exporter": "python",
   "pygments_lexer": "ipython3",
   "version": "3.10.4"
  }
 },
 "nbformat": 4,
 "nbformat_minor": 5
}
