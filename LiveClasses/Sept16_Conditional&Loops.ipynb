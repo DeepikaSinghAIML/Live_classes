{
 "cells": [
  {
   "cell_type": "code",
   "execution_count": 3,
   "id": "37be9eae",
   "metadata": {},
   "outputs": [
    {
     "name": "stdout",
     "output_type": "stream",
     "text": [
      "I will be able to buy\n"
     ]
    }
   ],
   "source": [
    "a=500\n",
    "price=450\n",
    "if price<=500:\n",
    "    print(\"I will be able to buy\")"
   ]
  },
  {
   "cell_type": "code",
   "execution_count": 4,
   "id": "daec2908",
   "metadata": {},
   "outputs": [
    {
     "data": {
      "text/plain": [
       "True"
      ]
     },
     "execution_count": 4,
     "metadata": {},
     "output_type": "execute_result"
    }
   ],
   "source": [
    "price<=500"
   ]
  },
  {
   "cell_type": "code",
   "execution_count": 5,
   "id": "53c43628",
   "metadata": {},
   "outputs": [
    {
     "name": "stdout",
     "output_type": "stream",
     "text": [
      "I wont be able to buy\n"
     ]
    }
   ],
   "source": [
    "a=500\n",
    "price=850\n",
    "if price<=500:\n",
    "    print(\"I will be able to buy\")\n",
    "else:\n",
    "    print(\"I wont be able to buy\")"
   ]
  },
  {
   "cell_type": "code",
   "execution_count": 8,
   "id": "0cdd8180",
   "metadata": {},
   "outputs": [
    {
     "name": "stdout",
     "output_type": "stream",
     "text": [
      "This is a testing block\n",
      "I will buy shirt\n"
     ]
    }
   ],
   "source": [
    "a=500\n",
    "shirt_price=200\n",
    "pant_price=500\n",
    "coat_price=800\n",
    "if True:\n",
    "    print(\"This is a testing block\")\n",
    "if coat_price<=a:\n",
    "    print(\"I can buy coat\")\n",
    "elif pant_price<500:\n",
    "    print(\"I will buy pant\")\n",
    "elif shirt_price<500:\n",
    "    print(\"I will buy shirt\")\n",
    "else:\n",
    "    print(\"I wont be able to buy\")"
   ]
  },
  {
   "cell_type": "code",
   "execution_count": 9,
   "id": "d8dcedc3",
   "metadata": {},
   "outputs": [
    {
     "name": "stdout",
     "output_type": "stream",
     "text": [
      "Yes it is available under my budget\n"
     ]
    }
   ],
   "source": [
    "a=500\n",
    "shirt_price=200\n",
    "pant_price=500\n",
    "coat_price=800\n",
    "My_size='S'\n",
    "size_store='L'\n",
    "if coat_price<=a:\n",
    "    print(\"I can buy coat\")\n",
    "elif pant_price<500:\n",
    "    print(\"I will buy pant\")\n",
    "elif shirt_price<500:\n",
    "    print(\"Yes it is available under my budget\")\n",
    "    if My_size==size_store:        \n",
    "        print(\"I will buy shirt\")\n",
    "else:\n",
    "    print(\"I wont be able to buy\")"
   ]
  },
  {
   "cell_type": "code",
   "execution_count": 14,
   "id": "35b73ed6",
   "metadata": {},
   "outputs": [
    {
     "name": "stdout",
     "output_type": "stream",
     "text": [
      "Yes it is available under my budget\n",
      "I will buy shirt\n",
      "i will wear white\n"
     ]
    }
   ],
   "source": [
    "a=500\n",
    "shirt_price=200\n",
    "pant_price=500\n",
    "coat_price=800\n",
    "My_size='S'\n",
    "size_store=['L','M','XL','XXL','S']\n",
    "my_fav_clr='white'\n",
    "store_clr=['white','red','blue','orange']\n",
    "if coat_price<=a:\n",
    "    print(\"I can buy coat\")\n",
    "elif pant_price<500:\n",
    "    print(\"I will buy pant\")\n",
    "elif shirt_price<500:\n",
    "    print(\"Yes it is available under my budget\")\n",
    "    if My_size in size_store:        \n",
    "        print(\"I will buy shirt\")\n",
    "        if my_fav_clr in store_clr:\n",
    "            print(\"i will wear white\")\n",
    "        else:\n",
    "            print(\"My fav colour is not available\")\n",
    "    else:\n",
    "        print(\"MY size is not available\")\n",
    "else:\n",
    "    print(\"I wont be able to buy\")"
   ]
  },
  {
   "cell_type": "code",
   "execution_count": 11,
   "id": "67c445d6",
   "metadata": {},
   "outputs": [
    {
     "data": {
      "text/plain": [
       "False"
      ]
     },
     "execution_count": 11,
     "metadata": {},
     "output_type": "execute_result"
    }
   ],
   "source": [
    "'S' in size_store"
   ]
  },
  {
   "cell_type": "code",
   "execution_count": 15,
   "id": "766accde",
   "metadata": {},
   "outputs": [
    {
     "name": "stdout",
     "output_type": "stream",
     "text": [
      "YES i am doing this course\n"
     ]
    }
   ],
   "source": [
    "course=['DSM','DSA','Java','big data','da']\n",
    "price=20000\n",
    "mentor='sudhanshu kumar'\n",
    "if 'DSM' in course and price==20000 and mentor=='sudhanshu kumar':\n",
    "    print(\"YES i am doing this course\")"
   ]
  },
  {
   "cell_type": "code",
   "execution_count": 16,
   "id": "dcfc14b4",
   "metadata": {},
   "outputs": [
    {
     "name": "stdout",
     "output_type": "stream",
     "text": [
      "It is out of my budget\n"
     ]
    }
   ],
   "source": [
    "course_price=20000\n",
    "if 10000<=course_price<=15000:\n",
    "    print(\"I will buy this course\")\n",
    "else:\n",
    "    print(\"It is out of my budget\")"
   ]
  },
  {
   "cell_type": "code",
   "execution_count": 18,
   "id": "7b028e69",
   "metadata": {},
   "outputs": [
    {
     "name": "stdout",
     "output_type": "stream",
     "text": [
      "Enter user namedeeps\n",
      "Enter passworddeep@123\n",
      "You have logged in successfully\n"
     ]
    }
   ],
   "source": [
    "user_name='deeps'\n",
    "password='deep@123'\n",
    "if user_name==input(\"Enter user name\") and password==input(\"Enter password\"):\n",
    "    print(\"You have logged in successfully\")\n",
    "else:\n",
    "    print(\"Incorrect username and password\")\n"
   ]
  },
  {
   "cell_type": "code",
   "execution_count": 23,
   "id": "6841375d",
   "metadata": {},
   "outputs": [
    {
     "name": "stdout",
     "output_type": "stream",
     "text": [
      "Enter registered mobile number:123456\n",
      "yes you are a registered user\n",
      "Enter otp457\n",
      "you have logged in successfully\n"
     ]
    }
   ],
   "source": [
    "mobile_no=123456\n",
    "otp=457\n",
    "if mobile_no==int(input(\"Enter registered mobile number:\")):\n",
    "    print(\"yes you are a registered user\")\n",
    "    if otp==int(input(\"Enter otp\")):\n",
    "        print(\"you have logged in successfully\")\n",
    "    else:\n",
    "        print(\"Incorrect otp\")\n",
    "else:\n",
    "    print(\"you have not entered a valid mobile number\")"
   ]
  },
  {
   "cell_type": "code",
   "execution_count": 24,
   "id": "0422fc2d",
   "metadata": {},
   "outputs": [
    {
     "name": "stdout",
     "output_type": "stream",
     "text": [
      "Enter registered mobile number:9342252\n",
      "yes you are a registered user\n",
      "Enter otp457\n",
      "you have logged in successfully\n"
     ]
    }
   ],
   "source": [
    "mobile_no={9394324,9234222,9342252,9356322}\n",
    "otp=457\n",
    "if int(input(\"Enter registered mobile number:\")) in mobile_no:\n",
    "    print(\"yes you are a registered user\")\n",
    "    if otp==int(input(\"Enter otp\")):\n",
    "        print(\"you have logged in successfully\")\n",
    "    else:\n",
    "        print(\"Incorrect otp\")\n",
    "else:\n",
    "    print(\"you have not entered a valid mobile number\")"
   ]
  },
  {
   "cell_type": "code",
   "execution_count": 26,
   "id": "424077d7",
   "metadata": {},
   "outputs": [
    {
     "name": "stdout",
     "output_type": "stream",
     "text": [
      "1\n",
      "3\n",
      "4\n",
      "2\n",
      "2\n",
      "34\n",
      "4\n",
      "3\n",
      "2\n"
     ]
    }
   ],
   "source": [
    "l=[1,3,4,2,2,34,4,3,2]\n",
    "for i in l:\n",
    "    print(i)"
   ]
  },
  {
   "cell_type": "code",
   "execution_count": 33,
   "id": "80a32b42",
   "metadata": {},
   "outputs": [
    {
     "name": "stdout",
     "output_type": "stream",
     "text": [
      "9394324\n",
      "9234222\n",
      "9342252\n",
      "user is registered\n",
      "student details are available in DB\n",
      "course accsessed to the user is ['dsa', 'dsm', 'java', 'da']\n",
      "9356322\n"
     ]
    }
   ],
   "source": [
    "mobile_no=[9394324,9234222,9342252,9356322]\n",
    "student_no=9342252\n",
    "student_details={'mobile_no':9342252, 'course':['dsa','dsm','java','da']}\n",
    "for i in mobile_no:\n",
    "    print(i)\n",
    "    if i==student_no:\n",
    "        print('user is registered')\n",
    "        if i==student_details['mobile_no']:\n",
    "            print(\"student details are available in DB\")\n",
    "            print(\"course accsessed to the user is\",student_details['course'])"
   ]
  },
  {
   "cell_type": "code",
   "execution_count": 37,
   "id": "1499ef2c",
   "metadata": {},
   "outputs": [
    {
     "name": "stdout",
     "output_type": "stream",
     "text": [
      "[2, 3, 4, 2, 1, 7, 8]\n",
      "['deepika', 'singh']\n"
     ]
    }
   ],
   "source": [
    "t=(2,3,4,2,1,7,8,'deepika','singh')\n",
    "l_int=[]\n",
    "l_str=[]\n",
    "for i in t:\n",
    "    if type(i)==str:\n",
    "        l_str.append(i)\n",
    "    else:\n",
    "        l_int.append(i)\n",
    "print(l_int)\n",
    "print(l_str)"
   ]
  },
  {
   "cell_type": "code",
   "execution_count": 38,
   "id": "699080ab",
   "metadata": {},
   "outputs": [
    {
     "name": "stdout",
     "output_type": "stream",
     "text": [
      "32\n",
      "1\n",
      "3\n",
      "4\n",
      "5\n",
      "6\n",
      "7\n"
     ]
    }
   ],
   "source": [
    "s={3,5,32,4,3,1,5,6,7}\n",
    "for i in s:\n",
    "    print(i)"
   ]
  },
  {
   "cell_type": "code",
   "execution_count": 39,
   "id": "21fc4363",
   "metadata": {},
   "outputs": [],
   "source": [
    "d={'name':'sudh','class':['big data','data sciene','dsa','data analytics'], 'mobile_no':93434564,'email_id':'sskuma234@gmail.com'}"
   ]
  },
  {
   "cell_type": "code",
   "execution_count": 40,
   "id": "9638d63c",
   "metadata": {},
   "outputs": [
    {
     "data": {
      "text/plain": [
       "{'name': 'sudh',\n",
       " 'class': ['big data', 'data sciene', 'dsa', 'data analytics'],\n",
       " 'mobile_no': 93434564,\n",
       " 'email_id': 'sskuma234@gmail.com'}"
      ]
     },
     "execution_count": 40,
     "metadata": {},
     "output_type": "execute_result"
    }
   ],
   "source": [
    "d"
   ]
  },
  {
   "cell_type": "code",
   "execution_count": 41,
   "id": "4921c6a7",
   "metadata": {},
   "outputs": [
    {
     "data": {
      "text/plain": [
       "dict_values(['sudh', ['big data', 'data sciene', 'dsa', 'data analytics'], 93434564, 'sskuma234@gmail.com'])"
      ]
     },
     "execution_count": 41,
     "metadata": {},
     "output_type": "execute_result"
    }
   ],
   "source": [
    "d.values()"
   ]
  },
  {
   "cell_type": "code",
   "execution_count": 43,
   "id": "0226a154",
   "metadata": {},
   "outputs": [
    {
     "data": {
      "text/plain": [
       "dict_keys(['name', 'class', 'mobile_no', 'email_id'])"
      ]
     },
     "execution_count": 43,
     "metadata": {},
     "output_type": "execute_result"
    }
   ],
   "source": [
    "d.keys()"
   ]
  },
  {
   "cell_type": "code",
   "execution_count": 44,
   "id": "2bcb4306",
   "metadata": {},
   "outputs": [
    {
     "data": {
      "text/plain": [
       "dict_items([('name', 'sudh'), ('class', ['big data', 'data sciene', 'dsa', 'data analytics']), ('mobile_no', 93434564), ('email_id', 'sskuma234@gmail.com')])"
      ]
     },
     "execution_count": 44,
     "metadata": {},
     "output_type": "execute_result"
    }
   ],
   "source": [
    "d.items()"
   ]
  },
  {
   "cell_type": "code",
   "execution_count": 45,
   "id": "9bf2adb4",
   "metadata": {},
   "outputs": [
    {
     "name": "stdout",
     "output_type": "stream",
     "text": [
      "sudh\n",
      "['big data', 'data sciene', 'dsa', 'data analytics']\n",
      "93434564\n",
      "sskuma234@gmail.com\n"
     ]
    }
   ],
   "source": [
    "for i in d.values():\n",
    "    print(i)"
   ]
  },
  {
   "cell_type": "code",
   "execution_count": 47,
   "id": "0743739d",
   "metadata": {},
   "outputs": [
    {
     "name": "stdout",
     "output_type": "stream",
     "text": [
      "yes  this mentor teaches dsa\n"
     ]
    }
   ],
   "source": [
    "for i in d.values():\n",
    "    if type(i)==list:\n",
    "        if 'dsa'in i:\n",
    "            print(\"yes  this mentor teaches dsa\")"
   ]
  },
  {
   "cell_type": "code",
   "execution_count": null,
   "id": "5957ad8f",
   "metadata": {},
   "outputs": [],
   "source": []
  }
 ],
 "metadata": {
  "kernelspec": {
   "display_name": "Python 3 (ipykernel)",
   "language": "python",
   "name": "python3"
  },
  "language_info": {
   "codemirror_mode": {
    "name": "ipython",
    "version": 3
   },
   "file_extension": ".py",
   "mimetype": "text/x-python",
   "name": "python",
   "nbconvert_exporter": "python",
   "pygments_lexer": "ipython3",
   "version": "3.10.4"
  }
 },
 "nbformat": 4,
 "nbformat_minor": 5
}
