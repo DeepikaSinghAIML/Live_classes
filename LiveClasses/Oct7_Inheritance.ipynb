{
 "cells": [
  {
   "cell_type": "markdown",
   "id": "d96b274f",
   "metadata": {},
   "source": [
    "## Inheritance\n",
    "Inheritance allows us to define a class that inherits all the methods and properties from another class.\n",
    "\n",
    "**Parent class** is the class being inherited from, also called base class.\n",
    "\n",
    "**Child class** is the class that inherits from another class, also called derived class.\n",
    "\n"
   ]
  },
  {
   "cell_type": "code",
   "execution_count": 7,
   "id": "455fdded",
   "metadata": {},
   "outputs": [],
   "source": [
    "class a:\n",
    "    def test(self):\n",
    "        print(\"this test method is a part of class a\")\n",
    "        \n",
    "    def test1(self):\n",
    "        print(\"this is test1 from class a\")"
   ]
  },
  {
   "cell_type": "code",
   "execution_count": 8,
   "id": "f0250945",
   "metadata": {},
   "outputs": [],
   "source": [
    "obj_a=a()"
   ]
  },
  {
   "cell_type": "code",
   "execution_count": 9,
   "id": "984b1780",
   "metadata": {},
   "outputs": [
    {
     "name": "stdout",
     "output_type": "stream",
     "text": [
      "this test method is a part of class a\n"
     ]
    }
   ],
   "source": [
    "obj_a.test()"
   ]
  },
  {
   "cell_type": "code",
   "execution_count": 14,
   "id": "6da607ff",
   "metadata": {},
   "outputs": [],
   "source": [
    "class b(a):\n",
    "    \n",
    "    def test1b(self):\n",
    "        print(\"this is a part of class b\")"
   ]
  },
  {
   "cell_type": "code",
   "execution_count": 15,
   "id": "7b419b6a",
   "metadata": {},
   "outputs": [],
   "source": [
    "obj_b=b()"
   ]
  },
  {
   "cell_type": "code",
   "execution_count": 16,
   "id": "f87f8f6c",
   "metadata": {},
   "outputs": [
    {
     "name": "stdout",
     "output_type": "stream",
     "text": [
      "this test method is a part of class a\n"
     ]
    }
   ],
   "source": [
    "obj_b.test()"
   ]
  },
  {
   "cell_type": "code",
   "execution_count": 17,
   "id": "053b789b",
   "metadata": {},
   "outputs": [
    {
     "name": "stdout",
     "output_type": "stream",
     "text": [
      "this is test1 from class a\n"
     ]
    }
   ],
   "source": [
    "obj_b.test1()"
   ]
  },
  {
   "cell_type": "code",
   "execution_count": 18,
   "id": "4fb9d09d",
   "metadata": {},
   "outputs": [
    {
     "name": "stdout",
     "output_type": "stream",
     "text": [
      "this is a part of class b\n"
     ]
    }
   ],
   "source": [
    "obj_b.test1b()"
   ]
  },
  {
   "cell_type": "markdown",
   "id": "6a0cee73",
   "metadata": {},
   "source": [
    "## Multilevel Inheritance\n",
    "In multilevel inheritance, features of the base class and the derived class are further inherited into the new derived class. This is similar to a relationship representing a child and a grandfather. "
   ]
  },
  {
   "cell_type": "markdown",
   "id": "dd82fc29",
   "metadata": {},
   "source": [
    "<div style=\"border: 1px solid black; padding: 10px; background-color: #f1f1f1; text-align: center;\">\n",
    "  <strong>A</strong><br>\n",
    "  Parent Class or Base Class\n",
    "</div>\n"
   ]
  },
  {
   "cell_type": "markdown",
   "id": "e054cb8d",
   "metadata": {},
   "source": [
    "<div style=\"width: 0; height: 0; border-left: 10px solid transparent; border-right: 10px solid transparent; border-top: 20px solid black; margin-left: auto; margin-right: auto;\"></div>\n"
   ]
  },
  {
   "cell_type": "markdown",
   "id": "980c47f1",
   "metadata": {},
   "source": [
    "<div style=\"border: 1px solid black; padding: 10px; background-color: #f1f1f1; text-align: center;\">\n",
    "  <strong>B</strong><br>\n",
    "  Intermediatory Class\n",
    "</div>"
   ]
  },
  {
   "cell_type": "markdown",
   "id": "c3941ca8",
   "metadata": {},
   "source": [
    "<div style=\"width: 0; height: 0; border-left: 10px solid transparent; border-right: 10px solid transparent; border-top: 20px solid black; margin-left: auto; margin-right: auto;\"></div>\n"
   ]
  },
  {
   "cell_type": "markdown",
   "id": "ea92aa7d",
   "metadata": {},
   "source": [
    "<div style=\"border: 1px solid black; padding: 10px; background-color: #f1f1f1; text-align: center;\">\n",
    "  <strong>C</strong><br>\n",
    "  Child Class or Derived Class \n",
    "</div>"
   ]
  },
  {
   "cell_type": "code",
   "execution_count": 20,
   "id": "a5eb9803",
   "metadata": {},
   "outputs": [],
   "source": [
    "class lecture:\n",
    "    def topic(self):\n",
    "        print(\"Today's topic is all about Inheritance in OOPs\")\n",
    "        \n",
    "    def timing(self):\n",
    "        print(\"Today's timing is from 9 AM IST\")\n",
    "        \n",
    "    def end_time(self):\n",
    "        print(\"Today the class will end a bit early\")"
   ]
  },
  {
   "cell_type": "code",
   "execution_count": 21,
   "id": "8ef2496b",
   "metadata": {},
   "outputs": [],
   "source": [
    "class student(lecture):\n",
    "    def student_details(self):\n",
    "        print(\"this class will give you student details\")\n",
    "        \n",
    "    "
   ]
  },
  {
   "cell_type": "code",
   "execution_count": 22,
   "id": "f9ac1b33",
   "metadata": {},
   "outputs": [],
   "source": [
    "deepika=student()"
   ]
  },
  {
   "cell_type": "code",
   "execution_count": 23,
   "id": "4a63b07b",
   "metadata": {},
   "outputs": [
    {
     "name": "stdout",
     "output_type": "stream",
     "text": [
      "Today's topic is all about Inheritance in OOPs\n"
     ]
    }
   ],
   "source": [
    "deepika.topic()"
   ]
  },
  {
   "cell_type": "code",
   "execution_count": 24,
   "id": "278d9a1b",
   "metadata": {},
   "outputs": [],
   "source": [
    "harshit=student()"
   ]
  },
  {
   "cell_type": "code",
   "execution_count": 25,
   "id": "2895b819",
   "metadata": {},
   "outputs": [
    {
     "name": "stdout",
     "output_type": "stream",
     "text": [
      "Today's timing is from 9 AM IST\n"
     ]
    }
   ],
   "source": [
    "harshit.timing()"
   ]
  },
  {
   "cell_type": "code",
   "execution_count": 26,
   "id": "35e3c7d6",
   "metadata": {},
   "outputs": [],
   "source": [
    "class teacher(student):\n",
    "    def details(self):\n",
    "        print(\"this will give you details about the teacher\")\n",
    "        \n",
    "        "
   ]
  },
  {
   "cell_type": "code",
   "execution_count": 27,
   "id": "56e6ca2a",
   "metadata": {},
   "outputs": [],
   "source": [
    "sudh=teacher()"
   ]
  },
  {
   "cell_type": "code",
   "execution_count": 28,
   "id": "9705a1af",
   "metadata": {},
   "outputs": [
    {
     "name": "stdout",
     "output_type": "stream",
     "text": [
      "Today's timing is from 9 AM IST\n"
     ]
    }
   ],
   "source": [
    "sudh.timing()"
   ]
  },
  {
   "cell_type": "markdown",
   "id": "6a2efa87",
   "metadata": {},
   "source": [
    "## Multiple Inheritance\n",
    "When a class can be derived from more than one base class this type of inheritance is called multiple inheritances. In multiple inheritances, all the features of the base classes are inherited into the derived class. "
   ]
  },
  {
   "cell_type": "markdown",
   "id": "6a422b35",
   "metadata": {},
   "source": [
    "<div style=\"border: 1px solid black; padding: 10px; background-color: #f1f1f1; text-align: center;\">\n",
    "  <strong>A&nbsp;&nbsp;&nbsp;&nbsp;&nbsp;&nbsp;&nbsp;&nbsp;&nbsp;&nbsp;&nbsp;&nbsp;&nbsp;&nbsp;&nbsp;&nbsp;&nbsp;&nbsp;&nbsp;&nbsp;&nbsp;&nbsp;&nbsp;&nbsp;&nbsp;&nbsp;&nbsp;&nbsp;&nbsp;&nbsp;&nbsp;&nbsp;&nbsp;&nbsp;&nbsp;&nbsp;&nbsp;&nbsp;&nbsp;&nbsp;&nbsp;&nbsp;&nbsp;&nbsp;&nbsp;&nbsp;&nbsp;&nbsp;&nbsp;&nbsp;&nbsp;&nbsp;&nbsp;&nbsp;&nbsp;&nbsp;&nbsp;&nbsp;&nbsp;&nbsp;&nbsp;&nbsp;&nbsp;&nbsp;&nbsp;&nbsp;&nbsp;&nbsp;&nbsp;&nbsp;&nbsp;&nbsp;&nbsp;&nbsp;&nbsp;&nbsp;&nbsp;&nbsp;&nbsp;&nbsp;&nbsp;&nbsp;&nbsp;&nbsp;&nbsp;&nbsp;&nbsp;&nbsp;&nbsp;&nbsp;&nbsp;&nbsp;&nbsp;&nbsp;&nbsp;&nbsp;&nbsp;&nbsp;&nbsp;&nbsp;&nbsp;&nbsp;&nbsp;&nbsp;&nbsp;&nbsp;&nbsp;&nbsp;&nbsp;&nbsp;&nbsp;&nbsp;&nbsp;&nbsp;&nbsp;&nbsp;&nbsp;&nbsp;&nbsp;B\n"
   ]
  },
  {
   "cell_type": "markdown",
   "id": "5f372fdc",
   "metadata": {},
   "source": [
    "<div style=\"display: flex; justify-content: space-around;\">\n",
    "    <div style=\"width: 0; height: 0; border-left: 10px solid transparent; border-right: 10px solid transparent; border-top: 20px solid black; margin: 0 auto;\"></div>\n",
    "    <div style=\"width: 0; height: 0; border-left: 10px solid transparent; border-right: 10px solid transparent; border-top: 20px solid black; margin: 0 auto;\"></div>\n",
    "</div>\n",
    "\n"
   ]
  },
  {
   "cell_type": "markdown",
   "id": "6afad659",
   "metadata": {},
   "source": [
    "<div style=\"border: 1px solid black; padding: 10px; background-color: #f1f1f1; text-align: center;\">\n",
    "  <strong>C</strong><br>\n",
    "\n",
    "</div>"
   ]
  },
  {
   "cell_type": "code",
   "execution_count": 29,
   "id": "50da3187",
   "metadata": {},
   "outputs": [],
   "source": [
    "class lecture:\n",
    "    def topic(self):\n",
    "        print(\"Today's topic is all about Inheritance in OOPs\")\n",
    "        \n",
    "    def timing(self):\n",
    "        print(\"Today's timing is from 9 AM IST\")\n",
    "        \n",
    "    def end_time(self):\n",
    "        print(\"Today the class will end a bit early\")"
   ]
  },
  {
   "cell_type": "code",
   "execution_count": 32,
   "id": "c00a2113",
   "metadata": {},
   "outputs": [],
   "source": [
    "class student:\n",
    "    def student_details(self):\n",
    "        print(\"this class will give you student details\")\n",
    "        "
   ]
  },
  {
   "cell_type": "code",
   "execution_count": 48,
   "id": "fd13df84",
   "metadata": {},
   "outputs": [],
   "source": [
    "class teacher(student,lecture):\n",
    "    def details(self):\n",
    "        print(\"this will give you details about the teacher\")\n",
    "        "
   ]
  },
  {
   "cell_type": "code",
   "execution_count": 49,
   "id": "4579a0cc",
   "metadata": {},
   "outputs": [],
   "source": [
    "krish=teacher()"
   ]
  },
  {
   "cell_type": "code",
   "execution_count": 50,
   "id": "c41d47ff",
   "metadata": {},
   "outputs": [
    {
     "name": "stdout",
     "output_type": "stream",
     "text": [
      "this is a timing function from student class\n"
     ]
    }
   ],
   "source": [
    "krish.timing()"
   ]
  },
  {
   "cell_type": "code",
   "execution_count": 51,
   "id": "522dcdc1",
   "metadata": {},
   "outputs": [
    {
     "name": "stdout",
     "output_type": "stream",
     "text": [
      "this class will give you student details\n"
     ]
    }
   ],
   "source": [
    "krish.student_details()"
   ]
  },
  {
   "cell_type": "markdown",
   "id": "1a685f2c",
   "metadata": {},
   "source": [
    "### Multiple Inheritance does not cause ambiguity in Python\n",
    "If the function name is same in the base classes then class which is written first in order when we inherit it in the derived class, is invoked."
   ]
  },
  {
   "cell_type": "code",
   "execution_count": 52,
   "id": "c1db8244",
   "metadata": {},
   "outputs": [],
   "source": [
    "class lecture:\n",
    "    def topic(self):\n",
    "        print(\"Today's topic is all about Inheritance in OOPs\")\n",
    "        \n",
    "    def timing(self):\n",
    "        print(\"Today's timing is from 9 AM IST\")\n",
    "        \n",
    "    def end_time(self):\n",
    "        print(\"Today the class will end a bit early\")"
   ]
  },
  {
   "cell_type": "code",
   "execution_count": 53,
   "id": "6615783a",
   "metadata": {},
   "outputs": [],
   "source": [
    "class student:\n",
    "    def student_details(self):\n",
    "        print(\"this class will give you student details\")\n",
    "        \n",
    "    def timing(self):\n",
    "        print(\"this is a timing function from student class\")"
   ]
  },
  {
   "cell_type": "code",
   "execution_count": 54,
   "id": "1069ca1a",
   "metadata": {},
   "outputs": [],
   "source": [
    "class teacher(student,lecture):\n",
    "    def details(self):\n",
    "        print(\"this will give you details about the teacher\")\n",
    "        "
   ]
  },
  {
   "cell_type": "code",
   "execution_count": 55,
   "id": "f2481484",
   "metadata": {},
   "outputs": [],
   "source": [
    "krish=teacher()"
   ]
  },
  {
   "cell_type": "code",
   "execution_count": 56,
   "id": "17e8b2ac",
   "metadata": {},
   "outputs": [
    {
     "name": "stdout",
     "output_type": "stream",
     "text": [
      "this is a timing function from student class\n"
     ]
    }
   ],
   "source": [
    "krish.timing()"
   ]
  },
  {
   "cell_type": "code",
   "execution_count": 61,
   "id": "f9d5cc70",
   "metadata": {},
   "outputs": [],
   "source": [
    "class teacher(lecture,student):\n",
    "    def details(self):\n",
    "        print(\"this will give you details about the teacher\")"
   ]
  },
  {
   "cell_type": "code",
   "execution_count": 62,
   "id": "e53d9969",
   "metadata": {},
   "outputs": [],
   "source": [
    "krish=teacher()"
   ]
  },
  {
   "cell_type": "code",
   "execution_count": 63,
   "id": "7edb8172",
   "metadata": {},
   "outputs": [
    {
     "name": "stdout",
     "output_type": "stream",
     "text": [
      "Today's timing is from 9 AM IST\n"
     ]
    }
   ],
   "source": [
    "krish.timing()"
   ]
  },
  {
   "cell_type": "markdown",
   "id": "c43d2aa2",
   "metadata": {},
   "source": [
    "## the super() Function\n",
    "Python also has a super() function that will make the child class inherit all the methods and properties from its parent.\n",
    "By using the super() function, you do not have to use the name of the parent element, it will automatically inherit the methods and properties from its parent.\n",
    "\n"
   ]
  },
  {
   "cell_type": "code",
   "execution_count": 1,
   "id": "435b8613",
   "metadata": {},
   "outputs": [],
   "source": [
    "class pwskills:\n",
    "    def __init__(self, mentor):\n",
    "        self.mentor=mentor\n",
    "        \n",
    "    def mentor_name(self):\n",
    "        print(self.mentor)\n",
    "        \n",
    "class datascience(pwskills):\n",
    "    def __init__(self, mentor, mentor_mail_id):\n",
    "        self.mentor=mentor\n",
    "        self.mentor_mail_id=mentor_mail_id\n",
    "        \n",
    "    def show_info(self):\n",
    "        print(self.mentor, self.mentor_mail_id)\n"
   ]
  },
  {
   "cell_type": "code",
   "execution_count": 2,
   "id": "70aa9abd",
   "metadata": {},
   "outputs": [],
   "source": [
    "python_basic=datascience('deeps','deeps@gmail.com')"
   ]
  },
  {
   "cell_type": "code",
   "execution_count": 3,
   "id": "beba368b",
   "metadata": {},
   "outputs": [
    {
     "name": "stdout",
     "output_type": "stream",
     "text": [
      "deeps deeps@gmail.com\n"
     ]
    }
   ],
   "source": [
    "python_basic.show_info()"
   ]
  },
  {
   "cell_type": "code",
   "execution_count": 4,
   "id": "673e54eb",
   "metadata": {},
   "outputs": [
    {
     "name": "stdout",
     "output_type": "stream",
     "text": [
      "deeps\n"
     ]
    }
   ],
   "source": [
    "python_basic.mentor_name()"
   ]
  },
  {
   "cell_type": "code",
   "execution_count": null,
   "id": "0aaa1697",
   "metadata": {},
   "outputs": [],
   "source": [
    "class pwskills:\n",
    "    def __init__(self, mentor):\n",
    "        self.mentor=mentor\n",
    "        \n",
    "    def mentor_name(self):\n",
    "        print(self.mentor)\n",
    "        \n",
    "class datascience(pwskills):\n",
    "    def __init__(self, mentor, mentor_mail_id):\n",
    "        super().__init__(mentor)\n",
    "#         self.mentor=mentor\n",
    "        self.mentor_mail_id=mentor_mail_id\n",
    "        \n",
    "    def show_info(self):\n",
    "        print(self.mentor, self.mentor_mail_id)\n",
    "\n"
   ]
  },
  {
   "cell_type": "code",
   "execution_count": null,
   "id": "5332b925",
   "metadata": {},
   "outputs": [],
   "source": [
    "python_basic=datascience('deeps','deeps@gmail.com')"
   ]
  },
  {
   "cell_type": "code",
   "execution_count": null,
   "id": "388bc8d1",
   "metadata": {},
   "outputs": [],
   "source": [
    "python_basic.show_info()"
   ]
  },
  {
   "cell_type": "code",
   "execution_count": null,
   "id": "0d011609",
   "metadata": {},
   "outputs": [],
   "source": [
    "python_basic.mentor_name()"
   ]
  },
  {
   "cell_type": "code",
   "execution_count": 2,
   "id": "6ba7aea5",
   "metadata": {},
   "outputs": [],
   "source": [
    "class pwskills:\n",
    "    def __init__(self, mentor):\n",
    "        self.mentor=mentor\n",
    "        \n",
    "    def mentor_name(self):\n",
    "        print(self.mentor)\n",
    "        \n",
    "class datascience(pwskills):\n",
    "    def __init__(self, mentor, mentor_mail_id):\n",
    "        super().__init__(mentor)\n",
    "#         self.mentor=mentor\n",
    "        self.mentor_mail_id=mentor_mail_id\n",
    "        \n",
    "    def show_info(self):\n",
    "        mentor_name()\n",
    "        print(self.mentor, self.mentor_mail_id)\n"
   ]
  },
  {
   "cell_type": "code",
   "execution_count": 3,
   "id": "fc7676c9",
   "metadata": {},
   "outputs": [],
   "source": [
    "python_basic=datascience('deeps','deeps@gmail.com')"
   ]
  },
  {
   "cell_type": "code",
   "execution_count": 4,
   "id": "c1a35e38",
   "metadata": {},
   "outputs": [
    {
     "ename": "NameError",
     "evalue": "name 'mentor_name' is not defined",
     "output_type": "error",
     "traceback": [
      "\u001b[1;31m---------------------------------------------------------------------------\u001b[0m",
      "\u001b[1;31mNameError\u001b[0m                                 Traceback (most recent call last)",
      "Cell \u001b[1;32mIn[4], line 1\u001b[0m\n\u001b[1;32m----> 1\u001b[0m \u001b[43mpython_basic\u001b[49m\u001b[38;5;241;43m.\u001b[39;49m\u001b[43mshow_info\u001b[49m\u001b[43m(\u001b[49m\u001b[43m)\u001b[49m\n",
      "Cell \u001b[1;32mIn[2], line 15\u001b[0m, in \u001b[0;36mdatascience.show_info\u001b[1;34m(self)\u001b[0m\n\u001b[0;32m     14\u001b[0m \u001b[38;5;28;01mdef\u001b[39;00m \u001b[38;5;21mshow_info\u001b[39m(\u001b[38;5;28mself\u001b[39m):\n\u001b[1;32m---> 15\u001b[0m     \u001b[43mmentor_name\u001b[49m()\n\u001b[0;32m     16\u001b[0m     \u001b[38;5;28mprint\u001b[39m(\u001b[38;5;28mself\u001b[39m\u001b[38;5;241m.\u001b[39mmentor, \u001b[38;5;28mself\u001b[39m\u001b[38;5;241m.\u001b[39mmentor_mail_id)\n",
      "\u001b[1;31mNameError\u001b[0m: name 'mentor_name' is not defined"
     ]
    }
   ],
   "source": [
    "python_basic.show_info()"
   ]
  },
  {
   "cell_type": "code",
   "execution_count": 5,
   "id": "ce4edca6",
   "metadata": {},
   "outputs": [],
   "source": [
    "class pwskills:\n",
    "    def __init__(self, mentor):\n",
    "        self.mentor=mentor\n",
    "        \n",
    "    def mentor_name(self):\n",
    "        print(self.mentor)\n",
    "        \n",
    "class datascience(pwskills):\n",
    "    def __init__(self, mentor, mentor_mail_id):\n",
    "        super().__init__(mentor)\n",
    "#         self.mentor=mentor\n",
    "        self.mentor_mail_id=mentor_mail_id\n",
    "        \n",
    "    def show_info(self):\n",
    "        self.mentor_name()\n",
    "        print(self.mentor, self.mentor_mail_id)"
   ]
  },
  {
   "cell_type": "code",
   "execution_count": 7,
   "id": "de4aa713",
   "metadata": {},
   "outputs": [],
   "source": [
    "python_basic=datascience('deeps','deeps@gmail.com')"
   ]
  },
  {
   "cell_type": "code",
   "execution_count": 8,
   "id": "b35c0e8c",
   "metadata": {},
   "outputs": [
    {
     "name": "stdout",
     "output_type": "stream",
     "text": [
      "deeps\n",
      "deeps deeps@gmail.com\n"
     ]
    }
   ],
   "source": [
    "python_basic.show_info()"
   ]
  },
  {
   "cell_type": "code",
   "execution_count": 9,
   "id": "04f804b8",
   "metadata": {},
   "outputs": [],
   "source": [
    "class pwskills:\n",
    "    def __init__(self, mentor):\n",
    "        self.mentor=mentor\n",
    "        \n",
    "    def mentor_name(self):\n",
    "        print(self.mentor)\n",
    "        \n",
    "class datascience(pwskills):\n",
    "    def __init__(self, mentor, mentor_mail_id):\n",
    "        super().__init__(mentor)\n",
    "#         self.mentor=mentor\n",
    "        self.mentor_mail_id=mentor_mail_id\n",
    "        \n",
    "    def show_info(self):\n",
    "        super().mentor_name()\n",
    "        print(self.mentor, self.mentor_mail_id)"
   ]
  },
  {
   "cell_type": "code",
   "execution_count": 10,
   "id": "d734f0fa",
   "metadata": {},
   "outputs": [],
   "source": [
    "python_basic=datascience('deeps','deeps@gmail.com')"
   ]
  },
  {
   "cell_type": "code",
   "execution_count": 11,
   "id": "61c0ea49",
   "metadata": {},
   "outputs": [
    {
     "name": "stdout",
     "output_type": "stream",
     "text": [
      "deeps\n",
      "deeps deeps@gmail.com\n"
     ]
    }
   ],
   "source": [
    "python_basic.show_info()"
   ]
  },
  {
   "cell_type": "code",
   "execution_count": 12,
   "id": "d5f73417",
   "metadata": {},
   "outputs": [
    {
     "name": "stdout",
     "output_type": "stream",
     "text": [
      "deeps\n"
     ]
    }
   ],
   "source": [
    "python_basic.mentor_name()"
   ]
  },
  {
   "cell_type": "code",
   "execution_count": 26,
   "id": "9ac41279",
   "metadata": {},
   "outputs": [],
   "source": [
    "class human:\n",
    "    def __init__(self):\n",
    "        pass\n",
    "    \n",
    "    def eat(self):\n",
    "        print(\"print the eat method from human\")"
   ]
  },
  {
   "cell_type": "code",
   "execution_count": 18,
   "id": "c134e59c",
   "metadata": {},
   "outputs": [],
   "source": [
    "class male(human):\n",
    "    def __init__(self,name):\n",
    "        self.name=name\n",
    "        \n",
    "    def eat(self):\n",
    "        print(self.name)"
   ]
  },
  {
   "cell_type": "code",
   "execution_count": 27,
   "id": "06e68702",
   "metadata": {},
   "outputs": [],
   "source": [
    "sudh=male(\"sudhanshu\")"
   ]
  },
  {
   "cell_type": "code",
   "execution_count": 20,
   "id": "0fb02d9e",
   "metadata": {},
   "outputs": [
    {
     "name": "stdout",
     "output_type": "stream",
     "text": [
      "sudhanshu\n"
     ]
    }
   ],
   "source": [
    "sudh.eat()"
   ]
  },
  {
   "cell_type": "code",
   "execution_count": 28,
   "id": "08dd10f2",
   "metadata": {},
   "outputs": [],
   "source": [
    "class male(human):\n",
    "    def __init__(self,name):\n",
    "        self.name=name\n",
    "        \n",
    "    def eat(self):\n",
    "        super().eat()\n",
    "        print(self.name)"
   ]
  },
  {
   "cell_type": "code",
   "execution_count": 29,
   "id": "c6cfaec6",
   "metadata": {},
   "outputs": [
    {
     "name": "stdout",
     "output_type": "stream",
     "text": [
      "print the eat method from human\n",
      "sudhanshu\n"
     ]
    }
   ],
   "source": [
    "sudh.eat()"
   ]
  },
  {
   "cell_type": "code",
   "execution_count": null,
   "id": "ddabad73",
   "metadata": {},
   "outputs": [],
   "source": []
  }
 ],
 "metadata": {
  "kernelspec": {
   "display_name": "Python 3 (ipykernel)",
   "language": "python",
   "name": "python3"
  },
  "language_info": {
   "codemirror_mode": {
    "name": "ipython",
    "version": 3
   },
   "file_extension": ".py",
   "mimetype": "text/x-python",
   "name": "python",
   "nbconvert_exporter": "python",
   "pygments_lexer": "ipython3",
   "version": "3.10.4"
  }
 },
 "nbformat": 4,
 "nbformat_minor": 5
}
